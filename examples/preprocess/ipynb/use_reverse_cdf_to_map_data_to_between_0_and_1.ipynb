{
 "cells": [
  {
   "cell_type": "code",
   "execution_count": 1,
   "id": "6bedfa0d",
   "metadata": {},
   "outputs": [
    {
     "name": "stdout",
     "output_type": "stream",
     "text": [
      "We start with this dataset\n",
      "      B    C    D    E    F\n",
      "0   NaN  NaN  NaN  NaN  7.0\n",
      "1   2.0  3.0  4.0  5.0  6.0\n",
      "2   2.0  3.0  3.0  3.0  4.0\n",
      "3   2.0  3.0  3.0  3.0  5.0\n",
      "4   2.0  3.0  3.0  3.0  3.0\n",
      "5   2.0  3.0  3.0  3.0  NaN\n",
      "6   2.0  3.0  3.0  3.0  NaN\n",
      "7   2.0  3.0  NaN  3.0  NaN\n",
      "8   2.0  3.0  3.0  3.0  NaN\n",
      "9   2.0  NaN  3.0  3.0  NaN\n",
      "10  2.0  NaN  NaN  3.0  NaN\n",
      "11  2.0  NaN  NaN  3.0  NaN\n",
      "12  2.0  NaN  NaN  3.0  NaN\n",
      "13  2.0  NaN  NaN  NaN  NaN\n",
      "14  2.0  NaN  NaN  NaN  NaN \n",
      "\n"
     ]
    }
   ],
   "source": [
    "#!/usr/bin/env python\n",
    "\n",
    "import wuml \n",
    "\n",
    "#\tWe first remove column A because there are too many missing values\n",
    "data = wuml.wData('../../data/missin_example.csv', row_id_with_label=0, columns_to_ignore=['A'])\n",
    "print('We start with this dataset')\n",
    "print(data,'\\n')\n"
   ]
  },
  {
   "cell_type": "code",
   "execution_count": 2,
   "id": "a6a85347",
   "metadata": {},
   "outputs": [
    {
     "name": "stdout",
     "output_type": "stream",
     "text": [
      "We first impute all the residual missing entries\n",
      "      B    C         D         E        F\n",
      "0   2.0  3.0  3.043100  3.086199  7.00000\n",
      "1   2.0  3.0  4.000000  5.000000  6.00000\n",
      "2   2.0  3.0  3.000000  3.000000  4.00000\n",
      "3   2.0  3.0  3.000000  3.000000  5.00000\n",
      "4   2.0  3.0  3.000000  3.000000  3.00000\n",
      "5   2.0  3.0  3.000000  3.000000  4.99857\n",
      "6   2.0  3.0  3.000000  3.000000  4.99857\n",
      "7   2.0  3.0  3.000000  3.000000  4.99857\n",
      "8   2.0  3.0  3.000000  3.000000  4.99857\n",
      "9   2.0  3.0  3.000000  3.000000  4.99857\n",
      "10  2.0  3.0  3.000000  3.000000  4.99857\n",
      "11  2.0  3.0  3.000000  3.000000  4.99857\n",
      "12  2.0  3.0  3.000000  3.000000  4.99857\n",
      "13  2.0  3.0  3.080239  3.160477  4.99912\n",
      "14  2.0  3.0  3.080239  3.160477  4.99912 \n",
      "\n"
     ]
    }
   ],
   "source": [
    "X = wuml.impute(data, ignore_first_index_column=False)\n",
    "print('We first impute all the residual missing entries')\n",
    "print(X,'\\n')"
   ]
  },
  {
   "cell_type": "code",
   "execution_count": 4,
   "id": "ec20e66c",
   "metadata": {},
   "outputs": [
    {
     "name": "stdout",
     "output_type": "stream",
     "text": [
      "We lastly use reverse CDF to map the data to values between 0 and 1\n",
      "      B    C         D         E        F\n",
      "0   2.0  3.0  3.043100  3.086199  7.00000\n",
      "1   2.0  3.0  4.000000  5.000000  6.00000\n",
      "2   2.0  3.0  3.000000  3.000000  4.00000\n",
      "3   2.0  3.0  3.000000  3.000000  5.00000\n",
      "4   2.0  3.0  3.000000  3.000000  3.00000\n",
      "5   2.0  3.0  3.000000  3.000000  4.99857\n",
      "6   2.0  3.0  3.000000  3.000000  4.99857\n",
      "7   2.0  3.0  3.000000  3.000000  4.99857\n",
      "8   2.0  3.0  3.000000  3.000000  4.99857\n",
      "9   2.0  3.0  3.000000  3.000000  4.99857\n",
      "10  2.0  3.0  3.000000  3.000000  4.99857\n",
      "11  2.0  3.0  3.000000  3.000000  4.99857\n",
      "12  2.0  3.0  3.000000  3.000000  4.99857\n",
      "13  2.0  3.0  3.080239  3.160477  4.99912\n",
      "14  2.0  3.0  3.080239  3.160477  4.99912 \n",
      "\n"
     ]
    }
   ],
   "source": [
    "X = wuml.use_reverse_cdf_to_map_data_between_0_and_1(X)\n",
    "print('We lastly use reverse CDF to map the data to values between 0 and 1')\n",
    "print(X,'\\n')"
   ]
  },
  {
   "cell_type": "code",
   "execution_count": null,
   "id": "6b2c3a6b",
   "metadata": {},
   "outputs": [],
   "source": []
  }
 ],
 "metadata": {
  "kernelspec": {
   "display_name": "Python 3",
   "language": "python",
   "name": "python3"
  },
  "language_info": {
   "codemirror_mode": {
    "name": "ipython",
    "version": 3
   },
   "file_extension": ".py",
   "mimetype": "text/x-python",
   "name": "python",
   "nbconvert_exporter": "python",
   "pygments_lexer": "ipython3",
   "version": "3.7.10"
  }
 },
 "nbformat": 4,
 "nbformat_minor": 5
}
