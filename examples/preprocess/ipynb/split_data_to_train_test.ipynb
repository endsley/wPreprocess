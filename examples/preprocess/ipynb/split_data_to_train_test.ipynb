{
 "cells": [
  {
   "cell_type": "code",
   "execution_count": 1,
   "metadata": {
    "execution": {
     "iopub.execute_input": "2023-02-24T21:49:02.165074Z",
     "iopub.status.busy": "2023-02-24T21:49:02.164628Z",
     "iopub.status.idle": "2023-02-24T21:49:02.171752Z",
     "shell.execute_reply": "2023-02-24T21:49:02.170715Z"
    }
   },
   "outputs": [],
   "source": [
    "#!/usr/bin/env python\n",
    "import os\n",
    "import sys\n",
    "if os.path.exists('/home/chieh/code/wPlotLib'):\n",
    "\tsys.path.insert(0,'/home/chieh/code/wPlotLib')\n",
    "if os.path.exists('/home/chieh/code/wuML'):\n",
    "\tsys.path.insert(0,'/home/chieh/code/wuML')"
   ]
  },
  {
   "cell_type": "code",
   "execution_count": 2,
   "metadata": {
    "execution": {
     "iopub.execute_input": "2023-02-24T21:49:02.176231Z",
     "iopub.status.busy": "2023-02-24T21:49:02.175842Z",
     "iopub.status.idle": "2023-02-24T21:49:04.017868Z",
     "shell.execute_reply": "2023-02-24T21:49:04.016842Z"
    }
   },
   "outputs": [],
   "source": [
    "import wuml\n",
    "import sklearn\n",
    "import wplotlib\n",
    "from wplotlib import histograms"
   ]
  },
  {
   "cell_type": "code",
   "execution_count": 3,
   "metadata": {
    "execution": {
     "iopub.execute_input": "2023-02-24T21:49:04.021297Z",
     "iopub.status.busy": "2023-02-24T21:49:04.021099Z",
     "iopub.status.idle": "2023-02-24T21:49:04.039798Z",
     "shell.execute_reply": "2023-02-24T21:49:04.039026Z"
    }
   },
   "outputs": [],
   "source": [
    "data = wuml.wData(xpath='../../data/small.csv', batch_size=2, \n",
    "\t\t\t\t\tlabel_type='continuous', label_column_name='Y', \n",
    "\t\t\t\t\tmv_columns_to_extra_data='B',\n",
    "\t\t\t\t\tfirst_row_is_label=True)"
   ]
  },
  {
   "cell_type": "markdown",
   "metadata": {},
   "source": [
    "Original data, label, extra labels"
   ]
  },
  {
   "cell_type": "code",
   "execution_count": 4,
   "metadata": {
    "execution": {
     "iopub.execute_input": "2023-02-24T21:49:04.044059Z",
     "iopub.status.busy": "2023-02-24T21:49:04.043863Z",
     "iopub.status.idle": "2023-02-24T21:49:04.056880Z",
     "shell.execute_reply": "2023-02-24T21:49:04.055867Z"
    }
   },
   "outputs": [
    {
     "data": {
      "text/html": [
       "<html><body><h5>[1 1 1 1]&nbsp &nbsp[10]&nbsp &nbsp[[1]<br>[2 2 2 2]&nbsp &nbsp[20]&nbsp &nbsp [2]<br>[3 3 3 3]&nbsp &nbsp[30]&nbsp &nbsp [3]<br>[4 4 4 4]&nbsp &nbsp[40]&nbsp &nbsp [4]<br>[5 5 5 5]&nbsp &nbsp[50]&nbsp &nbsp [5]<br>[6 6 6 6]&nbsp &nbsp[60]&nbsp &nbsp [6]<br>[7 7 7 7]&nbsp &nbsp[70]&nbsp &nbsp [7]<br>[8 8 8 8]&nbsp &nbsp[80]&nbsp &nbsp [8]<br>[9 9 9 9]&nbsp &nbsp[90]&nbsp &nbsp [9]<br>[0 0 0 0]&nbsp &nbsp[ 0]&nbsp &nbsp [0]]<br>              &nbsp &nbsp<br><br></h5></body></html>"
      ],
      "text/plain": [
       "<IPython.core.display.HTML object>"
      ]
     },
     "metadata": {},
     "output_type": "display_data"
    }
   ],
   "source": [
    "wuml.jupyter_print(wuml.block_matrix_concatenate([data, data.Y, data.xDat]))"
   ]
  },
  {
   "cell_type": "markdown",
   "metadata": {},
   "source": [
    "data_path : will save the the files gestAge_train.csv and gestAge_test.csv to ../../data folder<br>\n",
    "test_percentage : 0.1 implies that 90% will be training and 10% will be test"
   ]
  },
  {
   "cell_type": "code",
   "execution_count": 5,
   "metadata": {
    "execution": {
     "iopub.execute_input": "2023-02-24T21:49:04.101271Z",
     "iopub.status.busy": "2023-02-24T21:49:04.100863Z",
     "iopub.status.idle": "2023-02-24T21:49:04.108426Z",
     "shell.execute_reply": "2023-02-24T21:49:04.107588Z"
    }
   },
   "outputs": [],
   "source": [
    "X_train, X_test, y_train, y_test = wuml.split_training_test(data, test_percentage=0.2)"
   ]
  },
  {
   "cell_type": "markdown",
   "metadata": {},
   "source": [
    "after splitting data to training and test, notice the split"
   ]
  },
  {
   "cell_type": "code",
   "execution_count": 6,
   "metadata": {
    "execution": {
     "iopub.execute_input": "2023-02-24T21:49:04.112316Z",
     "iopub.status.busy": "2023-02-24T21:49:04.112054Z",
     "iopub.status.idle": "2023-02-24T21:49:04.120630Z",
     "shell.execute_reply": "2023-02-24T21:49:04.119677Z"
    }
   },
   "outputs": [
    {
     "data": {
      "text/html": [
       "<html><body><h5>[6 6 6 6]&nbsp &nbsp[60]&nbsp &nbsp[[6]<br>[1 1 1 1]&nbsp &nbsp[10]&nbsp &nbsp [1]<br>[8 8 8 8]&nbsp &nbsp[80]&nbsp &nbsp [8]<br>[3 3 3 3]&nbsp &nbsp[30]&nbsp &nbsp [3]<br>[0 0 0 0]&nbsp &nbsp[ 0]&nbsp &nbsp [0]<br>[5 5 5 5]&nbsp &nbsp[50]&nbsp &nbsp [5]<br>[4 4 4 4]&nbsp &nbsp[40]&nbsp &nbsp [4]<br>[7 7 7 7]&nbsp &nbsp[70]&nbsp &nbsp [7]]<br>              &nbsp &nbsp<br><br></h5></body></html>"
      ],
      "text/plain": [
       "<IPython.core.display.HTML object>"
      ]
     },
     "metadata": {},
     "output_type": "display_data"
    },
    {
     "data": {
      "text/html": [
       "<html><body><h5>[9 9 9 9]&nbsp &nbsp[90]&nbsp &nbsp[[9]<br>[2 2 2 2]&nbsp &nbsp[20]&nbsp &nbsp [2]]<br>              &nbsp &nbsp<br><br></h5></body></html>"
      ],
      "text/plain": [
       "<IPython.core.display.HTML object>"
      ]
     },
     "metadata": {},
     "output_type": "display_data"
    }
   ],
   "source": [
    "wuml.jupyter_print(wuml.block_matrix_concatenate([X_train, X_train.Y, X_train.xDat]))\n",
    "wuml.jupyter_print(wuml.block_matrix_concatenate([X_test, X_test.Y, X_test.xDat]))"
   ]
  }
 ],
 "metadata": {
  "kernelspec": {
   "display_name": "Python 3",
   "language": "python",
   "name": "python3"
  },
  "language_info": {
   "codemirror_mode": {
    "name": "ipython",
    "version": 3
   },
   "file_extension": ".py",
   "mimetype": "text/x-python",
   "name": "python",
   "nbconvert_exporter": "python",
   "pygments_lexer": "ipython3",
   "version": "3.8.10"
  }
 },
 "nbformat": 4,
 "nbformat_minor": 2
}
