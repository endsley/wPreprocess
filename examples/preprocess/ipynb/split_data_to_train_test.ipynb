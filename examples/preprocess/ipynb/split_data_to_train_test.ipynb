{
 "cells": [
  {
   "cell_type": "code",
   "execution_count": 1,
   "metadata": {
    "execution": {
     "iopub.execute_input": "2023-02-21T14:32:13.884371Z",
     "iopub.status.busy": "2023-02-21T14:32:13.883901Z",
     "iopub.status.idle": "2023-02-21T14:32:13.891188Z",
     "shell.execute_reply": "2023-02-21T14:32:13.890333Z"
    }
   },
   "outputs": [],
   "source": [
    "#!/usr/bin/env python\n",
    "import os\n",
    "import sys\n",
    "if os.path.exists('/home/chieh/code/wPlotLib'):\n",
    "\tsys.path.insert(0,'/home/chieh/code/wPlotLib')\n",
    "if os.path.exists('/home/chieh/code/wuML'):\n",
    "\tsys.path.insert(0,'/home/chieh/code/wuML')"
   ]
  },
  {
   "cell_type": "code",
   "execution_count": 2,
   "metadata": {
    "execution": {
     "iopub.execute_input": "2023-02-21T14:32:13.895683Z",
     "iopub.status.busy": "2023-02-21T14:32:13.895452Z",
     "iopub.status.idle": "2023-02-21T14:32:15.603228Z",
     "shell.execute_reply": "2023-02-21T14:32:15.602516Z"
    }
   },
   "outputs": [],
   "source": [
    "import wuml\n",
    "import sklearn\n",
    "import wplotlib\n",
    "from wplotlib import histograms"
   ]
  },
  {
   "cell_type": "code",
   "execution_count": 3,
   "metadata": {
    "execution": {
     "iopub.execute_input": "2023-02-21T14:32:15.608030Z",
     "iopub.status.busy": "2023-02-21T14:32:15.607851Z",
     "iopub.status.idle": "2023-02-21T14:32:15.625194Z",
     "shell.execute_reply": "2023-02-21T14:32:15.624399Z"
    }
   },
   "outputs": [],
   "source": [
    "data = wuml.wData(xpath='../../data/small.csv', batch_size=2, \n",
    "\t\t\t\t\tlabel_type='continuous', label_column_name='Y', \n",
    "\t\t\t\t\tmv_columns_to_extra_data='B',\n",
    "\t\t\t\t\tfirst_row_is_label=True)"
   ]
  },
  {
   "cell_type": "markdown",
   "metadata": {},
   "source": [
    "Original data, label, extra labels"
   ]
  },
  {
   "cell_type": "code",
   "execution_count": 4,
   "metadata": {
    "execution": {
     "iopub.execute_input": "2023-02-21T14:32:15.630085Z",
     "iopub.status.busy": "2023-02-21T14:32:15.629918Z",
     "iopub.status.idle": "2023-02-21T14:32:15.642347Z",
     "shell.execute_reply": "2023-02-21T14:32:15.641689Z"
    }
   },
   "outputs": [
    {
     "data": {
      "text/html": [
       "<html><body><h3>[1 1 1 1]\t[10]\t[[1]<br>[2 2 2 2]\t[20]\t [2]<br>[3 3 3 3]\t[30]\t [3]<br>[4 4 4 4]\t[40]\t [4]<br>[5 5 5 5]\t[50]\t [5]<br>[6 6 6 6]\t[60]\t [6]<br>[7 7 7 7]\t[70]\t [7]<br>[8 8 8 8]\t[80]\t [8]<br>[9 9 9 9]\t[90]\t [9]<br>[0 0 0 0]\t[ 0]\t [0]]<br>              \t<br><br></h3></body></html>"
      ],
      "text/plain": [
       "<IPython.core.display.HTML object>"
      ]
     },
     "metadata": {},
     "output_type": "display_data"
    },
    {
     "name": "stdout",
     "output_type": "stream",
     "text": [
      "\n"
     ]
    }
   ],
   "source": [
    "wuml.jupyter_print(wuml.block_matrix_concatenate([data, data.Y, data.xDat]))"
   ]
  },
  {
   "cell_type": "markdown",
   "metadata": {},
   "source": [
    "data_path : will save the the files gestAge_train.csv and gestAge_test.csv to ../../data folder<br>\n",
    "test_percentage : 0.1 implies that 90% will be training and 10% will be test"
   ]
  },
  {
   "cell_type": "code",
   "execution_count": 5,
   "metadata": {
    "execution": {
     "iopub.execute_input": "2023-02-21T14:32:15.692190Z",
     "iopub.status.busy": "2023-02-21T14:32:15.691872Z",
     "iopub.status.idle": "2023-02-21T14:32:15.699264Z",
     "shell.execute_reply": "2023-02-21T14:32:15.698197Z"
    }
   },
   "outputs": [],
   "source": [
    "X_train, X_test, y_train, y_test = wuml.split_training_test(data, test_percentage=0.2)"
   ]
  },
  {
   "cell_type": "markdown",
   "metadata": {},
   "source": [
    "after splitting data to training and test, notice the split"
   ]
  },
  {
   "cell_type": "code",
   "execution_count": 6,
   "metadata": {
    "execution": {
     "iopub.execute_input": "2023-02-21T14:32:15.703253Z",
     "iopub.status.busy": "2023-02-21T14:32:15.702931Z",
     "iopub.status.idle": "2023-02-21T14:32:15.712307Z",
     "shell.execute_reply": "2023-02-21T14:32:15.711700Z"
    }
   },
   "outputs": [
    {
     "data": {
      "text/html": [
       "<html><body><h3>[6 6 6 6]\t[60]\t[[6]<br>[1 1 1 1]\t[10]\t [1]<br>[8 8 8 8]\t[80]\t [8]<br>[3 3 3 3]\t[30]\t [3]<br>[0 0 0 0]\t[ 0]\t [0]<br>[5 5 5 5]\t[50]\t [5]<br>[4 4 4 4]\t[40]\t [4]<br>[7 7 7 7]\t[70]\t [7]]<br>              \t<br><br></h3></body></html>"
      ],
      "text/plain": [
       "<IPython.core.display.HTML object>"
      ]
     },
     "metadata": {},
     "output_type": "display_data"
    },
    {
     "name": "stdout",
     "output_type": "stream",
     "text": [
      "\n"
     ]
    },
    {
     "data": {
      "text/html": [
       "<html><body><h3>[9 9 9 9]\t[90]\t[[9]<br>[2 2 2 2]\t[20]\t [2]]<br>              \t<br><br></h3></body></html>"
      ],
      "text/plain": [
       "<IPython.core.display.HTML object>"
      ]
     },
     "metadata": {},
     "output_type": "display_data"
    },
    {
     "name": "stdout",
     "output_type": "stream",
     "text": [
      "\n"
     ]
    }
   ],
   "source": [
    "wuml.jupyter_print(wuml.block_matrix_concatenate([X_train, X_train.Y, X_train.xDat]))\n",
    "wuml.jupyter_print(wuml.block_matrix_concatenate([X_test, X_test.Y, X_test.xDat]))"
   ]
  }
 ],
 "metadata": {
  "kernelspec": {
   "display_name": "Python 3",
   "language": "python",
   "name": "python3"
  },
  "language_info": {
   "codemirror_mode": {
    "name": "ipython",
    "version": 3
   },
   "file_extension": ".py",
   "mimetype": "text/x-python",
   "name": "python",
   "nbconvert_exporter": "python",
   "pygments_lexer": "ipython3",
   "version": "3.8.10"
  }
 },
 "nbformat": 4,
 "nbformat_minor": 2
}
