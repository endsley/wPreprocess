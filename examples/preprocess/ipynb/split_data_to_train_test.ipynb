{
 "cells": [
  {
   "cell_type": "code",
   "execution_count": 1,
   "metadata": {
    "execution": {
     "iopub.execute_input": "2023-03-14T14:59:02.049272Z",
     "iopub.status.busy": "2023-03-14T14:59:02.048818Z",
     "iopub.status.idle": "2023-03-14T14:59:02.056833Z",
     "shell.execute_reply": "2023-03-14T14:59:02.055378Z"
    }
   },
   "outputs": [],
   "source": [
    "#!/usr/bin/env python\n",
    "import os\n",
    "import sys\n",
    "if os.path.exists('/home/chieh/code/wPlotLib'):\n",
    "\tsys.path.insert(0,'/home/chieh/code/wPlotLib')\n",
    "if os.path.exists('/home/chieh/code/wuML'):\n",
    "\tsys.path.insert(0,'/home/chieh/code/wuML')"
   ]
  },
  {
   "cell_type": "code",
   "execution_count": 2,
   "metadata": {
    "execution": {
     "iopub.execute_input": "2023-03-14T14:59:02.062037Z",
     "iopub.status.busy": "2023-03-14T14:59:02.061751Z",
     "iopub.status.idle": "2023-03-14T14:59:03.819008Z",
     "shell.execute_reply": "2023-03-14T14:59:03.818208Z"
    }
   },
   "outputs": [],
   "source": [
    "import wuml\n",
    "from wuml.IO import *\n",
    "import sklearn\n",
    "import wplotlib\n",
    "from wplotlib import histograms"
   ]
  },
  {
   "cell_type": "code",
   "execution_count": 3,
   "metadata": {
    "execution": {
     "iopub.execute_input": "2023-03-14T14:59:03.824112Z",
     "iopub.status.busy": "2023-03-14T14:59:03.823907Z",
     "iopub.status.idle": "2023-03-14T14:59:03.848739Z",
     "shell.execute_reply": "2023-03-14T14:59:03.847900Z"
    }
   },
   "outputs": [],
   "source": [
    "data = wuml.wData(xpath='../../data/small.csv', batch_size=2, \n",
    "\t\t\t\t\tlabel_type='continuous', label_column_name='Y', \n",
    "\t\t\t\t\tmv_columns_to_extra_data='B',\n",
    "\t\t\t\t\tfirst_row_is_label=True)"
   ]
  },
  {
   "cell_type": "markdown",
   "metadata": {},
   "source": [
    "Original data, label, extra labels"
   ]
  },
  {
   "cell_type": "code",
   "execution_count": 4,
   "metadata": {
    "execution": {
     "iopub.execute_input": "2023-03-14T14:59:03.853776Z",
     "iopub.status.busy": "2023-03-14T14:59:03.853610Z",
     "iopub.status.idle": "2023-03-14T14:59:03.864144Z",
     "shell.execute_reply": "2023-03-14T14:59:03.863488Z"
    }
   },
   "outputs": [
    {
     "name": "stdout",
     "output_type": "stream",
     "text": [
      "Original Data\n",
      "     A  C  D  E      \t\t     0               \t\t    0\n",
      "0    1  1  1  1      \t\t0   10               \t\t0   1\n",
      "1    2  2  2  2      \t\t1   20               \t\t1   2\n",
      "2    3  3  3  3      \t\t2   30               \t\t2   3\n",
      "3    4  4  4  4      \t\t3   40               \t\t3   4\n",
      "4    5  5  5  5      \t\t4   50               \t\t4   5\n",
      "..  .. .. .. ..      \t\t..  ..               \t\t.. ..\n",
      "15  16  6  6  6      \t\t15  16               \t\t15  6\n",
      "16  17  7  7  7      \t\t16  17               \t\t16  7\n",
      "17  18  8  8  8      \t\t17  18               \t\t17  8\n",
      "18  19  9  9  9      \t\t18  19               \t\t18  9\n",
      "19  10  0  0  0      \t\t19  10               \t\t19  0\n",
      "                     \t\t                     \t\t\n",
      "[20 rows x 4 columns]\t\t[20 rows x 1 columns]\t\t[20 rows x 1 columns]\n",
      "                                            \t\t\n",
      "\n",
      "\n"
     ]
    }
   ],
   "source": [
    "jupyter_print('Original Data')\n",
    "jupyter_print(wuml.block_matrix_concatenate([data, data.Y, data.xDat[0]]))"
   ]
  },
  {
   "cell_type": "markdown",
   "metadata": {},
   "source": [
    "data_path : will save the the files gestAge_train.csv and gestAge_test.csv to ../../data folder<br>\n",
    "test_percentage : 0.1 implies that 90% will be training and 10% will be test"
   ]
  },
  {
   "cell_type": "code",
   "execution_count": 5,
   "metadata": {
    "execution": {
     "iopub.execute_input": "2023-03-14T14:59:03.927448Z",
     "iopub.status.busy": "2023-03-14T14:59:03.927059Z",
     "iopub.status.idle": "2023-03-14T14:59:03.934454Z",
     "shell.execute_reply": "2023-03-14T14:59:03.933383Z"
    }
   },
   "outputs": [],
   "source": [
    "X_train, X_test, y_train, y_test = wuml.split_training_test(data, test_percentage=0.2)"
   ]
  },
  {
   "cell_type": "markdown",
   "metadata": {},
   "source": [
    "after splitting data to training and test, notice the split"
   ]
  },
  {
   "cell_type": "code",
   "execution_count": 6,
   "metadata": {
    "execution": {
     "iopub.execute_input": "2023-03-14T14:59:03.938018Z",
     "iopub.status.busy": "2023-03-14T14:59:03.937808Z",
     "iopub.status.idle": "2023-03-14T14:59:03.951537Z",
     "shell.execute_reply": "2023-03-14T14:59:03.950850Z"
    }
   },
   "outputs": [
    {
     "name": "stdout",
     "output_type": "stream",
     "text": [
      "-------------------------------------------\n",
      "Training Data After split\n",
      "     A  C  D  E      \t\t     0               \t\t    0\n",
      "0    9  9  9  9      \t\t0   90               \t\t0   9\n",
      "1    6  6  6  6      \t\t1   60               \t\t1   6\n",
      "2   12  2  2  2      \t\t2   12               \t\t2   2\n",
      "3    4  4  4  4      \t\t3   40               \t\t3   4\n",
      "4   19  9  9  9      \t\t4   19               \t\t4   9\n",
      "..  .. .. .. ..      \t\t..  ..               \t\t.. ..\n",
      "11  13  3  3  3      \t\t11  13               \t\t11  3\n",
      "12   8  8  8  8      \t\t12  80               \t\t12  8\n",
      "13  11  1  1  1      \t\t13  11               \t\t13  1\n",
      "14  15  5  5  5      \t\t14  15               \t\t14  5\n",
      "15   7  7  7  7      \t\t15  70               \t\t15  7\n",
      "                     \t\t                     \t\t\n",
      "[16 rows x 4 columns]\t\t[16 rows x 1 columns]\t\t[16 rows x 1 columns]\n",
      "                                            \t\t\n",
      "\n",
      "\n",
      "Test Data After split\n",
      "    A  C  D  E\t\t    0\t\t   0\n",
      "0   1  1  1  1\t\t0  10\t\t0  1\n",
      "1  18  8  8  8\t\t1  18\t\t1  8\n",
      "2  16  6  6  6\t\t2  16\t\t2  6\n",
      "3   2  2  2  2\t\t3  20\t\t3  2\n",
      "                     \t\t\n",
      "\n",
      "\n"
     ]
    }
   ],
   "source": [
    "jupyter_print('-------------------------------------------')\n",
    "jupyter_print('Training Data After split')\n",
    "jupyter_print(wuml.block_matrix_concatenate([X_train, X_train.Y, X_train.xDat[0]]))\n",
    "jupyter_print('Test Data After split')\n",
    "jupyter_print(wuml.block_matrix_concatenate([X_test, X_test.Y, X_test.xDat[0]]))"
   ]
  },
  {
   "cell_type": "markdown",
   "metadata": {},
   "source": [
    "Now we do a Train validate and Test split"
   ]
  },
  {
   "cell_type": "code",
   "execution_count": 7,
   "metadata": {
    "execution": {
     "iopub.execute_input": "2023-03-14T14:59:03.955383Z",
     "iopub.status.busy": "2023-03-14T14:59:03.955210Z",
     "iopub.status.idle": "2023-03-14T14:59:03.961099Z",
     "shell.execute_reply": "2023-03-14T14:59:03.960439Z"
    }
   },
   "outputs": [],
   "source": [
    "result = wuml.split_training_validation_test(data, train_valid_test_percent_split=[0.7, 0.2, 0.1])\n",
    "[X_train, y_train, X_validate, y_validate, X_test, y_test] = result"
   ]
  },
  {
   "cell_type": "code",
   "execution_count": 8,
   "metadata": {
    "execution": {
     "iopub.execute_input": "2023-03-14T14:59:03.964911Z",
     "iopub.status.busy": "2023-03-14T14:59:03.964716Z",
     "iopub.status.idle": "2023-03-14T14:59:03.982165Z",
     "shell.execute_reply": "2023-03-14T14:59:03.981398Z"
    }
   },
   "outputs": [
    {
     "name": "stdout",
     "output_type": "stream",
     "text": [
      "-------------------------------------------\n",
      "Training Data After split\n",
      "     A  C  D  E      \t\t     0               \t\t    0\n",
      "0    4  4  4  4      \t\t0   40               \t\t0   4\n",
      "1   19  9  9  9      \t\t1   19               \t\t1   9\n",
      "2   17  7  7  7      \t\t2   17               \t\t2   7\n",
      "3   14  4  4  4      \t\t3   14               \t\t3   4\n",
      "4    3  3  3  3      \t\t4   30               \t\t4   3\n",
      "..  .. .. .. ..      \t\t..  ..               \t\t.. ..\n",
      "8   13  3  3  3      \t\t8   13               \t\t8   3\n",
      "9    8  8  8  8      \t\t9   80               \t\t9   8\n",
      "10  11  1  1  1      \t\t10  11               \t\t10  1\n",
      "11  15  5  5  5      \t\t11  15               \t\t11  5\n",
      "12   7  7  7  7      \t\t12  70               \t\t12  7\n",
      "                     \t\t                     \t\t\n",
      "[13 rows x 4 columns]\t\t[13 rows x 1 columns]\t\t[13 rows x 1 columns]\n",
      "                                            \t\t\n",
      "\n",
      "\n",
      "Validation Data After split\n",
      "    A  C  D  E\t\t    0\t\t   0\n",
      "0  16  6  6  6\t\t0  16\t\t0  6\n",
      "1   9  9  9  9\t\t1  90\t\t1  9\n",
      "2   2  2  2  2\t\t2  20\t\t2  2\n",
      "3  12  2  2  2\t\t3  12\t\t3  2\n",
      "                     \t\t\n",
      "\n",
      "\n",
      "Test Data After split\n",
      "    A  C  D  E\t\t    0\t\t   0\n",
      "0   1  1  1  1\t\t0  10\t\t0  1\n",
      "1  18  8  8  8\t\t1  18\t\t1  8\n",
      "2   6  6  6  6\t\t2  60\t\t2  6\n",
      "                     \t\t\n",
      "\n",
      "\n"
     ]
    }
   ],
   "source": [
    "jupyter_print('-------------------------------------------')\n",
    "jupyter_print('Training Data After split')\n",
    "jupyter_print(wuml.block_matrix_concatenate([X_train, X_train.Y, X_train.xDat[0]]))\n",
    "jupyter_print('Validation Data After split')\n",
    "jupyter_print(wuml.block_matrix_concatenate([X_validate, X_validate.Y, X_validate.xDat[0]]))\n",
    "jupyter_print('Test Data After split')\n",
    "jupyter_print(wuml.block_matrix_concatenate([X_test, X_test.Y, X_test.xDat[0]]))"
   ]
  }
 ],
 "metadata": {
  "kernelspec": {
   "display_name": "Python 3",
   "language": "python",
   "name": "python3"
  },
  "language_info": {
   "codemirror_mode": {
    "name": "ipython",
    "version": 3
   },
   "file_extension": ".py",
   "mimetype": "text/x-python",
   "name": "python",
   "nbconvert_exporter": "python",
   "pygments_lexer": "ipython3",
   "version": "3.8.10"
  }
 },
 "nbformat": 4,
 "nbformat_minor": 2
}
