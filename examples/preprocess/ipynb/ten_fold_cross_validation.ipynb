{
 "cells": [
  {
   "cell_type": "code",
   "execution_count": 1,
   "metadata": {
    "execution": {
     "iopub.execute_input": "2023-02-11T15:28:20.627838Z",
     "iopub.status.busy": "2023-02-11T15:28:20.627369Z",
     "iopub.status.idle": "2023-02-11T15:28:20.633250Z",
     "shell.execute_reply": "2023-02-11T15:28:20.632140Z"
    }
   },
   "outputs": [],
   "source": [
    "#!/usr/bin/env python"
   ]
  },
  {
   "cell_type": "code",
   "execution_count": 2,
   "metadata": {
    "execution": {
     "iopub.execute_input": "2023-02-11T15:28:20.637013Z",
     "iopub.status.busy": "2023-02-11T15:28:20.636764Z",
     "iopub.status.idle": "2023-02-11T15:28:20.641287Z",
     "shell.execute_reply": "2023-02-11T15:28:20.640467Z"
    }
   },
   "outputs": [],
   "source": [
    "import os\n",
    "import sys\n",
    "if os.path.exists('/home/chieh/code/wPlotLib'):\n",
    "\tsys.path.insert(0,'/home/chieh/code/wPlotLib')\n",
    "if os.path.exists('/home/chieh/code/wuML'):\n",
    "\tsys.path.insert(0,'/home/chieh/code/wuML')"
   ]
  },
  {
   "cell_type": "code",
   "execution_count": 3,
   "metadata": {
    "execution": {
     "iopub.execute_input": "2023-02-11T15:28:20.645125Z",
     "iopub.status.busy": "2023-02-11T15:28:20.644897Z",
     "iopub.status.idle": "2023-02-11T15:28:22.200971Z",
     "shell.execute_reply": "2023-02-11T15:28:22.200182Z"
    }
   },
   "outputs": [],
   "source": [
    "import wuml\n",
    "import wplotlib\n",
    "import numpy as np"
   ]
  },
  {
   "cell_type": "code",
   "execution_count": 4,
   "metadata": {
    "execution": {
     "iopub.execute_input": "2023-02-11T15:28:22.206088Z",
     "iopub.status.busy": "2023-02-11T15:28:22.205850Z",
     "iopub.status.idle": "2023-02-11T15:28:22.235143Z",
     "shell.execute_reply": "2023-02-11T15:28:22.234146Z"
    }
   },
   "outputs": [],
   "source": [
    "data = wuml.wData(xpath='../../data/wine.csv', ypath='../../data/wine_label.csv', label_type='discrete')\n",
    "tenFoldData = wuml.gen_10_fold_data(data=data)\n",
    "tb = wuml.result_table(column_names=['Fold', 'Train Acc', 'Test Acc'])"
   ]
  },
  {
   "cell_type": "code",
   "execution_count": 5,
   "metadata": {
    "execution": {
     "iopub.execute_input": "2023-02-11T15:28:22.240079Z",
     "iopub.status.busy": "2023-02-11T15:28:22.239911Z",
     "iopub.status.idle": "2023-02-11T15:28:22.515788Z",
     "shell.execute_reply": "2023-02-11T15:28:22.515207Z"
    }
   },
   "outputs": [
    {
     "name": "stdout",
     "output_type": "stream",
     "text": [
      "run 9: Train Acc: 1.000, Test Acc:1.000"
     ]
    }
   ],
   "source": [
    "for i, fold in enumerate(tenFoldData):\n",
    "\t[X_train, Y_train, X_test, Y_test] = fold\n",
    "\tsvm = wuml.classification(X_train, y=Y_train, test_data=X_test, testY=Y_test, classifier='SVM')\n",
    "\ttb.add_row([i+1, svm.Train_acc , svm.Test_acc])\n",
    "\twuml.write_to_current_line('run %d: Train Acc: %.3f, Test Acc:%.3f'%(i, svm.Train_acc , svm.Test_acc))"
   ]
  },
  {
   "cell_type": "code",
   "execution_count": 6,
   "metadata": {
    "execution": {
     "iopub.execute_input": "2023-02-11T15:28:22.521239Z",
     "iopub.status.busy": "2023-02-11T15:28:22.521078Z",
     "iopub.status.idle": "2023-02-11T15:28:22.549766Z",
     "shell.execute_reply": "2023-02-11T15:28:22.549173Z"
    }
   },
   "outputs": [
    {
     "data": {
      "text/html": [
       "<html><body><h3><br></h3></body></html>"
      ],
      "text/plain": [
       "<IPython.core.display.HTML object>"
      ]
     },
     "metadata": {},
     "output_type": "display_data"
    },
    {
     "name": "stdout",
     "output_type": "stream",
     "text": [
      "\n"
     ]
    },
    {
     "data": {
      "text/html": [
       "<div>\n",
       "<style scoped>\n",
       "    .dataframe tbody tr th:only-of-type {\n",
       "        vertical-align: middle;\n",
       "    }\n",
       "\n",
       "    .dataframe tbody tr th {\n",
       "        vertical-align: top;\n",
       "    }\n",
       "\n",
       "    .dataframe thead th {\n",
       "        text-align: right;\n",
       "    }\n",
       "</style>\n",
       "<table border=\"1\" class=\"dataframe\">\n",
       "  <thead>\n",
       "    <tr style=\"text-align: right;\">\n",
       "      <th></th>\n",
       "      <th>Fold</th>\n",
       "      <th>Train Acc</th>\n",
       "      <th>Test Acc</th>\n",
       "    </tr>\n",
       "  </thead>\n",
       "  <tbody>\n",
       "    <tr>\n",
       "      <th>0</th>\n",
       "      <td>1.0</td>\n",
       "      <td>1.0</td>\n",
       "      <td>1.0</td>\n",
       "    </tr>\n",
       "    <tr>\n",
       "      <th>1</th>\n",
       "      <td>2.0</td>\n",
       "      <td>1.0</td>\n",
       "      <td>1.0</td>\n",
       "    </tr>\n",
       "    <tr>\n",
       "      <th>2</th>\n",
       "      <td>3.0</td>\n",
       "      <td>1.0</td>\n",
       "      <td>1.0</td>\n",
       "    </tr>\n",
       "    <tr>\n",
       "      <th>3</th>\n",
       "      <td>4.0</td>\n",
       "      <td>1.0</td>\n",
       "      <td>0.944</td>\n",
       "    </tr>\n",
       "    <tr>\n",
       "      <th>4</th>\n",
       "      <td>5.0</td>\n",
       "      <td>1.0</td>\n",
       "      <td>1.0</td>\n",
       "    </tr>\n",
       "    <tr>\n",
       "      <th>5</th>\n",
       "      <td>6.0</td>\n",
       "      <td>1.0</td>\n",
       "      <td>1.0</td>\n",
       "    </tr>\n",
       "    <tr>\n",
       "      <th>6</th>\n",
       "      <td>7.0</td>\n",
       "      <td>1.0</td>\n",
       "      <td>0.944</td>\n",
       "    </tr>\n",
       "    <tr>\n",
       "      <th>7</th>\n",
       "      <td>8.0</td>\n",
       "      <td>1.0</td>\n",
       "      <td>1.0</td>\n",
       "    </tr>\n",
       "    <tr>\n",
       "      <th>8</th>\n",
       "      <td>9.0</td>\n",
       "      <td>1.0</td>\n",
       "      <td>0.941</td>\n",
       "    </tr>\n",
       "    <tr>\n",
       "      <th>9</th>\n",
       "      <td>10.0</td>\n",
       "      <td>1.0</td>\n",
       "      <td>1.0</td>\n",
       "    </tr>\n",
       "    <tr>\n",
       "      <th>10</th>\n",
       "      <td>Avg Acc</td>\n",
       "      <td>1.0</td>\n",
       "      <td>0.9829</td>\n",
       "    </tr>\n",
       "  </tbody>\n",
       "</table>\n",
       "</div>"
      ],
      "text/plain": [
       "       Fold Train Acc Test Acc\n",
       "0       1.0       1.0      1.0\n",
       "1       2.0       1.0      1.0\n",
       "2       3.0       1.0      1.0\n",
       "3       4.0       1.0    0.944\n",
       "4       5.0       1.0      1.0\n",
       "5       6.0       1.0      1.0\n",
       "6       7.0       1.0    0.944\n",
       "7       8.0       1.0      1.0\n",
       "8       9.0       1.0    0.941\n",
       "9      10.0       1.0      1.0\n",
       "10  Avg Acc       1.0   0.9829"
      ]
     },
     "metadata": {},
     "output_type": "display_data"
    },
    {
     "name": "stdout",
     "output_type": "stream",
     "text": [
      "\n"
     ]
    }
   ],
   "source": [
    "wuml.jupyter_print('\\n')\n",
    "TrainAcc = np.mean(tb.get_column('Train Acc').X)\n",
    "TestAcc = np.mean(tb.get_column('Test Acc').X)\n",
    "tb.add_row(['Avg Acc', TrainAcc , TestAcc])\n",
    "wuml.jupyter_print(tb, display_all_rows=True)"
   ]
  }
 ],
 "metadata": {
  "kernelspec": {
   "display_name": "Python 3",
   "language": "python",
   "name": "python3"
  },
  "language_info": {
   "codemirror_mode": {
    "name": "ipython",
    "version": 3
   },
   "file_extension": ".py",
   "mimetype": "text/x-python",
   "name": "python",
   "nbconvert_exporter": "python",
   "pygments_lexer": "ipython3",
   "version": "3.8.10"
  }
 },
 "nbformat": 4,
 "nbformat_minor": 2
}
