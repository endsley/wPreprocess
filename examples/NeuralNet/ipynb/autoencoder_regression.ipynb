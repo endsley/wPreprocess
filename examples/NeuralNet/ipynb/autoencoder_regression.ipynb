{
 "cells": [
  {
   "cell_type": "code",
   "execution_count": 1,
   "metadata": {
    "execution": {
     "iopub.execute_input": "2023-02-25T21:24:01.326163Z",
     "iopub.status.busy": "2023-02-25T21:24:01.325662Z",
     "iopub.status.idle": "2023-02-25T21:24:01.332070Z",
     "shell.execute_reply": "2023-02-25T21:24:01.330568Z"
    }
   },
   "outputs": [],
   "source": [
    "#!/usr/bin/env python"
   ]
  },
  {
   "cell_type": "code",
   "execution_count": 2,
   "metadata": {
    "execution": {
     "iopub.execute_input": "2023-02-25T21:24:01.335961Z",
     "iopub.status.busy": "2023-02-25T21:24:01.335691Z",
     "iopub.status.idle": "2023-02-25T21:24:01.340431Z",
     "shell.execute_reply": "2023-02-25T21:24:01.339648Z"
    }
   },
   "outputs": [],
   "source": [
    "import os\n",
    "import sys\n",
    "if os.path.exists('/home/chieh/code/wPlotLib'):\n",
    "\tsys.path.insert(0,'/home/chieh/code/wPlotLib')\n",
    "if os.path.exists('/home/chieh/code/wuML'):\n",
    "\tsys.path.insert(0,'/home/chieh/code/wuML')"
   ]
  },
  {
   "cell_type": "code",
   "execution_count": 3,
   "metadata": {
    "execution": {
     "iopub.execute_input": "2023-02-25T21:24:01.344005Z",
     "iopub.status.busy": "2023-02-25T21:24:01.343748Z",
     "iopub.status.idle": "2023-02-25T21:24:03.091334Z",
     "shell.execute_reply": "2023-02-25T21:24:03.090188Z"
    }
   },
   "outputs": [],
   "source": [
    "import wuml\n",
    "import numpy as np\n",
    "import torch\n",
    "import torch\n",
    "import torch.nn as nn"
   ]
  },
  {
   "cell_type": "code",
   "execution_count": 4,
   "metadata": {
    "execution": {
     "iopub.execute_input": "2023-02-25T21:24:03.096369Z",
     "iopub.status.busy": "2023-02-25T21:24:03.096171Z",
     "iopub.status.idle": "2023-02-25T21:24:03.100456Z",
     "shell.execute_reply": "2023-02-25T21:24:03.099798Z"
    }
   },
   "outputs": [],
   "source": [
    "def costFunction(x, x̂, ẙ, y, ŷ, ind):\t\n",
    "#\tx -> encoder -> x̂\n",
    "#\tx̂ -> encoder_linear_output -> ẙ\t\n",
    "#\tx̂ -> decoder -> ŷ\t\n",
    "#\tpossible autoencoder objective λ could be 0\n",
    "#\tloss = (x - ŷ)ᒾ + λ * objective(ẙ, y)\n",
    "#\n",
    "#\tThis function can return 1 value or 3 values in a list\n",
    "#\tif return 1 value, just the loss\n",
    "#\tif return 3 values, [total_loss, reconstruction_loss, extra network from ẙ loss]\n",
    "#\n",
    "#\tIn this example, we perform both reconstruction and CE loss\n",
    "#\n",
    "\tCE_loss = nn.CrossEntropyLoss() #weird pytorch, dim of y is 1, and ŷ is 20x3\n",
    "\tR = torch.sum((x - ŷ) ** 2)/(128*13)\t#scaled by batch size times data dimension\n",
    "\tmse = torch.sum((ẙ - y) ** 2)/(128)\t#scaled by batch size times data dimension\n",
    "\tloss = R + mse\n",
    "\treturn [loss, R, mse]"
   ]
  },
  {
   "cell_type": "code",
   "execution_count": 5,
   "metadata": {
    "execution": {
     "iopub.execute_input": "2023-02-25T21:24:03.105377Z",
     "iopub.status.busy": "2023-02-25T21:24:03.105157Z",
     "iopub.status.idle": "2023-02-25T21:24:03.108842Z",
     "shell.execute_reply": "2023-02-25T21:24:03.108069Z"
    }
   },
   "outputs": [],
   "source": [
    "def costFunction2(x, x̂, ẙ, y, ŷ, ind):\t\n",
    "#\tExample of just return 1 value, this is just a regular autoencoder\n",
    "\treturn torch.sum((x - ŷ) ** 2)"
   ]
  },
  {
   "cell_type": "code",
   "execution_count": 6,
   "metadata": {
    "execution": {
     "iopub.execute_input": "2023-02-25T21:24:03.111777Z",
     "iopub.status.busy": "2023-02-25T21:24:03.111563Z",
     "iopub.status.idle": "2023-02-25T21:24:03.130576Z",
     "shell.execute_reply": "2023-02-25T21:24:03.129827Z"
    }
   },
   "outputs": [],
   "source": [
    "data = wuml.wData('../../data/shap_regress_example_uniform.csv', label_column_name='label', label_type='continuous', \n",
    "\t\t\t\tpreprocess_data='center and scale',\tfirst_row_is_label=True)"
   ]
  },
  {
   "cell_type": "code",
   "execution_count": 7,
   "metadata": {
    "execution": {
     "iopub.execute_input": "2023-02-25T21:24:03.135395Z",
     "iopub.status.busy": "2023-02-25T21:24:03.135195Z",
     "iopub.status.idle": "2023-02-25T21:24:03.139773Z",
     "shell.execute_reply": "2023-02-25T21:24:03.139118Z"
    }
   },
   "outputs": [],
   "source": [
    "[X_train, X_test, y_train, y_test] = wuml.split_training_test(data, test_percentage=0.2)"
   ]
  },
  {
   "cell_type": "code",
   "execution_count": 8,
   "metadata": {
    "execution": {
     "iopub.execute_input": "2023-02-25T21:24:03.144284Z",
     "iopub.status.busy": "2023-02-25T21:24:03.144082Z",
     "iopub.status.idle": "2023-02-25T21:25:51.546779Z",
     "shell.execute_reply": "2023-02-25T21:25:51.545703Z"
    }
   },
   "outputs": [
    {
     "name": "stdout",
     "output_type": "stream",
     "text": [
      "\tepoch: 1000, Total Loss/dimension: 0.3411, Reconstruct loss: 0.0118, Objective loss: 0.3293, Learning Rate: 0.00000024"
     ]
    }
   ],
   "source": [
    "AE = wuml.autoencoder(12, X_train, default_depth=2, costFunction=costFunction, # costFunction and costFunction2 both works\n",
    "\t\t\t\t\t\tmax_epoch=1000, encoder_output_weight_structure=[(1,'none')] ) \n",
    "AE.fit()"
   ]
  },
  {
   "cell_type": "markdown",
   "metadata": {},
   "source": [
    "Result of the data reconstruction"
   ]
  },
  {
   "cell_type": "code",
   "execution_count": 9,
   "metadata": {
    "execution": {
     "iopub.execute_input": "2023-02-25T21:25:51.553145Z",
     "iopub.status.busy": "2023-02-25T21:25:51.552797Z",
     "iopub.status.idle": "2023-02-25T21:25:51.564786Z",
     "shell.execute_reply": "2023-02-25T21:25:51.563918Z"
    }
   },
   "outputs": [
    {
     "data": {
      "text/html": [
       "<html><body><h5><br><br></h5></body></html>"
      ],
      "text/plain": [
       "<IPython.core.display.HTML object>"
      ]
     },
     "metadata": {},
     "output_type": "display_data"
    },
    {
     "data": {
      "text/html": [
       "<html><body><h5>        recontruction        &nbsp &nbsporiginal           <br>[ 0.225  1.267  0.315  0.138]&nbsp &nbsp [ 0.109  0.853  0.292  0.279]<br>[-0.003  0.651 -0.468  0.801]&nbsp &nbsp [-0.341  0.591 -0.303  1.388]<br>[ 1.734 -0.328  1.476  1.115]&nbsp &nbsp [ 1.6   -0.402  0.972  0.228]<br>[ 0.035  2.428 -1.812 -1.045]&nbsp &nbsp [ 0.178  1.648 -1.623 -1.184]<br>[-1.58   1.641  0.521 -0.217]&nbsp &nbsp [-1.792  1.297  0.924  1.318]<br>                             &nbsp &nbsp<br><br></h5></body></html>"
      ],
      "text/plain": [
       "<IPython.core.display.HTML object>"
      ]
     },
     "metadata": {},
     "output_type": "display_data"
    }
   ],
   "source": [
    "ŷ = AE(data)\n",
    "wuml.jupyter_print('\\n\\n')\n",
    "recontructed = wuml.pretty_np_array(ŷ[0:5,0:5], front_tab='', title='recontruction')\n",
    "original = wuml.pretty_np_array(data.X[0:5,0:5], front_tab=' ', title='original')\n",
    "wuml.block_two_string_concatenate(recontructed, original, spacing='\\t', auto_print=True)"
   ]
  },
  {
   "cell_type": "markdown",
   "metadata": {},
   "source": [
    "This is the bottleneck output which is d=12"
   ]
  },
  {
   "cell_type": "code",
   "execution_count": 10,
   "metadata": {
    "execution": {
     "iopub.execute_input": "2023-02-25T21:25:51.568812Z",
     "iopub.status.busy": "2023-02-25T21:25:51.568606Z",
     "iopub.status.idle": "2023-02-25T21:25:51.593887Z",
     "shell.execute_reply": "2023-02-25T21:25:51.593068Z"
    }
   },
   "outputs": [
    {
     "data": {
      "text/html": [
       "<div>\n",
       "<style scoped>\n",
       "    .dataframe tbody tr th:only-of-type {\n",
       "        vertical-align: middle;\n",
       "    }\n",
       "\n",
       "    .dataframe tbody tr th {\n",
       "        vertical-align: top;\n",
       "    }\n",
       "\n",
       "    .dataframe thead th {\n",
       "        text-align: right;\n",
       "    }\n",
       "</style>\n",
       "<table border=\"1\" class=\"dataframe\">\n",
       "  <thead>\n",
       "    <tr style=\"text-align: right;\">\n",
       "      <th></th>\n",
       "      <th>0</th>\n",
       "      <th>1</th>\n",
       "      <th>2</th>\n",
       "      <th>3</th>\n",
       "      <th>4</th>\n",
       "      <th>5</th>\n",
       "      <th>6</th>\n",
       "      <th>7</th>\n",
       "      <th>8</th>\n",
       "      <th>9</th>\n",
       "      <th>10</th>\n",
       "      <th>11</th>\n",
       "    </tr>\n",
       "  </thead>\n",
       "  <tbody>\n",
       "    <tr>\n",
       "      <th>0</th>\n",
       "      <td>-0.375662</td>\n",
       "      <td>-0.715807</td>\n",
       "      <td>0.249164</td>\n",
       "      <td>-0.019211</td>\n",
       "      <td>0.980102</td>\n",
       "      <td>-0.013993</td>\n",
       "      <td>0.236471</td>\n",
       "      <td>-0.291849</td>\n",
       "      <td>0.122609</td>\n",
       "      <td>-0.691879</td>\n",
       "      <td>-0.404886</td>\n",
       "      <td>-0.530058</td>\n",
       "    </tr>\n",
       "    <tr>\n",
       "      <th>1</th>\n",
       "      <td>-0.628483</td>\n",
       "      <td>-0.069360</td>\n",
       "      <td>0.336649</td>\n",
       "      <td>-0.692152</td>\n",
       "      <td>1.550565</td>\n",
       "      <td>-0.309675</td>\n",
       "      <td>-0.749325</td>\n",
       "      <td>0.049820</td>\n",
       "      <td>0.063552</td>\n",
       "      <td>0.493014</td>\n",
       "      <td>0.002964</td>\n",
       "      <td>-1.380089</td>\n",
       "    </tr>\n",
       "    <tr>\n",
       "      <th>2</th>\n",
       "      <td>-0.207197</td>\n",
       "      <td>-0.078518</td>\n",
       "      <td>0.833849</td>\n",
       "      <td>-0.830380</td>\n",
       "      <td>-0.258148</td>\n",
       "      <td>0.025801</td>\n",
       "      <td>1.008763</td>\n",
       "      <td>-0.230676</td>\n",
       "      <td>0.499738</td>\n",
       "      <td>-0.745909</td>\n",
       "      <td>-1.308899</td>\n",
       "      <td>0.133290</td>\n",
       "    </tr>\n",
       "    <tr>\n",
       "      <th>3</th>\n",
       "      <td>0.419572</td>\n",
       "      <td>-2.031650</td>\n",
       "      <td>-0.597553</td>\n",
       "      <td>1.465419</td>\n",
       "      <td>0.737272</td>\n",
       "      <td>0.937542</td>\n",
       "      <td>0.646097</td>\n",
       "      <td>-0.329840</td>\n",
       "      <td>-0.798034</td>\n",
       "      <td>-1.059345</td>\n",
       "      <td>-0.537120</td>\n",
       "      <td>0.118401</td>\n",
       "    </tr>\n",
       "    <tr>\n",
       "      <th>4</th>\n",
       "      <td>-1.211542</td>\n",
       "      <td>-0.282739</td>\n",
       "      <td>0.133120</td>\n",
       "      <td>-0.230151</td>\n",
       "      <td>2.433915</td>\n",
       "      <td>-0.682815</td>\n",
       "      <td>-1.091368</td>\n",
       "      <td>-0.206134</td>\n",
       "      <td>0.511845</td>\n",
       "      <td>-0.216149</td>\n",
       "      <td>0.691064</td>\n",
       "      <td>-1.629051</td>\n",
       "    </tr>\n",
       "    <tr>\n",
       "      <th>...</th>\n",
       "      <td>...</td>\n",
       "      <td>...</td>\n",
       "      <td>...</td>\n",
       "      <td>...</td>\n",
       "      <td>...</td>\n",
       "      <td>...</td>\n",
       "      <td>...</td>\n",
       "      <td>...</td>\n",
       "      <td>...</td>\n",
       "      <td>...</td>\n",
       "      <td>...</td>\n",
       "      <td>...</td>\n",
       "    </tr>\n",
       "    <tr>\n",
       "      <th>25</th>\n",
       "      <td>-0.775843</td>\n",
       "      <td>0.869133</td>\n",
       "      <td>0.917701</td>\n",
       "      <td>-1.670372</td>\n",
       "      <td>0.607559</td>\n",
       "      <td>-0.471656</td>\n",
       "      <td>-0.387175</td>\n",
       "      <td>0.186572</td>\n",
       "      <td>0.718631</td>\n",
       "      <td>0.596187</td>\n",
       "      <td>-0.639784</td>\n",
       "      <td>-0.932049</td>\n",
       "    </tr>\n",
       "    <tr>\n",
       "      <th>26</th>\n",
       "      <td>-0.735538</td>\n",
       "      <td>-0.304388</td>\n",
       "      <td>-0.052382</td>\n",
       "      <td>-0.024278</td>\n",
       "      <td>1.291752</td>\n",
       "      <td>-0.017640</td>\n",
       "      <td>-0.586115</td>\n",
       "      <td>0.009325</td>\n",
       "      <td>0.434586</td>\n",
       "      <td>-0.201970</td>\n",
       "      <td>-0.022805</td>\n",
       "      <td>-0.662089</td>\n",
       "    </tr>\n",
       "    <tr>\n",
       "      <th>27</th>\n",
       "      <td>-0.700002</td>\n",
       "      <td>-0.735761</td>\n",
       "      <td>0.073844</td>\n",
       "      <td>-0.034496</td>\n",
       "      <td>2.295952</td>\n",
       "      <td>-0.402416</td>\n",
       "      <td>-0.815087</td>\n",
       "      <td>-0.223158</td>\n",
       "      <td>-0.156025</td>\n",
       "      <td>-0.011227</td>\n",
       "      <td>0.492211</td>\n",
       "      <td>-1.675737</td>\n",
       "    </tr>\n",
       "    <tr>\n",
       "      <th>28</th>\n",
       "      <td>-0.432522</td>\n",
       "      <td>-0.018357</td>\n",
       "      <td>0.435001</td>\n",
       "      <td>-0.461742</td>\n",
       "      <td>-0.135788</td>\n",
       "      <td>0.183609</td>\n",
       "      <td>0.573621</td>\n",
       "      <td>-0.073041</td>\n",
       "      <td>0.772985</td>\n",
       "      <td>-0.748749</td>\n",
       "      <td>-1.060780</td>\n",
       "      <td>0.344389</td>\n",
       "    </tr>\n",
       "    <tr>\n",
       "      <th>29</th>\n",
       "      <td>-0.396293</td>\n",
       "      <td>-0.203230</td>\n",
       "      <td>0.971461</td>\n",
       "      <td>-0.896092</td>\n",
       "      <td>0.389276</td>\n",
       "      <td>-0.347431</td>\n",
       "      <td>0.865566</td>\n",
       "      <td>-0.423412</td>\n",
       "      <td>0.438300</td>\n",
       "      <td>-0.854197</td>\n",
       "      <td>-0.940783</td>\n",
       "      <td>-0.425925</td>\n",
       "    </tr>\n",
       "  </tbody>\n",
       "</table>\n",
       "<p>30 rows × 12 columns</p>\n",
       "</div>"
      ],
      "text/plain": [
       "          0         1         2         3         4         5         6   \\\n",
       "0  -0.375662 -0.715807  0.249164 -0.019211  0.980102 -0.013993  0.236471   \n",
       "1  -0.628483 -0.069360  0.336649 -0.692152  1.550565 -0.309675 -0.749325   \n",
       "2  -0.207197 -0.078518  0.833849 -0.830380 -0.258148  0.025801  1.008763   \n",
       "3   0.419572 -2.031650 -0.597553  1.465419  0.737272  0.937542  0.646097   \n",
       "4  -1.211542 -0.282739  0.133120 -0.230151  2.433915 -0.682815 -1.091368   \n",
       "..       ...       ...       ...       ...       ...       ...       ...   \n",
       "25 -0.775843  0.869133  0.917701 -1.670372  0.607559 -0.471656 -0.387175   \n",
       "26 -0.735538 -0.304388 -0.052382 -0.024278  1.291752 -0.017640 -0.586115   \n",
       "27 -0.700002 -0.735761  0.073844 -0.034496  2.295952 -0.402416 -0.815087   \n",
       "28 -0.432522 -0.018357  0.435001 -0.461742 -0.135788  0.183609  0.573621   \n",
       "29 -0.396293 -0.203230  0.971461 -0.896092  0.389276 -0.347431  0.865566   \n",
       "\n",
       "          7         8         9         10        11  \n",
       "0  -0.291849  0.122609 -0.691879 -0.404886 -0.530058  \n",
       "1   0.049820  0.063552  0.493014  0.002964 -1.380089  \n",
       "2  -0.230676  0.499738 -0.745909 -1.308899  0.133290  \n",
       "3  -0.329840 -0.798034 -1.059345 -0.537120  0.118401  \n",
       "4  -0.206134  0.511845 -0.216149  0.691064 -1.629051  \n",
       "..       ...       ...       ...       ...       ...  \n",
       "25  0.186572  0.718631  0.596187 -0.639784 -0.932049  \n",
       "26  0.009325  0.434586 -0.201970 -0.022805 -0.662089  \n",
       "27 -0.223158 -0.156025 -0.011227  0.492211 -1.675737  \n",
       "28 -0.073041  0.772985 -0.748749 -1.060780  0.344389  \n",
       "29 -0.423412  0.438300 -0.854197 -0.940783 -0.425925  \n",
       "\n",
       "[30 rows x 12 columns]"
      ]
     },
     "metadata": {},
     "output_type": "display_data"
    },
    {
     "data": {
      "text/html": [
       "<html><body><h5><br></h5></body></html>"
      ],
      "text/plain": [
       "<IPython.core.display.HTML object>"
      ]
     },
     "metadata": {},
     "output_type": "display_data"
    }
   ],
   "source": [
    "x̂ = AE.reduce_dimension(data, output_type='wData')\n",
    "wuml.jupyter_print(x̂)\n",
    "wuml.jupyter_print('\\n')"
   ]
  },
  {
   "cell_type": "markdown",
   "metadata": {},
   "source": [
    "This is the objective network output Training error"
   ]
  },
  {
   "cell_type": "code",
   "execution_count": 11,
   "metadata": {
    "execution": {
     "iopub.execute_input": "2023-02-25T21:25:51.598107Z",
     "iopub.status.busy": "2023-02-25T21:25:51.597865Z",
     "iopub.status.idle": "2023-02-25T21:25:51.915928Z",
     "shell.execute_reply": "2023-02-25T21:25:51.914744Z"
    }
   },
   "outputs": [
    {
     "data": {
      "text/html": [
       "<html><body><h5>Avg error: 1.0500</h5></body></html>"
      ],
      "text/plain": [
       "<IPython.core.display.HTML object>"
      ]
     },
     "metadata": {},
     "output_type": "display_data"
    },
    {
     "data": {
      "image/png": "[encoded data removed]",
      "text/plain": [
       "<Figure size 640x480 with 1 Axes>"
      ]
     },
     "metadata": {},
     "output_type": "display_data"
    }
   ],
   "source": [
    "ẙ = AE.objective_network(X_train)\n",
    "res = wuml.output_regression_result(y_train, ẙ, sort_by='error')"
   ]
  },
  {
   "cell_type": "markdown",
   "metadata": {},
   "source": [
    "This is the objective network output Test error"
   ]
  },
  {
   "cell_type": "code",
   "execution_count": 12,
   "metadata": {
    "execution": {
     "iopub.execute_input": "2023-02-25T21:25:51.949243Z",
     "iopub.status.busy": "2023-02-25T21:25:51.948852Z",
     "iopub.status.idle": "2023-02-25T21:25:52.234337Z",
     "shell.execute_reply": "2023-02-25T21:25:52.233645Z"
    }
   },
   "outputs": [
    {
     "data": {
      "text/html": [
       "<html><body><h5>Avg error: 0.6783</h5></body></html>"
      ],
      "text/plain": [
       "<IPython.core.display.HTML object>"
      ]
     },
     "metadata": {},
     "output_type": "display_data"
    },
    {
     "data": {
      "image/png": "[encoded data removed]",
      "text/plain": [
       "<Figure size 640x480 with 1 Axes>"
      ]
     },
     "metadata": {},
     "output_type": "display_data"
    }
   ],
   "source": [
    "ẙ = AE.objective_network(X_test)\n",
    "res = wuml.output_regression_result(y_test, ẙ, sort_by='error')"
   ]
  }
 ],
 "metadata": {
  "kernelspec": {
   "display_name": "Python 3",
   "language": "python",
   "name": "python3"
  },
  "language_info": {
   "codemirror_mode": {
    "name": "ipython",
    "version": 3
   },
   "file_extension": ".py",
   "mimetype": "text/x-python",
   "name": "python",
   "nbconvert_exporter": "python",
   "pygments_lexer": "ipython3",
   "version": "3.8.10"
  }
 },
 "nbformat": 4,
 "nbformat_minor": 2
}
