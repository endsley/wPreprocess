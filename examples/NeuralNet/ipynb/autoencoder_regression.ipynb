{
 "cells": [
  {
   "cell_type": "code",
   "execution_count": 1,
   "metadata": {},
   "outputs": [],
   "source": [
    "#!/usr/bin/env python"
   ]
  },
  {
   "cell_type": "code",
   "execution_count": 2,
   "metadata": {},
   "outputs": [],
   "source": [
    "import os\n",
    "import sys\n",
    "if os.path.exists('/home/chieh/code/wPlotLib'):\n",
    "\tsys.path.insert(0,'/home/chieh/code/wPlotLib')\n",
    "if os.path.exists('/home/chieh/code/wuML'):\n",
    "\tsys.path.insert(0,'/home/chieh/code/wuML')"
   ]
  },
  {
   "cell_type": "code",
   "execution_count": 3,
   "metadata": {},
   "outputs": [],
   "source": [
    "import wuml\n",
    "import numpy as np\n",
    "import torch\n",
    "import torch\n",
    "import torch.nn as nn"
   ]
  },
  {
   "cell_type": "code",
   "execution_count": 4,
   "metadata": {},
   "outputs": [],
   "source": [
    "def costFunction(x, x̂, ẙ, y, ŷ, ind):\t\n",
    "#\tx -> encoder -> x̂\n",
    "#\tx̂ -> encoder_linear_output -> ẙ\t\n",
    "#\tx̂ -> decoder -> ŷ\t\n",
    "#\tpossible autoencoder objective λ could be 0\n",
    "#\tloss = (x - ŷ)ᒾ + λ * objective(ẙ, y)\n",
    "#\n",
    "#\tThis function can return 1 value or 3 values in a list\n",
    "#\tif return 1 value, just the loss\n",
    "#\tif return 3 values, [total_loss, reconstruction_loss, extra network from ẙ loss]\n",
    "#\n",
    "#\tIn this example, we perform both reconstruction and CE loss\n",
    "#\n",
    "\tCE_loss = nn.CrossEntropyLoss() #weird pytorch, dim of y is 1, and ŷ is 20x3\n",
    "\tR = torch.sum((x - ŷ) ** 2)/(128*11)\t#scaled by batch size times data dimension\n",
    "\tmse = torch.sum((ẙ - y) ** 2)/(128)\t#scaled by batch size times data dimension\n",
    "\tloss = R + mse\n",
    "\treturn [loss, R, mse]"
   ]
  },
  {
   "cell_type": "code",
   "execution_count": 5,
   "metadata": {},
   "outputs": [],
   "source": [
    "def costFunction2(x, x̂, ẙ, y, ŷ, ind):\t\n",
    "#\tExample of just return 1 value, this is just a regular autoencoder\n",
    "\treturn torch.sum((x - ŷ) ** 2)"
   ]
  },
  {
   "cell_type": "code",
   "execution_count": 6,
   "metadata": {},
   "outputs": [],
   "source": [
    "data = wuml.wData('../../data/shap_regress_example_uniform.csv', label_column_name='label', label_type='continuous', \n",
    "\t\t\t\tpreprocess_data='center and scale',\tfirst_row_is_label=True)"
   ]
  },
  {
   "cell_type": "code",
   "execution_count": 7,
   "metadata": {},
   "outputs": [],
   "source": [
    "[X_train, X_test, y_train, y_test] = wuml.split_training_test(data, test_percentage=0.2)"
   ]
  },
  {
   "cell_type": "code",
   "execution_count": 8,
   "metadata": {},
   "outputs": [
    {
     "name": "stdout",
     "output_type": "stream",
     "text": [
      "\tepoch: 1000, Total Loss/dimension: 0.4374, Reconstruct loss: 0.0146, Objective loss: 0.4228, Learning Rate: 0.00000098"
     ]
    }
   ],
   "source": [
    "AE = wuml.autoencoder(7, X_train, default_depth=2, costFunction=costFunction, # costFunction and costFunction2 both works\n",
    "\t\t\t\t\t\tmax_epoch=1000, encoder_output_weight_structure=[(1,'none')] ) \n",
    "AE.fit()"
   ]
  },
  {
   "cell_type": "markdown",
   "metadata": {},
   "source": [
    "Result of the data reconstruction"
   ]
  },
  {
   "cell_type": "code",
   "execution_count": 9,
   "metadata": {},
   "outputs": [
    {
     "name": "stdout",
     "output_type": "stream",
     "text": [
      "\n",
      "\n",
      "\n"
     ]
    },
    {
     "data": {
      "text/html": [
       "<html><body><h3>          recontruction          \toriginal             <br>[ 0.0281  1.0012  0.4203 -0.7607]\t [ 0.1087  0.8527  0.2922  0.2789]<br>[-0.6313  0.4551  0.0627  0.6913]\t [-0.3411  0.5906 -0.3027  1.3875]<br>[ 1.3999 -0.3933  0.2611 -0.3326]\t [ 1.6004 -0.4021  0.9725  0.2278]<br>[ 0.601   1.8934 -1.374  -2.1743]\t [ 0.1778  1.6483 -1.623  -1.1841]<br>[-2.0961  1.5415  1.9109 -0.0643]\t [-1.7918  1.2966  0.9239  1.3179]<br>                                 \t<br><br></h3></body></html>"
      ],
      "text/plain": [
       "<IPython.core.display.HTML object>"
      ]
     },
     "metadata": {},
     "output_type": "display_data"
    }
   ],
   "source": [
    "ŷ = AE(data)\n",
    "print('\\n\\n')\n",
    "recontructed = wuml.pretty_np_array(ŷ[0:5,0:5], front_tab='', title='recontruction')\n",
    "original = wuml.pretty_np_array(data.X[0:5,0:5], front_tab=' ', title='original')\n",
    "wuml.block_two_string_concatenate(recontructed, original, spacing='\\t', auto_print=True)"
   ]
  },
  {
   "cell_type": "markdown",
   "metadata": {},
   "source": [
    "This is the bottleneck output which is d=12"
   ]
  },
  {
   "cell_type": "code",
   "execution_count": 10,
   "metadata": {},
   "outputs": [
    {
     "data": {
      "text/html": [
       "<div>\n",
       "<style scoped>\n",
       "    .dataframe tbody tr th:only-of-type {\n",
       "        vertical-align: middle;\n",
       "    }\n",
       "\n",
       "    .dataframe tbody tr th {\n",
       "        vertical-align: top;\n",
       "    }\n",
       "\n",
       "    .dataframe thead th {\n",
       "        text-align: right;\n",
       "    }\n",
       "</style>\n",
       "<table border=\"1\" class=\"dataframe\">\n",
       "  <thead>\n",
       "    <tr style=\"text-align: right;\">\n",
       "      <th></th>\n",
       "      <th>0</th>\n",
       "      <th>1</th>\n",
       "      <th>2</th>\n",
       "      <th>3</th>\n",
       "      <th>4</th>\n",
       "      <th>5</th>\n",
       "      <th>6</th>\n",
       "    </tr>\n",
       "  </thead>\n",
       "  <tbody>\n",
       "    <tr>\n",
       "      <th>0</th>\n",
       "      <td>0.692168</td>\n",
       "      <td>0.238576</td>\n",
       "      <td>-0.302232</td>\n",
       "      <td>1.107141</td>\n",
       "      <td>0.208717</td>\n",
       "      <td>0.289579</td>\n",
       "      <td>0.116262</td>\n",
       "    </tr>\n",
       "    <tr>\n",
       "      <th>1</th>\n",
       "      <td>-0.166590</td>\n",
       "      <td>-0.725461</td>\n",
       "      <td>0.944446</td>\n",
       "      <td>1.335740</td>\n",
       "      <td>-0.080951</td>\n",
       "      <td>0.829027</td>\n",
       "      <td>0.767283</td>\n",
       "    </tr>\n",
       "    <tr>\n",
       "      <th>2</th>\n",
       "      <td>-0.170615</td>\n",
       "      <td>0.999011</td>\n",
       "      <td>-1.203271</td>\n",
       "      <td>0.302971</td>\n",
       "      <td>0.645509</td>\n",
       "      <td>0.063847</td>\n",
       "      <td>1.197284</td>\n",
       "    </tr>\n",
       "    <tr>\n",
       "      <th>3</th>\n",
       "      <td>1.947343</td>\n",
       "      <td>0.849167</td>\n",
       "      <td>-0.905920</td>\n",
       "      <td>-0.600097</td>\n",
       "      <td>-0.364517</td>\n",
       "      <td>-0.422102</td>\n",
       "      <td>-1.440485</td>\n",
       "    </tr>\n",
       "    <tr>\n",
       "      <th>4</th>\n",
       "      <td>0.547533</td>\n",
       "      <td>-1.089884</td>\n",
       "      <td>1.244860</td>\n",
       "      <td>3.191465</td>\n",
       "      <td>0.290295</td>\n",
       "      <td>1.033538</td>\n",
       "      <td>0.209290</td>\n",
       "    </tr>\n",
       "    <tr>\n",
       "      <th>...</th>\n",
       "      <td>...</td>\n",
       "      <td>...</td>\n",
       "      <td>...</td>\n",
       "      <td>...</td>\n",
       "      <td>...</td>\n",
       "      <td>...</td>\n",
       "      <td>...</td>\n",
       "    </tr>\n",
       "    <tr>\n",
       "      <th>25</th>\n",
       "      <td>-1.237892</td>\n",
       "      <td>-0.316856</td>\n",
       "      <td>0.469902</td>\n",
       "      <td>1.186737</td>\n",
       "      <td>0.545123</td>\n",
       "      <td>0.808332</td>\n",
       "      <td>2.071631</td>\n",
       "    </tr>\n",
       "    <tr>\n",
       "      <th>26</th>\n",
       "      <td>0.351629</td>\n",
       "      <td>-0.289396</td>\n",
       "      <td>0.455938</td>\n",
       "      <td>1.552851</td>\n",
       "      <td>0.463467</td>\n",
       "      <td>0.447641</td>\n",
       "      <td>0.335163</td>\n",
       "    </tr>\n",
       "    <tr>\n",
       "      <th>27</th>\n",
       "      <td>0.756281</td>\n",
       "      <td>-0.922154</td>\n",
       "      <td>1.072191</td>\n",
       "      <td>2.081667</td>\n",
       "      <td>-0.306138</td>\n",
       "      <td>0.886827</td>\n",
       "      <td>-0.160459</td>\n",
       "    </tr>\n",
       "    <tr>\n",
       "      <th>28</th>\n",
       "      <td>-0.068931</td>\n",
       "      <td>0.857232</td>\n",
       "      <td>-0.939900</td>\n",
       "      <td>0.607070</td>\n",
       "      <td>0.968045</td>\n",
       "      <td>-0.019014</td>\n",
       "      <td>1.034454</td>\n",
       "    </tr>\n",
       "    <tr>\n",
       "      <th>29</th>\n",
       "      <td>0.069283</td>\n",
       "      <td>0.621177</td>\n",
       "      <td>-0.874935</td>\n",
       "      <td>1.156339</td>\n",
       "      <td>0.452559</td>\n",
       "      <td>0.371522</td>\n",
       "      <td>1.008012</td>\n",
       "    </tr>\n",
       "  </tbody>\n",
       "</table>\n",
       "<p>30 rows × 7 columns</p>\n",
       "</div>"
      ],
      "text/plain": [
       "           0         1         2         3         4         5         6\n",
       "0   0.692168  0.238576 -0.302232  1.107141  0.208717  0.289579  0.116262\n",
       "1  -0.166590 -0.725461  0.944446  1.335740 -0.080951  0.829027  0.767283\n",
       "2  -0.170615  0.999011 -1.203271  0.302971  0.645509  0.063847  1.197284\n",
       "3   1.947343  0.849167 -0.905920 -0.600097 -0.364517 -0.422102 -1.440485\n",
       "4   0.547533 -1.089884  1.244860  3.191465  0.290295  1.033538  0.209290\n",
       "..       ...       ...       ...       ...       ...       ...       ...\n",
       "25 -1.237892 -0.316856  0.469902  1.186737  0.545123  0.808332  2.071631\n",
       "26  0.351629 -0.289396  0.455938  1.552851  0.463467  0.447641  0.335163\n",
       "27  0.756281 -0.922154  1.072191  2.081667 -0.306138  0.886827 -0.160459\n",
       "28 -0.068931  0.857232 -0.939900  0.607070  0.968045 -0.019014  1.034454\n",
       "29  0.069283  0.621177 -0.874935  1.156339  0.452559  0.371522  1.008012\n",
       "\n",
       "[30 rows x 7 columns]"
      ]
     },
     "metadata": {},
     "output_type": "display_data"
    },
    {
     "name": "stdout",
     "output_type": "stream",
     "text": [
      "\n",
      "\n"
     ]
    }
   ],
   "source": [
    "x̂ = AE.reduce_dimension(data, output_type='wData')\n",
    "wuml.jupyter_print(x̂)\n",
    "print('\\n')"
   ]
  },
  {
   "cell_type": "markdown",
   "metadata": {},
   "source": [
    "This is the objective network output Training error"
   ]
  },
  {
   "cell_type": "code",
   "execution_count": 11,
   "metadata": {},
   "outputs": [
    {
     "data": {
      "image/png": "[encoded data removed]",
      "text/plain": [
       "<Figure size 640x480 with 1 Axes>"
      ]
     },
     "metadata": {},
     "output_type": "display_data"
    },
    {
     "data": {
      "text/html": [
       "<html><body><h3>Avg error: 1.2704<br><br></h3></body></html>"
      ],
      "text/plain": [
       "<IPython.core.display.HTML object>"
      ]
     },
     "metadata": {},
     "output_type": "display_data"
    },
    {
     "data": {
      "text/html": [
       "<div>\n",
       "<style scoped>\n",
       "    .dataframe tbody tr th:only-of-type {\n",
       "        vertical-align: middle;\n",
       "    }\n",
       "\n",
       "    .dataframe tbody tr th {\n",
       "        vertical-align: top;\n",
       "    }\n",
       "\n",
       "    .dataframe thead th {\n",
       "        text-align: right;\n",
       "    }\n",
       "</style>\n",
       "<table border=\"1\" class=\"dataframe\">\n",
       "  <thead>\n",
       "    <tr style=\"text-align: right;\">\n",
       "      <th></th>\n",
       "      <th>y</th>\n",
       "      <th>ŷ</th>\n",
       "      <th>Δy</th>\n",
       "    </tr>\n",
       "  </thead>\n",
       "  <tbody>\n",
       "    <tr>\n",
       "      <th>16</th>\n",
       "      <td>5.76</td>\n",
       "      <td>8.40</td>\n",
       "      <td>2.64</td>\n",
       "    </tr>\n",
       "    <tr>\n",
       "      <th>23</th>\n",
       "      <td>-8.05</td>\n",
       "      <td>-10.57</td>\n",
       "      <td>2.52</td>\n",
       "    </tr>\n",
       "    <tr>\n",
       "      <th>12</th>\n",
       "      <td>-5.72</td>\n",
       "      <td>-8.17</td>\n",
       "      <td>2.45</td>\n",
       "    </tr>\n",
       "    <tr>\n",
       "      <th>13</th>\n",
       "      <td>3.58</td>\n",
       "      <td>5.98</td>\n",
       "      <td>2.40</td>\n",
       "    </tr>\n",
       "    <tr>\n",
       "      <th>4</th>\n",
       "      <td>-7.50</td>\n",
       "      <td>-9.65</td>\n",
       "      <td>2.15</td>\n",
       "    </tr>\n",
       "    <tr>\n",
       "      <th>10</th>\n",
       "      <td>-5.67</td>\n",
       "      <td>-7.64</td>\n",
       "      <td>1.97</td>\n",
       "    </tr>\n",
       "    <tr>\n",
       "      <th>18</th>\n",
       "      <td>-4.35</td>\n",
       "      <td>-6.27</td>\n",
       "      <td>1.92</td>\n",
       "    </tr>\n",
       "    <tr>\n",
       "      <th>19</th>\n",
       "      <td>-4.14</td>\n",
       "      <td>-6.01</td>\n",
       "      <td>1.87</td>\n",
       "    </tr>\n",
       "    <tr>\n",
       "      <th>8</th>\n",
       "      <td>3.38</td>\n",
       "      <td>5.19</td>\n",
       "      <td>1.81</td>\n",
       "    </tr>\n",
       "    <tr>\n",
       "      <th>15</th>\n",
       "      <td>-3.27</td>\n",
       "      <td>-4.57</td>\n",
       "      <td>1.30</td>\n",
       "    </tr>\n",
       "    <tr>\n",
       "      <th>7</th>\n",
       "      <td>3.82</td>\n",
       "      <td>5.09</td>\n",
       "      <td>1.27</td>\n",
       "    </tr>\n",
       "    <tr>\n",
       "      <th>20</th>\n",
       "      <td>1.90</td>\n",
       "      <td>3.09</td>\n",
       "      <td>1.19</td>\n",
       "    </tr>\n",
       "    <tr>\n",
       "      <th>1</th>\n",
       "      <td>2.93</td>\n",
       "      <td>4.07</td>\n",
       "      <td>1.14</td>\n",
       "    </tr>\n",
       "    <tr>\n",
       "      <th>2</th>\n",
       "      <td>-1.82</td>\n",
       "      <td>-2.90</td>\n",
       "      <td>1.08</td>\n",
       "    </tr>\n",
       "    <tr>\n",
       "      <th>14</th>\n",
       "      <td>2.48</td>\n",
       "      <td>3.53</td>\n",
       "      <td>1.05</td>\n",
       "    </tr>\n",
       "    <tr>\n",
       "      <th>17</th>\n",
       "      <td>-1.00</td>\n",
       "      <td>-1.79</td>\n",
       "      <td>0.79</td>\n",
       "    </tr>\n",
       "    <tr>\n",
       "      <th>6</th>\n",
       "      <td>-1.00</td>\n",
       "      <td>-1.53</td>\n",
       "      <td>0.53</td>\n",
       "    </tr>\n",
       "    <tr>\n",
       "      <th>5</th>\n",
       "      <td>0.62</td>\n",
       "      <td>1.13</td>\n",
       "      <td>0.51</td>\n",
       "    </tr>\n",
       "    <tr>\n",
       "      <th>3</th>\n",
       "      <td>-1.10</td>\n",
       "      <td>-1.55</td>\n",
       "      <td>0.45</td>\n",
       "    </tr>\n",
       "    <tr>\n",
       "      <th>9</th>\n",
       "      <td>-1.88</td>\n",
       "      <td>-2.33</td>\n",
       "      <td>0.45</td>\n",
       "    </tr>\n",
       "    <tr>\n",
       "      <th>21</th>\n",
       "      <td>1.63</td>\n",
       "      <td>1.96</td>\n",
       "      <td>0.33</td>\n",
       "    </tr>\n",
       "    <tr>\n",
       "      <th>0</th>\n",
       "      <td>0.51</td>\n",
       "      <td>0.20</td>\n",
       "      <td>0.31</td>\n",
       "    </tr>\n",
       "    <tr>\n",
       "      <th>11</th>\n",
       "      <td>0.78</td>\n",
       "      <td>0.50</td>\n",
       "      <td>0.28</td>\n",
       "    </tr>\n",
       "    <tr>\n",
       "      <th>22</th>\n",
       "      <td>0.60</td>\n",
       "      <td>0.68</td>\n",
       "      <td>0.08</td>\n",
       "    </tr>\n",
       "  </tbody>\n",
       "</table>\n",
       "</div>"
      ],
      "text/plain": [
       "       y      ŷ    Δy\n",
       "16  5.76   8.40  2.64\n",
       "23 -8.05 -10.57  2.52\n",
       "12 -5.72  -8.17  2.45\n",
       "13  3.58   5.98  2.40\n",
       "4  -7.50  -9.65  2.15\n",
       "10 -5.67  -7.64  1.97\n",
       "18 -4.35  -6.27  1.92\n",
       "19 -4.14  -6.01  1.87\n",
       "8   3.38   5.19  1.81\n",
       "15 -3.27  -4.57  1.30\n",
       "7   3.82   5.09  1.27\n",
       "20  1.90   3.09  1.19\n",
       "1   2.93   4.07  1.14\n",
       "2  -1.82  -2.90  1.08\n",
       "14  2.48   3.53  1.05\n",
       "17 -1.00  -1.79  0.79\n",
       "6  -1.00  -1.53  0.53\n",
       "5   0.62   1.13  0.51\n",
       "3  -1.10  -1.55  0.45\n",
       "9  -1.88  -2.33  0.45\n",
       "21  1.63   1.96  0.33\n",
       "0   0.51   0.20  0.31\n",
       "11  0.78   0.50  0.28\n",
       "22  0.60   0.68  0.08"
      ]
     },
     "metadata": {},
     "output_type": "display_data"
    }
   ],
   "source": [
    "ẙ = AE.objective_network(X_train)\n",
    "res = wuml.output_regression_result(y_train, ẙ, sort_by='error')"
   ]
  },
  {
   "cell_type": "markdown",
   "metadata": {},
   "source": [
    "This is the objective network output Test error"
   ]
  },
  {
   "cell_type": "code",
   "execution_count": 12,
   "metadata": {},
   "outputs": [
    {
     "data": {
      "image/png": "[encoded data removed]",
      "text/plain": [
       "<Figure size 640x480 with 1 Axes>"
      ]
     },
     "metadata": {},
     "output_type": "display_data"
    },
    {
     "data": {
      "text/html": [
       "<html><body><h3>Avg error: 0.9283<br><br></h3></body></html>"
      ],
      "text/plain": [
       "<IPython.core.display.HTML object>"
      ]
     },
     "metadata": {},
     "output_type": "display_data"
    },
    {
     "data": {
      "text/html": [
       "<div>\n",
       "<style scoped>\n",
       "    .dataframe tbody tr th:only-of-type {\n",
       "        vertical-align: middle;\n",
       "    }\n",
       "\n",
       "    .dataframe tbody tr th {\n",
       "        vertical-align: top;\n",
       "    }\n",
       "\n",
       "    .dataframe thead th {\n",
       "        text-align: right;\n",
       "    }\n",
       "</style>\n",
       "<table border=\"1\" class=\"dataframe\">\n",
       "  <thead>\n",
       "    <tr style=\"text-align: right;\">\n",
       "      <th></th>\n",
       "      <th>y</th>\n",
       "      <th>ŷ</th>\n",
       "      <th>Δy</th>\n",
       "    </tr>\n",
       "  </thead>\n",
       "  <tbody>\n",
       "    <tr>\n",
       "      <th>0</th>\n",
       "      <td>-5.91</td>\n",
       "      <td>-7.38</td>\n",
       "      <td>1.47</td>\n",
       "    </tr>\n",
       "    <tr>\n",
       "      <th>5</th>\n",
       "      <td>-2.31</td>\n",
       "      <td>-3.46</td>\n",
       "      <td>1.15</td>\n",
       "    </tr>\n",
       "    <tr>\n",
       "      <th>4</th>\n",
       "      <td>-2.61</td>\n",
       "      <td>-3.66</td>\n",
       "      <td>1.05</td>\n",
       "    </tr>\n",
       "    <tr>\n",
       "      <th>3</th>\n",
       "      <td>0.20</td>\n",
       "      <td>-0.56</td>\n",
       "      <td>0.76</td>\n",
       "    </tr>\n",
       "    <tr>\n",
       "      <th>2</th>\n",
       "      <td>-0.05</td>\n",
       "      <td>0.71</td>\n",
       "      <td>0.76</td>\n",
       "    </tr>\n",
       "    <tr>\n",
       "      <th>1</th>\n",
       "      <td>-0.21</td>\n",
       "      <td>-0.59</td>\n",
       "      <td>0.38</td>\n",
       "    </tr>\n",
       "  </tbody>\n",
       "</table>\n",
       "</div>"
      ],
      "text/plain": [
       "      y     ŷ    Δy\n",
       "0 -5.91 -7.38  1.47\n",
       "5 -2.31 -3.46  1.15\n",
       "4 -2.61 -3.66  1.05\n",
       "3  0.20 -0.56  0.76\n",
       "2 -0.05  0.71  0.76\n",
       "1 -0.21 -0.59  0.38"
      ]
     },
     "metadata": {},
     "output_type": "display_data"
    }
   ],
   "source": [
    "ẙ = AE.objective_network(X_test)\n",
    "res = wuml.output_regression_result(y_test, ẙ, sort_by='error')"
   ]
  }
 ],
 "metadata": {
  "kernelspec": {
   "display_name": "Python 3",
   "language": "python",
   "name": "python3"
  },
  "language_info": {
   "codemirror_mode": {
    "name": "ipython",
    "version": 3
   },
   "file_extension": ".py",
   "mimetype": "text/x-python",
   "name": "python",
   "nbconvert_exporter": "python",
   "pygments_lexer": "ipython3",
   "version": "3.8.10"
  }
 },
 "nbformat": 4,
 "nbformat_minor": 2
}
