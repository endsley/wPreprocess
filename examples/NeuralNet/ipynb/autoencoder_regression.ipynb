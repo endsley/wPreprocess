{
 "cells": [
  {
   "cell_type": "code",
   "execution_count": 1,
   "metadata": {
    "execution": {
     "iopub.execute_input": "2023-02-24T22:05:48.570440Z",
     "iopub.status.busy": "2023-02-24T22:05:48.569973Z",
     "iopub.status.idle": "2023-02-24T22:05:48.575512Z",
     "shell.execute_reply": "2023-02-24T22:05:48.574514Z"
    }
   },
   "outputs": [],
   "source": [
    "#!/usr/bin/env python"
   ]
  },
  {
   "cell_type": "code",
   "execution_count": 2,
   "metadata": {
    "execution": {
     "iopub.execute_input": "2023-02-24T22:05:48.579245Z",
     "iopub.status.busy": "2023-02-24T22:05:48.578909Z",
     "iopub.status.idle": "2023-02-24T22:05:48.584174Z",
     "shell.execute_reply": "2023-02-24T22:05:48.583175Z"
    }
   },
   "outputs": [],
   "source": [
    "import os\n",
    "import sys\n",
    "if os.path.exists('/home/chieh/code/wPlotLib'):\n",
    "\tsys.path.insert(0,'/home/chieh/code/wPlotLib')\n",
    "if os.path.exists('/home/chieh/code/wuML'):\n",
    "\tsys.path.insert(0,'/home/chieh/code/wuML')"
   ]
  },
  {
   "cell_type": "code",
   "execution_count": 3,
   "metadata": {
    "execution": {
     "iopub.execute_input": "2023-02-24T22:05:48.587631Z",
     "iopub.status.busy": "2023-02-24T22:05:48.587408Z",
     "iopub.status.idle": "2023-02-24T22:05:50.298905Z",
     "shell.execute_reply": "2023-02-24T22:05:50.298175Z"
    }
   },
   "outputs": [],
   "source": [
    "import wuml\n",
    "import numpy as np\n",
    "import torch\n",
    "import torch\n",
    "import torch.nn as nn"
   ]
  },
  {
   "cell_type": "code",
   "execution_count": 4,
   "metadata": {
    "execution": {
     "iopub.execute_input": "2023-02-24T22:05:50.302362Z",
     "iopub.status.busy": "2023-02-24T22:05:50.302172Z",
     "iopub.status.idle": "2023-02-24T22:05:50.307079Z",
     "shell.execute_reply": "2023-02-24T22:05:50.305895Z"
    }
   },
   "outputs": [],
   "source": [
    "def costFunction(x, x̂, ẙ, y, ŷ, ind):\t\n",
    "#\tx -> encoder -> x̂\n",
    "#\tx̂ -> encoder_linear_output -> ẙ\t\n",
    "#\tx̂ -> decoder -> ŷ\t\n",
    "#\tpossible autoencoder objective λ could be 0\n",
    "#\tloss = (x - ŷ)ᒾ + λ * objective(ẙ, y)\n",
    "#\n",
    "#\tThis function can return 1 value or 3 values in a list\n",
    "#\tif return 1 value, just the loss\n",
    "#\tif return 3 values, [total_loss, reconstruction_loss, extra network from ẙ loss]\n",
    "#\n",
    "#\tIn this example, we perform both reconstruction and CE loss\n",
    "#\n",
    "\tCE_loss = nn.CrossEntropyLoss() #weird pytorch, dim of y is 1, and ŷ is 20x3\n",
    "\tR = torch.sum((x - ŷ) ** 2)/(128*13)\t#scaled by batch size times data dimension\n",
    "\tmse = torch.sum((ẙ - y) ** 2)/(128)\t#scaled by batch size times data dimension\n",
    "\tloss = R + mse\n",
    "\treturn [loss, R, mse]"
   ]
  },
  {
   "cell_type": "code",
   "execution_count": 5,
   "metadata": {
    "execution": {
     "iopub.execute_input": "2023-02-24T22:05:50.310271Z",
     "iopub.status.busy": "2023-02-24T22:05:50.310067Z",
     "iopub.status.idle": "2023-02-24T22:05:50.314243Z",
     "shell.execute_reply": "2023-02-24T22:05:50.313369Z"
    }
   },
   "outputs": [],
   "source": [
    "def costFunction2(x, x̂, ẙ, y, ŷ, ind):\t\n",
    "#\tExample of just return 1 value, this is just a regular autoencoder\n",
    "\treturn torch.sum((x - ŷ) ** 2)"
   ]
  },
  {
   "cell_type": "code",
   "execution_count": 6,
   "metadata": {
    "execution": {
     "iopub.execute_input": "2023-02-24T22:05:50.317845Z",
     "iopub.status.busy": "2023-02-24T22:05:50.317658Z",
     "iopub.status.idle": "2023-02-24T22:05:50.336506Z",
     "shell.execute_reply": "2023-02-24T22:05:50.335808Z"
    }
   },
   "outputs": [],
   "source": [
    "data = wuml.wData('../../data/shap_regress_example_uniform.csv', label_column_name='label', label_type='continuous', \n",
    "\t\t\t\tpreprocess_data='center and scale',\tfirst_row_is_label=True)"
   ]
  },
  {
   "cell_type": "code",
   "execution_count": 7,
   "metadata": {
    "execution": {
     "iopub.execute_input": "2023-02-24T22:05:50.340321Z",
     "iopub.status.busy": "2023-02-24T22:05:50.340153Z",
     "iopub.status.idle": "2023-02-24T22:05:50.345118Z",
     "shell.execute_reply": "2023-02-24T22:05:50.344287Z"
    }
   },
   "outputs": [],
   "source": [
    "[X_train, X_test, y_train, y_test] = wuml.split_training_test(data, test_percentage=0.2)"
   ]
  },
  {
   "cell_type": "code",
   "execution_count": 8,
   "metadata": {
    "execution": {
     "iopub.execute_input": "2023-02-24T22:05:50.349422Z",
     "iopub.status.busy": "2023-02-24T22:05:50.349241Z",
     "iopub.status.idle": "2023-02-24T22:07:44.042958Z",
     "shell.execute_reply": "2023-02-24T22:07:44.041629Z"
    }
   },
   "outputs": [
    {
     "name": "stdout",
     "output_type": "stream",
     "text": [
      "\tepoch: 1000, Total Loss/dimension: 0.6015, Reconstruct loss: 0.0136, Objective loss: 0.5879, Learning Rate: 0.00000049"
     ]
    }
   ],
   "source": [
    "AE = wuml.autoencoder(12, X_train, default_depth=2, costFunction=costFunction, # costFunction and costFunction2 both works\n",
    "\t\t\t\t\t\tmax_epoch=1000, encoder_output_weight_structure=[(1,'none')] ) \n",
    "AE.fit()"
   ]
  },
  {
   "cell_type": "markdown",
   "metadata": {},
   "source": [
    "Result of the data reconstruction"
   ]
  },
  {
   "cell_type": "code",
   "execution_count": 9,
   "metadata": {
    "execution": {
     "iopub.execute_input": "2023-02-24T22:07:44.047746Z",
     "iopub.status.busy": "2023-02-24T22:07:44.047397Z",
     "iopub.status.idle": "2023-02-24T22:07:44.060990Z",
     "shell.execute_reply": "2023-02-24T22:07:44.060350Z"
    }
   },
   "outputs": [
    {
     "data": {
      "text/html": [
       "<html><body><h5><br><br></h5></body></html>"
      ],
      "text/plain": [
       "<IPython.core.display.HTML object>"
      ]
     },
     "metadata": {},
     "output_type": "display_data"
    },
    {
     "data": {
      "text/html": [
       "<html><body><h5>        recontruction        &nbsp &nbsporiginal           <br>[ 0.14   0.941  0.303 -0.214]&nbsp &nbsp [ 0.109  0.853  0.292  0.279]<br>[ 0.062  0.531 -0.538  0.655]&nbsp &nbsp [-0.341  0.591 -0.303  1.388]<br>[ 1.767 -0.217  1.069  1.277]&nbsp &nbsp [ 1.6   -0.402  0.972  0.228]<br>[-0.266  1.809 -1.624 -1.55 ]&nbsp &nbsp [ 0.178  1.648 -1.623 -1.184]<br>[-1.547  1.148  0.834 -0.946]&nbsp &nbsp [-1.792  1.297  0.924  1.318]<br>                             &nbsp &nbsp<br><br></h5></body></html>"
      ],
      "text/plain": [
       "<IPython.core.display.HTML object>"
      ]
     },
     "metadata": {},
     "output_type": "display_data"
    }
   ],
   "source": [
    "ŷ = AE(data)\n",
    "wuml.jupyter_print('\\n\\n')\n",
    "recontructed = wuml.pretty_np_array(ŷ[0:5,0:5], front_tab='', title='recontruction')\n",
    "original = wuml.pretty_np_array(data.X[0:5,0:5], front_tab=' ', title='original')\n",
    "wuml.block_two_string_concatenate(recontructed, original, spacing='\\t', auto_print=True)"
   ]
  },
  {
   "cell_type": "markdown",
   "metadata": {},
   "source": [
    "This is the bottleneck output which is d=12"
   ]
  },
  {
   "cell_type": "code",
   "execution_count": 10,
   "metadata": {
    "execution": {
     "iopub.execute_input": "2023-02-24T22:07:44.065282Z",
     "iopub.status.busy": "2023-02-24T22:07:44.065062Z",
     "iopub.status.idle": "2023-02-24T22:07:44.090676Z",
     "shell.execute_reply": "2023-02-24T22:07:44.089822Z"
    }
   },
   "outputs": [
    {
     "data": {
      "text/html": [
       "<div>\n",
       "<style scoped>\n",
       "    .dataframe tbody tr th:only-of-type {\n",
       "        vertical-align: middle;\n",
       "    }\n",
       "\n",
       "    .dataframe tbody tr th {\n",
       "        vertical-align: top;\n",
       "    }\n",
       "\n",
       "    .dataframe thead th {\n",
       "        text-align: right;\n",
       "    }\n",
       "</style>\n",
       "<table border=\"1\" class=\"dataframe\">\n",
       "  <thead>\n",
       "    <tr style=\"text-align: right;\">\n",
       "      <th></th>\n",
       "      <th>0</th>\n",
       "      <th>1</th>\n",
       "      <th>2</th>\n",
       "      <th>3</th>\n",
       "      <th>4</th>\n",
       "      <th>5</th>\n",
       "      <th>6</th>\n",
       "      <th>7</th>\n",
       "      <th>8</th>\n",
       "      <th>9</th>\n",
       "      <th>10</th>\n",
       "      <th>11</th>\n",
       "    </tr>\n",
       "  </thead>\n",
       "  <tbody>\n",
       "    <tr>\n",
       "      <th>0</th>\n",
       "      <td>-0.374133</td>\n",
       "      <td>-0.139243</td>\n",
       "      <td>0.068916</td>\n",
       "      <td>-0.360120</td>\n",
       "      <td>0.039960</td>\n",
       "      <td>0.517544</td>\n",
       "      <td>-0.226713</td>\n",
       "      <td>0.520601</td>\n",
       "      <td>-0.273546</td>\n",
       "      <td>-0.399290</td>\n",
       "      <td>-0.734112</td>\n",
       "      <td>-0.569699</td>\n",
       "    </tr>\n",
       "    <tr>\n",
       "      <th>1</th>\n",
       "      <td>-0.900236</td>\n",
       "      <td>-1.111333</td>\n",
       "      <td>-0.567846</td>\n",
       "      <td>-1.400674</td>\n",
       "      <td>-0.053165</td>\n",
       "      <td>0.248496</td>\n",
       "      <td>0.296838</td>\n",
       "      <td>0.235051</td>\n",
       "      <td>-0.505845</td>\n",
       "      <td>-0.648537</td>\n",
       "      <td>-1.712929</td>\n",
       "      <td>0.076128</td>\n",
       "    </tr>\n",
       "    <tr>\n",
       "      <th>2</th>\n",
       "      <td>0.227435</td>\n",
       "      <td>-0.391898</td>\n",
       "      <td>1.187675</td>\n",
       "      <td>-0.424313</td>\n",
       "      <td>-0.444254</td>\n",
       "      <td>-0.557973</td>\n",
       "      <td>-0.500425</td>\n",
       "      <td>-0.015134</td>\n",
       "      <td>0.038139</td>\n",
       "      <td>0.308603</td>\n",
       "      <td>0.201119</td>\n",
       "      <td>-0.571211</td>\n",
       "    </tr>\n",
       "    <tr>\n",
       "      <th>3</th>\n",
       "      <td>0.996158</td>\n",
       "      <td>1.637567</td>\n",
       "      <td>-0.467725</td>\n",
       "      <td>0.775716</td>\n",
       "      <td>0.002332</td>\n",
       "      <td>1.094623</td>\n",
       "      <td>-0.506751</td>\n",
       "      <td>1.175113</td>\n",
       "      <td>-0.181533</td>\n",
       "      <td>0.417281</td>\n",
       "      <td>0.421068</td>\n",
       "      <td>-0.968858</td>\n",
       "    </tr>\n",
       "    <tr>\n",
       "      <th>4</th>\n",
       "      <td>-2.115170</td>\n",
       "      <td>-1.334415</td>\n",
       "      <td>-0.801267</td>\n",
       "      <td>-1.201678</td>\n",
       "      <td>0.702859</td>\n",
       "      <td>1.211628</td>\n",
       "      <td>0.337728</td>\n",
       "      <td>0.565057</td>\n",
       "      <td>-0.810093</td>\n",
       "      <td>-1.724572</td>\n",
       "      <td>-2.508541</td>\n",
       "      <td>-0.198232</td>\n",
       "    </tr>\n",
       "    <tr>\n",
       "      <th>...</th>\n",
       "      <td>...</td>\n",
       "      <td>...</td>\n",
       "      <td>...</td>\n",
       "      <td>...</td>\n",
       "      <td>...</td>\n",
       "      <td>...</td>\n",
       "      <td>...</td>\n",
       "      <td>...</td>\n",
       "      <td>...</td>\n",
       "      <td>...</td>\n",
       "      <td>...</td>\n",
       "      <td>...</td>\n",
       "    </tr>\n",
       "    <tr>\n",
       "      <th>25</th>\n",
       "      <td>-0.886250</td>\n",
       "      <td>-1.881234</td>\n",
       "      <td>0.417130</td>\n",
       "      <td>-1.765054</td>\n",
       "      <td>-0.297090</td>\n",
       "      <td>-0.732737</td>\n",
       "      <td>0.189928</td>\n",
       "      <td>-0.376175</td>\n",
       "      <td>-0.397858</td>\n",
       "      <td>-0.309359</td>\n",
       "      <td>-1.209427</td>\n",
       "      <td>0.207707</td>\n",
       "    </tr>\n",
       "    <tr>\n",
       "      <th>26</th>\n",
       "      <td>-1.012426</td>\n",
       "      <td>-0.781777</td>\n",
       "      <td>-0.367380</td>\n",
       "      <td>-0.757202</td>\n",
       "      <td>0.463603</td>\n",
       "      <td>0.648107</td>\n",
       "      <td>0.082675</td>\n",
       "      <td>0.443687</td>\n",
       "      <td>-0.715982</td>\n",
       "      <td>-0.672238</td>\n",
       "      <td>-1.062266</td>\n",
       "      <td>-0.288909</td>\n",
       "    </tr>\n",
       "    <tr>\n",
       "      <th>27</th>\n",
       "      <td>-1.239528</td>\n",
       "      <td>-0.646718</td>\n",
       "      <td>-1.004983</td>\n",
       "      <td>-1.026330</td>\n",
       "      <td>0.252446</td>\n",
       "      <td>1.091599</td>\n",
       "      <td>0.271887</td>\n",
       "      <td>0.691842</td>\n",
       "      <td>-0.547177</td>\n",
       "      <td>-1.198688</td>\n",
       "      <td>-2.213171</td>\n",
       "      <td>-0.189557</td>\n",
       "    </tr>\n",
       "    <tr>\n",
       "      <th>28</th>\n",
       "      <td>-0.155989</td>\n",
       "      <td>-0.545671</td>\n",
       "      <td>0.936492</td>\n",
       "      <td>-0.345757</td>\n",
       "      <td>0.031790</td>\n",
       "      <td>-0.247883</td>\n",
       "      <td>-0.404473</td>\n",
       "      <td>0.076509</td>\n",
       "      <td>-0.316580</td>\n",
       "      <td>0.146016</td>\n",
       "      <td>0.281611</td>\n",
       "      <td>-0.569707</td>\n",
       "    </tr>\n",
       "    <tr>\n",
       "      <th>29</th>\n",
       "      <td>-0.272734</td>\n",
       "      <td>-0.534477</td>\n",
       "      <td>0.969354</td>\n",
       "      <td>-0.581885</td>\n",
       "      <td>-0.384624</td>\n",
       "      <td>-0.208430</td>\n",
       "      <td>-0.409665</td>\n",
       "      <td>0.103954</td>\n",
       "      <td>0.070605</td>\n",
       "      <td>-0.257456</td>\n",
       "      <td>-0.594890</td>\n",
       "      <td>-0.581253</td>\n",
       "    </tr>\n",
       "  </tbody>\n",
       "</table>\n",
       "<p>30 rows × 12 columns</p>\n",
       "</div>"
      ],
      "text/plain": [
       "          0         1         2         3         4         5         6   \\\n",
       "0  -0.374133 -0.139243  0.068916 -0.360120  0.039960  0.517544 -0.226713   \n",
       "1  -0.900236 -1.111333 -0.567846 -1.400674 -0.053165  0.248496  0.296838   \n",
       "2   0.227435 -0.391898  1.187675 -0.424313 -0.444254 -0.557973 -0.500425   \n",
       "3   0.996158  1.637567 -0.467725  0.775716  0.002332  1.094623 -0.506751   \n",
       "4  -2.115170 -1.334415 -0.801267 -1.201678  0.702859  1.211628  0.337728   \n",
       "..       ...       ...       ...       ...       ...       ...       ...   \n",
       "25 -0.886250 -1.881234  0.417130 -1.765054 -0.297090 -0.732737  0.189928   \n",
       "26 -1.012426 -0.781777 -0.367380 -0.757202  0.463603  0.648107  0.082675   \n",
       "27 -1.239528 -0.646718 -1.004983 -1.026330  0.252446  1.091599  0.271887   \n",
       "28 -0.155989 -0.545671  0.936492 -0.345757  0.031790 -0.247883 -0.404473   \n",
       "29 -0.272734 -0.534477  0.969354 -0.581885 -0.384624 -0.208430 -0.409665   \n",
       "\n",
       "          7         8         9         10        11  \n",
       "0   0.520601 -0.273546 -0.399290 -0.734112 -0.569699  \n",
       "1   0.235051 -0.505845 -0.648537 -1.712929  0.076128  \n",
       "2  -0.015134  0.038139  0.308603  0.201119 -0.571211  \n",
       "3   1.175113 -0.181533  0.417281  0.421068 -0.968858  \n",
       "4   0.565057 -0.810093 -1.724572 -2.508541 -0.198232  \n",
       "..       ...       ...       ...       ...       ...  \n",
       "25 -0.376175 -0.397858 -0.309359 -1.209427  0.207707  \n",
       "26  0.443687 -0.715982 -0.672238 -1.062266 -0.288909  \n",
       "27  0.691842 -0.547177 -1.198688 -2.213171 -0.189557  \n",
       "28  0.076509 -0.316580  0.146016  0.281611 -0.569707  \n",
       "29  0.103954  0.070605 -0.257456 -0.594890 -0.581253  \n",
       "\n",
       "[30 rows x 12 columns]"
      ]
     },
     "metadata": {},
     "output_type": "display_data"
    },
    {
     "data": {
      "text/html": [
       "<html><body><h5><br></h5></body></html>"
      ],
      "text/plain": [
       "<IPython.core.display.HTML object>"
      ]
     },
     "metadata": {},
     "output_type": "display_data"
    }
   ],
   "source": [
    "x̂ = AE.reduce_dimension(data, output_type='wData')\n",
    "wuml.jupyter_print(x̂)\n",
    "wuml.jupyter_print('\\n')"
   ]
  },
  {
   "cell_type": "markdown",
   "metadata": {},
   "source": [
    "This is the objective network output Training error"
   ]
  },
  {
   "cell_type": "code",
   "execution_count": 11,
   "metadata": {
    "execution": {
     "iopub.execute_input": "2023-02-24T22:07:44.096746Z",
     "iopub.status.busy": "2023-02-24T22:07:44.096522Z",
     "iopub.status.idle": "2023-02-24T22:07:44.420615Z",
     "shell.execute_reply": "2023-02-24T22:07:44.419855Z"
    }
   },
   "outputs": [
    {
     "data": {
      "text/html": [
       "<html><body><h5>Avg error: 1.5154</h5></body></html>"
      ],
      "text/plain": [
       "<IPython.core.display.HTML object>"
      ]
     },
     "metadata": {},
     "output_type": "display_data"
    },
    {
     "data": {
      "image/png": "[encoded data removed]",
      "text/plain": [
       "<Figure size 640x480 with 1 Axes>"
      ]
     },
     "metadata": {},
     "output_type": "display_data"
    }
   ],
   "source": [
    "ẙ = AE.objective_network(X_train)\n",
    "res = wuml.output_regression_result(y_train, ẙ, sort_by='error')"
   ]
  },
  {
   "cell_type": "markdown",
   "metadata": {},
   "source": [
    "This is the objective network output Test error"
   ]
  },
  {
   "cell_type": "code",
   "execution_count": 12,
   "metadata": {
    "execution": {
     "iopub.execute_input": "2023-02-24T22:07:44.452417Z",
     "iopub.status.busy": "2023-02-24T22:07:44.452068Z",
     "iopub.status.idle": "2023-02-24T22:07:44.704844Z",
     "shell.execute_reply": "2023-02-24T22:07:44.704179Z"
    }
   },
   "outputs": [
    {
     "data": {
      "text/html": [
       "<html><body><h5>Avg error: 1.1450</h5></body></html>"
      ],
      "text/plain": [
       "<IPython.core.display.HTML object>"
      ]
     },
     "metadata": {},
     "output_type": "display_data"
    },
    {
     "data": {
      "image/png": "[encoded data removed]",
      "text/plain": [
       "<Figure size 640x480 with 1 Axes>"
      ]
     },
     "metadata": {},
     "output_type": "display_data"
    }
   ],
   "source": [
    "ẙ = AE.objective_network(X_test)\n",
    "res = wuml.output_regression_result(y_test, ẙ, sort_by='error')"
   ]
  }
 ],
 "metadata": {
  "kernelspec": {
   "display_name": "Python 3",
   "language": "python",
   "name": "python3"
  },
  "language_info": {
   "codemirror_mode": {
    "name": "ipython",
    "version": 3
   },
   "file_extension": ".py",
   "mimetype": "text/x-python",
   "name": "python",
   "nbconvert_exporter": "python",
   "pygments_lexer": "ipython3",
   "version": "3.8.10"
  }
 },
 "nbformat": 4,
 "nbformat_minor": 2
}
