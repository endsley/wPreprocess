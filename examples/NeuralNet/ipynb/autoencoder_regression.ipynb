{
 "cells": [
  {
   "cell_type": "code",
   "execution_count": 1,
   "metadata": {
    "execution": {
     "iopub.execute_input": "2023-03-02T20:40:51.486912Z",
     "iopub.status.busy": "2023-03-02T20:40:51.486465Z",
     "iopub.status.idle": "2023-03-02T20:40:51.492077Z",
     "shell.execute_reply": "2023-03-02T20:40:51.491145Z"
    }
   },
   "outputs": [],
   "source": [
    "#!/usr/bin/env python"
   ]
  },
  {
   "cell_type": "code",
   "execution_count": 2,
   "metadata": {
    "execution": {
     "iopub.execute_input": "2023-03-02T20:40:51.495816Z",
     "iopub.status.busy": "2023-03-02T20:40:51.495522Z",
     "iopub.status.idle": "2023-03-02T20:40:51.500411Z",
     "shell.execute_reply": "2023-03-02T20:40:51.499533Z"
    }
   },
   "outputs": [],
   "source": [
    "import os\n",
    "import sys\n",
    "if os.path.exists('/home/chieh/code/wPlotLib'):\n",
    "\tsys.path.insert(0,'/home/chieh/code/wPlotLib')\n",
    "if os.path.exists('/home/chieh/code/wuML'):\n",
    "\tsys.path.insert(0,'/home/chieh/code/wuML')"
   ]
  },
  {
   "cell_type": "code",
   "execution_count": 3,
   "metadata": {
    "execution": {
     "iopub.execute_input": "2023-03-02T20:40:51.503512Z",
     "iopub.status.busy": "2023-03-02T20:40:51.503276Z",
     "iopub.status.idle": "2023-03-02T20:40:53.335114Z",
     "shell.execute_reply": "2023-03-02T20:40:53.334385Z"
    }
   },
   "outputs": [],
   "source": [
    "import wuml\n",
    "import numpy as np\n",
    "import torch\n",
    "import torch\n",
    "import torch.nn as nn"
   ]
  },
  {
   "cell_type": "code",
   "execution_count": 4,
   "metadata": {
    "execution": {
     "iopub.execute_input": "2023-03-02T20:40:53.339548Z",
     "iopub.status.busy": "2023-03-02T20:40:53.339340Z",
     "iopub.status.idle": "2023-03-02T20:40:53.344196Z",
     "shell.execute_reply": "2023-03-02T20:40:53.343411Z"
    }
   },
   "outputs": [],
   "source": [
    "def costFunction(x, x̂, ẙ, y, ŷ, ind):\t\n",
    "#\tx -> encoder -> x̂\n",
    "#\tx̂ -> encoder_linear_output -> ẙ\t\n",
    "#\tx̂ -> decoder -> ŷ\t\n",
    "#\tpossible autoencoder objective λ could be 0\n",
    "#\tloss = (x - ŷ)ᒾ + λ * objective(ẙ, y)\n",
    "#\n",
    "#\tThis function can return 1 value or 3 values in a list\n",
    "#\tif return 1 value, just the loss\n",
    "#\tif return 3 values, [total_loss, reconstruction_loss, extra network from ẙ loss]\n",
    "#\n",
    "#\tIn this example, we perform both reconstruction and CE loss\n",
    "#\n",
    "\tCE_loss = nn.CrossEntropyLoss() #weird pytorch, dim of y is 1, and ŷ is 20x3\n",
    "\tR = torch.sum((x - ŷ) ** 2)/(128*13)\t#scaled by batch size times data dimension\n",
    "\tmse = torch.sum((ẙ - y) ** 2)/(128)\t#scaled by batch size times data dimension\n",
    "\tloss = R + mse\n",
    "\treturn [loss, R, mse]"
   ]
  },
  {
   "cell_type": "code",
   "execution_count": 5,
   "metadata": {
    "execution": {
     "iopub.execute_input": "2023-03-02T20:40:53.348578Z",
     "iopub.status.busy": "2023-03-02T20:40:53.348357Z",
     "iopub.status.idle": "2023-03-02T20:40:53.352137Z",
     "shell.execute_reply": "2023-03-02T20:40:53.351332Z"
    }
   },
   "outputs": [],
   "source": [
    "def costFunction2(x, x̂, ẙ, y, ŷ, ind):\t\n",
    "#\tExample of just return 1 value, this is just a regular autoencoder\n",
    "\treturn torch.sum((x - ŷ) ** 2)"
   ]
  },
  {
   "cell_type": "code",
   "execution_count": 6,
   "metadata": {
    "execution": {
     "iopub.execute_input": "2023-03-02T20:40:53.355607Z",
     "iopub.status.busy": "2023-03-02T20:40:53.355369Z",
     "iopub.status.idle": "2023-03-02T20:40:53.374441Z",
     "shell.execute_reply": "2023-03-02T20:40:53.373732Z"
    }
   },
   "outputs": [],
   "source": [
    "data = wuml.wData('../../data/shap_regress_example_uniform.csv', label_column_name='label', label_type='continuous', \n",
    "\t\t\t\tpreprocess_data='center and scale',\tfirst_row_is_label=True)"
   ]
  },
  {
   "cell_type": "code",
   "execution_count": 7,
   "metadata": {
    "execution": {
     "iopub.execute_input": "2023-03-02T20:40:53.377965Z",
     "iopub.status.busy": "2023-03-02T20:40:53.377763Z",
     "iopub.status.idle": "2023-03-02T20:40:53.383075Z",
     "shell.execute_reply": "2023-03-02T20:40:53.382113Z"
    }
   },
   "outputs": [],
   "source": [
    "[X_train, X_test, y_train, y_test] = wuml.split_training_test(data, test_percentage=0.2)"
   ]
  },
  {
   "cell_type": "code",
   "execution_count": 8,
   "metadata": {
    "execution": {
     "iopub.execute_input": "2023-03-02T20:40:53.386754Z",
     "iopub.status.busy": "2023-03-02T20:40:53.386432Z",
     "iopub.status.idle": "2023-03-02T20:42:23.605474Z",
     "shell.execute_reply": "2023-03-02T20:42:23.604297Z"
    }
   },
   "outputs": [
    {
     "name": "stdout",
     "output_type": "stream",
     "text": [
      "\tepoch: 1000, Total Loss/dimension: 0.2637, Reconstruct loss: 0.0060, Objective loss: 0.2577, Learning Rate: 0.00000024"
     ]
    }
   ],
   "source": [
    "AE = wuml.autoencoder(12, X_train, default_depth=2, costFunction=costFunction, # costFunction and costFunction2 both works\n",
    "\t\t\t\t\t\tmax_epoch=1000, encoder_output_weight_structure=[(1,'none')] ) \n",
    "AE.fit()"
   ]
  },
  {
   "cell_type": "markdown",
   "metadata": {},
   "source": [
    "Result of the data reconstruction"
   ]
  },
  {
   "cell_type": "code",
   "execution_count": 9,
   "metadata": {
    "execution": {
     "iopub.execute_input": "2023-03-02T20:42:23.610288Z",
     "iopub.status.busy": "2023-03-02T20:42:23.609975Z",
     "iopub.status.idle": "2023-03-02T20:42:23.626224Z",
     "shell.execute_reply": "2023-03-02T20:42:23.625602Z"
    }
   },
   "outputs": [
    {
     "name": "stdout",
     "output_type": "stream",
     "text": [
      "        recontruction        \toriginal           \n",
      "[ 0.     1.     2.     3.   ]\t [ 0.     1.     2.     3.   ]\n",
      "[ 0.21   1.07   0.223  0.331]\t [ 0.109  0.853  0.292  0.279]\n",
      "[-0.182  0.747 -0.199  1.168]\t [-0.341  0.591 -0.303  1.388]\n",
      "[ 1.364 -0.587  0.478  0.812]\t [ 1.6   -0.402  0.972  0.228]\n",
      "[ 0.365  1.843 -1.956 -0.911]\t [ 0.178  1.648 -1.623 -1.184]\n",
      "[-1.401  1.908  1.62   0.55 ]\t [-1.792  1.297  0.924  1.318]\n",
      "                             \t\n",
      "\n"
     ]
    }
   ],
   "source": [
    "ŷ = AE(data)\n",
    "wuml.jupyter_print('\\n\\n')\n",
    "recontructed = wuml.pretty_np_array(ŷ[0:5,0:5], front_tab='', title='recontruction')\n",
    "original = wuml.pretty_np_array(data.X[0:5,0:5], front_tab=' ', title='original')\n",
    "wuml.block_two_string_concatenate(recontructed, original, spacing='\\t', auto_print=True)"
   ]
  },
  {
   "cell_type": "markdown",
   "metadata": {},
   "source": [
    "This is the bottleneck output which is d=12"
   ]
  },
  {
   "cell_type": "code",
   "execution_count": 10,
   "metadata": {
    "execution": {
     "iopub.execute_input": "2023-03-02T20:42:23.630709Z",
     "iopub.status.busy": "2023-03-02T20:42:23.630317Z",
     "iopub.status.idle": "2023-03-02T20:42:23.667743Z",
     "shell.execute_reply": "2023-03-02T20:42:23.666264Z"
    }
   },
   "outputs": [
    {
     "name": "stdout",
     "output_type": "stream",
     "text": [
      "\n"
     ]
    }
   ],
   "source": [
    "x̂ = AE.reduce_dimension(data, output_type='wData')\n",
    "wuml.jupyter_print(x̂)\n",
    "wuml.jupyter_print('\\n')"
   ]
  },
  {
   "cell_type": "markdown",
   "metadata": {},
   "source": [
    "This is the objective network output Training error"
   ]
  },
  {
   "cell_type": "code",
   "execution_count": 11,
   "metadata": {
    "execution": {
     "iopub.execute_input": "2023-03-02T20:42:23.674101Z",
     "iopub.status.busy": "2023-03-02T20:42:23.673845Z",
     "iopub.status.idle": "2023-03-02T20:42:23.991610Z",
     "shell.execute_reply": "2023-03-02T20:42:23.990936Z"
    }
   },
   "outputs": [
    {
     "name": "stdout",
     "output_type": "stream",
     "text": [
      "Avg error: 0.9608"
     ]
    },
    {
     "data": {
      "image/png": "[encoded data removed]",
      "text/plain": [
       "<Figure size 640x480 with 1 Axes>"
      ]
     },
     "metadata": {},
     "output_type": "display_data"
    }
   ],
   "source": [
    "ẙ = AE.objective_network(X_train)\n",
    "res = wuml.output_regression_result(y_train, ẙ, sort_by='error')"
   ]
  },
  {
   "cell_type": "markdown",
   "metadata": {},
   "source": [
    "This is the objective network output Test error"
   ]
  },
  {
   "cell_type": "code",
   "execution_count": 12,
   "metadata": {
    "execution": {
     "iopub.execute_input": "2023-03-02T20:42:23.996894Z",
     "iopub.status.busy": "2023-03-02T20:42:23.996681Z",
     "iopub.status.idle": "2023-03-02T20:42:24.273127Z",
     "shell.execute_reply": "2023-03-02T20:42:24.272334Z"
    }
   },
   "outputs": [
    {
     "name": "stdout",
     "output_type": "stream",
     "text": [
      "Avg error: 0.6100"
     ]
    },
    {
     "data": {
      "image/png": "[encoded data removed]",
      "text/plain": [
       "<Figure size 640x480 with 1 Axes>"
      ]
     },
     "metadata": {},
     "output_type": "display_data"
    }
   ],
   "source": [
    "ẙ = AE.objective_network(X_test)\n",
    "res = wuml.output_regression_result(y_test, ẙ, sort_by='error')"
   ]
  }
 ],
 "metadata": {
  "kernelspec": {
   "display_name": "Python 3",
   "language": "python",
   "name": "python3"
  },
  "language_info": {
   "codemirror_mode": {
    "name": "ipython",
    "version": 3
   },
   "file_extension": ".py",
   "mimetype": "text/x-python",
   "name": "python",
   "nbconvert_exporter": "python",
   "pygments_lexer": "ipython3",
   "version": "3.8.10"
  }
 },
 "nbformat": 4,
 "nbformat_minor": 2
}
