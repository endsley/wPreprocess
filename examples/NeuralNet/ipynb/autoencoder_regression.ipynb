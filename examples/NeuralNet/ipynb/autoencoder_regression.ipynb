{
 "cells": [
  {
   "cell_type": "code",
   "execution_count": 1,
   "metadata": {
    "execution": {
     "iopub.execute_input": "2023-02-12T15:15:48.019003Z",
     "iopub.status.busy": "2023-02-12T15:15:48.018514Z",
     "iopub.status.idle": "2023-02-12T15:15:48.023859Z",
     "shell.execute_reply": "2023-02-12T15:15:48.022937Z"
    }
   },
   "outputs": [],
   "source": [
    "#!/usr/bin/env python"
   ]
  },
  {
   "cell_type": "code",
   "execution_count": 2,
   "metadata": {
    "execution": {
     "iopub.execute_input": "2023-02-12T15:15:48.027820Z",
     "iopub.status.busy": "2023-02-12T15:15:48.027568Z",
     "iopub.status.idle": "2023-02-12T15:15:48.032044Z",
     "shell.execute_reply": "2023-02-12T15:15:48.031244Z"
    }
   },
   "outputs": [],
   "source": [
    "import os\n",
    "import sys\n",
    "if os.path.exists('/home/chieh/code/wPlotLib'):\n",
    "\tsys.path.insert(0,'/home/chieh/code/wPlotLib')\n",
    "if os.path.exists('/home/chieh/code/wuML'):\n",
    "\tsys.path.insert(0,'/home/chieh/code/wuML')"
   ]
  },
  {
   "cell_type": "code",
   "execution_count": 3,
   "metadata": {
    "execution": {
     "iopub.execute_input": "2023-02-12T15:15:48.035762Z",
     "iopub.status.busy": "2023-02-12T15:15:48.035533Z",
     "iopub.status.idle": "2023-02-12T15:15:49.613229Z",
     "shell.execute_reply": "2023-02-12T15:15:49.612530Z"
    }
   },
   "outputs": [],
   "source": [
    "import wuml\n",
    "import numpy as np\n",
    "import torch\n",
    "import torch\n",
    "import torch.nn as nn"
   ]
  },
  {
   "cell_type": "code",
   "execution_count": 4,
   "metadata": {
    "execution": {
     "iopub.execute_input": "2023-02-12T15:15:49.617436Z",
     "iopub.status.busy": "2023-02-12T15:15:49.617213Z",
     "iopub.status.idle": "2023-02-12T15:15:49.622413Z",
     "shell.execute_reply": "2023-02-12T15:15:49.621569Z"
    }
   },
   "outputs": [],
   "source": [
    "def costFunction(x, x̂, ẙ, y, ŷ, ind):\t\n",
    "#\tx -> encoder -> x̂\n",
    "#\tx̂ -> encoder_linear_output -> ẙ\t\n",
    "#\tx̂ -> decoder -> ŷ\t\n",
    "#\tpossible autoencoder objective λ could be 0\n",
    "#\tloss = (x - ŷ)ᒾ + λ * objective(ẙ, y)\n",
    "#\n",
    "#\tThis function can return 1 value or 3 values in a list\n",
    "#\tif return 1 value, just the loss\n",
    "#\tif return 3 values, [total_loss, reconstruction_loss, extra network from ẙ loss]\n",
    "#\n",
    "#\tIn this example, we perform both reconstruction and CE loss\n",
    "#\n",
    "\tCE_loss = nn.CrossEntropyLoss() #weird pytorch, dim of y is 1, and ŷ is 20x3\n",
    "\tR = torch.sum((x - ŷ) ** 2)/(128*13)\t#scaled by batch size times data dimension\n",
    "\tmse = torch.sum((ẙ - y) ** 2)/(128)\t#scaled by batch size times data dimension\n",
    "\tloss = R + mse\n",
    "\treturn [loss, R, mse]"
   ]
  },
  {
   "cell_type": "code",
   "execution_count": 5,
   "metadata": {
    "execution": {
     "iopub.execute_input": "2023-02-12T15:15:49.626034Z",
     "iopub.status.busy": "2023-02-12T15:15:49.625868Z",
     "iopub.status.idle": "2023-02-12T15:15:49.629406Z",
     "shell.execute_reply": "2023-02-12T15:15:49.628608Z"
    }
   },
   "outputs": [],
   "source": [
    "def costFunction2(x, x̂, ẙ, y, ŷ, ind):\t\n",
    "#\tExample of just return 1 value, this is just a regular autoencoder\n",
    "\treturn torch.sum((x - ŷ) ** 2)"
   ]
  },
  {
   "cell_type": "code",
   "execution_count": 6,
   "metadata": {
    "execution": {
     "iopub.execute_input": "2023-02-12T15:15:49.632898Z",
     "iopub.status.busy": "2023-02-12T15:15:49.632690Z",
     "iopub.status.idle": "2023-02-12T15:15:49.657011Z",
     "shell.execute_reply": "2023-02-12T15:15:49.656108Z"
    }
   },
   "outputs": [],
   "source": [
    "data = wuml.wData('../../data/shap_regress_example_uniform.csv', label_column_name='label', label_type='continuous', \n",
    "\t\t\t\tpreprocess_data='center and scale',\tfirst_row_is_label=True)"
   ]
  },
  {
   "cell_type": "code",
   "execution_count": 7,
   "metadata": {
    "execution": {
     "iopub.execute_input": "2023-02-12T15:15:49.661229Z",
     "iopub.status.busy": "2023-02-12T15:15:49.661061Z",
     "iopub.status.idle": "2023-02-12T15:15:49.665808Z",
     "shell.execute_reply": "2023-02-12T15:15:49.665027Z"
    }
   },
   "outputs": [],
   "source": [
    "[X_train, X_test, y_train, y_test] = wuml.split_training_test(data, test_percentage=0.2)"
   ]
  },
  {
   "cell_type": "code",
   "execution_count": 8,
   "metadata": {
    "execution": {
     "iopub.execute_input": "2023-02-12T15:15:49.669731Z",
     "iopub.status.busy": "2023-02-12T15:15:49.669551Z",
     "iopub.status.idle": "2023-02-12T15:17:24.459625Z",
     "shell.execute_reply": "2023-02-12T15:17:24.458419Z"
    }
   },
   "outputs": [
    {
     "name": "stdout",
     "output_type": "stream",
     "text": [
      "\tepoch: 1000, Total Loss/dimension: 0.2758, Reconstruct loss: 0.0084, Objective loss: 0.2674, Learning Rate: 0.00000024"
     ]
    }
   ],
   "source": [
    "AE = wuml.autoencoder(12, X_train, default_depth=2, costFunction=costFunction, # costFunction and costFunction2 both works\n",
    "\t\t\t\t\t\tmax_epoch=1000, encoder_output_weight_structure=[(1,'none')] ) \n",
    "AE.fit()"
   ]
  },
  {
   "cell_type": "markdown",
   "metadata": {},
   "source": [
    "Result of the data reconstruction"
   ]
  },
  {
   "cell_type": "code",
   "execution_count": 9,
   "metadata": {
    "execution": {
     "iopub.execute_input": "2023-02-12T15:17:24.466050Z",
     "iopub.status.busy": "2023-02-12T15:17:24.465707Z",
     "iopub.status.idle": "2023-02-12T15:17:24.479961Z",
     "shell.execute_reply": "2023-02-12T15:17:24.478718Z"
    }
   },
   "outputs": [
    {
     "data": {
      "text/html": [
       "<html><body><h3><br><br></h3></body></html>"
      ],
      "text/plain": [
       "<IPython.core.display.HTML object>"
      ]
     },
     "metadata": {},
     "output_type": "display_data"
    },
    {
     "name": "stdout",
     "output_type": "stream",
     "text": [
      "\n"
     ]
    },
    {
     "data": {
      "text/html": [
       "<html><body><h3>        recontruction        \toriginal           <br>[ 0.282  1.353  0.241  0.009]\t [ 0.109  0.853  0.292  0.279]<br>[ 0.117  0.863 -0.23   1.368]\t [-0.341  0.591 -0.303  1.388]<br>[ 1.794 -0.166  0.619  0.704]\t [ 1.6   -0.402  0.972  0.228]<br>[ 0.314  2.303 -1.338 -2.24 ]\t [ 0.178  1.648 -1.623 -1.184]<br>[-1.733  1.783  0.969  0.893]\t [-1.792  1.297  0.924  1.318]<br>                             \t<br><br></h3></body></html>"
      ],
      "text/plain": [
       "<IPython.core.display.HTML object>"
      ]
     },
     "metadata": {},
     "output_type": "display_data"
    },
    {
     "name": "stdout",
     "output_type": "stream",
     "text": [
      "\n"
     ]
    }
   ],
   "source": [
    "ŷ = AE(data)\n",
    "wuml.jupyter_print('\\n\\n')\n",
    "recontructed = wuml.pretty_np_array(ŷ[0:5,0:5], front_tab='', title='recontruction')\n",
    "original = wuml.pretty_np_array(data.X[0:5,0:5], front_tab=' ', title='original')\n",
    "wuml.block_two_string_concatenate(recontructed, original, spacing='\\t', auto_print=True)"
   ]
  },
  {
   "cell_type": "markdown",
   "metadata": {},
   "source": [
    "This is the bottleneck output which is d=12"
   ]
  },
  {
   "cell_type": "code",
   "execution_count": 10,
   "metadata": {
    "execution": {
     "iopub.execute_input": "2023-02-12T15:17:24.484227Z",
     "iopub.status.busy": "2023-02-12T15:17:24.483976Z",
     "iopub.status.idle": "2023-02-12T15:17:24.536172Z",
     "shell.execute_reply": "2023-02-12T15:17:24.535369Z"
    }
   },
   "outputs": [
    {
     "data": {
      "text/html": [
       "<div>\n",
       "<style scoped>\n",
       "    .dataframe tbody tr th:only-of-type {\n",
       "        vertical-align: middle;\n",
       "    }\n",
       "\n",
       "    .dataframe tbody tr th {\n",
       "        vertical-align: top;\n",
       "    }\n",
       "\n",
       "    .dataframe thead th {\n",
       "        text-align: right;\n",
       "    }\n",
       "</style>\n",
       "<table border=\"1\" class=\"dataframe\">\n",
       "  <thead>\n",
       "    <tr style=\"text-align: right;\">\n",
       "      <th></th>\n",
       "      <th>0</th>\n",
       "      <th>1</th>\n",
       "      <th>2</th>\n",
       "      <th>3</th>\n",
       "      <th>4</th>\n",
       "      <th>5</th>\n",
       "      <th>6</th>\n",
       "      <th>7</th>\n",
       "      <th>8</th>\n",
       "      <th>9</th>\n",
       "      <th>10</th>\n",
       "      <th>11</th>\n",
       "    </tr>\n",
       "  </thead>\n",
       "  <tbody>\n",
       "    <tr>\n",
       "      <th>0</th>\n",
       "      <td>-0.181536</td>\n",
       "      <td>-0.146162</td>\n",
       "      <td>0.225715</td>\n",
       "      <td>0.104632</td>\n",
       "      <td>-0.191794</td>\n",
       "      <td>0.387890</td>\n",
       "      <td>0.349893</td>\n",
       "      <td>-0.713541</td>\n",
       "      <td>-0.935352</td>\n",
       "      <td>0.218130</td>\n",
       "      <td>-0.280884</td>\n",
       "      <td>0.045319</td>\n",
       "    </tr>\n",
       "    <tr>\n",
       "      <th>1</th>\n",
       "      <td>-0.370739</td>\n",
       "      <td>0.687763</td>\n",
       "      <td>0.954396</td>\n",
       "      <td>0.176770</td>\n",
       "      <td>-0.363221</td>\n",
       "      <td>0.764744</td>\n",
       "      <td>-0.609364</td>\n",
       "      <td>-1.453918</td>\n",
       "      <td>-0.467829</td>\n",
       "      <td>0.876277</td>\n",
       "      <td>0.898181</td>\n",
       "      <td>0.896392</td>\n",
       "    </tr>\n",
       "    <tr>\n",
       "      <th>2</th>\n",
       "      <td>-0.284657</td>\n",
       "      <td>0.374798</td>\n",
       "      <td>-0.704034</td>\n",
       "      <td>0.353420</td>\n",
       "      <td>0.037397</td>\n",
       "      <td>0.766136</td>\n",
       "      <td>0.961891</td>\n",
       "      <td>-0.383441</td>\n",
       "      <td>-1.149238</td>\n",
       "      <td>1.006653</td>\n",
       "      <td>-1.446234</td>\n",
       "      <td>-1.019350</td>\n",
       "    </tr>\n",
       "    <tr>\n",
       "      <th>3</th>\n",
       "      <td>1.815951</td>\n",
       "      <td>-0.747879</td>\n",
       "      <td>-0.060398</td>\n",
       "      <td>-0.378003</td>\n",
       "      <td>-0.342265</td>\n",
       "      <td>-0.596434</td>\n",
       "      <td>1.257226</td>\n",
       "      <td>-0.070056</td>\n",
       "      <td>-0.960757</td>\n",
       "      <td>-1.294478</td>\n",
       "      <td>-0.810475</td>\n",
       "      <td>-0.869022</td>\n",
       "    </tr>\n",
       "    <tr>\n",
       "      <th>4</th>\n",
       "      <td>-1.568161</td>\n",
       "      <td>-0.064252</td>\n",
       "      <td>1.356490</td>\n",
       "      <td>0.001844</td>\n",
       "      <td>-0.377854</td>\n",
       "      <td>0.576052</td>\n",
       "      <td>-1.208591</td>\n",
       "      <td>-1.454988</td>\n",
       "      <td>-0.408915</td>\n",
       "      <td>0.551528</td>\n",
       "      <td>1.446896</td>\n",
       "      <td>1.926403</td>\n",
       "    </tr>\n",
       "    <tr>\n",
       "      <th>...</th>\n",
       "      <td>...</td>\n",
       "      <td>...</td>\n",
       "      <td>...</td>\n",
       "      <td>...</td>\n",
       "      <td>...</td>\n",
       "      <td>...</td>\n",
       "      <td>...</td>\n",
       "      <td>...</td>\n",
       "      <td>...</td>\n",
       "      <td>...</td>\n",
       "      <td>...</td>\n",
       "      <td>...</td>\n",
       "    </tr>\n",
       "    <tr>\n",
       "      <th>25</th>\n",
       "      <td>-1.040330</td>\n",
       "      <td>1.359058</td>\n",
       "      <td>0.221720</td>\n",
       "      <td>0.333755</td>\n",
       "      <td>-0.178812</td>\n",
       "      <td>1.193818</td>\n",
       "      <td>-0.545585</td>\n",
       "      <td>-1.264745</td>\n",
       "      <td>-0.416566</td>\n",
       "      <td>1.913589</td>\n",
       "      <td>0.168245</td>\n",
       "      <td>0.360332</td>\n",
       "    </tr>\n",
       "    <tr>\n",
       "      <th>26</th>\n",
       "      <td>-0.549370</td>\n",
       "      <td>0.312889</td>\n",
       "      <td>0.402834</td>\n",
       "      <td>-0.345885</td>\n",
       "      <td>-0.366895</td>\n",
       "      <td>0.140923</td>\n",
       "      <td>-0.591072</td>\n",
       "      <td>-0.748057</td>\n",
       "      <td>-0.176133</td>\n",
       "      <td>0.419674</td>\n",
       "      <td>0.425060</td>\n",
       "      <td>0.714229</td>\n",
       "    </tr>\n",
       "    <tr>\n",
       "      <th>27</th>\n",
       "      <td>-0.461766</td>\n",
       "      <td>-0.102167</td>\n",
       "      <td>1.435461</td>\n",
       "      <td>0.178178</td>\n",
       "      <td>-0.401739</td>\n",
       "      <td>0.568148</td>\n",
       "      <td>-0.606565</td>\n",
       "      <td>-1.547535</td>\n",
       "      <td>-0.712875</td>\n",
       "      <td>0.184664</td>\n",
       "      <td>1.273442</td>\n",
       "      <td>1.398287</td>\n",
       "    </tr>\n",
       "    <tr>\n",
       "      <th>28</th>\n",
       "      <td>-0.474867</td>\n",
       "      <td>0.445992</td>\n",
       "      <td>-0.793456</td>\n",
       "      <td>-0.155430</td>\n",
       "      <td>-0.084579</td>\n",
       "      <td>0.308078</td>\n",
       "      <td>0.429163</td>\n",
       "      <td>-0.105506</td>\n",
       "      <td>-0.575498</td>\n",
       "      <td>0.838337</td>\n",
       "      <td>-1.192840</td>\n",
       "      <td>-0.694104</td>\n",
       "    </tr>\n",
       "    <tr>\n",
       "      <th>29</th>\n",
       "      <td>-0.751660</td>\n",
       "      <td>0.028923</td>\n",
       "      <td>-0.146560</td>\n",
       "      <td>0.640466</td>\n",
       "      <td>0.056286</td>\n",
       "      <td>1.046482</td>\n",
       "      <td>0.797469</td>\n",
       "      <td>-0.798551</td>\n",
       "      <td>-1.443862</td>\n",
       "      <td>0.984315</td>\n",
       "      <td>-0.959061</td>\n",
       "      <td>-0.429609</td>\n",
       "    </tr>\n",
       "  </tbody>\n",
       "</table>\n",
       "<p>30 rows × 12 columns</p>\n",
       "</div>"
      ],
      "text/plain": [
       "          0         1         2         3         4         5         6   \\\n",
       "0  -0.181536 -0.146162  0.225715  0.104632 -0.191794  0.387890  0.349893   \n",
       "1  -0.370739  0.687763  0.954396  0.176770 -0.363221  0.764744 -0.609364   \n",
       "2  -0.284657  0.374798 -0.704034  0.353420  0.037397  0.766136  0.961891   \n",
       "3   1.815951 -0.747879 -0.060398 -0.378003 -0.342265 -0.596434  1.257226   \n",
       "4  -1.568161 -0.064252  1.356490  0.001844 -0.377854  0.576052 -1.208591   \n",
       "..       ...       ...       ...       ...       ...       ...       ...   \n",
       "25 -1.040330  1.359058  0.221720  0.333755 -0.178812  1.193818 -0.545585   \n",
       "26 -0.549370  0.312889  0.402834 -0.345885 -0.366895  0.140923 -0.591072   \n",
       "27 -0.461766 -0.102167  1.435461  0.178178 -0.401739  0.568148 -0.606565   \n",
       "28 -0.474867  0.445992 -0.793456 -0.155430 -0.084579  0.308078  0.429163   \n",
       "29 -0.751660  0.028923 -0.146560  0.640466  0.056286  1.046482  0.797469   \n",
       "\n",
       "          7         8         9         10        11  \n",
       "0  -0.713541 -0.935352  0.218130 -0.280884  0.045319  \n",
       "1  -1.453918 -0.467829  0.876277  0.898181  0.896392  \n",
       "2  -0.383441 -1.149238  1.006653 -1.446234 -1.019350  \n",
       "3  -0.070056 -0.960757 -1.294478 -0.810475 -0.869022  \n",
       "4  -1.454988 -0.408915  0.551528  1.446896  1.926403  \n",
       "..       ...       ...       ...       ...       ...  \n",
       "25 -1.264745 -0.416566  1.913589  0.168245  0.360332  \n",
       "26 -0.748057 -0.176133  0.419674  0.425060  0.714229  \n",
       "27 -1.547535 -0.712875  0.184664  1.273442  1.398287  \n",
       "28 -0.105506 -0.575498  0.838337 -1.192840 -0.694104  \n",
       "29 -0.798551 -1.443862  0.984315 -0.959061 -0.429609  \n",
       "\n",
       "[30 rows x 12 columns]"
      ]
     },
     "metadata": {},
     "output_type": "display_data"
    },
    {
     "name": "stdout",
     "output_type": "stream",
     "text": [
      "\n"
     ]
    },
    {
     "data": {
      "text/html": [
       "<html><body><h3><br></h3></body></html>"
      ],
      "text/plain": [
       "<IPython.core.display.HTML object>"
      ]
     },
     "metadata": {},
     "output_type": "display_data"
    },
    {
     "name": "stdout",
     "output_type": "stream",
     "text": [
      "\n"
     ]
    }
   ],
   "source": [
    "x̂ = AE.reduce_dimension(data, output_type='wData')\n",
    "wuml.jupyter_print(x̂)\n",
    "wuml.jupyter_print('\\n')"
   ]
  },
  {
   "cell_type": "markdown",
   "metadata": {},
   "source": [
    "This is the objective network output Training error"
   ]
  },
  {
   "cell_type": "code",
   "execution_count": 11,
   "metadata": {
    "execution": {
     "iopub.execute_input": "2023-02-12T15:17:24.540363Z",
     "iopub.status.busy": "2023-02-12T15:17:24.540140Z",
     "iopub.status.idle": "2023-02-12T15:17:24.979933Z",
     "shell.execute_reply": "2023-02-12T15:17:24.979221Z"
    }
   },
   "outputs": [
    {
     "data": {
      "text/html": [
       "<html><body><h3>Avg error: 0.9683</h3></body></html>"
      ],
      "text/plain": [
       "<IPython.core.display.HTML object>"
      ]
     },
     "metadata": {},
     "output_type": "display_data"
    },
    {
     "name": "stdout",
     "output_type": "stream",
     "text": [
      "\n"
     ]
    },
    {
     "data": {
      "image/png": "[encoded data removed]",
      "text/plain": [
       "<Figure size 640x480 with 1 Axes>"
      ]
     },
     "metadata": {},
     "output_type": "display_data"
    },
    {
     "data": {
      "text/html": [
       "<div>\n",
       "<style scoped>\n",
       "    .dataframe tbody tr th:only-of-type {\n",
       "        vertical-align: middle;\n",
       "    }\n",
       "\n",
       "    .dataframe tbody tr th {\n",
       "        vertical-align: top;\n",
       "    }\n",
       "\n",
       "    .dataframe thead th {\n",
       "        text-align: right;\n",
       "    }\n",
       "</style>\n",
       "<table border=\"1\" class=\"dataframe\">\n",
       "  <thead>\n",
       "    <tr style=\"text-align: right;\">\n",
       "      <th></th>\n",
       "      <th>y</th>\n",
       "      <th>ŷ</th>\n",
       "      <th>Δy</th>\n",
       "    </tr>\n",
       "  </thead>\n",
       "  <tbody>\n",
       "    <tr>\n",
       "      <th>16</th>\n",
       "      <td>5.76</td>\n",
       "      <td>8.27</td>\n",
       "      <td>2.51</td>\n",
       "    </tr>\n",
       "    <tr>\n",
       "      <th>23</th>\n",
       "      <td>-8.05</td>\n",
       "      <td>-10.16</td>\n",
       "      <td>2.11</td>\n",
       "    </tr>\n",
       "    <tr>\n",
       "      <th>13</th>\n",
       "      <td>3.58</td>\n",
       "      <td>5.33</td>\n",
       "      <td>1.75</td>\n",
       "    </tr>\n",
       "    <tr>\n",
       "      <th>18</th>\n",
       "      <td>-4.35</td>\n",
       "      <td>-6.07</td>\n",
       "      <td>1.72</td>\n",
       "    </tr>\n",
       "    <tr>\n",
       "      <th>4</th>\n",
       "      <td>-7.50</td>\n",
       "      <td>-9.08</td>\n",
       "      <td>1.58</td>\n",
       "    </tr>\n",
       "    <tr>\n",
       "      <th>19</th>\n",
       "      <td>-4.14</td>\n",
       "      <td>-5.55</td>\n",
       "      <td>1.41</td>\n",
       "    </tr>\n",
       "    <tr>\n",
       "      <th>12</th>\n",
       "      <td>-5.72</td>\n",
       "      <td>-7.13</td>\n",
       "      <td>1.41</td>\n",
       "    </tr>\n",
       "    <tr>\n",
       "      <th>8</th>\n",
       "      <td>3.38</td>\n",
       "      <td>4.78</td>\n",
       "      <td>1.40</td>\n",
       "    </tr>\n",
       "    <tr>\n",
       "      <th>10</th>\n",
       "      <td>-5.67</td>\n",
       "      <td>-7.06</td>\n",
       "      <td>1.39</td>\n",
       "    </tr>\n",
       "    <tr>\n",
       "      <th>7</th>\n",
       "      <td>3.82</td>\n",
       "      <td>5.02</td>\n",
       "      <td>1.20</td>\n",
       "    </tr>\n",
       "    <tr>\n",
       "      <th>1</th>\n",
       "      <td>2.93</td>\n",
       "      <td>4.05</td>\n",
       "      <td>1.12</td>\n",
       "    </tr>\n",
       "    <tr>\n",
       "      <th>15</th>\n",
       "      <td>-3.27</td>\n",
       "      <td>-4.32</td>\n",
       "      <td>1.05</td>\n",
       "    </tr>\n",
       "    <tr>\n",
       "      <th>20</th>\n",
       "      <td>1.90</td>\n",
       "      <td>2.86</td>\n",
       "      <td>0.96</td>\n",
       "    </tr>\n",
       "    <tr>\n",
       "      <th>2</th>\n",
       "      <td>-1.82</td>\n",
       "      <td>-2.72</td>\n",
       "      <td>0.90</td>\n",
       "    </tr>\n",
       "    <tr>\n",
       "      <th>14</th>\n",
       "      <td>2.48</td>\n",
       "      <td>3.37</td>\n",
       "      <td>0.89</td>\n",
       "    </tr>\n",
       "    <tr>\n",
       "      <th>5</th>\n",
       "      <td>0.62</td>\n",
       "      <td>0.99</td>\n",
       "      <td>0.37</td>\n",
       "    </tr>\n",
       "    <tr>\n",
       "      <th>21</th>\n",
       "      <td>1.63</td>\n",
       "      <td>1.98</td>\n",
       "      <td>0.35</td>\n",
       "    </tr>\n",
       "    <tr>\n",
       "      <th>11</th>\n",
       "      <td>0.78</td>\n",
       "      <td>1.08</td>\n",
       "      <td>0.30</td>\n",
       "    </tr>\n",
       "    <tr>\n",
       "      <th>9</th>\n",
       "      <td>-1.88</td>\n",
       "      <td>-2.14</td>\n",
       "      <td>0.26</td>\n",
       "    </tr>\n",
       "    <tr>\n",
       "      <th>22</th>\n",
       "      <td>0.60</td>\n",
       "      <td>0.39</td>\n",
       "      <td>0.21</td>\n",
       "    </tr>\n",
       "    <tr>\n",
       "      <th>3</th>\n",
       "      <td>-1.10</td>\n",
       "      <td>-1.29</td>\n",
       "      <td>0.19</td>\n",
       "    </tr>\n",
       "    <tr>\n",
       "      <th>0</th>\n",
       "      <td>0.51</td>\n",
       "      <td>0.59</td>\n",
       "      <td>0.08</td>\n",
       "    </tr>\n",
       "    <tr>\n",
       "      <th>17</th>\n",
       "      <td>-1.00</td>\n",
       "      <td>-1.05</td>\n",
       "      <td>0.05</td>\n",
       "    </tr>\n",
       "    <tr>\n",
       "      <th>6</th>\n",
       "      <td>-1.00</td>\n",
       "      <td>-0.97</td>\n",
       "      <td>0.03</td>\n",
       "    </tr>\n",
       "  </tbody>\n",
       "</table>\n",
       "</div>"
      ],
      "text/plain": [
       "       y      ŷ    Δy\n",
       "16  5.76   8.27  2.51\n",
       "23 -8.05 -10.16  2.11\n",
       "13  3.58   5.33  1.75\n",
       "18 -4.35  -6.07  1.72\n",
       "4  -7.50  -9.08  1.58\n",
       "19 -4.14  -5.55  1.41\n",
       "12 -5.72  -7.13  1.41\n",
       "8   3.38   4.78  1.40\n",
       "10 -5.67  -7.06  1.39\n",
       "7   3.82   5.02  1.20\n",
       "1   2.93   4.05  1.12\n",
       "15 -3.27  -4.32  1.05\n",
       "20  1.90   2.86  0.96\n",
       "2  -1.82  -2.72  0.90\n",
       "14  2.48   3.37  0.89\n",
       "5   0.62   0.99  0.37\n",
       "21  1.63   1.98  0.35\n",
       "11  0.78   1.08  0.30\n",
       "9  -1.88  -2.14  0.26\n",
       "22  0.60   0.39  0.21\n",
       "3  -1.10  -1.29  0.19\n",
       "0   0.51   0.59  0.08\n",
       "17 -1.00  -1.05  0.05\n",
       "6  -1.00  -0.97  0.03"
      ]
     },
     "metadata": {},
     "output_type": "display_data"
    },
    {
     "name": "stdout",
     "output_type": "stream",
     "text": [
      "\n"
     ]
    }
   ],
   "source": [
    "ẙ = AE.objective_network(X_train)\n",
    "res = wuml.output_regression_result(y_train, ẙ, sort_by='error')"
   ]
  },
  {
   "cell_type": "markdown",
   "metadata": {},
   "source": [
    "This is the objective network output Test error"
   ]
  },
  {
   "cell_type": "code",
   "execution_count": 12,
   "metadata": {
    "execution": {
     "iopub.execute_input": "2023-02-12T15:17:25.000619Z",
     "iopub.status.busy": "2023-02-12T15:17:25.000294Z",
     "iopub.status.idle": "2023-02-12T15:17:25.260887Z",
     "shell.execute_reply": "2023-02-12T15:17:25.260305Z"
    }
   },
   "outputs": [
    {
     "data": {
      "text/html": [
       "<html><body><h3>Avg error: 0.5700</h3></body></html>"
      ],
      "text/plain": [
       "<IPython.core.display.HTML object>"
      ]
     },
     "metadata": {},
     "output_type": "display_data"
    },
    {
     "name": "stdout",
     "output_type": "stream",
     "text": [
      "\n"
     ]
    },
    {
     "data": {
      "image/png": "[encoded data removed]",
      "text/plain": [
       "<Figure size 640x480 with 1 Axes>"
      ]
     },
     "metadata": {},
     "output_type": "display_data"
    },
    {
     "data": {
      "text/html": [
       "<div>\n",
       "<style scoped>\n",
       "    .dataframe tbody tr th:only-of-type {\n",
       "        vertical-align: middle;\n",
       "    }\n",
       "\n",
       "    .dataframe tbody tr th {\n",
       "        vertical-align: top;\n",
       "    }\n",
       "\n",
       "    .dataframe thead th {\n",
       "        text-align: right;\n",
       "    }\n",
       "</style>\n",
       "<table border=\"1\" class=\"dataframe\">\n",
       "  <thead>\n",
       "    <tr style=\"text-align: right;\">\n",
       "      <th></th>\n",
       "      <th>y</th>\n",
       "      <th>ŷ</th>\n",
       "      <th>Δy</th>\n",
       "    </tr>\n",
       "  </thead>\n",
       "  <tbody>\n",
       "    <tr>\n",
       "      <th>0</th>\n",
       "      <td>-5.91</td>\n",
       "      <td>-7.01</td>\n",
       "      <td>1.10</td>\n",
       "    </tr>\n",
       "    <tr>\n",
       "      <th>4</th>\n",
       "      <td>-2.61</td>\n",
       "      <td>-3.60</td>\n",
       "      <td>0.99</td>\n",
       "    </tr>\n",
       "    <tr>\n",
       "      <th>5</th>\n",
       "      <td>-2.31</td>\n",
       "      <td>-2.79</td>\n",
       "      <td>0.48</td>\n",
       "    </tr>\n",
       "    <tr>\n",
       "      <th>1</th>\n",
       "      <td>-0.21</td>\n",
       "      <td>-0.68</td>\n",
       "      <td>0.47</td>\n",
       "    </tr>\n",
       "    <tr>\n",
       "      <th>2</th>\n",
       "      <td>-0.05</td>\n",
       "      <td>0.24</td>\n",
       "      <td>0.29</td>\n",
       "    </tr>\n",
       "    <tr>\n",
       "      <th>3</th>\n",
       "      <td>0.20</td>\n",
       "      <td>0.11</td>\n",
       "      <td>0.09</td>\n",
       "    </tr>\n",
       "  </tbody>\n",
       "</table>\n",
       "</div>"
      ],
      "text/plain": [
       "      y     ŷ    Δy\n",
       "0 -5.91 -7.01  1.10\n",
       "4 -2.61 -3.60  0.99\n",
       "5 -2.31 -2.79  0.48\n",
       "1 -0.21 -0.68  0.47\n",
       "2 -0.05  0.24  0.29\n",
       "3  0.20  0.11  0.09"
      ]
     },
     "metadata": {},
     "output_type": "display_data"
    },
    {
     "name": "stdout",
     "output_type": "stream",
     "text": [
      "\n"
     ]
    }
   ],
   "source": [
    "ẙ = AE.objective_network(X_test)\n",
    "res = wuml.output_regression_result(y_test, ẙ, sort_by='error')"
   ]
  }
 ],
 "metadata": {
  "kernelspec": {
   "display_name": "Python 3",
   "language": "python",
   "name": "python3"
  },
  "language_info": {
   "codemirror_mode": {
    "name": "ipython",
    "version": 3
   },
   "file_extension": ".py",
   "mimetype": "text/x-python",
   "name": "python",
   "nbconvert_exporter": "python",
   "pygments_lexer": "ipython3",
   "version": "3.8.10"
  }
 },
 "nbformat": 4,
 "nbformat_minor": 2
}
