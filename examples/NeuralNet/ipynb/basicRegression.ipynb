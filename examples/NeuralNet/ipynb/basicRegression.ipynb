{
 "cells": [
  {
   "cell_type": "code",
   "execution_count": 1,
   "metadata": {
    "execution": {
     "iopub.execute_input": "2023-02-25T18:21:41.888488Z",
     "iopub.status.busy": "2023-02-25T18:21:41.888042Z",
     "iopub.status.idle": "2023-02-25T18:21:41.893108Z",
     "shell.execute_reply": "2023-02-25T18:21:41.892309Z"
    }
   },
   "outputs": [],
   "source": [
    "#!/usr/bin/env python"
   ]
  },
  {
   "cell_type": "code",
   "execution_count": 2,
   "metadata": {
    "execution": {
     "iopub.execute_input": "2023-02-25T18:21:41.900022Z",
     "iopub.status.busy": "2023-02-25T18:21:41.899811Z",
     "iopub.status.idle": "2023-02-25T18:21:41.904065Z",
     "shell.execute_reply": "2023-02-25T18:21:41.903135Z"
    }
   },
   "outputs": [],
   "source": [
    "import os\n",
    "import sys\n",
    "if os.path.exists('/home/chieh/code/wPlotLib'):\n",
    "\tsys.path.insert(0,'/home/chieh/code/wPlotLib')\n",
    "if os.path.exists('/home/chieh/code/wuML'):\n",
    "\tsys.path.insert(0,'/home/chieh/code/wuML')"
   ]
  },
  {
   "cell_type": "code",
   "execution_count": 3,
   "metadata": {
    "execution": {
     "iopub.execute_input": "2023-02-25T18:21:41.907391Z",
     "iopub.status.busy": "2023-02-25T18:21:41.907158Z",
     "iopub.status.idle": "2023-02-25T18:21:43.962258Z",
     "shell.execute_reply": "2023-02-25T18:21:43.961238Z"
    }
   },
   "outputs": [],
   "source": [
    "import wuml\n",
    "import numpy as np\n",
    "import torch\n",
    "import wplotlib"
   ]
  },
  {
   "cell_type": "markdown",
   "metadata": {},
   "source": [
    "Examples of both \"with\" and \"without\" batch normalization<br>\n",
    "The idea of training a neural network boils down to 3 steps<br>\n",
    "\t1. Define a network structure<br>\n",
    "\t\tExample: This is a 3 layer network with 100 node width<br>\n",
    "\t\t\tnetworkStructure=[(100,'relu'),(100,'relu'),(1,'none')]<br>\n",
    "\t\t\tPotential Activation Functions are: softmax, relu, tanh, sigmoid, none<br>\n",
    "\t2. Define a cost function<br>\n",
    "\t3. Call train()"
   ]
  },
  {
   "cell_type": "code",
   "execution_count": 4,
   "metadata": {
    "execution": {
     "iopub.execute_input": "2023-02-25T18:21:43.967577Z",
     "iopub.status.busy": "2023-02-25T18:21:43.967380Z",
     "iopub.status.idle": "2023-02-25T18:21:43.985776Z",
     "shell.execute_reply": "2023-02-25T18:21:43.985080Z"
    }
   },
   "outputs": [],
   "source": [
    "data = wuml.wData(xpath='../../data/regress.csv', ypath='../../data/regress_label.csv', batch_size=20, label_type='continuous')\n",
    "def costFunction(x, y, ŷ, ind):\n",
    "\treturn torch.sum((y- ŷ) ** 2)\t"
   ]
  },
  {
   "cell_type": "markdown",
   "metadata": {},
   "source": [
    "----------------------------------------------<br>\n",
    "Create basic network and train"
   ]
  },
  {
   "cell_type": "code",
   "execution_count": 5,
   "metadata": {
    "execution": {
     "iopub.execute_input": "2023-02-25T18:21:43.989957Z",
     "iopub.status.busy": "2023-02-25T18:21:43.989771Z",
     "iopub.status.idle": "2023-02-25T18:22:29.777920Z",
     "shell.execute_reply": "2023-02-25T18:22:29.777018Z"
    }
   },
   "outputs": [
    {
     "name": "stdout",
     "output_type": "stream",
     "text": [
      "\tepoch: 500, Avg Loss: 4.7082, Learning Rate: 0.00100000"
     ]
    }
   ],
   "source": [
    "bNet = wuml.basicNetwork(costFunction, data, networkStructure=[(30,'relu'),(50,'relu'),(1,'none')], max_epoch=500, learning_rate=0.001)\n",
    "bNet.train(print_status=True)\n",
    "Ŷ = bNet(data, output_type='ndarray')\t\t#Takes Numpy array or Tensor as input and outputs a Tensor"
   ]
  },
  {
   "cell_type": "markdown",
   "metadata": {},
   "source": [
    "Note that we will save this network for later use, check load_use_network.py file "
   ]
  },
  {
   "cell_type": "code",
   "execution_count": 6,
   "metadata": {
    "execution": {
     "iopub.execute_input": "2023-02-25T18:22:29.783256Z",
     "iopub.status.busy": "2023-02-25T18:22:29.783041Z",
     "iopub.status.idle": "2023-02-25T18:22:29.790164Z",
     "shell.execute_reply": "2023-02-25T18:22:29.789390Z"
    }
   },
   "outputs": [],
   "source": [
    "wuml.save_torch_network(bNet, './basicRegressionNet.pk')"
   ]
  },
  {
   "cell_type": "markdown",
   "metadata": {},
   "source": [
    "Check out our predictions"
   ]
  },
  {
   "cell_type": "code",
   "execution_count": 7,
   "metadata": {
    "execution": {
     "iopub.execute_input": "2023-02-25T18:22:29.795825Z",
     "iopub.status.busy": "2023-02-25T18:22:29.795483Z",
     "iopub.status.idle": "2023-02-25T18:22:29.846823Z",
     "shell.execute_reply": "2023-02-25T18:22:29.845650Z"
    }
   },
   "outputs": [
    {
     "data": {
      "text/html": [
       "<div>\n",
       "<style scoped>\n",
       "    .dataframe tbody tr th:only-of-type {\n",
       "        vertical-align: middle;\n",
       "    }\n",
       "\n",
       "    .dataframe tbody tr th {\n",
       "        vertical-align: top;\n",
       "    }\n",
       "\n",
       "    .dataframe thead th {\n",
       "        text-align: right;\n",
       "    }\n",
       "</style>\n",
       "<table border=\"1\" class=\"dataframe\">\n",
       "  <thead>\n",
       "    <tr style=\"text-align: right;\">\n",
       "      <th></th>\n",
       "      <th>y</th>\n",
       "      <th>ŷ</th>\n",
       "      <th>Δy</th>\n",
       "    </tr>\n",
       "  </thead>\n",
       "  <tbody>\n",
       "    <tr>\n",
       "      <th>0</th>\n",
       "      <td>1.1</td>\n",
       "      <td>1.117</td>\n",
       "      <td>0.017</td>\n",
       "    </tr>\n",
       "    <tr>\n",
       "      <th>1</th>\n",
       "      <td>1.1</td>\n",
       "      <td>1.607</td>\n",
       "      <td>0.507</td>\n",
       "    </tr>\n",
       "    <tr>\n",
       "      <th>2</th>\n",
       "      <td>2.2</td>\n",
       "      <td>1.607</td>\n",
       "      <td>0.593</td>\n",
       "    </tr>\n",
       "    <tr>\n",
       "      <th>3</th>\n",
       "      <td>1.0</td>\n",
       "      <td>2.152</td>\n",
       "      <td>1.152</td>\n",
       "    </tr>\n",
       "    <tr>\n",
       "      <th>4</th>\n",
       "      <td>2.0</td>\n",
       "      <td>2.152</td>\n",
       "      <td>0.152</td>\n",
       "    </tr>\n",
       "    <tr>\n",
       "      <th>5</th>\n",
       "      <td>3.0</td>\n",
       "      <td>2.152</td>\n",
       "      <td>0.848</td>\n",
       "    </tr>\n",
       "    <tr>\n",
       "      <th>6</th>\n",
       "      <td>2.0</td>\n",
       "      <td>2.900</td>\n",
       "      <td>0.900</td>\n",
       "    </tr>\n",
       "    <tr>\n",
       "      <th>7</th>\n",
       "      <td>3.0</td>\n",
       "      <td>2.900</td>\n",
       "      <td>0.100</td>\n",
       "    </tr>\n",
       "    <tr>\n",
       "      <th>8</th>\n",
       "      <td>4.0</td>\n",
       "      <td>2.900</td>\n",
       "      <td>1.100</td>\n",
       "    </tr>\n",
       "  </tbody>\n",
       "</table>\n",
       "</div>"
      ],
      "text/plain": [
       "     y      ŷ     Δy\n",
       "0  1.1  1.117  0.017\n",
       "1  1.1  1.607  0.507\n",
       "2  2.2  1.607  0.593\n",
       "3  1.0  2.152  1.152\n",
       "4  2.0  2.152  0.152\n",
       "5  3.0  2.152  0.848\n",
       "6  2.0  2.900  0.900\n",
       "7  3.0  2.900  0.100\n",
       "8  4.0  2.900  1.100"
      ]
     },
     "metadata": {},
     "output_type": "display_data"
    },
    {
     "data": {
      "text/plain": [
       "     y      ŷ     Δy\n",
       "0  1.1  1.117  0.017\n",
       "1  1.1  1.607  0.507\n",
       "2  2.2  1.607  0.593\n",
       "3  1.0  2.152  1.152\n",
       "4  2.0  2.152  0.152\n",
       "5  3.0  2.152  0.848\n",
       "6  2.0  2.900  0.900\n",
       "7  3.0  2.900  0.100\n",
       "8  4.0  2.900  1.100"
      ]
     },
     "execution_count": 7,
     "metadata": {},
     "output_type": "execute_result"
    }
   ],
   "source": [
    "SR = wuml.summarize_regression_result(data.Y, Ŷ)\n",
    "SR.true_vs_predict(print_out=True)"
   ]
  },
  {
   "cell_type": "markdown",
   "metadata": {},
   "source": [
    "Draw the regression line"
   ]
  },
  {
   "cell_type": "code",
   "execution_count": 8,
   "metadata": {
    "execution": {
     "iopub.execute_input": "2023-02-25T18:22:29.851165Z",
     "iopub.status.busy": "2023-02-25T18:22:29.850837Z",
     "iopub.status.idle": "2023-02-25T18:22:29.856194Z",
     "shell.execute_reply": "2023-02-25T18:22:29.855340Z"
    }
   },
   "outputs": [],
   "source": [
    "newX = np.expand_dims(np.arange(0,5,0.1),1)\n",
    "Ŷline = bNet(newX, output_type='ndarray')\t\t#Takes Numpy array or Tensor as input and outputs a Tensor"
   ]
  },
  {
   "cell_type": "markdown",
   "metadata": {},
   "source": [
    "plot the results out"
   ]
  },
  {
   "cell_type": "code",
   "execution_count": 9,
   "metadata": {
    "execution": {
     "iopub.execute_input": "2023-02-25T18:22:29.860266Z",
     "iopub.status.busy": "2023-02-25T18:22:29.859929Z",
     "iopub.status.idle": "2023-02-25T18:22:30.135998Z",
     "shell.execute_reply": "2023-02-25T18:22:30.134761Z"
    }
   },
   "outputs": [],
   "source": [
    "splot = wplotlib.scatter(data.X, data.Y, marker='o', show=False, subplot=121)\n",
    "lp = wplotlib.lines(newX, Ŷline, title_font=11, title='Without Batch Normalization', xlim=[0,5], ylim=[0,5], show=False)\t# show must be false if it is a subplot"
   ]
  },
  {
   "cell_type": "markdown",
   "metadata": {},
   "source": [
    "----------------------------------------------<br>\n",
    "Create network with batch normalization and train\t\t<br>\n",
    "For bn layers, ('bn', False), the 2nd boolean term sets if we use γ,β terms or not"
   ]
  },
  {
   "cell_type": "code",
   "execution_count": 10,
   "metadata": {
    "execution": {
     "iopub.execute_input": "2023-02-25T18:22:30.141615Z",
     "iopub.status.busy": "2023-02-25T18:22:30.141230Z",
     "iopub.status.idle": "2023-02-25T18:22:34.623010Z",
     "shell.execute_reply": "2023-02-25T18:22:34.622242Z"
    }
   },
   "outputs": [
    {
     "name": "stdout",
     "output_type": "stream",
     "text": [
      "\tepoch: 50, Avg Loss: 35.0672, Learning Rate: 0.00100000"
     ]
    }
   ],
   "source": [
    "bNet = wuml.basicNetwork(costFunction, data, networkStructure=[(30,'relu'),('bn', True), (50,'relu'),('bn', True),(1,'none')], max_epoch=50, learning_rate=0.001)\n",
    "bNet.train(print_status=True)\n",
    "Ŷ = bNet(data, output_type='ndarray')\t\t#Takes Numpy array or Tensor as input and outputs a Tensor"
   ]
  },
  {
   "cell_type": "markdown",
   "metadata": {},
   "source": [
    "Check out our predictions"
   ]
  },
  {
   "cell_type": "code",
   "execution_count": 11,
   "metadata": {
    "execution": {
     "iopub.execute_input": "2023-02-25T18:22:34.650385Z",
     "iopub.status.busy": "2023-02-25T18:22:34.649800Z",
     "iopub.status.idle": "2023-02-25T18:22:34.673254Z",
     "shell.execute_reply": "2023-02-25T18:22:34.672119Z"
    }
   },
   "outputs": [
    {
     "data": {
      "text/html": [
       "<div>\n",
       "<style scoped>\n",
       "    .dataframe tbody tr th:only-of-type {\n",
       "        vertical-align: middle;\n",
       "    }\n",
       "\n",
       "    .dataframe tbody tr th {\n",
       "        vertical-align: top;\n",
       "    }\n",
       "\n",
       "    .dataframe thead th {\n",
       "        text-align: right;\n",
       "    }\n",
       "</style>\n",
       "<table border=\"1\" class=\"dataframe\">\n",
       "  <thead>\n",
       "    <tr style=\"text-align: right;\">\n",
       "      <th></th>\n",
       "      <th>y</th>\n",
       "      <th>ŷ</th>\n",
       "      <th>Δy</th>\n",
       "    </tr>\n",
       "  </thead>\n",
       "  <tbody>\n",
       "    <tr>\n",
       "      <th>0</th>\n",
       "      <td>1.1</td>\n",
       "      <td>-0.776</td>\n",
       "      <td>1.876</td>\n",
       "    </tr>\n",
       "    <tr>\n",
       "      <th>1</th>\n",
       "      <td>1.1</td>\n",
       "      <td>-0.167</td>\n",
       "      <td>1.267</td>\n",
       "    </tr>\n",
       "    <tr>\n",
       "      <th>2</th>\n",
       "      <td>2.2</td>\n",
       "      <td>-0.167</td>\n",
       "      <td>2.367</td>\n",
       "    </tr>\n",
       "    <tr>\n",
       "      <th>3</th>\n",
       "      <td>1.0</td>\n",
       "      <td>0.161</td>\n",
       "      <td>0.839</td>\n",
       "    </tr>\n",
       "    <tr>\n",
       "      <th>4</th>\n",
       "      <td>2.0</td>\n",
       "      <td>0.161</td>\n",
       "      <td>1.839</td>\n",
       "    </tr>\n",
       "    <tr>\n",
       "      <th>5</th>\n",
       "      <td>3.0</td>\n",
       "      <td>0.161</td>\n",
       "      <td>2.839</td>\n",
       "    </tr>\n",
       "    <tr>\n",
       "      <th>6</th>\n",
       "      <td>2.0</td>\n",
       "      <td>1.182</td>\n",
       "      <td>0.818</td>\n",
       "    </tr>\n",
       "    <tr>\n",
       "      <th>7</th>\n",
       "      <td>3.0</td>\n",
       "      <td>1.182</td>\n",
       "      <td>1.818</td>\n",
       "    </tr>\n",
       "    <tr>\n",
       "      <th>8</th>\n",
       "      <td>4.0</td>\n",
       "      <td>1.182</td>\n",
       "      <td>2.818</td>\n",
       "    </tr>\n",
       "  </tbody>\n",
       "</table>\n",
       "</div>"
      ],
      "text/plain": [
       "     y      ŷ     Δy\n",
       "0  1.1 -0.776  1.876\n",
       "1  1.1 -0.167  1.267\n",
       "2  2.2 -0.167  2.367\n",
       "3  1.0  0.161  0.839\n",
       "4  2.0  0.161  1.839\n",
       "5  3.0  0.161  2.839\n",
       "6  2.0  1.182  0.818\n",
       "7  3.0  1.182  1.818\n",
       "8  4.0  1.182  2.818"
      ]
     },
     "metadata": {},
     "output_type": "display_data"
    }
   ],
   "source": [
    "SR = wuml.summarize_regression_result(data.Y, Ŷ)\n",
    "wuml.jupyter_print(SR.true_vs_predict(print_out=False))"
   ]
  },
  {
   "cell_type": "markdown",
   "metadata": {},
   "source": [
    "Draw the regression line"
   ]
  },
  {
   "cell_type": "code",
   "execution_count": 12,
   "metadata": {
    "execution": {
     "iopub.execute_input": "2023-02-25T18:22:34.679856Z",
     "iopub.status.busy": "2023-02-25T18:22:34.679446Z",
     "iopub.status.idle": "2023-02-25T18:22:34.687750Z",
     "shell.execute_reply": "2023-02-25T18:22:34.686361Z"
    }
   },
   "outputs": [],
   "source": [
    "newX_bn = np.expand_dims(np.arange(0,5,0.1),1)\n",
    "bNet.eval()\t\t# if using BN you should set setting to eval before evaluating test samples\n",
    "Ŷline_bn = bNet(newX_bn, output_type='ndarray')\t\t#Takes Numpy array or Tensor as input and outputs a Tensor"
   ]
  },
  {
   "cell_type": "code",
   "execution_count": 13,
   "metadata": {
    "execution": {
     "iopub.execute_input": "2023-02-25T18:22:34.692114Z",
     "iopub.status.busy": "2023-02-25T18:22:34.691769Z",
     "iopub.status.idle": "2023-02-25T18:22:35.185944Z",
     "shell.execute_reply": "2023-02-25T18:22:35.184971Z"
    }
   },
   "outputs": [
    {
     "data": {
      "image/png": "[encoded data removed]",
      "text/plain": [
       "<Figure size 640x480 with 2 Axes>"
      ]
     },
     "metadata": {},
     "output_type": "display_data"
    }
   ],
   "source": [
    "splot = wplotlib.scatter(data.X, data.Y, marker='o', show=False, subplot=122)\n",
    "lp = wplotlib.lines(newX, Ŷline, title_font=11, title='With Batch normalization', xlim=[0,5], ylim=[0,5], )\t"
   ]
  }
 ],
 "metadata": {
  "kernelspec": {
   "display_name": "Python 3",
   "language": "python",
   "name": "python3"
  },
  "language_info": {
   "codemirror_mode": {
    "name": "ipython",
    "version": 3
   },
   "file_extension": ".py",
   "mimetype": "text/x-python",
   "name": "python",
   "nbconvert_exporter": "python",
   "pygments_lexer": "ipython3",
   "version": "3.8.10"
  }
 },
 "nbformat": 4,
 "nbformat_minor": 2
}
