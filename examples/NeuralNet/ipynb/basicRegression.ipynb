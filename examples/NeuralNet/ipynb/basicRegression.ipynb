{
 "cells": [
  {
   "cell_type": "code",
   "execution_count": 1,
   "metadata": {
    "execution": {
     "iopub.execute_input": "2023-04-18T20:36:03.502532Z",
     "iopub.status.busy": "2023-04-18T20:36:03.502052Z",
     "iopub.status.idle": "2023-04-18T20:36:03.507994Z",
     "shell.execute_reply": "2023-04-18T20:36:03.507092Z"
    }
   },
   "outputs": [],
   "source": [
    "#!/usr/bin/env python"
   ]
  },
  {
   "cell_type": "code",
   "execution_count": 2,
   "metadata": {
    "execution": {
     "iopub.execute_input": "2023-04-18T20:36:03.512491Z",
     "iopub.status.busy": "2023-04-18T20:36:03.512090Z",
     "iopub.status.idle": "2023-04-18T20:36:03.518281Z",
     "shell.execute_reply": "2023-04-18T20:36:03.517235Z"
    }
   },
   "outputs": [],
   "source": [
    "import os\n",
    "import sys\n",
    "if os.path.exists('/home/chieh/code/wPlotLib'):\n",
    "\tsys.path.insert(0,'/home/chieh/code/wPlotLib')\n",
    "if os.path.exists('/home/chieh/code/wuML'):\n",
    "\tsys.path.insert(0,'/home/chieh/code/wuML')"
   ]
  },
  {
   "cell_type": "code",
   "execution_count": 3,
   "metadata": {
    "execution": {
     "iopub.execute_input": "2023-04-18T20:36:03.522536Z",
     "iopub.status.busy": "2023-04-18T20:36:03.522214Z",
     "iopub.status.idle": "2023-04-18T20:36:05.181656Z",
     "shell.execute_reply": "2023-04-18T20:36:05.180836Z"
    }
   },
   "outputs": [],
   "source": [
    "import wuml\n",
    "import numpy as np\n",
    "import torch\n",
    "import wplotlib"
   ]
  },
  {
   "cell_type": "markdown",
   "metadata": {},
   "source": [
    "Examples of both \"with\" and \"without\" batch normalization<br>\n",
    "The idea of training a neural network boils down to 3 steps<br>\n",
    "\t1. Define a network structure<br>\n",
    "\t\tExample: This is a 3 layer network with 100 node width<br>\n",
    "\t\t\tnetworkStructure=[(100,'relu'),(100,'relu'),(1,'none')]<br>\n",
    "\t\t\tPotential Activation Functions are: softmax, relu, tanh, sigmoid, none<br>\n",
    "\t2. Define a cost function<br>\n",
    "\t3. Call train()"
   ]
  },
  {
   "cell_type": "code",
   "execution_count": 4,
   "metadata": {
    "execution": {
     "iopub.execute_input": "2023-04-18T20:36:05.186873Z",
     "iopub.status.busy": "2023-04-18T20:36:05.186689Z",
     "iopub.status.idle": "2023-04-18T20:36:05.211391Z",
     "shell.execute_reply": "2023-04-18T20:36:05.210503Z"
    }
   },
   "outputs": [],
   "source": [
    "data = wuml.wData(xpath='../../data/regress.csv', ypath='../../data/regress_label.csv', batch_size=20, label_type='continuous')\n",
    "def costFunction(x, y, ŷ, ind):\n",
    "\treturn torch.sum((y- ŷ) ** 2)\t"
   ]
  },
  {
   "cell_type": "markdown",
   "metadata": {},
   "source": [
    "----------------------------------------------<br>\n",
    "Create basic network and train"
   ]
  },
  {
   "cell_type": "code",
   "execution_count": 5,
   "metadata": {
    "execution": {
     "iopub.execute_input": "2023-04-18T20:36:05.215569Z",
     "iopub.status.busy": "2023-04-18T20:36:05.215399Z",
     "iopub.status.idle": "2023-04-18T20:36:53.509341Z",
     "shell.execute_reply": "2023-04-18T20:36:53.507982Z"
    }
   },
   "outputs": [
    {
     "name": "stdout",
     "output_type": "stream",
     "text": [
      "\tepoch: 500, Avg Loss: 4.6706, Learning Rate: 0.00100000"
     ]
    }
   ],
   "source": [
    "bNet = wuml.basicNetwork(costFunction, data, networkStructure=[(30,'relu'),(50,'relu'),(1,'none')], max_epoch=500, learning_rate=0.001)\n",
    "bNet.train(print_status=True)\n",
    "Ŷ = bNet(data, output_type='ndarray')\t\t#Takes Numpy array or Tensor as input and outputs a Tensor"
   ]
  },
  {
   "cell_type": "markdown",
   "metadata": {},
   "source": [
    "Note that we will save this network for later use, check load_use_network.py file "
   ]
  },
  {
   "cell_type": "code",
   "execution_count": 6,
   "metadata": {
    "execution": {
     "iopub.execute_input": "2023-04-18T20:36:53.514983Z",
     "iopub.status.busy": "2023-04-18T20:36:53.514752Z",
     "iopub.status.idle": "2023-04-18T20:36:53.522560Z",
     "shell.execute_reply": "2023-04-18T20:36:53.521731Z"
    }
   },
   "outputs": [],
   "source": [
    "wuml.save_torch_network(bNet, './basicRegressionNet.pk')"
   ]
  },
  {
   "cell_type": "markdown",
   "metadata": {},
   "source": [
    "Check out our predictions"
   ]
  },
  {
   "cell_type": "code",
   "execution_count": 7,
   "metadata": {
    "execution": {
     "iopub.execute_input": "2023-04-18T20:36:53.527585Z",
     "iopub.status.busy": "2023-04-18T20:36:53.527372Z",
     "iopub.status.idle": "2023-04-18T20:36:53.617099Z",
     "shell.execute_reply": "2023-04-18T20:36:53.616383Z"
    }
   },
   "outputs": [
    {
     "name": "stdout",
     "output_type": "stream",
     "text": [
      "Mean Absolute Error: 0.5898\n"
     ]
    },
    {
     "data": {
      "text/html": [
       "<style type=\"text/css\">\n",
       "#T_a85ab th {\n",
       "  text-align: center;\n",
       "}\n",
       "#T_a85ab td {\n",
       "  text-align: center;\n",
       "}\n",
       "</style>\n",
       "<table id=\"T_a85ab\">\n",
       "  <thead>\n",
       "    <tr>\n",
       "      <th class=\"blank level0\" >&nbsp;</th>\n",
       "      <th id=\"T_a85ab_level0_col0\" class=\"col_heading level0 col0\" >y</th>\n",
       "      <th id=\"T_a85ab_level0_col1\" class=\"col_heading level0 col1\" >ŷ</th>\n",
       "      <th id=\"T_a85ab_level0_col2\" class=\"col_heading level0 col2\" >Δy</th>\n",
       "    </tr>\n",
       "  </thead>\n",
       "  <tbody>\n",
       "    <tr>\n",
       "      <th id=\"T_a85ab_level0_row0\" class=\"row_heading level0 row0\" >0</th>\n",
       "      <td id=\"T_a85ab_row0_col0\" class=\"data row0 col0\" >1.100000</td>\n",
       "      <td id=\"T_a85ab_row0_col1\" class=\"data row0 col1\" >1.102000</td>\n",
       "      <td id=\"T_a85ab_row0_col2\" class=\"data row0 col2\" >0.002000</td>\n",
       "    </tr>\n",
       "    <tr>\n",
       "      <th id=\"T_a85ab_level0_row1\" class=\"row_heading level0 row1\" >1</th>\n",
       "      <td id=\"T_a85ab_row1_col0\" class=\"data row1 col0\" >1.100000</td>\n",
       "      <td id=\"T_a85ab_row1_col1\" class=\"data row1 col1\" >1.640000</td>\n",
       "      <td id=\"T_a85ab_row1_col2\" class=\"data row1 col2\" >0.540000</td>\n",
       "    </tr>\n",
       "    <tr>\n",
       "      <th id=\"T_a85ab_level0_row2\" class=\"row_heading level0 row2\" >2</th>\n",
       "      <td id=\"T_a85ab_row2_col0\" class=\"data row2 col0\" >2.200000</td>\n",
       "      <td id=\"T_a85ab_row2_col1\" class=\"data row2 col1\" >1.640000</td>\n",
       "      <td id=\"T_a85ab_row2_col2\" class=\"data row2 col2\" >0.560000</td>\n",
       "    </tr>\n",
       "    <tr>\n",
       "      <th id=\"T_a85ab_level0_row3\" class=\"row_heading level0 row3\" >3</th>\n",
       "      <td id=\"T_a85ab_row3_col0\" class=\"data row3 col0\" >1.000000</td>\n",
       "      <td id=\"T_a85ab_row3_col1\" class=\"data row3 col1\" >2.120000</td>\n",
       "      <td id=\"T_a85ab_row3_col2\" class=\"data row3 col2\" >1.120000</td>\n",
       "    </tr>\n",
       "    <tr>\n",
       "      <th id=\"T_a85ab_level0_row4\" class=\"row_heading level0 row4\" >4</th>\n",
       "      <td id=\"T_a85ab_row4_col0\" class=\"data row4 col0\" >2.000000</td>\n",
       "      <td id=\"T_a85ab_row4_col1\" class=\"data row4 col1\" >2.120000</td>\n",
       "      <td id=\"T_a85ab_row4_col2\" class=\"data row4 col2\" >0.120000</td>\n",
       "    </tr>\n",
       "    <tr>\n",
       "      <th id=\"T_a85ab_level0_row5\" class=\"row_heading level0 row5\" >5</th>\n",
       "      <td id=\"T_a85ab_row5_col0\" class=\"data row5 col0\" >3.000000</td>\n",
       "      <td id=\"T_a85ab_row5_col1\" class=\"data row5 col1\" >2.120000</td>\n",
       "      <td id=\"T_a85ab_row5_col2\" class=\"data row5 col2\" >0.880000</td>\n",
       "    </tr>\n",
       "    <tr>\n",
       "      <th id=\"T_a85ab_level0_row6\" class=\"row_heading level0 row6\" >6</th>\n",
       "      <td id=\"T_a85ab_row6_col0\" class=\"data row6 col0\" >2.000000</td>\n",
       "      <td id=\"T_a85ab_row6_col1\" class=\"data row6 col1\" >2.914000</td>\n",
       "      <td id=\"T_a85ab_row6_col2\" class=\"data row6 col2\" >0.914000</td>\n",
       "    </tr>\n",
       "    <tr>\n",
       "      <th id=\"T_a85ab_level0_row7\" class=\"row_heading level0 row7\" >7</th>\n",
       "      <td id=\"T_a85ab_row7_col0\" class=\"data row7 col0\" >3.000000</td>\n",
       "      <td id=\"T_a85ab_row7_col1\" class=\"data row7 col1\" >2.914000</td>\n",
       "      <td id=\"T_a85ab_row7_col2\" class=\"data row7 col2\" >0.086000</td>\n",
       "    </tr>\n",
       "    <tr>\n",
       "      <th id=\"T_a85ab_level0_row8\" class=\"row_heading level0 row8\" >8</th>\n",
       "      <td id=\"T_a85ab_row8_col0\" class=\"data row8 col0\" >4.000000</td>\n",
       "      <td id=\"T_a85ab_row8_col1\" class=\"data row8 col1\" >2.914000</td>\n",
       "      <td id=\"T_a85ab_row8_col2\" class=\"data row8 col2\" >1.086000</td>\n",
       "    </tr>\n",
       "  </tbody>\n",
       "</table>\n"
      ],
      "text/plain": [
       "<pandas.io.formats.style.Styler at 0x7f0f054dd610>"
      ]
     },
     "metadata": {},
     "output_type": "display_data"
    },
    {
     "data": {
      "text/html": [
       "<style type=\"text/css\">\n",
       "#T_68930 th {\n",
       "  text-align: center;\n",
       "}\n",
       "#T_68930 td {\n",
       "  text-align: center;\n",
       "}\n",
       "</style>\n",
       "<table id=\"T_68930\">\n",
       "  <thead>\n",
       "    <tr>\n",
       "      <th class=\"blank level0\" >&nbsp;</th>\n",
       "      <th id=\"T_68930_level0_col0\" class=\"col_heading level0 col0\" >y</th>\n",
       "      <th id=\"T_68930_level0_col1\" class=\"col_heading level0 col1\" >ŷ</th>\n",
       "      <th id=\"T_68930_level0_col2\" class=\"col_heading level0 col2\" >Δy</th>\n",
       "    </tr>\n",
       "  </thead>\n",
       "  <tbody>\n",
       "    <tr>\n",
       "      <th id=\"T_68930_level0_row0\" class=\"row_heading level0 row0\" >0</th>\n",
       "      <td id=\"T_68930_row0_col0\" class=\"data row0 col0\" >1.100000</td>\n",
       "      <td id=\"T_68930_row0_col1\" class=\"data row0 col1\" >1.102000</td>\n",
       "      <td id=\"T_68930_row0_col2\" class=\"data row0 col2\" >0.002000</td>\n",
       "    </tr>\n",
       "    <tr>\n",
       "      <th id=\"T_68930_level0_row1\" class=\"row_heading level0 row1\" >1</th>\n",
       "      <td id=\"T_68930_row1_col0\" class=\"data row1 col0\" >1.100000</td>\n",
       "      <td id=\"T_68930_row1_col1\" class=\"data row1 col1\" >1.640000</td>\n",
       "      <td id=\"T_68930_row1_col2\" class=\"data row1 col2\" >0.540000</td>\n",
       "    </tr>\n",
       "    <tr>\n",
       "      <th id=\"T_68930_level0_row2\" class=\"row_heading level0 row2\" >2</th>\n",
       "      <td id=\"T_68930_row2_col0\" class=\"data row2 col0\" >2.200000</td>\n",
       "      <td id=\"T_68930_row2_col1\" class=\"data row2 col1\" >1.640000</td>\n",
       "      <td id=\"T_68930_row2_col2\" class=\"data row2 col2\" >0.560000</td>\n",
       "    </tr>\n",
       "    <tr>\n",
       "      <th id=\"T_68930_level0_row3\" class=\"row_heading level0 row3\" >3</th>\n",
       "      <td id=\"T_68930_row3_col0\" class=\"data row3 col0\" >1.000000</td>\n",
       "      <td id=\"T_68930_row3_col1\" class=\"data row3 col1\" >2.120000</td>\n",
       "      <td id=\"T_68930_row3_col2\" class=\"data row3 col2\" >1.120000</td>\n",
       "    </tr>\n",
       "    <tr>\n",
       "      <th id=\"T_68930_level0_row4\" class=\"row_heading level0 row4\" >4</th>\n",
       "      <td id=\"T_68930_row4_col0\" class=\"data row4 col0\" >2.000000</td>\n",
       "      <td id=\"T_68930_row4_col1\" class=\"data row4 col1\" >2.120000</td>\n",
       "      <td id=\"T_68930_row4_col2\" class=\"data row4 col2\" >0.120000</td>\n",
       "    </tr>\n",
       "    <tr>\n",
       "      <th id=\"T_68930_level0_row5\" class=\"row_heading level0 row5\" >5</th>\n",
       "      <td id=\"T_68930_row5_col0\" class=\"data row5 col0\" >3.000000</td>\n",
       "      <td id=\"T_68930_row5_col1\" class=\"data row5 col1\" >2.120000</td>\n",
       "      <td id=\"T_68930_row5_col2\" class=\"data row5 col2\" >0.880000</td>\n",
       "    </tr>\n",
       "    <tr>\n",
       "      <th id=\"T_68930_level0_row6\" class=\"row_heading level0 row6\" >6</th>\n",
       "      <td id=\"T_68930_row6_col0\" class=\"data row6 col0\" >2.000000</td>\n",
       "      <td id=\"T_68930_row6_col1\" class=\"data row6 col1\" >2.914000</td>\n",
       "      <td id=\"T_68930_row6_col2\" class=\"data row6 col2\" >0.914000</td>\n",
       "    </tr>\n",
       "    <tr>\n",
       "      <th id=\"T_68930_level0_row7\" class=\"row_heading level0 row7\" >7</th>\n",
       "      <td id=\"T_68930_row7_col0\" class=\"data row7 col0\" >3.000000</td>\n",
       "      <td id=\"T_68930_row7_col1\" class=\"data row7 col1\" >2.914000</td>\n",
       "      <td id=\"T_68930_row7_col2\" class=\"data row7 col2\" >0.086000</td>\n",
       "    </tr>\n",
       "    <tr>\n",
       "      <th id=\"T_68930_level0_row8\" class=\"row_heading level0 row8\" >8</th>\n",
       "      <td id=\"T_68930_row8_col0\" class=\"data row8 col0\" >4.000000</td>\n",
       "      <td id=\"T_68930_row8_col1\" class=\"data row8 col1\" >2.914000</td>\n",
       "      <td id=\"T_68930_row8_col2\" class=\"data row8 col2\" >1.086000</td>\n",
       "    </tr>\n",
       "  </tbody>\n",
       "</table>\n"
      ],
      "text/plain": [
       "<pandas.io.formats.style.Styler at 0x7f0f0d477ee0>"
      ]
     },
     "metadata": {},
     "output_type": "display_data"
    },
    {
     "data": {
      "text/plain": [
       "     y      ŷ     Δy\n",
       "0  1.1  1.102  0.002\n",
       "1  1.1  1.640  0.540\n",
       "2  2.2  1.640  0.560\n",
       "3  1.0  2.120  1.120\n",
       "4  2.0  2.120  0.120\n",
       "5  3.0  2.120  0.880\n",
       "6  2.0  2.914  0.914\n",
       "7  3.0  2.914  0.086\n",
       "8  4.0  2.914  1.086"
      ]
     },
     "execution_count": 7,
     "metadata": {},
     "output_type": "execute_result"
    }
   ],
   "source": [
    "SR = wuml.summarize_regression_result(data.Y, Ŷ)\n",
    "SR.true_vs_predict(print_out=True)"
   ]
  },
  {
   "cell_type": "markdown",
   "metadata": {},
   "source": [
    "Draw the regression line"
   ]
  },
  {
   "cell_type": "code",
   "execution_count": 8,
   "metadata": {
    "execution": {
     "iopub.execute_input": "2023-04-18T20:36:53.620619Z",
     "iopub.status.busy": "2023-04-18T20:36:53.620416Z",
     "iopub.status.idle": "2023-04-18T20:36:53.625121Z",
     "shell.execute_reply": "2023-04-18T20:36:53.624412Z"
    }
   },
   "outputs": [],
   "source": [
    "newX = np.expand_dims(np.arange(0,5,0.1),1)\n",
    "Ŷline = bNet(newX, output_type='ndarray')\t\t#Takes Numpy array or Tensor as input and outputs a Tensor"
   ]
  },
  {
   "cell_type": "markdown",
   "metadata": {},
   "source": [
    "plot the results out"
   ]
  },
  {
   "cell_type": "code",
   "execution_count": 9,
   "metadata": {
    "execution": {
     "iopub.execute_input": "2023-04-18T20:36:53.628590Z",
     "iopub.status.busy": "2023-04-18T20:36:53.628366Z",
     "iopub.status.idle": "2023-04-18T20:36:53.873836Z",
     "shell.execute_reply": "2023-04-18T20:36:53.872914Z"
    }
   },
   "outputs": [],
   "source": [
    "splot = wplotlib.scatter(data.X, data.Y, marker='o', show=False, subplot=121)\n",
    "lp = wplotlib.lines(newX, Ŷline, title_font=11, title='Without Batch Normalization', xlim=[0,5], ylim=[0,5], show=False)\t# show must be false if it is a subplot"
   ]
  },
  {
   "cell_type": "markdown",
   "metadata": {},
   "source": [
    "----------------------------------------------<br>\n",
    "Create network with batch normalization and train\t\t<br>\n",
    "For bn layers, ('bn', False), the 2nd boolean term sets if we use γ,β terms or not"
   ]
  },
  {
   "cell_type": "code",
   "execution_count": 10,
   "metadata": {
    "execution": {
     "iopub.execute_input": "2023-04-18T20:36:53.894954Z",
     "iopub.status.busy": "2023-04-18T20:36:53.894692Z",
     "iopub.status.idle": "2023-04-18T20:37:03.405185Z",
     "shell.execute_reply": "2023-04-18T20:37:03.403860Z"
    }
   },
   "outputs": [
    {
     "name": "stdout",
     "output_type": "stream",
     "text": [
      "\tepoch: 100, Avg Loss: 21.7800, Learning Rate: 0.00100000"
     ]
    }
   ],
   "source": [
    "bNet = wuml.basicNetwork(costFunction, data, networkStructure=[(30,'relu'),('bn', True), (50,'relu'),('bn', True),(1,'none')], max_epoch=100, learning_rate=0.001)\n",
    "bNet.train(print_status=True)\n",
    "Ŷ = bNet(data, output_type='ndarray')\t\t#Takes Numpy array or Tensor as input and outputs a Tensor"
   ]
  },
  {
   "cell_type": "markdown",
   "metadata": {},
   "source": [
    "Check out our predictions"
   ]
  },
  {
   "cell_type": "code",
   "execution_count": 11,
   "metadata": {
    "execution": {
     "iopub.execute_input": "2023-04-18T20:37:03.410879Z",
     "iopub.status.busy": "2023-04-18T20:37:03.410569Z",
     "iopub.status.idle": "2023-04-18T20:37:03.434029Z",
     "shell.execute_reply": "2023-04-18T20:37:03.433296Z"
    }
   },
   "outputs": [
    {
     "name": "stdout",
     "output_type": "stream",
     "text": [
      "Mean Absolute Error: 1.3657\n"
     ]
    },
    {
     "data": {
      "text/html": [
       "<style type=\"text/css\">\n",
       "#T_1eb73 th {\n",
       "  text-align: center;\n",
       "}\n",
       "#T_1eb73 td {\n",
       "  text-align: center;\n",
       "}\n",
       "</style>\n",
       "<table id=\"T_1eb73\">\n",
       "  <thead>\n",
       "    <tr>\n",
       "      <th class=\"blank level0\" >&nbsp;</th>\n",
       "      <th id=\"T_1eb73_level0_col0\" class=\"col_heading level0 col0\" >y</th>\n",
       "      <th id=\"T_1eb73_level0_col1\" class=\"col_heading level0 col1\" >ŷ</th>\n",
       "      <th id=\"T_1eb73_level0_col2\" class=\"col_heading level0 col2\" >Δy</th>\n",
       "    </tr>\n",
       "  </thead>\n",
       "  <tbody>\n",
       "    <tr>\n",
       "      <th id=\"T_1eb73_level0_row0\" class=\"row_heading level0 row0\" >0</th>\n",
       "      <td id=\"T_1eb73_row0_col0\" class=\"data row0 col0\" >1.100000</td>\n",
       "      <td id=\"T_1eb73_row0_col1\" class=\"data row0 col1\" >-0.265000</td>\n",
       "      <td id=\"T_1eb73_row0_col2\" class=\"data row0 col2\" >1.365000</td>\n",
       "    </tr>\n",
       "    <tr>\n",
       "      <th id=\"T_1eb73_level0_row1\" class=\"row_heading level0 row1\" >1</th>\n",
       "      <td id=\"T_1eb73_row1_col0\" class=\"data row1 col0\" >1.100000</td>\n",
       "      <td id=\"T_1eb73_row1_col1\" class=\"data row1 col1\" >0.285000</td>\n",
       "      <td id=\"T_1eb73_row1_col2\" class=\"data row1 col2\" >0.815000</td>\n",
       "    </tr>\n",
       "    <tr>\n",
       "      <th id=\"T_1eb73_level0_row2\" class=\"row_heading level0 row2\" >2</th>\n",
       "      <td id=\"T_1eb73_row2_col0\" class=\"data row2 col0\" >2.200000</td>\n",
       "      <td id=\"T_1eb73_row2_col1\" class=\"data row2 col1\" >0.285000</td>\n",
       "      <td id=\"T_1eb73_row2_col2\" class=\"data row2 col2\" >1.915000</td>\n",
       "    </tr>\n",
       "    <tr>\n",
       "      <th id=\"T_1eb73_level0_row3\" class=\"row_heading level0 row3\" >3</th>\n",
       "      <td id=\"T_1eb73_row3_col0\" class=\"data row3 col0\" >1.000000</td>\n",
       "      <td id=\"T_1eb73_row3_col1\" class=\"data row3 col1\" >0.631000</td>\n",
       "      <td id=\"T_1eb73_row3_col2\" class=\"data row3 col2\" >0.369000</td>\n",
       "    </tr>\n",
       "    <tr>\n",
       "      <th id=\"T_1eb73_level0_row4\" class=\"row_heading level0 row4\" >4</th>\n",
       "      <td id=\"T_1eb73_row4_col0\" class=\"data row4 col0\" >2.000000</td>\n",
       "      <td id=\"T_1eb73_row4_col1\" class=\"data row4 col1\" >0.631000</td>\n",
       "      <td id=\"T_1eb73_row4_col2\" class=\"data row4 col2\" >1.369000</td>\n",
       "    </tr>\n",
       "    <tr>\n",
       "      <th id=\"T_1eb73_level0_row5\" class=\"row_heading level0 row5\" >5</th>\n",
       "      <td id=\"T_1eb73_row5_col0\" class=\"data row5 col0\" >3.000000</td>\n",
       "      <td id=\"T_1eb73_row5_col1\" class=\"data row5 col1\" >0.631000</td>\n",
       "      <td id=\"T_1eb73_row5_col2\" class=\"data row5 col2\" >2.369000</td>\n",
       "    </tr>\n",
       "    <tr>\n",
       "      <th id=\"T_1eb73_level0_row6\" class=\"row_heading level0 row6\" >6</th>\n",
       "      <td id=\"T_1eb73_row6_col0\" class=\"data row6 col0\" >2.000000</td>\n",
       "      <td id=\"T_1eb73_row6_col1\" class=\"data row6 col1\" >1.637000</td>\n",
       "      <td id=\"T_1eb73_row6_col2\" class=\"data row6 col2\" >0.363000</td>\n",
       "    </tr>\n",
       "    <tr>\n",
       "      <th id=\"T_1eb73_level0_row7\" class=\"row_heading level0 row7\" >7</th>\n",
       "      <td id=\"T_1eb73_row7_col0\" class=\"data row7 col0\" >3.000000</td>\n",
       "      <td id=\"T_1eb73_row7_col1\" class=\"data row7 col1\" >1.637000</td>\n",
       "      <td id=\"T_1eb73_row7_col2\" class=\"data row7 col2\" >1.363000</td>\n",
       "    </tr>\n",
       "    <tr>\n",
       "      <th id=\"T_1eb73_level0_row8\" class=\"row_heading level0 row8\" >8</th>\n",
       "      <td id=\"T_1eb73_row8_col0\" class=\"data row8 col0\" >4.000000</td>\n",
       "      <td id=\"T_1eb73_row8_col1\" class=\"data row8 col1\" >1.637000</td>\n",
       "      <td id=\"T_1eb73_row8_col2\" class=\"data row8 col2\" >2.363000</td>\n",
       "    </tr>\n",
       "  </tbody>\n",
       "</table>\n"
      ],
      "text/plain": [
       "<pandas.io.formats.style.Styler at 0x7f0fe009a2b0>"
      ]
     },
     "metadata": {},
     "output_type": "display_data"
    },
    {
     "data": {
      "text/html": [
       "<div>\n",
       "<style scoped>\n",
       "    .dataframe tbody tr th:only-of-type {\n",
       "        vertical-align: middle;\n",
       "    }\n",
       "\n",
       "    .dataframe tbody tr th {\n",
       "        vertical-align: top;\n",
       "    }\n",
       "\n",
       "    .dataframe thead th {\n",
       "        text-align: right;\n",
       "    }\n",
       "</style>\n",
       "<table border=\"1\" class=\"dataframe\">\n",
       "  <thead>\n",
       "    <tr style=\"text-align: right;\">\n",
       "      <th></th>\n",
       "      <th>y</th>\n",
       "      <th>ŷ</th>\n",
       "      <th>Δy</th>\n",
       "    </tr>\n",
       "  </thead>\n",
       "  <tbody>\n",
       "    <tr>\n",
       "      <th>0</th>\n",
       "      <td>1.1</td>\n",
       "      <td>-0.265</td>\n",
       "      <td>1.365</td>\n",
       "    </tr>\n",
       "    <tr>\n",
       "      <th>1</th>\n",
       "      <td>1.1</td>\n",
       "      <td>0.285</td>\n",
       "      <td>0.815</td>\n",
       "    </tr>\n",
       "    <tr>\n",
       "      <th>2</th>\n",
       "      <td>2.2</td>\n",
       "      <td>0.285</td>\n",
       "      <td>1.915</td>\n",
       "    </tr>\n",
       "    <tr>\n",
       "      <th>3</th>\n",
       "      <td>1.0</td>\n",
       "      <td>0.631</td>\n",
       "      <td>0.369</td>\n",
       "    </tr>\n",
       "    <tr>\n",
       "      <th>4</th>\n",
       "      <td>2.0</td>\n",
       "      <td>0.631</td>\n",
       "      <td>1.369</td>\n",
       "    </tr>\n",
       "    <tr>\n",
       "      <th>5</th>\n",
       "      <td>3.0</td>\n",
       "      <td>0.631</td>\n",
       "      <td>2.369</td>\n",
       "    </tr>\n",
       "    <tr>\n",
       "      <th>6</th>\n",
       "      <td>2.0</td>\n",
       "      <td>1.637</td>\n",
       "      <td>0.363</td>\n",
       "    </tr>\n",
       "    <tr>\n",
       "      <th>7</th>\n",
       "      <td>3.0</td>\n",
       "      <td>1.637</td>\n",
       "      <td>1.363</td>\n",
       "    </tr>\n",
       "    <tr>\n",
       "      <th>8</th>\n",
       "      <td>4.0</td>\n",
       "      <td>1.637</td>\n",
       "      <td>2.363</td>\n",
       "    </tr>\n",
       "  </tbody>\n",
       "</table>\n",
       "</div>"
      ],
      "text/plain": [
       "     y      ŷ     Δy\n",
       "0  1.1 -0.265  1.365\n",
       "1  1.1  0.285  0.815\n",
       "2  2.2  0.285  1.915\n",
       "3  1.0  0.631  0.369\n",
       "4  2.0  0.631  1.369\n",
       "5  3.0  0.631  2.369\n",
       "6  2.0  1.637  0.363\n",
       "7  3.0  1.637  1.363\n",
       "8  4.0  1.637  2.363"
      ]
     },
     "metadata": {},
     "output_type": "display_data"
    }
   ],
   "source": [
    "SR = wuml.summarize_regression_result(data.Y, Ŷ)\n",
    "wuml.jupyter_print(SR.true_vs_predict(print_out=False))"
   ]
  },
  {
   "cell_type": "markdown",
   "metadata": {},
   "source": [
    "Draw the regression line"
   ]
  },
  {
   "cell_type": "code",
   "execution_count": 12,
   "metadata": {
    "execution": {
     "iopub.execute_input": "2023-04-18T20:37:03.438493Z",
     "iopub.status.busy": "2023-04-18T20:37:03.438280Z",
     "iopub.status.idle": "2023-04-18T20:37:03.443750Z",
     "shell.execute_reply": "2023-04-18T20:37:03.442968Z"
    }
   },
   "outputs": [],
   "source": [
    "newX_bn = np.expand_dims(np.arange(0,5,0.1),1)\n",
    "bNet.eval()\t\t# if using BN you should set setting to eval before evaluating test samples\n",
    "Ŷline_bn = bNet(newX_bn, output_type='ndarray')\t\t#Takes Numpy array or Tensor as input and outputs a Tensor"
   ]
  },
  {
   "cell_type": "code",
   "execution_count": 13,
   "metadata": {
    "execution": {
     "iopub.execute_input": "2023-04-18T20:37:03.447365Z",
     "iopub.status.busy": "2023-04-18T20:37:03.447155Z",
     "iopub.status.idle": "2023-04-18T20:37:03.858223Z",
     "shell.execute_reply": "2023-04-18T20:37:03.857523Z"
    }
   },
   "outputs": [
    {
     "data": {
      "image/png": "[encoded data removed]",
      "text/plain": [
       "<Figure size 640x480 with 2 Axes>"
      ]
     },
     "metadata": {},
     "output_type": "display_data"
    }
   ],
   "source": [
    "splot = wplotlib.scatter(data.X, data.Y, marker='o', show=False, subplot=122)\n",
    "lp = wplotlib.lines(newX, Ŷline, title_font=11, title='With Batch normalization', xlim=[0,5], ylim=[0,5], )\t"
   ]
  }
 ],
 "metadata": {
  "kernelspec": {
   "display_name": "Python 3",
   "language": "python",
   "name": "python3"
  },
  "language_info": {
   "codemirror_mode": {
    "name": "ipython",
    "version": 3
   },
   "file_extension": ".py",
   "mimetype": "text/x-python",
   "name": "python",
   "nbconvert_exporter": "python",
   "pygments_lexer": "ipython3",
   "version": "3.8.10"
  }
 },
 "nbformat": 4,
 "nbformat_minor": 2
}
