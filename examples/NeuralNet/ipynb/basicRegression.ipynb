{
 "cells": [
  {
   "cell_type": "code",
   "execution_count": 1,
   "metadata": {
    "execution": {
     "iopub.execute_input": "2023-02-25T21:26:58.145187Z",
     "iopub.status.busy": "2023-02-25T21:26:58.144781Z",
     "iopub.status.idle": "2023-02-25T21:26:58.151061Z",
     "shell.execute_reply": "2023-02-25T21:26:58.150298Z"
    }
   },
   "outputs": [],
   "source": [
    "#!/usr/bin/env python"
   ]
  },
  {
   "cell_type": "code",
   "execution_count": 2,
   "metadata": {
    "execution": {
     "iopub.execute_input": "2023-02-25T21:26:58.154286Z",
     "iopub.status.busy": "2023-02-25T21:26:58.154087Z",
     "iopub.status.idle": "2023-02-25T21:26:58.158361Z",
     "shell.execute_reply": "2023-02-25T21:26:58.157667Z"
    }
   },
   "outputs": [],
   "source": [
    "import os\n",
    "import sys\n",
    "if os.path.exists('/home/chieh/code/wPlotLib'):\n",
    "\tsys.path.insert(0,'/home/chieh/code/wPlotLib')\n",
    "if os.path.exists('/home/chieh/code/wuML'):\n",
    "\tsys.path.insert(0,'/home/chieh/code/wuML')"
   ]
  },
  {
   "cell_type": "code",
   "execution_count": 3,
   "metadata": {
    "execution": {
     "iopub.execute_input": "2023-02-25T21:26:58.161552Z",
     "iopub.status.busy": "2023-02-25T21:26:58.161364Z",
     "iopub.status.idle": "2023-02-25T21:26:59.889678Z",
     "shell.execute_reply": "2023-02-25T21:26:59.888615Z"
    }
   },
   "outputs": [],
   "source": [
    "import wuml\n",
    "import numpy as np\n",
    "import torch\n",
    "import wplotlib"
   ]
  },
  {
   "cell_type": "markdown",
   "metadata": {},
   "source": [
    "Examples of both \"with\" and \"without\" batch normalization<br>\n",
    "The idea of training a neural network boils down to 3 steps<br>\n",
    "\t1. Define a network structure<br>\n",
    "\t\tExample: This is a 3 layer network with 100 node width<br>\n",
    "\t\t\tnetworkStructure=[(100,'relu'),(100,'relu'),(1,'none')]<br>\n",
    "\t\t\tPotential Activation Functions are: softmax, relu, tanh, sigmoid, none<br>\n",
    "\t2. Define a cost function<br>\n",
    "\t3. Call train()"
   ]
  },
  {
   "cell_type": "code",
   "execution_count": 4,
   "metadata": {
    "execution": {
     "iopub.execute_input": "2023-02-25T21:26:59.895117Z",
     "iopub.status.busy": "2023-02-25T21:26:59.894928Z",
     "iopub.status.idle": "2023-02-25T21:26:59.913254Z",
     "shell.execute_reply": "2023-02-25T21:26:59.912497Z"
    }
   },
   "outputs": [],
   "source": [
    "data = wuml.wData(xpath='../../data/regress.csv', ypath='../../data/regress_label.csv', batch_size=20, label_type='continuous')\n",
    "def costFunction(x, y, ŷ, ind):\n",
    "\treturn torch.sum((y- ŷ) ** 2)\t"
   ]
  },
  {
   "cell_type": "markdown",
   "metadata": {},
   "source": [
    "----------------------------------------------<br>\n",
    "Create basic network and train"
   ]
  },
  {
   "cell_type": "code",
   "execution_count": 5,
   "metadata": {
    "execution": {
     "iopub.execute_input": "2023-02-25T21:26:59.918111Z",
     "iopub.status.busy": "2023-02-25T21:26:59.917930Z",
     "iopub.status.idle": "2023-02-25T21:27:54.953596Z",
     "shell.execute_reply": "2023-02-25T21:27:54.951952Z"
    }
   },
   "outputs": [
    {
     "name": "stdout",
     "output_type": "stream",
     "text": [
      "\tepoch: 500, Avg Loss: 4.8015, Learning Rate: 0.00100000"
     ]
    }
   ],
   "source": [
    "bNet = wuml.basicNetwork(costFunction, data, networkStructure=[(30,'relu'),(50,'relu'),(1,'none')], max_epoch=500, learning_rate=0.001)\n",
    "bNet.train(print_status=True)\n",
    "Ŷ = bNet(data, output_type='ndarray')\t\t#Takes Numpy array or Tensor as input and outputs a Tensor"
   ]
  },
  {
   "cell_type": "markdown",
   "metadata": {},
   "source": [
    "Note that we will save this network for later use, check load_use_network.py file "
   ]
  },
  {
   "cell_type": "code",
   "execution_count": 6,
   "metadata": {
    "execution": {
     "iopub.execute_input": "2023-02-25T21:27:54.958992Z",
     "iopub.status.busy": "2023-02-25T21:27:54.958570Z",
     "iopub.status.idle": "2023-02-25T21:27:54.970389Z",
     "shell.execute_reply": "2023-02-25T21:27:54.969282Z"
    }
   },
   "outputs": [],
   "source": [
    "wuml.save_torch_network(bNet, './basicRegressionNet.pk')"
   ]
  },
  {
   "cell_type": "markdown",
   "metadata": {},
   "source": [
    "Check out our predictions"
   ]
  },
  {
   "cell_type": "code",
   "execution_count": 7,
   "metadata": {
    "execution": {
     "iopub.execute_input": "2023-02-25T21:27:54.974332Z",
     "iopub.status.busy": "2023-02-25T21:27:54.974126Z",
     "iopub.status.idle": "2023-02-25T21:27:55.002132Z",
     "shell.execute_reply": "2023-02-25T21:27:55.001424Z"
    }
   },
   "outputs": [
    {
     "data": {
      "text/html": [
       "<html><body><h5>Mean Absolute Error: 0.6064</h5></body></html>"
      ],
      "text/plain": [
       "<IPython.core.display.HTML object>"
      ]
     },
     "metadata": {},
     "output_type": "display_data"
    },
    {
     "data": {
      "text/html": [
       "<div>\n",
       "<style scoped>\n",
       "    .dataframe tbody tr th:only-of-type {\n",
       "        vertical-align: middle;\n",
       "    }\n",
       "\n",
       "    .dataframe tbody tr th {\n",
       "        vertical-align: top;\n",
       "    }\n",
       "\n",
       "    .dataframe thead th {\n",
       "        text-align: right;\n",
       "    }\n",
       "</style>\n",
       "<table border=\"1\" class=\"dataframe\">\n",
       "  <thead>\n",
       "    <tr style=\"text-align: right;\">\n",
       "      <th></th>\n",
       "      <th>y</th>\n",
       "      <th>ŷ</th>\n",
       "      <th>Δy</th>\n",
       "    </tr>\n",
       "  </thead>\n",
       "  <tbody>\n",
       "    <tr>\n",
       "      <th>0</th>\n",
       "      <td>1.1</td>\n",
       "      <td>1.107</td>\n",
       "      <td>0.007</td>\n",
       "    </tr>\n",
       "    <tr>\n",
       "      <th>1</th>\n",
       "      <td>1.1</td>\n",
       "      <td>1.600</td>\n",
       "      <td>0.500</td>\n",
       "    </tr>\n",
       "    <tr>\n",
       "      <th>2</th>\n",
       "      <td>2.2</td>\n",
       "      <td>1.600</td>\n",
       "      <td>0.600</td>\n",
       "    </tr>\n",
       "    <tr>\n",
       "      <th>3</th>\n",
       "      <td>1.0</td>\n",
       "      <td>2.208</td>\n",
       "      <td>1.208</td>\n",
       "    </tr>\n",
       "    <tr>\n",
       "      <th>4</th>\n",
       "      <td>2.0</td>\n",
       "      <td>2.208</td>\n",
       "      <td>0.208</td>\n",
       "    </tr>\n",
       "    <tr>\n",
       "      <th>5</th>\n",
       "      <td>3.0</td>\n",
       "      <td>2.208</td>\n",
       "      <td>0.792</td>\n",
       "    </tr>\n",
       "    <tr>\n",
       "      <th>6</th>\n",
       "      <td>2.0</td>\n",
       "      <td>2.857</td>\n",
       "      <td>0.857</td>\n",
       "    </tr>\n",
       "    <tr>\n",
       "      <th>7</th>\n",
       "      <td>3.0</td>\n",
       "      <td>2.857</td>\n",
       "      <td>0.143</td>\n",
       "    </tr>\n",
       "    <tr>\n",
       "      <th>8</th>\n",
       "      <td>4.0</td>\n",
       "      <td>2.857</td>\n",
       "      <td>1.143</td>\n",
       "    </tr>\n",
       "  </tbody>\n",
       "</table>\n",
       "</div>"
      ],
      "text/plain": [
       "     y      ŷ     Δy\n",
       "0  1.1  1.107  0.007\n",
       "1  1.1  1.600  0.500\n",
       "2  2.2  1.600  0.600\n",
       "3  1.0  2.208  1.208\n",
       "4  2.0  2.208  0.208\n",
       "5  3.0  2.208  0.792\n",
       "6  2.0  2.857  0.857\n",
       "7  3.0  2.857  0.143\n",
       "8  4.0  2.857  1.143"
      ]
     },
     "metadata": {},
     "output_type": "display_data"
    },
    {
     "data": {
      "text/html": [
       "<div>\n",
       "<style scoped>\n",
       "    .dataframe tbody tr th:only-of-type {\n",
       "        vertical-align: middle;\n",
       "    }\n",
       "\n",
       "    .dataframe tbody tr th {\n",
       "        vertical-align: top;\n",
       "    }\n",
       "\n",
       "    .dataframe thead th {\n",
       "        text-align: right;\n",
       "    }\n",
       "</style>\n",
       "<table border=\"1\" class=\"dataframe\">\n",
       "  <thead>\n",
       "    <tr style=\"text-align: right;\">\n",
       "      <th></th>\n",
       "      <th>y</th>\n",
       "      <th>ŷ</th>\n",
       "      <th>Δy</th>\n",
       "    </tr>\n",
       "  </thead>\n",
       "  <tbody>\n",
       "    <tr>\n",
       "      <th>0</th>\n",
       "      <td>1.1</td>\n",
       "      <td>1.107</td>\n",
       "      <td>0.007</td>\n",
       "    </tr>\n",
       "    <tr>\n",
       "      <th>1</th>\n",
       "      <td>1.1</td>\n",
       "      <td>1.600</td>\n",
       "      <td>0.500</td>\n",
       "    </tr>\n",
       "    <tr>\n",
       "      <th>2</th>\n",
       "      <td>2.2</td>\n",
       "      <td>1.600</td>\n",
       "      <td>0.600</td>\n",
       "    </tr>\n",
       "    <tr>\n",
       "      <th>3</th>\n",
       "      <td>1.0</td>\n",
       "      <td>2.208</td>\n",
       "      <td>1.208</td>\n",
       "    </tr>\n",
       "    <tr>\n",
       "      <th>4</th>\n",
       "      <td>2.0</td>\n",
       "      <td>2.208</td>\n",
       "      <td>0.208</td>\n",
       "    </tr>\n",
       "    <tr>\n",
       "      <th>5</th>\n",
       "      <td>3.0</td>\n",
       "      <td>2.208</td>\n",
       "      <td>0.792</td>\n",
       "    </tr>\n",
       "    <tr>\n",
       "      <th>6</th>\n",
       "      <td>2.0</td>\n",
       "      <td>2.857</td>\n",
       "      <td>0.857</td>\n",
       "    </tr>\n",
       "    <tr>\n",
       "      <th>7</th>\n",
       "      <td>3.0</td>\n",
       "      <td>2.857</td>\n",
       "      <td>0.143</td>\n",
       "    </tr>\n",
       "    <tr>\n",
       "      <th>8</th>\n",
       "      <td>4.0</td>\n",
       "      <td>2.857</td>\n",
       "      <td>1.143</td>\n",
       "    </tr>\n",
       "  </tbody>\n",
       "</table>\n",
       "</div>"
      ],
      "text/plain": [
       "     y      ŷ     Δy\n",
       "0  1.1  1.107  0.007\n",
       "1  1.1  1.600  0.500\n",
       "2  2.2  1.600  0.600\n",
       "3  1.0  2.208  1.208\n",
       "4  2.0  2.208  0.208\n",
       "5  3.0  2.208  0.792\n",
       "6  2.0  2.857  0.857\n",
       "7  3.0  2.857  0.143\n",
       "8  4.0  2.857  1.143"
      ]
     },
     "metadata": {},
     "output_type": "display_data"
    },
    {
     "data": {
      "text/plain": [
       "     y      ŷ     Δy\n",
       "0  1.1  1.107  0.007\n",
       "1  1.1  1.600  0.500\n",
       "2  2.2  1.600  0.600\n",
       "3  1.0  2.208  1.208\n",
       "4  2.0  2.208  0.208\n",
       "5  3.0  2.208  0.792\n",
       "6  2.0  2.857  0.857\n",
       "7  3.0  2.857  0.143\n",
       "8  4.0  2.857  1.143"
      ]
     },
     "execution_count": 7,
     "metadata": {},
     "output_type": "execute_result"
    }
   ],
   "source": [
    "SR = wuml.summarize_regression_result(data.Y, Ŷ)\n",
    "SR.true_vs_predict(print_out=True)"
   ]
  },
  {
   "cell_type": "markdown",
   "metadata": {},
   "source": [
    "Draw the regression line"
   ]
  },
  {
   "cell_type": "code",
   "execution_count": 8,
   "metadata": {
    "execution": {
     "iopub.execute_input": "2023-02-25T21:27:55.007740Z",
     "iopub.status.busy": "2023-02-25T21:27:55.007529Z",
     "iopub.status.idle": "2023-02-25T21:27:55.012290Z",
     "shell.execute_reply": "2023-02-25T21:27:55.011602Z"
    }
   },
   "outputs": [],
   "source": [
    "newX = np.expand_dims(np.arange(0,5,0.1),1)\n",
    "Ŷline = bNet(newX, output_type='ndarray')\t\t#Takes Numpy array or Tensor as input and outputs a Tensor"
   ]
  },
  {
   "cell_type": "markdown",
   "metadata": {},
   "source": [
    "plot the results out"
   ]
  },
  {
   "cell_type": "code",
   "execution_count": 9,
   "metadata": {
    "execution": {
     "iopub.execute_input": "2023-02-25T21:27:55.015813Z",
     "iopub.status.busy": "2023-02-25T21:27:55.015592Z",
     "iopub.status.idle": "2023-02-25T21:27:55.242180Z",
     "shell.execute_reply": "2023-02-25T21:27:55.241419Z"
    }
   },
   "outputs": [],
   "source": [
    "splot = wplotlib.scatter(data.X, data.Y, marker='o', show=False, subplot=121)\n",
    "lp = wplotlib.lines(newX, Ŷline, title_font=11, title='Without Batch Normalization', xlim=[0,5], ylim=[0,5], show=False)\t# show must be false if it is a subplot"
   ]
  },
  {
   "cell_type": "markdown",
   "metadata": {},
   "source": [
    "----------------------------------------------<br>\n",
    "Create network with batch normalization and train\t\t<br>\n",
    "For bn layers, ('bn', False), the 2nd boolean term sets if we use γ,β terms or not"
   ]
  },
  {
   "cell_type": "code",
   "execution_count": 10,
   "metadata": {
    "execution": {
     "iopub.execute_input": "2023-02-25T21:27:55.247455Z",
     "iopub.status.busy": "2023-02-25T21:27:55.247237Z",
     "iopub.status.idle": "2023-02-25T21:28:00.718894Z",
     "shell.execute_reply": "2023-02-25T21:28:00.717870Z"
    }
   },
   "outputs": [
    {
     "name": "stdout",
     "output_type": "stream",
     "text": [
      "\tepoch: 50, Avg Loss: 40.9329, Learning Rate: 0.00100000"
     ]
    }
   ],
   "source": [
    "bNet = wuml.basicNetwork(costFunction, data, networkStructure=[(30,'relu'),('bn', True), (50,'relu'),('bn', True),(1,'none')], max_epoch=50, learning_rate=0.001)\n",
    "bNet.train(print_status=True)\n",
    "Ŷ = bNet(data, output_type='ndarray')\t\t#Takes Numpy array or Tensor as input and outputs a Tensor"
   ]
  },
  {
   "cell_type": "markdown",
   "metadata": {},
   "source": [
    "Check out our predictions"
   ]
  },
  {
   "cell_type": "code",
   "execution_count": 11,
   "metadata": {
    "execution": {
     "iopub.execute_input": "2023-02-25T21:28:00.745598Z",
     "iopub.status.busy": "2023-02-25T21:28:00.745231Z",
     "iopub.status.idle": "2023-02-25T21:28:00.775904Z",
     "shell.execute_reply": "2023-02-25T21:28:00.775168Z"
    }
   },
   "outputs": [
    {
     "data": {
      "text/html": [
       "<html><body><h5>Mean Absolute Error: 2.0031</h5></body></html>"
      ],
      "text/plain": [
       "<IPython.core.display.HTML object>"
      ]
     },
     "metadata": {},
     "output_type": "display_data"
    },
    {
     "data": {
      "text/html": [
       "<div>\n",
       "<style scoped>\n",
       "    .dataframe tbody tr th:only-of-type {\n",
       "        vertical-align: middle;\n",
       "    }\n",
       "\n",
       "    .dataframe tbody tr th {\n",
       "        vertical-align: top;\n",
       "    }\n",
       "\n",
       "    .dataframe thead th {\n",
       "        text-align: right;\n",
       "    }\n",
       "</style>\n",
       "<table border=\"1\" class=\"dataframe\">\n",
       "  <thead>\n",
       "    <tr style=\"text-align: right;\">\n",
       "      <th></th>\n",
       "      <th>y</th>\n",
       "      <th>ŷ</th>\n",
       "      <th>Δy</th>\n",
       "    </tr>\n",
       "  </thead>\n",
       "  <tbody>\n",
       "    <tr>\n",
       "      <th>0</th>\n",
       "      <td>1.1</td>\n",
       "      <td>-0.896</td>\n",
       "      <td>1.996</td>\n",
       "    </tr>\n",
       "    <tr>\n",
       "      <th>1</th>\n",
       "      <td>1.1</td>\n",
       "      <td>-0.339</td>\n",
       "      <td>1.439</td>\n",
       "    </tr>\n",
       "    <tr>\n",
       "      <th>2</th>\n",
       "      <td>2.2</td>\n",
       "      <td>-0.339</td>\n",
       "      <td>2.539</td>\n",
       "    </tr>\n",
       "    <tr>\n",
       "      <th>3</th>\n",
       "      <td>1.0</td>\n",
       "      <td>-0.026</td>\n",
       "      <td>1.026</td>\n",
       "    </tr>\n",
       "    <tr>\n",
       "      <th>4</th>\n",
       "      <td>2.0</td>\n",
       "      <td>-0.026</td>\n",
       "      <td>2.026</td>\n",
       "    </tr>\n",
       "    <tr>\n",
       "      <th>5</th>\n",
       "      <td>3.0</td>\n",
       "      <td>-0.026</td>\n",
       "      <td>3.026</td>\n",
       "    </tr>\n",
       "    <tr>\n",
       "      <th>6</th>\n",
       "      <td>2.0</td>\n",
       "      <td>1.008</td>\n",
       "      <td>0.992</td>\n",
       "    </tr>\n",
       "    <tr>\n",
       "      <th>7</th>\n",
       "      <td>3.0</td>\n",
       "      <td>1.008</td>\n",
       "      <td>1.992</td>\n",
       "    </tr>\n",
       "    <tr>\n",
       "      <th>8</th>\n",
       "      <td>4.0</td>\n",
       "      <td>1.008</td>\n",
       "      <td>2.992</td>\n",
       "    </tr>\n",
       "  </tbody>\n",
       "</table>\n",
       "</div>"
      ],
      "text/plain": [
       "     y      ŷ     Δy\n",
       "0  1.1 -0.896  1.996\n",
       "1  1.1 -0.339  1.439\n",
       "2  2.2 -0.339  2.539\n",
       "3  1.0 -0.026  1.026\n",
       "4  2.0 -0.026  2.026\n",
       "5  3.0 -0.026  3.026\n",
       "6  2.0  1.008  0.992\n",
       "7  3.0  1.008  1.992\n",
       "8  4.0  1.008  2.992"
      ]
     },
     "metadata": {},
     "output_type": "display_data"
    },
    {
     "data": {
      "text/html": [
       "<div>\n",
       "<style scoped>\n",
       "    .dataframe tbody tr th:only-of-type {\n",
       "        vertical-align: middle;\n",
       "    }\n",
       "\n",
       "    .dataframe tbody tr th {\n",
       "        vertical-align: top;\n",
       "    }\n",
       "\n",
       "    .dataframe thead th {\n",
       "        text-align: right;\n",
       "    }\n",
       "</style>\n",
       "<table border=\"1\" class=\"dataframe\">\n",
       "  <thead>\n",
       "    <tr style=\"text-align: right;\">\n",
       "      <th></th>\n",
       "      <th>y</th>\n",
       "      <th>ŷ</th>\n",
       "      <th>Δy</th>\n",
       "    </tr>\n",
       "  </thead>\n",
       "  <tbody>\n",
       "    <tr>\n",
       "      <th>0</th>\n",
       "      <td>1.1</td>\n",
       "      <td>-0.896</td>\n",
       "      <td>1.996</td>\n",
       "    </tr>\n",
       "    <tr>\n",
       "      <th>1</th>\n",
       "      <td>1.1</td>\n",
       "      <td>-0.339</td>\n",
       "      <td>1.439</td>\n",
       "    </tr>\n",
       "    <tr>\n",
       "      <th>2</th>\n",
       "      <td>2.2</td>\n",
       "      <td>-0.339</td>\n",
       "      <td>2.539</td>\n",
       "    </tr>\n",
       "    <tr>\n",
       "      <th>3</th>\n",
       "      <td>1.0</td>\n",
       "      <td>-0.026</td>\n",
       "      <td>1.026</td>\n",
       "    </tr>\n",
       "    <tr>\n",
       "      <th>4</th>\n",
       "      <td>2.0</td>\n",
       "      <td>-0.026</td>\n",
       "      <td>2.026</td>\n",
       "    </tr>\n",
       "    <tr>\n",
       "      <th>5</th>\n",
       "      <td>3.0</td>\n",
       "      <td>-0.026</td>\n",
       "      <td>3.026</td>\n",
       "    </tr>\n",
       "    <tr>\n",
       "      <th>6</th>\n",
       "      <td>2.0</td>\n",
       "      <td>1.008</td>\n",
       "      <td>0.992</td>\n",
       "    </tr>\n",
       "    <tr>\n",
       "      <th>7</th>\n",
       "      <td>3.0</td>\n",
       "      <td>1.008</td>\n",
       "      <td>1.992</td>\n",
       "    </tr>\n",
       "    <tr>\n",
       "      <th>8</th>\n",
       "      <td>4.0</td>\n",
       "      <td>1.008</td>\n",
       "      <td>2.992</td>\n",
       "    </tr>\n",
       "  </tbody>\n",
       "</table>\n",
       "</div>"
      ],
      "text/plain": [
       "     y      ŷ     Δy\n",
       "0  1.1 -0.896  1.996\n",
       "1  1.1 -0.339  1.439\n",
       "2  2.2 -0.339  2.539\n",
       "3  1.0 -0.026  1.026\n",
       "4  2.0 -0.026  2.026\n",
       "5  3.0 -0.026  3.026\n",
       "6  2.0  1.008  0.992\n",
       "7  3.0  1.008  1.992\n",
       "8  4.0  1.008  2.992"
      ]
     },
     "metadata": {},
     "output_type": "display_data"
    }
   ],
   "source": [
    "SR = wuml.summarize_regression_result(data.Y, Ŷ)\n",
    "wuml.jupyter_print(SR.true_vs_predict(print_out=False))"
   ]
  },
  {
   "cell_type": "markdown",
   "metadata": {},
   "source": [
    "Draw the regression line"
   ]
  },
  {
   "cell_type": "code",
   "execution_count": 12,
   "metadata": {
    "execution": {
     "iopub.execute_input": "2023-02-25T21:28:00.781763Z",
     "iopub.status.busy": "2023-02-25T21:28:00.781435Z",
     "iopub.status.idle": "2023-02-25T21:28:00.790282Z",
     "shell.execute_reply": "2023-02-25T21:28:00.788968Z"
    }
   },
   "outputs": [],
   "source": [
    "newX_bn = np.expand_dims(np.arange(0,5,0.1),1)\n",
    "bNet.eval()\t\t# if using BN you should set setting to eval before evaluating test samples\n",
    "Ŷline_bn = bNet(newX_bn, output_type='ndarray')\t\t#Takes Numpy array or Tensor as input and outputs a Tensor"
   ]
  },
  {
   "cell_type": "code",
   "execution_count": 13,
   "metadata": {
    "execution": {
     "iopub.execute_input": "2023-02-25T21:28:00.795777Z",
     "iopub.status.busy": "2023-02-25T21:28:00.795405Z",
     "iopub.status.idle": "2023-02-25T21:28:01.216400Z",
     "shell.execute_reply": "2023-02-25T21:28:01.215497Z"
    }
   },
   "outputs": [
    {
     "data": {
      "image/png": "[encoded data removed]",
      "text/plain": [
       "<Figure size 640x480 with 2 Axes>"
      ]
     },
     "metadata": {},
     "output_type": "display_data"
    }
   ],
   "source": [
    "splot = wplotlib.scatter(data.X, data.Y, marker='o', show=False, subplot=122)\n",
    "lp = wplotlib.lines(newX, Ŷline, title_font=11, title='With Batch normalization', xlim=[0,5], ylim=[0,5], )\t"
   ]
  }
 ],
 "metadata": {
  "kernelspec": {
   "display_name": "Python 3",
   "language": "python",
   "name": "python3"
  },
  "language_info": {
   "codemirror_mode": {
    "name": "ipython",
    "version": 3
   },
   "file_extension": ".py",
   "mimetype": "text/x-python",
   "name": "python",
   "nbconvert_exporter": "python",
   "pygments_lexer": "ipython3",
   "version": "3.8.10"
  }
 },
 "nbformat": 4,
 "nbformat_minor": 2
}
