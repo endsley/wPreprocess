{
 "cells": [
  {
   "cell_type": "code",
   "execution_count": 1,
   "metadata": {},
   "outputs": [],
   "source": [
    "#!/usr/bin/env python"
   ]
  },
  {
   "cell_type": "code",
   "execution_count": 2,
   "metadata": {},
   "outputs": [],
   "source": [
    "import os\n",
    "import sys\n",
    "if os.path.exists('/home/chieh/code/wPlotLib'):\n",
    "\tsys.path.insert(0,'/home/chieh/code/wPlotLib')\n",
    "if os.path.exists('/home/chieh/code/wuML'):\n",
    "\tsys.path.insert(0,'/home/chieh/code/wuML')"
   ]
  },
  {
   "cell_type": "code",
   "execution_count": 3,
   "metadata": {},
   "outputs": [],
   "source": [
    "import wuml\n",
    "import numpy as np\n",
    "import torch\n",
    "import wplotlib"
   ]
  },
  {
   "cell_type": "markdown",
   "metadata": {},
   "source": [
    "Examples of both \"with\" and \"without\" batch normalization<br>\n",
    "The idea of training a neural network boils down to 3 steps<br>\n",
    "\t1. Define a network structure<br>\n",
    "\t\tExample: This is a 3 layer network with 100 node width<br>\n",
    "\t\t\tnetworkStructure=[(100,'relu'),(100,'relu'),(1,'none')]<br>\n",
    "\t\t\tPotential Activation Functions are: softmax, relu, tanh, sigmoid, none<br>\n",
    "\t2. Define a cost function<br>\n",
    "\t3. Call train()"
   ]
  },
  {
   "cell_type": "code",
   "execution_count": 4,
   "metadata": {},
   "outputs": [],
   "source": [
    "data = wuml.wData(xpath='../../data/regress.csv', ypath='../../data/regress_label.csv', batch_size=20, label_type='continuous')\n",
    "def costFunction(x, y, ŷ, ind):\n",
    "\treturn torch.sum((y- ŷ) ** 2)\t"
   ]
  },
  {
   "cell_type": "markdown",
   "metadata": {},
   "source": [
    "----------------------------------------------<br>\n",
    "Create basic network and train"
   ]
  },
  {
   "cell_type": "code",
   "execution_count": 5,
   "metadata": {},
   "outputs": [
    {
     "name": "stdout",
     "output_type": "stream",
     "text": [
      "\tepoch: 500, Avg Loss: 4.7785, Learning Rate: 0.00100000"
     ]
    }
   ],
   "source": [
    "bNet = wuml.basicNetwork(costFunction, data, networkStructure=[(30,'relu'),(50,'relu'),(1,'none')], max_epoch=500, learning_rate=0.001)\n",
    "bNet.train(print_status=True)\n",
    "Ŷ = bNet(data, output_type='ndarray')\t\t#Takes Numpy array or Tensor as input and outputs a Tensor"
   ]
  },
  {
   "cell_type": "markdown",
   "metadata": {},
   "source": [
    "Check out our predictions"
   ]
  },
  {
   "cell_type": "code",
   "execution_count": 6,
   "metadata": {},
   "outputs": [
    {
     "name": "stdout",
     "output_type": "stream",
     "text": [
      "     0     1\n",
      "0    y     ŷ\n",
      "1  1.1   1.1\n",
      "2  1.1   1.6\n",
      "3  2.2   1.6\n",
      "4  1.0   2.2\n",
      "5  2.0   2.2\n",
      "6  3.0   2.2\n",
      "7  2.0  2.87\n",
      "8  3.0  2.87\n",
      "9  4.0  2.87\n"
     ]
    }
   ],
   "source": [
    "SR = wuml.summarize_regression_result(data.Y, Ŷ)\n",
    "print(SR.true_vs_predict(print_result=False))"
   ]
  },
  {
   "cell_type": "markdown",
   "metadata": {},
   "source": [
    "Draw the regression line"
   ]
  },
  {
   "cell_type": "code",
   "execution_count": 7,
   "metadata": {},
   "outputs": [],
   "source": [
    "newX = np.expand_dims(np.arange(0,5,0.1),1)\n",
    "Ŷline = bNet(newX, output_type='ndarray')\t\t#Takes Numpy array or Tensor as input and outputs a Tensor"
   ]
  },
  {
   "cell_type": "markdown",
   "metadata": {},
   "source": [
    "----------------------------------------------<br>\n",
    "Create network with batch normalization and train"
   ]
  },
  {
   "cell_type": "code",
   "execution_count": 8,
   "metadata": {},
   "outputs": [
    {
     "name": "stdout",
     "output_type": "stream",
     "text": [
      "\tepoch: 500, Avg Loss: 4.6050, Learning Rate: 0.00003125"
     ]
    }
   ],
   "source": [
    "bNet = wuml.basicNetwork(costFunction, data, networkStructure=[(30,'relu'),('bn'), (50,'relu'),('bn'),(1,'none')], max_epoch=500, learning_rate=0.001)\n",
    "bNet.train(print_status=True)\n",
    "Ŷ = bNet(data, output_type='ndarray')\t\t#Takes Numpy array or Tensor as input and outputs a Tensor"
   ]
  },
  {
   "cell_type": "markdown",
   "metadata": {},
   "source": [
    "Check out our predictions"
   ]
  },
  {
   "cell_type": "code",
   "execution_count": 9,
   "metadata": {},
   "outputs": [
    {
     "name": "stdout",
     "output_type": "stream",
     "text": [
      "     0     1\n",
      "0    y     ŷ\n",
      "1  1.1   1.1\n",
      "2  1.1  1.65\n",
      "3  2.2  1.65\n",
      "4  1.0   2.0\n",
      "5  2.0   2.0\n",
      "6  3.0   2.0\n",
      "7  2.0   3.0\n",
      "8  3.0   3.0\n",
      "9  4.0   3.0\n"
     ]
    }
   ],
   "source": [
    "SR = wuml.summarize_regression_result(data.Y, Ŷ)\n",
    "print(SR.true_vs_predict(print_result=False))"
   ]
  },
  {
   "cell_type": "markdown",
   "metadata": {},
   "source": [
    "Draw the regression line"
   ]
  },
  {
   "cell_type": "code",
   "execution_count": 10,
   "metadata": {},
   "outputs": [],
   "source": [
    "newX_bn = np.expand_dims(np.arange(0,5,0.1),1)\n",
    "Ŷline_bn = bNet(newX_bn, output_type='ndarray')\t\t#Takes Numpy array or Tensor as input and outputs a Tensor"
   ]
  },
  {
   "cell_type": "markdown",
   "metadata": {},
   "source": [
    "plot the results out"
   ]
  },
  {
   "cell_type": "code",
   "execution_count": 13,
   "metadata": {},
   "outputs": [
    {
     "name": "stderr",
     "output_type": "stream",
     "text": [
      "findfont: Font family ['normal'] not found. Falling back to DejaVu Sans.\n"
     ]
    }
   ],
   "source": [
    "splot = wplotlib.scatter(data.X, data.Y, marker='o', show=False, subplot=121)\n",
    "lp = wplotlib.lines(newX, Ŷline, title_font=10, title='Without Batch Normalization', show=False)\t# show must be false if it is a subplot"
   ]
  },
  {
   "cell_type": "code",
   "execution_count": 14,
   "metadata": {},
   "outputs": [
    {
     "data": {
      "image/png": "[encoded data removed]",
      "text/plain": [
       "<Figure size 640x480 with 2 Axes>"
      ]
     },
     "metadata": {},
     "output_type": "display_data"
    }
   ],
   "source": [
    "splot = wplotlib.scatter(data.X, data.Y, marker='o', show=False, subplot=122)\n",
    "lp = wplotlib.lines(newX, Ŷline, title_font=10, title='With Batch normalization')\t"
   ]
  }
 ],
 "metadata": {
  "kernelspec": {
   "display_name": "Python 3",
   "language": "python",
   "name": "python3"
  },
  "language_info": {
   "codemirror_mode": {
    "name": "ipython",
    "version": 3
   },
   "file_extension": ".py",
   "mimetype": "text/x-python",
   "name": "python",
   "nbconvert_exporter": "python",
   "pygments_lexer": "ipython3",
   "version": "3.8.10"
  }
 },
 "nbformat": 4,
 "nbformat_minor": 2
}
