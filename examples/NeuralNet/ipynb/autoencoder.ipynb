{
 "cells": [
  {
   "cell_type": "code",
   "execution_count": 1,
   "metadata": {
    "execution": {
     "iopub.execute_input": "2023-03-02T20:30:31.400805Z",
     "iopub.status.busy": "2023-03-02T20:30:31.400329Z",
     "iopub.status.idle": "2023-03-02T20:30:31.406898Z",
     "shell.execute_reply": "2023-03-02T20:30:31.405439Z"
    }
   },
   "outputs": [],
   "source": [
    "#!/usr/bin/env python"
   ]
  },
  {
   "cell_type": "code",
   "execution_count": 2,
   "metadata": {
    "execution": {
     "iopub.execute_input": "2023-03-02T20:30:31.411664Z",
     "iopub.status.busy": "2023-03-02T20:30:31.411253Z",
     "iopub.status.idle": "2023-03-02T20:30:31.418159Z",
     "shell.execute_reply": "2023-03-02T20:30:31.417060Z"
    }
   },
   "outputs": [],
   "source": [
    "import os\n",
    "import sys\n",
    "if os.path.exists('/home/chieh/code/wPlotLib'):\n",
    "\tsys.path.insert(0,'/home/chieh/code/wPlotLib')\n",
    "if os.path.exists('/home/chieh/code/wuML'):\n",
    "\tsys.path.insert(0,'/home/chieh/code/wuML')"
   ]
  },
  {
   "cell_type": "code",
   "execution_count": 3,
   "metadata": {
    "execution": {
     "iopub.execute_input": "2023-03-02T20:30:31.422674Z",
     "iopub.status.busy": "2023-03-02T20:30:31.422256Z",
     "iopub.status.idle": "2023-03-02T20:30:33.215310Z",
     "shell.execute_reply": "2023-03-02T20:30:33.214424Z"
    }
   },
   "outputs": [],
   "source": [
    "import wuml\n",
    "import numpy as np\n",
    "import torch\n",
    "import torch\n",
    "import torch.nn as nn"
   ]
  },
  {
   "cell_type": "code",
   "execution_count": 4,
   "metadata": {
    "execution": {
     "iopub.execute_input": "2023-03-02T20:30:33.220797Z",
     "iopub.status.busy": "2023-03-02T20:30:33.220606Z",
     "iopub.status.idle": "2023-03-02T20:30:33.225438Z",
     "shell.execute_reply": "2023-03-02T20:30:33.224645Z"
    }
   },
   "outputs": [],
   "source": [
    "def costFunction(x, x̂, ẙ, y, ŷ, ind):\t\n",
    "#\tx -> encoder -> x̂\n",
    "#\tx̂ -> encoder_linear_output -> ẙ\t\n",
    "#\tx̂ -> decoder -> ŷ\t\n",
    "#\tpossible autoencoder objective λ could be 0\n",
    "#\tloss = (x - ŷ)ᒾ + λ * objective(ẙ, y)\n",
    "#\n",
    "#\tThis function can return 1 value or 3 values in a list\n",
    "#\tif return 1 value, just the loss\n",
    "#\tif return 3 values, [total_loss, reconstruction_loss, extra network from ẙ loss]\n",
    "#\n",
    "#\tIn this example, we perform both reconstruction and CE loss\n",
    "#\n",
    "\tCE_loss = nn.CrossEntropyLoss() #weird pytorch, dim of y is 1, and ŷ is 20x3\n",
    "\tR = torch.sum((x - ŷ) ** 2)/(128*13)\t#scaled by batch size times data dimension\n",
    "\tCE = CE_loss(ẙ, y)\n",
    "\tloss = R + CE\n",
    "\treturn [loss, R, CE]"
   ]
  },
  {
   "cell_type": "code",
   "execution_count": 5,
   "metadata": {
    "execution": {
     "iopub.execute_input": "2023-03-02T20:30:33.229830Z",
     "iopub.status.busy": "2023-03-02T20:30:33.229638Z",
     "iopub.status.idle": "2023-03-02T20:30:33.233313Z",
     "shell.execute_reply": "2023-03-02T20:30:33.232427Z"
    }
   },
   "outputs": [],
   "source": [
    "def costFunction2(x, x̂, ẙ, y, ŷ, ind):\t\n",
    "#\tExample of just return 1 value, this is just a regular autoencoder\n",
    "\treturn torch.sum((x - ŷ) ** 2)"
   ]
  },
  {
   "cell_type": "code",
   "execution_count": 6,
   "metadata": {
    "execution": {
     "iopub.execute_input": "2023-03-02T20:30:33.236470Z",
     "iopub.status.busy": "2023-03-02T20:30:33.236254Z",
     "iopub.status.idle": "2023-03-02T20:30:33.255851Z",
     "shell.execute_reply": "2023-03-02T20:30:33.254868Z"
    }
   },
   "outputs": [],
   "source": [
    "data = wuml.wData(xpath='../../data/wine.csv', ypath='../../data/wine_label.csv', \n",
    "\t\t\t\t\tpreprocess_data='center and scale', batch_size=128, label_type='discrete')"
   ]
  },
  {
   "cell_type": "code",
   "execution_count": 7,
   "metadata": {
    "execution": {
     "iopub.execute_input": "2023-03-02T20:30:33.260726Z",
     "iopub.status.busy": "2023-03-02T20:30:33.260541Z",
     "iopub.status.idle": "2023-03-02T20:33:52.054031Z",
     "shell.execute_reply": "2023-03-02T20:33:52.052633Z"
    }
   },
   "outputs": [
    {
     "name": "stdout",
     "output_type": "stream",
     "text": [
      "\tepoch: 2000, Total Loss/dimension: 0.0222, Reconstruct loss: 0.0222, Objective loss: 0.0000, Learning Rate: 0.00000002"
     ]
    }
   ],
   "source": [
    "AE = wuml.autoencoder(12, data, default_depth=2, costFunction=costFunction, # costFunction and costFunction2 both works\n",
    "\t\t\t\t\t\tmax_epoch=2000, encoder_output_weight_structure=[(3,'none')] ) \n",
    "AE.fit()\n",
    "wuml.save_torch_network(AE, './autoencoder.pk')"
   ]
  },
  {
   "cell_type": "markdown",
   "metadata": {},
   "source": [
    "Notice that the reconstruction did a reasonable job"
   ]
  },
  {
   "cell_type": "code",
   "execution_count": 8,
   "metadata": {
    "execution": {
     "iopub.execute_input": "2023-03-02T20:33:52.059272Z",
     "iopub.status.busy": "2023-03-02T20:33:52.059034Z",
     "iopub.status.idle": "2023-03-02T20:33:52.110417Z",
     "shell.execute_reply": "2023-03-02T20:33:52.109323Z"
    }
   },
   "outputs": [
    {
     "name": "stdout",
     "output_type": "stream",
     "text": [
      "[[ 1.5985 -0.4743  0.0864 -0.9325  1.8547  0.897   1.1472 -0.7644  1.1822  0.0465]\n",
      " [ 0.2647 -0.4629 -0.8777 -2.4373 -0.0002  0.5283  0.8528 -0.8426 -0.573  -0.3473]\n",
      " [ 0.3281  0.0548  1.2111 -0.4317  0.1523  0.6836  1.3851 -0.4698  2.116   0.3888]\n",
      " [ 1.7258 -0.4289  0.5218 -0.8754  1.0623  1.721   2.1308 -0.8061  0.9651  1.2471]\n",
      " [ 0.2204  0.213   1.7582  0.5781  1.2635  0.6811  0.7768  0.22    0.389  -0.414 ]]\n"
     ]
    },
    {
     "data": {
      "text/html": [
       "<div>\n",
       "<style scoped>\n",
       "    .dataframe tbody tr th:only-of-type {\n",
       "        vertical-align: middle;\n",
       "    }\n",
       "\n",
       "    .dataframe tbody tr th {\n",
       "        vertical-align: top;\n",
       "    }\n",
       "\n",
       "    .dataframe thead th {\n",
       "        text-align: right;\n",
       "    }\n",
       "</style>\n",
       "<table border=\"1\" class=\"dataframe\">\n",
       "  <thead>\n",
       "    <tr style=\"text-align: right;\">\n",
       "      <th></th>\n",
       "      <th>0</th>\n",
       "      <th>1</th>\n",
       "      <th>2</th>\n",
       "      <th>3</th>\n",
       "      <th>4</th>\n",
       "      <th>5</th>\n",
       "      <th>6</th>\n",
       "      <th>7</th>\n",
       "      <th>8</th>\n",
       "      <th>9</th>\n",
       "    </tr>\n",
       "  </thead>\n",
       "  <tbody>\n",
       "    <tr>\n",
       "      <th>0</th>\n",
       "      <td>1.518613</td>\n",
       "      <td>-0.562250</td>\n",
       "      <td>0.232053</td>\n",
       "      <td>-1.169593</td>\n",
       "      <td>1.913905</td>\n",
       "      <td>0.808997</td>\n",
       "      <td>1.034819</td>\n",
       "      <td>-0.659563</td>\n",
       "      <td>1.224884</td>\n",
       "      <td>0.251717</td>\n",
       "    </tr>\n",
       "    <tr>\n",
       "      <th>1</th>\n",
       "      <td>0.246290</td>\n",
       "      <td>-0.499413</td>\n",
       "      <td>-0.827996</td>\n",
       "      <td>-2.490847</td>\n",
       "      <td>0.018145</td>\n",
       "      <td>0.568648</td>\n",
       "      <td>0.733629</td>\n",
       "      <td>-0.820719</td>\n",
       "      <td>-0.544721</td>\n",
       "      <td>-0.293321</td>\n",
       "    </tr>\n",
       "    <tr>\n",
       "      <th>2</th>\n",
       "      <td>0.196879</td>\n",
       "      <td>0.021231</td>\n",
       "      <td>1.109334</td>\n",
       "      <td>-0.268738</td>\n",
       "      <td>0.088358</td>\n",
       "      <td>0.808997</td>\n",
       "      <td>1.215533</td>\n",
       "      <td>-0.498407</td>\n",
       "      <td>2.135968</td>\n",
       "      <td>0.269020</td>\n",
       "    </tr>\n",
       "    <tr>\n",
       "      <th>3</th>\n",
       "      <td>1.691550</td>\n",
       "      <td>-0.346811</td>\n",
       "      <td>0.487926</td>\n",
       "      <td>-0.809251</td>\n",
       "      <td>0.930918</td>\n",
       "      <td>2.491446</td>\n",
       "      <td>1.466525</td>\n",
       "      <td>-0.981875</td>\n",
       "      <td>1.032155</td>\n",
       "      <td>1.186068</td>\n",
       "    </tr>\n",
       "    <tr>\n",
       "      <th>4</th>\n",
       "      <td>0.295700</td>\n",
       "      <td>0.227694</td>\n",
       "      <td>1.840403</td>\n",
       "      <td>0.451946</td>\n",
       "      <td>1.281985</td>\n",
       "      <td>0.808997</td>\n",
       "      <td>0.663351</td>\n",
       "      <td>0.226796</td>\n",
       "      <td>0.401404</td>\n",
       "      <td>-0.319276</td>\n",
       "    </tr>\n",
       "  </tbody>\n",
       "</table>\n",
       "</div>"
      ],
      "text/plain": [
       "          0         1         2         3         4         5         6  \\\n",
       "0  1.518613 -0.562250  0.232053 -1.169593  1.913905  0.808997  1.034819   \n",
       "1  0.246290 -0.499413 -0.827996 -2.490847  0.018145  0.568648  0.733629   \n",
       "2  0.196879  0.021231  1.109334 -0.268738  0.088358  0.808997  1.215533   \n",
       "3  1.691550 -0.346811  0.487926 -0.809251  0.930918  2.491446  1.466525   \n",
       "4  0.295700  0.227694  1.840403  0.451946  1.281985  0.808997  0.663351   \n",
       "\n",
       "          7         8         9  \n",
       "0 -0.659563  1.224884  0.251717  \n",
       "1 -0.820719 -0.544721 -0.293321  \n",
       "2 -0.498407  2.135968  0.269020  \n",
       "3 -0.981875  1.032155  1.186068  \n",
       "4  0.226796  0.401404 -0.319276  "
      ]
     },
     "metadata": {},
     "output_type": "display_data"
    }
   ],
   "source": [
    "ŷ = AE(data)\n",
    "wuml.jupyter_print(ŷ[0:5,0:10])\n",
    "wuml.jupyter_print(data.X[0:5,0:10])"
   ]
  },
  {
   "cell_type": "markdown",
   "metadata": {},
   "source": [
    "This is the bottleneck output which is d=12"
   ]
  },
  {
   "cell_type": "code",
   "execution_count": 9,
   "metadata": {
    "execution": {
     "iopub.execute_input": "2023-03-02T20:33:52.116402Z",
     "iopub.status.busy": "2023-03-02T20:33:52.116159Z",
     "iopub.status.idle": "2023-03-02T20:33:52.123182Z",
     "shell.execute_reply": "2023-03-02T20:33:52.122281Z"
    }
   },
   "outputs": [
    {
     "data": {
      "text/html": [
       "<html><body><h5>(178, 12)</h5></body></html>"
      ],
      "text/plain": [
       "<IPython.core.display.HTML object>"
      ]
     },
     "metadata": {},
     "output_type": "display_data"
    }
   ],
   "source": [
    "x̂ = AE.reduce_dimension(data, output_type='wData')\n",
    "wuml.jupyter_print(x̂.shape)"
   ]
  },
  {
   "cell_type": "markdown",
   "metadata": {},
   "source": [
    "This is the objective network output "
   ]
  },
  {
   "cell_type": "code",
   "execution_count": 10,
   "metadata": {
    "execution": {
     "iopub.execute_input": "2023-03-02T20:33:52.127154Z",
     "iopub.status.busy": "2023-03-02T20:33:52.126913Z",
     "iopub.status.idle": "2023-03-02T20:33:52.132339Z",
     "shell.execute_reply": "2023-03-02T20:33:52.131336Z"
    }
   },
   "outputs": [],
   "source": [
    "ẙ = AE.objective_network(data)"
   ]
  },
  {
   "cell_type": "markdown",
   "metadata": {},
   "source": [
    "Here we use the bottleneck to perform SVM classification"
   ]
  },
  {
   "cell_type": "code",
   "execution_count": 11,
   "metadata": {
    "execution": {
     "iopub.execute_input": "2023-03-02T20:33:52.136489Z",
     "iopub.status.busy": "2023-03-02T20:33:52.136252Z",
     "iopub.status.idle": "2023-03-02T20:33:52.154105Z",
     "shell.execute_reply": "2023-03-02T20:33:52.153379Z"
    }
   },
   "outputs": [
    {
     "data": {
      "text/html": [
       "<div>\n",
       "<style scoped>\n",
       "    .dataframe tbody tr th:only-of-type {\n",
       "        vertical-align: middle;\n",
       "    }\n",
       "\n",
       "    .dataframe tbody tr th {\n",
       "        vertical-align: top;\n",
       "    }\n",
       "\n",
       "    .dataframe thead th {\n",
       "        text-align: right;\n",
       "    }\n",
       "</style>\n",
       "<table border=\"1\" class=\"dataframe\">\n",
       "  <thead>\n",
       "    <tr style=\"text-align: right;\">\n",
       "      <th></th>\n",
       "      <th>classifier</th>\n",
       "      <th>Train</th>\n",
       "      <th>Test</th>\n",
       "    </tr>\n",
       "  </thead>\n",
       "  <tbody>\n",
       "    <tr>\n",
       "      <th></th>\n",
       "      <td>SVM</td>\n",
       "      <td>1.0</td>\n",
       "      <td>1.0</td>\n",
       "    </tr>\n",
       "  </tbody>\n",
       "</table>\n",
       "</div>"
      ],
      "text/plain": [
       " classifier Train Test\n",
       "        SVM   1.0  1.0"
      ]
     },
     "metadata": {},
     "output_type": "display_data"
    }
   ],
   "source": [
    "cf = wuml.classification(x̂, classifier='SVM')\n",
    "wuml.jupyter_print(cf.result_summary(print_out=False))"
   ]
  },
  {
   "cell_type": "markdown",
   "metadata": {},
   "source": [
    "Here we use the objective network output to perform LogisticRegression classification"
   ]
  },
  {
   "cell_type": "code",
   "execution_count": 12,
   "metadata": {
    "execution": {
     "iopub.execute_input": "2023-03-02T20:33:52.158907Z",
     "iopub.status.busy": "2023-03-02T20:33:52.158687Z",
     "iopub.status.idle": "2023-03-02T20:33:52.191506Z",
     "shell.execute_reply": "2023-03-02T20:33:52.190777Z"
    }
   },
   "outputs": [
    {
     "data": {
      "text/html": [
       "<div>\n",
       "<style scoped>\n",
       "    .dataframe tbody tr th:only-of-type {\n",
       "        vertical-align: middle;\n",
       "    }\n",
       "\n",
       "    .dataframe tbody tr th {\n",
       "        vertical-align: top;\n",
       "    }\n",
       "\n",
       "    .dataframe thead th {\n",
       "        text-align: right;\n",
       "    }\n",
       "</style>\n",
       "<table border=\"1\" class=\"dataframe\">\n",
       "  <thead>\n",
       "    <tr style=\"text-align: right;\">\n",
       "      <th></th>\n",
       "      <th>classifier</th>\n",
       "      <th>Train</th>\n",
       "      <th>Test</th>\n",
       "    </tr>\n",
       "  </thead>\n",
       "  <tbody>\n",
       "    <tr>\n",
       "      <th></th>\n",
       "      <td>LogisticRegression</td>\n",
       "      <td>1.0</td>\n",
       "      <td>1.0</td>\n",
       "    </tr>\n",
       "  </tbody>\n",
       "</table>\n",
       "</div>"
      ],
      "text/plain": [
       "          classifier Train Test\n",
       "  LogisticRegression   1.0  1.0"
      ]
     },
     "metadata": {},
     "output_type": "display_data"
    }
   ],
   "source": [
    "cf = wuml.classification(ẙ, classifier='LogisticRegression')\n",
    "wuml.jupyter_print(cf.result_summary(print_out=False))"
   ]
  }
 ],
 "metadata": {
  "kernelspec": {
   "display_name": "Python 3",
   "language": "python",
   "name": "python3"
  },
  "language_info": {
   "codemirror_mode": {
    "name": "ipython",
    "version": 3
   },
   "file_extension": ".py",
   "mimetype": "text/x-python",
   "name": "python",
   "nbconvert_exporter": "python",
   "pygments_lexer": "ipython3",
   "version": "3.8.10"
  }
 },
 "nbformat": 4,
 "nbformat_minor": 2
}
