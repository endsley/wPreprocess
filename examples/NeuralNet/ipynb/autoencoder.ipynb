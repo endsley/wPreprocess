{
 "cells": [
  {
   "cell_type": "code",
   "execution_count": 1,
   "metadata": {
    "execution": {
     "iopub.execute_input": "2023-02-25T21:20:05.105795Z",
     "iopub.status.busy": "2023-02-25T21:20:05.105353Z",
     "iopub.status.idle": "2023-02-25T21:20:05.111051Z",
     "shell.execute_reply": "2023-02-25T21:20:05.109837Z"
    }
   },
   "outputs": [],
   "source": [
    "#!/usr/bin/env python"
   ]
  },
  {
   "cell_type": "code",
   "execution_count": 2,
   "metadata": {
    "execution": {
     "iopub.execute_input": "2023-02-25T21:20:05.114587Z",
     "iopub.status.busy": "2023-02-25T21:20:05.114317Z",
     "iopub.status.idle": "2023-02-25T21:20:05.119761Z",
     "shell.execute_reply": "2023-02-25T21:20:05.118547Z"
    }
   },
   "outputs": [],
   "source": [
    "import os\n",
    "import sys\n",
    "if os.path.exists('/home/chieh/code/wPlotLib'):\n",
    "\tsys.path.insert(0,'/home/chieh/code/wPlotLib')\n",
    "if os.path.exists('/home/chieh/code/wuML'):\n",
    "\tsys.path.insert(0,'/home/chieh/code/wuML')"
   ]
  },
  {
   "cell_type": "code",
   "execution_count": 3,
   "metadata": {
    "execution": {
     "iopub.execute_input": "2023-02-25T21:20:05.122907Z",
     "iopub.status.busy": "2023-02-25T21:20:05.122694Z",
     "iopub.status.idle": "2023-02-25T21:20:06.812664Z",
     "shell.execute_reply": "2023-02-25T21:20:06.811500Z"
    }
   },
   "outputs": [],
   "source": [
    "import wuml\n",
    "import numpy as np\n",
    "import torch\n",
    "import torch\n",
    "import torch.nn as nn"
   ]
  },
  {
   "cell_type": "code",
   "execution_count": 4,
   "metadata": {
    "execution": {
     "iopub.execute_input": "2023-02-25T21:20:06.816184Z",
     "iopub.status.busy": "2023-02-25T21:20:06.815999Z",
     "iopub.status.idle": "2023-02-25T21:20:06.820544Z",
     "shell.execute_reply": "2023-02-25T21:20:06.819803Z"
    }
   },
   "outputs": [],
   "source": [
    "def costFunction(x, x̂, ẙ, y, ŷ, ind):\t\n",
    "#\tx -> encoder -> x̂\n",
    "#\tx̂ -> encoder_linear_output -> ẙ\t\n",
    "#\tx̂ -> decoder -> ŷ\t\n",
    "#\tpossible autoencoder objective λ could be 0\n",
    "#\tloss = (x - ŷ)ᒾ + λ * objective(ẙ, y)\n",
    "#\n",
    "#\tThis function can return 1 value or 3 values in a list\n",
    "#\tif return 1 value, just the loss\n",
    "#\tif return 3 values, [total_loss, reconstruction_loss, extra network from ẙ loss]\n",
    "#\n",
    "#\tIn this example, we perform both reconstruction and CE loss\n",
    "#\n",
    "\tCE_loss = nn.CrossEntropyLoss() #weird pytorch, dim of y is 1, and ŷ is 20x3\n",
    "\tR = torch.sum((x - ŷ) ** 2)/(128*13)\t#scaled by batch size times data dimension\n",
    "\tCE = CE_loss(ẙ, y)\n",
    "\tloss = R + CE\n",
    "\treturn [loss, R, CE]"
   ]
  },
  {
   "cell_type": "code",
   "execution_count": 5,
   "metadata": {
    "execution": {
     "iopub.execute_input": "2023-02-25T21:20:06.824716Z",
     "iopub.status.busy": "2023-02-25T21:20:06.824495Z",
     "iopub.status.idle": "2023-02-25T21:20:06.828115Z",
     "shell.execute_reply": "2023-02-25T21:20:06.827393Z"
    }
   },
   "outputs": [],
   "source": [
    "def costFunction2(x, x̂, ẙ, y, ŷ, ind):\t\n",
    "#\tExample of just return 1 value, this is just a regular autoencoder\n",
    "\treturn torch.sum((x - ŷ) ** 2)"
   ]
  },
  {
   "cell_type": "code",
   "execution_count": 6,
   "metadata": {
    "execution": {
     "iopub.execute_input": "2023-02-25T21:20:06.832288Z",
     "iopub.status.busy": "2023-02-25T21:20:06.832038Z",
     "iopub.status.idle": "2023-02-25T21:20:06.853289Z",
     "shell.execute_reply": "2023-02-25T21:20:06.852551Z"
    }
   },
   "outputs": [],
   "source": [
    "data = wuml.wData(xpath='../../data/wine.csv', ypath='../../data/wine_label.csv', \n",
    "\t\t\t\t\tpreprocess_data='center and scale', batch_size=128, label_type='discrete')"
   ]
  },
  {
   "cell_type": "code",
   "execution_count": 7,
   "metadata": {
    "execution": {
     "iopub.execute_input": "2023-02-25T21:20:06.857687Z",
     "iopub.status.busy": "2023-02-25T21:20:06.857470Z",
     "iopub.status.idle": "2023-02-25T21:23:57.822291Z",
     "shell.execute_reply": "2023-02-25T21:23:57.821506Z"
    }
   },
   "outputs": [
    {
     "name": "stdout",
     "output_type": "stream",
     "text": [
      "\tepoch: 2000, Total Loss/dimension: 0.0122, Reconstruct loss: 0.0120, Objective loss: 0.0002, Learning Rate: 0.00012500"
     ]
    }
   ],
   "source": [
    "AE = wuml.autoencoder(12, data, default_depth=2, costFunction=costFunction, # costFunction and costFunction2 both works\n",
    "\t\t\t\t\t\tmax_epoch=2000, encoder_output_weight_structure=[(3,'none')] ) \n",
    "AE.fit()\n",
    "wuml.save_torch_network(AE, './autoencoder.pk')"
   ]
  },
  {
   "cell_type": "markdown",
   "metadata": {},
   "source": [
    "Notice that the reconstruction did a reasonable job"
   ]
  },
  {
   "cell_type": "code",
   "execution_count": 8,
   "metadata": {
    "execution": {
     "iopub.execute_input": "2023-02-25T21:23:57.827449Z",
     "iopub.status.busy": "2023-02-25T21:23:57.827220Z",
     "iopub.status.idle": "2023-02-25T21:23:57.849790Z",
     "shell.execute_reply": "2023-02-25T21:23:57.848673Z"
    }
   },
   "outputs": [
    {
     "name": "stdout",
     "output_type": "stream",
     "text": [
      "[[ 1.3351 -0.4773  0.1916 -1.2497  1.84    0.8116  1.3817 -0.7238  1.223   0.1912]\n",
      " [ 0.2669 -0.531  -0.7638 -2.5457 -0.0008  0.604   0.6597 -0.8665 -0.4839 -0.3152]\n",
      " [ 0.4477  0.0875  0.9136 -0.1047  0.2687  0.7826  1.495  -0.3168  1.875   0.3804]\n",
      " [ 1.5818 -0.3229  0.4955 -0.8551  0.8829  2.4934  1.5586 -1.0254  1.06    1.1503]\n",
      " [ 0.2012  0.2561  1.8079  0.4646  1.2516  0.7823  0.7335  0.2286  0.3999 -0.3337]]\n"
     ]
    },
    {
     "data": {
      "text/html": [
       "<div>\n",
       "<style scoped>\n",
       "    .dataframe tbody tr th:only-of-type {\n",
       "        vertical-align: middle;\n",
       "    }\n",
       "\n",
       "    .dataframe tbody tr th {\n",
       "        vertical-align: top;\n",
       "    }\n",
       "\n",
       "    .dataframe thead th {\n",
       "        text-align: right;\n",
       "    }\n",
       "</style>\n",
       "<table border=\"1\" class=\"dataframe\">\n",
       "  <thead>\n",
       "    <tr style=\"text-align: right;\">\n",
       "      <th></th>\n",
       "      <th>0</th>\n",
       "      <th>1</th>\n",
       "      <th>2</th>\n",
       "      <th>3</th>\n",
       "      <th>4</th>\n",
       "      <th>5</th>\n",
       "      <th>6</th>\n",
       "      <th>7</th>\n",
       "      <th>8</th>\n",
       "      <th>9</th>\n",
       "    </tr>\n",
       "  </thead>\n",
       "  <tbody>\n",
       "    <tr>\n",
       "      <th>0</th>\n",
       "      <td>1.518613</td>\n",
       "      <td>-0.562250</td>\n",
       "      <td>0.232053</td>\n",
       "      <td>-1.169593</td>\n",
       "      <td>1.913905</td>\n",
       "      <td>0.808997</td>\n",
       "      <td>1.034819</td>\n",
       "      <td>-0.659563</td>\n",
       "      <td>1.224884</td>\n",
       "      <td>0.251717</td>\n",
       "    </tr>\n",
       "    <tr>\n",
       "      <th>1</th>\n",
       "      <td>0.246290</td>\n",
       "      <td>-0.499413</td>\n",
       "      <td>-0.827996</td>\n",
       "      <td>-2.490847</td>\n",
       "      <td>0.018145</td>\n",
       "      <td>0.568648</td>\n",
       "      <td>0.733629</td>\n",
       "      <td>-0.820719</td>\n",
       "      <td>-0.544721</td>\n",
       "      <td>-0.293321</td>\n",
       "    </tr>\n",
       "    <tr>\n",
       "      <th>2</th>\n",
       "      <td>0.196879</td>\n",
       "      <td>0.021231</td>\n",
       "      <td>1.109334</td>\n",
       "      <td>-0.268738</td>\n",
       "      <td>0.088358</td>\n",
       "      <td>0.808997</td>\n",
       "      <td>1.215533</td>\n",
       "      <td>-0.498407</td>\n",
       "      <td>2.135968</td>\n",
       "      <td>0.269020</td>\n",
       "    </tr>\n",
       "    <tr>\n",
       "      <th>3</th>\n",
       "      <td>1.691550</td>\n",
       "      <td>-0.346811</td>\n",
       "      <td>0.487926</td>\n",
       "      <td>-0.809251</td>\n",
       "      <td>0.930918</td>\n",
       "      <td>2.491446</td>\n",
       "      <td>1.466525</td>\n",
       "      <td>-0.981875</td>\n",
       "      <td>1.032155</td>\n",
       "      <td>1.186068</td>\n",
       "    </tr>\n",
       "    <tr>\n",
       "      <th>4</th>\n",
       "      <td>0.295700</td>\n",
       "      <td>0.227694</td>\n",
       "      <td>1.840403</td>\n",
       "      <td>0.451946</td>\n",
       "      <td>1.281985</td>\n",
       "      <td>0.808997</td>\n",
       "      <td>0.663351</td>\n",
       "      <td>0.226796</td>\n",
       "      <td>0.401404</td>\n",
       "      <td>-0.319276</td>\n",
       "    </tr>\n",
       "  </tbody>\n",
       "</table>\n",
       "</div>"
      ],
      "text/plain": [
       "          0         1         2         3         4         5         6  \\\n",
       "0  1.518613 -0.562250  0.232053 -1.169593  1.913905  0.808997  1.034819   \n",
       "1  0.246290 -0.499413 -0.827996 -2.490847  0.018145  0.568648  0.733629   \n",
       "2  0.196879  0.021231  1.109334 -0.268738  0.088358  0.808997  1.215533   \n",
       "3  1.691550 -0.346811  0.487926 -0.809251  0.930918  2.491446  1.466525   \n",
       "4  0.295700  0.227694  1.840403  0.451946  1.281985  0.808997  0.663351   \n",
       "\n",
       "          7         8         9  \n",
       "0 -0.659563  1.224884  0.251717  \n",
       "1 -0.820719 -0.544721 -0.293321  \n",
       "2 -0.498407  2.135968  0.269020  \n",
       "3 -0.981875  1.032155  1.186068  \n",
       "4  0.226796  0.401404 -0.319276  "
      ]
     },
     "metadata": {},
     "output_type": "display_data"
    }
   ],
   "source": [
    "ŷ = AE(data)\n",
    "wuml.jupyter_print(ŷ[0:5,0:10])\n",
    "wuml.jupyter_print(data.X[0:5,0:10])"
   ]
  },
  {
   "cell_type": "markdown",
   "metadata": {},
   "source": [
    "This is the bottleneck output which is d=12"
   ]
  },
  {
   "cell_type": "code",
   "execution_count": 9,
   "metadata": {
    "execution": {
     "iopub.execute_input": "2023-02-25T21:23:57.855753Z",
     "iopub.status.busy": "2023-02-25T21:23:57.855353Z",
     "iopub.status.idle": "2023-02-25T21:23:57.864438Z",
     "shell.execute_reply": "2023-02-25T21:23:57.863688Z"
    }
   },
   "outputs": [
    {
     "data": {
      "text/html": [
       "<html><body><h5>(178, 12)</h5></body></html>"
      ],
      "text/plain": [
       "<IPython.core.display.HTML object>"
      ]
     },
     "metadata": {},
     "output_type": "display_data"
    }
   ],
   "source": [
    "x̂ = AE.reduce_dimension(data, output_type='wData')\n",
    "wuml.jupyter_print(x̂.shape)"
   ]
  },
  {
   "cell_type": "markdown",
   "metadata": {},
   "source": [
    "This is the objective network output "
   ]
  },
  {
   "cell_type": "code",
   "execution_count": 10,
   "metadata": {
    "execution": {
     "iopub.execute_input": "2023-02-25T21:23:57.868496Z",
     "iopub.status.busy": "2023-02-25T21:23:57.868231Z",
     "iopub.status.idle": "2023-02-25T21:23:57.873678Z",
     "shell.execute_reply": "2023-02-25T21:23:57.872909Z"
    }
   },
   "outputs": [],
   "source": [
    "ẙ = AE.objective_network(data)"
   ]
  },
  {
   "cell_type": "markdown",
   "metadata": {},
   "source": [
    "Here we use the bottleneck to perform SVM classification"
   ]
  },
  {
   "cell_type": "code",
   "execution_count": 11,
   "metadata": {
    "execution": {
     "iopub.execute_input": "2023-02-25T21:23:57.877371Z",
     "iopub.status.busy": "2023-02-25T21:23:57.877133Z",
     "iopub.status.idle": "2023-02-25T21:23:57.892797Z",
     "shell.execute_reply": "2023-02-25T21:23:57.891968Z"
    }
   },
   "outputs": [
    {
     "data": {
      "text/html": [
       "<div>\n",
       "<style scoped>\n",
       "    .dataframe tbody tr th:only-of-type {\n",
       "        vertical-align: middle;\n",
       "    }\n",
       "\n",
       "    .dataframe tbody tr th {\n",
       "        vertical-align: top;\n",
       "    }\n",
       "\n",
       "    .dataframe thead th {\n",
       "        text-align: right;\n",
       "    }\n",
       "</style>\n",
       "<table border=\"1\" class=\"dataframe\">\n",
       "  <thead>\n",
       "    <tr style=\"text-align: right;\">\n",
       "      <th></th>\n",
       "      <th>classifier</th>\n",
       "      <th>Train</th>\n",
       "      <th>Test</th>\n",
       "    </tr>\n",
       "  </thead>\n",
       "  <tbody>\n",
       "    <tr>\n",
       "      <th></th>\n",
       "      <td>SVM</td>\n",
       "      <td>0.994</td>\n",
       "      <td>1.0</td>\n",
       "    </tr>\n",
       "  </tbody>\n",
       "</table>\n",
       "</div>"
      ],
      "text/plain": [
       " classifier  Train Test\n",
       "        SVM  0.994  1.0"
      ]
     },
     "metadata": {},
     "output_type": "display_data"
    }
   ],
   "source": [
    "cf = wuml.classification(x̂, classifier='SVM')\n",
    "wuml.jupyter_print(cf.result_summary(print_out=False))"
   ]
  },
  {
   "cell_type": "markdown",
   "metadata": {},
   "source": [
    "Here we use the objective network output to perform LogisticRegression classification"
   ]
  },
  {
   "cell_type": "code",
   "execution_count": 12,
   "metadata": {
    "execution": {
     "iopub.execute_input": "2023-02-25T21:23:57.929533Z",
     "iopub.status.busy": "2023-02-25T21:23:57.929184Z",
     "iopub.status.idle": "2023-02-25T21:23:57.966781Z",
     "shell.execute_reply": "2023-02-25T21:23:57.965760Z"
    }
   },
   "outputs": [
    {
     "data": {
      "text/html": [
       "<div>\n",
       "<style scoped>\n",
       "    .dataframe tbody tr th:only-of-type {\n",
       "        vertical-align: middle;\n",
       "    }\n",
       "\n",
       "    .dataframe tbody tr th {\n",
       "        vertical-align: top;\n",
       "    }\n",
       "\n",
       "    .dataframe thead th {\n",
       "        text-align: right;\n",
       "    }\n",
       "</style>\n",
       "<table border=\"1\" class=\"dataframe\">\n",
       "  <thead>\n",
       "    <tr style=\"text-align: right;\">\n",
       "      <th></th>\n",
       "      <th>classifier</th>\n",
       "      <th>Train</th>\n",
       "      <th>Test</th>\n",
       "    </tr>\n",
       "  </thead>\n",
       "  <tbody>\n",
       "    <tr>\n",
       "      <th></th>\n",
       "      <td>LogisticRegression</td>\n",
       "      <td>1.0</td>\n",
       "      <td>1.0</td>\n",
       "    </tr>\n",
       "  </tbody>\n",
       "</table>\n",
       "</div>"
      ],
      "text/plain": [
       "          classifier Train Test\n",
       "  LogisticRegression   1.0  1.0"
      ]
     },
     "metadata": {},
     "output_type": "display_data"
    }
   ],
   "source": [
    "cf = wuml.classification(ẙ, classifier='LogisticRegression')\n",
    "wuml.jupyter_print(cf.result_summary(print_out=False))"
   ]
  }
 ],
 "metadata": {
  "kernelspec": {
   "display_name": "Python 3",
   "language": "python",
   "name": "python3"
  },
  "language_info": {
   "codemirror_mode": {
    "name": "ipython",
    "version": 3
   },
   "file_extension": ".py",
   "mimetype": "text/x-python",
   "name": "python",
   "nbconvert_exporter": "python",
   "pygments_lexer": "ipython3",
   "version": "3.8.10"
  }
 },
 "nbformat": 4,
 "nbformat_minor": 2
}
