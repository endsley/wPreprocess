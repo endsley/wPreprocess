{
 "cells": [
  {
   "cell_type": "code",
   "execution_count": 1,
   "metadata": {
    "execution": {
     "iopub.execute_input": "2023-04-18T20:29:56.509761Z",
     "iopub.status.busy": "2023-04-18T20:29:56.509281Z",
     "iopub.status.idle": "2023-04-18T20:29:56.515519Z",
     "shell.execute_reply": "2023-04-18T20:29:56.514194Z"
    }
   },
   "outputs": [],
   "source": [
    "#!/usr/bin/env python"
   ]
  },
  {
   "cell_type": "code",
   "execution_count": 2,
   "metadata": {
    "execution": {
     "iopub.execute_input": "2023-04-18T20:29:56.519925Z",
     "iopub.status.busy": "2023-04-18T20:29:56.519533Z",
     "iopub.status.idle": "2023-04-18T20:29:56.525921Z",
     "shell.execute_reply": "2023-04-18T20:29:56.525015Z"
    }
   },
   "outputs": [],
   "source": [
    "import os\n",
    "import sys\n",
    "if os.path.exists('/home/chieh/code/wPlotLib'):\n",
    "\tsys.path.insert(0,'/home/chieh/code/wPlotLib')\n",
    "if os.path.exists('/home/chieh/code/wuML'):\n",
    "\tsys.path.insert(0,'/home/chieh/code/wuML')"
   ]
  },
  {
   "cell_type": "code",
   "execution_count": 3,
   "metadata": {
    "execution": {
     "iopub.execute_input": "2023-04-18T20:29:56.530128Z",
     "iopub.status.busy": "2023-04-18T20:29:56.529730Z",
     "iopub.status.idle": "2023-04-18T20:29:58.177504Z",
     "shell.execute_reply": "2023-04-18T20:29:58.176697Z"
    }
   },
   "outputs": [],
   "source": [
    "import wuml\n",
    "import numpy as np\n",
    "import torch\n",
    "import torch\n",
    "import torch.nn as nn"
   ]
  },
  {
   "cell_type": "code",
   "execution_count": 4,
   "metadata": {
    "execution": {
     "iopub.execute_input": "2023-04-18T20:29:58.182339Z",
     "iopub.status.busy": "2023-04-18T20:29:58.182169Z",
     "iopub.status.idle": "2023-04-18T20:29:58.186284Z",
     "shell.execute_reply": "2023-04-18T20:29:58.185453Z"
    }
   },
   "outputs": [],
   "source": [
    "def costFunction(x, x̂, ẙ, y, ŷ, ind):\t\n",
    "#\tx -> encoder -> x̂\n",
    "#\tx̂ -> encoder_linear_output -> ẙ\t\n",
    "#\tx̂ -> decoder -> ŷ\t\n",
    "#\tpossible autoencoder objective λ could be 0\n",
    "#\tloss = (x - ŷ)ᒾ + λ * objective(ẙ, y)\n",
    "#\n",
    "#\tThis function can return 1 value or 3 values in a list\n",
    "#\tif return 1 value, just the loss\n",
    "#\tif return 3 values, [total_loss, reconstruction_loss, extra network from ẙ loss]\n",
    "#\n",
    "#\tIn this example, we perform both reconstruction and CE loss\n",
    "#\n",
    "\tCE_loss = nn.CrossEntropyLoss() #weird pytorch, dim of y is 1, and ŷ is 20x3\n",
    "\tR = torch.sum((x - ŷ) ** 2)/(128*13)\t#scaled by batch size times data dimension\n",
    "\tCE = CE_loss(ẙ, y)\n",
    "\tloss = R + CE\n",
    "\treturn [loss, R, CE]"
   ]
  },
  {
   "cell_type": "code",
   "execution_count": 5,
   "metadata": {
    "execution": {
     "iopub.execute_input": "2023-04-18T20:29:58.190052Z",
     "iopub.status.busy": "2023-04-18T20:29:58.189867Z",
     "iopub.status.idle": "2023-04-18T20:29:58.193397Z",
     "shell.execute_reply": "2023-04-18T20:29:58.192564Z"
    }
   },
   "outputs": [],
   "source": [
    "def costFunction2(x, x̂, ẙ, y, ŷ, ind):\t\n",
    "#\tExample of just return 1 value, this is just a regular autoencoder\n",
    "\treturn torch.sum((x - ŷ) ** 2)"
   ]
  },
  {
   "cell_type": "code",
   "execution_count": 6,
   "metadata": {
    "execution": {
     "iopub.execute_input": "2023-04-18T20:29:58.197186Z",
     "iopub.status.busy": "2023-04-18T20:29:58.196951Z",
     "iopub.status.idle": "2023-04-18T20:29:58.224782Z",
     "shell.execute_reply": "2023-04-18T20:29:58.223889Z"
    }
   },
   "outputs": [],
   "source": [
    "data = wuml.wData(xpath='../../data/wine.csv', ypath='../../data/wine_label.csv', \n",
    "\t\t\t\t\tpreprocess_data='center and scale', batch_size=128, label_type='discrete')"
   ]
  },
  {
   "cell_type": "code",
   "execution_count": 7,
   "metadata": {
    "execution": {
     "iopub.execute_input": "2023-04-18T20:29:58.227973Z",
     "iopub.status.busy": "2023-04-18T20:29:58.227818Z",
     "iopub.status.idle": "2023-04-18T20:33:22.309387Z",
     "shell.execute_reply": "2023-04-18T20:33:22.308165Z"
    }
   },
   "outputs": [
    {
     "name": "stdout",
     "output_type": "stream",
     "text": [
      "\tepoch: 2000, Total Loss/dimension: 0.0148, Reconstruct loss: 0.0145, Objective loss: 0.0002, Learning Rate: 0.00012500"
     ]
    }
   ],
   "source": [
    "AE = wuml.autoencoder(12, data, default_depth=2, costFunction=costFunction, # costFunction and costFunction2 both works\n",
    "\t\t\t\t\t\tmax_epoch=2000, encoder_output_weight_structure=[(3,'none')] ) \n",
    "AE.fit()\n",
    "wuml.save_torch_network(AE, './autoencoder.pk')"
   ]
  },
  {
   "cell_type": "markdown",
   "metadata": {},
   "source": [
    "Notice that the reconstruction did a reasonable job"
   ]
  },
  {
   "cell_type": "code",
   "execution_count": 8,
   "metadata": {
    "execution": {
     "iopub.execute_input": "2023-04-18T20:33:22.314603Z",
     "iopub.status.busy": "2023-04-18T20:33:22.314325Z",
     "iopub.status.idle": "2023-04-18T20:33:22.344271Z",
     "shell.execute_reply": "2023-04-18T20:33:22.343510Z"
    }
   },
   "outputs": [
    {
     "name": "stdout",
     "output_type": "stream",
     "text": [
      "[[ 1.5223 -0.5796  0.3025 -1.2149  1.9172  0.8452  1.1236 -0.6894  1.2094  0.1791]\n",
      " [ 0.2461 -0.5118 -0.8183 -2.475  -0.0005  0.6424  0.5768 -0.841  -0.4962 -0.3521]\n",
      " [ 0.2226 -0.0273  1.0132 -0.2279  0.1785  1.0491  1.2664 -0.3817  1.9472  0.358 ]\n",
      " [ 1.5981 -0.2328  0.5082 -0.8593  0.8719  1.8772  1.8637 -1.038   1.1726  1.2296]\n",
      " [ 0.2316  0.2322  1.7682  0.5063  1.2899  0.7305  0.7314  0.2665  0.3914 -0.3258]]\n"
     ]
    },
    {
     "data": {
      "text/html": [
       "<div>\n",
       "<style scoped>\n",
       "    .dataframe tbody tr th:only-of-type {\n",
       "        vertical-align: middle;\n",
       "    }\n",
       "\n",
       "    .dataframe tbody tr th {\n",
       "        vertical-align: top;\n",
       "    }\n",
       "\n",
       "    .dataframe thead th {\n",
       "        text-align: right;\n",
       "    }\n",
       "</style>\n",
       "<table border=\"1\" class=\"dataframe\">\n",
       "  <thead>\n",
       "    <tr style=\"text-align: right;\">\n",
       "      <th></th>\n",
       "      <th>0</th>\n",
       "      <th>1</th>\n",
       "      <th>2</th>\n",
       "      <th>3</th>\n",
       "      <th>4</th>\n",
       "      <th>5</th>\n",
       "      <th>6</th>\n",
       "      <th>7</th>\n",
       "      <th>8</th>\n",
       "      <th>9</th>\n",
       "    </tr>\n",
       "  </thead>\n",
       "  <tbody>\n",
       "    <tr>\n",
       "      <th>0</th>\n",
       "      <td>1.518613</td>\n",
       "      <td>-0.562250</td>\n",
       "      <td>0.232053</td>\n",
       "      <td>-1.169593</td>\n",
       "      <td>1.913905</td>\n",
       "      <td>0.808997</td>\n",
       "      <td>1.034819</td>\n",
       "      <td>-0.659563</td>\n",
       "      <td>1.224884</td>\n",
       "      <td>0.251717</td>\n",
       "    </tr>\n",
       "    <tr>\n",
       "      <th>1</th>\n",
       "      <td>0.246290</td>\n",
       "      <td>-0.499413</td>\n",
       "      <td>-0.827996</td>\n",
       "      <td>-2.490847</td>\n",
       "      <td>0.018145</td>\n",
       "      <td>0.568648</td>\n",
       "      <td>0.733629</td>\n",
       "      <td>-0.820719</td>\n",
       "      <td>-0.544721</td>\n",
       "      <td>-0.293321</td>\n",
       "    </tr>\n",
       "    <tr>\n",
       "      <th>2</th>\n",
       "      <td>0.196879</td>\n",
       "      <td>0.021231</td>\n",
       "      <td>1.109334</td>\n",
       "      <td>-0.268738</td>\n",
       "      <td>0.088358</td>\n",
       "      <td>0.808997</td>\n",
       "      <td>1.215533</td>\n",
       "      <td>-0.498407</td>\n",
       "      <td>2.135968</td>\n",
       "      <td>0.269020</td>\n",
       "    </tr>\n",
       "    <tr>\n",
       "      <th>3</th>\n",
       "      <td>1.691550</td>\n",
       "      <td>-0.346811</td>\n",
       "      <td>0.487926</td>\n",
       "      <td>-0.809251</td>\n",
       "      <td>0.930918</td>\n",
       "      <td>2.491446</td>\n",
       "      <td>1.466525</td>\n",
       "      <td>-0.981875</td>\n",
       "      <td>1.032155</td>\n",
       "      <td>1.186068</td>\n",
       "    </tr>\n",
       "    <tr>\n",
       "      <th>4</th>\n",
       "      <td>0.295700</td>\n",
       "      <td>0.227694</td>\n",
       "      <td>1.840403</td>\n",
       "      <td>0.451946</td>\n",
       "      <td>1.281985</td>\n",
       "      <td>0.808997</td>\n",
       "      <td>0.663351</td>\n",
       "      <td>0.226796</td>\n",
       "      <td>0.401404</td>\n",
       "      <td>-0.319276</td>\n",
       "    </tr>\n",
       "  </tbody>\n",
       "</table>\n",
       "</div>"
      ],
      "text/plain": [
       "          0         1         2         3         4         5         6  \\\n",
       "0  1.518613 -0.562250  0.232053 -1.169593  1.913905  0.808997  1.034819   \n",
       "1  0.246290 -0.499413 -0.827996 -2.490847  0.018145  0.568648  0.733629   \n",
       "2  0.196879  0.021231  1.109334 -0.268738  0.088358  0.808997  1.215533   \n",
       "3  1.691550 -0.346811  0.487926 -0.809251  0.930918  2.491446  1.466525   \n",
       "4  0.295700  0.227694  1.840403  0.451946  1.281985  0.808997  0.663351   \n",
       "\n",
       "          7         8         9  \n",
       "0 -0.659563  1.224884  0.251717  \n",
       "1 -0.820719 -0.544721 -0.293321  \n",
       "2 -0.498407  2.135968  0.269020  \n",
       "3 -0.981875  1.032155  1.186068  \n",
       "4  0.226796  0.401404 -0.319276  "
      ]
     },
     "metadata": {},
     "output_type": "display_data"
    }
   ],
   "source": [
    "ŷ = AE(data)\n",
    "wuml.jupyter_print(ŷ[0:5,0:10])\n",
    "wuml.jupyter_print(data.X[0:5,0:10])"
   ]
  },
  {
   "cell_type": "markdown",
   "metadata": {},
   "source": [
    "This is the bottleneck output which is d=12"
   ]
  },
  {
   "cell_type": "code",
   "execution_count": 9,
   "metadata": {
    "execution": {
     "iopub.execute_input": "2023-04-18T20:33:22.348520Z",
     "iopub.status.busy": "2023-04-18T20:33:22.348298Z",
     "iopub.status.idle": "2023-04-18T20:33:22.355244Z",
     "shell.execute_reply": "2023-04-18T20:33:22.354358Z"
    }
   },
   "outputs": [
    {
     "data": {
      "text/html": [
       "<html><body><h5>(178, 12)</h5></body></html>"
      ],
      "text/plain": [
       "<IPython.core.display.HTML object>"
      ]
     },
     "metadata": {},
     "output_type": "display_data"
    }
   ],
   "source": [
    "x̂ = AE.reduce_dimension(data, output_type='wData')\n",
    "wuml.jupyter_print(x̂.shape)"
   ]
  },
  {
   "cell_type": "markdown",
   "metadata": {},
   "source": [
    "This is the objective network output "
   ]
  },
  {
   "cell_type": "code",
   "execution_count": 10,
   "metadata": {
    "execution": {
     "iopub.execute_input": "2023-04-18T20:33:22.358798Z",
     "iopub.status.busy": "2023-04-18T20:33:22.358560Z",
     "iopub.status.idle": "2023-04-18T20:33:22.364061Z",
     "shell.execute_reply": "2023-04-18T20:33:22.362958Z"
    }
   },
   "outputs": [],
   "source": [
    "ẙ = AE.objective_network(data)"
   ]
  },
  {
   "cell_type": "markdown",
   "metadata": {},
   "source": [
    "Here we use the bottleneck to perform SVM classification"
   ]
  },
  {
   "cell_type": "code",
   "execution_count": 11,
   "metadata": {
    "execution": {
     "iopub.execute_input": "2023-04-18T20:33:22.367714Z",
     "iopub.status.busy": "2023-04-18T20:33:22.367465Z",
     "iopub.status.idle": "2023-04-18T20:33:22.441153Z",
     "shell.execute_reply": "2023-04-18T20:33:22.440215Z"
    }
   },
   "outputs": [
    {
     "data": {
      "text/html": [
       "<style type=\"text/css\">\n",
       "#T_116e6 th {\n",
       "  text-align: center;\n",
       "}\n",
       "#T_116e6 td {\n",
       "  text-align: center;\n",
       "}\n",
       "</style>\n",
       "<table id=\"T_116e6\">\n",
       "  <thead>\n",
       "    <tr>\n",
       "      <th class=\"blank level0\" >&nbsp;</th>\n",
       "      <th id=\"T_116e6_level0_col0\" class=\"col_heading level0 col0\" >classifier</th>\n",
       "      <th id=\"T_116e6_level0_col1\" class=\"col_heading level0 col1\" >Train</th>\n",
       "      <th id=\"T_116e6_level0_col2\" class=\"col_heading level0 col2\" >Test</th>\n",
       "    </tr>\n",
       "  </thead>\n",
       "  <tbody>\n",
       "    <tr>\n",
       "      <th id=\"T_116e6_level0_row0\" class=\"row_heading level0 row0\" ></th>\n",
       "      <td id=\"T_116e6_row0_col0\" class=\"data row0 col0\" >SVM</td>\n",
       "      <td id=\"T_116e6_row0_col1\" class=\"data row0 col1\" >1.0</td>\n",
       "      <td id=\"T_116e6_row0_col2\" class=\"data row0 col2\" >1.0</td>\n",
       "    </tr>\n",
       "  </tbody>\n",
       "</table>\n"
      ],
      "text/plain": [
       "<pandas.io.formats.style.Styler at 0x7f55a58a40a0>"
      ]
     },
     "metadata": {},
     "output_type": "display_data"
    }
   ],
   "source": [
    "cf = wuml.classification(x̂, classifier='SVM')\n",
    "wuml.jupyter_print(cf.result_summary(print_out=False))"
   ]
  },
  {
   "cell_type": "markdown",
   "metadata": {},
   "source": [
    "Here we use the objective network output to perform LogisticRegression classification"
   ]
  },
  {
   "cell_type": "code",
   "execution_count": 12,
   "metadata": {
    "execution": {
     "iopub.execute_input": "2023-04-18T20:33:22.445428Z",
     "iopub.status.busy": "2023-04-18T20:33:22.445224Z",
     "iopub.status.idle": "2023-04-18T20:33:22.474904Z",
     "shell.execute_reply": "2023-04-18T20:33:22.474183Z"
    }
   },
   "outputs": [
    {
     "data": {
      "text/html": [
       "<style type=\"text/css\">\n",
       "#T_ae035 th {\n",
       "  text-align: center;\n",
       "}\n",
       "#T_ae035 td {\n",
       "  text-align: center;\n",
       "}\n",
       "</style>\n",
       "<table id=\"T_ae035\">\n",
       "  <thead>\n",
       "    <tr>\n",
       "      <th class=\"blank level0\" >&nbsp;</th>\n",
       "      <th id=\"T_ae035_level0_col0\" class=\"col_heading level0 col0\" >classifier</th>\n",
       "      <th id=\"T_ae035_level0_col1\" class=\"col_heading level0 col1\" >Train</th>\n",
       "      <th id=\"T_ae035_level0_col2\" class=\"col_heading level0 col2\" >Test</th>\n",
       "    </tr>\n",
       "  </thead>\n",
       "  <tbody>\n",
       "    <tr>\n",
       "      <th id=\"T_ae035_level0_row0\" class=\"row_heading level0 row0\" ></th>\n",
       "      <td id=\"T_ae035_row0_col0\" class=\"data row0 col0\" >LogisticRegression</td>\n",
       "      <td id=\"T_ae035_row0_col1\" class=\"data row0 col1\" >1.0</td>\n",
       "      <td id=\"T_ae035_row0_col2\" class=\"data row0 col2\" >0.944</td>\n",
       "    </tr>\n",
       "  </tbody>\n",
       "</table>\n"
      ],
      "text/plain": [
       "<pandas.io.formats.style.Styler at 0x7f55a589c820>"
      ]
     },
     "metadata": {},
     "output_type": "display_data"
    }
   ],
   "source": [
    "cf = wuml.classification(ẙ, classifier='LogisticRegression')\n",
    "wuml.jupyter_print(cf.result_summary(print_out=False))"
   ]
  }
 ],
 "metadata": {
  "kernelspec": {
   "display_name": "Python 3",
   "language": "python",
   "name": "python3"
  },
  "language_info": {
   "codemirror_mode": {
    "name": "ipython",
    "version": 3
   },
   "file_extension": ".py",
   "mimetype": "text/x-python",
   "name": "python",
   "nbconvert_exporter": "python",
   "pygments_lexer": "ipython3",
   "version": "3.8.10"
  }
 },
 "nbformat": 4,
 "nbformat_minor": 2
}
