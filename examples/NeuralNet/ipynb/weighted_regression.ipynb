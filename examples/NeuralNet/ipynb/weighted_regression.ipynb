{
 "cells": [
  {
   "cell_type": "code",
   "execution_count": 1,
   "metadata": {
    "execution": {
     "iopub.execute_input": "2023-03-02T20:37:49.764213Z",
     "iopub.status.busy": "2023-03-02T20:37:49.763740Z",
     "iopub.status.idle": "2023-03-02T20:37:49.769965Z",
     "shell.execute_reply": "2023-03-02T20:37:49.768835Z"
    }
   },
   "outputs": [],
   "source": [
    "#!/usr/bin/env python"
   ]
  },
  {
   "cell_type": "code",
   "execution_count": 2,
   "metadata": {
    "execution": {
     "iopub.execute_input": "2023-03-02T20:37:49.774292Z",
     "iopub.status.busy": "2023-03-02T20:37:49.773856Z",
     "iopub.status.idle": "2023-03-02T20:37:49.781007Z",
     "shell.execute_reply": "2023-03-02T20:37:49.779723Z"
    }
   },
   "outputs": [],
   "source": [
    "import os\n",
    "import sys\n",
    "if os.path.exists('/home/chieh/code/wPlotLib'):\n",
    "\tsys.path.insert(0,'/home/chieh/code/wPlotLib')\n",
    "if os.path.exists('/home/chieh/code/wuML'):\n",
    "\tsys.path.insert(0,'/home/chieh/code/wuML')"
   ]
  },
  {
   "cell_type": "code",
   "execution_count": 3,
   "metadata": {
    "execution": {
     "iopub.execute_input": "2023-03-02T20:37:49.785482Z",
     "iopub.status.busy": "2023-03-02T20:37:49.785111Z",
     "iopub.status.idle": "2023-03-02T20:37:51.456145Z",
     "shell.execute_reply": "2023-03-02T20:37:51.455089Z"
    }
   },
   "outputs": [],
   "source": [
    "import wuml\n",
    "import numpy as np\n",
    "import torch\n",
    "import wplotlib\n",
    "import torch.nn as nn\n",
    "from torch.autograd import Variable"
   ]
  },
  {
   "cell_type": "markdown",
   "metadata": {},
   "source": [
    "\n",
    " Weighted Regression<br>\n",
    "\tEach sample is weighted based on its likelihood to balance the data<br>\n",
    "\t<br>\n"
   ]
  },
  {
   "cell_type": "code",
   "execution_count": 4,
   "metadata": {
    "execution": {
     "iopub.execute_input": "2023-03-02T20:37:51.461690Z",
     "iopub.status.busy": "2023-03-02T20:37:51.461484Z",
     "iopub.status.idle": "2023-03-02T20:37:51.491858Z",
     "shell.execute_reply": "2023-03-02T20:37:51.491087Z"
    }
   },
   "outputs": [],
   "source": [
    " \n",
    "data = wuml.wData(xpath='../../data/Chem_decimated_imputed.csv', batch_size=20, \n",
    "\t\t\t\t\tlabel_type='continuous', label_column_name='finalga_best', \n",
    "\t\t\t\t\tfirst_row_is_label=True, columns_to_ignore=['id'])"
   ]
  },
  {
   "cell_type": "code",
   "execution_count": 5,
   "metadata": {
    "execution": {
     "iopub.execute_input": "2023-03-02T20:37:51.496107Z",
     "iopub.status.busy": "2023-03-02T20:37:51.495946Z",
     "iopub.status.idle": "2023-03-02T20:37:51.501941Z",
     "shell.execute_reply": "2023-03-02T20:37:51.500631Z"
    }
   },
   "outputs": [],
   "source": [
    "data = wuml.center_and_scale(data)"
   ]
  },
  {
   "cell_type": "code",
   "execution_count": 6,
   "metadata": {
    "execution": {
     "iopub.execute_input": "2023-03-02T20:37:51.507114Z",
     "iopub.status.busy": "2023-03-02T20:37:51.506753Z",
     "iopub.status.idle": "2023-03-02T20:37:53.545419Z",
     "shell.execute_reply": "2023-03-02T20:37:53.544561Z"
    }
   },
   "outputs": [],
   "source": [
    "weights = wuml.wData(xpath='../../data/Chem_sample_weights.csv')\n",
    "weights = weights.get_data_as('Tensor')"
   ]
  },
  {
   "cell_type": "code",
   "execution_count": 7,
   "metadata": {
    "execution": {
     "iopub.execute_input": "2023-03-02T20:37:53.550519Z",
     "iopub.status.busy": "2023-03-02T20:37:53.550331Z",
     "iopub.status.idle": "2023-03-02T20:37:53.554969Z",
     "shell.execute_reply": "2023-03-02T20:37:53.554178Z"
    }
   },
   "outputs": [],
   "source": [
    "def costFunction(x, y, ŷ, ind):\n",
    "\trelu = nn.ReLU()\n",
    "#\n",
    "\tW = torch.squeeze(weights[ind])\n",
    "\tn = len(ind)\n",
    "\tŷ = torch.squeeze(ŷ)\n",
    "\ty = torch.squeeze(y)\n",
    "#\n",
    "\tpenalty = torch.sum(relu(W*(ŷ - y)))/n\t# This will penalize predictions higher than true labels\n",
    "\tloss = torch.sum(W*((y - ŷ)**2))/n + 0.8*penalty\n",
    "\treturn loss"
   ]
  },
  {
   "cell_type": "code",
   "execution_count": 8,
   "metadata": {
    "execution": {
     "iopub.execute_input": "2023-03-02T20:37:53.559002Z",
     "iopub.status.busy": "2023-03-02T20:37:53.558796Z",
     "iopub.status.idle": "2023-03-02T21:17:30.434359Z",
     "shell.execute_reply": "2023-03-02T21:17:30.433415Z"
    }
   },
   "outputs": [
    {
     "name": "stdout",
     "output_type": "stream",
     "text": [
      "\tepoch: 6000, Avg Loss: 0.5429, Learning Rate: 0.00000391"
     ]
    }
   ],
   "source": [
    "bNet = wuml.basicNetwork(costFunction, data, networkStructure=[(200,'relu'),(200,'relu'),(200,'relu'),(1,'none')], max_epoch=6000, learning_rate=0.001)\n",
    "bNet.train()"
   ]
  },
  {
   "cell_type": "code",
   "execution_count": 9,
   "metadata": {
    "execution": {
     "iopub.execute_input": "2023-03-02T21:17:30.438527Z",
     "iopub.status.busy": "2023-03-02T21:17:30.438274Z",
     "iopub.status.idle": "2023-03-02T21:17:30.764700Z",
     "shell.execute_reply": "2023-03-02T21:17:30.763762Z"
    }
   },
   "outputs": [
    {
     "name": "stdout",
     "output_type": "stream",
     "text": [
      "Avg error: 0.1659"
     ]
    },
    {
     "data": {
      "image/png": "[encoded data removed]",
      "text/plain": [
       "<Figure size 640x480 with 1 Axes>"
      ]
     },
     "metadata": {},
     "output_type": "display_data"
    },
    {
     "data": {
      "text/html": [
       "<div>\n",
       "<style scoped>\n",
       "    .dataframe tbody tr th:only-of-type {\n",
       "        vertical-align: middle;\n",
       "    }\n",
       "\n",
       "    .dataframe tbody tr th {\n",
       "        vertical-align: top;\n",
       "    }\n",
       "\n",
       "    .dataframe thead th {\n",
       "        text-align: right;\n",
       "    }\n",
       "</style>\n",
       "<table border=\"1\" class=\"dataframe\">\n",
       "  <thead>\n",
       "    <tr style=\"text-align: right;\">\n",
       "      <th></th>\n",
       "      <th>y</th>\n",
       "      <th>ŷ</th>\n",
       "      <th>Δy</th>\n",
       "    </tr>\n",
       "  </thead>\n",
       "  <tbody>\n",
       "    <tr>\n",
       "      <th>0</th>\n",
       "      <td>33.86</td>\n",
       "      <td>33.849998</td>\n",
       "      <td>0.010002</td>\n",
       "    </tr>\n",
       "    <tr>\n",
       "      <th>1</th>\n",
       "      <td>37.43</td>\n",
       "      <td>37.410000</td>\n",
       "      <td>0.020000</td>\n",
       "    </tr>\n",
       "    <tr>\n",
       "      <th>2</th>\n",
       "      <td>39.57</td>\n",
       "      <td>39.470001</td>\n",
       "      <td>0.099999</td>\n",
       "    </tr>\n",
       "    <tr>\n",
       "      <th>3</th>\n",
       "      <td>38.86</td>\n",
       "      <td>38.840000</td>\n",
       "      <td>0.020000</td>\n",
       "    </tr>\n",
       "    <tr>\n",
       "      <th>4</th>\n",
       "      <td>37.29</td>\n",
       "      <td>37.270000</td>\n",
       "      <td>0.020000</td>\n",
       "    </tr>\n",
       "    <tr>\n",
       "      <th>...</th>\n",
       "      <td>...</td>\n",
       "      <td>...</td>\n",
       "      <td>...</td>\n",
       "    </tr>\n",
       "    <tr>\n",
       "      <th>1117</th>\n",
       "      <td>37.14</td>\n",
       "      <td>37.849998</td>\n",
       "      <td>0.709998</td>\n",
       "    </tr>\n",
       "    <tr>\n",
       "      <th>1118</th>\n",
       "      <td>38.57</td>\n",
       "      <td>37.400002</td>\n",
       "      <td>1.169998</td>\n",
       "    </tr>\n",
       "    <tr>\n",
       "      <th>1119</th>\n",
       "      <td>38.14</td>\n",
       "      <td>37.830002</td>\n",
       "      <td>0.309998</td>\n",
       "    </tr>\n",
       "    <tr>\n",
       "      <th>1120</th>\n",
       "      <td>40.29</td>\n",
       "      <td>40.270000</td>\n",
       "      <td>0.020000</td>\n",
       "    </tr>\n",
       "    <tr>\n",
       "      <th>1121</th>\n",
       "      <td>40.29</td>\n",
       "      <td>40.270000</td>\n",
       "      <td>0.020000</td>\n",
       "    </tr>\n",
       "  </tbody>\n",
       "</table>\n",
       "<p>1122 rows × 3 columns</p>\n",
       "</div>"
      ],
      "text/plain": [
       "          y          ŷ        Δy\n",
       "0     33.86  33.849998  0.010002\n",
       "1     37.43  37.410000  0.020000\n",
       "2     39.57  39.470001  0.099999\n",
       "3     38.86  38.840000  0.020000\n",
       "4     37.29  37.270000  0.020000\n",
       "...     ...        ...       ...\n",
       "1117  37.14  37.849998  0.709998\n",
       "1118  38.57  37.400002  1.169998\n",
       "1119  38.14  37.830002  0.309998\n",
       "1120  40.29  40.270000  0.020000\n",
       "1121  40.29  40.270000  0.020000\n",
       "\n",
       "[1122 rows x 3 columns]"
      ]
     },
     "metadata": {},
     "output_type": "display_data"
    }
   ],
   "source": [
    "Ŷ = bNet(data, output_type='ndarray')\n",
    "output = wuml.output_regression_result(data.Y, Ŷ)\n",
    "wuml.jupyter_print(output)"
   ]
  }
 ],
 "metadata": {
  "kernelspec": {
   "display_name": "Python 3",
   "language": "python",
   "name": "python3"
  },
  "language_info": {
   "codemirror_mode": {
    "name": "ipython",
    "version": 3
   },
   "file_extension": ".py",
   "mimetype": "text/x-python",
   "name": "python",
   "nbconvert_exporter": "python",
   "pygments_lexer": "ipython3",
   "version": "3.8.10"
  }
 },
 "nbformat": 4,
 "nbformat_minor": 2
}
