{
 "cells": [
  {
   "cell_type": "code",
   "execution_count": 1,
   "metadata": {
    "execution": {
     "iopub.execute_input": "2023-02-24T22:10:33.065510Z",
     "iopub.status.busy": "2023-02-24T22:10:33.065093Z",
     "iopub.status.idle": "2023-02-24T22:10:33.071205Z",
     "shell.execute_reply": "2023-02-24T22:10:33.069946Z"
    }
   },
   "outputs": [],
   "source": [
    "#!/usr/bin/env python"
   ]
  },
  {
   "cell_type": "code",
   "execution_count": 2,
   "metadata": {
    "execution": {
     "iopub.execute_input": "2023-02-24T22:10:33.075952Z",
     "iopub.status.busy": "2023-02-24T22:10:33.075711Z",
     "iopub.status.idle": "2023-02-24T22:10:33.080610Z",
     "shell.execute_reply": "2023-02-24T22:10:33.079491Z"
    }
   },
   "outputs": [],
   "source": [
    "import os\n",
    "import sys\n",
    "if os.path.exists('/home/chieh/code/wPlotLib'):\n",
    "\tsys.path.insert(0,'/home/chieh/code/wPlotLib')\n",
    "if os.path.exists('/home/chieh/code/wuML'):\n",
    "\tsys.path.insert(0,'/home/chieh/code/wuML')"
   ]
  },
  {
   "cell_type": "code",
   "execution_count": 3,
   "metadata": {
    "execution": {
     "iopub.execute_input": "2023-02-24T22:10:33.084370Z",
     "iopub.status.busy": "2023-02-24T22:10:33.084132Z",
     "iopub.status.idle": "2023-02-24T22:10:34.915082Z",
     "shell.execute_reply": "2023-02-24T22:10:34.914261Z"
    }
   },
   "outputs": [],
   "source": [
    "import wuml\n",
    "import numpy as np\n",
    "import torch\n",
    "import wplotlib\n",
    "import torch.nn as nn\n",
    "from torch.autograd import Variable"
   ]
  },
  {
   "cell_type": "markdown",
   "metadata": {},
   "source": [
    "\n",
    " Weighted Regression<br>\n",
    "\tEach sample is weighted based on its likelihood to balance the data<br>\n",
    "\t<br>\n"
   ]
  },
  {
   "cell_type": "code",
   "execution_count": 4,
   "metadata": {
    "execution": {
     "iopub.execute_input": "2023-02-24T22:10:34.920129Z",
     "iopub.status.busy": "2023-02-24T22:10:34.919886Z",
     "iopub.status.idle": "2023-02-24T22:10:34.951300Z",
     "shell.execute_reply": "2023-02-24T22:10:34.950695Z"
    }
   },
   "outputs": [],
   "source": [
    " \n",
    "data = wuml.wData(xpath='../../data/Chem_decimated_imputed.csv', batch_size=20, \n",
    "\t\t\t\t\tlabel_type='continuous', label_column_name='finalga_best', \n",
    "\t\t\t\t\tfirst_row_is_label=True, columns_to_ignore=['id'])"
   ]
  },
  {
   "cell_type": "code",
   "execution_count": 5,
   "metadata": {
    "execution": {
     "iopub.execute_input": "2023-02-24T22:10:34.955065Z",
     "iopub.status.busy": "2023-02-24T22:10:34.954882Z",
     "iopub.status.idle": "2023-02-24T22:10:34.960227Z",
     "shell.execute_reply": "2023-02-24T22:10:34.959556Z"
    }
   },
   "outputs": [],
   "source": [
    "data = wuml.center_and_scale(data)"
   ]
  },
  {
   "cell_type": "code",
   "execution_count": 6,
   "metadata": {
    "execution": {
     "iopub.execute_input": "2023-02-24T22:10:34.964631Z",
     "iopub.status.busy": "2023-02-24T22:10:34.964423Z",
     "iopub.status.idle": "2023-02-24T22:10:37.233324Z",
     "shell.execute_reply": "2023-02-24T22:10:37.232543Z"
    }
   },
   "outputs": [],
   "source": [
    "weights = wuml.wData(xpath='../../data/Chem_sample_weights.csv')\n",
    "weights = weights.get_data_as('Tensor')"
   ]
  },
  {
   "cell_type": "code",
   "execution_count": 7,
   "metadata": {
    "execution": {
     "iopub.execute_input": "2023-02-24T22:10:37.238323Z",
     "iopub.status.busy": "2023-02-24T22:10:37.238107Z",
     "iopub.status.idle": "2023-02-24T22:10:37.243462Z",
     "shell.execute_reply": "2023-02-24T22:10:37.242477Z"
    }
   },
   "outputs": [],
   "source": [
    "def costFunction(x, y, ŷ, ind):\n",
    "\trelu = nn.ReLU()\n",
    "#\n",
    "\tW = torch.squeeze(weights[ind])\n",
    "\tn = len(ind)\n",
    "\tŷ = torch.squeeze(ŷ)\n",
    "\ty = torch.squeeze(y)\n",
    "#\n",
    "\tpenalty = torch.sum(relu(W*(ŷ - y)))/n\t# This will penalize predictions higher than true labels\n",
    "\tloss = torch.sum(W*((y - ŷ)**2))/n + 0.8*penalty\n",
    "\treturn loss"
   ]
  },
  {
   "cell_type": "code",
   "execution_count": 8,
   "metadata": {
    "execution": {
     "iopub.execute_input": "2023-02-24T22:10:37.276270Z",
     "iopub.status.busy": "2023-02-24T22:10:37.275909Z",
     "iopub.status.idle": "2023-02-24T22:51:54.799092Z",
     "shell.execute_reply": "2023-02-24T22:51:54.797640Z"
    }
   },
   "outputs": [
    {
     "name": "stdout",
     "output_type": "stream",
     "text": [
      "\tepoch: 6000, Avg Loss: 0.2656, Learning Rate: 0.00000049"
     ]
    }
   ],
   "source": [
    "bNet = wuml.basicNetwork(costFunction, data, networkStructure=[(200,'relu'),(200,'relu'),(200,'relu'),(1,'none')], max_epoch=6000, learning_rate=0.001)\n",
    "bNet.train()"
   ]
  },
  {
   "cell_type": "code",
   "execution_count": 9,
   "metadata": {
    "execution": {
     "iopub.execute_input": "2023-02-24T22:51:54.804880Z",
     "iopub.status.busy": "2023-02-24T22:51:54.804470Z",
     "iopub.status.idle": "2023-02-24T22:51:55.168165Z",
     "shell.execute_reply": "2023-02-24T22:51:55.167266Z"
    }
   },
   "outputs": [
    {
     "data": {
      "text/html": [
       "<html><body><h5>Avg error: 0.1039</h5></body></html>"
      ],
      "text/plain": [
       "<IPython.core.display.HTML object>"
      ]
     },
     "metadata": {},
     "output_type": "display_data"
    },
    {
     "data": {
      "image/png": "[encoded data removed]",
      "text/plain": [
       "<Figure size 640x480 with 1 Axes>"
      ]
     },
     "metadata": {},
     "output_type": "display_data"
    },
    {
     "data": {
      "text/html": [
       "<div>\n",
       "<style scoped>\n",
       "    .dataframe tbody tr th:only-of-type {\n",
       "        vertical-align: middle;\n",
       "    }\n",
       "\n",
       "    .dataframe tbody tr th {\n",
       "        vertical-align: top;\n",
       "    }\n",
       "\n",
       "    .dataframe thead th {\n",
       "        text-align: right;\n",
       "    }\n",
       "</style>\n",
       "<table border=\"1\" class=\"dataframe\">\n",
       "  <thead>\n",
       "    <tr style=\"text-align: right;\">\n",
       "      <th></th>\n",
       "      <th>y</th>\n",
       "      <th>ŷ</th>\n",
       "      <th>Δy</th>\n",
       "    </tr>\n",
       "  </thead>\n",
       "  <tbody>\n",
       "    <tr>\n",
       "      <th>0</th>\n",
       "      <td>33.86</td>\n",
       "      <td>33.849998</td>\n",
       "      <td>1.000153e-02</td>\n",
       "    </tr>\n",
       "    <tr>\n",
       "      <th>1</th>\n",
       "      <td>37.43</td>\n",
       "      <td>37.419998</td>\n",
       "      <td>1.000183e-02</td>\n",
       "    </tr>\n",
       "    <tr>\n",
       "      <th>2</th>\n",
       "      <td>39.57</td>\n",
       "      <td>39.570000</td>\n",
       "      <td>3.051758e-07</td>\n",
       "    </tr>\n",
       "    <tr>\n",
       "      <th>3</th>\n",
       "      <td>38.86</td>\n",
       "      <td>38.849998</td>\n",
       "      <td>1.000153e-02</td>\n",
       "    </tr>\n",
       "    <tr>\n",
       "      <th>4</th>\n",
       "      <td>37.29</td>\n",
       "      <td>37.279999</td>\n",
       "      <td>1.000122e-02</td>\n",
       "    </tr>\n",
       "    <tr>\n",
       "      <th>...</th>\n",
       "      <td>...</td>\n",
       "      <td>...</td>\n",
       "      <td>...</td>\n",
       "    </tr>\n",
       "    <tr>\n",
       "      <th>1117</th>\n",
       "      <td>37.14</td>\n",
       "      <td>36.889999</td>\n",
       "      <td>2.500006e-01</td>\n",
       "    </tr>\n",
       "    <tr>\n",
       "      <th>1118</th>\n",
       "      <td>38.57</td>\n",
       "      <td>37.230000</td>\n",
       "      <td>1.340000e+00</td>\n",
       "    </tr>\n",
       "    <tr>\n",
       "      <th>1119</th>\n",
       "      <td>38.14</td>\n",
       "      <td>38.509998</td>\n",
       "      <td>3.699983e-01</td>\n",
       "    </tr>\n",
       "    <tr>\n",
       "      <th>1120</th>\n",
       "      <td>40.29</td>\n",
       "      <td>40.279999</td>\n",
       "      <td>1.000122e-02</td>\n",
       "    </tr>\n",
       "    <tr>\n",
       "      <th>1121</th>\n",
       "      <td>40.29</td>\n",
       "      <td>40.279999</td>\n",
       "      <td>1.000122e-02</td>\n",
       "    </tr>\n",
       "  </tbody>\n",
       "</table>\n",
       "<p>1122 rows × 3 columns</p>\n",
       "</div>"
      ],
      "text/plain": [
       "          y          ŷ            Δy\n",
       "0     33.86  33.849998  1.000153e-02\n",
       "1     37.43  37.419998  1.000183e-02\n",
       "2     39.57  39.570000  3.051758e-07\n",
       "3     38.86  38.849998  1.000153e-02\n",
       "4     37.29  37.279999  1.000122e-02\n",
       "...     ...        ...           ...\n",
       "1117  37.14  36.889999  2.500006e-01\n",
       "1118  38.57  37.230000  1.340000e+00\n",
       "1119  38.14  38.509998  3.699983e-01\n",
       "1120  40.29  40.279999  1.000122e-02\n",
       "1121  40.29  40.279999  1.000122e-02\n",
       "\n",
       "[1122 rows x 3 columns]"
      ]
     },
     "metadata": {},
     "output_type": "display_data"
    }
   ],
   "source": [
    "Ŷ = bNet(data, output_type='ndarray')\n",
    "output = wuml.output_regression_result(data.Y, Ŷ)\n",
    "wuml.jupyter_print(output)"
   ]
  }
 ],
 "metadata": {
  "kernelspec": {
   "display_name": "Python 3",
   "language": "python",
   "name": "python3"
  },
  "language_info": {
   "codemirror_mode": {
    "name": "ipython",
    "version": 3
   },
   "file_extension": ".py",
   "mimetype": "text/x-python",
   "name": "python",
   "nbconvert_exporter": "python",
   "pygments_lexer": "ipython3",
   "version": "3.8.10"
  }
 },
 "nbformat": 4,
 "nbformat_minor": 2
}
