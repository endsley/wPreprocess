{
 "cells": [
  {
   "cell_type": "code",
   "execution_count": 1,
   "metadata": {
    "execution": {
     "iopub.execute_input": "2023-02-25T21:28:26.833624Z",
     "iopub.status.busy": "2023-02-25T21:28:26.833220Z",
     "iopub.status.idle": "2023-02-25T21:28:26.837955Z",
     "shell.execute_reply": "2023-02-25T21:28:26.837078Z"
    }
   },
   "outputs": [],
   "source": [
    "#!/usr/bin/env python"
   ]
  },
  {
   "cell_type": "code",
   "execution_count": 2,
   "metadata": {
    "execution": {
     "iopub.execute_input": "2023-02-25T21:28:26.841521Z",
     "iopub.status.busy": "2023-02-25T21:28:26.841275Z",
     "iopub.status.idle": "2023-02-25T21:28:26.845851Z",
     "shell.execute_reply": "2023-02-25T21:28:26.845118Z"
    }
   },
   "outputs": [],
   "source": [
    "import os\n",
    "import sys\n",
    "if os.path.exists('/home/chieh/code/wPlotLib'):\n",
    "\tsys.path.insert(0,'/home/chieh/code/wPlotLib')\n",
    "if os.path.exists('/home/chieh/code/wuML'):\n",
    "\tsys.path.insert(0,'/home/chieh/code/wuML')"
   ]
  },
  {
   "cell_type": "code",
   "execution_count": 3,
   "metadata": {
    "execution": {
     "iopub.execute_input": "2023-02-25T21:28:26.849766Z",
     "iopub.status.busy": "2023-02-25T21:28:26.849528Z",
     "iopub.status.idle": "2023-02-25T21:28:28.594665Z",
     "shell.execute_reply": "2023-02-25T21:28:28.593846Z"
    }
   },
   "outputs": [],
   "source": [
    "import wuml\n",
    "import numpy as np\n",
    "import torch\n",
    "import wplotlib\n",
    "import torch.nn as nn\n",
    "from torch.autograd import Variable"
   ]
  },
  {
   "cell_type": "markdown",
   "metadata": {},
   "source": [
    "\n",
    " Weighted Regression<br>\n",
    "\tEach sample is weighted based on its likelihood to balance the data<br>\n",
    "\t<br>\n"
   ]
  },
  {
   "cell_type": "code",
   "execution_count": 4,
   "metadata": {
    "execution": {
     "iopub.execute_input": "2023-02-25T21:28:28.600331Z",
     "iopub.status.busy": "2023-02-25T21:28:28.600130Z",
     "iopub.status.idle": "2023-02-25T21:28:28.632431Z",
     "shell.execute_reply": "2023-02-25T21:28:28.631091Z"
    }
   },
   "outputs": [],
   "source": [
    " \n",
    "data = wuml.wData(xpath='../../data/Chem_decimated_imputed.csv', batch_size=20, \n",
    "\t\t\t\t\tlabel_type='continuous', label_column_name='finalga_best', \n",
    "\t\t\t\t\tfirst_row_is_label=True, columns_to_ignore=['id'])"
   ]
  },
  {
   "cell_type": "code",
   "execution_count": 5,
   "metadata": {
    "execution": {
     "iopub.execute_input": "2023-02-25T21:28:28.639160Z",
     "iopub.status.busy": "2023-02-25T21:28:28.638535Z",
     "iopub.status.idle": "2023-02-25T21:28:28.647654Z",
     "shell.execute_reply": "2023-02-25T21:28:28.646249Z"
    }
   },
   "outputs": [],
   "source": [
    "data = wuml.center_and_scale(data)"
   ]
  },
  {
   "cell_type": "code",
   "execution_count": 6,
   "metadata": {
    "execution": {
     "iopub.execute_input": "2023-02-25T21:28:28.653074Z",
     "iopub.status.busy": "2023-02-25T21:28:28.652706Z",
     "iopub.status.idle": "2023-02-25T21:28:30.869237Z",
     "shell.execute_reply": "2023-02-25T21:28:30.868410Z"
    }
   },
   "outputs": [],
   "source": [
    "weights = wuml.wData(xpath='../../data/Chem_sample_weights.csv')\n",
    "weights = weights.get_data_as('Tensor')"
   ]
  },
  {
   "cell_type": "code",
   "execution_count": 7,
   "metadata": {
    "execution": {
     "iopub.execute_input": "2023-02-25T21:28:30.874381Z",
     "iopub.status.busy": "2023-02-25T21:28:30.874199Z",
     "iopub.status.idle": "2023-02-25T21:28:30.878917Z",
     "shell.execute_reply": "2023-02-25T21:28:30.878226Z"
    }
   },
   "outputs": [],
   "source": [
    "def costFunction(x, y, ŷ, ind):\n",
    "\trelu = nn.ReLU()\n",
    "#\n",
    "\tW = torch.squeeze(weights[ind])\n",
    "\tn = len(ind)\n",
    "\tŷ = torch.squeeze(ŷ)\n",
    "\ty = torch.squeeze(y)\n",
    "#\n",
    "\tpenalty = torch.sum(relu(W*(ŷ - y)))/n\t# This will penalize predictions higher than true labels\n",
    "\tloss = torch.sum(W*((y - ŷ)**2))/n + 0.8*penalty\n",
    "\treturn loss"
   ]
  },
  {
   "cell_type": "code",
   "execution_count": 8,
   "metadata": {
    "execution": {
     "iopub.execute_input": "2023-02-25T21:28:30.916981Z",
     "iopub.status.busy": "2023-02-25T21:28:30.916638Z",
     "iopub.status.idle": "2023-02-25T22:09:56.476032Z",
     "shell.execute_reply": "2023-02-25T22:09:56.475234Z"
    }
   },
   "outputs": [
    {
     "name": "stdout",
     "output_type": "stream",
     "text": [
      "\tepoch: 6000, Avg Loss: 0.5258, Learning Rate: 0.00000195"
     ]
    }
   ],
   "source": [
    "bNet = wuml.basicNetwork(costFunction, data, networkStructure=[(200,'relu'),(200,'relu'),(200,'relu'),(1,'none')], max_epoch=6000, learning_rate=0.001)\n",
    "bNet.train()"
   ]
  },
  {
   "cell_type": "code",
   "execution_count": 9,
   "metadata": {
    "execution": {
     "iopub.execute_input": "2023-02-25T22:09:56.481063Z",
     "iopub.status.busy": "2023-02-25T22:09:56.480817Z",
     "iopub.status.idle": "2023-02-25T22:09:56.796865Z",
     "shell.execute_reply": "2023-02-25T22:09:56.795773Z"
    }
   },
   "outputs": [
    {
     "data": {
      "text/html": [
       "<html><body><h5>Avg error: 0.1662</h5></body></html>"
      ],
      "text/plain": [
       "<IPython.core.display.HTML object>"
      ]
     },
     "metadata": {},
     "output_type": "display_data"
    },
    {
     "data": {
      "image/png": "[encoded data removed]",
      "text/plain": [
       "<Figure size 640x480 with 1 Axes>"
      ]
     },
     "metadata": {},
     "output_type": "display_data"
    },
    {
     "data": {
      "text/html": [
       "<div>\n",
       "<style scoped>\n",
       "    .dataframe tbody tr th:only-of-type {\n",
       "        vertical-align: middle;\n",
       "    }\n",
       "\n",
       "    .dataframe tbody tr th {\n",
       "        vertical-align: top;\n",
       "    }\n",
       "\n",
       "    .dataframe thead th {\n",
       "        text-align: right;\n",
       "    }\n",
       "</style>\n",
       "<table border=\"1\" class=\"dataframe\">\n",
       "  <thead>\n",
       "    <tr style=\"text-align: right;\">\n",
       "      <th></th>\n",
       "      <th>y</th>\n",
       "      <th>ŷ</th>\n",
       "      <th>Δy</th>\n",
       "    </tr>\n",
       "  </thead>\n",
       "  <tbody>\n",
       "    <tr>\n",
       "      <th>0</th>\n",
       "      <td>33.86</td>\n",
       "      <td>33.849998</td>\n",
       "      <td>0.010002</td>\n",
       "    </tr>\n",
       "    <tr>\n",
       "      <th>1</th>\n",
       "      <td>37.43</td>\n",
       "      <td>37.419998</td>\n",
       "      <td>0.010002</td>\n",
       "    </tr>\n",
       "    <tr>\n",
       "      <th>2</th>\n",
       "      <td>39.57</td>\n",
       "      <td>39.349998</td>\n",
       "      <td>0.220002</td>\n",
       "    </tr>\n",
       "    <tr>\n",
       "      <th>3</th>\n",
       "      <td>38.86</td>\n",
       "      <td>38.840000</td>\n",
       "      <td>0.020000</td>\n",
       "    </tr>\n",
       "    <tr>\n",
       "      <th>4</th>\n",
       "      <td>37.29</td>\n",
       "      <td>37.270000</td>\n",
       "      <td>0.020000</td>\n",
       "    </tr>\n",
       "    <tr>\n",
       "      <th>...</th>\n",
       "      <td>...</td>\n",
       "      <td>...</td>\n",
       "      <td>...</td>\n",
       "    </tr>\n",
       "    <tr>\n",
       "      <th>1117</th>\n",
       "      <td>37.14</td>\n",
       "      <td>37.130001</td>\n",
       "      <td>0.009999</td>\n",
       "    </tr>\n",
       "    <tr>\n",
       "      <th>1118</th>\n",
       "      <td>38.57</td>\n",
       "      <td>37.259998</td>\n",
       "      <td>1.310002</td>\n",
       "    </tr>\n",
       "    <tr>\n",
       "      <th>1119</th>\n",
       "      <td>38.14</td>\n",
       "      <td>37.680000</td>\n",
       "      <td>0.460000</td>\n",
       "    </tr>\n",
       "    <tr>\n",
       "      <th>1120</th>\n",
       "      <td>40.29</td>\n",
       "      <td>40.270000</td>\n",
       "      <td>0.020000</td>\n",
       "    </tr>\n",
       "    <tr>\n",
       "      <th>1121</th>\n",
       "      <td>40.29</td>\n",
       "      <td>40.270000</td>\n",
       "      <td>0.020000</td>\n",
       "    </tr>\n",
       "  </tbody>\n",
       "</table>\n",
       "<p>1122 rows × 3 columns</p>\n",
       "</div>"
      ],
      "text/plain": [
       "          y          ŷ        Δy\n",
       "0     33.86  33.849998  0.010002\n",
       "1     37.43  37.419998  0.010002\n",
       "2     39.57  39.349998  0.220002\n",
       "3     38.86  38.840000  0.020000\n",
       "4     37.29  37.270000  0.020000\n",
       "...     ...        ...       ...\n",
       "1117  37.14  37.130001  0.009999\n",
       "1118  38.57  37.259998  1.310002\n",
       "1119  38.14  37.680000  0.460000\n",
       "1120  40.29  40.270000  0.020000\n",
       "1121  40.29  40.270000  0.020000\n",
       "\n",
       "[1122 rows x 3 columns]"
      ]
     },
     "metadata": {},
     "output_type": "display_data"
    }
   ],
   "source": [
    "Ŷ = bNet(data, output_type='ndarray')\n",
    "output = wuml.output_regression_result(data.Y, Ŷ)\n",
    "wuml.jupyter_print(output)"
   ]
  }
 ],
 "metadata": {
  "kernelspec": {
   "display_name": "Python 3",
   "language": "python",
   "name": "python3"
  },
  "language_info": {
   "codemirror_mode": {
    "name": "ipython",
    "version": 3
   },
   "file_extension": ".py",
   "mimetype": "text/x-python",
   "name": "python",
   "nbconvert_exporter": "python",
   "pygments_lexer": "ipython3",
   "version": "3.8.10"
  }
 },
 "nbformat": 4,
 "nbformat_minor": 2
}
