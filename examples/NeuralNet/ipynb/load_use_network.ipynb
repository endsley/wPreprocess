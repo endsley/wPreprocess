{
 "cells": [
  {
   "cell_type": "code",
   "execution_count": 1,
   "metadata": {
    "execution": {
     "iopub.execute_input": "2023-03-02T20:37:27.997828Z",
     "iopub.status.busy": "2023-03-02T20:37:27.997316Z",
     "iopub.status.idle": "2023-03-02T20:37:28.003478Z",
     "shell.execute_reply": "2023-03-02T20:37:28.002501Z"
    }
   },
   "outputs": [],
   "source": [
    "#!/usr/bin/env python"
   ]
  },
  {
   "cell_type": "code",
   "execution_count": 2,
   "metadata": {
    "execution": {
     "iopub.execute_input": "2023-03-02T20:37:28.007895Z",
     "iopub.status.busy": "2023-03-02T20:37:28.007593Z",
     "iopub.status.idle": "2023-03-02T20:37:28.012648Z",
     "shell.execute_reply": "2023-03-02T20:37:28.011703Z"
    }
   },
   "outputs": [],
   "source": [
    "import os\n",
    "import sys\n",
    "if os.path.exists('/home/chieh/code/wPlotLib'):\n",
    "\tsys.path.insert(0,'/home/chieh/code/wPlotLib')\n",
    "if os.path.exists('/home/chieh/code/wuML'):\n",
    "\tsys.path.insert(0,'/home/chieh/code/wuML')"
   ]
  },
  {
   "cell_type": "code",
   "execution_count": 3,
   "metadata": {
    "execution": {
     "iopub.execute_input": "2023-03-02T20:37:28.017684Z",
     "iopub.status.busy": "2023-03-02T20:37:28.017424Z",
     "iopub.status.idle": "2023-03-02T20:37:29.729416Z",
     "shell.execute_reply": "2023-03-02T20:37:29.728595Z"
    }
   },
   "outputs": [],
   "source": [
    "import wuml\n",
    "import numpy as np\n",
    "#import torch\n",
    "import wplotlib"
   ]
  },
  {
   "cell_type": "markdown",
   "metadata": {},
   "source": [
    "The original network was trained by basicRegression.py<br>\n",
    "here we load the trained network and use it<br>\n",
    "   ---------------------------------------------------------"
   ]
  },
  {
   "cell_type": "code",
   "execution_count": 4,
   "metadata": {
    "execution": {
     "iopub.execute_input": "2023-03-02T20:37:29.734267Z",
     "iopub.status.busy": "2023-03-02T20:37:29.734089Z",
     "iopub.status.idle": "2023-03-02T20:37:32.013197Z",
     "shell.execute_reply": "2023-03-02T20:37:32.012283Z"
    }
   },
   "outputs": [
    {
     "name": "stdout",
     "output_type": "stream",
     "text": [
      "Network Info:\n",
      "\tLearning rate: 0.001\n",
      "\tMax number of epochs: 500\n",
      "\tCost Function: None\n",
      "\tTrain Loop Callback: None\n",
      "\tCuda Available: True\n",
      "\tNetwork Structure\n",
      "\t\tLinear(in_features=1, out_features=30, bias=True) , relu\n",
      "\t\tLinear(in_features=30, out_features=50, bias=True) , relu\n",
      "\t\tLinear(in_features=50, out_features=1, bias=True) , none\n"
     ]
    }
   ],
   "source": [
    "net = wuml.load_torch_network('./basicRegressionNet.pk')\n",
    "data = wuml.wData(xpath='../../data/regress.csv', ypath='../../data/regress_label.csv', batch_size=20, label_type='continuous')\n",
    "Ŷ = net(data)"
   ]
  },
  {
   "cell_type": "markdown",
   "metadata": {},
   "source": [
    "Check out our predictions"
   ]
  },
  {
   "cell_type": "code",
   "execution_count": 5,
   "metadata": {
    "execution": {
     "iopub.execute_input": "2023-03-02T20:37:32.018718Z",
     "iopub.status.busy": "2023-03-02T20:37:32.018522Z",
     "iopub.status.idle": "2023-03-02T20:37:32.051042Z",
     "shell.execute_reply": "2023-03-02T20:37:32.050440Z"
    }
   },
   "outputs": [
    {
     "name": "stdout",
     "output_type": "stream",
     "text": [
      "Mean Absolute Error: 0.6066"
     ]
    },
    {
     "data": {
      "text/html": [
       "<div>\n",
       "<style scoped>\n",
       "    .dataframe tbody tr th:only-of-type {\n",
       "        vertical-align: middle;\n",
       "    }\n",
       "\n",
       "    .dataframe tbody tr th {\n",
       "        vertical-align: top;\n",
       "    }\n",
       "\n",
       "    .dataframe thead th {\n",
       "        text-align: right;\n",
       "    }\n",
       "</style>\n",
       "<table border=\"1\" class=\"dataframe\">\n",
       "  <thead>\n",
       "    <tr style=\"text-align: right;\">\n",
       "      <th></th>\n",
       "      <th>y</th>\n",
       "      <th>ŷ</th>\n",
       "      <th>Δy</th>\n",
       "    </tr>\n",
       "  </thead>\n",
       "  <tbody>\n",
       "    <tr>\n",
       "      <th>0</th>\n",
       "      <td>1.1</td>\n",
       "      <td>1.102</td>\n",
       "      <td>0.002</td>\n",
       "    </tr>\n",
       "    <tr>\n",
       "      <th>1</th>\n",
       "      <td>1.1</td>\n",
       "      <td>1.598</td>\n",
       "      <td>0.498</td>\n",
       "    </tr>\n",
       "    <tr>\n",
       "      <th>2</th>\n",
       "      <td>2.2</td>\n",
       "      <td>1.598</td>\n",
       "      <td>0.602</td>\n",
       "    </tr>\n",
       "    <tr>\n",
       "      <th>3</th>\n",
       "      <td>1.0</td>\n",
       "      <td>2.210</td>\n",
       "      <td>1.210</td>\n",
       "    </tr>\n",
       "    <tr>\n",
       "      <th>4</th>\n",
       "      <td>2.0</td>\n",
       "      <td>2.210</td>\n",
       "      <td>0.210</td>\n",
       "    </tr>\n",
       "    <tr>\n",
       "      <th>5</th>\n",
       "      <td>3.0</td>\n",
       "      <td>2.210</td>\n",
       "      <td>0.790</td>\n",
       "    </tr>\n",
       "    <tr>\n",
       "      <th>6</th>\n",
       "      <td>2.0</td>\n",
       "      <td>2.853</td>\n",
       "      <td>0.853</td>\n",
       "    </tr>\n",
       "    <tr>\n",
       "      <th>7</th>\n",
       "      <td>3.0</td>\n",
       "      <td>2.853</td>\n",
       "      <td>0.147</td>\n",
       "    </tr>\n",
       "    <tr>\n",
       "      <th>8</th>\n",
       "      <td>4.0</td>\n",
       "      <td>2.853</td>\n",
       "      <td>1.147</td>\n",
       "    </tr>\n",
       "  </tbody>\n",
       "</table>\n",
       "</div>"
      ],
      "text/plain": [
       "     y      ŷ     Δy\n",
       "0  1.1  1.102  0.002\n",
       "1  1.1  1.598  0.498\n",
       "2  2.2  1.598  0.602\n",
       "3  1.0  2.210  1.210\n",
       "4  2.0  2.210  0.210\n",
       "5  3.0  2.210  0.790\n",
       "6  2.0  2.853  0.853\n",
       "7  3.0  2.853  0.147\n",
       "8  4.0  2.853  1.147"
      ]
     },
     "metadata": {},
     "output_type": "display_data"
    },
    {
     "data": {
      "text/html": [
       "<div>\n",
       "<style scoped>\n",
       "    .dataframe tbody tr th:only-of-type {\n",
       "        vertical-align: middle;\n",
       "    }\n",
       "\n",
       "    .dataframe tbody tr th {\n",
       "        vertical-align: top;\n",
       "    }\n",
       "\n",
       "    .dataframe thead th {\n",
       "        text-align: right;\n",
       "    }\n",
       "</style>\n",
       "<table border=\"1\" class=\"dataframe\">\n",
       "  <thead>\n",
       "    <tr style=\"text-align: right;\">\n",
       "      <th></th>\n",
       "      <th>y</th>\n",
       "      <th>ŷ</th>\n",
       "      <th>Δy</th>\n",
       "    </tr>\n",
       "  </thead>\n",
       "  <tbody>\n",
       "    <tr>\n",
       "      <th>0</th>\n",
       "      <td>1.1</td>\n",
       "      <td>1.102</td>\n",
       "      <td>0.002</td>\n",
       "    </tr>\n",
       "    <tr>\n",
       "      <th>1</th>\n",
       "      <td>1.1</td>\n",
       "      <td>1.598</td>\n",
       "      <td>0.498</td>\n",
       "    </tr>\n",
       "    <tr>\n",
       "      <th>2</th>\n",
       "      <td>2.2</td>\n",
       "      <td>1.598</td>\n",
       "      <td>0.602</td>\n",
       "    </tr>\n",
       "    <tr>\n",
       "      <th>3</th>\n",
       "      <td>1.0</td>\n",
       "      <td>2.210</td>\n",
       "      <td>1.210</td>\n",
       "    </tr>\n",
       "    <tr>\n",
       "      <th>4</th>\n",
       "      <td>2.0</td>\n",
       "      <td>2.210</td>\n",
       "      <td>0.210</td>\n",
       "    </tr>\n",
       "    <tr>\n",
       "      <th>5</th>\n",
       "      <td>3.0</td>\n",
       "      <td>2.210</td>\n",
       "      <td>0.790</td>\n",
       "    </tr>\n",
       "    <tr>\n",
       "      <th>6</th>\n",
       "      <td>2.0</td>\n",
       "      <td>2.853</td>\n",
       "      <td>0.853</td>\n",
       "    </tr>\n",
       "    <tr>\n",
       "      <th>7</th>\n",
       "      <td>3.0</td>\n",
       "      <td>2.853</td>\n",
       "      <td>0.147</td>\n",
       "    </tr>\n",
       "    <tr>\n",
       "      <th>8</th>\n",
       "      <td>4.0</td>\n",
       "      <td>2.853</td>\n",
       "      <td>1.147</td>\n",
       "    </tr>\n",
       "  </tbody>\n",
       "</table>\n",
       "</div>"
      ],
      "text/plain": [
       "     y      ŷ     Δy\n",
       "0  1.1  1.102  0.002\n",
       "1  1.1  1.598  0.498\n",
       "2  2.2  1.598  0.602\n",
       "3  1.0  2.210  1.210\n",
       "4  2.0  2.210  0.210\n",
       "5  3.0  2.210  0.790\n",
       "6  2.0  2.853  0.853\n",
       "7  3.0  2.853  0.147\n",
       "8  4.0  2.853  1.147"
      ]
     },
     "metadata": {},
     "output_type": "display_data"
    },
    {
     "data": {
      "text/plain": [
       "     y      ŷ     Δy\n",
       "0  1.1  1.102  0.002\n",
       "1  1.1  1.598  0.498\n",
       "2  2.2  1.598  0.602\n",
       "3  1.0  2.210  1.210\n",
       "4  2.0  2.210  0.210\n",
       "5  3.0  2.210  0.790\n",
       "6  2.0  2.853  0.853\n",
       "7  3.0  2.853  0.147\n",
       "8  4.0  2.853  1.147"
      ]
     },
     "execution_count": 5,
     "metadata": {},
     "output_type": "execute_result"
    }
   ],
   "source": [
    "SR = wuml.summarize_regression_result(data.Y, Ŷ)\n",
    "SR.true_vs_predict(print_out=True)"
   ]
  },
  {
   "cell_type": "markdown",
   "metadata": {},
   "source": [
    "Draw the regression line"
   ]
  },
  {
   "cell_type": "code",
   "execution_count": 6,
   "metadata": {
    "execution": {
     "iopub.execute_input": "2023-03-02T20:37:32.054684Z",
     "iopub.status.busy": "2023-03-02T20:37:32.054494Z",
     "iopub.status.idle": "2023-03-02T20:37:32.295340Z",
     "shell.execute_reply": "2023-03-02T20:37:32.294591Z"
    }
   },
   "outputs": [
    {
     "data": {
      "image/png": "[encoded data removed]",
      "text/plain": [
       "<Figure size 640x480 with 1 Axes>"
      ]
     },
     "metadata": {},
     "output_type": "display_data"
    }
   ],
   "source": [
    "newX = np.expand_dims(np.arange(0,5,0.1),1)\n",
    "Ŷline = net(newX, output_type='ndarray')\t\t#Takes Numpy array or Tensor as input and outputs a Tensor\n",
    "splot = wplotlib.scatter(data.X, data.Y, marker='o', show=False)\n",
    "lp = wplotlib.lines(newX, Ŷline, title_font=11, title='Fitting from stored network', xlim=[0,5], ylim=[0,5], show=True)\t"
   ]
  },
  {
   "cell_type": "markdown",
   "metadata": {},
   "source": [
    "   ---------------------------------------------------------"
   ]
  },
  {
   "cell_type": "markdown",
   "metadata": {},
   "source": [
    "The original network was trained by complexNet.py<br>\n",
    "here we load the trained network and use it<br>\n",
    "   ---------------------------------------------------------"
   ]
  },
  {
   "cell_type": "code",
   "execution_count": 7,
   "metadata": {
    "execution": {
     "iopub.execute_input": "2023-03-02T20:37:32.302530Z",
     "iopub.status.busy": "2023-03-02T20:37:32.302308Z",
     "iopub.status.idle": "2023-03-02T20:37:32.317178Z",
     "shell.execute_reply": "2023-03-02T20:37:32.316050Z"
    }
   },
   "outputs": [],
   "source": [
    "data = wuml.wData(xpath='../../data/wine.csv', ypath='../../data/wine_label.csv', \n",
    "\t\t\t\t\textra_data='../../data/wine_regress_label.csv', \n",
    "\t\t\t\t\tpreprocess_data='center and scale', \n",
    "\t\t\t\t\t batch_size=16, label_type='discrete')\n",
    "Y2 = data.extra_data_dictionary['numpy'][0]"
   ]
  },
  {
   "cell_type": "code",
   "execution_count": 8,
   "metadata": {
    "execution": {
     "iopub.execute_input": "2023-03-02T20:37:32.321927Z",
     "iopub.status.busy": "2023-03-02T20:37:32.321564Z",
     "iopub.status.idle": "2023-03-02T20:37:32.336891Z",
     "shell.execute_reply": "2023-03-02T20:37:32.335917Z"
    }
   },
   "outputs": [
    {
     "name": "stdout",
     "output_type": "stream",
     "text": [
      "All Networks\n",
      "\tBatch size: 32: \n",
      "\tLearning rate: 0.001\n",
      "\tMax number of epochs: 10\n",
      "\tCost Function: costFunction\n",
      "\tCuda Available: True\n",
      "\tNetworks 0 Structure\n",
      "\t\tLinear(in_features=13, out_features=100, bias=True) , relu\n",
      "\t\tLinear(in_features=100, out_features=3, bias=True) , none\n",
      "\tNetworks 1 Structure\n",
      "\t\tLinear(in_features=3, out_features=50, bias=True) , relu\n",
      "\t\tLinear(in_features=50, out_features=1, bias=True) , none\n"
     ]
    }
   ],
   "source": [
    "net = wuml.load_torch_network('./ComplexNet.pk')\n",
    "[labels, ŷᵦ] = net(data)"
   ]
  },
  {
   "cell_type": "markdown",
   "metadata": {},
   "source": [
    "output results"
   ]
  },
  {
   "cell_type": "code",
   "execution_count": 9,
   "metadata": {
    "execution": {
     "iopub.execute_input": "2023-03-02T20:37:32.342111Z",
     "iopub.status.busy": "2023-03-02T20:37:32.341788Z",
     "iopub.status.idle": "2023-03-02T20:37:32.404290Z",
     "shell.execute_reply": "2023-03-02T20:37:32.403668Z"
    }
   },
   "outputs": [
    {
     "name": "stdout",
     "output_type": "stream",
     "text": [
      "Mean Absolute Error: 7.1840"
     ]
    },
    {
     "data": {
      "text/html": [
       "<div>\n",
       "<style scoped>\n",
       "    .dataframe tbody tr th:only-of-type {\n",
       "        vertical-align: middle;\n",
       "    }\n",
       "\n",
       "    .dataframe tbody tr th {\n",
       "        vertical-align: top;\n",
       "    }\n",
       "\n",
       "    .dataframe thead th {\n",
       "        text-align: right;\n",
       "    }\n",
       "</style>\n",
       "<table border=\"1\" class=\"dataframe\">\n",
       "  <thead>\n",
       "    <tr style=\"text-align: right;\">\n",
       "      <th></th>\n",
       "      <th>y</th>\n",
       "      <th>ŷ</th>\n",
       "      <th>Δy</th>\n",
       "    </tr>\n",
       "  </thead>\n",
       "  <tbody>\n",
       "    <tr>\n",
       "      <th>0</th>\n",
       "      <td>-0.97</td>\n",
       "      <td>3.357</td>\n",
       "      <td>4.327</td>\n",
       "    </tr>\n",
       "    <tr>\n",
       "      <th>1</th>\n",
       "      <td>-16.93</td>\n",
       "      <td>-10.771</td>\n",
       "      <td>6.157</td>\n",
       "    </tr>\n",
       "    <tr>\n",
       "      <th>2</th>\n",
       "      <td>13.65</td>\n",
       "      <td>3.849</td>\n",
       "      <td>9.800</td>\n",
       "    </tr>\n",
       "    <tr>\n",
       "      <th>3</th>\n",
       "      <td>4.96</td>\n",
       "      <td>5.889</td>\n",
       "      <td>0.928</td>\n",
       "    </tr>\n",
       "    <tr>\n",
       "      <th>4</th>\n",
       "      <td>25.40</td>\n",
       "      <td>13.636</td>\n",
       "      <td>11.769</td>\n",
       "    </tr>\n",
       "    <tr>\n",
       "      <th>...</th>\n",
       "      <td>...</td>\n",
       "      <td>...</td>\n",
       "      <td>...</td>\n",
       "    </tr>\n",
       "    <tr>\n",
       "      <th>173</th>\n",
       "      <td>35.46</td>\n",
       "      <td>26.797</td>\n",
       "      <td>8.665</td>\n",
       "    </tr>\n",
       "    <tr>\n",
       "      <th>174</th>\n",
       "      <td>21.14</td>\n",
       "      <td>20.019</td>\n",
       "      <td>1.124</td>\n",
       "    </tr>\n",
       "    <tr>\n",
       "      <th>175</th>\n",
       "      <td>13.59</td>\n",
       "      <td>20.208</td>\n",
       "      <td>6.616</td>\n",
       "    </tr>\n",
       "    <tr>\n",
       "      <th>176</th>\n",
       "      <td>3.00</td>\n",
       "      <td>16.492</td>\n",
       "      <td>13.492</td>\n",
       "    </tr>\n",
       "    <tr>\n",
       "      <th>177</th>\n",
       "      <td>36.51</td>\n",
       "      <td>30.974</td>\n",
       "      <td>5.533</td>\n",
       "    </tr>\n",
       "  </tbody>\n",
       "</table>\n",
       "<p>178 rows × 3 columns</p>\n",
       "</div>"
      ],
      "text/plain": [
       "         y       ŷ      Δy\n",
       "0    -0.97   3.357   4.327\n",
       "1   -16.93 -10.771   6.157\n",
       "2    13.65   3.849   9.800\n",
       "3     4.96   5.889   0.928\n",
       "4    25.40  13.636  11.769\n",
       "..     ...     ...     ...\n",
       "173  35.46  26.797   8.665\n",
       "174  21.14  20.019   1.124\n",
       "175  13.59  20.208   6.616\n",
       "176   3.00  16.492  13.492\n",
       "177  36.51  30.974   5.533\n",
       "\n",
       "[178 rows x 3 columns]"
      ]
     },
     "metadata": {},
     "output_type": "display_data"
    }
   ],
   "source": [
    "CR = wuml.summarize_classification_result(data.Y, labels)\n",
    "SR = wuml.summarize_regression_result(Y2, ŷᵦ)\n",
    "#    ---------------------------------------------------------"
   ]
  },
  {
   "cell_type": "markdown",
   "metadata": {},
   "source": [
    "The original network was trained by autoencoder.py<br>\n",
    "here we load the trained network and use it<br>\n",
    "   ---------------------------------------------------------"
   ]
  },
  {
   "cell_type": "code",
   "execution_count": 10,
   "metadata": {
    "execution": {
     "iopub.execute_input": "2023-03-02T20:37:32.434690Z",
     "iopub.status.busy": "2023-03-02T20:37:32.434472Z",
     "iopub.status.idle": "2023-03-02T20:37:32.446918Z",
     "shell.execute_reply": "2023-03-02T20:37:32.445965Z"
    }
   },
   "outputs": [],
   "source": [
    "data = wuml.wData(xpath='../../data/wine.csv', ypath='../../data/wine_label.csv', \n",
    "\t\t\t\t\tpreprocess_data='center and scale', batch_size=128, label_type='discrete')"
   ]
  },
  {
   "cell_type": "code",
   "execution_count": 11,
   "metadata": {
    "execution": {
     "iopub.execute_input": "2023-03-02T20:37:32.451653Z",
     "iopub.status.busy": "2023-03-02T20:37:32.451450Z",
     "iopub.status.idle": "2023-03-02T20:37:32.462567Z",
     "shell.execute_reply": "2023-03-02T20:37:32.461881Z"
    }
   },
   "outputs": [
    {
     "name": "stdout",
     "output_type": "stream",
     "text": [
      "Autoencoder Info:\n",
      "\tLearning rate: 0.001\n",
      "\tMax number of epochs: 2000\n",
      "\tCost Function: None\n",
      "\tCuda Available: True\n",
      "\tEncoder Structure\n",
      "\t\tLinear(in_features=13, out_features=12, bias=True) , none\n",
      "\tEncoder Extra Output weight Structure\n",
      "\t\tLinear(in_features=12, out_features=3, bias=True) , none\n",
      "\tEncoder Structure\n",
      "\t\tLinear(in_features=12, out_features=13, bias=True) , none\n"
     ]
    }
   ],
   "source": [
    "AE = wuml.load_torch_network('./autoencoder.pk')\n",
    "#\tThis is the objective network output \n",
    "ẙ = AE.objective_network(data)"
   ]
  },
  {
   "cell_type": "markdown",
   "metadata": {},
   "source": [
    "Here we use the objective network output to perform LogisticRegression classification"
   ]
  },
  {
   "cell_type": "code",
   "execution_count": 12,
   "metadata": {
    "execution": {
     "iopub.execute_input": "2023-03-02T20:37:32.466092Z",
     "iopub.status.busy": "2023-03-02T20:37:32.465864Z",
     "iopub.status.idle": "2023-03-02T20:37:32.496471Z",
     "shell.execute_reply": "2023-03-02T20:37:32.495262Z"
    }
   },
   "outputs": [
    {
     "data": {
      "text/html": [
       "<div>\n",
       "<style scoped>\n",
       "    .dataframe tbody tr th:only-of-type {\n",
       "        vertical-align: middle;\n",
       "    }\n",
       "\n",
       "    .dataframe tbody tr th {\n",
       "        vertical-align: top;\n",
       "    }\n",
       "\n",
       "    .dataframe thead th {\n",
       "        text-align: right;\n",
       "    }\n",
       "</style>\n",
       "<table border=\"1\" class=\"dataframe\">\n",
       "  <thead>\n",
       "    <tr style=\"text-align: right;\">\n",
       "      <th></th>\n",
       "      <th>classifier</th>\n",
       "      <th>Train</th>\n",
       "      <th>Test</th>\n",
       "    </tr>\n",
       "  </thead>\n",
       "  <tbody>\n",
       "    <tr>\n",
       "      <th></th>\n",
       "      <td>LogisticRegression</td>\n",
       "      <td>1.0</td>\n",
       "      <td>1.0</td>\n",
       "    </tr>\n",
       "  </tbody>\n",
       "</table>\n",
       "</div>"
      ],
      "text/plain": [
       "          classifier Train Test\n",
       "  LogisticRegression   1.0  1.0"
      ]
     },
     "metadata": {},
     "output_type": "display_data"
    }
   ],
   "source": [
    "cf = wuml.classification(ẙ, classifier='LogisticRegression')\n",
    "wuml.jupyter_print(cf.result_summary(print_out=False))"
   ]
  },
  {
   "cell_type": "markdown",
   "metadata": {},
   "source": [
    "   ---------------------------------------------------------"
   ]
  }
 ],
 "metadata": {
  "kernelspec": {
   "display_name": "Python 3",
   "language": "python",
   "name": "python3"
  },
  "language_info": {
   "codemirror_mode": {
    "name": "ipython",
    "version": 3
   },
   "file_extension": ".py",
   "mimetype": "text/x-python",
   "name": "python",
   "nbconvert_exporter": "python",
   "pygments_lexer": "ipython3",
   "version": "3.8.10"
  }
 },
 "nbformat": 4,
 "nbformat_minor": 2
}
