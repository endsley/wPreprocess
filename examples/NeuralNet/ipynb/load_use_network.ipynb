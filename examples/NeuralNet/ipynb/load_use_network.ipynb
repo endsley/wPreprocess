{
 "cells": [
  {
   "cell_type": "code",
   "execution_count": 1,
   "metadata": {
    "execution": {
     "iopub.execute_input": "2023-02-25T18:22:38.638690Z",
     "iopub.status.busy": "2023-02-25T18:22:38.638234Z",
     "iopub.status.idle": "2023-02-25T18:22:38.644781Z",
     "shell.execute_reply": "2023-02-25T18:22:38.643256Z"
    }
   },
   "outputs": [],
   "source": [
    "#!/usr/bin/env python"
   ]
  },
  {
   "cell_type": "code",
   "execution_count": 2,
   "metadata": {
    "execution": {
     "iopub.execute_input": "2023-02-25T18:22:38.650956Z",
     "iopub.status.busy": "2023-02-25T18:22:38.650451Z",
     "iopub.status.idle": "2023-02-25T18:22:38.658232Z",
     "shell.execute_reply": "2023-02-25T18:22:38.656795Z"
    }
   },
   "outputs": [],
   "source": [
    "import os\n",
    "import sys\n",
    "if os.path.exists('/home/chieh/code/wPlotLib'):\n",
    "\tsys.path.insert(0,'/home/chieh/code/wPlotLib')\n",
    "if os.path.exists('/home/chieh/code/wuML'):\n",
    "\tsys.path.insert(0,'/home/chieh/code/wuML')"
   ]
  },
  {
   "cell_type": "code",
   "execution_count": 3,
   "metadata": {
    "execution": {
     "iopub.execute_input": "2023-02-25T18:22:38.663414Z",
     "iopub.status.busy": "2023-02-25T18:22:38.663206Z",
     "iopub.status.idle": "2023-02-25T18:22:40.433070Z",
     "shell.execute_reply": "2023-02-25T18:22:40.432323Z"
    }
   },
   "outputs": [],
   "source": [
    "import wuml\n",
    "import numpy as np\n",
    "#import torch\n",
    "import wplotlib"
   ]
  },
  {
   "cell_type": "markdown",
   "metadata": {},
   "source": [
    "The original network was trained by basicRegression.py<br>\n",
    "here we load the trained network and use it"
   ]
  },
  {
   "cell_type": "code",
   "execution_count": 4,
   "metadata": {
    "execution": {
     "iopub.execute_input": "2023-02-25T18:22:40.437769Z",
     "iopub.status.busy": "2023-02-25T18:22:40.437380Z",
     "iopub.status.idle": "2023-02-25T18:22:42.777881Z",
     "shell.execute_reply": "2023-02-25T18:22:42.776408Z"
    }
   },
   "outputs": [
    {
     "data": {
      "text/html": [
       "<html><body><h5>Network Info:<br>&nbsp &nbspLearning rate: 0.001<br>&nbsp &nbspMax number of epochs: 500<br>&nbsp &nbspCost Function: None<br>&nbsp &nbspTrain Loop Callback: None<br>&nbsp &nbspCuda Available: True<br>&nbsp &nbspNetwork Structure<br>&nbsp &nbsp&nbsp &nbspLinear(in_features=1, out_features=30, bias=True) , relu<br>&nbsp &nbsp&nbsp &nbspLinear(in_features=30, out_features=50, bias=True) , relu<br>&nbsp &nbsp&nbsp &nbspLinear(in_features=50, out_features=1, bias=True) , none<br></h5></body></html>"
      ],
      "text/plain": [
       "<IPython.core.display.HTML object>"
      ]
     },
     "metadata": {},
     "output_type": "display_data"
    }
   ],
   "source": [
    "net = wuml.load_torch_network('./basicRegressionNet.pk')\n",
    "data = wuml.wData(xpath='../../data/regress.csv', ypath='../../data/regress_label.csv', batch_size=20, label_type='continuous')\n",
    "Ŷ = net(data)"
   ]
  },
  {
   "cell_type": "markdown",
   "metadata": {},
   "source": [
    "Check out our predictions"
   ]
  },
  {
   "cell_type": "code",
   "execution_count": 5,
   "metadata": {
    "execution": {
     "iopub.execute_input": "2023-02-25T18:22:42.784265Z",
     "iopub.status.busy": "2023-02-25T18:22:42.783883Z",
     "iopub.status.idle": "2023-02-25T18:22:42.805319Z",
     "shell.execute_reply": "2023-02-25T18:22:42.804537Z"
    }
   },
   "outputs": [
    {
     "data": {
      "text/html": [
       "<div>\n",
       "<style scoped>\n",
       "    .dataframe tbody tr th:only-of-type {\n",
       "        vertical-align: middle;\n",
       "    }\n",
       "\n",
       "    .dataframe tbody tr th {\n",
       "        vertical-align: top;\n",
       "    }\n",
       "\n",
       "    .dataframe thead th {\n",
       "        text-align: right;\n",
       "    }\n",
       "</style>\n",
       "<table border=\"1\" class=\"dataframe\">\n",
       "  <thead>\n",
       "    <tr style=\"text-align: right;\">\n",
       "      <th></th>\n",
       "      <th>y</th>\n",
       "      <th>ŷ</th>\n",
       "      <th>Δy</th>\n",
       "    </tr>\n",
       "  </thead>\n",
       "  <tbody>\n",
       "    <tr>\n",
       "      <th>0</th>\n",
       "      <td>1.1</td>\n",
       "      <td>1.117</td>\n",
       "      <td>0.017</td>\n",
       "    </tr>\n",
       "    <tr>\n",
       "      <th>1</th>\n",
       "      <td>1.1</td>\n",
       "      <td>1.607</td>\n",
       "      <td>0.507</td>\n",
       "    </tr>\n",
       "    <tr>\n",
       "      <th>2</th>\n",
       "      <td>2.2</td>\n",
       "      <td>1.607</td>\n",
       "      <td>0.593</td>\n",
       "    </tr>\n",
       "    <tr>\n",
       "      <th>3</th>\n",
       "      <td>1.0</td>\n",
       "      <td>2.152</td>\n",
       "      <td>1.152</td>\n",
       "    </tr>\n",
       "    <tr>\n",
       "      <th>4</th>\n",
       "      <td>2.0</td>\n",
       "      <td>2.152</td>\n",
       "      <td>0.152</td>\n",
       "    </tr>\n",
       "    <tr>\n",
       "      <th>5</th>\n",
       "      <td>3.0</td>\n",
       "      <td>2.152</td>\n",
       "      <td>0.848</td>\n",
       "    </tr>\n",
       "    <tr>\n",
       "      <th>6</th>\n",
       "      <td>2.0</td>\n",
       "      <td>2.900</td>\n",
       "      <td>0.900</td>\n",
       "    </tr>\n",
       "    <tr>\n",
       "      <th>7</th>\n",
       "      <td>3.0</td>\n",
       "      <td>2.900</td>\n",
       "      <td>0.100</td>\n",
       "    </tr>\n",
       "    <tr>\n",
       "      <th>8</th>\n",
       "      <td>4.0</td>\n",
       "      <td>2.900</td>\n",
       "      <td>1.100</td>\n",
       "    </tr>\n",
       "  </tbody>\n",
       "</table>\n",
       "</div>"
      ],
      "text/plain": [
       "     y      ŷ     Δy\n",
       "0  1.1  1.117  0.017\n",
       "1  1.1  1.607  0.507\n",
       "2  2.2  1.607  0.593\n",
       "3  1.0  2.152  1.152\n",
       "4  2.0  2.152  0.152\n",
       "5  3.0  2.152  0.848\n",
       "6  2.0  2.900  0.900\n",
       "7  3.0  2.900  0.100\n",
       "8  4.0  2.900  1.100"
      ]
     },
     "metadata": {},
     "output_type": "display_data"
    },
    {
     "data": {
      "text/plain": [
       "     y      ŷ     Δy\n",
       "0  1.1  1.117  0.017\n",
       "1  1.1  1.607  0.507\n",
       "2  2.2  1.607  0.593\n",
       "3  1.0  2.152  1.152\n",
       "4  2.0  2.152  0.152\n",
       "5  3.0  2.152  0.848\n",
       "6  2.0  2.900  0.900\n",
       "7  3.0  2.900  0.100\n",
       "8  4.0  2.900  1.100"
      ]
     },
     "execution_count": 5,
     "metadata": {},
     "output_type": "execute_result"
    }
   ],
   "source": [
    "SR = wuml.summarize_regression_result(data.Y, Ŷ)\n",
    "SR.true_vs_predict(print_out=True)"
   ]
  },
  {
   "cell_type": "markdown",
   "metadata": {},
   "source": [
    "Draw the regression line"
   ]
  },
  {
   "cell_type": "code",
   "execution_count": 6,
   "metadata": {
    "execution": {
     "iopub.execute_input": "2023-02-25T18:22:42.809729Z",
     "iopub.status.busy": "2023-02-25T18:22:42.809530Z",
     "iopub.status.idle": "2023-02-25T18:22:43.090944Z",
     "shell.execute_reply": "2023-02-25T18:22:43.090097Z"
    }
   },
   "outputs": [
    {
     "data": {
      "image/png": "[encoded data removed]",
      "text/plain": [
       "<Figure size 640x480 with 1 Axes>"
      ]
     },
     "metadata": {},
     "output_type": "display_data"
    }
   ],
   "source": [
    "newX = np.expand_dims(np.arange(0,5,0.1),1)\n",
    "Ŷline = net(newX, output_type='ndarray')\t\t#Takes Numpy array or Tensor as input and outputs a Tensor\n",
    "splot = wplotlib.scatter(data.X, data.Y, marker='o', show=False)\n",
    "lp = wplotlib.lines(newX, Ŷline, title_font=11, title='Fitting from stored network', xlim=[0,5], ylim=[0,5], show=True)\t"
   ]
  }
 ],
 "metadata": {
  "kernelspec": {
   "display_name": "Python 3",
   "language": "python",
   "name": "python3"
  },
  "language_info": {
   "codemirror_mode": {
    "name": "ipython",
    "version": 3
   },
   "file_extension": ".py",
   "mimetype": "text/x-python",
   "name": "python",
   "nbconvert_exporter": "python",
   "pygments_lexer": "ipython3",
   "version": "3.8.10"
  }
 },
 "nbformat": 4,
 "nbformat_minor": 2
}
