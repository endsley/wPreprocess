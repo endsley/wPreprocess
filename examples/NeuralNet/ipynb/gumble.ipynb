{
 "cells": [
  {
   "cell_type": "code",
   "execution_count": 1,
   "metadata": {
    "execution": {
     "iopub.execute_input": "2023-04-18T20:37:14.151793Z",
     "iopub.status.busy": "2023-04-18T20:37:14.151296Z",
     "iopub.status.idle": "2023-04-18T20:37:14.157460Z",
     "shell.execute_reply": "2023-04-18T20:37:14.156407Z"
    }
   },
   "outputs": [],
   "source": [
    "#!/usr/bin/env python"
   ]
  },
  {
   "cell_type": "code",
   "execution_count": 2,
   "metadata": {
    "execution": {
     "iopub.execute_input": "2023-04-18T20:37:14.161230Z",
     "iopub.status.busy": "2023-04-18T20:37:14.160976Z",
     "iopub.status.idle": "2023-04-18T20:37:15.833181Z",
     "shell.execute_reply": "2023-04-18T20:37:15.832356Z"
    }
   },
   "outputs": [],
   "source": [
    "import numpy as np\n",
    "import wuml\n",
    "import torch"
   ]
  },
  {
   "cell_type": "markdown",
   "metadata": {},
   "source": [
    "\n",
    "<br>\n",
    "\tNotes : https://github.com/endsley/math_notebook/blob/master/neural_network/Gumbel_Softmax.pdf<br>\n",
    "\tThe gumbel softmax generates samples based on a categorial distribution<br>\n",
    "\tthat can be incorporated into a neural network. <br>\n",
    "\tGiven a categorical distribution of {pᑊ pᒾ pᶾ ...}, it will generate one-hot vectors given these probabilities.<br>\n",
    "\tImplement: Make sure that the rows add up to 1<br>\n"
   ]
  },
  {
   "cell_type": "code",
   "execution_count": 3,
   "metadata": {
    "execution": {
     "iopub.execute_input": "2023-04-18T20:37:15.838496Z",
     "iopub.status.busy": "2023-04-18T20:37:15.838309Z",
     "iopub.status.idle": "2023-04-18T20:37:15.842103Z",
     "shell.execute_reply": "2023-04-18T20:37:15.841375Z"
    }
   },
   "outputs": [],
   "source": [
    "X = np.array([[0.4405, 0.4045, 0.0754, 0.0796],\t\t\t# The rows should add up to 1\n",
    "\t\t\t\t[0.2287, 0.2234, 0.2676, 0.2802],\n",
    "\t\t\t\t[0.2518, 0.2524, 0.1696, 0.3262],\n",
    "\t\t\t\t[0.2495, 0.1744, 0.2126, 0.3635],\n",
    "\t\t\t\t[0.1979, 0.31  , 0.2165, 0.2755],\n",
    "\t\t\t\t[0.2003, 0.2329, 0.2982, 0.2686]])"
   ]
  },
  {
   "cell_type": "markdown",
   "metadata": {},
   "source": [
    "numpy implementation"
   ]
  },
  {
   "cell_type": "code",
   "execution_count": 4,
   "metadata": {
    "execution": {
     "iopub.execute_input": "2023-04-18T20:37:15.847035Z",
     "iopub.status.busy": "2023-04-18T20:37:15.846856Z",
     "iopub.status.idle": "2023-04-18T20:37:16.533854Z",
     "shell.execute_reply": "2023-04-18T20:37:16.533142Z"
    }
   },
   "outputs": [],
   "source": [
    "C = np.zeros((6,4))\n",
    "for n in range(10000):\n",
    "\tC += np.round(wuml.gumbel(X))"
   ]
  },
  {
   "cell_type": "code",
   "execution_count": 5,
   "metadata": {
    "execution": {
     "iopub.execute_input": "2023-04-18T20:37:16.538335Z",
     "iopub.status.busy": "2023-04-18T20:37:16.538155Z",
     "iopub.status.idle": "2023-04-18T20:37:16.541211Z",
     "shell.execute_reply": "2023-04-18T20:37:16.540455Z"
    }
   },
   "outputs": [],
   "source": [
    "C = C/10000"
   ]
  },
  {
   "cell_type": "markdown",
   "metadata": {},
   "source": [
    "torch implementation"
   ]
  },
  {
   "cell_type": "code",
   "execution_count": 6,
   "metadata": {
    "execution": {
     "iopub.execute_input": "2023-04-18T20:37:16.546145Z",
     "iopub.status.busy": "2023-04-18T20:37:16.545944Z",
     "iopub.status.idle": "2023-04-18T20:37:18.426110Z",
     "shell.execute_reply": "2023-04-18T20:37:18.425309Z"
    }
   },
   "outputs": [],
   "source": [
    "Ct = torch.zeros(6,4)\n",
    "for n in range(10000):\n",
    "\tCt += torch.round(wuml.gumbel(torch.from_numpy(X)))"
   ]
  },
  {
   "cell_type": "code",
   "execution_count": 7,
   "metadata": {
    "execution": {
     "iopub.execute_input": "2023-04-18T20:37:18.431007Z",
     "iopub.status.busy": "2023-04-18T20:37:18.430805Z",
     "iopub.status.idle": "2023-04-18T20:37:18.433953Z",
     "shell.execute_reply": "2023-04-18T20:37:18.433208Z"
    }
   },
   "outputs": [],
   "source": [
    "Ct = Ct.numpy()/10000"
   ]
  },
  {
   "cell_type": "code",
   "execution_count": 8,
   "metadata": {
    "execution": {
     "iopub.execute_input": "2023-04-18T20:37:18.438743Z",
     "iopub.status.busy": "2023-04-18T20:37:18.438549Z",
     "iopub.status.idle": "2023-04-18T20:37:18.456911Z",
     "shell.execute_reply": "2023-04-18T20:37:18.456298Z"
    }
   },
   "outputs": [
    {
     "name": "stdout",
     "output_type": "stream",
     "text": [
      "True Probability\n"
     ]
    },
    {
     "data": {
      "text/html": [
       "<div>\n",
       "<style scoped>\n",
       "    .dataframe tbody tr th:only-of-type {\n",
       "        vertical-align: middle;\n",
       "    }\n",
       "\n",
       "    .dataframe tbody tr th {\n",
       "        vertical-align: top;\n",
       "    }\n",
       "\n",
       "    .dataframe thead th {\n",
       "        text-align: right;\n",
       "    }\n",
       "</style>\n",
       "<table border=\"1\" class=\"dataframe\">\n",
       "  <thead>\n",
       "    <tr style=\"text-align: right;\">\n",
       "      <th></th>\n",
       "      <th>0</th>\n",
       "      <th>1</th>\n",
       "      <th>2</th>\n",
       "      <th>3</th>\n",
       "    </tr>\n",
       "  </thead>\n",
       "  <tbody>\n",
       "    <tr>\n",
       "      <th>0</th>\n",
       "      <td>0.5405</td>\n",
       "      <td>0.5045</td>\n",
       "      <td>0.1754</td>\n",
       "      <td>0.1796</td>\n",
       "    </tr>\n",
       "    <tr>\n",
       "      <th>1</th>\n",
       "      <td>0.3287</td>\n",
       "      <td>0.3234</td>\n",
       "      <td>0.3676</td>\n",
       "      <td>0.3802</td>\n",
       "    </tr>\n",
       "    <tr>\n",
       "      <th>2</th>\n",
       "      <td>0.3518</td>\n",
       "      <td>0.3524</td>\n",
       "      <td>0.2696</td>\n",
       "      <td>0.4262</td>\n",
       "    </tr>\n",
       "    <tr>\n",
       "      <th>3</th>\n",
       "      <td>0.3495</td>\n",
       "      <td>0.2744</td>\n",
       "      <td>0.3126</td>\n",
       "      <td>0.4635</td>\n",
       "    </tr>\n",
       "    <tr>\n",
       "      <th>4</th>\n",
       "      <td>0.2979</td>\n",
       "      <td>0.4100</td>\n",
       "      <td>0.3165</td>\n",
       "      <td>0.3755</td>\n",
       "    </tr>\n",
       "    <tr>\n",
       "      <th>5</th>\n",
       "      <td>0.3003</td>\n",
       "      <td>0.3329</td>\n",
       "      <td>0.3982</td>\n",
       "      <td>0.3686</td>\n",
       "    </tr>\n",
       "  </tbody>\n",
       "</table>\n",
       "</div>"
      ],
      "text/plain": [
       "        0       1       2       3\n",
       "0  0.5405  0.5045  0.1754  0.1796\n",
       "1  0.3287  0.3234  0.3676  0.3802\n",
       "2  0.3518  0.3524  0.2696  0.4262\n",
       "3  0.3495  0.2744  0.3126  0.4635\n",
       "4  0.2979  0.4100  0.3165  0.3755\n",
       "5  0.3003  0.3329  0.3982  0.3686"
      ]
     },
     "metadata": {},
     "output_type": "display_data"
    }
   ],
   "source": [
    "wuml.jupyter_print('True Probability')\t\n",
    "wuml.jupyter_print(X,'\\n')"
   ]
  },
  {
   "cell_type": "code",
   "execution_count": 9,
   "metadata": {
    "execution": {
     "iopub.execute_input": "2023-04-18T20:37:18.524866Z",
     "iopub.status.busy": "2023-04-18T20:37:18.524445Z",
     "iopub.status.idle": "2023-04-18T20:37:18.540424Z",
     "shell.execute_reply": "2023-04-18T20:37:18.539866Z"
    }
   },
   "outputs": [
    {
     "name": "stdout",
     "output_type": "stream",
     "text": [
      "Gumbel generated Probability from sampling\n"
     ]
    },
    {
     "data": {
      "text/html": [
       "<div>\n",
       "<style scoped>\n",
       "    .dataframe tbody tr th:only-of-type {\n",
       "        vertical-align: middle;\n",
       "    }\n",
       "\n",
       "    .dataframe tbody tr th {\n",
       "        vertical-align: top;\n",
       "    }\n",
       "\n",
       "    .dataframe thead th {\n",
       "        text-align: right;\n",
       "    }\n",
       "</style>\n",
       "<table border=\"1\" class=\"dataframe\">\n",
       "  <thead>\n",
       "    <tr style=\"text-align: right;\">\n",
       "      <th></th>\n",
       "      <th>0</th>\n",
       "      <th>1</th>\n",
       "      <th>2</th>\n",
       "      <th>3</th>\n",
       "    </tr>\n",
       "  </thead>\n",
       "  <tbody>\n",
       "    <tr>\n",
       "      <th>0</th>\n",
       "      <td>0.4439</td>\n",
       "      <td>0.3979</td>\n",
       "      <td>0.0771</td>\n",
       "      <td>0.0777</td>\n",
       "    </tr>\n",
       "    <tr>\n",
       "      <th>1</th>\n",
       "      <td>0.2259</td>\n",
       "      <td>0.2248</td>\n",
       "      <td>0.2690</td>\n",
       "      <td>0.2756</td>\n",
       "    </tr>\n",
       "    <tr>\n",
       "      <th>2</th>\n",
       "      <td>0.2554</td>\n",
       "      <td>0.2559</td>\n",
       "      <td>0.1629</td>\n",
       "      <td>0.3210</td>\n",
       "    </tr>\n",
       "    <tr>\n",
       "      <th>3</th>\n",
       "      <td>0.2467</td>\n",
       "      <td>0.1771</td>\n",
       "      <td>0.2146</td>\n",
       "      <td>0.3564</td>\n",
       "    </tr>\n",
       "    <tr>\n",
       "      <th>4</th>\n",
       "      <td>0.1918</td>\n",
       "      <td>0.3134</td>\n",
       "      <td>0.2104</td>\n",
       "      <td>0.2795</td>\n",
       "    </tr>\n",
       "    <tr>\n",
       "      <th>5</th>\n",
       "      <td>0.2058</td>\n",
       "      <td>0.2286</td>\n",
       "      <td>0.2997</td>\n",
       "      <td>0.2601</td>\n",
       "    </tr>\n",
       "  </tbody>\n",
       "</table>\n",
       "</div>"
      ],
      "text/plain": [
       "        0       1       2       3\n",
       "0  0.4439  0.3979  0.0771  0.0777\n",
       "1  0.2259  0.2248  0.2690  0.2756\n",
       "2  0.2554  0.2559  0.1629  0.3210\n",
       "3  0.2467  0.1771  0.2146  0.3564\n",
       "4  0.1918  0.3134  0.2104  0.2795\n",
       "5  0.2058  0.2286  0.2997  0.2601"
      ]
     },
     "metadata": {},
     "output_type": "display_data"
    }
   ],
   "source": [
    "wuml.jupyter_print('Gumbel generated Probability from sampling')\n",
    "wuml.jupyter_print(C,'\\n')"
   ]
  },
  {
   "cell_type": "code",
   "execution_count": 10,
   "metadata": {
    "execution": {
     "iopub.execute_input": "2023-04-18T20:37:18.544201Z",
     "iopub.status.busy": "2023-04-18T20:37:18.543967Z",
     "iopub.status.idle": "2023-04-18T20:37:18.552820Z",
     "shell.execute_reply": "2023-04-18T20:37:18.552200Z"
    }
   },
   "outputs": [
    {
     "name": "stdout",
     "output_type": "stream",
     "text": [
      "Gumbel generated Probability from sampling via pytorch\n"
     ]
    },
    {
     "data": {
      "text/html": [
       "<div>\n",
       "<style scoped>\n",
       "    .dataframe tbody tr th:only-of-type {\n",
       "        vertical-align: middle;\n",
       "    }\n",
       "\n",
       "    .dataframe tbody tr th {\n",
       "        vertical-align: top;\n",
       "    }\n",
       "\n",
       "    .dataframe thead th {\n",
       "        text-align: right;\n",
       "    }\n",
       "</style>\n",
       "<table border=\"1\" class=\"dataframe\">\n",
       "  <thead>\n",
       "    <tr style=\"text-align: right;\">\n",
       "      <th></th>\n",
       "      <th>0</th>\n",
       "      <th>1</th>\n",
       "      <th>2</th>\n",
       "      <th>3</th>\n",
       "    </tr>\n",
       "  </thead>\n",
       "  <tbody>\n",
       "    <tr>\n",
       "      <th>0</th>\n",
       "      <td>0.4119</td>\n",
       "      <td>0.3792</td>\n",
       "      <td>0.1000</td>\n",
       "      <td>0.1039</td>\n",
       "    </tr>\n",
       "    <tr>\n",
       "      <th>1</th>\n",
       "      <td>0.2349</td>\n",
       "      <td>0.2096</td>\n",
       "      <td>0.2655</td>\n",
       "      <td>0.2842</td>\n",
       "    </tr>\n",
       "    <tr>\n",
       "      <th>2</th>\n",
       "      <td>0.2479</td>\n",
       "      <td>0.2487</td>\n",
       "      <td>0.1799</td>\n",
       "      <td>0.3171</td>\n",
       "    </tr>\n",
       "    <tr>\n",
       "      <th>3</th>\n",
       "      <td>0.2468</td>\n",
       "      <td>0.1847</td>\n",
       "      <td>0.2206</td>\n",
       "      <td>0.3419</td>\n",
       "    </tr>\n",
       "    <tr>\n",
       "      <th>4</th>\n",
       "      <td>0.2002</td>\n",
       "      <td>0.3045</td>\n",
       "      <td>0.2219</td>\n",
       "      <td>0.2668</td>\n",
       "    </tr>\n",
       "    <tr>\n",
       "      <th>5</th>\n",
       "      <td>0.2051</td>\n",
       "      <td>0.2422</td>\n",
       "      <td>0.2881</td>\n",
       "      <td>0.2573</td>\n",
       "    </tr>\n",
       "  </tbody>\n",
       "</table>\n",
       "</div>"
      ],
      "text/plain": [
       "        0       1       2       3\n",
       "0  0.4119  0.3792  0.1000  0.1039\n",
       "1  0.2349  0.2096  0.2655  0.2842\n",
       "2  0.2479  0.2487  0.1799  0.3171\n",
       "3  0.2468  0.1847  0.2206  0.3419\n",
       "4  0.2002  0.3045  0.2219  0.2668\n",
       "5  0.2051  0.2422  0.2881  0.2573"
      ]
     },
     "metadata": {},
     "output_type": "display_data"
    }
   ],
   "source": [
    "wuml.jupyter_print('Gumbel generated Probability from sampling via pytorch')\n",
    "wuml.jupyter_print(Ct,'\\n')"
   ]
  }
 ],
 "metadata": {
  "kernelspec": {
   "display_name": "Python 3",
   "language": "python",
   "name": "python3"
  },
  "language_info": {
   "codemirror_mode": {
    "name": "ipython",
    "version": 3
   },
   "file_extension": ".py",
   "mimetype": "text/x-python",
   "name": "python",
   "nbconvert_exporter": "python",
   "pygments_lexer": "ipython3",
   "version": "3.8.10"
  }
 },
 "nbformat": 4,
 "nbformat_minor": 2
}
