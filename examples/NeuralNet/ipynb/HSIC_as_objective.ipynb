{
 "cells": [
  {
   "cell_type": "code",
   "execution_count": 1,
   "metadata": {
    "execution": {
     "iopub.execute_input": "2023-02-24T22:10:25.271989Z",
     "iopub.status.busy": "2023-02-24T22:10:25.271546Z",
     "iopub.status.idle": "2023-02-24T22:10:25.277977Z",
     "shell.execute_reply": "2023-02-24T22:10:25.276761Z"
    }
   },
   "outputs": [],
   "source": [
    "#!/usr/bin/env python"
   ]
  },
  {
   "cell_type": "code",
   "execution_count": 2,
   "metadata": {
    "execution": {
     "iopub.execute_input": "2023-02-24T22:10:25.282502Z",
     "iopub.status.busy": "2023-02-24T22:10:25.281910Z",
     "iopub.status.idle": "2023-02-24T22:10:25.288503Z",
     "shell.execute_reply": "2023-02-24T22:10:25.287824Z"
    }
   },
   "outputs": [],
   "source": [
    "import os\n",
    "import sys\n",
    "if os.path.exists('/home/chieh/code/wPlotLib'):\n",
    "\tsys.path.insert(0,'/home/chieh/code/wPlotLib')\n",
    "if os.path.exists('/home/chieh/code/wuML'):\n",
    "\tsys.path.insert(0,'/home/chieh/code/wuML')"
   ]
  },
  {
   "cell_type": "code",
   "execution_count": 3,
   "metadata": {
    "execution": {
     "iopub.execute_input": "2023-02-24T22:10:25.292799Z",
     "iopub.status.busy": "2023-02-24T22:10:25.292606Z",
     "iopub.status.idle": "2023-02-24T22:10:27.090415Z",
     "shell.execute_reply": "2023-02-24T22:10:27.089682Z"
    }
   },
   "outputs": [],
   "source": [
    "import wuml\n",
    "import numpy as np\n",
    "import torch\n",
    "import wplotlib\n",
    "from wuml import HSIC"
   ]
  },
  {
   "cell_type": "code",
   "execution_count": 4,
   "metadata": {
    "execution": {
     "iopub.execute_input": "2023-02-24T22:10:27.095571Z",
     "iopub.status.busy": "2023-02-24T22:10:27.095372Z",
     "iopub.status.idle": "2023-02-24T22:10:27.114946Z",
     "shell.execute_reply": "2023-02-24T22:10:27.114050Z"
    }
   },
   "outputs": [],
   "source": [
    "data = wuml.wData(xpath='../../data/wine.csv', ypath='../../data/wine_label.csv', randomly_shuffle_batch=True,\n",
    "\t\t\t\t\tbatch_size=20, label_type='discrete', encode_discrete_label_to_one_hot=True )"
   ]
  },
  {
   "cell_type": "markdown",
   "metadata": {},
   "source": [
    "Remember that you are trying to \"minimize\" this objective"
   ]
  },
  {
   "cell_type": "code",
   "execution_count": 5,
   "metadata": {
    "execution": {
     "iopub.execute_input": "2023-02-24T22:10:27.120446Z",
     "iopub.status.busy": "2023-02-24T22:10:27.120188Z",
     "iopub.status.idle": "2023-02-24T22:10:27.123931Z",
     "shell.execute_reply": "2023-02-24T22:10:27.123268Z"
    }
   },
   "outputs": [],
   "source": [
    "def costFunction(x, y, ŷ, ind):\n",
    "\tH = HSIC(ŷ, y, X_kernel='linear', Y_kernel='linear', sigma_type='mpd' )\n",
    "\t# compare the HSIC value against numpy library\n",
    "\t#y = y.detach().cpu().numpy()\n",
    "\t#ŷ = ŷ.detach().cpu().numpy()\n",
    "\t#H2 = HSIC(ŷ, y, X_kernel='linear', Y_kernel='linear', sigma_type='mpd' )\n",
    "\t#import pdb; pdb.set_trace()\n",
    "\treturn -H  "
   ]
  },
  {
   "cell_type": "markdown",
   "metadata": {},
   "source": [
    "----------------------------------------------<br>\n",
    "Create basic network and train"
   ]
  },
  {
   "cell_type": "code",
   "execution_count": 6,
   "metadata": {
    "execution": {
     "iopub.execute_input": "2023-02-24T22:10:27.127999Z",
     "iopub.status.busy": "2023-02-24T22:10:27.127755Z",
     "iopub.status.idle": "2023-02-24T22:10:29.586857Z",
     "shell.execute_reply": "2023-02-24T22:10:29.585264Z"
    }
   },
   "outputs": [
    {
     "data": {
      "text/html": [
       "<html><body><h5>Network Info:<br>&nbsp &nbspLearning rate: 0.001<br>&nbsp &nbspMax number of epochs: 500<br>&nbsp &nbspCost Function: costFunction<br>&nbsp &nbspTrain Loop Callback: None<br>&nbsp &nbspCuda Available: True<br>&nbsp &nbspNetwork Structure<br>&nbsp &nbsp&nbsp &nbspLinear(in_features=13, out_features=30, bias=True) , relu<br>&nbsp &nbsp&nbsp &nbspBatchNorm1d(30, eps=1e-05, momentum=0.1, affine=True, track_running_stats=True) <br>&nbsp &nbsp&nbsp &nbspLinear(in_features=30, out_features=50, bias=True) , relu<br>&nbsp &nbsp&nbsp &nbspBatchNorm1d(50, eps=1e-05, momentum=0.1, affine=True, track_running_stats=True) <br>&nbsp &nbsp&nbsp &nbspLinear(in_features=50, out_features=3, bias=True) , none<br></h5></body></html>"
      ],
      "text/plain": [
       "<IPython.core.display.HTML object>"
      ]
     },
     "metadata": {},
     "output_type": "display_data"
    }
   ],
   "source": [
    "bNet = wuml.basicNetwork(costFunction, data, networkStructure=[(30,'relu'),('bn', True), (50,'relu'),('bn', True),(3,'none')], max_epoch=500, learning_rate=0.001)\n",
    "bNet.train(print_status=True)\n",
    "Ŷ = bNet(data, output_type='ndarray')\t\t#Takes Numpy array or Tensor as input and outputs a Tensor"
   ]
  },
  {
   "cell_type": "code",
   "execution_count": 7,
   "metadata": {
    "execution": {
     "iopub.execute_input": "2023-02-24T22:10:29.592376Z",
     "iopub.status.busy": "2023-02-24T22:10:29.591988Z",
     "iopub.status.idle": "2023-02-24T22:10:29.612846Z",
     "shell.execute_reply": "2023-02-24T22:10:29.612298Z"
    }
   },
   "outputs": [
    {
     "data": {
      "text/html": [
       "<div>\n",
       "<style scoped>\n",
       "    .dataframe tbody tr th:only-of-type {\n",
       "        vertical-align: middle;\n",
       "    }\n",
       "\n",
       "    .dataframe tbody tr th {\n",
       "        vertical-align: top;\n",
       "    }\n",
       "\n",
       "    .dataframe thead th {\n",
       "        text-align: right;\n",
       "    }\n",
       "</style>\n",
       "<table border=\"1\" class=\"dataframe\">\n",
       "  <thead>\n",
       "    <tr style=\"text-align: right;\">\n",
       "      <th></th>\n",
       "      <th>0</th>\n",
       "      <th>1</th>\n",
       "      <th>2</th>\n",
       "      <th>3</th>\n",
       "      <th>4</th>\n",
       "      <th>5</th>\n",
       "    </tr>\n",
       "  </thead>\n",
       "  <tbody>\n",
       "    <tr>\n",
       "      <th>0</th>\n",
       "      <td>0.836606</td>\n",
       "      <td>0.558910</td>\n",
       "      <td>1.115963</td>\n",
       "      <td>1.0</td>\n",
       "      <td>0.0</td>\n",
       "      <td>0.0</td>\n",
       "    </tr>\n",
       "    <tr>\n",
       "      <th>1</th>\n",
       "      <td>0.855651</td>\n",
       "      <td>0.214034</td>\n",
       "      <td>1.049345</td>\n",
       "      <td>1.0</td>\n",
       "      <td>0.0</td>\n",
       "      <td>0.0</td>\n",
       "    </tr>\n",
       "    <tr>\n",
       "      <th>2</th>\n",
       "      <td>0.731848</td>\n",
       "      <td>0.522496</td>\n",
       "      <td>1.413070</td>\n",
       "      <td>1.0</td>\n",
       "      <td>0.0</td>\n",
       "      <td>0.0</td>\n",
       "    </tr>\n",
       "    <tr>\n",
       "      <th>3</th>\n",
       "      <td>0.436627</td>\n",
       "      <td>1.364961</td>\n",
       "      <td>2.268159</td>\n",
       "      <td>1.0</td>\n",
       "      <td>0.0</td>\n",
       "      <td>0.0</td>\n",
       "    </tr>\n",
       "    <tr>\n",
       "      <th>4</th>\n",
       "      <td>0.438976</td>\n",
       "      <td>-0.155353</td>\n",
       "      <td>-0.155826</td>\n",
       "      <td>1.0</td>\n",
       "      <td>0.0</td>\n",
       "      <td>0.0</td>\n",
       "    </tr>\n",
       "    <tr>\n",
       "      <th>...</th>\n",
       "      <td>...</td>\n",
       "      <td>...</td>\n",
       "      <td>...</td>\n",
       "      <td>...</td>\n",
       "      <td>...</td>\n",
       "      <td>...</td>\n",
       "    </tr>\n",
       "    <tr>\n",
       "      <th>173</th>\n",
       "      <td>0.822058</td>\n",
       "      <td>-0.425618</td>\n",
       "      <td>0.139526</td>\n",
       "      <td>0.0</td>\n",
       "      <td>0.0</td>\n",
       "      <td>1.0</td>\n",
       "    </tr>\n",
       "    <tr>\n",
       "      <th>174</th>\n",
       "      <td>0.817423</td>\n",
       "      <td>-0.405581</td>\n",
       "      <td>0.037105</td>\n",
       "      <td>0.0</td>\n",
       "      <td>0.0</td>\n",
       "      <td>1.0</td>\n",
       "    </tr>\n",
       "    <tr>\n",
       "      <th>175</th>\n",
       "      <td>0.653430</td>\n",
       "      <td>0.166129</td>\n",
       "      <td>0.149205</td>\n",
       "      <td>0.0</td>\n",
       "      <td>0.0</td>\n",
       "      <td>1.0</td>\n",
       "    </tr>\n",
       "    <tr>\n",
       "      <th>176</th>\n",
       "      <td>0.625715</td>\n",
       "      <td>0.144855</td>\n",
       "      <td>0.131415</td>\n",
       "      <td>0.0</td>\n",
       "      <td>0.0</td>\n",
       "      <td>1.0</td>\n",
       "    </tr>\n",
       "    <tr>\n",
       "      <th>177</th>\n",
       "      <td>0.100781</td>\n",
       "      <td>-0.340379</td>\n",
       "      <td>-0.381782</td>\n",
       "      <td>0.0</td>\n",
       "      <td>0.0</td>\n",
       "      <td>1.0</td>\n",
       "    </tr>\n",
       "  </tbody>\n",
       "</table>\n",
       "<p>178 rows × 6 columns</p>\n",
       "</div>"
      ],
      "text/plain": [
       "            0         1         2    3    4    5\n",
       "0    0.836606  0.558910  1.115963  1.0  0.0  0.0\n",
       "1    0.855651  0.214034  1.049345  1.0  0.0  0.0\n",
       "2    0.731848  0.522496  1.413070  1.0  0.0  0.0\n",
       "3    0.436627  1.364961  2.268159  1.0  0.0  0.0\n",
       "4    0.438976 -0.155353 -0.155826  1.0  0.0  0.0\n",
       "..        ...       ...       ...  ...  ...  ...\n",
       "173  0.822058 -0.425618  0.139526  0.0  0.0  1.0\n",
       "174  0.817423 -0.405581  0.037105  0.0  0.0  1.0\n",
       "175  0.653430  0.166129  0.149205  0.0  0.0  1.0\n",
       "176  0.625715  0.144855  0.131415  0.0  0.0  1.0\n",
       "177  0.100781 -0.340379 -0.381782  0.0  0.0  1.0\n",
       "\n",
       "[178 rows x 6 columns]"
      ]
     },
     "metadata": {},
     "output_type": "display_data"
    }
   ],
   "source": [
    "Network_out_v_Label = np.hstack((Ŷ, data.Y))\n",
    "wuml.jupyter_print(Network_out_v_Label)"
   ]
  }
 ],
 "metadata": {
  "kernelspec": {
   "display_name": "Python 3",
   "language": "python",
   "name": "python3"
  },
  "language_info": {
   "codemirror_mode": {
    "name": "ipython",
    "version": 3
   },
   "file_extension": ".py",
   "mimetype": "text/x-python",
   "name": "python",
   "nbconvert_exporter": "python",
   "pygments_lexer": "ipython3",
   "version": "3.8.10"
  }
 },
 "nbformat": 4,
 "nbformat_minor": 2
}
