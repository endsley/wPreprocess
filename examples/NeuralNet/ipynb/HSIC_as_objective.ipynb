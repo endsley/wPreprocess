{
 "cells": [
  {
   "cell_type": "code",
   "execution_count": 1,
   "metadata": {
    "execution": {
     "iopub.execute_input": "2023-02-12T15:19:35.086858Z",
     "iopub.status.busy": "2023-02-12T15:19:35.086360Z",
     "iopub.status.idle": "2023-02-12T15:19:35.091649Z",
     "shell.execute_reply": "2023-02-12T15:19:35.090724Z"
    }
   },
   "outputs": [],
   "source": [
    "#!/usr/bin/env python"
   ]
  },
  {
   "cell_type": "code",
   "execution_count": 2,
   "metadata": {
    "execution": {
     "iopub.execute_input": "2023-02-12T15:19:35.095517Z",
     "iopub.status.busy": "2023-02-12T15:19:35.095270Z",
     "iopub.status.idle": "2023-02-12T15:19:35.099692Z",
     "shell.execute_reply": "2023-02-12T15:19:35.098891Z"
    }
   },
   "outputs": [],
   "source": [
    "import os\n",
    "import sys\n",
    "if os.path.exists('/home/chieh/code/wPlotLib'):\n",
    "\tsys.path.insert(0,'/home/chieh/code/wPlotLib')\n",
    "if os.path.exists('/home/chieh/code/wuML'):\n",
    "\tsys.path.insert(0,'/home/chieh/code/wuML')"
   ]
  },
  {
   "cell_type": "code",
   "execution_count": 3,
   "metadata": {
    "execution": {
     "iopub.execute_input": "2023-02-12T15:19:35.103283Z",
     "iopub.status.busy": "2023-02-12T15:19:35.103019Z",
     "iopub.status.idle": "2023-02-12T15:19:36.664179Z",
     "shell.execute_reply": "2023-02-12T15:19:36.663410Z"
    }
   },
   "outputs": [],
   "source": [
    "import wuml\n",
    "import numpy as np\n",
    "import torch\n",
    "import wplotlib\n",
    "from wuml import HSIC"
   ]
  },
  {
   "cell_type": "code",
   "execution_count": 4,
   "metadata": {
    "execution": {
     "iopub.execute_input": "2023-02-12T15:19:36.669252Z",
     "iopub.status.busy": "2023-02-12T15:19:36.669080Z",
     "iopub.status.idle": "2023-02-12T15:19:36.695085Z",
     "shell.execute_reply": "2023-02-12T15:19:36.694269Z"
    }
   },
   "outputs": [],
   "source": [
    "data = wuml.wData(xpath='../../data/wine.csv', ypath='../../data/wine_label.csv', randomly_shuffle_batch=True,\n",
    "\t\t\t\t\tbatch_size=20, label_type='discrete', encode_discrete_label_to_one_hot=True )"
   ]
  },
  {
   "cell_type": "markdown",
   "metadata": {},
   "source": [
    "Remember that you are trying to \"minimize\" this objective"
   ]
  },
  {
   "cell_type": "code",
   "execution_count": 5,
   "metadata": {
    "execution": {
     "iopub.execute_input": "2023-02-12T15:19:36.700381Z",
     "iopub.status.busy": "2023-02-12T15:19:36.700191Z",
     "iopub.status.idle": "2023-02-12T15:19:36.703893Z",
     "shell.execute_reply": "2023-02-12T15:19:36.703148Z"
    }
   },
   "outputs": [],
   "source": [
    "def costFunction(x, y, ŷ, ind):\n",
    "\tH = HSIC(ŷ, y, X_kernel='linear', Y_kernel='linear', sigma_type='mpd' )\n",
    "\t# compare the HSIC value against numpy library\n",
    "\t#y = y.detach().cpu().numpy()\n",
    "\t#ŷ = ŷ.detach().cpu().numpy()\n",
    "\t#H2 = HSIC(ŷ, y, X_kernel='linear', Y_kernel='linear', sigma_type='mpd' )\n",
    "\t#import pdb; pdb.set_trace()\n",
    "\treturn -H  "
   ]
  },
  {
   "cell_type": "markdown",
   "metadata": {},
   "source": [
    "----------------------------------------------<br>\n",
    "Create basic network and train"
   ]
  },
  {
   "cell_type": "code",
   "execution_count": 6,
   "metadata": {
    "execution": {
     "iopub.execute_input": "2023-02-12T15:19:36.708989Z",
     "iopub.status.busy": "2023-02-12T15:19:36.708771Z",
     "iopub.status.idle": "2023-02-12T15:19:38.896949Z",
     "shell.execute_reply": "2023-02-12T15:19:38.895776Z"
    }
   },
   "outputs": [
    {
     "data": {
      "text/html": [
       "<html><body><h3>Network Info:<br>\tLearning rate: 0.001<br>\tMax number of epochs: 500<br>\tCost Function: <function costFunction at 0x7f454b252a60><br>\tTrain Loop Callback: None<br>\tCuda Available: True<br>\tNetwork Structure<br>\t\tLinear(in_features=13, out_features=30, bias=True) , relu<br>\t\tBatchNorm1d(30, eps=1e-05, momentum=0.1, affine=True, track_running_stats=True) <br>\t\tLinear(in_features=30, out_features=50, bias=True) , relu<br>\t\tBatchNorm1d(50, eps=1e-05, momentum=0.1, affine=True, track_running_stats=True) <br>\t\tLinear(in_features=50, out_features=3, bias=True) , none<br></h3></body></html>"
      ],
      "text/plain": [
       "<IPython.core.display.HTML object>"
      ]
     },
     "metadata": {},
     "output_type": "display_data"
    },
    {
     "name": "stdout",
     "output_type": "stream",
     "text": [
      "\n"
     ]
    }
   ],
   "source": [
    "bNet = wuml.basicNetwork(costFunction, data, networkStructure=[(30,'relu'),('bn', True), (50,'relu'),('bn', True),(3,'none')], max_epoch=500, learning_rate=0.001)\n",
    "bNet.train(print_status=True)\n",
    "Ŷ = bNet(data, output_type='ndarray')\t\t#Takes Numpy array or Tensor as input and outputs a Tensor"
   ]
  },
  {
   "cell_type": "code",
   "execution_count": 7,
   "metadata": {
    "execution": {
     "iopub.execute_input": "2023-02-12T15:19:38.902524Z",
     "iopub.status.busy": "2023-02-12T15:19:38.902249Z",
     "iopub.status.idle": "2023-02-12T15:19:38.920727Z",
     "shell.execute_reply": "2023-02-12T15:19:38.920184Z"
    }
   },
   "outputs": [
    {
     "data": {
      "text/html": [
       "<div>\n",
       "<style scoped>\n",
       "    .dataframe tbody tr th:only-of-type {\n",
       "        vertical-align: middle;\n",
       "    }\n",
       "\n",
       "    .dataframe tbody tr th {\n",
       "        vertical-align: top;\n",
       "    }\n",
       "\n",
       "    .dataframe thead th {\n",
       "        text-align: right;\n",
       "    }\n",
       "</style>\n",
       "<table border=\"1\" class=\"dataframe\">\n",
       "  <thead>\n",
       "    <tr style=\"text-align: right;\">\n",
       "      <th></th>\n",
       "      <th>0</th>\n",
       "      <th>1</th>\n",
       "      <th>2</th>\n",
       "      <th>3</th>\n",
       "      <th>4</th>\n",
       "      <th>5</th>\n",
       "    </tr>\n",
       "  </thead>\n",
       "  <tbody>\n",
       "    <tr>\n",
       "      <th>0</th>\n",
       "      <td>1.215162</td>\n",
       "      <td>0.700804</td>\n",
       "      <td>-0.515642</td>\n",
       "      <td>1.0</td>\n",
       "      <td>0.0</td>\n",
       "      <td>0.0</td>\n",
       "    </tr>\n",
       "    <tr>\n",
       "      <th>1</th>\n",
       "      <td>1.297915</td>\n",
       "      <td>0.075018</td>\n",
       "      <td>-0.624129</td>\n",
       "      <td>1.0</td>\n",
       "      <td>0.0</td>\n",
       "      <td>0.0</td>\n",
       "    </tr>\n",
       "    <tr>\n",
       "      <th>2</th>\n",
       "      <td>1.375629</td>\n",
       "      <td>0.441589</td>\n",
       "      <td>-1.078524</td>\n",
       "      <td>1.0</td>\n",
       "      <td>0.0</td>\n",
       "      <td>0.0</td>\n",
       "    </tr>\n",
       "    <tr>\n",
       "      <th>3</th>\n",
       "      <td>1.776097</td>\n",
       "      <td>0.846963</td>\n",
       "      <td>-2.014745</td>\n",
       "      <td>1.0</td>\n",
       "      <td>0.0</td>\n",
       "      <td>0.0</td>\n",
       "    </tr>\n",
       "    <tr>\n",
       "      <th>4</th>\n",
       "      <td>0.624403</td>\n",
       "      <td>-0.085020</td>\n",
       "      <td>0.490469</td>\n",
       "      <td>1.0</td>\n",
       "      <td>0.0</td>\n",
       "      <td>0.0</td>\n",
       "    </tr>\n",
       "    <tr>\n",
       "      <th>...</th>\n",
       "      <td>...</td>\n",
       "      <td>...</td>\n",
       "      <td>...</td>\n",
       "      <td>...</td>\n",
       "      <td>...</td>\n",
       "      <td>...</td>\n",
       "    </tr>\n",
       "    <tr>\n",
       "      <th>173</th>\n",
       "      <td>0.253739</td>\n",
       "      <td>-0.113340</td>\n",
       "      <td>0.238930</td>\n",
       "      <td>0.0</td>\n",
       "      <td>0.0</td>\n",
       "      <td>1.0</td>\n",
       "    </tr>\n",
       "    <tr>\n",
       "      <th>174</th>\n",
       "      <td>0.353207</td>\n",
       "      <td>-0.049759</td>\n",
       "      <td>0.332164</td>\n",
       "      <td>0.0</td>\n",
       "      <td>0.0</td>\n",
       "      <td>1.0</td>\n",
       "    </tr>\n",
       "    <tr>\n",
       "      <th>175</th>\n",
       "      <td>0.923633</td>\n",
       "      <td>0.328500</td>\n",
       "      <td>0.250708</td>\n",
       "      <td>0.0</td>\n",
       "      <td>0.0</td>\n",
       "      <td>1.0</td>\n",
       "    </tr>\n",
       "    <tr>\n",
       "      <th>176</th>\n",
       "      <td>0.928336</td>\n",
       "      <td>0.334741</td>\n",
       "      <td>0.225715</td>\n",
       "      <td>0.0</td>\n",
       "      <td>0.0</td>\n",
       "      <td>1.0</td>\n",
       "    </tr>\n",
       "    <tr>\n",
       "      <th>177</th>\n",
       "      <td>-0.222114</td>\n",
       "      <td>-0.308496</td>\n",
       "      <td>0.695271</td>\n",
       "      <td>0.0</td>\n",
       "      <td>0.0</td>\n",
       "      <td>1.0</td>\n",
       "    </tr>\n",
       "  </tbody>\n",
       "</table>\n",
       "<p>178 rows × 6 columns</p>\n",
       "</div>"
      ],
      "text/plain": [
       "            0         1         2    3    4    5\n",
       "0    1.215162  0.700804 -0.515642  1.0  0.0  0.0\n",
       "1    1.297915  0.075018 -0.624129  1.0  0.0  0.0\n",
       "2    1.375629  0.441589 -1.078524  1.0  0.0  0.0\n",
       "3    1.776097  0.846963 -2.014745  1.0  0.0  0.0\n",
       "4    0.624403 -0.085020  0.490469  1.0  0.0  0.0\n",
       "..        ...       ...       ...  ...  ...  ...\n",
       "173  0.253739 -0.113340  0.238930  0.0  0.0  1.0\n",
       "174  0.353207 -0.049759  0.332164  0.0  0.0  1.0\n",
       "175  0.923633  0.328500  0.250708  0.0  0.0  1.0\n",
       "176  0.928336  0.334741  0.225715  0.0  0.0  1.0\n",
       "177 -0.222114 -0.308496  0.695271  0.0  0.0  1.0\n",
       "\n",
       "[178 rows x 6 columns]"
      ]
     },
     "metadata": {},
     "output_type": "display_data"
    },
    {
     "name": "stdout",
     "output_type": "stream",
     "text": [
      "\n"
     ]
    }
   ],
   "source": [
    "Network_out_v_Label = np.hstack((Ŷ, data.Y))\n",
    "wuml.jupyter_print(Network_out_v_Label)"
   ]
  }
 ],
 "metadata": {
  "kernelspec": {
   "display_name": "Python 3",
   "language": "python",
   "name": "python3"
  },
  "language_info": {
   "codemirror_mode": {
    "name": "ipython",
    "version": 3
   },
   "file_extension": ".py",
   "mimetype": "text/x-python",
   "name": "python",
   "nbconvert_exporter": "python",
   "pygments_lexer": "ipython3",
   "version": "3.8.10"
  }
 },
 "nbformat": 4,
 "nbformat_minor": 2
}
