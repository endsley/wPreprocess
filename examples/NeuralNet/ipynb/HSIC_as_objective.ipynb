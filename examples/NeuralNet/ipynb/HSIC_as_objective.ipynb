{
 "cells": [
  {
   "cell_type": "code",
   "execution_count": 1,
   "metadata": {
    "execution": {
     "iopub.execute_input": "2023-03-02T20:37:42.831277Z",
     "iopub.status.busy": "2023-03-02T20:37:42.830814Z",
     "iopub.status.idle": "2023-03-02T20:37:42.836551Z",
     "shell.execute_reply": "2023-03-02T20:37:42.835679Z"
    }
   },
   "outputs": [],
   "source": [
    "#!/usr/bin/env python"
   ]
  },
  {
   "cell_type": "code",
   "execution_count": 2,
   "metadata": {
    "execution": {
     "iopub.execute_input": "2023-03-02T20:37:42.840321Z",
     "iopub.status.busy": "2023-03-02T20:37:42.840049Z",
     "iopub.status.idle": "2023-03-02T20:37:42.845249Z",
     "shell.execute_reply": "2023-03-02T20:37:42.844215Z"
    }
   },
   "outputs": [],
   "source": [
    "import os\n",
    "import sys\n",
    "if os.path.exists('/home/chieh/code/wPlotLib'):\n",
    "\tsys.path.insert(0,'/home/chieh/code/wPlotLib')\n",
    "if os.path.exists('/home/chieh/code/wuML'):\n",
    "\tsys.path.insert(0,'/home/chieh/code/wuML')"
   ]
  },
  {
   "cell_type": "code",
   "execution_count": 3,
   "metadata": {
    "execution": {
     "iopub.execute_input": "2023-03-02T20:37:42.849519Z",
     "iopub.status.busy": "2023-03-02T20:37:42.849288Z",
     "iopub.status.idle": "2023-03-02T20:37:44.492073Z",
     "shell.execute_reply": "2023-03-02T20:37:44.491408Z"
    }
   },
   "outputs": [],
   "source": [
    "import wuml\n",
    "import numpy as np\n",
    "import torch\n",
    "import wplotlib\n",
    "from wuml import HSIC"
   ]
  },
  {
   "cell_type": "code",
   "execution_count": 4,
   "metadata": {
    "execution": {
     "iopub.execute_input": "2023-03-02T20:37:44.497184Z",
     "iopub.status.busy": "2023-03-02T20:37:44.496989Z",
     "iopub.status.idle": "2023-03-02T20:37:44.514929Z",
     "shell.execute_reply": "2023-03-02T20:37:44.514233Z"
    }
   },
   "outputs": [],
   "source": [
    "data = wuml.wData(xpath='../../data/wine.csv', ypath='../../data/wine_label.csv', randomly_shuffle_batch=True,\n",
    "\t\t\t\t\tbatch_size=20, label_type='discrete', encode_discrete_label_to_one_hot=True )"
   ]
  },
  {
   "cell_type": "markdown",
   "metadata": {},
   "source": [
    "Remember that you are trying to \"minimize\" this objective"
   ]
  },
  {
   "cell_type": "code",
   "execution_count": 5,
   "metadata": {
    "execution": {
     "iopub.execute_input": "2023-03-02T20:37:44.519632Z",
     "iopub.status.busy": "2023-03-02T20:37:44.519457Z",
     "iopub.status.idle": "2023-03-02T20:37:44.522895Z",
     "shell.execute_reply": "2023-03-02T20:37:44.522129Z"
    }
   },
   "outputs": [],
   "source": [
    "def costFunction(x, y, ŷ, ind):\n",
    "\tH = HSIC(ŷ, y, X_kernel='linear', Y_kernel='linear', sigma_type='mpd' )\n",
    "\t# compare the HSIC value against numpy library\n",
    "\t#y = y.detach().cpu().numpy()\n",
    "\t#ŷ = ŷ.detach().cpu().numpy()\n",
    "\t#H2 = HSIC(ŷ, y, X_kernel='linear', Y_kernel='linear', sigma_type='mpd' )\n",
    "\t#import pdb; pdb.set_trace()\n",
    "\treturn -H  "
   ]
  },
  {
   "cell_type": "markdown",
   "metadata": {},
   "source": [
    "----------------------------------------------<br>\n",
    "Create basic network and train"
   ]
  },
  {
   "cell_type": "code",
   "execution_count": 6,
   "metadata": {
    "execution": {
     "iopub.execute_input": "2023-03-02T20:37:44.526844Z",
     "iopub.status.busy": "2023-03-02T20:37:44.526629Z",
     "iopub.status.idle": "2023-03-02T20:37:46.708905Z",
     "shell.execute_reply": "2023-03-02T20:37:46.707785Z"
    }
   },
   "outputs": [
    {
     "name": "stdout",
     "output_type": "stream",
     "text": [
      "Network Info:\n",
      "\tLearning rate: 0.001\n",
      "\tMax number of epochs: 500\n",
      "\tCost Function: costFunction\n",
      "\tTrain Loop Callback: None\n",
      "\tCuda Available: True\n",
      "\tNetwork Structure\n",
      "\t\tLinear(in_features=13, out_features=30, bias=True) , relu\n",
      "\t\tBatchNorm1d(30, eps=1e-05, momentum=0.1, affine=True, track_running_stats=True) \n",
      "\t\tLinear(in_features=30, out_features=50, bias=True) , relu\n",
      "\t\tBatchNorm1d(50, eps=1e-05, momentum=0.1, affine=True, track_running_stats=True) \n",
      "\t\tLinear(in_features=50, out_features=3, bias=True) , none\n"
     ]
    }
   ],
   "source": [
    "bNet = wuml.basicNetwork(costFunction, data, networkStructure=[(30,'relu'),('bn', True), (50,'relu'),('bn', True),(3,'none')], max_epoch=500, learning_rate=0.001)\n",
    "bNet.train(print_status=True)\n",
    "Ŷ = bNet(data, output_type='ndarray')\t\t#Takes Numpy array or Tensor as input and outputs a Tensor"
   ]
  },
  {
   "cell_type": "code",
   "execution_count": 7,
   "metadata": {
    "execution": {
     "iopub.execute_input": "2023-03-02T20:37:46.714761Z",
     "iopub.status.busy": "2023-03-02T20:37:46.714472Z",
     "iopub.status.idle": "2023-03-02T20:37:46.741143Z",
     "shell.execute_reply": "2023-03-02T20:37:46.739655Z"
    }
   },
   "outputs": [
    {
     "data": {
      "text/html": [
       "<div>\n",
       "<style scoped>\n",
       "    .dataframe tbody tr th:only-of-type {\n",
       "        vertical-align: middle;\n",
       "    }\n",
       "\n",
       "    .dataframe tbody tr th {\n",
       "        vertical-align: top;\n",
       "    }\n",
       "\n",
       "    .dataframe thead th {\n",
       "        text-align: right;\n",
       "    }\n",
       "</style>\n",
       "<table border=\"1\" class=\"dataframe\">\n",
       "  <thead>\n",
       "    <tr style=\"text-align: right;\">\n",
       "      <th></th>\n",
       "      <th>0</th>\n",
       "      <th>1</th>\n",
       "      <th>2</th>\n",
       "      <th>3</th>\n",
       "      <th>4</th>\n",
       "      <th>5</th>\n",
       "    </tr>\n",
       "  </thead>\n",
       "  <tbody>\n",
       "    <tr>\n",
       "      <th>0</th>\n",
       "      <td>-0.141758</td>\n",
       "      <td>-0.159185</td>\n",
       "      <td>-1.581648</td>\n",
       "      <td>1.0</td>\n",
       "      <td>0.0</td>\n",
       "      <td>0.0</td>\n",
       "    </tr>\n",
       "    <tr>\n",
       "      <th>1</th>\n",
       "      <td>-0.191338</td>\n",
       "      <td>-0.309919</td>\n",
       "      <td>-1.604510</td>\n",
       "      <td>1.0</td>\n",
       "      <td>0.0</td>\n",
       "      <td>0.0</td>\n",
       "    </tr>\n",
       "    <tr>\n",
       "      <th>2</th>\n",
       "      <td>-0.584884</td>\n",
       "      <td>-0.231484</td>\n",
       "      <td>-2.200746</td>\n",
       "      <td>1.0</td>\n",
       "      <td>0.0</td>\n",
       "      <td>0.0</td>\n",
       "    </tr>\n",
       "    <tr>\n",
       "      <th>3</th>\n",
       "      <td>-1.368033</td>\n",
       "      <td>-0.561005</td>\n",
       "      <td>-2.408513</td>\n",
       "      <td>1.0</td>\n",
       "      <td>0.0</td>\n",
       "      <td>0.0</td>\n",
       "    </tr>\n",
       "    <tr>\n",
       "      <th>4</th>\n",
       "      <td>0.355720</td>\n",
       "      <td>-0.214580</td>\n",
       "      <td>0.260100</td>\n",
       "      <td>1.0</td>\n",
       "      <td>0.0</td>\n",
       "      <td>0.0</td>\n",
       "    </tr>\n",
       "    <tr>\n",
       "      <th>...</th>\n",
       "      <td>...</td>\n",
       "      <td>...</td>\n",
       "      <td>...</td>\n",
       "      <td>...</td>\n",
       "      <td>...</td>\n",
       "      <td>...</td>\n",
       "    </tr>\n",
       "    <tr>\n",
       "      <th>173</th>\n",
       "      <td>0.579378</td>\n",
       "      <td>-0.296554</td>\n",
       "      <td>-0.168530</td>\n",
       "      <td>0.0</td>\n",
       "      <td>0.0</td>\n",
       "      <td>1.0</td>\n",
       "    </tr>\n",
       "    <tr>\n",
       "      <th>174</th>\n",
       "      <td>0.554885</td>\n",
       "      <td>-0.298408</td>\n",
       "      <td>-0.105743</td>\n",
       "      <td>0.0</td>\n",
       "      <td>0.0</td>\n",
       "      <td>1.0</td>\n",
       "    </tr>\n",
       "    <tr>\n",
       "      <th>175</th>\n",
       "      <td>0.313081</td>\n",
       "      <td>-0.205449</td>\n",
       "      <td>-0.300636</td>\n",
       "      <td>0.0</td>\n",
       "      <td>0.0</td>\n",
       "      <td>1.0</td>\n",
       "    </tr>\n",
       "    <tr>\n",
       "      <th>176</th>\n",
       "      <td>0.318198</td>\n",
       "      <td>-0.194801</td>\n",
       "      <td>-0.342614</td>\n",
       "      <td>0.0</td>\n",
       "      <td>0.0</td>\n",
       "      <td>1.0</td>\n",
       "    </tr>\n",
       "    <tr>\n",
       "      <th>177</th>\n",
       "      <td>0.318984</td>\n",
       "      <td>0.035864</td>\n",
       "      <td>1.012587</td>\n",
       "      <td>0.0</td>\n",
       "      <td>0.0</td>\n",
       "      <td>1.0</td>\n",
       "    </tr>\n",
       "  </tbody>\n",
       "</table>\n",
       "<p>178 rows × 6 columns</p>\n",
       "</div>"
      ],
      "text/plain": [
       "            0         1         2    3    4    5\n",
       "0   -0.141758 -0.159185 -1.581648  1.0  0.0  0.0\n",
       "1   -0.191338 -0.309919 -1.604510  1.0  0.0  0.0\n",
       "2   -0.584884 -0.231484 -2.200746  1.0  0.0  0.0\n",
       "3   -1.368033 -0.561005 -2.408513  1.0  0.0  0.0\n",
       "4    0.355720 -0.214580  0.260100  1.0  0.0  0.0\n",
       "..        ...       ...       ...  ...  ...  ...\n",
       "173  0.579378 -0.296554 -0.168530  0.0  0.0  1.0\n",
       "174  0.554885 -0.298408 -0.105743  0.0  0.0  1.0\n",
       "175  0.313081 -0.205449 -0.300636  0.0  0.0  1.0\n",
       "176  0.318198 -0.194801 -0.342614  0.0  0.0  1.0\n",
       "177  0.318984  0.035864  1.012587  0.0  0.0  1.0\n",
       "\n",
       "[178 rows x 6 columns]"
      ]
     },
     "metadata": {},
     "output_type": "display_data"
    }
   ],
   "source": [
    "Network_out_v_Label = np.hstack((Ŷ, data.Y))\n",
    "wuml.jupyter_print(Network_out_v_Label)"
   ]
  }
 ],
 "metadata": {
  "kernelspec": {
   "display_name": "Python 3",
   "language": "python",
   "name": "python3"
  },
  "language_info": {
   "codemirror_mode": {
    "name": "ipython",
    "version": 3
   },
   "file_extension": ".py",
   "mimetype": "text/x-python",
   "name": "python",
   "nbconvert_exporter": "python",
   "pygments_lexer": "ipython3",
   "version": "3.8.10"
  }
 },
 "nbformat": 4,
 "nbformat_minor": 2
}
