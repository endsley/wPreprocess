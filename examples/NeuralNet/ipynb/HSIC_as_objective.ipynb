{
 "cells": [
  {
   "cell_type": "code",
   "execution_count": 1,
   "metadata": {
    "execution": {
     "iopub.execute_input": "2023-02-25T21:28:19.589886Z",
     "iopub.status.busy": "2023-02-25T21:28:19.589441Z",
     "iopub.status.idle": "2023-02-25T21:28:19.594381Z",
     "shell.execute_reply": "2023-02-25T21:28:19.593693Z"
    }
   },
   "outputs": [],
   "source": [
    "#!/usr/bin/env python"
   ]
  },
  {
   "cell_type": "code",
   "execution_count": 2,
   "metadata": {
    "execution": {
     "iopub.execute_input": "2023-02-25T21:28:19.597475Z",
     "iopub.status.busy": "2023-02-25T21:28:19.597272Z",
     "iopub.status.idle": "2023-02-25T21:28:19.601244Z",
     "shell.execute_reply": "2023-02-25T21:28:19.600565Z"
    }
   },
   "outputs": [],
   "source": [
    "import os\n",
    "import sys\n",
    "if os.path.exists('/home/chieh/code/wPlotLib'):\n",
    "\tsys.path.insert(0,'/home/chieh/code/wPlotLib')\n",
    "if os.path.exists('/home/chieh/code/wuML'):\n",
    "\tsys.path.insert(0,'/home/chieh/code/wuML')"
   ]
  },
  {
   "cell_type": "code",
   "execution_count": 3,
   "metadata": {
    "execution": {
     "iopub.execute_input": "2023-02-25T21:28:19.604486Z",
     "iopub.status.busy": "2023-02-25T21:28:19.604291Z",
     "iopub.status.idle": "2023-02-25T21:28:21.312321Z",
     "shell.execute_reply": "2023-02-25T21:28:21.311103Z"
    }
   },
   "outputs": [],
   "source": [
    "import wuml\n",
    "import numpy as np\n",
    "import torch\n",
    "import wplotlib\n",
    "from wuml import HSIC"
   ]
  },
  {
   "cell_type": "code",
   "execution_count": 4,
   "metadata": {
    "execution": {
     "iopub.execute_input": "2023-02-25T21:28:21.317979Z",
     "iopub.status.busy": "2023-02-25T21:28:21.317678Z",
     "iopub.status.idle": "2023-02-25T21:28:21.338996Z",
     "shell.execute_reply": "2023-02-25T21:28:21.338060Z"
    }
   },
   "outputs": [],
   "source": [
    "data = wuml.wData(xpath='../../data/wine.csv', ypath='../../data/wine_label.csv', randomly_shuffle_batch=True,\n",
    "\t\t\t\t\tbatch_size=20, label_type='discrete', encode_discrete_label_to_one_hot=True )"
   ]
  },
  {
   "cell_type": "markdown",
   "metadata": {},
   "source": [
    "Remember that you are trying to \"minimize\" this objective"
   ]
  },
  {
   "cell_type": "code",
   "execution_count": 5,
   "metadata": {
    "execution": {
     "iopub.execute_input": "2023-02-25T21:28:21.343062Z",
     "iopub.status.busy": "2023-02-25T21:28:21.342845Z",
     "iopub.status.idle": "2023-02-25T21:28:21.346570Z",
     "shell.execute_reply": "2023-02-25T21:28:21.345766Z"
    }
   },
   "outputs": [],
   "source": [
    "def costFunction(x, y, ŷ, ind):\n",
    "\tH = HSIC(ŷ, y, X_kernel='linear', Y_kernel='linear', sigma_type='mpd' )\n",
    "\t# compare the HSIC value against numpy library\n",
    "\t#y = y.detach().cpu().numpy()\n",
    "\t#ŷ = ŷ.detach().cpu().numpy()\n",
    "\t#H2 = HSIC(ŷ, y, X_kernel='linear', Y_kernel='linear', sigma_type='mpd' )\n",
    "\t#import pdb; pdb.set_trace()\n",
    "\treturn -H  "
   ]
  },
  {
   "cell_type": "markdown",
   "metadata": {},
   "source": [
    "----------------------------------------------<br>\n",
    "Create basic network and train"
   ]
  },
  {
   "cell_type": "code",
   "execution_count": 6,
   "metadata": {
    "execution": {
     "iopub.execute_input": "2023-02-25T21:28:21.350491Z",
     "iopub.status.busy": "2023-02-25T21:28:21.350310Z",
     "iopub.status.idle": "2023-02-25T21:28:23.709482Z",
     "shell.execute_reply": "2023-02-25T21:28:23.708170Z"
    }
   },
   "outputs": [
    {
     "data": {
      "text/html": [
       "<html><body><h5>Network Info:<br>&nbsp &nbspLearning rate: 0.001<br>&nbsp &nbspMax number of epochs: 500<br>&nbsp &nbspCost Function: costFunction<br>&nbsp &nbspTrain Loop Callback: None<br>&nbsp &nbspCuda Available: True<br>&nbsp &nbspNetwork Structure<br>&nbsp &nbsp&nbsp &nbspLinear(in_features=13, out_features=30, bias=True) , relu<br>&nbsp &nbsp&nbsp &nbspBatchNorm1d(30, eps=1e-05, momentum=0.1, affine=True, track_running_stats=True) <br>&nbsp &nbsp&nbsp &nbspLinear(in_features=30, out_features=50, bias=True) , relu<br>&nbsp &nbsp&nbsp &nbspBatchNorm1d(50, eps=1e-05, momentum=0.1, affine=True, track_running_stats=True) <br>&nbsp &nbsp&nbsp &nbspLinear(in_features=50, out_features=3, bias=True) , none<br></h5></body></html>"
      ],
      "text/plain": [
       "<IPython.core.display.HTML object>"
      ]
     },
     "metadata": {},
     "output_type": "display_data"
    }
   ],
   "source": [
    "bNet = wuml.basicNetwork(costFunction, data, networkStructure=[(30,'relu'),('bn', True), (50,'relu'),('bn', True),(3,'none')], max_epoch=500, learning_rate=0.001)\n",
    "bNet.train(print_status=True)\n",
    "Ŷ = bNet(data, output_type='ndarray')\t\t#Takes Numpy array or Tensor as input and outputs a Tensor"
   ]
  },
  {
   "cell_type": "code",
   "execution_count": 7,
   "metadata": {
    "execution": {
     "iopub.execute_input": "2023-02-25T21:28:23.715755Z",
     "iopub.status.busy": "2023-02-25T21:28:23.715387Z",
     "iopub.status.idle": "2023-02-25T21:28:23.735175Z",
     "shell.execute_reply": "2023-02-25T21:28:23.734547Z"
    }
   },
   "outputs": [
    {
     "data": {
      "text/html": [
       "<div>\n",
       "<style scoped>\n",
       "    .dataframe tbody tr th:only-of-type {\n",
       "        vertical-align: middle;\n",
       "    }\n",
       "\n",
       "    .dataframe tbody tr th {\n",
       "        vertical-align: top;\n",
       "    }\n",
       "\n",
       "    .dataframe thead th {\n",
       "        text-align: right;\n",
       "    }\n",
       "</style>\n",
       "<table border=\"1\" class=\"dataframe\">\n",
       "  <thead>\n",
       "    <tr style=\"text-align: right;\">\n",
       "      <th></th>\n",
       "      <th>0</th>\n",
       "      <th>1</th>\n",
       "      <th>2</th>\n",
       "      <th>3</th>\n",
       "      <th>4</th>\n",
       "      <th>5</th>\n",
       "    </tr>\n",
       "  </thead>\n",
       "  <tbody>\n",
       "    <tr>\n",
       "      <th>0</th>\n",
       "      <td>1.352457</td>\n",
       "      <td>0.869449</td>\n",
       "      <td>0.510604</td>\n",
       "      <td>1.0</td>\n",
       "      <td>0.0</td>\n",
       "      <td>0.0</td>\n",
       "    </tr>\n",
       "    <tr>\n",
       "      <th>1</th>\n",
       "      <td>0.847541</td>\n",
       "      <td>0.701644</td>\n",
       "      <td>0.074498</td>\n",
       "      <td>1.0</td>\n",
       "      <td>0.0</td>\n",
       "      <td>0.0</td>\n",
       "    </tr>\n",
       "    <tr>\n",
       "      <th>2</th>\n",
       "      <td>1.157650</td>\n",
       "      <td>0.898646</td>\n",
       "      <td>-0.069749</td>\n",
       "      <td>1.0</td>\n",
       "      <td>0.0</td>\n",
       "      <td>0.0</td>\n",
       "    </tr>\n",
       "    <tr>\n",
       "      <th>3</th>\n",
       "      <td>2.166136</td>\n",
       "      <td>1.350989</td>\n",
       "      <td>0.259219</td>\n",
       "      <td>1.0</td>\n",
       "      <td>0.0</td>\n",
       "      <td>0.0</td>\n",
       "    </tr>\n",
       "    <tr>\n",
       "      <th>4</th>\n",
       "      <td>-0.039229</td>\n",
       "      <td>-0.234304</td>\n",
       "      <td>0.018012</td>\n",
       "      <td>1.0</td>\n",
       "      <td>0.0</td>\n",
       "      <td>0.0</td>\n",
       "    </tr>\n",
       "    <tr>\n",
       "      <th>...</th>\n",
       "      <td>...</td>\n",
       "      <td>...</td>\n",
       "      <td>...</td>\n",
       "      <td>...</td>\n",
       "      <td>...</td>\n",
       "      <td>...</td>\n",
       "    </tr>\n",
       "    <tr>\n",
       "      <th>173</th>\n",
       "      <td>-0.317591</td>\n",
       "      <td>-0.220357</td>\n",
       "      <td>-0.294989</td>\n",
       "      <td>0.0</td>\n",
       "      <td>0.0</td>\n",
       "      <td>1.0</td>\n",
       "    </tr>\n",
       "    <tr>\n",
       "      <th>174</th>\n",
       "      <td>-0.183484</td>\n",
       "      <td>-0.236500</td>\n",
       "      <td>-0.294457</td>\n",
       "      <td>0.0</td>\n",
       "      <td>0.0</td>\n",
       "      <td>1.0</td>\n",
       "    </tr>\n",
       "    <tr>\n",
       "      <th>175</th>\n",
       "      <td>0.367717</td>\n",
       "      <td>0.135809</td>\n",
       "      <td>0.294210</td>\n",
       "      <td>0.0</td>\n",
       "      <td>0.0</td>\n",
       "      <td>1.0</td>\n",
       "    </tr>\n",
       "    <tr>\n",
       "      <th>176</th>\n",
       "      <td>0.398542</td>\n",
       "      <td>0.134875</td>\n",
       "      <td>0.247113</td>\n",
       "      <td>0.0</td>\n",
       "      <td>0.0</td>\n",
       "      <td>1.0</td>\n",
       "    </tr>\n",
       "    <tr>\n",
       "      <th>177</th>\n",
       "      <td>-0.608618</td>\n",
       "      <td>-0.482837</td>\n",
       "      <td>-0.396888</td>\n",
       "      <td>0.0</td>\n",
       "      <td>0.0</td>\n",
       "      <td>1.0</td>\n",
       "    </tr>\n",
       "  </tbody>\n",
       "</table>\n",
       "<p>178 rows × 6 columns</p>\n",
       "</div>"
      ],
      "text/plain": [
       "            0         1         2    3    4    5\n",
       "0    1.352457  0.869449  0.510604  1.0  0.0  0.0\n",
       "1    0.847541  0.701644  0.074498  1.0  0.0  0.0\n",
       "2    1.157650  0.898646 -0.069749  1.0  0.0  0.0\n",
       "3    2.166136  1.350989  0.259219  1.0  0.0  0.0\n",
       "4   -0.039229 -0.234304  0.018012  1.0  0.0  0.0\n",
       "..        ...       ...       ...  ...  ...  ...\n",
       "173 -0.317591 -0.220357 -0.294989  0.0  0.0  1.0\n",
       "174 -0.183484 -0.236500 -0.294457  0.0  0.0  1.0\n",
       "175  0.367717  0.135809  0.294210  0.0  0.0  1.0\n",
       "176  0.398542  0.134875  0.247113  0.0  0.0  1.0\n",
       "177 -0.608618 -0.482837 -0.396888  0.0  0.0  1.0\n",
       "\n",
       "[178 rows x 6 columns]"
      ]
     },
     "metadata": {},
     "output_type": "display_data"
    }
   ],
   "source": [
    "Network_out_v_Label = np.hstack((Ŷ, data.Y))\n",
    "wuml.jupyter_print(Network_out_v_Label)"
   ]
  }
 ],
 "metadata": {
  "kernelspec": {
   "display_name": "Python 3",
   "language": "python",
   "name": "python3"
  },
  "language_info": {
   "codemirror_mode": {
    "name": "ipython",
    "version": 3
   },
   "file_extension": ".py",
   "mimetype": "text/x-python",
   "name": "python",
   "nbconvert_exporter": "python",
   "pygments_lexer": "ipython3",
   "version": "3.8.10"
  }
 },
 "nbformat": 4,
 "nbformat_minor": 2
}
