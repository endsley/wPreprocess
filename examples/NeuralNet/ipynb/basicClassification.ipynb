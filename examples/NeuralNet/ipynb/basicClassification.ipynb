{
 "cells": [
  {
   "cell_type": "code",
   "execution_count": 1,
   "metadata": {
    "execution": {
     "iopub.execute_input": "2023-02-12T15:17:28.136282Z",
     "iopub.status.busy": "2023-02-12T15:17:28.135813Z",
     "iopub.status.idle": "2023-02-12T15:17:28.141974Z",
     "shell.execute_reply": "2023-02-12T15:17:28.140764Z"
    }
   },
   "outputs": [],
   "source": [
    "#!/usr/bin/env python"
   ]
  },
  {
   "cell_type": "code",
   "execution_count": 2,
   "metadata": {
    "execution": {
     "iopub.execute_input": "2023-02-12T15:17:28.145798Z",
     "iopub.status.busy": "2023-02-12T15:17:28.145519Z",
     "iopub.status.idle": "2023-02-12T15:17:28.150688Z",
     "shell.execute_reply": "2023-02-12T15:17:28.149786Z"
    }
   },
   "outputs": [],
   "source": [
    "import os\n",
    "import sys\n",
    "if os.path.exists('/home/chieh/code/wPlotLib'):\n",
    "\tsys.path.insert(0,'/home/chieh/code/wPlotLib')\n",
    "if os.path.exists('/home/chieh/code/wuML'):\n",
    "\tsys.path.insert(0,'/home/chieh/code/wuML')"
   ]
  },
  {
   "cell_type": "code",
   "execution_count": 3,
   "metadata": {
    "execution": {
     "iopub.execute_input": "2023-02-12T15:17:28.154942Z",
     "iopub.status.busy": "2023-02-12T15:17:28.154668Z",
     "iopub.status.idle": "2023-02-12T15:17:29.685491Z",
     "shell.execute_reply": "2023-02-12T15:17:29.684668Z"
    }
   },
   "outputs": [],
   "source": [
    "import wuml\n",
    "import numpy as np\n",
    "import torch\n",
    "import torch.nn as nn\n",
    "import wplotlib\n",
    "from sklearn.metrics import accuracy_score"
   ]
  },
  {
   "cell_type": "markdown",
   "metadata": {},
   "source": [
    "The idea of training a neural network boils down to 3 steps<br>\n",
    "\t1. Define a network structure<br>\n",
    "\t\tExample: This is a 3 layer network with 100 node width<br>\n",
    "\t\t\tnetworkStructure=[(100,'relu'),(100,'relu'),(1,'softmax')]<br>\n",
    "\t2. Define a cost function<br>\n",
    "\t3. Call train()<br>\n",
    "\t4. Display results"
   ]
  },
  {
   "cell_type": "code",
   "execution_count": 4,
   "metadata": {
    "execution": {
     "iopub.execute_input": "2023-02-12T15:17:29.690795Z",
     "iopub.status.busy": "2023-02-12T15:17:29.690605Z",
     "iopub.status.idle": "2023-02-12T15:17:29.715069Z",
     "shell.execute_reply": "2023-02-12T15:17:29.714039Z"
    }
   },
   "outputs": [],
   "source": [
    "data = wuml.wData(xpath='../../data/wine.csv', ypath='../../data/wine_label.csv', batch_size=20, label_type='discrete')"
   ]
  },
  {
   "cell_type": "code",
   "execution_count": 5,
   "metadata": {
    "execution": {
     "iopub.execute_input": "2023-02-12T15:17:29.721028Z",
     "iopub.status.busy": "2023-02-12T15:17:29.720652Z",
     "iopub.status.idle": "2023-02-12T15:17:29.726442Z",
     "shell.execute_reply": "2023-02-12T15:17:29.725297Z"
    }
   },
   "outputs": [],
   "source": [
    "def costFunction(x, y, ŷ, ind):\n",
    "\tlossFun = nn.CrossEntropyLoss() \n",
    "\tloss = lossFun(ŷ, y) #weird from pytorch, dim of y is 1, and ŷ is 20x3\t\n",
    "\treturn loss"
   ]
  },
  {
   "cell_type": "markdown",
   "metadata": {},
   "source": [
    "t is important for pytorch that with classification, you need to define Y_dataType=torch.int64<br>\n",
    "ou can define a costFunction, but for classification it can be directly set to 'CE'<br>\n",
    "Net = wuml.basicNetwork(costFunction, data, networkStructure=[(100,'relu'),(100,'relu'),(3,'none')], "
   ]
  },
  {
   "cell_type": "code",
   "execution_count": 6,
   "metadata": {
    "execution": {
     "iopub.execute_input": "2023-02-12T15:17:29.731781Z",
     "iopub.status.busy": "2023-02-12T15:17:29.731464Z",
     "iopub.status.idle": "2023-02-12T15:17:44.164014Z",
     "shell.execute_reply": "2023-02-12T15:17:44.162610Z"
    }
   },
   "outputs": [
    {
     "data": {
      "text/html": [
       "<html><body><h3>Network Info:<br>\tLearning rate: 0.001<br>\tMax number of epochs: 100<br>\tCost Function: <function costFunction at 0x7f67a112faf0><br>\tTrain Loop Callback: None<br>\tCuda Available: True<br>\tNetwork Structure<br>\t\tLinear(in_features=13, out_features=100, bias=True) , relu<br>\t\tLinear(in_features=100, out_features=100, bias=True) , relu<br>\t\tLinear(in_features=100, out_features=3, bias=True) , none<br></h3></body></html>"
      ],
      "text/plain": [
       "<IPython.core.display.HTML object>"
      ]
     },
     "metadata": {},
     "output_type": "display_data"
    },
    {
     "name": "stdout",
     "output_type": "stream",
     "text": [
      "\n"
     ]
    }
   ],
   "source": [
    "bNet = wuml.basicNetwork(costFunction, data, networkStructure=[(100,'relu'),(100,'relu'),(3,'none')], \n",
    "\t\t\t\t\t\tY_dataType=torch.LongTensor, max_epoch=100, learning_rate=0.001)\n",
    "bNet.train(print_status=False)"
   ]
  },
  {
   "cell_type": "markdown",
   "metadata": {},
   "source": [
    "Report Results"
   ]
  },
  {
   "cell_type": "code",
   "execution_count": 7,
   "metadata": {
    "execution": {
     "iopub.execute_input": "2023-02-12T15:17:44.170244Z",
     "iopub.status.busy": "2023-02-12T15:17:44.169942Z",
     "iopub.status.idle": "2023-02-12T15:17:44.192993Z",
     "shell.execute_reply": "2023-02-12T15:17:44.192028Z"
    }
   },
   "outputs": [
    {
     "data": {
      "text/html": [
       "<html><body><h3>The average classification error is 0.9270</h3></body></html>"
      ],
      "text/plain": [
       "<IPython.core.display.HTML object>"
      ]
     },
     "metadata": {},
     "output_type": "display_data"
    },
    {
     "name": "stdout",
     "output_type": "stream",
     "text": [
      "\n",
      "Avg error: 0.9270\n",
      "\n",
      "['y' 'ŷ']\n",
      "[0 0]\n",
      "[0 0]\n",
      "[0 0]\n",
      "[0 0]\n",
      "[0 1]\n",
      "[0 0]\n",
      "[0 0]\n",
      "[0 0]\n",
      "[0 0]\n",
      "[0 0]\n",
      "[0 0]\n",
      "[0 0]\n",
      "[0 0]\n",
      "[0 0]\n",
      "[0 0]\n",
      "[0 0]\n",
      "[0 0]\n",
      "[0 0]\n",
      "[0 0]\n",
      "[0 0]\n",
      "[0 0]\n",
      "[0 0]\n",
      "[0 0]\n",
      "[0 0]\n",
      "[0 0]\n",
      "[0 1]\n",
      "[0 0]\n",
      "[0 0]\n",
      "[0 0]\n",
      "[0 0]\n",
      "[0 0]\n",
      "[0 0]\n",
      "[0 0]\n",
      "[0 0]\n",
      "[0 0]\n",
      "[0 0]\n",
      "[0 0]\n",
      "[0 0]\n",
      "[0 0]\n",
      "[0 0]\n",
      "[0 0]\n",
      "[0 0]\n",
      "[0 0]\n",
      "[0 0]\n",
      "[0 0]\n",
      "[0 0]\n",
      "[0 0]\n",
      "[0 0]\n",
      "[0 0]\n",
      "[0 0]\n",
      "[0 0]\n",
      "[0 0]\n",
      "[0 0]\n",
      "[0 0]\n",
      "[0 0]\n",
      "[0 0]\n",
      "[0 0]\n",
      "[0 0]\n",
      "[0 0]\n",
      "[1 1]\n",
      "[1 0]\n",
      "[1 2]\n",
      "[1 1]\n",
      "[1 1]\n",
      "[1 1]\n",
      "[1 0]\n",
      "[1 1]\n",
      "[1 1]\n",
      "[1 0]\n",
      "[1 1]\n",
      "[1 0]\n",
      "[1 1]\n",
      "[1 1]\n",
      "[1 1]\n",
      "[1 0]\n",
      "[1 1]\n",
      "[1 1]\n",
      "[1 1]\n",
      "[1 1]\n",
      "[1 1]\n",
      "[1 1]\n",
      "[1 0]\n",
      "[1 1]\n",
      "[1 2]\n",
      "[1 1]\n",
      "[1 1]\n",
      "[1 1]\n",
      "[1 1]\n",
      "[1 1]\n",
      "[1 1]\n",
      "[1 1]\n",
      "[1 1]\n",
      "[1 1]\n",
      "[1 1]\n",
      "[1 1]\n",
      "[1 0]\n",
      "[1 1]\n",
      "[1 1]\n",
      "[1 0]\n",
      "[1 1]\n",
      "[1 0]\n",
      "[1 1]\n",
      "[1 1]\n",
      "[1 1]\n",
      "[1 1]\n",
      "[1 1]\n",
      "[1 1]\n",
      "[1 1]\n",
      "[1 1]\n",
      "[1 1]\n",
      "[1 1]\n",
      "[1 1]\n",
      "[1 1]\n",
      "[1 1]\n",
      "[1 1]\n",
      "[1 1]\n",
      "[1 1]\n",
      "[1 1]\n",
      "[1 1]\n",
      "[1 1]\n",
      "[1 1]\n",
      "[1 1]\n",
      "[1 1]\n",
      "[1 1]\n",
      "[1 1]\n",
      "[1 1]\n",
      "[1 1]\n",
      "[1 1]\n",
      "[1 1]\n",
      "[1 1]\n",
      "[2 2]\n",
      "[2 2]\n",
      "[2 2]\n",
      "[2 2]\n",
      "[2 2]\n",
      "[2 2]\n",
      "[2 2]\n",
      "[2 2]\n",
      "[2 2]\n",
      "[2 2]\n",
      "[2 2]\n",
      "[2 2]\n",
      "[2 2]\n",
      "[2 2]\n",
      "[2 2]\n",
      "[2 2]\n",
      "[2 2]\n",
      "[2 2]\n",
      "[2 2]\n",
      "[2 2]\n",
      "[2 2]\n",
      "[2 2]\n",
      "[2 2]\n",
      "[2 2]\n",
      "[2 2]\n",
      "[2 2]\n",
      "[2 2]\n",
      "[2 2]\n",
      "[2 2]\n",
      "[2 2]\n",
      "[2 2]\n",
      "[2 2]\n",
      "[2 2]\n",
      "[2 2]\n",
      "[2 2]\n",
      "[2 2]\n",
      "[2 2]\n",
      "[2 2]\n",
      "[2 2]\n",
      "[2 2]\n",
      "[2 2]\n",
      "[2 2]\n",
      "[2 2]\n",
      "[2 2]\n",
      "[2 2]\n",
      "[2 2]\n",
      "[2 2]\n",
      "[2 2]\n",
      "\n"
     ]
    },
    {
     "data": {
      "text/html": [
       "<html><body><h3><br>Accuracy : 0.927<br><br></h3></body></html>"
      ],
      "text/plain": [
       "<IPython.core.display.HTML object>"
      ]
     },
     "metadata": {},
     "output_type": "display_data"
    },
    {
     "name": "stdout",
     "output_type": "stream",
     "text": [
      "\n"
     ]
    },
    {
     "data": {
      "text/html": [
       "<html><body><h3>Avg error: 0.9270<br><br>['y' 'ŷ']<br>[0 0]<br>[0 0]<br>[0 0]<br>[0 0]<br>[0 0]<br>[0 0]<br>[0 0]<br>[0 0]<br>[0 0]<br>[0 0]<br>[0 0]<br>[0 0]<br>[0 0]<br>[0 0]<br>[0 0]<br>[0 0]<br>[0 0]<br>[0 0]<br>[0 0]<br>[0 0]<br>[0 0]<br>[0 0]<br>[0 0]<br>[0 0]<br>[0 0]<br>[0 0]<br>[0 0]<br>[0 0]<br>[0 0]<br>[0 0]<br>[0 0]<br>[0 0]<br>[0 0]<br>[0 0]<br>[0 0]<br>[0 1]<br>[0 0]<br>[0 0]<br>[0 0]<br>[0 0]<br>[0 0]<br>[0 0]<br>[0 0]<br>[0 0]<br>[0 0]<br>[0 0]<br>[0 0]<br>[0 0]<br>[0 0]<br>[0 1]<br>[0 0]<br>[0 0]<br>[0 0]<br>[0 0]<br>[0 0]<br>[0 0]<br>[0 0]<br>[0 0]<br>[0 0]<br>[1 1]<br>[1 1]<br>[1 1]<br>[1 1]<br>[1 1]<br>[1 1]<br>[1 1]<br>[1 0]<br>[1 1]<br>[1 1]<br>[1 0]<br>[1 1]<br>[1 1]<br>[1 1]<br>[1 1]<br>[1 1]<br>[1 1]<br>[1 1]<br>[1 1]<br>[1 1]<br>[1 1]<br>[1 1]<br>[1 1]<br>[1 1]<br>[1 1]<br>[1 1]<br>[1 1]<br>[1 1]<br>[1 1]<br>[1 1]<br>[1 1]<br>[1 1]<br>[1 1]<br>[1 1]<br>[1 0]<br>[1 1]<br>[1 1]<br>[1 1]<br>[1 1]<br>[1 1]<br>[1 0]<br>[1 1]<br>[1 0]<br>[1 1]<br>[1 1]<br>[1 1]<br>[1 1]<br>[1 1]<br>[1 2]<br>[1 0]<br>[1 1]<br>[1 1]<br>[1 0]<br>[1 1]<br>[1 0]<br>[1 1]<br>[1 1]<br>[1 1]<br>[1 1]<br>[1 1]<br>[1 1]<br>[1 1]<br>[1 1]<br>[1 1]<br>[1 2]<br>[1 1]<br>[1 0]<br>[1 1]<br>[1 1]<br>[1 1]<br>[1 1]<br>[2 2]<br>[2 2]<br>[2 2]<br>[2 2]<br>[2 2]<br>[2 2]<br>[2 2]<br>[2 2]<br>[2 2]<br>[2 2]<br>[2 2]<br>[2 2]<br>[2 2]<br>[2 2]<br>[2 2]<br>[2 2]<br>[2 2]<br>[2 2]<br>[2 2]<br>[2 2]<br>[2 2]<br>[2 2]<br>[2 2]<br>[2 2]<br>[2 2]<br>[2 2]<br>[2 2]<br>[2 2]<br>[2 2]<br>[2 2]<br>[2 2]<br>[2 2]<br>[2 2]<br>[2 2]<br>[2 2]<br>[2 2]<br>[2 2]<br>[2 2]<br>[2 2]<br>[2 2]<br>[2 2]<br>[2 2]<br>[2 2]<br>[2 2]<br>[2 2]<br>[2 2]<br>[2 2]<br>[2 2]<br></h3></body></html>"
      ],
      "text/plain": [
       "<IPython.core.display.HTML object>"
      ]
     },
     "metadata": {},
     "output_type": "display_data"
    },
    {
     "name": "stdout",
     "output_type": "stream",
     "text": [
      "\n"
     ]
    }
   ],
   "source": [
    "Ŷ = bNet(data.X, output_type='ndarray', out_structural='1d_labels')\n",
    "CR = wuml.summarize_classification_result(data.Y, Ŷ)\n",
    "wuml.jupyter_print('\\nAccuracy : %.3f\\n\\n'%CR.avg_error())\n",
    "wuml.jupyter_print(CR.true_vs_predict(sort_based_on_label=True, print_result=False))"
   ]
  }
 ],
 "metadata": {
  "kernelspec": {
   "display_name": "Python 3",
   "language": "python",
   "name": "python3"
  },
  "language_info": {
   "codemirror_mode": {
    "name": "ipython",
    "version": 3
   },
   "file_extension": ".py",
   "mimetype": "text/x-python",
   "name": "python",
   "nbconvert_exporter": "python",
   "pygments_lexer": "ipython3",
   "version": "3.8.10"
  }
 },
 "nbformat": 4,
 "nbformat_minor": 2
}
