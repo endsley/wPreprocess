{
 "cells": [
  {
   "cell_type": "code",
   "execution_count": 1,
   "id": "c5c56a81",
   "metadata": {},
   "outputs": [
    {
     "name": "stderr",
     "output_type": "stream",
     "text": [
      "2021-10-19 13:55:17.536767: I tensorflow/stream_executor/platform/default/dso_loader.cc:49] Successfully opened dynamic library libcudart.so.11.0\n"
     ]
    },
    {
     "name": "stdout",
     "output_type": "stream",
     "text": [
      "         A       B       C       D   label\n",
      "0   0.5488  0.7152  0.6028  0.5449 -1.1010\n",
      "1   0.4237  0.6459  0.4376  0.8918 -5.6690\n",
      "2   0.9637  0.3834  0.7917  0.5289  0.7819\n",
      "3   0.5680  0.9256  0.0710  0.0871  3.5834\n",
      "4   0.0202  0.8326  0.7782  0.8700 -7.5046\n",
      "5   0.9786  0.7992  0.4615  0.7805 -1.0018\n",
      "6   0.1183  0.6399  0.1434  0.9447 -8.0479\n",
      "7   0.5218  0.4147  0.2646  0.7742 -4.1428\n",
      "8   0.4562  0.5684  0.0188  0.6176 -2.6073\n",
      "9   0.6121  0.6169  0.9437  0.6818 -2.3098\n",
      "10  0.3595  0.4370  0.6976  0.0602  1.8985\n",
      "11  0.6668  0.6706  0.2104  0.1289  3.3795\n",
      "12  0.3154  0.3637  0.5702  0.4386 -1.8187\n",
      "13  0.9884  0.1020  0.2089  0.1613  3.8171\n",
      "14  0.6531  0.2533  0.4663  0.2444  1.6280\n",
      "15  0.1590  0.1104  0.6563  0.1382 -0.2118\n",
      "16  0.1966  0.3687  0.8210  0.0971  0.6198\n",
      "17  0.8379  0.0961  0.9765  0.4687  0.1970\n",
      "18  0.9768  0.6048  0.7393  0.0392  5.7602\n",
      "19  0.2828  0.1202  0.2961  0.1187  0.5982\n",
      "20  0.3180  0.4143  0.0641  0.6925 -4.3534\n",
      "21  0.5666  0.2654  0.5232  0.0939  2.4780\n",
      "22  0.5759  0.9293  0.3186  0.6674 -1.8798\n",
      "23  0.1318  0.7163  0.2894  0.1832 -0.0537\n",
      "24  0.5865  0.0201  0.8289  0.0047  2.9306\n",
      "25  0.6778  0.2700  0.7352  0.9622 -5.7180\n",
      "26  0.2488  0.5762  0.5920  0.5723 -3.2667\n",
      "27  0.2231  0.9527  0.4471  0.8464 -5.9101\n",
      "28  0.6995  0.2974  0.8138  0.3965  0.5095\n",
      "29  0.8811  0.5813  0.8817  0.6925 -1.0020\n"
     ]
    }
   ],
   "source": [
    "#!/usr/bin/env python\n",
    "\n",
    "import wuml \n",
    "import numpy as np\n",
    "import scipy.stats\n",
    "from wplotlib import histograms\n",
    "from wplotlib import lines\n",
    "\n",
    "\n",
    "data = wuml.wData('../../data/shap_regress_example_uniform.csv', first_row_is_label=True)\n",
    "print(data)"
   ]
  },
  {
   "cell_type": "code",
   "execution_count": 2,
   "id": "3917fb27",
   "metadata": {},
   "outputs": [
    {
     "name": "stdout",
     "output_type": "stream",
     "text": [
      "              A         B         C         D     label\n",
      "A      1.000000  0.020198  0.064668  0.013744  0.124390\n",
      "B      0.020198  1.000000  0.060263  0.166303  0.121114\n",
      "C      0.064668  0.060263  1.000000  0.010036  0.034319\n",
      "D      0.013744  0.166303  0.010036  1.000000  0.642688\n",
      "label  0.124390  0.121114  0.034319  0.642688  1.000000\n"
     ]
    }
   ],
   "source": [
    "print(wuml.feature_wise_HSIC(data))"
   ]
  },
  {
   "cell_type": "code",
   "execution_count": 3,
   "id": "0bfac932",
   "metadata": {},
   "outputs": [
    {
     "name": "stdout",
     "output_type": "stream",
     "text": [
      "                0\n",
      "D label  0.642688\n",
      "B D      0.166303\n",
      "A label  0.124390\n",
      "B label  0.121114\n",
      "A C      0.064668\n"
     ]
    }
   ],
   "source": [
    "# This command will order list all pairs of dependencies from the highest\n",
    "print(wuml.feature_wise_HSIC(data, get_top_dependent_pairs=True))"
   ]
  },
  {
   "cell_type": "code",
   "execution_count": 4,
   "id": "460e712a",
   "metadata": {},
   "outputs": [
    {
     "name": "stdout",
     "output_type": "stream",
     "text": [
      "      label\n",
      "D  0.642688\n",
      "A  0.124390\n",
      "B  0.121114\n",
      "C  0.034319\n"
     ]
    }
   ],
   "source": [
    "# This command will order list pairs of dependencies only against the label from the highest\n",
    "print(wuml.feature_wise_HSIC(data, label_name='label', get_top_dependent_pairs=True))"
   ]
  },
  {
   "cell_type": "code",
   "execution_count": 5,
   "id": "0dbe821e",
   "metadata": {},
   "outputs": [
    {
     "name": "stdout",
     "output_type": "stream",
     "text": [
      "       feature_group\n",
      "label       0.922283\n",
      "D           0.525231\n"
     ]
    }
   ],
   "source": [
    "# This command will compare joint features against a list of labels\n",
    "X = data[:,0:3]\n",
    "Ys = data[:,3:5]\n",
    "depList = wuml.HSIC_of_feature_groups_vs_label_list(X, Ys)\n",
    "print(depList)"
   ]
  },
  {
   "cell_type": "code",
   "execution_count": 8,
   "id": "f9a62df6",
   "metadata": {},
   "outputs": [
    {
     "name": "stdout",
     "output_type": "stream",
     "text": [
      "     A    B    C    D    E     F\n",
      "0   NaN  NaN  NaN  NaN  NaN  7.0\n",
      "1   1.0  2.0  3.0  4.0  5.0  6.0\n",
      "2   1.0  2.0  3.0  3.0  3.0  4.0\n",
      "3   2.0  2.0  3.0  3.0  3.0  5.0\n",
      "4   NaN  2.0  3.0  3.0  3.0  3.0\n",
      "5   NaN  2.0  3.0  3.0  3.0  NaN\n",
      "6   NaN  2.0  3.0  3.0  3.0  NaN\n",
      "7   NaN  2.0  3.0  NaN  3.0  NaN\n",
      "8   NaN  2.0  3.0  3.0  3.0  NaN\n",
      "9   NaN  2.0  NaN  3.0  3.0  NaN\n",
      "10  NaN  2.0  NaN  NaN  3.0  NaN\n",
      "11  NaN  2.0  NaN  NaN  3.0  NaN\n",
      "12  NaN  2.0  NaN  NaN  3.0  NaN\n",
      "13  NaN  2.0  NaN  NaN  NaN  NaN\n",
      "14  NaN  2.0  NaN  NaN  NaN  NaN\n",
      "\n",
      "\n",
      "\n",
      "          A    B    C         D         E          F\n",
      "A   1.000000  0.0  0.0  0.222222  0.222222  0.241344\n",
      "B   0.000000  1.0  0.0  0.000000  0.000000  0.000000\n",
      "C   0.000000  0.0  1.0  0.000000  0.000000  0.000000\n",
      "D   0.222222  0.0  0.0  1.000000  0.437500  0.521159\n",
      "E   0.222222  0.0  0.0  0.437500  1.000000  0.521159\n",
      "F   0.241344  0.0  0.0  0.521159  0.521159  1.000000\n"
     ]
    }
   ],
   "source": [
    "# This function handles missing data as well by removing missing entries during pairwise HSIC\n",
    "data = wuml.wData('../../data/missin_example.csv', first_row_is_label=True)\n",
    "print(data)\n",
    "print('\\n\\n')\n",
    "print(wuml.feature_wise_HSIC(data))"
   ]
  },
  {
   "cell_type": "code",
   "execution_count": null,
   "id": "b9380506",
   "metadata": {},
   "outputs": [],
   "source": []
  }
 ],
 "metadata": {
  "kernelspec": {
   "display_name": "Python 3 (ipykernel)",
   "language": "python",
   "name": "python3"
  },
  "language_info": {
   "codemirror_mode": {
    "name": "ipython",
    "version": 3
   },
   "file_extension": ".py",
   "mimetype": "text/x-python",
   "name": "python",
   "nbconvert_exporter": "python",
   "pygments_lexer": "ipython3",
   "version": "3.7.10"
  }
 },
 "nbformat": 4,
 "nbformat_minor": 5
}
