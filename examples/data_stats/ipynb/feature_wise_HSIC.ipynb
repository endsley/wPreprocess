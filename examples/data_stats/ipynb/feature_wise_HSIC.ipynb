{
 "cells": [
  {
   "cell_type": "code",
   "execution_count": 1,
   "id": "c5c56a81",
   "metadata": {},
   "outputs": [
    {
     "name": "stdout",
     "output_type": "stream",
     "text": [
      "              A         B         C         D     label\n",
      "A      1.000000  0.274074  0.218082  0.221739  0.486334\n",
      "B      0.274074  1.000000  0.240899  0.278542  0.303847\n",
      "C      0.218082  0.240899  1.000000  0.312643  0.368070\n",
      "D      0.221739  0.278542  0.312643  1.000000  0.627464\n",
      "label  0.486334  0.303847  0.368070  0.627464  1.000000\n"
     ]
    }
   ],
   "source": [
    "#!/usr/bin/env python\n",
    "\n",
    "import wuml \n",
    "import numpy as np\n",
    "import scipy.stats\n",
    "from wplotlib import histograms\n",
    "from wplotlib import lines\n",
    "\n",
    "\n",
    "data = wuml.wData('../../data/shap_regress_example_uniform.csv', row_id_with_label=0)\n",
    "\n",
    "print(wuml.feature_wise_HSIC(data))"
   ]
  },
  {
   "cell_type": "code",
   "execution_count": 2,
   "id": "0bfac932",
   "metadata": {},
   "outputs": [
    {
     "name": "stdout",
     "output_type": "stream",
     "text": [
      "                0\n",
      "D label  0.627464\n",
      "A label  0.486334\n",
      "C label  0.368070\n",
      "  D      0.312643\n",
      "B label  0.303847\n"
     ]
    }
   ],
   "source": [
    "print(wuml.feature_wise_HSIC(data, get_top_dependent_pairs=True))"
   ]
  },
  {
   "cell_type": "code",
   "execution_count": 3,
   "id": "460e712a",
   "metadata": {},
   "outputs": [
    {
     "name": "stdout",
     "output_type": "stream",
     "text": [
      "          label\n",
      "label  1.000000\n",
      "D      0.627464\n",
      "A      0.486334\n",
      "C      0.368070\n",
      "B      0.303847\n"
     ]
    }
   ],
   "source": [
    "print(wuml.feature_wise_HSIC(data, label_name='label', get_top_dependent_pairs=True))"
   ]
  },
  {
   "cell_type": "code",
   "execution_count": null,
   "id": "f9a62df6",
   "metadata": {},
   "outputs": [],
   "source": []
  }
 ],
 "metadata": {
  "kernelspec": {
   "display_name": "Python 3",
   "language": "python",
   "name": "python3"
  },
  "language_info": {
   "codemirror_mode": {
    "name": "ipython",
    "version": 3
   },
   "file_extension": ".py",
   "mimetype": "text/x-python",
   "name": "python",
   "nbconvert_exporter": "python",
   "pygments_lexer": "ipython3",
   "version": "3.7.10"
  }
 },
 "nbformat": 4,
 "nbformat_minor": 5
}
