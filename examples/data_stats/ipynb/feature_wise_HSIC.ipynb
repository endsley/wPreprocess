{
 "cells": [
  {
   "cell_type": "code",
   "execution_count": 1,
   "metadata": {},
   "outputs": [],
   "source": [
    "#!/usr/bin/env python"
   ]
  },
  {
   "cell_type": "code",
   "execution_count": 2,
   "metadata": {},
   "outputs": [],
   "source": [
    "import os\n",
    "import sys\n",
    "if os.path.exists('/home/chieh/code/wPlotLib'):\n",
    "\tsys.path.insert(0,'/home/chieh/code/wPlotLib')\n",
    "if os.path.exists('/home/chieh/code/wuML'):\n",
    "\tsys.path.insert(0,'/home/chieh/code/wuML')"
   ]
  },
  {
   "cell_type": "code",
   "execution_count": 3,
   "metadata": {},
   "outputs": [],
   "source": [
    "import wuml\n",
    "import numpy as np\n",
    "import scipy.stats\n",
    "from wplotlib import histograms\n",
    "from wplotlib import lines"
   ]
  },
  {
   "cell_type": "code",
   "execution_count": 4,
   "metadata": {},
   "outputs": [],
   "source": [
    "data = wuml.wData('../../data/shap_regress_example_uniform.csv', first_row_is_label=True)"
   ]
  },
  {
   "cell_type": "code",
   "execution_count": 5,
   "metadata": {},
   "outputs": [
    {
     "name": "stdout",
     "output_type": "stream",
     "text": [
      "              A         B         C         D     label\n",
      "A      1.000000  0.023042  0.072468  0.015044  0.146385\n",
      "B      0.023042  1.000000  0.067133  0.180955  0.141689\n",
      "C      0.072468  0.067133  1.000000  0.010727  0.039437\n",
      "D      0.015044  0.180955  0.010727  1.000000  0.721366\n",
      "label  0.146385  0.141689  0.039437  0.721366  1.000000\n",
      "\n",
      "\n",
      "\n",
      "                0\n",
      "D label  0.721366\n",
      "B D      0.180955\n",
      "A label  0.146385\n",
      "B label  0.141689\n",
      "A C      0.072468\n",
      "\n",
      "\n",
      "\n",
      "      label\n",
      "D  0.721366\n",
      "A  0.146385\n",
      "B  0.141689\n",
      "C  0.039437\n"
     ]
    }
   ],
   "source": [
    "print(wuml.feature_wise_HSIC(data))\n",
    "print('\\n\\n')\n",
    "print(wuml.feature_wise_HSIC(data, get_top_dependent_pairs=True))\n",
    "print('\\n\\n')\n",
    "print(wuml.feature_wise_HSIC(data, label_name='label', get_top_dependent_pairs=True))"
   ]
  },
  {
   "cell_type": "markdown",
   "metadata": {},
   "source": [
    "This function handles missing data as well by removing missing entries during pairwise HSIC"
   ]
  },
  {
   "cell_type": "code",
   "execution_count": 6,
   "metadata": {},
   "outputs": [
    {
     "name": "stdout",
     "output_type": "stream",
     "text": [
      "\n",
      "Warning: 40 entries are missing.\n",
      "      A    B    C    D    E    F\n",
      "0   NaN  NaN  NaN  NaN  NaN  7.0\n",
      "1   1.0  2.0  3.0  4.0  5.0  6.0\n",
      "2   1.0  2.0  3.0  3.0  3.0  4.0\n",
      "3   2.0  2.0  3.0  3.0  3.0  5.0\n",
      "4   NaN  2.0  3.0  3.0  3.0  3.0\n",
      "5   NaN  2.0  3.0  3.0  3.0  NaN\n",
      "6   NaN  2.0  3.0  3.0  3.0  NaN\n",
      "7   NaN  2.0  3.0  NaN  3.0  NaN\n",
      "8   NaN  2.0  3.0  3.0  3.0  NaN\n",
      "9   NaN  2.0  NaN  3.0  3.0  NaN\n",
      "10  NaN  2.0  NaN  NaN  3.0  NaN\n",
      "11  NaN  2.0  NaN  NaN  3.0  NaN\n",
      "12  NaN  2.0  NaN  NaN  3.0  NaN\n",
      "13  NaN  2.0  NaN  NaN  NaN  NaN\n",
      "14  NaN  2.0  NaN  NaN  NaN  NaN\n",
      "\n",
      "\n",
      "\n",
      "          A    B    C         D         E         F\n",
      "A  1.000000  0.0  0.0  0.250000  0.250000  0.263726\n",
      "B  0.000000  1.0  0.0  0.000000  0.000000  0.000000\n",
      "C  0.000000  0.0  1.0  0.000000  0.000000  0.000000\n",
      "D  0.250000  0.0  0.0  1.000000  1.000000  0.615672\n",
      "E  0.250000  0.0  0.0  1.000000  1.000000  0.615672\n",
      "F  0.263726  0.0  0.0  0.615672  0.615672  1.000000\n"
     ]
    }
   ],
   "source": [
    "data = wuml.wData('../../data/missin_example.csv', first_row_is_label=True)\n",
    "print(data)\n",
    "print('\\n\\n')\n",
    "print(wuml.feature_wise_HSIC(data))"
   ]
  }
 ],
 "metadata": {
  "kernelspec": {
   "display_name": "Python 3",
   "language": "python",
   "name": "python3"
  },
  "language_info": {
   "codemirror_mode": {
    "name": "ipython",
    "version": 3
   },
   "file_extension": ".py",
   "mimetype": "text/x-python",
   "name": "python",
   "nbconvert_exporter": "python",
   "pygments_lexer": "ipython3",
   "version": "3.8.10"
  }
 },
 "nbformat": 4,
 "nbformat_minor": 2
}
