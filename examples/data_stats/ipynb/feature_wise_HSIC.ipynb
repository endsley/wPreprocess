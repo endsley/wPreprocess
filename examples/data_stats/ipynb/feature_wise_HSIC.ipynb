{
 "cells": [
  {
   "cell_type": "code",
   "execution_count": 1,
   "id": "c5c56a81",
   "metadata": {},
   "outputs": [
    {
     "name": "stdout",
     "output_type": "stream",
     "text": [
      "              A         B         C         D     label\n",
      "A      1.000000  0.020198  0.064668  0.013744  0.124390\n",
      "B      0.020198  1.000000  0.060263  0.166303  0.121114\n",
      "C      0.064668  0.060263  1.000000  0.010036  0.034319\n",
      "D      0.013744  0.166303  0.010036  1.000000  0.642688\n",
      "label  0.124390  0.121114  0.034319  0.642688  1.000000\n"
     ]
    }
   ],
   "source": [
    "#!/usr/bin/env python\n",
    "\n",
    "import wuml \n",
    "import numpy as np\n",
    "import scipy.stats\n",
    "from wplotlib import histograms\n",
    "from wplotlib import lines\n",
    "\n",
    "\n",
    "data = wuml.wData('../../data/shap_regress_example_uniform.csv', row_id_with_label=0)\n",
    "\n",
    "print(wuml.feature_wise_HSIC(data))"
   ]
  },
  {
   "cell_type": "code",
   "execution_count": 2,
   "id": "0bfac932",
   "metadata": {},
   "outputs": [
    {
     "name": "stdout",
     "output_type": "stream",
     "text": [
      "                0\n",
      "D label  0.642688\n",
      "B D      0.166303\n",
      "A label  0.124390\n",
      "B label  0.121114\n",
      "A C      0.064668\n"
     ]
    }
   ],
   "source": [
    "print(wuml.feature_wise_HSIC(data, get_top_dependent_pairs=True))"
   ]
  },
  {
   "cell_type": "code",
   "execution_count": 3,
   "id": "460e712a",
   "metadata": {},
   "outputs": [
    {
     "name": "stdout",
     "output_type": "stream",
     "text": [
      "          label\n",
      "label  1.000000\n",
      "D      0.642688\n",
      "A      0.124390\n",
      "B      0.121114\n",
      "C      0.034319\n"
     ]
    }
   ],
   "source": [
    "print(wuml.feature_wise_HSIC(data, label_name='label', get_top_dependent_pairs=True))"
   ]
  },
  {
   "cell_type": "code",
   "execution_count": 4,
   "id": "f9a62df6",
   "metadata": {},
   "outputs": [
    {
     "name": "stdout",
     "output_type": "stream",
     "text": [
      "     A    B    C    D    E     F\n",
      "0   NaN  NaN  NaN  NaN  NaN  7.0\n",
      "1   1.0  2.0  3.0  4.0  5.0  6.0\n",
      "2   1.0  2.0  3.0  3.0  3.0  4.0\n",
      "3   2.0  2.0  3.0  3.0  3.0  5.0\n",
      "4   NaN  2.0  3.0  3.0  3.0  3.0\n",
      "5   NaN  2.0  3.0  3.0  3.0  NaN\n",
      "6   NaN  2.0  3.0  3.0  3.0  NaN\n",
      "7   NaN  2.0  3.0  NaN  3.0  NaN\n",
      "8   NaN  2.0  3.0  3.0  3.0  NaN\n",
      "9   NaN  2.0  NaN  3.0  3.0  NaN\n",
      "10  NaN  2.0  NaN  NaN  3.0  NaN\n",
      "11  NaN  2.0  NaN  NaN  3.0  NaN\n",
      "12  NaN  2.0  NaN  NaN  3.0  NaN\n",
      "13  NaN  2.0  NaN  NaN  NaN  NaN\n",
      "14  NaN  2.0  NaN  NaN  NaN  NaN\n",
      "\n",
      "\n",
      "\n",
      "          A    B    C         D         E          F\n",
      "A   1.000000  0.0  0.0  0.222222  0.222222  0.241344\n",
      "B   0.000000  1.0  0.0  0.000000  0.000000  0.000000\n",
      "C   0.000000  0.0  1.0  0.000000  0.000000  0.000000\n",
      "D   0.222222  0.0  0.0  1.000000  0.437500  0.521159\n",
      "E   0.222222  0.0  0.0  0.437500  1.000000  0.521159\n",
      "F   0.241344  0.0  0.0  0.521159  0.521159  1.000000\n"
     ]
    }
   ],
   "source": [
    "# This function handles missing data as well by removing missing entries during pairwise HSIC\n",
    "data = wuml.wData('../../data/missin_example.csv', row_id_with_label=0)\n",
    "print(data)\n",
    "print('\\n\\n')\n",
    "print(wuml.feature_wise_HSIC(data))"
   ]
  },
  {
   "cell_type": "code",
   "execution_count": null,
   "id": "deb571d8",
   "metadata": {},
   "outputs": [],
   "source": []
  }
 ],
 "metadata": {
  "kernelspec": {
   "display_name": "Python 3",
   "language": "python",
   "name": "python3"
  },
  "language_info": {
   "codemirror_mode": {
    "name": "ipython",
    "version": 3
   },
   "file_extension": ".py",
   "mimetype": "text/x-python",
   "name": "python",
   "nbconvert_exporter": "python",
   "pygments_lexer": "ipython3",
   "version": "3.7.10"
  }
 },
 "nbformat": 4,
 "nbformat_minor": 5
}
