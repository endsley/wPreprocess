{
 "cells": [
  {
   "cell_type": "code",
   "execution_count": null,
   "id": "59ce4815",
   "metadata": {},
   "outputs": [],
   "source": [
    "#!/usr/bin/env python\n",
    "\n",
    "import wuml\n",
    "\n",
    "## Show featurehistogram after data decimation\n",
    "## \theader : the feature name you want to use to see the histogram. \n",
    "## \tindex_col : if 0, it means the 1st row of dataFrame is the feature names. None would be nothing\n",
    "data = wuml.wData('examples/data/Chem_decimated_imputed.csv', row_id_with_label=0)\n",
    "\n",
    "\n",
    "## You can pick a column from the data using its column name, here it is 'finalga_best'\n",
    "wuml.get_feature_histograms(data['finalga_best'], title='Histogram of Data Labels', ylogScale=False)\n",
    "wuml.get_feature_histograms(data['finalga_best'], title='Histogram of Data Labels', ylogScale=True)"
   ]
  }
 ],
 "metadata": {
  "kernelspec": {
   "display_name": "Python 3",
   "language": "python",
   "name": "python3"
  },
  "language_info": {
   "codemirror_mode": {
    "name": "ipython",
    "version": 3
   },
   "file_extension": ".py",
   "mimetype": "text/x-python",
   "name": "python",
   "nbconvert_exporter": "python",
   "pygments_lexer": "ipython3",
   "version": "3.7.10"
  }
 },
 "nbformat": 4,
 "nbformat_minor": 5
}
