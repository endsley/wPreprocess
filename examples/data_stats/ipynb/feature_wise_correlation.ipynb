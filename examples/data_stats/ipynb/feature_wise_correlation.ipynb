{
 "cells": [
  {
   "cell_type": "code",
   "execution_count": 1,
   "id": "781d4116",
   "metadata": {},
   "outputs": [
    {
     "name": "stdout",
     "output_type": "stream",
     "text": [
      "              A         B         C         D     label\n",
      "A      1.000000 -0.165869  0.216040 -0.099781  0.521788\n",
      "B     -0.165869  1.000000 -0.281401  0.417273 -0.331656\n",
      "C      0.216040 -0.281401  1.000000 -0.040410  0.101090\n",
      "D     -0.099781  0.417273 -0.040410  1.000000 -0.893042\n",
      "label  0.521788 -0.331656  0.101090 -0.893042  1.000000\n"
     ]
    }
   ],
   "source": [
    "#!/usr/bin/env python\n",
    "\n",
    "import wuml \n",
    "import numpy as np\n",
    "import scipy.stats\n",
    "from wplotlib import histograms\n",
    "from wplotlib import lines\n",
    "\n",
    "\n",
    "data = wuml.wData('../../data/shap_regress_example_uniform.csv', row_id_with_label=0)\n",
    "\n",
    "print(wuml.feature_wise_correlation(data))"
   ]
  },
  {
   "cell_type": "code",
   "execution_count": 2,
   "id": "52172dc5",
   "metadata": {},
   "outputs": [
    {
     "name": "stdout",
     "output_type": "stream",
     "text": [
      "                0\n",
      "D label -0.893042\n",
      "A label  0.521788\n",
      "B D      0.417273\n",
      "  label -0.331656\n",
      "  C     -0.281401\n"
     ]
    }
   ],
   "source": [
    "print(wuml.feature_wise_correlation(data, get_top_corr_pairs=True))"
   ]
  },
  {
   "cell_type": "code",
   "execution_count": 3,
   "id": "232a6af2",
   "metadata": {},
   "outputs": [
    {
     "name": "stdout",
     "output_type": "stream",
     "text": [
      "          label\n",
      "label  1.000000\n",
      "D     -0.893042\n",
      "A      0.521788\n",
      "B     -0.331656\n",
      "C      0.101090\n"
     ]
    }
   ],
   "source": [
    "print(wuml.feature_wise_correlation(data, label_name='label', get_top_corr_pairs=True))"
   ]
  },
  {
   "cell_type": "code",
   "execution_count": null,
   "id": "76cd44e0",
   "metadata": {},
   "outputs": [],
   "source": []
  }
 ],
 "metadata": {
  "kernelspec": {
   "display_name": "Python 3",
   "language": "python",
   "name": "python3"
  },
  "language_info": {
   "codemirror_mode": {
    "name": "ipython",
    "version": 3
   },
   "file_extension": ".py",
   "mimetype": "text/x-python",
   "name": "python",
   "nbconvert_exporter": "python",
   "pygments_lexer": "ipython3",
   "version": "3.7.10"
  }
 },
 "nbformat": 4,
 "nbformat_minor": 5
}
