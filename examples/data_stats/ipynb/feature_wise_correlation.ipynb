{
 "cells": [
  {
   "cell_type": "code",
   "execution_count": 4,
   "id": "8183b874",
   "metadata": {},
   "outputs": [
    {
     "name": "stdout",
     "output_type": "stream",
     "text": [
      "         A       B       C       D   label\n",
      "0   0.5488  0.7152  0.6028  0.5449 -1.1010\n",
      "1   0.4237  0.6459  0.4376  0.8918 -5.6690\n",
      "2   0.9637  0.3834  0.7917  0.5289  0.7819\n",
      "3   0.5680  0.9256  0.0710  0.0871  3.5834\n",
      "4   0.0202  0.8326  0.7782  0.8700 -7.5046\n",
      "5   0.9786  0.7992  0.4615  0.7805 -1.0018\n",
      "6   0.1183  0.6399  0.1434  0.9447 -8.0479\n",
      "7   0.5218  0.4147  0.2646  0.7742 -4.1428\n",
      "8   0.4562  0.5684  0.0188  0.6176 -2.6073\n",
      "9   0.6121  0.6169  0.9437  0.6818 -2.3098\n",
      "10  0.3595  0.4370  0.6976  0.0602  1.8985\n",
      "11  0.6668  0.6706  0.2104  0.1289  3.3795\n",
      "12  0.3154  0.3637  0.5702  0.4386 -1.8187\n",
      "13  0.9884  0.1020  0.2089  0.1613  3.8171\n",
      "14  0.6531  0.2533  0.4663  0.2444  1.6280\n",
      "15  0.1590  0.1104  0.6563  0.1382 -0.2118\n",
      "16  0.1966  0.3687  0.8210  0.0971  0.6198\n",
      "17  0.8379  0.0961  0.9765  0.4687  0.1970\n",
      "18  0.9768  0.6048  0.7393  0.0392  5.7602\n",
      "19  0.2828  0.1202  0.2961  0.1187  0.5982\n",
      "20  0.3180  0.4143  0.0641  0.6925 -4.3534\n",
      "21  0.5666  0.2654  0.5232  0.0939  2.4780\n",
      "22  0.5759  0.9293  0.3186  0.6674 -1.8798\n",
      "23  0.1318  0.7163  0.2894  0.1832 -0.0537\n",
      "24  0.5865  0.0201  0.8289  0.0047  2.9306\n",
      "25  0.6778  0.2700  0.7352  0.9622 -5.7180\n",
      "26  0.2488  0.5762  0.5920  0.5723 -3.2667\n",
      "27  0.2231  0.9527  0.4471  0.8464 -5.9101\n",
      "28  0.6995  0.2974  0.8138  0.3965  0.5095\n",
      "29  0.8811  0.5813  0.8817  0.6925 -1.0020\n"
     ]
    }
   ],
   "source": [
    "#!/usr/bin/env python\n",
    "\n",
    "import wuml \n",
    "import numpy as np\n",
    "import scipy.stats\n",
    "from wplotlib import histograms\n",
    "from wplotlib import lines\n",
    "\n",
    "\n",
    "data = wuml.wData('../../data/shap_regress_example_uniform.csv', row_id_with_label=0)\n",
    "print(data)"
   ]
  },
  {
   "cell_type": "code",
   "execution_count": 5,
   "id": "642c8285",
   "metadata": {},
   "outputs": [
    {
     "name": "stdout",
     "output_type": "stream",
     "text": [
      "              A         B         C         D     label\n",
      "A      1.000000 -0.165869  0.216040 -0.099781  0.521788\n",
      "B     -0.165869  1.000000 -0.281401  0.417273 -0.331656\n",
      "C      0.216040 -0.281401  1.000000 -0.040410  0.101090\n",
      "D     -0.099781  0.417273 -0.040410  1.000000 -0.893042\n",
      "label  0.521788 -0.331656  0.101090 -0.893042  1.000000\n"
     ]
    }
   ],
   "source": [
    "print(wuml.feature_wise_correlation(data))"
   ]
  },
  {
   "cell_type": "code",
   "execution_count": 6,
   "id": "9a2eaf64",
   "metadata": {},
   "outputs": [
    {
     "name": "stdout",
     "output_type": "stream",
     "text": [
      "                0\n",
      "D label -0.893042\n",
      "A label  0.521788\n",
      "B D      0.417273\n",
      "  label -0.331656\n",
      "  C     -0.281401\n"
     ]
    }
   ],
   "source": [
    "print(wuml.feature_wise_correlation(data, get_top_corr_pairs=True))"
   ]
  },
  {
   "cell_type": "code",
   "execution_count": 7,
   "id": "ca43882c",
   "metadata": {},
   "outputs": [
    {
     "name": "stdout",
     "output_type": "stream",
     "text": [
      "          label\n",
      "label  1.000000\n",
      "D     -0.893042\n",
      "A      0.521788\n",
      "B     -0.331656\n",
      "C      0.101090\n"
     ]
    }
   ],
   "source": [
    "print(wuml.feature_wise_correlation(data, label_name='label', get_top_corr_pairs=True))"
   ]
  },
  {
   "cell_type": "code",
   "execution_count": null,
   "id": "1de7cc5c",
   "metadata": {},
   "outputs": [],
   "source": []
  }
 ],
 "metadata": {
  "kernelspec": {
   "display_name": "Python 3",
   "language": "python",
   "name": "python3"
  },
  "language_info": {
   "codemirror_mode": {
    "name": "ipython",
    "version": 3
   },
   "file_extension": ".py",
   "mimetype": "text/x-python",
   "name": "python",
   "nbconvert_exporter": "python",
   "pygments_lexer": "ipython3",
   "version": "3.7.10"
  }
 },
 "nbformat": 4,
 "nbformat_minor": 5
}
