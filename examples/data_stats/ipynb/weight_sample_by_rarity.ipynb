{
 "cells": [
  {
   "cell_type": "code",
   "execution_count": null,
   "id": "c52dd67e",
   "metadata": {},
   "outputs": [],
   "source": [
    "#!/usr/bin/env python\n",
    "\n",
    "import wuml \n",
    "import numpy as np\n",
    "import scipy.stats\n",
    "from wplotlib import histograms\n",
    "from wplotlib import lines\n",
    "\n",
    "\n",
    "\t\n",
    "\t\n",
    "'''\n",
    "\tIdentifies a weight associated with each sample based on its likelihood. \n",
    "\tGiven p(X1) > p(Xi) for all i\n",
    "\tUsing KDE if p(X1)/p(X2)=2  the weight for X1 = 1, and X2 = 2\n",
    "\tThis means that if X1 is the most likely samples and if X1 is \n",
    "\t2 times more likely than X2, then X1 would have a weight of 1\n",
    "\tand X2 would have a weight of 2.\n",
    "\tThis weight can then be used to balance the sample importance for regression\n",
    "\n",
    "'''\n",
    "\n",
    "data = wuml.wData('../../data/Chem_decimated_imputed.csv', row_id_with_label=0)\n",
    "data.delete_column('id')\t# the id should not be part of the likelihood \n",
    "\n",
    "sample_weights = wuml.get_likelihood_weight(data['finalga_best'])\n",
    "print(wuml.output_two_columns_side_by_side(data['finalga_best'], sample_weights, labels=['age','weight'], rounding=3))\n",
    "\n",
    "\n"
   ]
  }
 ],
 "metadata": {
  "kernelspec": {
   "display_name": "Python 3",
   "language": "python",
   "name": "python3"
  },
  "language_info": {
   "codemirror_mode": {
    "name": "ipython",
    "version": 3
   },
   "file_extension": ".py",
   "mimetype": "text/x-python",
   "name": "python",
   "nbconvert_exporter": "python",
   "pygments_lexer": "ipython3",
   "version": "3.7.10"
  }
 },
 "nbformat": 4,
 "nbformat_minor": 5
}
