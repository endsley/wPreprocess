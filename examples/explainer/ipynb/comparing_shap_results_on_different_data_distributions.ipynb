{
 "cells": [
  {
   "cell_type": "code",
   "execution_count": 2,
   "id": "660da4b1",
   "metadata": {},
   "outputs": [
    {
     "name": "stdout",
     "output_type": "stream",
     "text": [
      "Network Info:\n",
      "\tLearning rate: 0.001\n",
      "\tMax number of epochs: 150\n",
      "\tCost Function: mse\n",
      "\tTrain Loop Callback: None\n",
      "\tCuda Available: True\n",
      "\tNetwork Structure\n",
      "\t\tLinear(in_features=4, out_features=100, bias=True) , relu\n",
      "\t\tLinear(in_features=100, out_features=100, bias=True) , relu\n",
      "\t\tLinear(in_features=100, out_features=1, bias=True) , none\n",
      "\n"
     ]
    },
    {
     "data": {
      "application/vnd.jupyter.widget-view+json": {
       "model_id": "9b9f5ae0c7da4ff985be822d149dd46f",
       "version_major": 2,
       "version_minor": 0
      },
      "text/plain": [
       "  0%|          | 0/30 [00:00<?, ?it/s]"
      ]
     },
     "metadata": {},
     "output_type": "display_data"
    },
    {
     "name": "stdout",
     "output_type": "stream",
     "text": [
      "Notice that since x1 and x2 can be negative, we get both negative and positive influence.\n",
      "This is not correct since they should only have positive influence.\n",
      "[[  5.7707  -0.4105   0.8504 -37.9866]\n",
      " [  2.0252   0.6373   0.3328   0.    ]\n",
      " [  4.0259  -1.4754   0.8312 -42.6442]\n",
      " [  8.0883   0.9727   1.2552 -12.336 ]\n",
      " [  6.4232  -0.3194   0.9843 -41.3612]\n",
      " [ -4.3675  -2.0129   0.366  -40.0813]\n",
      " [  4.5051   0.7612   1.4451 -13.8043]\n",
      " [ -0.615   -0.85     0.0306 -40.2653]\n",
      " [ -0.4405  -2.0313   0.3051 -41.1318]\n",
      " [  1.8015  -1.9359   0.1402 -41.1875]\n",
      " [  0.6655   0.948    0.6191 -13.1796]\n",
      " [  5.3013  -1.401    0.1612 -41.4047]\n",
      " [  3.3237  -0.0522   0.4924 -28.6058]\n",
      " [  0.5113  -1.6883   0.4047 -41.6935]\n",
      " [  1.6619  -3.3661   0.0444 -33.444 ]\n",
      " [  1.641    0.7564   1.3106 -13.1853]\n",
      " [  5.5881  -1.329    0.7302 -41.8859]\n",
      " [ -0.9981   0.8197   0.5414 -12.846 ]\n",
      " [  1.2982  -0.8012   0.5122 -41.6026]\n",
      " [ -3.5984  -2.1028   0.0422 -40.0987]\n",
      " [-12.0207  -1.4311   0.0813 -38.1562]\n",
      " [  2.789   -1.6861   0.7498 -42.426 ]\n",
      " [  3.5003  -1.7492   0.3817 -41.7227]\n",
      " [ -3.2592  -2.0297   0.4191 -40.5444]\n",
      " [  7.2735  -0.3732   0.2268 -40.0672]\n",
      " [ -6.7224  -1.8784   0.2962 -39.4223]\n",
      " [  0.2055  -0.0625   0.4155 -27.4692]\n",
      " [ -0.792   -1.9303   0.1713 -41.0577]\n",
      " [  5.5436   0.5496   1.3891   0.    ]\n",
      " [  5.8092   0.3411   0.0575 -12.5416]]\n"
     ]
    }
   ],
   "source": [
    "#!/usr/bin/env python\n",
    "import wuml\n",
    "\n",
    "\n",
    "##\tWe generated a synthetic data for regression with 4 dimensions where\n",
    "##\tx1 x2 has positive influence\n",
    "##\tx3 has no influence\n",
    "##\tx4 has negative influence\n",
    "##\n",
    "##\tx1 has normal distribution\n",
    "##\tx2 is exponential distribution but minus 2 so it could be negative\n",
    "##\tx3 is uniform but shouldn't matter\n",
    "##\tx4 is categorical distribution.\n",
    "\n",
    "\n",
    "data = wuml.wData(xpath='../../data/shap_regress_example_mix_distributions.csv', batch_size=20, \n",
    "\t\t\t\t\tlabel_type='continuous', label_column_name='label', row_id_with_label=0)\n",
    "\n",
    "\n",
    "\n",
    "#\tExample 1\n",
    "EXP = wuml.explainer(data, \tloss='mse',\t\t# This will create a network for regression and explain instance wise \n",
    "\t\t\t\t\t\tnetworkStructure=[(100,'relu'),(100,'relu'),(1,'none')], \n",
    "\t\t\t\t\t\tmax_epoch=150, learning_rate=0.001, print_network_training_status=False)\n",
    "\n",
    "# Show the explanation results\n",
    "explanation = EXP(data)\t# outputs the weight importance\n",
    "print('Notice that since x1 and x2 can be negative, we get both negative and positive influence.')\n",
    "print('This is not correct since they should only have positive influence.')\n",
    "print(explanation)\n",
    "\n"
   ]
  },
  {
   "cell_type": "code",
   "execution_count": 3,
   "id": "ef914a09",
   "metadata": {},
   "outputs": [
    {
     "name": "stdout",
     "output_type": "stream",
     "text": [
      "Network Info:\n",
      "\tLearning rate: 0.001\n",
      "\tMax number of epochs: 150\n",
      "\tCost Function: mse\n",
      "\tTrain Loop Callback: None\n",
      "\tCuda Available: True\n",
      "\tNetwork Structure\n",
      "\t\tLinear(in_features=4, out_features=100, bias=True) , relu\n",
      "\t\tLinear(in_features=100, out_features=100, bias=True) , relu\n",
      "\t\tLinear(in_features=100, out_features=1, bias=True) , none\n",
      "\n"
     ]
    },
    {
     "data": {
      "application/vnd.jupyter.widget-view+json": {
       "model_id": "7d380264f35a40b7bdb5c6ccdd85986d",
       "version_major": 2,
       "version_minor": 0
      },
      "text/plain": [
       "  0%|          | 0/30 [00:00<?, ?it/s]"
      ]
     },
     "metadata": {},
     "output_type": "display_data"
    },
    {
     "name": "stdout",
     "output_type": "stream",
     "text": [
      "Notice that centering does not help since x1, x2, x4 can be both positive and negative, which is not correct.\n",
      "[[  1.1484   3.8267  -3.3385 -12.6421]\n",
      " [ -0.15     1.9452  -3.7451  21.0429]\n",
      " [  1.1304  -2.1691  -7.0074 -13.716 ]\n",
      " [  0.8319  -1.0617  -0.0325  16.8735]\n",
      " [  0.9595   2.3005  -7.155  -13.3308]\n",
      " [ -7.2198  -6.432    0.2    -14.26  ]\n",
      " [  1.233    1.7575  -3.6329  15.0025]\n",
      " [ -2.4326   2.2691  -8.57   -14.3686]\n",
      " [ -2.1586  -4.5926  -1.8872 -14.891 ]\n",
      " [ -0.109   -5.5311  -5.7571 -14.6975]\n",
      " [ -1.2801  -2.7374  -0.9635  16.3623]\n",
      " [  2.1424  -2.3594  -5.2349 -14.9297]\n",
      " [  1.0369   0.6144  -1.0328   6.2908]\n",
      " [ -1.0877  -1.2193  -0.0955 -15.5555]\n",
      " [  0.0032   0.9637  -5.3322 -13.092 ]\n",
      " [ -0.3537  -4.9325  -1.93    15.3835]\n",
      " [  1.2721  -4.3411  -0.1319 -14.8997]\n",
      " [ -3.1956  -4.8033  -1.3861  16.9366]\n",
      " [ -0.3762   1.7035   0.118  -15.1711]\n",
      " [ -6.4425  -3.8678  -6.527  -14.04  ]\n",
      " [-20.3095  -0.8225   0.0778 -13.3596]\n",
      " [  0.5112  -3.7524  -5.66   -13.8274]\n",
      " [  1.1124  -5.2371  -1.1131 -15.4046]\n",
      " [ -5.5941  -5.7538  -0.3962 -14.3029]\n",
      " [  1.2308   1.7797  -4.1653 -14.0007]\n",
      " [-10.4945  -5.1394  -0.8286 -13.6958]\n",
      " [ -1.8318  -4.7975  -1.97     6.2814]\n",
      " [ -2.5283  -2.3333  -4.2151 -14.6284]\n",
      " [  1.836    3.4352  -0.5234  19.3575]\n",
      " [  2.1495  -4.9746  -6.5922  18.8451]]\n"
     ]
    }
   ],
   "source": [
    "#\tExample 2\n",
    "Cdata = wuml.center_and_scale(data)\n",
    "EXP2 = wuml.explainer(Cdata, \tloss='mse',\t\t# This will create a network for regression and explain instance wise \n",
    "\t\t\t\t\t\tnetworkStructure=[(100,'relu'),(100,'relu'),(1,'none')], \n",
    "\t\t\t\t\t\tmax_epoch=150, learning_rate=0.001, print_network_training_status=False)\n",
    "\n",
    "# Show the explanation results\n",
    "explanation = EXP2(Cdata)\t# outputs the weight importance\n",
    "print('Notice that centering does not help since x1, x2, x4 can be both positive and negative, which is not correct.')\n",
    "print(explanation)"
   ]
  },
  {
   "cell_type": "code",
   "execution_count": 4,
   "id": "6711014a",
   "metadata": {},
   "outputs": [
    {
     "name": "stdout",
     "output_type": "stream",
     "text": [
      "Network Info:\n",
      "\tLearning rate: 0.001\n",
      "\tMax number of epochs: 600\n",
      "\tCost Function: mse\n",
      "\tTrain Loop Callback: None\n",
      "\tCuda Available: True\n",
      "\tNetwork Structure\n",
      "\t\tLinear(in_features=4, out_features=600, bias=True) , relu\n",
      "\t\tLinear(in_features=600, out_features=600, bias=True) , relu\n",
      "\t\tLinear(in_features=600, out_features=600, bias=True) , relu\n",
      "\t\tLinear(in_features=600, out_features=1, bias=True) , none\n",
      "\n"
     ]
    },
    {
     "ename": "UnboundLocalError",
     "evalue": "local variable 'X' referenced before assignment",
     "output_type": "error",
     "traceback": [
      "\u001b[0;31m---------------------------------------------------------------------------\u001b[0m",
      "\u001b[0;31mUnboundLocalError\u001b[0m                         Traceback (most recent call last)",
      "\u001b[0;32m<ipython-input-4-a008716ab72b>\u001b[0m in \u001b[0;36m<module>\u001b[0;34m\u001b[0m\n\u001b[1;32m      7\u001b[0m \u001b[0;31m# Show the regression results\u001b[0m\u001b[0;34m\u001b[0m\u001b[0;34m\u001b[0m\u001b[0;34m\u001b[0m\u001b[0m\n\u001b[1;32m      8\u001b[0m \u001b[0mŶ\u001b[0m \u001b[0;34m=\u001b[0m \u001b[0mEXP3\u001b[0m\u001b[0;34m.\u001b[0m\u001b[0mnet\u001b[0m\u001b[0;34m(\u001b[0m\u001b[0mUdata\u001b[0m\u001b[0;34m,\u001b[0m \u001b[0moutput_type\u001b[0m\u001b[0;34m=\u001b[0m\u001b[0;34m'ndarray'\u001b[0m\u001b[0;34m)\u001b[0m\u001b[0;34m\u001b[0m\u001b[0;34m\u001b[0m\u001b[0m\n\u001b[0;32m----> 9\u001b[0;31m \u001b[0mSR_train\u001b[0m \u001b[0;34m=\u001b[0m \u001b[0mwuml\u001b[0m\u001b[0;34m.\u001b[0m\u001b[0msummarize_regression_result\u001b[0m\u001b[0;34m(\u001b[0m\u001b[0mUdata\u001b[0m\u001b[0;34m.\u001b[0m\u001b[0mY\u001b[0m\u001b[0;34m,\u001b[0m \u001b[0mŶ\u001b[0m\u001b[0;34m)\u001b[0m\u001b[0;34m\u001b[0m\u001b[0;34m\u001b[0m\u001b[0m\n\u001b[0m\u001b[1;32m     10\u001b[0m \u001b[0mprint\u001b[0m\u001b[0;34m(\u001b[0m\u001b[0mSR_train\u001b[0m\u001b[0;34m.\u001b[0m\u001b[0mtrue_vs_predict\u001b[0m\u001b[0;34m(\u001b[0m\u001b[0;34m)\u001b[0m\u001b[0;34m)\u001b[0m\u001b[0;34m\u001b[0m\u001b[0;34m\u001b[0m\u001b[0m\n\u001b[1;32m     11\u001b[0m \u001b[0;34m\u001b[0m\u001b[0m\n",
      "\u001b[0;32m~/App/miniconda/lib/python3.7/site-packages/wuml/IO.py\u001b[0m in \u001b[0;36m__init__\u001b[0;34m(self, y, ŷ)\u001b[0m\n\u001b[1;32m    153\u001b[0m \u001b[0;32mclass\u001b[0m \u001b[0msummarize_regression_result\u001b[0m\u001b[0;34m:\u001b[0m\u001b[0;34m\u001b[0m\u001b[0;34m\u001b[0m\u001b[0m\n\u001b[1;32m    154\u001b[0m         \u001b[0;32mdef\u001b[0m \u001b[0m__init__\u001b[0m\u001b[0;34m(\u001b[0m\u001b[0mself\u001b[0m\u001b[0;34m,\u001b[0m \u001b[0my\u001b[0m\u001b[0;34m,\u001b[0m \u001b[0mŷ\u001b[0m\u001b[0;34m)\u001b[0m\u001b[0;34m:\u001b[0m\u001b[0;34m\u001b[0m\u001b[0;34m\u001b[0m\u001b[0m\n\u001b[0;32m--> 155\u001b[0;31m                 \u001b[0my\u001b[0m \u001b[0;34m=\u001b[0m \u001b[0mnp\u001b[0m\u001b[0;34m.\u001b[0m\u001b[0matleast_2d\u001b[0m\u001b[0;34m(\u001b[0m\u001b[0mwuml\u001b[0m\u001b[0;34m.\u001b[0m\u001b[0mensure_numpy\u001b[0m\u001b[0;34m(\u001b[0m\u001b[0my\u001b[0m\u001b[0;34m,\u001b[0m \u001b[0mrounding\u001b[0m\u001b[0;34m=\u001b[0m\u001b[0;36m2\u001b[0m\u001b[0;34m)\u001b[0m\u001b[0;34m)\u001b[0m\u001b[0;34m\u001b[0m\u001b[0;34m\u001b[0m\u001b[0m\n\u001b[0m\u001b[1;32m    156\u001b[0m                 \u001b[0mŷ\u001b[0m \u001b[0;34m=\u001b[0m \u001b[0mnp\u001b[0m\u001b[0;34m.\u001b[0m\u001b[0matleast_2d\u001b[0m\u001b[0;34m(\u001b[0m\u001b[0mwuml\u001b[0m\u001b[0;34m.\u001b[0m\u001b[0mensure_numpy\u001b[0m\u001b[0;34m(\u001b[0m\u001b[0mŷ\u001b[0m\u001b[0;34m,\u001b[0m \u001b[0mrounding\u001b[0m\u001b[0;34m=\u001b[0m\u001b[0;36m2\u001b[0m\u001b[0;34m)\u001b[0m\u001b[0;34m)\u001b[0m\u001b[0;34m\u001b[0m\u001b[0;34m\u001b[0m\u001b[0m\n\u001b[1;32m    157\u001b[0m \u001b[0;34m\u001b[0m\u001b[0m\n",
      "\u001b[0;32m~/App/miniconda/lib/python3.7/site-packages/wuml/type_check.py\u001b[0m in \u001b[0;36mensure_numpy\u001b[0;34m(data, rounding)\u001b[0m\n\u001b[1;32m     66\u001b[0m                 \u001b[0mX\u001b[0m \u001b[0;34m=\u001b[0m \u001b[0mnp\u001b[0m\u001b[0;34m.\u001b[0m\u001b[0marray\u001b[0m\u001b[0;34m(\u001b[0m\u001b[0;34m[\u001b[0m\u001b[0;34m[\u001b[0m\u001b[0mdata\u001b[0m\u001b[0;34m]\u001b[0m\u001b[0;34m]\u001b[0m\u001b[0;34m)\u001b[0m\u001b[0;34m\u001b[0m\u001b[0;34m\u001b[0m\u001b[0m\n\u001b[1;32m     67\u001b[0m \u001b[0;34m\u001b[0m\u001b[0m\n\u001b[0;32m---> 68\u001b[0;31m         \u001b[0;32mif\u001b[0m \u001b[0mrounding\u001b[0m \u001b[0;32mis\u001b[0m \u001b[0;32mnot\u001b[0m \u001b[0;32mNone\u001b[0m\u001b[0;34m:\u001b[0m \u001b[0mX\u001b[0m \u001b[0;34m=\u001b[0m \u001b[0mnp\u001b[0m\u001b[0;34m.\u001b[0m\u001b[0mround\u001b[0m\u001b[0;34m(\u001b[0m\u001b[0mX\u001b[0m\u001b[0;34m,\u001b[0m \u001b[0mrounding\u001b[0m\u001b[0;34m)\u001b[0m\u001b[0;34m\u001b[0m\u001b[0;34m\u001b[0m\u001b[0m\n\u001b[0m\u001b[1;32m     69\u001b[0m         \u001b[0;32mreturn\u001b[0m \u001b[0mX\u001b[0m\u001b[0;34m\u001b[0m\u001b[0;34m\u001b[0m\u001b[0m\n\u001b[1;32m     70\u001b[0m \u001b[0;34m\u001b[0m\u001b[0m\n",
      "\u001b[0;31mUnboundLocalError\u001b[0m: local variable 'X' referenced before assignment"
     ]
    }
   ],
   "source": [
    "#\tExample 3\n",
    "Udata = wuml.use_reverse_cdf_to_map_data_between_0_and_1(data, output_type_name='wData')\n",
    "EXP3 = wuml.explainer(Udata, \tloss='mse',\t\t# This will create a network for regression and explain instance wise \n",
    "\t\t\t\t\t\tnetworkStructure=[(600,'relu'),(600,'relu'),(600,'relu'),(1,'none')], \n",
    "\t\t\t\t\t\tmax_epoch=600, learning_rate=0.001, print_network_training_status=False)\n",
    "\n",
    "# Show the regression results\n",
    "Ŷ = EXP3.net(Udata, output_type='ndarray')\n",
    "SR_train = wuml.summarize_regression_result(Udata.Y, Ŷ)\n",
    "print(SR_train.true_vs_predict())\n",
    "\n",
    "# Show the explanation results\n",
    "explanation = EXP3(Udata)\t# outputs the weight importance\n",
    "print('If we map all the data into the range of [0,1], notice that x1, x2, x4 all have the correct attribution sign')\n",
    "print('We noticed that it requires a larger network, and longer training time, but it gives better attributions.')\n",
    "print(explanation)\n"
   ]
  },
  {
   "cell_type": "code",
   "execution_count": null,
   "id": "4ae08dfd",
   "metadata": {},
   "outputs": [],
   "source": []
  }
 ],
 "metadata": {
  "kernelspec": {
   "display_name": "Python 3",
   "language": "python",
   "name": "python3"
  },
  "language_info": {
   "codemirror_mode": {
    "name": "ipython",
    "version": 3
   },
   "file_extension": ".py",
   "mimetype": "text/x-python",
   "name": "python",
   "nbconvert_exporter": "python",
   "pygments_lexer": "ipython3",
   "version": "3.7.10"
  }
 },
 "nbformat": 4,
 "nbformat_minor": 5
}
