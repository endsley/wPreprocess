{
 "cells": [
  {
   "cell_type": "code",
   "execution_count": 1,
   "metadata": {
    "execution": {
     "iopub.execute_input": "2023-03-15T20:26:49.041578Z",
     "iopub.status.busy": "2023-03-15T20:26:49.041217Z",
     "iopub.status.idle": "2023-03-15T20:26:49.046332Z",
     "shell.execute_reply": "2023-03-15T20:26:49.045230Z"
    }
   },
   "outputs": [],
   "source": [
    "#!/usr/bin/env python"
   ]
  },
  {
   "cell_type": "code",
   "execution_count": 2,
   "metadata": {
    "execution": {
     "iopub.execute_input": "2023-03-15T20:26:49.050397Z",
     "iopub.status.busy": "2023-03-15T20:26:49.050058Z",
     "iopub.status.idle": "2023-03-15T20:26:49.056502Z",
     "shell.execute_reply": "2023-03-15T20:26:49.055228Z"
    }
   },
   "outputs": [],
   "source": [
    "import os\n",
    "import sys\n",
    "if os.path.exists('/home/chieh/code/wPlotLib'):\n",
    "\tsys.path.insert(0,'/home/chieh/code/wPlotLib')\n",
    "if os.path.exists('/home/chieh/code/wuML'):\n",
    "\tsys.path.insert(0,'/home/chieh/code/wuML')"
   ]
  },
  {
   "cell_type": "code",
   "execution_count": 3,
   "metadata": {
    "execution": {
     "iopub.execute_input": "2023-03-15T20:26:49.062539Z",
     "iopub.status.busy": "2023-03-15T20:26:49.062030Z",
     "iopub.status.idle": "2023-03-15T20:26:50.922652Z",
     "shell.execute_reply": "2023-03-15T20:26:50.921612Z"
    }
   },
   "outputs": [],
   "source": [
    "import wuml\n",
    "import numpy as np\n",
    "import torch\n",
    "import torch.nn as nn"
   ]
  },
  {
   "cell_type": "code",
   "execution_count": 4,
   "metadata": {
    "execution": {
     "iopub.execute_input": "2023-03-15T20:26:50.926153Z",
     "iopub.status.busy": "2023-03-15T20:26:50.925968Z",
     "iopub.status.idle": "2023-03-15T20:26:50.928917Z",
     "shell.execute_reply": "2023-03-15T20:26:50.928383Z"
    }
   },
   "outputs": [],
   "source": [
    "wuml.set_terminal_print_options(precision=3)"
   ]
  },
  {
   "cell_type": "markdown",
   "metadata": {},
   "source": [
    "This code shows how you can mix and match different networks<br>\n",
    "This network simultaneously minimize CE and MSE loss"
   ]
  },
  {
   "cell_type": "code",
   "execution_count": 5,
   "metadata": {
    "execution": {
     "iopub.execute_input": "2023-03-15T20:26:50.932234Z",
     "iopub.status.busy": "2023-03-15T20:26:50.931913Z",
     "iopub.status.idle": "2023-03-15T20:26:50.937474Z",
     "shell.execute_reply": "2023-03-15T20:26:50.936428Z"
    }
   },
   "outputs": [],
   "source": [
    "def status_printing(all_losses, epoch, lr):\n",
    "\t[total_loss, CE_loss, Regress_loss] = all_losses\n",
    "\ttxt = '\\tepoch: %d, Tloss: %.4f, CEloss: %.4f, MSELoss: %.4f, Learning Rate: %.8f'%((epoch+1), total_loss, CE_loss, Regress_loss, lr)\n",
    "\twuml.write_to_current_line(txt)"
   ]
  },
  {
   "cell_type": "markdown",
   "metadata": {},
   "source": [
    "You can also control the behavior of the network on call"
   ]
  },
  {
   "cell_type": "code",
   "execution_count": 6,
   "metadata": {
    "execution": {
     "iopub.execute_input": "2023-03-15T20:26:50.941161Z",
     "iopub.status.busy": "2023-03-15T20:26:50.940869Z",
     "iopub.status.idle": "2023-03-15T20:26:50.946941Z",
     "shell.execute_reply": "2023-03-15T20:26:50.945846Z"
    }
   },
   "outputs": [],
   "source": [
    "def network_behavior_on_call(all_data, all_networks):\n",
    "\tnet1 = all_networks[0]\n",
    "\tnet2 = all_networks[1]\n",
    "#\n",
    "\t#\tthe 1st 2 items of all_data will always be X, and y\n",
    "\t#\tthe rest will be what you include\n",
    "\tX = all_data[0]\n",
    "\ty = all_data[1]\n",
    "#\n",
    "\tŷₐ = net1(X)\n",
    "\tŷᵦ = net2(ŷₐ)\n",
    "#\n",
    "\tlabels = wuml.softmax(ŷₐ, turn_into_label=True)\n",
    "\treturn ŷᵦ"
   ]
  },
  {
   "cell_type": "code",
   "execution_count": 7,
   "metadata": {
    "execution": {
     "iopub.execute_input": "2023-03-15T20:26:50.981927Z",
     "iopub.status.busy": "2023-03-15T20:26:50.981621Z",
     "iopub.status.idle": "2023-03-15T20:26:50.988541Z",
     "shell.execute_reply": "2023-03-15T20:26:50.987581Z"
    }
   },
   "outputs": [],
   "source": [
    "def costFunction(all_data, all_networks):\t\n",
    "\tnet1 = all_networks[0]\n",
    "\tnet2 = all_networks[1]\n",
    "#\n",
    "\t#\tthe 1st 3 items of all_data will always be X, y, index\n",
    "\t#\tthe rest will be what you include\n",
    "\tX = all_data[0]\n",
    "\ty = all_data[1]\n",
    "\tindx = all_data[2]\n",
    "\ty2= all_data[3]\n",
    "#\n",
    "\t# run data through the networks\n",
    "\tŷₐ = net1(X)\n",
    "\tŷᵦ = net2(ŷₐ)\n",
    "#\n",
    "\tCE_loss = wuml.CrossEntropyLoss(y, ŷₐ)\n",
    "\tRegress_loss = wuml.MSELoss(y2, ŷᵦ)\n",
    "\ttotal_loss = 0.1*CE_loss + Regress_loss\n",
    "#\n",
    "\treturn [total_loss, CE_loss, Regress_loss]"
   ]
  },
  {
   "cell_type": "code",
   "execution_count": 8,
   "metadata": {
    "execution": {
     "iopub.execute_input": "2023-03-15T20:26:50.993506Z",
     "iopub.status.busy": "2023-03-15T20:26:50.993311Z",
     "iopub.status.idle": "2023-03-15T20:26:50.996611Z",
     "shell.execute_reply": "2023-03-15T20:26:50.995928Z"
    }
   },
   "outputs": [],
   "source": [
    "def optimizer_steps_order(all_optimizers):\n",
    "\t#\tThe optimizers are in the order of the network structure you originally defined\n",
    "\topt1 = all_optimizers[0]\n",
    "\topt2 = all_optimizers[1]\n",
    "#\n",
    "\topt2.step()\n",
    "\topt1.step()"
   ]
  },
  {
   "cell_type": "markdown",
   "metadata": {},
   "source": [
    "This data has both regression and classification labels (3 classes)<br>\n",
    "the network will train on both labels by<br>\n",
    "\tusing the 1st network to get 3 softmax outputs, <br>\n",
    "\tfrom the 1st network, it will connect to the 2nd network, <br>\n",
    "\t\texpand to width of 5 and compress down to 1 for regression"
   ]
  },
  {
   "cell_type": "code",
   "execution_count": 9,
   "metadata": {
    "execution": {
     "iopub.execute_input": "2023-03-15T20:26:51.000271Z",
     "iopub.status.busy": "2023-03-15T20:26:51.000074Z",
     "iopub.status.idle": "2023-03-15T20:26:51.023883Z",
     "shell.execute_reply": "2023-03-15T20:26:51.023098Z"
    }
   },
   "outputs": [],
   "source": [
    "data = wuml.wData(xpath='../../data/wine.csv', ypath='../../data/wine_label.csv', \n",
    "\t\t\t\t\textra_data='../../data/wine_regress_label.csv', \n",
    "\t\t\t\t\tpreprocess_data='center and scale', \n",
    "\t\t\t\t\t batch_size=16, label_type='discrete')\n",
    "Y2 = data.extra_data_dictionary['numpy'][0]"
   ]
  },
  {
   "cell_type": "code",
   "execution_count": 10,
   "metadata": {
    "execution": {
     "iopub.execute_input": "2023-03-15T20:26:51.027462Z",
     "iopub.status.busy": "2023-03-15T20:26:51.027260Z",
     "iopub.status.idle": "2023-03-15T20:26:51.031306Z",
     "shell.execute_reply": "2023-03-15T20:26:51.030302Z"
    }
   },
   "outputs": [],
   "source": [
    "netStructureList = []\n",
    "netStructureList.append([(100,'relu'),(3,'none')])\n",
    "netStructureList.append([(50,'relu'),(1,'none')])\n",
    "netInputDimList = [13, 3]"
   ]
  },
  {
   "cell_type": "code",
   "execution_count": 11,
   "metadata": {
    "execution": {
     "iopub.execute_input": "2023-03-15T20:26:51.035504Z",
     "iopub.status.busy": "2023-03-15T20:26:51.035303Z",
     "iopub.status.idle": "2023-03-15T20:27:23.479856Z",
     "shell.execute_reply": "2023-03-15T20:27:23.479009Z"
    }
   },
   "outputs": [
    {
     "name": "stdout",
     "output_type": "stream",
     "text": [
      "\tepoch: 201, Tloss: 0.0739, CEloss: 0.7063, MSELoss: 0.0033, Learning Rate: 0.00100000"
     ]
    }
   ],
   "source": [
    "model = wuml.combinedNetwork(data, netStructureList, netInputDimList, costFunction, force_network_to_use_CPU=True,\n",
    "\t\t\t\t\t\t\toptimizer_steps_order=optimizer_steps_order,\n",
    "\t\t\t\t\t\t\tmax_epoch=200, on_new_epoch_call_back=status_printing,\n",
    "\t\t\t\t\t\t\tnetwork_behavior_on_call=network_behavior_on_call,\n",
    "\t\t\t\t\t\t\tY_dataType=torch.LongTensor, extra_dataType=[torch.FloatTensor]) \n",
    "model.fit()\n",
    "ŷᵦ = model(data)"
   ]
  },
  {
   "cell_type": "markdown",
   "metadata": {},
   "source": [
    "R = wuml.summarize_regression_result(Y2, ŷᵦ)"
   ]
  },
  {
   "cell_type": "code",
   "execution_count": 12,
   "metadata": {
    "execution": {
     "iopub.execute_input": "2023-03-15T20:27:23.484959Z",
     "iopub.status.busy": "2023-03-15T20:27:23.484710Z",
     "iopub.status.idle": "2023-03-15T20:27:24.198069Z",
     "shell.execute_reply": "2023-03-15T20:27:24.197223Z"
    }
   },
   "outputs": [
    {
     "name": "stdout",
     "output_type": "stream",
     "text": [
      "\n",
      "Note: Since there are too many input samples, kmeans was employed to reduce the sample down to 70\n",
      "\n"
     ]
    }
   ],
   "source": [
    "E = wuml.explainer(data, model, explainer_algorithm='shap')\n",
    "#exp = E(data[0:10,:], y=Y2)"
   ]
  },
  {
   "cell_type": "code",
   "execution_count": 13,
   "metadata": {
    "execution": {
     "iopub.execute_input": "2023-03-15T20:27:24.201727Z",
     "iopub.status.busy": "2023-03-15T20:27:24.201515Z",
     "iopub.status.idle": "2023-03-15T20:27:25.306873Z",
     "shell.execute_reply": "2023-03-15T20:27:25.306055Z"
    }
   },
   "outputs": [
    {
     "data": {
      "application/json": {
       "ascii": false,
       "bar_format": null,
       "colour": null,
       "elapsed": 0.031133174896240234,
       "initial": 0,
       "n": 0,
       "ncols": null,
       "nrows": null,
       "postfix": null,
       "prefix": "",
       "rate": null,
       "total": 1,
       "unit": "it",
       "unit_divisor": 1000,
       "unit_scale": false
      },
      "application/vnd.jupyter.widget-view+json": {
       "model_id": "ab2c51e49c014496afdc5a3116f7f631",
       "version_major": 2,
       "version_minor": 0
      },
      "text/plain": [
       "  0%|          | 0/1 [00:00<?, ?it/s]"
      ]
     },
     "metadata": {},
     "output_type": "display_data"
    },
    {
     "data": {
      "image/png": "[encoded data removed]",
      "text/plain": [
       "<Figure size 600x1000 with 1 Axes>"
      ]
     },
     "metadata": {},
     "output_type": "display_data"
    }
   ],
   "source": [
    "sample_id = 3\n",
    "E.plot_individual_sample_importance(data[sample_id,:], y=Y2[sample_id], sample_id=sample_id, figsize=(6,10))\n",
    "wuml.save_torch_network(model, './combined_net.pk')"
   ]
  }
 ],
 "metadata": {
  "kernelspec": {
   "display_name": "Python 3",
   "language": "python",
   "name": "python3"
  },
  "language_info": {
   "codemirror_mode": {
    "name": "ipython",
    "version": 3
   },
   "file_extension": ".py",
   "mimetype": "text/x-python",
   "name": "python",
   "nbconvert_exporter": "python",
   "pygments_lexer": "ipython3",
   "version": "3.8.10"
  },
  "widgets": {
   "application/vnd.jupyter.widget-state+json": {
    "state": {
     "0171abf111c34690bc825ada20dc4d59": {
      "model_module": "@jupyter-widgets/controls",
      "model_module_version": "2.0.0",
      "model_name": "ProgressStyleModel",
      "state": {
       "_model_module": "@jupyter-widgets/controls",
       "_model_module_version": "2.0.0",
       "_model_name": "ProgressStyleModel",
       "_view_count": null,
       "_view_module": "@jupyter-widgets/base",
       "_view_module_version": "2.0.0",
       "_view_name": "StyleView",
       "bar_color": null,
       "description_width": ""
      }
     },
     "13282f01da134a0e8fc0264ea4e47bce": {
      "model_module": "@jupyter-widgets/base",
      "model_module_version": "2.0.0",
      "model_name": "LayoutModel",
      "state": {
       "_model_module": "@jupyter-widgets/base",
       "_model_module_version": "2.0.0",
       "_model_name": "LayoutModel",
       "_view_count": null,
       "_view_module": "@jupyter-widgets/base",
       "_view_module_version": "2.0.0",
       "_view_name": "LayoutView",
       "align_content": null,
       "align_items": null,
       "align_self": null,
       "border_bottom": null,
       "border_left": null,
       "border_right": null,
       "border_top": null,
       "bottom": null,
       "display": null,
       "flex": null,
       "flex_flow": null,
       "grid_area": null,
       "grid_auto_columns": null,
       "grid_auto_flow": null,
       "grid_auto_rows": null,
       "grid_column": null,
       "grid_gap": null,
       "grid_row": null,
       "grid_template_areas": null,
       "grid_template_columns": null,
       "grid_template_rows": null,
       "height": null,
       "justify_content": null,
       "justify_items": null,
       "left": null,
       "margin": null,
       "max_height": null,
       "max_width": null,
       "min_height": null,
       "min_width": null,
       "object_fit": null,
       "object_position": null,
       "order": null,
       "overflow": null,
       "padding": null,
       "right": null,
       "top": null,
       "visibility": null,
       "width": null
      }
     },
     "19ab89d1d5a74787ab4c50579cb20d8c": {
      "model_module": "@jupyter-widgets/controls",
      "model_module_version": "2.0.0",
      "model_name": "FloatProgressModel",
      "state": {
       "_dom_classes": [],
       "_model_module": "@jupyter-widgets/controls",
       "_model_module_version": "2.0.0",
       "_model_name": "FloatProgressModel",
       "_view_count": null,
       "_view_module": "@jupyter-widgets/controls",
       "_view_module_version": "2.0.0",
       "_view_name": "ProgressView",
       "bar_style": "success",
       "description": "",
       "description_allow_html": false,
       "layout": "IPY_MODEL_2c87645bc57b4ff783f68f0e57e28b75",
       "max": 1.0,
       "min": 0.0,
       "orientation": "horizontal",
       "style": "IPY_MODEL_0171abf111c34690bc825ada20dc4d59",
       "tabbable": null,
       "tooltip": null,
       "value": 1.0
      }
     },
     "2c87645bc57b4ff783f68f0e57e28b75": {
      "model_module": "@jupyter-widgets/base",
      "model_module_version": "2.0.0",
      "model_name": "LayoutModel",
      "state": {
       "_model_module": "@jupyter-widgets/base",
       "_model_module_version": "2.0.0",
       "_model_name": "LayoutModel",
       "_view_count": null,
       "_view_module": "@jupyter-widgets/base",
       "_view_module_version": "2.0.0",
       "_view_name": "LayoutView",
       "align_content": null,
       "align_items": null,
       "align_self": null,
       "border_bottom": null,
       "border_left": null,
       "border_right": null,
       "border_top": null,
       "bottom": null,
       "display": null,
       "flex": null,
       "flex_flow": null,
       "grid_area": null,
       "grid_auto_columns": null,
       "grid_auto_flow": null,
       "grid_auto_rows": null,
       "grid_column": null,
       "grid_gap": null,
       "grid_row": null,
       "grid_template_areas": null,
       "grid_template_columns": null,
       "grid_template_rows": null,
       "height": null,
       "justify_content": null,
       "justify_items": null,
       "left": null,
       "margin": null,
       "max_height": null,
       "max_width": null,
       "min_height": null,
       "min_width": null,
       "object_fit": null,
       "object_position": null,
       "order": null,
       "overflow": null,
       "padding": null,
       "right": null,
       "top": null,
       "visibility": null,
       "width": null
      }
     },
     "33960b8e72ca4dbc91881aea385b2c97": {
      "model_module": "@jupyter-widgets/controls",
      "model_module_version": "2.0.0",
      "model_name": "HTMLStyleModel",
      "state": {
       "_model_module": "@jupyter-widgets/controls",
       "_model_module_version": "2.0.0",
       "_model_name": "HTMLStyleModel",
       "_view_count": null,
       "_view_module": "@jupyter-widgets/base",
       "_view_module_version": "2.0.0",
       "_view_name": "StyleView",
       "background": null,
       "description_width": "",
       "font_size": null,
       "text_color": null
      }
     },
     "36abfd84bf0a49f29cac90c8c2621519": {
      "model_module": "@jupyter-widgets/controls",
      "model_module_version": "2.0.0",
      "model_name": "HTMLModel",
      "state": {
       "_dom_classes": [],
       "_model_module": "@jupyter-widgets/controls",
       "_model_module_version": "2.0.0",
       "_model_name": "HTMLModel",
       "_view_count": null,
       "_view_module": "@jupyter-widgets/controls",
       "_view_module_version": "2.0.0",
       "_view_name": "HTMLView",
       "description": "",
       "description_allow_html": false,
       "layout": "IPY_MODEL_13282f01da134a0e8fc0264ea4e47bce",
       "placeholder": "​",
       "style": "IPY_MODEL_8e011f24a26d45128862e1def110248d",
       "tabbable": null,
       "tooltip": null,
       "value": " 1/1 [00:00&lt;00:00,  1.35it/s]"
      }
     },
     "5c3d02f43f2e43bb9f818cb6a2c6b8a3": {
      "model_module": "@jupyter-widgets/controls",
      "model_module_version": "2.0.0",
      "model_name": "HTMLModel",
      "state": {
       "_dom_classes": [],
       "_model_module": "@jupyter-widgets/controls",
       "_model_module_version": "2.0.0",
       "_model_name": "HTMLModel",
       "_view_count": null,
       "_view_module": "@jupyter-widgets/controls",
       "_view_module_version": "2.0.0",
       "_view_name": "HTMLView",
       "description": "",
       "description_allow_html": false,
       "layout": "IPY_MODEL_93fecc144f1d45b7b9caeaafb57d1232",
       "placeholder": "​",
       "style": "IPY_MODEL_33960b8e72ca4dbc91881aea385b2c97",
       "tabbable": null,
       "tooltip": null,
       "value": "100%"
      }
     },
     "70d8f285679c4298ab3ff03366216e6d": {
      "model_module": "@jupyter-widgets/base",
      "model_module_version": "2.0.0",
      "model_name": "LayoutModel",
      "state": {
       "_model_module": "@jupyter-widgets/base",
       "_model_module_version": "2.0.0",
       "_model_name": "LayoutModel",
       "_view_count": null,
       "_view_module": "@jupyter-widgets/base",
       "_view_module_version": "2.0.0",
       "_view_name": "LayoutView",
       "align_content": null,
       "align_items": null,
       "align_self": null,
       "border_bottom": null,
       "border_left": null,
       "border_right": null,
       "border_top": null,
       "bottom": null,
       "display": null,
       "flex": null,
       "flex_flow": null,
       "grid_area": null,
       "grid_auto_columns": null,
       "grid_auto_flow": null,
       "grid_auto_rows": null,
       "grid_column": null,
       "grid_gap": null,
       "grid_row": null,
       "grid_template_areas": null,
       "grid_template_columns": null,
       "grid_template_rows": null,
       "height": null,
       "justify_content": null,
       "justify_items": null,
       "left": null,
       "margin": null,
       "max_height": null,
       "max_width": null,
       "min_height": null,
       "min_width": null,
       "object_fit": null,
       "object_position": null,
       "order": null,
       "overflow": null,
       "padding": null,
       "right": null,
       "top": null,
       "visibility": null,
       "width": null
      }
     },
     "8e011f24a26d45128862e1def110248d": {
      "model_module": "@jupyter-widgets/controls",
      "model_module_version": "2.0.0",
      "model_name": "HTMLStyleModel",
      "state": {
       "_model_module": "@jupyter-widgets/controls",
       "_model_module_version": "2.0.0",
       "_model_name": "HTMLStyleModel",
       "_view_count": null,
       "_view_module": "@jupyter-widgets/base",
       "_view_module_version": "2.0.0",
       "_view_name": "StyleView",
       "background": null,
       "description_width": "",
       "font_size": null,
       "text_color": null
      }
     },
     "93fecc144f1d45b7b9caeaafb57d1232": {
      "model_module": "@jupyter-widgets/base",
      "model_module_version": "2.0.0",
      "model_name": "LayoutModel",
      "state": {
       "_model_module": "@jupyter-widgets/base",
       "_model_module_version": "2.0.0",
       "_model_name": "LayoutModel",
       "_view_count": null,
       "_view_module": "@jupyter-widgets/base",
       "_view_module_version": "2.0.0",
       "_view_name": "LayoutView",
       "align_content": null,
       "align_items": null,
       "align_self": null,
       "border_bottom": null,
       "border_left": null,
       "border_right": null,
       "border_top": null,
       "bottom": null,
       "display": null,
       "flex": null,
       "flex_flow": null,
       "grid_area": null,
       "grid_auto_columns": null,
       "grid_auto_flow": null,
       "grid_auto_rows": null,
       "grid_column": null,
       "grid_gap": null,
       "grid_row": null,
       "grid_template_areas": null,
       "grid_template_columns": null,
       "grid_template_rows": null,
       "height": null,
       "justify_content": null,
       "justify_items": null,
       "left": null,
       "margin": null,
       "max_height": null,
       "max_width": null,
       "min_height": null,
       "min_width": null,
       "object_fit": null,
       "object_position": null,
       "order": null,
       "overflow": null,
       "padding": null,
       "right": null,
       "top": null,
       "visibility": null,
       "width": null
      }
     },
     "ab2c51e49c014496afdc5a3116f7f631": {
      "model_module": "@jupyter-widgets/controls",
      "model_module_version": "2.0.0",
      "model_name": "HBoxModel",
      "state": {
       "_dom_classes": [],
       "_model_module": "@jupyter-widgets/controls",
       "_model_module_version": "2.0.0",
       "_model_name": "HBoxModel",
       "_view_count": null,
       "_view_module": "@jupyter-widgets/controls",
       "_view_module_version": "2.0.0",
       "_view_name": "HBoxView",
       "box_style": "",
       "children": [
        "IPY_MODEL_5c3d02f43f2e43bb9f818cb6a2c6b8a3",
        "IPY_MODEL_19ab89d1d5a74787ab4c50579cb20d8c",
        "IPY_MODEL_36abfd84bf0a49f29cac90c8c2621519"
       ],
       "layout": "IPY_MODEL_70d8f285679c4298ab3ff03366216e6d",
       "tabbable": null,
       "tooltip": null
      }
     }
    },
    "version_major": 2,
    "version_minor": 0
   }
  }
 },
 "nbformat": 4,
 "nbformat_minor": 2
}
