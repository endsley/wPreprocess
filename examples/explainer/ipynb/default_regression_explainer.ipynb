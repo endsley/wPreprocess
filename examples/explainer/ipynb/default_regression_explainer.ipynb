{
 "cells": [
  {
   "cell_type": "code",
   "execution_count": 1,
   "id": "d4083802",
   "metadata": {},
   "outputs": [
    {
     "name": "stdout",
     "output_type": "stream",
     "text": [
      "[[  6.3411   4.2219   0.1219 -10.6705]\n",
      " [ -1.2707   5.8274   0.0101  27.2292]\n",
      " [  1.8221  -0.6651  -0.1376 -10.4239]\n",
      " [  6.7029  -1.5001   0.1563  22.315 ]\n",
      " [  6.6134   1.1317  -0.456  -11.4016]\n",
      " [ -5.5087  -0.7502   0.077   -9.9276]\n",
      " [  2.6066  -1.7205   0.0817  23.1135]\n",
      " [ -1.9833  -0.4206   0.0626 -10.1273]\n",
      " [ -2.0254  -0.953    0.1235 -10.1626]\n",
      " [ -0.7866  -0.8494   0.1052 -10.0569]\n",
      " [ -0.9624  -1.8645   0.0701  22.4317]\n",
      " [  3.2066  -0.6112   0.057  -10.0957]\n",
      " [  0.758   -0.5107   0.0814   8.3098]\n",
      " [ -0.9233  -0.8049  -0.1838 -10.0984]\n",
      " [  0.9561   4.5759   0.0244 -10.8022]\n",
      " [ -0.8639  -1.9327   0.2248  22.5958]\n",
      " [  3.1184  -1.0152   0.0837 -10.1632]\n",
      " [ -2.042   -2.1683  -0.0073  22.7311]\n",
      " [ -0.6626  -0.3188   0.2578 -10.0157]\n",
      " [ -4.9617  -0.8887   0.0585  -9.9423]\n",
      " [-11.2464  -0.6994   0.0681  -9.8302]\n",
      " [  0.7369  -0.9939  -0.3599  -9.9302]\n",
      " [  1.3643  -1.0037  -0.2263 -10.3924]\n",
      " [ -4.8531  -0.7262   0.2083  -9.9462]\n",
      " [  7.2663  -0.4001   0.0727  -9.7853]\n",
      " [ -6.3527  -0.9335  -0.1609  -9.9034]\n",
      " [ -1.415   -1.2863   0.1173   7.9127]\n",
      " [ -2.2892  -0.839    0.0442 -10.1675]\n",
      " [  3.5414   7.2823   0.088   26.8616]\n",
      " [  3.1146  -2.0563   0.0099  22.5412]]\n"
     ]
    },
    {
     "name": "stderr",
     "output_type": "stream",
     "text": [
      "ntree_limit is deprecated, use `iteration_range` or model slicing instead.\n"
     ]
    }
   ],
   "source": [
    "#!/usr/bin/env python\n",
    "import wuml\n",
    "\n",
    "data = wuml.wData(xpath='../../data/shap_regress_example_mix_distributions.csv', batch_size=20, \n",
    "\t\t\t\t\tlabel_type='continuous', label_column_name='label', row_id_with_label=0)\n",
    "\n",
    "Udata = wuml.use_cdf_to_map_data_between_0_and_1(data, output_type_name='wData')\n",
    "\n",
    "EXP = wuml.explainer(Udata, explainer_algorithm='XGBRegressor')\n",
    "shap_values = EXP(Udata, output_all_results=False)\n",
    "print(shap_values)\n"
   ]
  },
  {
   "cell_type": "code",
   "execution_count": null,
   "id": "862ff7d4",
   "metadata": {},
   "outputs": [],
   "source": []
  }
 ],
 "metadata": {
  "kernelspec": {
   "display_name": "Python 3",
   "language": "python",
   "name": "python3"
  },
  "language_info": {
   "codemirror_mode": {
    "name": "ipython",
    "version": 3
   },
   "file_extension": ".py",
   "mimetype": "text/x-python",
   "name": "python",
   "nbconvert_exporter": "python",
   "pygments_lexer": "ipython3",
   "version": "3.7.10"
  }
 },
 "nbformat": 4,
 "nbformat_minor": 5
}
