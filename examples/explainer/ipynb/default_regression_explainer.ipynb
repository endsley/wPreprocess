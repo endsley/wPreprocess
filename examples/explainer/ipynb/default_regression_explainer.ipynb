{
 "cells": [
  {
   "cell_type": "code",
   "execution_count": null,
   "id": "d4083802",
   "metadata": {},
   "outputs": [],
   "source": [
    "#!/usr/bin/env python\n",
    "import wuml\n",
    "\n",
    "data = wuml.wData(xpath='../../data/shap_regress_example_mix_distributions.csv', batch_size=20, \n",
    "\t\t\t\t\tlabel_type='continuous', label_column_name='label', row_id_with_label=0)\n",
    "\n",
    "Udata = wuml.use_cdf_to_map_data_between_0_and_1(data, output_type_name='wData')\n",
    "\n",
    "EXP = wuml.explainer(Udata, explainer_algorithm='XGBRegressor')\n",
    "shap_values = EXP(Udata, output_all_results=False)\n",
    "print(shap_values)\n"
   ]
  }
 ],
 "metadata": {
  "kernelspec": {
   "display_name": "Python 3",
   "language": "python",
   "name": "python3"
  },
  "language_info": {
   "codemirror_mode": {
    "name": "ipython",
    "version": 3
   },
   "file_extension": ".py",
   "mimetype": "text/x-python",
   "name": "python",
   "nbconvert_exporter": "python",
   "pygments_lexer": "ipython3",
   "version": "3.7.10"
  }
 },
 "nbformat": 4,
 "nbformat_minor": 5
}
