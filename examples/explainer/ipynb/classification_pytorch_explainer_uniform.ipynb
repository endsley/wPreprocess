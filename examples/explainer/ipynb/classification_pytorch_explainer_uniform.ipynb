{
 "cells": [
  {
   "cell_type": "code",
   "execution_count": 3,
   "id": "83d356ab",
   "metadata": {},
   "outputs": [
    {
     "name": "stdout",
     "output_type": "stream",
     "text": [
      "Network Info:\n",
      "\tLearning rate: 0.001\n",
      "\tMax number of epochs: 50\n",
      "\tCost Function: CE\n",
      "\tTrain Loop Callback: None\n",
      "\tCuda Available: True\n",
      "\tNetwork Structure\n",
      "\t\tLinear(in_features=4, out_features=100, bias=True) , relu\n",
      "\t\tLinear(in_features=100, out_features=100, bias=True) , relu\n",
      "\t\tLinear(in_features=100, out_features=2, bias=True) , none\n",
      "\n",
      "Avg error: 1.0000\n",
      "\n",
      "['y' 'ŷ']\n",
      "[0 0]\n",
      "[0 0]\n",
      "[0 0]\n",
      "[0 0]\n",
      "[0 0]\n",
      "[0 0]\n",
      "[0 0]\n",
      "[0 0]\n",
      "[0 0]\n",
      "[0 0]\n",
      "[0 0]\n",
      "[0 0]\n",
      "[0 0]\n",
      "[0 0]\n",
      "[0 0]\n",
      "[1 1]\n",
      "[1 1]\n",
      "[1 1]\n",
      "[1 1]\n",
      "[1 1]\n",
      "[1 1]\n",
      "[1 1]\n",
      "[1 1]\n",
      "[1 1]\n",
      "[1 1]\n",
      "[1 1]\n",
      "[1 1]\n",
      "[1 1]\n",
      "[1 1]\n",
      "[1 1]\n",
      "\n"
     ]
    },
    {
     "data": {
      "application/vnd.jupyter.widget-view+json": {
       "model_id": "664b464a98534579a0988aa8f05eb4b9",
       "version_major": 2,
       "version_minor": 0
      },
      "text/plain": [
       "  0%|          | 0/30 [00:00<?, ?it/s]"
      ]
     },
     "metadata": {},
     "output_type": "display_data"
    },
    {
     "name": "stdout",
     "output_type": "stream",
     "text": [
      "[[ 0.2509  0.5083  0.0638  1.6289]\n",
      " [ 0.2907  0.3241  0.0564  5.303 ]\n",
      " [-1.1595 -0.264  -0.2754  0.1264]\n",
      " [-0.221   0.3613  0.1746 -4.077 ]\n",
      " [ 0.711   0.5416  0.0783  5.347 ]\n",
      " [-0.7001  0.7821  0.1374  3.8418]\n",
      " [ 0.4634  0.2645 -0.0356  5.6449]\n",
      " [ 0.3581  0.086   0.1643  4.1118]\n",
      " [ 0.4915  0.2938  0.2019  2.6255]\n",
      " [ 0.2682  0.5025 -0.2497  2.9137]\n",
      " [ 0.1367 -0.1261 -0.0852 -4.6141]\n",
      " [-0.4316  0.1848  0.1817 -3.8613]\n",
      " [ 0.6014 -0.0674  0.0814  0.4121]\n",
      " [-1.1614 -0.5064  0.2606 -4.0838]\n",
      " [-0.5316 -0.3948  0.0635 -2.751 ]\n",
      " [ 0.6305 -0.5373 -0.0443 -3.5271]\n",
      " [ 0.5352 -0.2277 -0.1118 -3.9798]\n",
      " [-1.0044 -0.8512 -0.54   -0.7465]\n",
      " [-1.2047  0.066  -0.2278 -5.5052]\n",
      " [ 0.3287 -0.4097  0.1591 -3.8286]\n",
      " [ 0.6874  0.0806  0.136   3.4133]\n",
      " [-0.2858 -0.3158  0.0231 -4.5223]\n",
      " [ 0.2434  0.6509  0.12    3.263 ]\n",
      " [ 0.6213  0.224   0.0273 -2.4334]\n",
      " [-0.3126 -0.4997 -0.3368 -5.5893]\n",
      " [ 0.0113 -0.18    0.0005  5.4597]\n",
      " [ 1.0242  0.3345  0.0973  2.3477]\n",
      " [ 0.4658  0.5458  0.0469  5.1359]\n",
      " [-0.6047 -0.4302 -0.2854 -1.0494]\n",
      " [-0.5947  0.393  -0.2472  2.464 ]]\n"
     ]
    }
   ],
   "source": [
    "#!/usr/bin/env python\n",
    "import wuml\n",
    "\n",
    "data = wuml.wData(xpath='../../data/shap_classifier_example_uniform.csv',  label_type='discrete', \n",
    "\t\t\t\t\tlabel_column_name='label', row_id_with_label=0)\n",
    "\n",
    "EXP = wuml.explainer(data, loss='CE', explainer_algorithm='shap', link='logit', max_epoch=50, \n",
    "\t\t\t\t\tnetworkStructure=[(100,'relu'),(100,'relu'),(2,'none')],print_network_training_status=False)\n",
    "\n",
    "Ŷ = EXP.model(data, out_structural='1d_labels')\n",
    "SC = wuml.summarize_classification_result(data.Y, Ŷ)\n",
    "res = SC.true_vs_predict(sort_based_on_label=True, print_result=False)\n",
    "print(res)\n",
    "\n",
    "shapV = EXP(data.X)\n",
    "print(shapV)"
   ]
  },
  {
   "cell_type": "code",
   "execution_count": null,
   "id": "05a2e9bb",
   "metadata": {},
   "outputs": [],
   "source": []
  }
 ],
 "metadata": {
  "kernelspec": {
   "display_name": "Python 3 (ipykernel)",
   "language": "python",
   "name": "python3"
  },
  "language_info": {
   "codemirror_mode": {
    "name": "ipython",
    "version": 3
   },
   "file_extension": ".py",
   "mimetype": "text/x-python",
   "name": "python",
   "nbconvert_exporter": "python",
   "pygments_lexer": "ipython3",
   "version": "3.7.10"
  }
 },
 "nbformat": 4,
 "nbformat_minor": 5
}
