{
 "cells": [
  {
   "cell_type": "code",
   "execution_count": 2,
   "id": "a34ca532",
   "metadata": {},
   "outputs": [
    {
     "name": "stdout",
     "output_type": "stream",
     "text": [
      "Network Info:\n",
      "\tLearning rate: 0.001\n",
      "\tMax number of epochs: 400\n",
      "\tCost Function: mse\n",
      "\tTrain Loop Callback: None\n",
      "\tCuda Available: True\n",
      "\tNetwork Structure\n",
      "\t\tLinear(in_features=4, out_features=100, bias=True) , relu\n",
      "\t\tLinear(in_features=100, out_features=100, bias=True) , relu\n",
      "\t\tLinear(in_features=100, out_features=1, bias=True) , none\n",
      "\n",
      "Avg error: 0.0233\n",
      "\n",
      "['y' 'ŷ']\n",
      "[-1.1  -1.06]\n",
      "[-5.67 -5.69]\n",
      "[ 0.78  0.81]\n",
      "[ 3.58  3.58]\n",
      "[-7.5  -7.48]\n",
      "[-1.   -1.  ]\n",
      "[-8.05 -8.04]\n",
      "[-4.14 -4.18]\n",
      "[-2.61 -2.61]\n",
      "[-2.31 -2.32]\n",
      "[ 1.9   1.94]\n",
      "[ 3.38  3.37]\n",
      "[-1.82 -1.9 ]\n",
      "[ 3.82  3.81]\n",
      "[ 1.63  1.58]\n",
      "[-0.21 -0.2 ]\n",
      "[ 0.62  0.61]\n",
      "[ 0.2   0.18]\n",
      "[ 5.76  5.75]\n",
      "[ 0.6   0.62]\n",
      "[-4.35 -4.33]\n",
      "[ 2.48  2.51]\n",
      "[-1.88 -1.87]\n",
      "[-0.05 -0.06]\n",
      "[ 2.93  2.95]\n",
      "[-5.72 -5.65]\n",
      "[-3.27 -3.27]\n",
      "[-5.91 -5.95]\n",
      "[ 0.51  0.45]\n",
      "[-1.   -1.01]\n",
      "\n"
     ]
    }
   ],
   "source": [
    "#!/usr/bin/env python\n",
    "import wuml\n",
    "\n",
    "\n",
    "##\tWe generated a synthetic data for regression with 4 dimensions where\n",
    "##\tx1 x2 has positive influence\n",
    "##\tx3 has no influence\n",
    "##\tx4 has negative influence\n",
    "#\n",
    "\n",
    "data = wuml.wData(xpath='../../data/shap_regress_example_uniform.csv', batch_size=20, \n",
    "\t\t\t\t\tlabel_type='continuous', label_column_name='label', \n",
    "\t\t\t\t\trow_id_with_label=0)\n",
    "\n",
    "\n",
    "EXP = wuml.explainer(data, \tloss='mse',\t\t# This will create a network for regression and explain instance wise \n",
    "\t\t\t\t\t\tnetworkStructure=[(100,'relu'),(100,'relu'),(1,'none')], \n",
    "\t\t\t\t\t\tmax_epoch=400, learning_rate=0.001, print_network_training_status=False)\n",
    "\n",
    "\n",
    "# Show the regression results\n",
    "Ŷ = EXP.model(data, output_type='ndarray')\n",
    "SR_train = wuml.summarize_regression_result(data.Y, Ŷ)\n",
    "print(SR_train.true_vs_predict(print_result=False))\n"
   ]
  },
  {
   "cell_type": "code",
   "execution_count": 3,
   "id": "a09da71d",
   "metadata": {},
   "outputs": [
    {
     "data": {
      "application/vnd.jupyter.widget-view+json": {
       "model_id": "8bd969aeee9e4968a02bebcf42f76dfb",
       "version_major": 2,
       "version_minor": 0
      },
      "text/plain": [
       "  0%|          | 0/30 [00:00<?, ?it/s]"
      ]
     },
     "metadata": {},
     "output_type": "display_data"
    },
    {
     "name": "stdout",
     "output_type": "stream",
     "text": [
      "[[ 2.7379  0.6732 -0.0991 -4.8914]\n",
      " [ 1.8233  0.2355 -0.2164 -7.996 ]\n",
      " [ 4.5507  0.3607  0.0462 -4.4771]\n",
      " [ 2.845   1.2506  0.0039 -0.7129]\n",
      " [ 0.0783 -0.1258 -0.2911 -7.5297]\n",
      " [ 4.7838  0.8011 -0.1317 -6.8243]\n",
      " [ 0.3553 -0.2751 -0.1014 -8.1323]\n",
      " [ 2.2452  0.1341 -0.0973 -6.9137]\n",
      " [ 2.0654  0.3758 -0.0081 -5.4612]\n",
      " [ 2.9337  0.485  -0.0759 -6.0752]\n",
      " [ 1.7672  0.3568 -0.038  -0.4928]\n",
      " [ 3.2885  0.8239  0.0074 -1.0703]\n",
      " [ 1.4086  0.1537 -0.0817 -3.8048]\n",
      " [ 4.345   0.109   0.0377 -1.0965]\n",
      " [ 3.0338  0.2277 -0.0175 -2.0457]\n",
      " [ 0.696   0.0422 -0.1496 -1.1286]\n",
      " [ 0.927   0.181  -0.0766 -0.7896]\n",
      " [ 3.6673  0.0782  0.004  -3.9218]\n",
      " [ 4.7683  0.8211  0.025  -0.2574]\n",
      " [ 1.1472  0.039  -0.0395 -0.9454]\n",
      " [ 1.2919  0.0353 -0.0298 -6.1113]\n",
      " [ 2.6785  0.245   0.0061 -0.7674]\n",
      " [ 2.8515  0.9801 -0.13   -6.0638]\n",
      " [ 0.6401  0.5486 -0.0627 -1.4974]\n",
      " [ 2.6287  0.0197 -0.036  -0.0351]\n",
      " [ 2.506   0.0633 -0.2011 -8.3089]\n",
      " [ 1.1681  0.2241 -0.145  -5.1162]\n",
      " [ 0.9956  0.443  -0.243  -7.5296]\n",
      " [ 3.2709  0.2529 -0.0245 -3.3783]\n",
      " [ 4.2533  0.5507 -0.0441 -6.057 ]]\n"
     ]
    }
   ],
   "source": [
    "# Show the explanation results\n",
    "explanation = EXP(data)\t# outputs the weight importance\n",
    "print(explanation)\n"
   ]
  },
  {
   "cell_type": "code",
   "execution_count": null,
   "id": "3ca4d01a",
   "metadata": {},
   "outputs": [],
   "source": []
  }
 ],
 "metadata": {
  "kernelspec": {
   "display_name": "Python 3",
   "language": "python",
   "name": "python3"
  },
  "language_info": {
   "codemirror_mode": {
    "name": "ipython",
    "version": 3
   },
   "file_extension": ".py",
   "mimetype": "text/x-python",
   "name": "python",
   "nbconvert_exporter": "python",
   "pygments_lexer": "ipython3",
   "version": "3.7.10"
  }
 },
 "nbformat": 4,
 "nbformat_minor": 5
}
