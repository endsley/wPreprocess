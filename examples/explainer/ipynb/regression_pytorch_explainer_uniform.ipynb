{
 "cells": [
  {
   "cell_type": "code",
   "execution_count": 1,
   "metadata": {},
   "outputs": [
    {
     "name": "stderr",
     "output_type": "stream",
     "text": [
      "2022-01-31 15:52:24.582962: I tensorflow/stream_executor/platform/default/dso_loader.cc:49] Successfully opened dynamic library libcudart.so.11.0\n"
     ]
    }
   ],
   "source": [
    "#!/usr/bin/env python\n",
    "import wuml"
   ]
  },
  {
   "cell_type": "markdown",
   "metadata": {},
   "source": [
    "\tWe generated a synthetic data for regression with 4 dimensions where<br>\n",
    "\tx1 x2 has positive influence<br>\n",
    "\tx3 has no influence<br>\n",
    "\tx4 has negative influence<br>\n",
    "features : x₁ x₂ x₃ x₄ -> y<br>\n",
    "Equation : 5x₁ + x₂ + x₁x₂ - 8x₄ - 2x₄x₄ + δ = y"
   ]
  },
  {
   "cell_type": "code",
   "execution_count": 2,
   "metadata": {},
   "outputs": [],
   "source": [
    "data = wuml.wData(xpath='../../data/shap_regress_example_uniform.csv', batch_size=20, \n",
    "\t\t\t\t\tlabel_type='continuous', label_column_name='label', \n",
    "\t\t\t\t\trow_id_with_label=0)"
   ]
  },
  {
   "cell_type": "code",
   "execution_count": 3,
   "metadata": {},
   "outputs": [],
   "source": [
    "EXP = wuml.explainer(data, \tloss='mse',\t\t# This will create a network for regression and explain instance wise \n",
    "\t\t\t\t\t\tnetworkStructure=[(100,'relu'),(100,'relu'),(1,'none')], \n",
    "\t\t\t\t\t\tmax_epoch=150, learning_rate=0.001, print_network_training_status=False)"
   ]
  },
  {
   "cell_type": "markdown",
   "metadata": {},
   "source": [
    "Show the regression results"
   ]
  },
  {
   "cell_type": "code",
   "execution_count": 4,
   "metadata": {},
   "outputs": [
    {
     "name": "stdout",
     "output_type": "stream",
     "text": [
      "Avg error: 0.1097\n",
      "\n",
      "['y' 'ŷ']\n",
      "[-1.1  -1.2 ]\n",
      "[-5.67 -5.86]\n",
      "[ 0.78  0.76]\n",
      "[ 3.58  3.52]\n",
      "[-7.5  -7.39]\n",
      "[-1.   -0.93]\n",
      "[-8.05 -7.73]\n",
      "[-4.14 -4.3 ]\n",
      "[-2.61 -2.79]\n",
      "[-2.31 -2.39]\n",
      "[ 1.9   2.02]\n",
      "[ 3.38  3.48]\n",
      "[-1.82 -2.12]\n",
      "[ 3.82  3.82]\n",
      "[ 1.63  1.64]\n",
      "[-0.21 -0.3 ]\n",
      "[ 0.62  0.62]\n",
      "[ 0.2   0.11]\n",
      "[ 5.76  5.71]\n",
      "[ 0.6   0.65]\n",
      "[-4.35 -4.45]\n",
      "[ 2.48  2.62]\n",
      "[-1.88 -1.99]\n",
      "[-0.05 -0.03]\n",
      "[ 2.93  2.95]\n",
      "[-5.72 -5.43]\n",
      "[-3.27 -3.59]\n",
      "[-5.91 -5.85]\n",
      "[ 0.51  0.41]\n",
      "[-1.   -0.97]\n",
      "\n"
     ]
    }
   ],
   "source": [
    "Ŷ = EXP.model(data, output_type='ndarray')\n",
    "SR_train = wuml.summarize_regression_result(data.Y, Ŷ)\n",
    "print(SR_train.true_vs_predict())"
   ]
  },
  {
   "cell_type": "markdown",
   "metadata": {},
   "source": [
    "Show the explanation results"
   ]
  },
  {
   "cell_type": "code",
   "execution_count": 5,
   "metadata": {},
   "outputs": [
    {
     "data": {
      "application/vnd.jupyter.widget-view+json": {
       "model_id": "7b805fa009b04fa3bc1bb842eb667fd3",
       "version_major": 2,
       "version_minor": 0
      },
      "text/plain": [
       "  0%|          | 0/30 [00:00<?, ?it/s]"
      ]
     },
     "metadata": {},
     "output_type": "display_data"
    },
    {
     "name": "stdout",
     "output_type": "stream",
     "text": [
      "           0         1         2         3\n",
      "0   2.833957  0.842003 -0.167241 -5.071335\n",
      "1   1.908409  0.391953 -0.250598 -8.271214\n",
      "2   4.788424  0.471233 -0.199631 -4.656204\n",
      "3   2.778220  1.094770 -0.011945 -0.697583\n",
      "4   0.084515  0.490123 -0.374236 -7.950316\n",
      "5   4.836105  0.865573 -0.112043 -6.876991\n",
      "6   0.395891  0.090933 -0.141600 -8.433346\n",
      "7   2.424643  0.240613 -0.175211 -7.150186\n",
      "8   2.102378  0.449212 -0.015426 -5.684963\n",
      "9   3.064641  0.645387 -0.140007 -6.318402\n",
      "10  1.830557  0.532769 -0.180260 -0.518419\n",
      "11  3.370221  0.861418 -0.045508 -1.068558\n",
      "12  1.548008  0.319134 -0.294861 -4.053118\n",
      "13  4.552705  0.115779 -0.050047 -1.153210\n",
      "14  3.268277  0.334265 -0.172981 -2.143845\n",
      "15  0.768239  0.074614 -0.346429 -1.155066\n",
      "16  0.994039  0.365811 -0.262307 -0.835250\n",
      "17  4.016711  0.088979 -0.255026 -4.096142\n",
      "18  4.711325  0.874578  0.025321 -0.265031\n",
      "19  1.347356  0.105633 -0.181651 -0.980775\n",
      "20  1.399957  0.215148 -0.053926 -6.367173\n",
      "21  2.842801  0.351906 -0.149371 -0.783605\n",
      "22  2.822851  1.048550 -0.109535 -6.111825\n",
      "23  0.659247  0.731859 -0.151627 -1.631325\n",
      "24  2.786081  0.025773 -0.185281 -0.035935\n",
      "25  2.958610  0.131243 -0.315288 -8.565262\n",
      "26  1.235212  0.507760 -0.313730 -5.377713\n",
      "27  0.988243  0.823111 -0.256623 -7.761380\n",
      "28  3.481133  0.354811 -0.221339 -3.563741\n",
      "29  4.431388  0.668207 -0.147166 -6.285152\n"
     ]
    }
   ],
   "source": [
    "explanation = EXP(data)\t# outputs the weight importance\n",
    "print(explanation)"
   ]
  },
  {
   "cell_type": "markdown",
   "metadata": {},
   "source": [
    "save the result"
   ]
  },
  {
   "cell_type": "code",
   "execution_count": 6,
   "metadata": {},
   "outputs": [],
   "source": [
    "wuml.pickle_dump(EXP.model, './shap_test_network.pk')"
   ]
  }
 ],
 "metadata": {
  "kernelspec": {
   "display_name": "Python 3 (ipykernel)",
   "language": "python",
   "name": "python3"
  },
  "language_info": {
   "codemirror_mode": {
    "name": "ipython",
    "version": 3
   },
   "file_extension": ".py",
   "mimetype": "text/x-python",
   "name": "python",
   "nbconvert_exporter": "python",
   "pygments_lexer": "ipython3",
   "version": "3.7.10"
  }
 },
 "nbformat": 4,
 "nbformat_minor": 2
}
