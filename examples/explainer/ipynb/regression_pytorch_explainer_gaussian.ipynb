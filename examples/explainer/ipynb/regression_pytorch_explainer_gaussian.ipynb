{
 "cells": [
  {
   "cell_type": "code",
   "execution_count": 3,
   "id": "c6cb3b24",
   "metadata": {},
   "outputs": [
    {
     "name": "stdout",
     "output_type": "stream",
     "text": [
      "Network Info:\n",
      "\tLearning rate: 0.001\n",
      "\tMax number of epochs: 150\n",
      "\tCost Function: mse\n",
      "\tTrain Loop Callback: None\n",
      "\tCuda Available: True\n",
      "\tNetwork Structure\n",
      "\t\tLinear(in_features=4, out_features=100, bias=True) , relu\n",
      "\t\tLinear(in_features=100, out_features=100, bias=True) , relu\n",
      "\t\tLinear(in_features=100, out_features=1, bias=True) , none\n",
      "\n",
      "Avg error: 0.1383\n",
      "\n",
      "['y' 'ŷ']\n",
      "[-18.04 -18.  ]\n",
      "[  7.69   7.43]\n",
      "[-16.01 -15.98]\n",
      "[  1.14   1.34]\n",
      "[ 12.33  12.29]\n",
      "[ -8.95  -9.09]\n",
      "[  8.02   8.04]\n",
      "[  8.09   8.01]\n",
      "[ -5.95  -6.13]\n",
      "[ 11.07  11.2 ]\n",
      "[-28.4  -28.26]\n",
      "[-10.19 -10.5 ]\n",
      "[-11.34 -11.45]\n",
      "[ -6.92  -6.66]\n",
      "[  3.29   3.11]\n",
      "[  4.38   4.49]\n",
      "[ -3.71  -3.83]\n",
      "[ -5.6   -5.66]\n",
      "[  7.6    7.89]\n",
      "[ -4.9   -4.82]\n",
      "[  1.58   1.65]\n",
      "[ 13.54  13.47]\n",
      "[-18.2  -17.93]\n",
      "[ -4.42  -4.41]\n",
      "[ -1.66  -1.76]\n",
      "[ -4.1   -4.  ]\n",
      "[ -1.35  -1.26]\n",
      "[  5.06   5.13]\n",
      "[-11.76 -11.95]\n",
      "[ -4.65  -5.05]\n",
      "\n"
     ]
    }
   ],
   "source": [
    "#!/usr/bin/env python\n",
    "import wuml\n",
    "\n",
    "\n",
    "##\tWe generated a synthetic data for regression with 4 dimensions where\n",
    "##\tx1 x2 has positive influence\n",
    "##\tx3 has no influence\n",
    "##\tx4 has negative influence\n",
    "#\n",
    "#\tThe key to this example is to show that if we use Gaussian type of data instead of\n",
    "#\tUniform, the explanation labels no longer have the correct signs. (Magnitude still makes sense)\n",
    "#\tImplying that perhaps we should always map data to uniform distribution\n",
    "\n",
    "data = wuml.wData(xpath='../../data/shap_regress_example_gaussian.csv', batch_size=20, \n",
    "\t\t\t\t\tlabel_type='continuous', label_column_name='label', \n",
    "\t\t\t\t\trow_id_with_label=0)\n",
    "\n",
    "\n",
    "EXP = wuml.explainer(data, \tloss='mse',\t\t# This will create a network for regression and explain instance wise \n",
    "\t\t\t\t\t\tnetworkStructure=[(100,'relu'),(100,'relu'),(1,'none')], \n",
    "\t\t\t\t\t\tmax_epoch=150, learning_rate=0.001, print_network_training_status=False)\n",
    "\n",
    "\n",
    "# Show the regression results\n",
    "Ŷ = EXP.net(data, output_type='ndarray')\n",
    "SR_train = wuml.summarize_regression_result(data.Y, Ŷ)\n",
    "print(SR_train.true_vs_predict(print_result=False))\n"
   ]
  },
  {
   "cell_type": "code",
   "execution_count": 4,
   "id": "108f1c5d",
   "metadata": {},
   "outputs": [
    {
     "data": {
      "application/vnd.jupyter.widget-view+json": {
       "model_id": "25d9235d6a7a42cc81a377985d2cffce",
       "version_major": 2,
       "version_minor": 0
      },
      "text/plain": [
       "  0%|          | 0/30 [00:00<?, ?it/s]"
      ]
     },
     "metadata": {},
     "output_type": "display_data"
    },
    {
     "name": "stdout",
     "output_type": "stream",
     "text": [
      "[[  6.131    0.3491   0.3403 -25.0978]\n",
      " [  7.5935  -1.5995   0.0205   1.1335]\n",
      " [ -0.4465   0.0581   0.0831 -15.9543]\n",
      " [  3.7118   0.188   -0.0655  -2.7714]\n",
      " [  7.1184  -0.2533  -0.098    5.2478]\n",
      " [-14.0462   0.1772   0.0659   4.4375]\n",
      " [  8.7578  -2.3954  -0.0049   1.4002]\n",
      " [  8.3315   2.7062   0.06    -3.3639]\n",
      " [ -4.2112  -0.948   -0.0493  -1.2052]\n",
      " [  6.8344   2.0732  -0.2046   2.2138]\n",
      " [ -4.8004  -0.7342  -2.0454 -20.9634]\n",
      " [ -2.3959  -0.2576  -0.6701  -7.4583]\n",
      " [ -8.1887  -0.0442  -0.2969  -3.2003]\n",
      " [ -2.4816  -0.7023   0.      -3.7596]\n",
      " [  0.3662   0.194   -0.1493   2.4192]\n",
      " [ -3.8864  -0.1323  -0.1625   8.3939]\n",
      " [  0.8205  -0.1832  -0.9343  -3.8095]\n",
      " [ -4.8955   0.023   -0.1446  -0.9184]\n",
      " [  4.6805  -1.4442  -0.0546   4.4297]\n",
      " [ -4.4958  -0.2119   0.0011  -0.3891]\n",
      " [ -6.898    0.59     0.0183   7.662 ]\n",
      " [  8.3319   3.4807   0.1055   1.2695]\n",
      " [ -5.6383   0.3458  -0.1172 -12.801 ]\n",
      " [  1.1386   0.9947   0.0959  -6.9236]\n",
      " [  0.0636   1.5234   0.0508  -3.6794]\n",
      " [  7.6236  -1.9248  -0.2726  -9.7075]\n",
      " [ -7.4739   1.3218  -0.1646   4.7788]\n",
      " [ 10.1691   3.054    0.4323  -8.8062]\n",
      " [ -5.137    0.7958  -0.165   -7.7248]\n",
      " [  4.23    -0.1601   0.0825  -9.4817]]\n"
     ]
    }
   ],
   "source": [
    "# Show the explanation results\n",
    "explanation = EXP(data)\t# outputs the weight importance\n",
    "print(explanation)"
   ]
  },
  {
   "cell_type": "code",
   "execution_count": null,
   "id": "7c9ca698",
   "metadata": {},
   "outputs": [],
   "source": []
  }
 ],
 "metadata": {
  "kernelspec": {
   "display_name": "Python 3",
   "language": "python",
   "name": "python3"
  },
  "language_info": {
   "codemirror_mode": {
    "name": "ipython",
    "version": 3
   },
   "file_extension": ".py",
   "mimetype": "text/x-python",
   "name": "python",
   "nbconvert_exporter": "python",
   "pygments_lexer": "ipython3",
   "version": "3.7.10"
  }
 },
 "nbformat": 4,
 "nbformat_minor": 5
}
