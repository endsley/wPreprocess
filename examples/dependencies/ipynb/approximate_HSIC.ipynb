{
 "cells": [
  {
   "cell_type": "code",
   "execution_count": 1,
   "metadata": {},
   "outputs": [],
   "source": [
    "#!/usr/bin/env python"
   ]
  },
  {
   "cell_type": "code",
   "execution_count": 2,
   "metadata": {},
   "outputs": [],
   "source": [
    "import os\n",
    "import sys\n",
    "if os.path.exists('/home/chieh/code/wPlotLib'):\n",
    "\tsys.path.insert(0,'/home/chieh/code/wPlotLib')\n",
    "if os.path.exists('/home/chieh/code/wuML'):\n",
    "\tsys.path.insert(0,'/home/chieh/code/wuML')"
   ]
  },
  {
   "cell_type": "code",
   "execution_count": 3,
   "metadata": {},
   "outputs": [],
   "source": [
    "import numpy as np\n",
    "import wuml"
   ]
  },
  {
   "cell_type": "code",
   "execution_count": 4,
   "metadata": {},
   "outputs": [],
   "source": [
    "n = 2000"
   ]
  },
  {
   "cell_type": "markdown",
   "metadata": {},
   "source": [
    "Sine Data"
   ]
  },
  {
   "cell_type": "code",
   "execution_count": 5,
   "metadata": {},
   "outputs": [],
   "source": [
    "dat_x = 9.3*np.random.rand(n,1)\n",
    "dat_y = np.sin(dat_x)\n",
    "sine_data = np.hstack((dat_x,dat_y)) + 0.06*np.random.randn(n,2)"
   ]
  },
  {
   "cell_type": "code",
   "execution_count": 6,
   "metadata": {},
   "outputs": [],
   "source": [
    "sine_data_100 = wuml.sampling_rows_from_matrix(100, sine_data)\n",
    "sine_data_200 = wuml.sampling_rows_from_matrix(200, sine_data)\n",
    "sine_data_500 = wuml.sampling_rows_from_matrix(500, sine_data)\n",
    "sine_data_1000 = wuml.sampling_rows_from_matrix(1000, sine_data)\n",
    "sine_data_1500 = wuml.sampling_rows_from_matrix(1500, sine_data)"
   ]
  },
  {
   "cell_type": "code",
   "execution_count": 7,
   "metadata": {},
   "outputs": [],
   "source": [
    "sine_hsic = wuml.HSIC(sine_data[:,0], sine_data[:,1], sigma_type='opt', normalize_hsic=False)\n",
    "sine_hsic_100 = wuml.HSIC(sine_data_100[:,0], sine_data_100[:,1], sigma_type='opt', normalize_hsic=False)\n",
    "sine_hsic_200 = wuml.HSIC(sine_data_200[:,0], sine_data_200[:,1], sigma_type='opt', normalize_hsic=False)\n",
    "sine_hsic_500 = wuml.HSIC(sine_data_500[:,0], sine_data_500[:,1], sigma_type='opt', normalize_hsic=False)\n",
    "sine_hsic_1000 = wuml.HSIC(sine_data_1000[:,0], sine_data_1000[:,1], sigma_type='opt', normalize_hsic=False)\n",
    "sine_hsic_1500 = wuml.HSIC(sine_data_1500[:,0], sine_data_1500[:,1], sigma_type='opt', normalize_hsic=False)"
   ]
  },
  {
   "cell_type": "code",
   "execution_count": 8,
   "metadata": {},
   "outputs": [
    {
     "name": "stdout",
     "output_type": "stream",
     "text": [
      "\tHSIC full size     :  0.05183779964238666 , size: (2000, 2)\n",
      "\tHSIC approximation :  0.05734742269214304 , size: (100, 2)\n",
      "\tHSIC approximation :  0.042250994783774386 , size: (200, 2)\n",
      "\tHSIC approximation :  0.055366270783637886 , size: (500, 2)\n",
      "\tHSIC approximation :  0.05368555876121887 , size: (1000, 2)\n",
      "\tHSIC approximation :  0.052572878602673984 , size: (1500, 2)\n"
     ]
    }
   ],
   "source": [
    "print('\\tHSIC full size     : ', sine_hsic, ', size:', sine_data.shape)\n",
    "print('\\tHSIC approximation : ', sine_hsic_100, ', size:', sine_data_100.shape)\n",
    "print('\\tHSIC approximation : ', sine_hsic_200, ', size:', sine_data_200.shape)\n",
    "print('\\tHSIC approximation : ', sine_hsic_500, ', size:', sine_data_500.shape)\n",
    "print('\\tHSIC approximation : ', sine_hsic_1000, ', size:', sine_data_1000.shape)\n",
    "print('\\tHSIC approximation : ', sine_hsic_1500, ', size:', sine_data_1500.shape)"
   ]
  }
 ],
 "metadata": {
  "kernelspec": {
   "display_name": "Python 3",
   "language": "python",
   "name": "python3"
  },
  "language_info": {
   "codemirror_mode": {
    "name": "ipython",
    "version": 3
   },
   "file_extension": ".py",
   "mimetype": "text/x-python",
   "name": "python",
   "nbconvert_exporter": "python",
   "pygments_lexer": "ipython3",
   "version": "3.8.10"
  }
 },
 "nbformat": 4,
 "nbformat_minor": 2
}
