{
 "cells": [
  {
   "cell_type": "code",
   "execution_count": 1,
   "metadata": {
    "execution": {
     "iopub.execute_input": "2023-04-01T16:46:51.506249Z",
     "iopub.status.busy": "2023-04-01T16:46:51.505756Z",
     "iopub.status.idle": "2023-04-01T16:46:51.512188Z",
     "shell.execute_reply": "2023-04-01T16:46:51.510922Z"
    }
   },
   "outputs": [],
   "source": [
    "#!/usr/bin/env python"
   ]
  },
  {
   "cell_type": "code",
   "execution_count": 2,
   "metadata": {
    "execution": {
     "iopub.execute_input": "2023-04-01T16:46:51.518160Z",
     "iopub.status.busy": "2023-04-01T16:46:51.517856Z",
     "iopub.status.idle": "2023-04-01T16:46:51.523061Z",
     "shell.execute_reply": "2023-04-01T16:46:51.522099Z"
    }
   },
   "outputs": [],
   "source": [
    "import os\n",
    "import sys\n",
    "if os.path.exists('/home/chieh/code/wPlotLib'):\n",
    "\tsys.path.insert(0,'/home/chieh/code/wPlotLib')\n",
    "if os.path.exists('/home/chieh/code/wuML'):\n",
    "\tsys.path.insert(0,'/home/chieh/code/wuML')"
   ]
  },
  {
   "cell_type": "code",
   "execution_count": 3,
   "metadata": {
    "execution": {
     "iopub.execute_input": "2023-04-01T16:46:51.526653Z",
     "iopub.status.busy": "2023-04-01T16:46:51.526386Z",
     "iopub.status.idle": "2023-04-01T16:46:53.361502Z",
     "shell.execute_reply": "2023-04-01T16:46:53.360693Z"
    }
   },
   "outputs": [],
   "source": [
    "import numpy as np\n",
    "import wuml"
   ]
  },
  {
   "cell_type": "code",
   "execution_count": 4,
   "metadata": {
    "execution": {
     "iopub.execute_input": "2023-04-01T16:46:53.366728Z",
     "iopub.status.busy": "2023-04-01T16:46:53.366531Z",
     "iopub.status.idle": "2023-04-01T16:46:53.370014Z",
     "shell.execute_reply": "2023-04-01T16:46:53.369073Z"
    }
   },
   "outputs": [],
   "source": [
    "n = 2000"
   ]
  },
  {
   "cell_type": "markdown",
   "metadata": {},
   "source": [
    "Sine Data"
   ]
  },
  {
   "cell_type": "code",
   "execution_count": 5,
   "metadata": {
    "execution": {
     "iopub.execute_input": "2023-04-01T16:46:53.376430Z",
     "iopub.status.busy": "2023-04-01T16:46:53.376064Z",
     "iopub.status.idle": "2023-04-01T16:46:53.382775Z",
     "shell.execute_reply": "2023-04-01T16:46:53.381856Z"
    }
   },
   "outputs": [],
   "source": [
    "dat_x = 9.3*np.random.rand(n,1)\n",
    "dat_y = np.sin(dat_x)\n",
    "sine_data = np.hstack((dat_x,dat_y)) + 0.06*np.random.randn(n,2)"
   ]
  },
  {
   "cell_type": "code",
   "execution_count": 6,
   "metadata": {
    "execution": {
     "iopub.execute_input": "2023-04-01T16:46:53.386445Z",
     "iopub.status.busy": "2023-04-01T16:46:53.386087Z",
     "iopub.status.idle": "2023-04-01T16:46:53.393327Z",
     "shell.execute_reply": "2023-04-01T16:46:53.392307Z"
    }
   },
   "outputs": [],
   "source": [
    "sine_data_100 = wuml.sampling_rows_from_matrix(100, sine_data)\n",
    "sine_data_200 = wuml.sampling_rows_from_matrix(200, sine_data)\n",
    "sine_data_500 = wuml.sampling_rows_from_matrix(500, sine_data)\n",
    "sine_data_1000 = wuml.sampling_rows_from_matrix(1000, sine_data)\n",
    "sine_data_1500 = wuml.sampling_rows_from_matrix(1500, sine_data)"
   ]
  },
  {
   "cell_type": "code",
   "execution_count": 7,
   "metadata": {
    "execution": {
     "iopub.execute_input": "2023-04-01T16:46:53.397578Z",
     "iopub.status.busy": "2023-04-01T16:46:53.397247Z",
     "iopub.status.idle": "2023-04-01T16:46:54.554982Z",
     "shell.execute_reply": "2023-04-01T16:46:54.554080Z"
    }
   },
   "outputs": [],
   "source": [
    "sine_hsic = wuml.HSIC(sine_data[:,0], sine_data[:,1], sigma_type='opt', normalize_hsic=False)\n",
    "sine_hsic_100 = wuml.HSIC(sine_data_100[:,0], sine_data_100[:,1], sigma_type='opt', normalize_hsic=False)\n",
    "sine_hsic_200 = wuml.HSIC(sine_data_200[:,0], sine_data_200[:,1], sigma_type='opt', normalize_hsic=False)\n",
    "sine_hsic_500 = wuml.HSIC(sine_data_500[:,0], sine_data_500[:,1], sigma_type='opt', normalize_hsic=False)\n",
    "sine_hsic_1000 = wuml.HSIC(sine_data_1000[:,0], sine_data_1000[:,1], sigma_type='opt', normalize_hsic=False)\n",
    "sine_hsic_1500 = wuml.HSIC(sine_data_1500[:,0], sine_data_1500[:,1], sigma_type='opt', normalize_hsic=False)"
   ]
  },
  {
   "cell_type": "code",
   "execution_count": 8,
   "metadata": {
    "execution": {
     "iopub.execute_input": "2023-04-01T16:46:54.561018Z",
     "iopub.status.busy": "2023-04-01T16:46:54.560648Z",
     "iopub.status.idle": "2023-04-01T16:46:54.569819Z",
     "shell.execute_reply": "2023-04-01T16:46:54.568959Z"
    }
   },
   "outputs": [
    {
     "name": "stdout",
     "output_type": "stream",
     "text": [
      "\tHSIC full size     : 0.05, size: (2000, 2)\n",
      "\tHSIC approximation : 0.06, size: (100, 2)\n",
      "\tHSIC approximation : 0.04, size: (200, 2)\n",
      "\tHSIC approximation : 0.06, size: (500, 2)\n",
      "\tHSIC approximation : 0.05, size: (1000, 2)\n",
      "\tHSIC approximation : 0.05, size: (1500, 2)\n"
     ]
    }
   ],
   "source": [
    "wuml.jupyter_print('\\tHSIC full size     : %.2f, size: %s'%(sine_hsic, str(sine_data.shape)))\n",
    "wuml.jupyter_print('\\tHSIC approximation : %.2f, size: %s'%(sine_hsic_100,  str(sine_data_100.shape)))\n",
    "wuml.jupyter_print('\\tHSIC approximation : %.2f, size: %s'%(sine_hsic_200,  str(sine_data_200.shape)))\n",
    "wuml.jupyter_print('\\tHSIC approximation : %.2f, size: %s'%(sine_hsic_500,  str(sine_data_500.shape)))\n",
    "wuml.jupyter_print('\\tHSIC approximation : %.2f, size: %s'%(sine_hsic_1000, str(sine_data_1000.shape)))\n",
    "wuml.jupyter_print('\\tHSIC approximation : %.2f, size: %s'%(sine_hsic_1500, str(sine_data_1500.shape)))"
   ]
  }
 ],
 "metadata": {
  "kernelspec": {
   "display_name": "Python 3",
   "language": "python",
   "name": "python3"
  },
  "language_info": {
   "codemirror_mode": {
    "name": "ipython",
    "version": 3
   },
   "file_extension": ".py",
   "mimetype": "text/x-python",
   "name": "python",
   "nbconvert_exporter": "python",
   "pygments_lexer": "ipython3",
   "version": "3.8.10"
  }
 },
 "nbformat": 4,
 "nbformat_minor": 2
}
