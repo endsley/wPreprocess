{
 "cells": [
  {
   "cell_type": "code",
   "execution_count": 1,
   "metadata": {
    "execution": {
     "iopub.execute_input": "2023-03-15T18:01:49.869495Z",
     "iopub.status.busy": "2023-03-15T18:01:49.869112Z",
     "iopub.status.idle": "2023-03-15T18:01:49.874711Z",
     "shell.execute_reply": "2023-03-15T18:01:49.873521Z"
    }
   },
   "outputs": [],
   "source": [
    "#!/usr/bin/env python"
   ]
  },
  {
   "cell_type": "code",
   "execution_count": 2,
   "metadata": {
    "execution": {
     "iopub.execute_input": "2023-03-15T18:01:49.879738Z",
     "iopub.status.busy": "2023-03-15T18:01:49.879259Z",
     "iopub.status.idle": "2023-03-15T18:01:49.886230Z",
     "shell.execute_reply": "2023-03-15T18:01:49.885103Z"
    }
   },
   "outputs": [],
   "source": [
    "import os\n",
    "import sys\n",
    "if os.path.exists('/home/chieh/code/wPlotLib'):\n",
    "\tsys.path.insert(0,'/home/chieh/code/wPlotLib')\n",
    "if os.path.exists('/home/chieh/code/wuML'):\n",
    "\tsys.path.insert(0,'/home/chieh/code/wuML')"
   ]
  },
  {
   "cell_type": "code",
   "execution_count": 3,
   "metadata": {
    "execution": {
     "iopub.execute_input": "2023-03-15T18:01:49.891377Z",
     "iopub.status.busy": "2023-03-15T18:01:49.891014Z",
     "iopub.status.idle": "2023-03-15T18:01:51.752684Z",
     "shell.execute_reply": "2023-03-15T18:01:51.751959Z"
    }
   },
   "outputs": [],
   "source": [
    "import numpy as np\n",
    "import wuml"
   ]
  },
  {
   "cell_type": "code",
   "execution_count": 4,
   "metadata": {
    "execution": {
     "iopub.execute_input": "2023-03-15T18:01:51.757614Z",
     "iopub.status.busy": "2023-03-15T18:01:51.757419Z",
     "iopub.status.idle": "2023-03-15T18:01:51.760444Z",
     "shell.execute_reply": "2023-03-15T18:01:51.759704Z"
    }
   },
   "outputs": [],
   "source": [
    "n = 2000"
   ]
  },
  {
   "cell_type": "markdown",
   "metadata": {},
   "source": [
    "Sine Data"
   ]
  },
  {
   "cell_type": "code",
   "execution_count": 5,
   "metadata": {
    "execution": {
     "iopub.execute_input": "2023-03-15T18:01:51.766233Z",
     "iopub.status.busy": "2023-03-15T18:01:51.765997Z",
     "iopub.status.idle": "2023-03-15T18:01:51.771011Z",
     "shell.execute_reply": "2023-03-15T18:01:51.770101Z"
    }
   },
   "outputs": [],
   "source": [
    "dat_x = 9.3*np.random.rand(n,1)\n",
    "dat_y = np.sin(dat_x)\n",
    "sine_data = np.hstack((dat_x,dat_y)) + 0.06*np.random.randn(n,2)"
   ]
  },
  {
   "cell_type": "code",
   "execution_count": 6,
   "metadata": {
    "execution": {
     "iopub.execute_input": "2023-03-15T18:01:51.774762Z",
     "iopub.status.busy": "2023-03-15T18:01:51.774540Z",
     "iopub.status.idle": "2023-03-15T18:01:51.780550Z",
     "shell.execute_reply": "2023-03-15T18:01:51.779405Z"
    }
   },
   "outputs": [],
   "source": [
    "sine_data_100 = wuml.sampling_rows_from_matrix(100, sine_data)\n",
    "sine_data_200 = wuml.sampling_rows_from_matrix(200, sine_data)\n",
    "sine_data_500 = wuml.sampling_rows_from_matrix(500, sine_data)\n",
    "sine_data_1000 = wuml.sampling_rows_from_matrix(1000, sine_data)\n",
    "sine_data_1500 = wuml.sampling_rows_from_matrix(1500, sine_data)"
   ]
  },
  {
   "cell_type": "code",
   "execution_count": 7,
   "metadata": {
    "execution": {
     "iopub.execute_input": "2023-03-15T18:01:51.784925Z",
     "iopub.status.busy": "2023-03-15T18:01:51.784408Z",
     "iopub.status.idle": "2023-03-15T18:01:53.016389Z",
     "shell.execute_reply": "2023-03-15T18:01:53.015482Z"
    }
   },
   "outputs": [],
   "source": [
    "sine_hsic = wuml.HSIC(sine_data[:,0], sine_data[:,1], sigma_type='opt', normalize_hsic=False)\n",
    "sine_hsic_100 = wuml.HSIC(sine_data_100[:,0], sine_data_100[:,1], sigma_type='opt', normalize_hsic=False)\n",
    "sine_hsic_200 = wuml.HSIC(sine_data_200[:,0], sine_data_200[:,1], sigma_type='opt', normalize_hsic=False)\n",
    "sine_hsic_500 = wuml.HSIC(sine_data_500[:,0], sine_data_500[:,1], sigma_type='opt', normalize_hsic=False)\n",
    "sine_hsic_1000 = wuml.HSIC(sine_data_1000[:,0], sine_data_1000[:,1], sigma_type='opt', normalize_hsic=False)\n",
    "sine_hsic_1500 = wuml.HSIC(sine_data_1500[:,0], sine_data_1500[:,1], sigma_type='opt', normalize_hsic=False)"
   ]
  },
  {
   "cell_type": "code",
   "execution_count": 8,
   "metadata": {
    "execution": {
     "iopub.execute_input": "2023-03-15T18:01:53.020770Z",
     "iopub.status.busy": "2023-03-15T18:01:53.020579Z",
     "iopub.status.idle": "2023-03-15T18:01:53.029184Z",
     "shell.execute_reply": "2023-03-15T18:01:53.027867Z"
    }
   },
   "outputs": [
    {
     "name": "stdout",
     "output_type": "stream",
     "text": [
      "\tHSIC full size     : 0.05, size: (2000, 2)\n",
      "\tHSIC approximation : 0.06, size: (100, 2)\n",
      "\tHSIC approximation : 0.04, size: (200, 2)\n",
      "\tHSIC approximation : 0.06, size: (500, 2)\n",
      "\tHSIC approximation : 0.05, size: (1000, 2)\n",
      "\tHSIC approximation : 0.05, size: (1500, 2)\n"
     ]
    }
   ],
   "source": [
    "wuml.jupyter_print('\\tHSIC full size     : %.2f, size: %s'%(sine_hsic, str(sine_data.shape)))\n",
    "wuml.jupyter_print('\\tHSIC approximation : %.2f, size: %s'%(sine_hsic_100,  str(sine_data_100.shape)))\n",
    "wuml.jupyter_print('\\tHSIC approximation : %.2f, size: %s'%(sine_hsic_200,  str(sine_data_200.shape)))\n",
    "wuml.jupyter_print('\\tHSIC approximation : %.2f, size: %s'%(sine_hsic_500,  str(sine_data_500.shape)))\n",
    "wuml.jupyter_print('\\tHSIC approximation : %.2f, size: %s'%(sine_hsic_1000, str(sine_data_1000.shape)))\n",
    "wuml.jupyter_print('\\tHSIC approximation : %.2f, size: %s'%(sine_hsic_1500, str(sine_data_1500.shape)))"
   ]
  }
 ],
 "metadata": {
  "kernelspec": {
   "display_name": "Python 3",
   "language": "python",
   "name": "python3"
  },
  "language_info": {
   "codemirror_mode": {
    "name": "ipython",
    "version": 3
   },
   "file_extension": ".py",
   "mimetype": "text/x-python",
   "name": "python",
   "nbconvert_exporter": "python",
   "pygments_lexer": "ipython3",
   "version": "3.8.10"
  }
 },
 "nbformat": 4,
 "nbformat_minor": 2
}
