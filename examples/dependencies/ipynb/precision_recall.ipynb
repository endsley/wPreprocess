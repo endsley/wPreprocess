{
 "cells": [
  {
   "cell_type": "code",
   "execution_count": 1,
   "metadata": {
    "execution": {
     "iopub.execute_input": "2023-04-01T16:47:04.135045Z",
     "iopub.status.busy": "2023-04-01T16:47:04.134560Z",
     "iopub.status.idle": "2023-04-01T16:47:04.141332Z",
     "shell.execute_reply": "2023-04-01T16:47:04.139726Z"
    }
   },
   "outputs": [],
   "source": [
    "#!/usr/bin/env python"
   ]
  },
  {
   "cell_type": "code",
   "execution_count": 2,
   "metadata": {
    "execution": {
     "iopub.execute_input": "2023-04-01T16:47:04.146069Z",
     "iopub.status.busy": "2023-04-01T16:47:04.145826Z",
     "iopub.status.idle": "2023-04-01T16:47:04.150926Z",
     "shell.execute_reply": "2023-04-01T16:47:04.149844Z"
    }
   },
   "outputs": [],
   "source": [
    "import os\n",
    "import sys\n",
    "if os.path.exists('/home/chieh/code/wPlotLib'):\n",
    "\tsys.path.insert(0,'/home/chieh/code/wPlotLib')\n",
    "if os.path.exists('/home/chieh/code/wuML'):\n",
    "\tsys.path.insert(0,'/home/chieh/code/wuML')"
   ]
  },
  {
   "cell_type": "code",
   "execution_count": 3,
   "metadata": {
    "execution": {
     "iopub.execute_input": "2023-04-01T16:47:04.155051Z",
     "iopub.status.busy": "2023-04-01T16:47:04.154718Z",
     "iopub.status.idle": "2023-04-01T16:47:05.975575Z",
     "shell.execute_reply": "2023-04-01T16:47:05.974713Z"
    }
   },
   "outputs": [],
   "source": [
    "import numpy as np\n",
    "import wuml"
   ]
  },
  {
   "cell_type": "markdown",
   "metadata": {},
   "source": [
    "Binary even, 1 is positive"
   ]
  },
  {
   "cell_type": "code",
   "execution_count": 4,
   "metadata": {
    "execution": {
     "iopub.execute_input": "2023-04-01T16:47:05.980973Z",
     "iopub.status.busy": "2023-04-01T16:47:05.980765Z",
     "iopub.status.idle": "2023-04-01T16:47:05.984721Z",
     "shell.execute_reply": "2023-04-01T16:47:05.983862Z"
    }
   },
   "outputs": [],
   "source": [
    "y = np.array([1,1,1,1,0,0,0,0,0,0])\t# true labels\n",
    "ŷ = np.array([1,1,1,1,1,0,0,0,0,0]) # predicted labels"
   ]
  },
  {
   "cell_type": "markdown",
   "metadata": {},
   "source": [
    "Precision is the probably of you being correct if you predicted a positive event<br>\n",
    "\there we have 5 predicted positive events, but only 4 were correct 80%<br>\n",
    "Recall is the probably of predicting a positive even if it did occure<br>\n",
    "\there we have 4 true positive events and we got all of them so 100%"
   ]
  },
  {
   "cell_type": "code",
   "execution_count": 5,
   "metadata": {
    "execution": {
     "iopub.execute_input": "2023-04-01T16:47:05.990037Z",
     "iopub.status.busy": "2023-04-01T16:47:05.989808Z",
     "iopub.status.idle": "2023-04-01T16:47:05.996934Z",
     "shell.execute_reply": "2023-04-01T16:47:05.996036Z"
    }
   },
   "outputs": [],
   "source": [
    "P = wuml.precision(y, ŷ)\n",
    "R = wuml.recall(y, ŷ)"
   ]
  },
  {
   "cell_type": "code",
   "execution_count": 6,
   "metadata": {
    "execution": {
     "iopub.execute_input": "2023-04-01T16:47:05.999933Z",
     "iopub.status.busy": "2023-04-01T16:47:05.999733Z",
     "iopub.status.idle": "2023-04-01T16:47:06.003820Z",
     "shell.execute_reply": "2023-04-01T16:47:06.003119Z"
    }
   },
   "outputs": [
    {
     "name": "stdout",
     "output_type": "stream",
     "text": [
      "Precision: 0.800\n",
      "Recall : 1.000\n"
     ]
    }
   ],
   "source": [
    "wuml.jupyter_print('Precision: %.3f'%P)\n",
    "wuml.jupyter_print('Recall : %.3f'%R)"
   ]
  }
 ],
 "metadata": {
  "kernelspec": {
   "display_name": "Python 3",
   "language": "python",
   "name": "python3"
  },
  "language_info": {
   "codemirror_mode": {
    "name": "ipython",
    "version": 3
   },
   "file_extension": ".py",
   "mimetype": "text/x-python",
   "name": "python",
   "nbconvert_exporter": "python",
   "pygments_lexer": "ipython3",
   "version": "3.8.10"
  }
 },
 "nbformat": 4,
 "nbformat_minor": 2
}
