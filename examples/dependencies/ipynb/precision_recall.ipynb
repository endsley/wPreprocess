{
 "cells": [
  {
   "cell_type": "code",
   "execution_count": 1,
   "metadata": {
    "execution": {
     "iopub.execute_input": "2023-03-15T18:02:03.109706Z",
     "iopub.status.busy": "2023-03-15T18:02:03.109463Z",
     "iopub.status.idle": "2023-03-15T18:02:03.113904Z",
     "shell.execute_reply": "2023-03-15T18:02:03.112524Z"
    }
   },
   "outputs": [],
   "source": [
    "#!/usr/bin/env python"
   ]
  },
  {
   "cell_type": "code",
   "execution_count": 2,
   "metadata": {
    "execution": {
     "iopub.execute_input": "2023-03-15T18:02:03.118056Z",
     "iopub.status.busy": "2023-03-15T18:02:03.117857Z",
     "iopub.status.idle": "2023-03-15T18:02:03.122194Z",
     "shell.execute_reply": "2023-03-15T18:02:03.121541Z"
    }
   },
   "outputs": [],
   "source": [
    "import os\n",
    "import sys\n",
    "if os.path.exists('/home/chieh/code/wPlotLib'):\n",
    "\tsys.path.insert(0,'/home/chieh/code/wPlotLib')\n",
    "if os.path.exists('/home/chieh/code/wuML'):\n",
    "\tsys.path.insert(0,'/home/chieh/code/wuML')"
   ]
  },
  {
   "cell_type": "code",
   "execution_count": 3,
   "metadata": {
    "execution": {
     "iopub.execute_input": "2023-03-15T18:02:03.125958Z",
     "iopub.status.busy": "2023-03-15T18:02:03.125728Z",
     "iopub.status.idle": "2023-03-15T18:02:04.947420Z",
     "shell.execute_reply": "2023-03-15T18:02:04.946670Z"
    }
   },
   "outputs": [],
   "source": [
    "import numpy as np\n",
    "import wuml"
   ]
  },
  {
   "cell_type": "markdown",
   "metadata": {},
   "source": [
    "Binary even, 1 is positive"
   ]
  },
  {
   "cell_type": "code",
   "execution_count": 4,
   "metadata": {
    "execution": {
     "iopub.execute_input": "2023-03-15T18:02:04.951890Z",
     "iopub.status.busy": "2023-03-15T18:02:04.951692Z",
     "iopub.status.idle": "2023-03-15T18:02:04.955788Z",
     "shell.execute_reply": "2023-03-15T18:02:04.955072Z"
    }
   },
   "outputs": [],
   "source": [
    "y = np.array([1,1,1,1,0,0,0,0,0,0])\t# true labels\n",
    "ŷ = np.array([1,1,1,1,1,0,0,0,0,0]) # predicted labels"
   ]
  },
  {
   "cell_type": "markdown",
   "metadata": {},
   "source": [
    "Precision is the probably of you being correct if you predicted a positive event<br>\n",
    "\there we have 5 predicted positive events, but only 4 were correct 80%<br>\n",
    "Recall is the probably of predicting a positive even if it did occure<br>\n",
    "\there we have 4 true positive events and we got all of them so 100%"
   ]
  },
  {
   "cell_type": "code",
   "execution_count": 5,
   "metadata": {
    "execution": {
     "iopub.execute_input": "2023-03-15T18:02:04.960188Z",
     "iopub.status.busy": "2023-03-15T18:02:04.959959Z",
     "iopub.status.idle": "2023-03-15T18:02:04.966076Z",
     "shell.execute_reply": "2023-03-15T18:02:04.965498Z"
    }
   },
   "outputs": [],
   "source": [
    "P = wuml.precision(y, ŷ)\n",
    "R = wuml.recall(y, ŷ)"
   ]
  },
  {
   "cell_type": "code",
   "execution_count": 6,
   "metadata": {
    "execution": {
     "iopub.execute_input": "2023-03-15T18:02:04.969887Z",
     "iopub.status.busy": "2023-03-15T18:02:04.969619Z",
     "iopub.status.idle": "2023-03-15T18:02:04.975827Z",
     "shell.execute_reply": "2023-03-15T18:02:04.974999Z"
    }
   },
   "outputs": [
    {
     "name": "stdout",
     "output_type": "stream",
     "text": [
      "Precision: 0.800\n",
      "Recall : 1.000\n"
     ]
    }
   ],
   "source": [
    "wuml.jupyter_print('Precision: %.3f'%P)\n",
    "wuml.jupyter_print('Recall : %.3f'%R)"
   ]
  }
 ],
 "metadata": {
  "kernelspec": {
   "display_name": "Python 3",
   "language": "python",
   "name": "python3"
  },
  "language_info": {
   "codemirror_mode": {
    "name": "ipython",
    "version": 3
   },
   "file_extension": ".py",
   "mimetype": "text/x-python",
   "name": "python",
   "nbconvert_exporter": "python",
   "pygments_lexer": "ipython3",
   "version": "3.8.10"
  }
 },
 "nbformat": 4,
 "nbformat_minor": 2
}
