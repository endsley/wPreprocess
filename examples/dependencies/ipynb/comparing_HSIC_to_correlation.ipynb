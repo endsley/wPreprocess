{
 "cells": [
  {
   "cell_type": "code",
   "execution_count": 1,
   "metadata": {
    "execution": {
     "iopub.execute_input": "2023-03-15T18:01:56.317397Z",
     "iopub.status.busy": "2023-03-15T18:01:56.316950Z",
     "iopub.status.idle": "2023-03-15T18:01:56.323325Z",
     "shell.execute_reply": "2023-03-15T18:01:56.322078Z"
    }
   },
   "outputs": [],
   "source": [
    "#!/usr/bin/env python"
   ]
  },
  {
   "cell_type": "code",
   "execution_count": 2,
   "metadata": {
    "execution": {
     "iopub.execute_input": "2023-03-15T18:01:56.327981Z",
     "iopub.status.busy": "2023-03-15T18:01:56.327772Z",
     "iopub.status.idle": "2023-03-15T18:01:56.332406Z",
     "shell.execute_reply": "2023-03-15T18:01:56.331449Z"
    }
   },
   "outputs": [],
   "source": [
    "import os\n",
    "import sys\n",
    "if os.path.exists('/home/chieh/code/wPlotLib'):\n",
    "\tsys.path.insert(0,'/home/chieh/code/wPlotLib')\n",
    "if os.path.exists('/home/chieh/code/wuML'):\n",
    "\tsys.path.insert(0,'/home/chieh/code/wuML')"
   ]
  },
  {
   "cell_type": "code",
   "execution_count": 3,
   "metadata": {
    "execution": {
     "iopub.execute_input": "2023-03-15T18:01:56.337316Z",
     "iopub.status.busy": "2023-03-15T18:01:56.336952Z",
     "iopub.status.idle": "2023-03-15T18:01:58.150330Z",
     "shell.execute_reply": "2023-03-15T18:01:58.149464Z"
    }
   },
   "outputs": [],
   "source": [
    "import wuml \n",
    "import numpy as np\n",
    "import scipy.stats\n",
    "import pandas as pd\n",
    "from scipy.stats.stats import pearsonr  \n",
    "from sklearn.preprocessing import KBinsDiscretizer\n",
    "from wplotlib import histograms\n",
    "from wplotlib import lines\n",
    "import ppscore as pps\n",
    "from sklearn.metrics.cluster import normalized_mutual_info_score\n",
    "import matplotlib.pyplot as plt"
   ]
  },
  {
   "cell_type": "code",
   "execution_count": 4,
   "metadata": {
    "execution": {
     "iopub.execute_input": "2023-03-15T18:01:58.155500Z",
     "iopub.status.busy": "2023-03-15T18:01:58.155162Z",
     "iopub.status.idle": "2023-03-15T18:01:58.159652Z",
     "shell.execute_reply": "2023-03-15T18:01:58.158590Z"
    }
   },
   "outputs": [],
   "source": [
    "n = 300"
   ]
  },
  {
   "cell_type": "markdown",
   "metadata": {},
   "source": [
    "Perfect Linear Data"
   ]
  },
  {
   "cell_type": "code",
   "execution_count": 5,
   "metadata": {
    "execution": {
     "iopub.execute_input": "2023-03-15T18:01:58.164792Z",
     "iopub.status.busy": "2023-03-15T18:01:58.164498Z",
     "iopub.status.idle": "2023-03-15T18:01:58.170924Z",
     "shell.execute_reply": "2023-03-15T18:01:58.169902Z"
    }
   },
   "outputs": [],
   "source": [
    "dat = np.random.rand(n,1)\n",
    "plinear_data = np.hstack((dat,dat)) + 1\n",
    "df = pd.DataFrame(data=plinear_data, columns=[\"x\", \"y\"])"
   ]
  },
  {
   "cell_type": "code",
   "execution_count": 6,
   "metadata": {
    "execution": {
     "iopub.execute_input": "2023-03-15T18:01:58.174405Z",
     "iopub.status.busy": "2023-03-15T18:01:58.174204Z",
     "iopub.status.idle": "2023-03-15T18:01:58.181221Z",
     "shell.execute_reply": "2023-03-15T18:01:58.180341Z"
    }
   },
   "outputs": [],
   "source": [
    "enc = KBinsDiscretizer(n_bins=10, encode='ordinal')\n",
    "XP_data_nmi = np.squeeze(enc.fit_transform(np.atleast_2d(plinear_data[:,0]).T))\n",
    "enc = KBinsDiscretizer(n_bins=10, encode='ordinal')\n",
    "YP_data_nmi = np.squeeze(enc.fit_transform(np.atleast_2d(plinear_data[:,1]).T))"
   ]
  },
  {
   "cell_type": "code",
   "execution_count": 7,
   "metadata": {
    "execution": {
     "iopub.execute_input": "2023-03-15T18:01:58.185544Z",
     "iopub.status.busy": "2023-03-15T18:01:58.185243Z",
     "iopub.status.idle": "2023-03-15T18:01:58.221281Z",
     "shell.execute_reply": "2023-03-15T18:01:58.220265Z"
    }
   },
   "outputs": [],
   "source": [
    "plinear_pc = np.round(pearsonr(plinear_data[:,0], plinear_data[:,1])[0], 2)\n",
    "plinear_nmi = np.round(normalized_mutual_info_score(XP_data_nmi, YP_data_nmi),2)\n",
    "plinear_hsic = np.round(wuml.HSIC(plinear_data[:,0], plinear_data[:,1], sigma_type='mpd'),2)\t\n",
    "plinear_pps = np.round(pps.score(df, \"x\", \"y\")['ppscore'],2)"
   ]
  },
  {
   "cell_type": "code",
   "execution_count": 8,
   "metadata": {
    "execution": {
     "iopub.execute_input": "2023-03-15T18:01:58.258360Z",
     "iopub.status.busy": "2023-03-15T18:01:58.257960Z",
     "iopub.status.idle": "2023-03-15T18:01:58.267099Z",
     "shell.execute_reply": "2023-03-15T18:01:58.265999Z"
    }
   },
   "outputs": [
    {
     "name": "stdout",
     "output_type": "stream",
     "text": [
      "Linear Relationship:\n",
      "\tCorrelation : 1.000\n",
      "\tNMI : 1.000\n",
      "\tpps : 0.990\n",
      "\tHSIC : 1.000\n"
     ]
    }
   ],
   "source": [
    "wuml.jupyter_print('Linear Relationship:')\n",
    "wuml.jupyter_print('\\tCorrelation : %.3f'% plinear_pc)\n",
    "wuml.jupyter_print('\\tNMI : %.3f'% plinear_nmi)\n",
    "wuml.jupyter_print('\\tpps : %.3f'% plinear_pps)\n",
    "wuml.jupyter_print('\\tHSIC : %.3f'% plinear_hsic)"
   ]
  },
  {
   "cell_type": "markdown",
   "metadata": {},
   "source": [
    "Linear Data"
   ]
  },
  {
   "cell_type": "code",
   "execution_count": 9,
   "metadata": {
    "execution": {
     "iopub.execute_input": "2023-03-15T18:01:58.311126Z",
     "iopub.status.busy": "2023-03-15T18:01:58.310740Z",
     "iopub.status.idle": "2023-03-15T18:01:58.317063Z",
     "shell.execute_reply": "2023-03-15T18:01:58.316403Z"
    }
   },
   "outputs": [],
   "source": [
    "dat = np.random.rand(n,1)\n",
    "linear_data = np.hstack((dat,dat)) + 0.04*np.random.randn(n,2)\n",
    "df = pd.DataFrame(data=linear_data, columns=[\"x\", \"y\"])"
   ]
  },
  {
   "cell_type": "code",
   "execution_count": 10,
   "metadata": {
    "execution": {
     "iopub.execute_input": "2023-03-15T18:01:58.320841Z",
     "iopub.status.busy": "2023-03-15T18:01:58.320461Z",
     "iopub.status.idle": "2023-03-15T18:01:58.329261Z",
     "shell.execute_reply": "2023-03-15T18:01:58.328569Z"
    }
   },
   "outputs": [],
   "source": [
    "enc = KBinsDiscretizer(n_bins=10, encode='ordinal')\n",
    "XL_data_nmi = np.squeeze(enc.fit_transform(np.atleast_2d(linear_data[:,0]).T))\n",
    "enc = KBinsDiscretizer(n_bins=10, encode='ordinal')\n",
    "YL_data_nmi = np.squeeze(enc.fit_transform(np.atleast_2d(linear_data[:,1]).T))"
   ]
  },
  {
   "cell_type": "code",
   "execution_count": 11,
   "metadata": {
    "execution": {
     "iopub.execute_input": "2023-03-15T18:01:58.333103Z",
     "iopub.status.busy": "2023-03-15T18:01:58.332811Z",
     "iopub.status.idle": "2023-03-15T18:01:58.468863Z",
     "shell.execute_reply": "2023-03-15T18:01:58.468039Z"
    }
   },
   "outputs": [],
   "source": [
    "linear_pc = np.round(pearsonr(linear_data[:,0], linear_data[:,1])[0], 2)\n",
    "linear_nmi = np.round(normalized_mutual_info_score(XL_data_nmi, YL_data_nmi),2)\n",
    "linear_hsic = np.round(wuml.HSIC(linear_data[:,0], linear_data[:,1], sigma_type='opt'),2)\t\n",
    "linear_pps = np.round(pps.score(df, \"x\", \"y\")['ppscore'],2)"
   ]
  },
  {
   "cell_type": "code",
   "execution_count": 12,
   "metadata": {
    "execution": {
     "iopub.execute_input": "2023-03-15T18:01:58.472561Z",
     "iopub.status.busy": "2023-03-15T18:01:58.472359Z",
     "iopub.status.idle": "2023-03-15T18:01:58.477693Z",
     "shell.execute_reply": "2023-03-15T18:01:58.477085Z"
    }
   },
   "outputs": [
    {
     "name": "stdout",
     "output_type": "stream",
     "text": [
      "Linear Relationship:\n",
      "\tCorrelation : 0.980\n",
      "\tNMI : 0.620\n",
      "\tpps : 0.760\n",
      "\tHSIC : 0.910\n"
     ]
    }
   ],
   "source": [
    "wuml.jupyter_print('Linear Relationship:')\n",
    "wuml.jupyter_print('\\tCorrelation : %.3f'% linear_pc)\n",
    "wuml.jupyter_print('\\tNMI : %.3f'% linear_nmi)\n",
    "wuml.jupyter_print('\\tpps : %.3f'% linear_pps)\n",
    "wuml.jupyter_print('\\tHSIC : %.3f'% linear_hsic)"
   ]
  },
  {
   "cell_type": "markdown",
   "metadata": {},
   "source": [
    "Sine Data"
   ]
  },
  {
   "cell_type": "code",
   "execution_count": 13,
   "metadata": {
    "execution": {
     "iopub.execute_input": "2023-03-15T18:01:58.480933Z",
     "iopub.status.busy": "2023-03-15T18:01:58.480748Z",
     "iopub.status.idle": "2023-03-15T18:01:58.486776Z",
     "shell.execute_reply": "2023-03-15T18:01:58.485424Z"
    }
   },
   "outputs": [],
   "source": [
    "dat_x = 9.3*np.random.rand(n,1)\n",
    "dat_y = np.sin(dat_x)\n",
    "sine_data = np.hstack((dat_x,dat_y)) + 0.10*np.random.randn(n,2)\n",
    "df = pd.DataFrame(data=sine_data, columns=[\"x\", \"y\"])\n",
    "sine_pc = np.round(pearsonr(sine_data[:,0], sine_data[:,1])[0],2)"
   ]
  },
  {
   "cell_type": "code",
   "execution_count": 14,
   "metadata": {
    "execution": {
     "iopub.execute_input": "2023-03-15T18:01:58.489865Z",
     "iopub.status.busy": "2023-03-15T18:01:58.489658Z",
     "iopub.status.idle": "2023-03-15T18:01:58.495439Z",
     "shell.execute_reply": "2023-03-15T18:01:58.494665Z"
    }
   },
   "outputs": [],
   "source": [
    "enc = KBinsDiscretizer(n_bins=10, encode='ordinal')\n",
    "Xsine_data_nmi = np.squeeze(enc.fit_transform(np.atleast_2d(sine_data[:,0]).T))\n",
    "enc = KBinsDiscretizer(n_bins=10, encode='ordinal')\n",
    "Ysine_data_nmi = np.squeeze(enc.fit_transform(np.atleast_2d(sine_data[:,1]).T))"
   ]
  },
  {
   "cell_type": "code",
   "execution_count": 15,
   "metadata": {
    "execution": {
     "iopub.execute_input": "2023-03-15T18:01:58.499133Z",
     "iopub.status.busy": "2023-03-15T18:01:58.498871Z",
     "iopub.status.idle": "2023-03-15T18:01:58.668282Z",
     "shell.execute_reply": "2023-03-15T18:01:58.667503Z"
    }
   },
   "outputs": [],
   "source": [
    "sine_nmi = np.round(normalized_mutual_info_score(Xsine_data_nmi, Ysine_data_nmi),2)\n",
    "sine_hsic = np.round(wuml.HSIC(sine_data[:,0], sine_data[:,1], sigma_type='opt'),2)\n",
    "sine_pps = np.round(pps.score(df, \"x\", \"y\")['ppscore'],2)"
   ]
  },
  {
   "cell_type": "code",
   "execution_count": 16,
   "metadata": {
    "execution": {
     "iopub.execute_input": "2023-03-15T18:01:58.672247Z",
     "iopub.status.busy": "2023-03-15T18:01:58.672034Z",
     "iopub.status.idle": "2023-03-15T18:01:58.677268Z",
     "shell.execute_reply": "2023-03-15T18:01:58.676569Z"
    }
   },
   "outputs": [
    {
     "name": "stdout",
     "output_type": "stream",
     "text": [
      "Sine Relationship:\n",
      "\tCorrelation : -0.040\n",
      "\tNMI : 0.440\n",
      "\tpps : 0.760\n",
      "\tHSIC : 0.500\n"
     ]
    }
   ],
   "source": [
    "wuml.jupyter_print('Sine Relationship:')\n",
    "wuml.jupyter_print('\\tCorrelation : %.3f'% sine_pc)\n",
    "wuml.jupyter_print('\\tNMI : %.3f'%sine_nmi)\n",
    "wuml.jupyter_print('\\tpps : %.3f'%sine_pps)\n",
    "wuml.jupyter_print('\\tHSIC : %.3f'%sine_hsic)"
   ]
  },
  {
   "cell_type": "markdown",
   "metadata": {},
   "source": [
    "Parabola Data"
   ]
  },
  {
   "cell_type": "code",
   "execution_count": 17,
   "metadata": {
    "execution": {
     "iopub.execute_input": "2023-03-15T18:01:58.681280Z",
     "iopub.status.busy": "2023-03-15T18:01:58.681071Z",
     "iopub.status.idle": "2023-03-15T18:01:58.684950Z",
     "shell.execute_reply": "2023-03-15T18:01:58.684378Z"
    }
   },
   "outputs": [],
   "source": [
    "dat_x = 4*np.random.rand(n,1) - 2\n",
    "dat_y = 0.05*dat_x*dat_x\n",
    "para_data = np.hstack((dat_x,dat_y)) #+ 0.01*np.random.randn(n,2)\n",
    "df = pd.DataFrame(data=para_data, columns=[\"x\", \"y\"])"
   ]
  },
  {
   "cell_type": "code",
   "execution_count": 18,
   "metadata": {
    "execution": {
     "iopub.execute_input": "2023-03-15T18:01:58.689518Z",
     "iopub.status.busy": "2023-03-15T18:01:58.689189Z",
     "iopub.status.idle": "2023-03-15T18:01:58.697602Z",
     "shell.execute_reply": "2023-03-15T18:01:58.696492Z"
    }
   },
   "outputs": [],
   "source": [
    "enc = KBinsDiscretizer(n_bins=10, encode='ordinal')\n",
    "Xp_data_nmi = np.squeeze(enc.fit_transform(np.atleast_2d(para_data[:,0]).T))\n",
    "enc = KBinsDiscretizer(n_bins=10, encode='ordinal')\n",
    "Yp_data_nmi = np.squeeze(enc.fit_transform(np.atleast_2d(para_data[:,1]).T))"
   ]
  },
  {
   "cell_type": "code",
   "execution_count": 19,
   "metadata": {
    "execution": {
     "iopub.execute_input": "2023-03-15T18:01:58.702045Z",
     "iopub.status.busy": "2023-03-15T18:01:58.701623Z",
     "iopub.status.idle": "2023-03-15T18:01:58.902103Z",
     "shell.execute_reply": "2023-03-15T18:01:58.901297Z"
    }
   },
   "outputs": [],
   "source": [
    "para_pc = np.round(pearsonr(para_data[:,0], para_data[:,1])[0],2)\n",
    "para_nmi = np.round(normalized_mutual_info_score(Xp_data_nmi, Yp_data_nmi),2)\n",
    "para_hsic = np.round(wuml.HSIC(para_data[:,0], para_data[:,1], sigma_type='opt'),2)\n",
    "para_pps = np.round(pps.score(df, \"x\", \"y\")['ppscore'],2)"
   ]
  },
  {
   "cell_type": "code",
   "execution_count": 20,
   "metadata": {
    "execution": {
     "iopub.execute_input": "2023-03-15T18:01:58.907666Z",
     "iopub.status.busy": "2023-03-15T18:01:58.907439Z",
     "iopub.status.idle": "2023-03-15T18:01:58.912157Z",
     "shell.execute_reply": "2023-03-15T18:01:58.911348Z"
    }
   },
   "outputs": [
    {
     "name": "stdout",
     "output_type": "stream",
     "text": [
      "Parabola Relationship:\n",
      "\tCorrelation : 0.040\n",
      "\tNMI : 0.650\n",
      "\tpps : 0.980\n",
      "\tHSIC : 0.540\n"
     ]
    }
   ],
   "source": [
    "wuml.jupyter_print('Parabola Relationship:')\n",
    "wuml.jupyter_print('\\tCorrelation : %.3f'%para_pc)\n",
    "wuml.jupyter_print('\\tNMI : %.3f'%para_nmi)\n",
    "wuml.jupyter_print('\\tpps : %.3f'%para_pps)\n",
    "wuml.jupyter_print('\\tHSIC : %.3f'%para_hsic)"
   ]
  },
  {
   "cell_type": "markdown",
   "metadata": {},
   "source": [
    "Random uniform Data"
   ]
  },
  {
   "cell_type": "code",
   "execution_count": 21,
   "metadata": {
    "execution": {
     "iopub.execute_input": "2023-03-15T18:01:58.915947Z",
     "iopub.status.busy": "2023-03-15T18:01:58.915756Z",
     "iopub.status.idle": "2023-03-15T18:01:58.920508Z",
     "shell.execute_reply": "2023-03-15T18:01:58.919130Z"
    }
   },
   "outputs": [],
   "source": [
    "unif_data = np.random.rand(n,2)\n",
    "df = pd.DataFrame(data=unif_data, columns=[\"x\", \"y\"])"
   ]
  },
  {
   "cell_type": "code",
   "execution_count": 22,
   "metadata": {
    "execution": {
     "iopub.execute_input": "2023-03-15T18:01:58.925453Z",
     "iopub.status.busy": "2023-03-15T18:01:58.925083Z",
     "iopub.status.idle": "2023-03-15T18:01:58.934245Z",
     "shell.execute_reply": "2023-03-15T18:01:58.933150Z"
    }
   },
   "outputs": [],
   "source": [
    "enc = KBinsDiscretizer(n_bins=10, encode='ordinal')\n",
    "Xr_data_nmi = np.squeeze(enc.fit_transform(np.atleast_2d(unif_data[:,0]).T))\n",
    "enc = KBinsDiscretizer(n_bins=10, encode='ordinal')\n",
    "Yr_data_nmi = np.squeeze(enc.fit_transform(np.atleast_2d(unif_data[:,1]).T))"
   ]
  },
  {
   "cell_type": "code",
   "execution_count": 23,
   "metadata": {
    "execution": {
     "iopub.execute_input": "2023-03-15T18:01:58.938987Z",
     "iopub.status.busy": "2023-03-15T18:01:58.938790Z",
     "iopub.status.idle": "2023-03-15T18:01:59.009705Z",
     "shell.execute_reply": "2023-03-15T18:01:59.008812Z"
    }
   },
   "outputs": [],
   "source": [
    "unif_pc = np.round(pearsonr(unif_data[:,0], unif_data[:,1])[0],2)\n",
    "unif_hsic = np.round(wuml.HSIC(unif_data[:,0], unif_data[:,1], sigma_type='opt'),2)\n",
    "unif_nmi = np.round(normalized_mutual_info_score(Xr_data_nmi, Yr_data_nmi),2)\n",
    "unif_pps = np.round(pps.score(df, \"x\", \"y\")['ppscore'],2)"
   ]
  },
  {
   "cell_type": "code",
   "execution_count": 24,
   "metadata": {
    "execution": {
     "iopub.execute_input": "2023-03-15T18:01:59.014394Z",
     "iopub.status.busy": "2023-03-15T18:01:59.014192Z",
     "iopub.status.idle": "2023-03-15T18:01:59.020964Z",
     "shell.execute_reply": "2023-03-15T18:01:59.019822Z"
    }
   },
   "outputs": [
    {
     "name": "stdout",
     "output_type": "stream",
     "text": [
      "Random Relationship:\n",
      "\tCorrelation : -0.120\n",
      "\tNMI : 0.060\n",
      "\tpps : 0.000\n",
      "\tHSIC : 0.030\n"
     ]
    }
   ],
   "source": [
    "wuml.jupyter_print('Random Relationship:')\n",
    "wuml.jupyter_print('\\tCorrelation : %.3f'%unif_pc)\n",
    "wuml.jupyter_print('\\tNMI : %.3f'%unif_nmi)\n",
    "wuml.jupyter_print('\\tpps : %.3f'%unif_pps)\n",
    "wuml.jupyter_print('\\tHSIC : %.3f'%unif_hsic)"
   ]
  },
  {
   "cell_type": "markdown",
   "metadata": {},
   "source": [
    "not plotting if it is running on test mode"
   ]
  },
  {
   "cell_type": "code",
   "execution_count": 25,
   "metadata": {
    "execution": {
     "iopub.execute_input": "2023-03-15T18:01:59.025631Z",
     "iopub.status.busy": "2023-03-15T18:01:59.025310Z",
     "iopub.status.idle": "2023-03-15T18:01:59.887260Z",
     "shell.execute_reply": "2023-03-15T18:01:59.886159Z"
    }
   },
   "outputs": [
    {
     "data": {
      "image/png": "[encoded data removed]",
      "text/plain": [
       "<Figure size 1300x300 with 5 Axes>"
      ]
     },
     "metadata": {},
     "output_type": "display_data"
    }
   ],
   "source": [
    "if wuml.get_commandLine_input()[1] != 'disabled': \n",
    "\t#\tplotting\n",
    "\tplt.figure(figsize=(13,3))\n",
    "\t\n",
    "\tplt.subplot(151)\n",
    "\tplt.plot(plinear_data[:,0], plinear_data[:,1], 'bx')\n",
    "\tplt.title('$\\\\rho$ : ' + str(plinear_pc) + ' , HSIC : ' + str(plinear_hsic)  + '\\nnmi : ' + str(plinear_nmi))\n",
    "\t#plt.title('$\\\\rho$ : ' + str(plinear_pc) + ' , HSIC : ' + str(plinear_hsic) + '\\npps : ' + str(plinear_pps) + ' , nmi : ' + str(plinear_nmi))\n",
    "\t\n",
    "\tplt.subplot(152)\n",
    "\tplt.plot(linear_data[:,0], linear_data[:,1], 'bx')\n",
    "\tplt.title('$\\\\rho$ : ' + str(linear_pc) + ' , HSIC : ' + str(linear_hsic) + ' \\nnmi : ' + str(linear_nmi))\n",
    "\t#plt.title('$\\\\rho$ : ' + str(linear_pc) + ' , HSIC : ' + str(linear_hsic) + '\\npps : ' + str(linear_pps) + ' , nmi : ' + str(linear_nmi))\n",
    "\t\n",
    "\tplt.subplot(153)\n",
    "\tplt.plot(sine_data[:,0], sine_data[:,1], 'bx')\n",
    "\tplt.title('$\\\\rho$ : ' + str(sine_pc) + ' , HSIC : ' + str(sine_hsic) + '\\nnmi : ' + str(sine_nmi))\n",
    "\t#plt.title('$\\\\rho$ : ' + str(sine_pc) + ' , HSIC : ' + str(sine_hsic) + '\\npps : ' + str(sine_pps) + ' , nmi : ' + str(sine_nmi))\n",
    "\t\n",
    "\tplt.subplot(154)\n",
    "\tplt.plot(para_data[:,0], para_data[:,1], 'bx')\n",
    "\tplt.title('$\\\\rho$ : ' + str(para_pc) + ' , HSIC : ' + str(para_hsic) + '\\nnmi : ' + str(para_nmi))\n",
    "\t#plt.title('$\\\\rho$ : ' + str(para_pc) + ' , HSIC : ' + str(para_hsic) + '\\npps : ' + str(para_pps) + ' , nmi : ' + str(para_nmi))\n",
    "\t\n",
    "\tplt.subplot(155)\n",
    "\tplt.plot(unif_data[:,0], unif_data[:,1], 'bx')\n",
    "\tplt.title('$\\\\rho$ : ' + str(unif_pc) + ' , HSIC : ' + str(unif_hsic) + '\\nnmi : ' + str(unif_nmi))\n",
    "\t#plt.title('$\\\\rho$ : ' + str(unif_pc) + ' , HSIC : ' + str(unif_hsic) + '\\npps : ' + str(unif_pps) + ' , nmi : ' + str(unif_nmi))\n",
    "\t\n",
    "\tplt.tight_layout()\n",
    "\tplt.show()"
   ]
  }
 ],
 "metadata": {
  "kernelspec": {
   "display_name": "Python 3",
   "language": "python",
   "name": "python3"
  },
  "language_info": {
   "codemirror_mode": {
    "name": "ipython",
    "version": 3
   },
   "file_extension": ".py",
   "mimetype": "text/x-python",
   "name": "python",
   "nbconvert_exporter": "python",
   "pygments_lexer": "ipython3",
   "version": "3.8.10"
  }
 },
 "nbformat": 4,
 "nbformat_minor": 2
}
