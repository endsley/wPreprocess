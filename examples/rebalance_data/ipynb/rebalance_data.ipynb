{
 "cells": [
  {
   "cell_type": "code",
   "execution_count": 1,
   "metadata": {},
   "outputs": [],
   "source": [
    "#!/usr/bin/env python"
   ]
  },
  {
   "cell_type": "code",
   "execution_count": 2,
   "metadata": {},
   "outputs": [],
   "source": [
    "import os\n",
    "import sys\n",
    "if os.path.exists('/home/chieh/code/wPlotLib'):\n",
    "\tsys.path.insert(0,'/home/chieh/code/wPlotLib')\n",
    "if os.path.exists('/home/chieh/code/wuML'):\n",
    "\tsys.path.insert(0,'/home/chieh/code/wuML')"
   ]
  },
  {
   "cell_type": "code",
   "execution_count": 3,
   "metadata": {},
   "outputs": [],
   "source": [
    "import numpy as np\n",
    "import wuml"
   ]
  },
  {
   "cell_type": "markdown",
   "metadata": {},
   "source": [
    "example data of 2 classes"
   ]
  },
  {
   "cell_type": "code",
   "execution_count": 4,
   "metadata": {},
   "outputs": [],
   "source": [
    "X1 = np.random.randn(20, 2) + 5\n",
    "X2 = np.random.randn(7, 2) - 5\n",
    "X = np.vstack((X1,X2))\n",
    "y = np.append(np.ones(20), np.zeros(7))"
   ]
  },
  {
   "cell_type": "markdown",
   "metadata": {},
   "source": [
    "There are currently 2 options<br>\n",
    "oversampling : will oversample data from fewer sample with replacement<br>\n",
    "'smote' : will take data from fewer sample class and find 5 nearest neighbor and get their interpolated sample as new"
   ]
  },
  {
   "cell_type": "code",
   "execution_count": 5,
   "metadata": {},
   "outputs": [
    {
     "name": "stdout",
     "output_type": "stream",
     "text": [
      "[[ 6.7641  5.4002]\n",
      " [ 5.9787  7.2409]\n",
      " [ 6.8676  4.0227]\n",
      " [ 5.9501  4.8486]\n",
      " [ 4.8968  5.4106]\n",
      " [ 5.144   6.4543]\n",
      " [ 5.761   5.1217]\n",
      " [ 5.4439  5.3337]\n",
      " [ 6.4941  4.7948]\n",
      " [ 5.3131  4.1459]\n",
      " [ 2.447   5.6536]\n",
      " [ 5.8644  4.2578]\n",
      " [ 7.2698  3.5456]\n",
      " [ 5.0458  4.8128]\n",
      " [ 6.5328  6.4694]\n",
      " [ 5.1549  5.3782]\n",
      " [ 4.1122  3.0192]\n",
      " [ 4.6521  5.1563]\n",
      " [ 6.2303  6.2024]\n",
      " [ 4.6127  4.6977]\n",
      " [-6.0486 -6.42  ]\n",
      " [-6.7063 -3.0492]\n",
      " [-5.5097 -5.4381]\n",
      " [-6.2528 -4.2225]\n",
      " [-6.6139 -5.2127]\n",
      " [-5.8955 -4.6131]\n",
      " [-5.5108 -6.1806]] \n",
      "\n",
      "           0         1\n",
      "0   6.764052  5.400157\n",
      "1   5.978738  7.240893\n",
      "2   6.867558  4.022722\n",
      "3   5.950088  4.848643\n",
      "4   4.896781  5.410599\n",
      "5   5.144044  6.454274\n",
      "6   5.761038  5.121675\n",
      "7   5.443863  5.333674\n",
      "8   6.494079  4.794842\n",
      "9   5.313068  4.145904\n",
      "10  2.447010  5.653619\n",
      "11  5.864436  4.257835\n",
      "12  7.269755  3.545634\n",
      "13  5.045759  4.812816\n",
      "14  6.532779  6.469359\n",
      "15  5.154947  5.378163\n",
      "16  4.112214  3.019204\n",
      "17  4.652088  5.156349\n",
      "18  6.230291  6.202380\n",
      "19  4.612673  4.697697\n",
      "20 -6.048553 -6.420018\n",
      "21 -6.706270 -3.049225\n",
      "22 -5.509652 -5.438074\n",
      "23 -6.252795 -4.222510\n",
      "24 -6.613898 -5.212740\n",
      "25 -5.895467 -4.613098\n",
      "26 -5.510805 -6.180632\n",
      "27 -5.895467 -4.613098\n",
      "28 -5.510805 -6.180632\n",
      "29 -6.048553 -6.420018\n",
      "30 -6.706270 -3.049225\n",
      "31 -5.509652 -5.438074\n",
      "32 -6.613898 -5.212740\n",
      "33 -5.509652 -5.438074\n",
      "34 -6.048553 -6.420018\n",
      "35 -5.895467 -4.613098\n",
      "36 -6.252795 -4.222510\n",
      "37 -5.509652 -5.438074\n",
      "38 -5.509652 -5.438074\n",
      "39 -5.895467 -4.613098\n"
     ]
    }
   ],
   "source": [
    "rebalancer = wuml.rebalance_data(X, y, method='oversampling')\n",
    "print(X,'\\n')\n",
    "print(rebalancer.balanced_data)"
   ]
  }
 ],
 "metadata": {
  "kernelspec": {
   "display_name": "Python 3",
   "language": "python",
   "name": "python3"
  },
  "language_info": {
   "codemirror_mode": {
    "name": "ipython",
    "version": 3
   },
   "file_extension": ".py",
   "mimetype": "text/x-python",
   "name": "python",
   "nbconvert_exporter": "python",
   "pygments_lexer": "ipython3",
   "version": "3.8.10"
  }
 },
 "nbformat": 4,
 "nbformat_minor": 2
}
