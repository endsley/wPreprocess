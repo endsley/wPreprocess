{
 "cells": [
  {
   "cell_type": "code",
   "execution_count": 1,
   "metadata": {},
   "outputs": [],
   "source": [
    "#!/usr/bin/env python"
   ]
  },
  {
   "cell_type": "code",
   "execution_count": 2,
   "metadata": {},
   "outputs": [
    {
     "name": "stderr",
     "output_type": "stream",
     "text": [
      "2021-11-12 08:52:13.438772: I tensorflow/stream_executor/platform/default/dso_loader.cc:49] Successfully opened dynamic library libcudart.so.11.0\n"
     ]
    }
   ],
   "source": [
    "import wuml \n",
    "import numpy as np"
   ]
  },
  {
   "cell_type": "code",
   "execution_count": 3,
   "metadata": {},
   "outputs": [],
   "source": [
    "n = 1000\n",
    "x1 = np.random.randn(n,1)\n",
    "x2 = x1 \n",
    "x3 = np.random.randn(n,1)\n",
    "x4 = x3 + 0.05*np.random.randn(n,1)\n",
    "x5 = np.random.randn(n,1)\n",
    "data = np.hstack((x1,x2,x3,x4,x5))\n",
    "data = wuml.ensure_wData(data, column_names=['A','B','C','D','E'])"
   ]
  },
  {
   "cell_type": "code",
   "execution_count": 5,
   "metadata": {},
   "outputs": [
    {
     "data": {
      "text/html": [
       "<style type=\"text/css\">\n",
       "</style>\n",
       "<table id=\"T_6d806_\">\n",
       "  <thead>\n",
       "    <tr>\n",
       "      <th class=\"blank level0\" >&nbsp;</th>\n",
       "      <th class=\"col_heading level0 col0\" >A</th>\n",
       "      <th class=\"col_heading level0 col1\" >B</th>\n",
       "      <th class=\"col_heading level0 col2\" >C</th>\n",
       "      <th class=\"col_heading level0 col3\" >D</th>\n",
       "      <th class=\"col_heading level0 col4\" >E</th>\n",
       "    </tr>\n",
       "  </thead>\n",
       "  <tbody>\n",
       "    <tr>\n",
       "      <th id=\"T_6d806_level0_row0\" class=\"row_heading level0 row0\" >0</th>\n",
       "      <td id=\"T_6d806_row0_col0\" class=\"data row0 col0\" >0.965998</td>\n",
       "      <td id=\"T_6d806_row0_col1\" class=\"data row0 col1\" >0.965998</td>\n",
       "      <td id=\"T_6d806_row0_col2\" class=\"data row0 col2\" >0.966686</td>\n",
       "      <td id=\"T_6d806_row0_col3\" class=\"data row0 col3\" >0.966296</td>\n",
       "      <td id=\"T_6d806_row0_col4\" class=\"data row0 col4\" >0.901903</td>\n",
       "    </tr>\n",
       "    <tr>\n",
       "      <th id=\"T_6d806_level0_row1\" class=\"row_heading level0 row1\" >1</th>\n",
       "      <td id=\"T_6d806_row1_col0\" class=\"data row1 col0\" >0.969061</td>\n",
       "      <td id=\"T_6d806_row1_col1\" class=\"data row1 col1\" >0.969061</td>\n",
       "      <td id=\"T_6d806_row1_col2\" class=\"data row1 col2\" >nan</td>\n",
       "      <td id=\"T_6d806_row1_col3\" class=\"data row1 col3\" >0.733995</td>\n",
       "      <td id=\"T_6d806_row1_col4\" class=\"data row1 col4\" >0.870977</td>\n",
       "    </tr>\n",
       "    <tr>\n",
       "      <th id=\"T_6d806_level0_row2\" class=\"row_heading level0 row2\" >2</th>\n",
       "      <td id=\"T_6d806_row2_col0\" class=\"data row2 col0\" >nan</td>\n",
       "      <td id=\"T_6d806_row2_col1\" class=\"data row2 col1\" >0.694572</td>\n",
       "      <td id=\"T_6d806_row2_col2\" class=\"data row2 col2\" >nan</td>\n",
       "      <td id=\"T_6d806_row2_col3\" class=\"data row2 col3\" >0.709748</td>\n",
       "      <td id=\"T_6d806_row2_col4\" class=\"data row2 col4\" >0.901570</td>\n",
       "    </tr>\n",
       "    <tr>\n",
       "      <th id=\"T_6d806_level0_row3\" class=\"row_heading level0 row3\" >3</th>\n",
       "      <td id=\"T_6d806_row3_col0\" class=\"data row3 col0\" >nan</td>\n",
       "      <td id=\"T_6d806_row3_col1\" class=\"data row3 col1\" >0.550548</td>\n",
       "      <td id=\"T_6d806_row3_col2\" class=\"data row3 col2\" >nan</td>\n",
       "      <td id=\"T_6d806_row3_col3\" class=\"data row3 col3\" >0.563091</td>\n",
       "      <td id=\"T_6d806_row3_col4\" class=\"data row3 col4\" >nan</td>\n",
       "    </tr>\n",
       "  </tbody>\n",
       "</table>\n"
      ],
      "text/plain": [
       "<pandas.io.formats.style.Styler at 0x7fe23101a990>"
      ]
     },
     "execution_count": 5,
     "metadata": {},
     "output_type": "execute_result"
    }
   ],
   "source": [
    "FS = wuml.feature_selection(data)\n",
    "FS.removal_history.style"
   ]
  },
  {
   "cell_type": "code",
   "execution_count": 6,
   "metadata": {},
   "outputs": [
    {
     "data": {
      "text/html": [
       "<style type=\"text/css\">\n",
       "</style>\n",
       "<table id=\"T_b701d_\">\n",
       "  <thead>\n",
       "    <tr>\n",
       "      <th class=\"blank level0\" >&nbsp;</th>\n",
       "      <th class=\"col_heading level0 col0\" >column ID</th>\n",
       "      <th class=\"col_heading level0 col1\" >Residual HSIC</th>\n",
       "    </tr>\n",
       "  </thead>\n",
       "  <tbody>\n",
       "    <tr>\n",
       "      <th id=\"T_b701d_level0_row0\" class=\"row_heading level0 row0\" >0</th>\n",
       "      <td id=\"T_b701d_row0_col0\" class=\"data row0 col0\" >C</td>\n",
       "      <td id=\"T_b701d_row0_col1\" class=\"data row0 col1\" >0.966686</td>\n",
       "    </tr>\n",
       "    <tr>\n",
       "      <th id=\"T_b701d_level0_row1\" class=\"row_heading level0 row1\" >1</th>\n",
       "      <td id=\"T_b701d_row1_col0\" class=\"data row1 col0\" >A</td>\n",
       "      <td id=\"T_b701d_row1_col1\" class=\"data row1 col1\" >0.969061</td>\n",
       "    </tr>\n",
       "    <tr>\n",
       "      <th id=\"T_b701d_level0_row2\" class=\"row_heading level0 row2\" >2</th>\n",
       "      <td id=\"T_b701d_row2_col0\" class=\"data row2 col0\" >E</td>\n",
       "      <td id=\"T_b701d_row2_col1\" class=\"data row2 col1\" >0.901570</td>\n",
       "    </tr>\n",
       "    <tr>\n",
       "      <th id=\"T_b701d_level0_row3\" class=\"row_heading level0 row3\" >3</th>\n",
       "      <td id=\"T_b701d_row3_col0\" class=\"data row3 col0\" >D</td>\n",
       "      <td id=\"T_b701d_row3_col1\" class=\"data row3 col1\" >0.563091</td>\n",
       "    </tr>\n",
       "  </tbody>\n",
       "</table>\n"
      ],
      "text/plain": [
       "<pandas.io.formats.style.Styler at 0x7fe2290a0d90>"
      ]
     },
     "execution_count": 6,
     "metadata": {},
     "output_type": "execute_result"
    }
   ],
   "source": [
    "FS.removal_table.style"
   ]
  },
  {
   "cell_type": "code",
   "execution_count": null,
   "metadata": {},
   "outputs": [],
   "source": []
  }
 ],
 "metadata": {
  "kernelspec": {
   "display_name": "Python 3 (ipykernel)",
   "language": "python",
   "name": "python3"
  },
  "language_info": {
   "codemirror_mode": {
    "name": "ipython",
    "version": 3
   },
   "file_extension": ".py",
   "mimetype": "text/x-python",
   "name": "python",
   "nbconvert_exporter": "python",
   "pygments_lexer": "ipython3",
   "version": "3.7.10"
  }
 },
 "nbformat": 4,
 "nbformat_minor": 2
}
