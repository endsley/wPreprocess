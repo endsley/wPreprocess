{
 "cells": [
  {
   "cell_type": "code",
   "execution_count": 1,
   "metadata": {
    "execution": {
     "iopub.execute_input": "2023-04-01T16:45:52.914248Z",
     "iopub.status.busy": "2023-04-01T16:45:52.913765Z",
     "iopub.status.idle": "2023-04-01T16:45:52.920738Z",
     "shell.execute_reply": "2023-04-01T16:45:52.919390Z"
    }
   },
   "outputs": [],
   "source": [
    "#!/usr/bin/env python"
   ]
  },
  {
   "cell_type": "code",
   "execution_count": 2,
   "metadata": {
    "execution": {
     "iopub.execute_input": "2023-04-01T16:45:52.925578Z",
     "iopub.status.busy": "2023-04-01T16:45:52.925320Z",
     "iopub.status.idle": "2023-04-01T16:45:52.931125Z",
     "shell.execute_reply": "2023-04-01T16:45:52.929808Z"
    }
   },
   "outputs": [],
   "source": [
    "import os\n",
    "import sys\n",
    "if os.path.exists('/home/chieh/code/wPlotLib'):\n",
    "\tsys.path.insert(0,'/home/chieh/code/wPlotLib')\n",
    "if os.path.exists('/home/chieh/code/wuML'):\n",
    "\tsys.path.insert(0,'/home/chieh/code/wuML')"
   ]
  },
  {
   "cell_type": "code",
   "execution_count": 3,
   "metadata": {
    "execution": {
     "iopub.execute_input": "2023-04-01T16:45:52.935713Z",
     "iopub.status.busy": "2023-04-01T16:45:52.935137Z",
     "iopub.status.idle": "2023-04-01T16:45:54.742100Z",
     "shell.execute_reply": "2023-04-01T16:45:54.741221Z"
    }
   },
   "outputs": [],
   "source": [
    "import wuml \n",
    "import numpy as np"
   ]
  },
  {
   "cell_type": "markdown",
   "metadata": {},
   "source": [
    "ata = wuml.make_moons()"
   ]
  },
  {
   "cell_type": "code",
   "execution_count": 4,
   "metadata": {
    "execution": {
     "iopub.execute_input": "2023-04-01T16:45:54.747877Z",
     "iopub.status.busy": "2023-04-01T16:45:54.747716Z",
     "iopub.status.idle": "2023-04-01T16:45:54.784593Z",
     "shell.execute_reply": "2023-04-01T16:45:54.783752Z"
    }
   },
   "outputs": [],
   "source": [
    "n = 1000\n",
    "x1 = np.random.randn(n,1)\n",
    "x2 = x1 \n",
    "x3 = np.random.randn(n,1)\n",
    "x4 = x3 + 0.05*np.random.randn(n,1)\n",
    "x5 = np.random.randn(n,1)\n",
    "data = np.hstack((x1,x2,x3,x4,x5))\n",
    "data = wuml.ensure_wData(data, column_names=['A','B','C','D','E'])"
   ]
  },
  {
   "cell_type": "code",
   "execution_count": 5,
   "metadata": {
    "execution": {
     "iopub.execute_input": "2023-04-01T16:45:54.789743Z",
     "iopub.status.busy": "2023-04-01T16:45:54.789542Z",
     "iopub.status.idle": "2023-04-01T16:45:59.008467Z",
     "shell.execute_reply": "2023-04-01T16:45:59.007872Z"
    }
   },
   "outputs": [
    {
     "data": {
      "text/html": [
       "<style type=\"text/css\">\n",
       "#T_bee6a th {\n",
       "  text-align: center;\n",
       "}\n",
       "#T_bee6a td {\n",
       "  text-align: center;\n",
       "}\n",
       "</style>\n",
       "<table id=\"T_bee6a\">\n",
       "  <thead>\n",
       "    <tr>\n",
       "      <th class=\"blank level0\" >&nbsp;</th>\n",
       "      <th id=\"T_bee6a_level0_col0\" class=\"col_heading level0 col0\" >A</th>\n",
       "      <th id=\"T_bee6a_level0_col1\" class=\"col_heading level0 col1\" >B</th>\n",
       "      <th id=\"T_bee6a_level0_col2\" class=\"col_heading level0 col2\" >C</th>\n",
       "      <th id=\"T_bee6a_level0_col3\" class=\"col_heading level0 col3\" >D</th>\n",
       "      <th id=\"T_bee6a_level0_col4\" class=\"col_heading level0 col4\" >E</th>\n",
       "    </tr>\n",
       "  </thead>\n",
       "  <tbody>\n",
       "    <tr>\n",
       "      <th id=\"T_bee6a_level0_row0\" class=\"row_heading level0 row0\" >0</th>\n",
       "      <td id=\"T_bee6a_row0_col0\" class=\"data row0 col0\" >0.965998</td>\n",
       "      <td id=\"T_bee6a_row0_col1\" class=\"data row0 col1\" >0.965998</td>\n",
       "      <td id=\"T_bee6a_row0_col2\" class=\"data row0 col2\" >0.966686</td>\n",
       "      <td id=\"T_bee6a_row0_col3\" class=\"data row0 col3\" >0.966296</td>\n",
       "      <td id=\"T_bee6a_row0_col4\" class=\"data row0 col4\" >0.901903</td>\n",
       "    </tr>\n",
       "    <tr>\n",
       "      <th id=\"T_bee6a_level0_row1\" class=\"row_heading level0 row1\" >1</th>\n",
       "      <td id=\"T_bee6a_row1_col0\" class=\"data row1 col0\" >0.969061</td>\n",
       "      <td id=\"T_bee6a_row1_col1\" class=\"data row1 col1\" >0.969061</td>\n",
       "      <td id=\"T_bee6a_row1_col2\" class=\"data row1 col2\" >nan</td>\n",
       "      <td id=\"T_bee6a_row1_col3\" class=\"data row1 col3\" >0.733995</td>\n",
       "      <td id=\"T_bee6a_row1_col4\" class=\"data row1 col4\" >0.870977</td>\n",
       "    </tr>\n",
       "    <tr>\n",
       "      <th id=\"T_bee6a_level0_row2\" class=\"row_heading level0 row2\" >2</th>\n",
       "      <td id=\"T_bee6a_row2_col0\" class=\"data row2 col0\" >nan</td>\n",
       "      <td id=\"T_bee6a_row2_col1\" class=\"data row2 col1\" >0.694572</td>\n",
       "      <td id=\"T_bee6a_row2_col2\" class=\"data row2 col2\" >nan</td>\n",
       "      <td id=\"T_bee6a_row2_col3\" class=\"data row2 col3\" >0.709748</td>\n",
       "      <td id=\"T_bee6a_row2_col4\" class=\"data row2 col4\" >0.901570</td>\n",
       "    </tr>\n",
       "    <tr>\n",
       "      <th id=\"T_bee6a_level0_row3\" class=\"row_heading level0 row3\" >3</th>\n",
       "      <td id=\"T_bee6a_row3_col0\" class=\"data row3 col0\" >nan</td>\n",
       "      <td id=\"T_bee6a_row3_col1\" class=\"data row3 col1\" >0.550548</td>\n",
       "      <td id=\"T_bee6a_row3_col2\" class=\"data row3 col2\" >nan</td>\n",
       "      <td id=\"T_bee6a_row3_col3\" class=\"data row3 col3\" >0.563091</td>\n",
       "      <td id=\"T_bee6a_row3_col4\" class=\"data row3 col4\" >nan</td>\n",
       "    </tr>\n",
       "  </tbody>\n",
       "</table>\n"
      ],
      "text/plain": [
       "<pandas.io.formats.style.Styler at 0x7f2d98675a60>"
      ]
     },
     "metadata": {},
     "output_type": "display_data"
    },
    {
     "data": {
      "text/html": [
       "<style type=\"text/css\">\n",
       "#T_251e4 th {\n",
       "  text-align: center;\n",
       "}\n",
       "#T_251e4 td {\n",
       "  text-align: center;\n",
       "}\n",
       "</style>\n",
       "<table id=\"T_251e4\">\n",
       "  <thead>\n",
       "    <tr>\n",
       "      <th class=\"blank level0\" >&nbsp;</th>\n",
       "      <th id=\"T_251e4_level0_col0\" class=\"col_heading level0 col0\" >column ID</th>\n",
       "      <th id=\"T_251e4_level0_col1\" class=\"col_heading level0 col1\" >Residual HSIC</th>\n",
       "    </tr>\n",
       "  </thead>\n",
       "  <tbody>\n",
       "    <tr>\n",
       "      <th id=\"T_251e4_level0_row0\" class=\"row_heading level0 row0\" >0</th>\n",
       "      <td id=\"T_251e4_row0_col0\" class=\"data row0 col0\" >C</td>\n",
       "      <td id=\"T_251e4_row0_col1\" class=\"data row0 col1\" >0.966686</td>\n",
       "    </tr>\n",
       "    <tr>\n",
       "      <th id=\"T_251e4_level0_row1\" class=\"row_heading level0 row1\" >1</th>\n",
       "      <td id=\"T_251e4_row1_col0\" class=\"data row1 col0\" >A</td>\n",
       "      <td id=\"T_251e4_row1_col1\" class=\"data row1 col1\" >0.969061</td>\n",
       "    </tr>\n",
       "    <tr>\n",
       "      <th id=\"T_251e4_level0_row2\" class=\"row_heading level0 row2\" >2</th>\n",
       "      <td id=\"T_251e4_row2_col0\" class=\"data row2 col0\" >E</td>\n",
       "      <td id=\"T_251e4_row2_col1\" class=\"data row2 col1\" >0.901570</td>\n",
       "    </tr>\n",
       "    <tr>\n",
       "      <th id=\"T_251e4_level0_row3\" class=\"row_heading level0 row3\" >3</th>\n",
       "      <td id=\"T_251e4_row3_col0\" class=\"data row3 col0\" >D</td>\n",
       "      <td id=\"T_251e4_row3_col1\" class=\"data row3 col1\" >0.563091</td>\n",
       "    </tr>\n",
       "  </tbody>\n",
       "</table>\n"
      ],
      "text/plain": [
       "<pandas.io.formats.style.Styler at 0x7f2cc5a6cb80>"
      ]
     },
     "metadata": {},
     "output_type": "display_data"
    }
   ],
   "source": [
    "FS = wuml.feature_selection(data)\n",
    "wuml.jupyter_print(FS.removal_history)\n",
    "wuml.jupyter_print(FS.removal_table)"
   ]
  }
 ],
 "metadata": {
  "kernelspec": {
   "display_name": "Python 3",
   "language": "python",
   "name": "python3"
  },
  "language_info": {
   "codemirror_mode": {
    "name": "ipython",
    "version": 3
   },
   "file_extension": ".py",
   "mimetype": "text/x-python",
   "name": "python",
   "nbconvert_exporter": "python",
   "pygments_lexer": "ipython3",
   "version": "3.8.10"
  }
 },
 "nbformat": 4,
 "nbformat_minor": 2
}
