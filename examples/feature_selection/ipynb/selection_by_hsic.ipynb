{
 "cells": [
  {
   "cell_type": "code",
   "execution_count": 1,
   "metadata": {
    "execution": {
     "iopub.execute_input": "2023-04-18T20:27:37.776862Z",
     "iopub.status.busy": "2023-04-18T20:27:37.776374Z",
     "iopub.status.idle": "2023-04-18T20:27:37.781733Z",
     "shell.execute_reply": "2023-04-18T20:27:37.780719Z"
    }
   },
   "outputs": [],
   "source": [
    "#!/usr/bin/env python"
   ]
  },
  {
   "cell_type": "code",
   "execution_count": 2,
   "metadata": {
    "execution": {
     "iopub.execute_input": "2023-04-18T20:27:37.786601Z",
     "iopub.status.busy": "2023-04-18T20:27:37.786264Z",
     "iopub.status.idle": "2023-04-18T20:27:37.791354Z",
     "shell.execute_reply": "2023-04-18T20:27:37.790245Z"
    }
   },
   "outputs": [],
   "source": [
    "import os\n",
    "import sys\n",
    "if os.path.exists('/home/chieh/code/wPlotLib'):\n",
    "\tsys.path.insert(0,'/home/chieh/code/wPlotLib')\n",
    "if os.path.exists('/home/chieh/code/wuML'):\n",
    "\tsys.path.insert(0,'/home/chieh/code/wuML')"
   ]
  },
  {
   "cell_type": "code",
   "execution_count": 3,
   "metadata": {
    "execution": {
     "iopub.execute_input": "2023-04-18T20:27:37.794953Z",
     "iopub.status.busy": "2023-04-18T20:27:37.794698Z",
     "iopub.status.idle": "2023-04-18T20:27:39.504525Z",
     "shell.execute_reply": "2023-04-18T20:27:39.503689Z"
    }
   },
   "outputs": [],
   "source": [
    "import wuml \n",
    "import numpy as np"
   ]
  },
  {
   "cell_type": "markdown",
   "metadata": {},
   "source": [
    "ata = wuml.make_moons()"
   ]
  },
  {
   "cell_type": "code",
   "execution_count": 4,
   "metadata": {
    "execution": {
     "iopub.execute_input": "2023-04-18T20:27:39.509759Z",
     "iopub.status.busy": "2023-04-18T20:27:39.509574Z",
     "iopub.status.idle": "2023-04-18T20:27:39.530973Z",
     "shell.execute_reply": "2023-04-18T20:27:39.530162Z"
    }
   },
   "outputs": [],
   "source": [
    "n = 1000\n",
    "x1 = np.random.randn(n,1)\n",
    "x2 = x1 \n",
    "x3 = np.random.randn(n,1)\n",
    "x4 = x3 + 0.05*np.random.randn(n,1)\n",
    "x5 = np.random.randn(n,1)\n",
    "data = np.hstack((x1,x2,x3,x4,x5))\n",
    "data = wuml.ensure_wData(data, column_names=['A','B','C','D','E'])"
   ]
  },
  {
   "cell_type": "code",
   "execution_count": 5,
   "metadata": {
    "execution": {
     "iopub.execute_input": "2023-04-18T20:27:39.535414Z",
     "iopub.status.busy": "2023-04-18T20:27:39.535241Z",
     "iopub.status.idle": "2023-04-18T20:27:43.828988Z",
     "shell.execute_reply": "2023-04-18T20:27:43.828392Z"
    }
   },
   "outputs": [
    {
     "data": {
      "text/html": [
       "<style type=\"text/css\">\n",
       "#T_2c2d3 th {\n",
       "  text-align: center;\n",
       "}\n",
       "#T_2c2d3 td {\n",
       "  text-align: center;\n",
       "}\n",
       "</style>\n",
       "<table id=\"T_2c2d3\">\n",
       "  <thead>\n",
       "    <tr>\n",
       "      <th class=\"blank level0\" >&nbsp;</th>\n",
       "      <th id=\"T_2c2d3_level0_col0\" class=\"col_heading level0 col0\" >A</th>\n",
       "      <th id=\"T_2c2d3_level0_col1\" class=\"col_heading level0 col1\" >B</th>\n",
       "      <th id=\"T_2c2d3_level0_col2\" class=\"col_heading level0 col2\" >C</th>\n",
       "      <th id=\"T_2c2d3_level0_col3\" class=\"col_heading level0 col3\" >D</th>\n",
       "      <th id=\"T_2c2d3_level0_col4\" class=\"col_heading level0 col4\" >E</th>\n",
       "    </tr>\n",
       "  </thead>\n",
       "  <tbody>\n",
       "    <tr>\n",
       "      <th id=\"T_2c2d3_level0_row0\" class=\"row_heading level0 row0\" >0</th>\n",
       "      <td id=\"T_2c2d3_row0_col0\" class=\"data row0 col0\" >0.965998</td>\n",
       "      <td id=\"T_2c2d3_row0_col1\" class=\"data row0 col1\" >0.965998</td>\n",
       "      <td id=\"T_2c2d3_row0_col2\" class=\"data row0 col2\" >0.966686</td>\n",
       "      <td id=\"T_2c2d3_row0_col3\" class=\"data row0 col3\" >0.966296</td>\n",
       "      <td id=\"T_2c2d3_row0_col4\" class=\"data row0 col4\" >0.901903</td>\n",
       "    </tr>\n",
       "    <tr>\n",
       "      <th id=\"T_2c2d3_level0_row1\" class=\"row_heading level0 row1\" >1</th>\n",
       "      <td id=\"T_2c2d3_row1_col0\" class=\"data row1 col0\" >0.969061</td>\n",
       "      <td id=\"T_2c2d3_row1_col1\" class=\"data row1 col1\" >0.969061</td>\n",
       "      <td id=\"T_2c2d3_row1_col2\" class=\"data row1 col2\" >nan</td>\n",
       "      <td id=\"T_2c2d3_row1_col3\" class=\"data row1 col3\" >0.733995</td>\n",
       "      <td id=\"T_2c2d3_row1_col4\" class=\"data row1 col4\" >0.870977</td>\n",
       "    </tr>\n",
       "    <tr>\n",
       "      <th id=\"T_2c2d3_level0_row2\" class=\"row_heading level0 row2\" >2</th>\n",
       "      <td id=\"T_2c2d3_row2_col0\" class=\"data row2 col0\" >nan</td>\n",
       "      <td id=\"T_2c2d3_row2_col1\" class=\"data row2 col1\" >0.694572</td>\n",
       "      <td id=\"T_2c2d3_row2_col2\" class=\"data row2 col2\" >nan</td>\n",
       "      <td id=\"T_2c2d3_row2_col3\" class=\"data row2 col3\" >0.709748</td>\n",
       "      <td id=\"T_2c2d3_row2_col4\" class=\"data row2 col4\" >0.901570</td>\n",
       "    </tr>\n",
       "    <tr>\n",
       "      <th id=\"T_2c2d3_level0_row3\" class=\"row_heading level0 row3\" >3</th>\n",
       "      <td id=\"T_2c2d3_row3_col0\" class=\"data row3 col0\" >nan</td>\n",
       "      <td id=\"T_2c2d3_row3_col1\" class=\"data row3 col1\" >0.550548</td>\n",
       "      <td id=\"T_2c2d3_row3_col2\" class=\"data row3 col2\" >nan</td>\n",
       "      <td id=\"T_2c2d3_row3_col3\" class=\"data row3 col3\" >0.563091</td>\n",
       "      <td id=\"T_2c2d3_row3_col4\" class=\"data row3 col4\" >nan</td>\n",
       "    </tr>\n",
       "  </tbody>\n",
       "</table>\n"
      ],
      "text/plain": [
       "<pandas.io.formats.style.Styler at 0x7f4e5c7b16d0>"
      ]
     },
     "metadata": {},
     "output_type": "display_data"
    },
    {
     "data": {
      "text/html": [
       "<style type=\"text/css\">\n",
       "#T_12642 th {\n",
       "  text-align: center;\n",
       "}\n",
       "#T_12642 td {\n",
       "  text-align: center;\n",
       "}\n",
       "</style>\n",
       "<table id=\"T_12642\">\n",
       "  <thead>\n",
       "    <tr>\n",
       "      <th class=\"blank level0\" >&nbsp;</th>\n",
       "      <th id=\"T_12642_level0_col0\" class=\"col_heading level0 col0\" >column ID</th>\n",
       "      <th id=\"T_12642_level0_col1\" class=\"col_heading level0 col1\" >Residual HSIC</th>\n",
       "    </tr>\n",
       "  </thead>\n",
       "  <tbody>\n",
       "    <tr>\n",
       "      <th id=\"T_12642_level0_row0\" class=\"row_heading level0 row0\" >0</th>\n",
       "      <td id=\"T_12642_row0_col0\" class=\"data row0 col0\" >C</td>\n",
       "      <td id=\"T_12642_row0_col1\" class=\"data row0 col1\" >0.966686</td>\n",
       "    </tr>\n",
       "    <tr>\n",
       "      <th id=\"T_12642_level0_row1\" class=\"row_heading level0 row1\" >1</th>\n",
       "      <td id=\"T_12642_row1_col0\" class=\"data row1 col0\" >A</td>\n",
       "      <td id=\"T_12642_row1_col1\" class=\"data row1 col1\" >0.969061</td>\n",
       "    </tr>\n",
       "    <tr>\n",
       "      <th id=\"T_12642_level0_row2\" class=\"row_heading level0 row2\" >2</th>\n",
       "      <td id=\"T_12642_row2_col0\" class=\"data row2 col0\" >E</td>\n",
       "      <td id=\"T_12642_row2_col1\" class=\"data row2 col1\" >0.901570</td>\n",
       "    </tr>\n",
       "    <tr>\n",
       "      <th id=\"T_12642_level0_row3\" class=\"row_heading level0 row3\" >3</th>\n",
       "      <td id=\"T_12642_row3_col0\" class=\"data row3 col0\" >D</td>\n",
       "      <td id=\"T_12642_row3_col1\" class=\"data row3 col1\" >0.563091</td>\n",
       "    </tr>\n",
       "  </tbody>\n",
       "</table>\n"
      ],
      "text/plain": [
       "<pandas.io.formats.style.Styler at 0x7f4d8bb84be0>"
      ]
     },
     "metadata": {},
     "output_type": "display_data"
    }
   ],
   "source": [
    "FS = wuml.feature_selection(data)\n",
    "wuml.jupyter_print(FS.removal_history)\n",
    "wuml.jupyter_print(FS.removal_table)"
   ]
  }
 ],
 "metadata": {
  "kernelspec": {
   "display_name": "Python 3",
   "language": "python",
   "name": "python3"
  },
  "language_info": {
   "codemirror_mode": {
    "name": "ipython",
    "version": 3
   },
   "file_extension": ".py",
   "mimetype": "text/x-python",
   "name": "python",
   "nbconvert_exporter": "python",
   "pygments_lexer": "ipython3",
   "version": "3.8.10"
  }
 },
 "nbformat": 4,
 "nbformat_minor": 2
}
