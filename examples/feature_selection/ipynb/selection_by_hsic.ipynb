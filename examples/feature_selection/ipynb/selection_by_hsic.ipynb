{
 "cells": [
  {
   "cell_type": "code",
   "execution_count": 1,
   "metadata": {
    "execution": {
     "iopub.execute_input": "2023-03-15T18:00:26.276901Z",
     "iopub.status.busy": "2023-03-15T18:00:26.276511Z",
     "iopub.status.idle": "2023-03-15T18:00:26.281377Z",
     "shell.execute_reply": "2023-03-15T18:00:26.280289Z"
    }
   },
   "outputs": [],
   "source": [
    "#!/usr/bin/env python"
   ]
  },
  {
   "cell_type": "code",
   "execution_count": 2,
   "metadata": {
    "execution": {
     "iopub.execute_input": "2023-03-15T18:00:26.285316Z",
     "iopub.status.busy": "2023-03-15T18:00:26.284947Z",
     "iopub.status.idle": "2023-03-15T18:00:26.291630Z",
     "shell.execute_reply": "2023-03-15T18:00:26.290445Z"
    }
   },
   "outputs": [],
   "source": [
    "import os\n",
    "import sys\n",
    "if os.path.exists('/home/chieh/code/wPlotLib'):\n",
    "\tsys.path.insert(0,'/home/chieh/code/wPlotLib')\n",
    "if os.path.exists('/home/chieh/code/wuML'):\n",
    "\tsys.path.insert(0,'/home/chieh/code/wuML')"
   ]
  },
  {
   "cell_type": "code",
   "execution_count": 3,
   "metadata": {
    "execution": {
     "iopub.execute_input": "2023-03-15T18:00:26.295435Z",
     "iopub.status.busy": "2023-03-15T18:00:26.295169Z",
     "iopub.status.idle": "2023-03-15T18:00:28.132263Z",
     "shell.execute_reply": "2023-03-15T18:00:28.131559Z"
    }
   },
   "outputs": [],
   "source": [
    "import wuml \n",
    "import numpy as np"
   ]
  },
  {
   "cell_type": "markdown",
   "metadata": {},
   "source": [
    "ata = wuml.make_moons()"
   ]
  },
  {
   "cell_type": "code",
   "execution_count": 4,
   "metadata": {
    "execution": {
     "iopub.execute_input": "2023-03-15T18:00:28.137687Z",
     "iopub.status.busy": "2023-03-15T18:00:28.137496Z",
     "iopub.status.idle": "2023-03-15T18:00:28.152576Z",
     "shell.execute_reply": "2023-03-15T18:00:28.151844Z"
    }
   },
   "outputs": [],
   "source": [
    "n = 1000\n",
    "x1 = np.random.randn(n,1)\n",
    "x2 = x1 \n",
    "x3 = np.random.randn(n,1)\n",
    "x4 = x3 + 0.05*np.random.randn(n,1)\n",
    "x5 = np.random.randn(n,1)\n",
    "data = np.hstack((x1,x2,x3,x4,x5))\n",
    "data = wuml.ensure_wData(data, column_names=['A','B','C','D','E'])"
   ]
  },
  {
   "cell_type": "code",
   "execution_count": 5,
   "metadata": {
    "execution": {
     "iopub.execute_input": "2023-03-15T18:00:28.156391Z",
     "iopub.status.busy": "2023-03-15T18:00:28.156190Z",
     "iopub.status.idle": "2023-03-15T18:00:32.700109Z",
     "shell.execute_reply": "2023-03-15T18:00:32.699416Z"
    }
   },
   "outputs": [
    {
     "data": {
      "text/html": [
       "<div>\n",
       "<style scoped>\n",
       "    .dataframe tbody tr th:only-of-type {\n",
       "        vertical-align: middle;\n",
       "    }\n",
       "\n",
       "    .dataframe tbody tr th {\n",
       "        vertical-align: top;\n",
       "    }\n",
       "\n",
       "    .dataframe thead th {\n",
       "        text-align: right;\n",
       "    }\n",
       "</style>\n",
       "<table border=\"1\" class=\"dataframe\">\n",
       "  <thead>\n",
       "    <tr style=\"text-align: right;\">\n",
       "      <th></th>\n",
       "      <th>A</th>\n",
       "      <th>B</th>\n",
       "      <th>C</th>\n",
       "      <th>D</th>\n",
       "      <th>E</th>\n",
       "    </tr>\n",
       "  </thead>\n",
       "  <tbody>\n",
       "    <tr>\n",
       "      <th>0</th>\n",
       "      <td>0.965998</td>\n",
       "      <td>0.965998</td>\n",
       "      <td>0.966686</td>\n",
       "      <td>0.966296</td>\n",
       "      <td>0.901903</td>\n",
       "    </tr>\n",
       "    <tr>\n",
       "      <th>1</th>\n",
       "      <td>0.969061</td>\n",
       "      <td>0.969061</td>\n",
       "      <td>NaN</td>\n",
       "      <td>0.733995</td>\n",
       "      <td>0.870977</td>\n",
       "    </tr>\n",
       "    <tr>\n",
       "      <th>2</th>\n",
       "      <td>NaN</td>\n",
       "      <td>0.694572</td>\n",
       "      <td>NaN</td>\n",
       "      <td>0.709748</td>\n",
       "      <td>0.90157</td>\n",
       "    </tr>\n",
       "    <tr>\n",
       "      <th>3</th>\n",
       "      <td>NaN</td>\n",
       "      <td>0.550548</td>\n",
       "      <td>NaN</td>\n",
       "      <td>0.563091</td>\n",
       "      <td>NaN</td>\n",
       "    </tr>\n",
       "  </tbody>\n",
       "</table>\n",
       "</div>"
      ],
      "text/plain": [
       "          A         B         C         D         E\n",
       "0  0.965998  0.965998  0.966686  0.966296  0.901903\n",
       "1  0.969061  0.969061       NaN  0.733995  0.870977\n",
       "2       NaN  0.694572       NaN  0.709748   0.90157\n",
       "3       NaN  0.550548       NaN  0.563091       NaN"
      ]
     },
     "metadata": {},
     "output_type": "display_data"
    },
    {
     "data": {
      "text/html": [
       "<div>\n",
       "<style scoped>\n",
       "    .dataframe tbody tr th:only-of-type {\n",
       "        vertical-align: middle;\n",
       "    }\n",
       "\n",
       "    .dataframe tbody tr th {\n",
       "        vertical-align: top;\n",
       "    }\n",
       "\n",
       "    .dataframe thead th {\n",
       "        text-align: right;\n",
       "    }\n",
       "</style>\n",
       "<table border=\"1\" class=\"dataframe\">\n",
       "  <thead>\n",
       "    <tr style=\"text-align: right;\">\n",
       "      <th></th>\n",
       "      <th>column ID</th>\n",
       "      <th>Residual HSIC</th>\n",
       "    </tr>\n",
       "  </thead>\n",
       "  <tbody>\n",
       "    <tr>\n",
       "      <th>0</th>\n",
       "      <td>C</td>\n",
       "      <td>0.966686</td>\n",
       "    </tr>\n",
       "    <tr>\n",
       "      <th>1</th>\n",
       "      <td>A</td>\n",
       "      <td>0.969061</td>\n",
       "    </tr>\n",
       "    <tr>\n",
       "      <th>2</th>\n",
       "      <td>E</td>\n",
       "      <td>0.90157</td>\n",
       "    </tr>\n",
       "    <tr>\n",
       "      <th>3</th>\n",
       "      <td>D</td>\n",
       "      <td>0.563091</td>\n",
       "    </tr>\n",
       "  </tbody>\n",
       "</table>\n",
       "</div>"
      ],
      "text/plain": [
       "  column ID Residual HSIC\n",
       "0         C      0.966686\n",
       "1         A      0.969061\n",
       "2         E       0.90157\n",
       "3         D      0.563091"
      ]
     },
     "metadata": {},
     "output_type": "display_data"
    }
   ],
   "source": [
    "FS = wuml.feature_selection(data)\n",
    "wuml.jupyter_print(FS.removal_history)\n",
    "wuml.jupyter_print(FS.removal_table)"
   ]
  }
 ],
 "metadata": {
  "kernelspec": {
   "display_name": "Python 3",
   "language": "python",
   "name": "python3"
  },
  "language_info": {
   "codemirror_mode": {
    "name": "ipython",
    "version": 3
   },
   "file_extension": ".py",
   "mimetype": "text/x-python",
   "name": "python",
   "nbconvert_exporter": "python",
   "pygments_lexer": "ipython3",
   "version": "3.8.10"
  }
 },
 "nbformat": 4,
 "nbformat_minor": 2
}
