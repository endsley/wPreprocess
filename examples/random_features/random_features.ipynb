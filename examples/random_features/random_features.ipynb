{
 "cells": [
  {
   "cell_type": "code",
   "execution_count": 1,
   "metadata": {},
   "outputs": [],
   "source": [
    "#!/usr/bin/env python"
   ]
  },
  {
   "cell_type": "code",
   "execution_count": 2,
   "metadata": {},
   "outputs": [],
   "source": [
    "import os\n",
    "import sys\n",
    "if os.path.exists('/home/chieh/code/wPlotLib'):\n",
    "\tsys.path.insert(0,'/home/chieh/code/wPlotLib')\n",
    "if os.path.exists('/home/chieh/code/wuML'):\n",
    "\tsys.path.insert(0,'/home/chieh/code/wuML')\n",
    "import wuml\n",
    "import wplotlib\n",
    "import numpy as np\n",
    "import sklearn\n",
    "from sklearn.metrics import mean_absolute_error\n",
    "from sklearn.metrics import mean_squared_error"
   ]
  },
  {
   "cell_type": "markdown",
   "metadata": {},
   "source": [
    "On lower dimension data, it seems that RFF is good enough"
   ]
  },
  {
   "cell_type": "code",
   "execution_count": 3,
   "metadata": {},
   "outputs": [],
   "source": [
    "X = np.random.randn(7,4)\n",
    "σ = np.median(sklearn.metrics.pairwise.pairwise_distances(X))\n",
    "γ = 1.0/(2*σ*σ)\n",
    "#\n",
    "K = sklearn.metrics.pairwise.rbf_kernel(X, gamma=γ)\n",
    "#\n",
    "sorf = wuml.random_feature(sigma=σ, random_feature_method='orthogonal', sample_num=12)\n",
    "Kₒ = sorf.get_kernel(X)\t\t\t# kernel matrix from orthogonal"
   ]
  },
  {
   "cell_type": "code",
   "execution_count": 4,
   "metadata": {},
   "outputs": [
    {
     "data": {
      "text/html": [
       "<html><body><h3>You can obtain the feature map directly via the function get_feature_map</h3></body></html>"
      ],
      "text/plain": [
       "<IPython.core.display.HTML object>"
      ]
     },
     "metadata": {},
     "output_type": "display_data"
    },
    {
     "name": "stdout",
     "output_type": "stream",
     "text": [
      "[[-0.2139  0.1712 -0.0848 -0.4066 -0.2117 -0.0358  0.3929  0.4055 -0.2028  0.35    0.1298 -0.4082]\n",
      " [-0.3499  0.0083  0.4014  0.0939 -0.3435 -0.3975  0.2977  0.3906  0.3756  0.192  -0.0261 -0.3606]\n",
      " [ 0.1147 -0.3644  0.2254 -0.4081 -0.3973  0.0101  0.3457  0.0618 -0.3996  0.2253 -0.1884 -0.4054]\n",
      " [-0.2276 -0.3338  0.3334 -0.2713 -0.4043 -0.3044  0.3881  0.1198 -0.0952  0.1874 -0.2295 -0.3595]\n",
      " [-0.3853 -0.3583  0.3863  0.1274 -0.3719 -0.3882  0.235   0.0748  0.2611  0.0312 -0.2291 -0.1284]\n",
      " [-0.011  -0.0845  0.1237 -0.3466  0.1763  0.2165  0.3956 -0.4059 -0.3895 -0.3504 -0.0809 -0.3694]\n",
      " [-0.2358 -0.0026  0.3519  0.3501 -0.3982 -0.2108  0.3849  0.3872  0.3763  0.018   0.264  -0.264 ]]\n",
      "\n",
      "\n"
     ]
    }
   ],
   "source": [
    "wuml.jupyter_print('You can obtain the feature map directly via the function get_feature_map')\n",
    "Φₒ = sorf.get_feature_map(X)\t\t\t# kernel matrix from orthogonal\n",
    "wuml.jupyter_print(Φₒ); print('\\n')"
   ]
  },
  {
   "cell_type": "markdown",
   "metadata": {},
   "source": []
  },
  {
   "cell_type": "code",
   "execution_count": 5,
   "metadata": {},
   "outputs": [
    {
     "name": "stdout",
     "output_type": "stream",
     "text": [
      "                       Real                       \tApprox by SORF                  \n",
      "[1.     0.4794 0.6296 0.6173 0.365  0.0699 0.365 ]\t[1.     0.8009 0.838  0.9234 0.6067 0.023  0.5568]\n",
      "[0.4794 1.     0.4186 0.7545 0.8542 0.1138 0.8901]\t[0.8009 0.9969 0.377  0.7002 0.8094 0.083  0.8144]\n",
      "[0.6296 0.4186 1.     0.8109 0.45   0.3333 0.3204]\t[0.838  0.377  1.     0.85   0.3197 0.0895 0.1883]\n",
      "[0.6173 0.7545 0.8109 1.     0.819  0.297  0.6065]\t[0.9234 0.7002 0.85   0.9436 0.698  0.2646 0.5099]\n",
      "[0.365  0.8542 0.45   0.819  1.     0.1865 0.7726]\t[0.6067 0.8094 0.3197 0.698  0.9257 0.3101 0.7083]\n",
      "[0.0699 0.1138 0.3333 0.297  0.1865 1.     0.0631]\t[0.023  0.083  0.0895 0.2646 0.3101 0.8969 0.0482]\n",
      "[0.365  0.8901 0.3204 0.6065 0.7726 0.0631 1.    ]\t[0.5568 0.8144 0.1883 0.5099 0.7083 0.0482 0.8393]\n",
      "                                                  \t\n",
      "\n",
      "\n",
      "                       Real                       \tApprox by RFF                   \n",
      "[1.     0.4794 0.6296 0.6173 0.365  0.0699 0.365 ]\t[0.9732 0.5405 0.6453 0.6643 0.4305 0.0596 0.4377]\n",
      "[0.4794 1.     0.4186 0.7545 0.8542 0.1138 0.8901]\t[0.5405 1.     0.4707 0.8163 0.9037 0.0887 0.9297]\n",
      "[0.6296 0.4186 1.     0.8109 0.45   0.3333 0.3204]\t[0.6453 0.4707 1.     0.8364 0.4854 0.3604 0.3539]\n",
      "[0.6173 0.7545 0.8109 1.     0.819  0.297  0.6065]\t[0.6643 0.8163 0.8364 1.     0.864  0.2919 0.6652]\n",
      "[0.365  0.8542 0.45   0.819  1.     0.1865 0.7726]\t[0.4305 0.9037 0.4854 0.864  1.     0.1481 0.838 ]\n",
      "[0.0699 0.1138 0.3333 0.297  0.1865 1.     0.0631]\t[0.0596 0.0887 0.3604 0.2919 0.1481 1.     0.0228]\n",
      "[0.365  0.8901 0.3204 0.6065 0.7726 0.0631 1.    ]\t[0.4377 0.9297 0.3539 0.6652 0.838  0.0228 1.    ]\n",
      "                                                  \t\n",
      "\n",
      "\n"
     ]
    }
   ],
   "source": [
    "rff = wuml.random_feature(sigma=σ, random_feature_method='rff')\n",
    "Kᵣ = rff.get_kernel(X)\t\t\t# kernel matrix from orthogonal\n",
    "#\n",
    "#\n",
    "wuml.print_two_matrices_side_by_side(K[0:8,0:8], Kₒ[0:8,0:8], title1='Real', title2='Approx by SORF', auto_print=True)\n",
    "wuml.print_two_matrices_side_by_side(K[0:8,0:8], Kᵣ[0:8,0:8], title1='Real', title2='Approx by RFF', auto_print=True)"
   ]
  },
  {
   "cell_type": "code",
   "execution_count": 6,
   "metadata": {},
   "outputs": [
    {
     "data": {
      "text/html": [
       "<html><body><h3>Don't worry that RFF performs better on lower dimension datasets with few samples (only 12)</h3></body></html>"
      ],
      "text/plain": [
       "<IPython.core.display.HTML object>"
      ]
     },
     "metadata": {},
     "output_type": "display_data"
    },
    {
     "data": {
      "text/html": [
       "<html><body><h3>Mean absolute Error with SORF 0.113</h3></body></html>"
      ],
      "text/plain": [
       "<IPython.core.display.HTML object>"
      ]
     },
     "metadata": {},
     "output_type": "display_data"
    },
    {
     "data": {
      "text/html": [
       "<html><body><h3>Mean absolute Error with RFF 0.036<br></h3></body></html>"
      ],
      "text/plain": [
       "<IPython.core.display.HTML object>"
      ]
     },
     "metadata": {},
     "output_type": "display_data"
    }
   ],
   "source": [
    "wuml.jupyter_print(\"Don't worry that RFF performs better on lower dimension datasets with few samples (only 12)\")\n",
    "ε = mean_absolute_error(K, Kₒ)\n",
    "wuml.jupyter_print('Mean absolute Error with SORF %.3f'%ε)\n",
    "ε = mean_absolute_error(K, Kᵣ)\n",
    "wuml.jupyter_print('Mean absolute Error with RFF %.3f\\n'%ε)"
   ]
  },
  {
   "cell_type": "code",
   "execution_count": 7,
   "metadata": {},
   "outputs": [
    {
     "data": {
      "text/html": [
       "<html><body><h3>Mean Squared Error with SORF 0.021</h3></body></html>"
      ],
      "text/plain": [
       "<IPython.core.display.HTML object>"
      ]
     },
     "metadata": {},
     "output_type": "display_data"
    },
    {
     "data": {
      "text/html": [
       "<html><body><h3>Mean Squared Error with SORF 0.002</h3></body></html>"
      ],
      "text/plain": [
       "<IPython.core.display.HTML object>"
      ]
     },
     "metadata": {},
     "output_type": "display_data"
    }
   ],
   "source": [
    "ε = mean_squared_error(K, Kₒ)\n",
    "wuml.jupyter_print('Mean Squared Error with SORF %.3f'%ε)\n",
    "ε = mean_squared_error(K, Kᵣ)\n",
    "wuml.jupyter_print('Mean Squared Error with SORF %.3f'%ε)"
   ]
  }
 ],
 "metadata": {
  "kernelspec": {
   "display_name": "Python 3",
   "language": "python",
   "name": "python3"
  },
  "language_info": {
   "codemirror_mode": {
    "name": "ipython",
    "version": 3
   },
   "file_extension": ".py",
   "mimetype": "text/x-python",
   "name": "python",
   "nbconvert_exporter": "python",
   "pygments_lexer": "ipython3",
   "version": "3.8.10"
  }
 },
 "nbformat": 4,
 "nbformat_minor": 2
}
