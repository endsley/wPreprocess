{
 "cells": [
  {
   "cell_type": "code",
   "execution_count": 1,
   "metadata": {
    "execution": {
     "iopub.execute_input": "2023-03-15T03:18:48.406882Z",
     "iopub.status.busy": "2023-03-15T03:18:48.406447Z",
     "iopub.status.idle": "2023-03-15T03:18:48.413572Z",
     "shell.execute_reply": "2023-03-15T03:18:48.411094Z"
    }
   },
   "outputs": [],
   "source": [
    "#!/usr/bin/env python"
   ]
  },
  {
   "cell_type": "code",
   "execution_count": 2,
   "metadata": {
    "execution": {
     "iopub.execute_input": "2023-03-15T03:18:48.419120Z",
     "iopub.status.busy": "2023-03-15T03:18:48.418777Z",
     "iopub.status.idle": "2023-03-15T03:18:50.318972Z",
     "shell.execute_reply": "2023-03-15T03:18:50.318139Z"
    }
   },
   "outputs": [],
   "source": [
    "import wuml "
   ]
  },
  {
   "cell_type": "code",
   "execution_count": 3,
   "metadata": {
    "execution": {
     "iopub.execute_input": "2023-03-15T03:18:50.322431Z",
     "iopub.status.busy": "2023-03-15T03:18:50.322242Z",
     "iopub.status.idle": "2023-03-15T03:18:50.326981Z",
     "shell.execute_reply": "2023-03-15T03:18:50.326115Z"
    }
   },
   "outputs": [],
   "source": [
    "def f(x):\n",
    "\tif x < 0: return 0\n",
    "\tif x > 1: return 0\n",
    "\treturn 1"
   ]
  },
  {
   "cell_type": "code",
   "execution_count": 4,
   "metadata": {
    "execution": {
     "iopub.execute_input": "2023-03-15T03:18:50.330814Z",
     "iopub.status.busy": "2023-03-15T03:18:50.330607Z",
     "iopub.status.idle": "2023-03-15T03:18:50.344128Z",
     "shell.execute_reply": "2023-03-15T03:18:50.343022Z"
    }
   },
   "outputs": [
    {
     "data": {
      "text/html": [
       "<html><body><h3>Area: 0.5000, error: 0.0000</h3></body></html>"
      ],
      "text/plain": [
       "<IPython.core.display.HTML object>"
      ]
     },
     "metadata": {},
     "output_type": "display_data"
    },
    {
     "name": "stdout",
     "output_type": "stream",
     "text": [
      "\n"
     ]
    }
   ],
   "source": [
    "[area, error] = wuml.integrate(f, 0, 0.5)\n",
    "wuml.jupyter_print('Area: %.4f, error: %.4f'%(area, error))"
   ]
  }
 ],
 "metadata": {
  "kernelspec": {
   "display_name": "Python 3",
   "language": "python",
   "name": "python3"
  },
  "language_info": {
   "codemirror_mode": {
    "name": "ipython",
    "version": 3
   },
   "file_extension": ".py",
   "mimetype": "text/x-python",
   "name": "python",
   "nbconvert_exporter": "python",
   "pygments_lexer": "ipython3",
   "version": "3.8.10"
  }
 },
 "nbformat": 4,
 "nbformat_minor": 2
}
