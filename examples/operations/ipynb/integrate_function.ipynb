{
 "cells": [
  {
   "cell_type": "code",
   "execution_count": 1,
   "metadata": {
    "execution": {
     "iopub.execute_input": "2023-02-11T16:00:56.261718Z",
     "iopub.status.busy": "2023-02-11T16:00:56.261207Z",
     "iopub.status.idle": "2023-02-11T16:00:56.267756Z",
     "shell.execute_reply": "2023-02-11T16:00:56.266380Z"
    }
   },
   "outputs": [],
   "source": [
    "#!/usr/bin/env python"
   ]
  },
  {
   "cell_type": "code",
   "execution_count": 2,
   "metadata": {
    "execution": {
     "iopub.execute_input": "2023-02-11T16:00:56.272564Z",
     "iopub.status.busy": "2023-02-11T16:00:56.272177Z",
     "iopub.status.idle": "2023-02-11T16:00:57.917264Z",
     "shell.execute_reply": "2023-02-11T16:00:57.916491Z"
    }
   },
   "outputs": [],
   "source": [
    "import wuml "
   ]
  },
  {
   "cell_type": "code",
   "execution_count": 3,
   "metadata": {
    "execution": {
     "iopub.execute_input": "2023-02-11T16:00:57.922400Z",
     "iopub.status.busy": "2023-02-11T16:00:57.922220Z",
     "iopub.status.idle": "2023-02-11T16:00:57.926871Z",
     "shell.execute_reply": "2023-02-11T16:00:57.925686Z"
    }
   },
   "outputs": [],
   "source": [
    "def f(x):\n",
    "\tif x < 0: return 0\n",
    "\tif x > 1: return 0\n",
    "\treturn 1"
   ]
  },
  {
   "cell_type": "code",
   "execution_count": 4,
   "metadata": {
    "execution": {
     "iopub.execute_input": "2023-02-11T16:00:57.930871Z",
     "iopub.status.busy": "2023-02-11T16:00:57.930493Z",
     "iopub.status.idle": "2023-02-11T16:00:57.945810Z",
     "shell.execute_reply": "2023-02-11T16:00:57.945152Z"
    }
   },
   "outputs": [
    {
     "data": {
      "text/html": [
       "<html><body><h3>Area: 0.5000, error: 0.0000</h3></body></html>"
      ],
      "text/plain": [
       "<IPython.core.display.HTML object>"
      ]
     },
     "metadata": {},
     "output_type": "display_data"
    },
    {
     "name": "stdout",
     "output_type": "stream",
     "text": [
      "\n"
     ]
    }
   ],
   "source": [
    "[area, error] = wuml.integrate(f, 0, 0.5)\n",
    "wuml.jupyter_print('Area: %.4f, error: %.4f'%(area, error))"
   ]
  }
 ],
 "metadata": {
  "kernelspec": {
   "display_name": "Python 3",
   "language": "python",
   "name": "python3"
  },
  "language_info": {
   "codemirror_mode": {
    "name": "ipython",
    "version": 3
   },
   "file_extension": ".py",
   "mimetype": "text/x-python",
   "name": "python",
   "nbconvert_exporter": "python",
   "pygments_lexer": "ipython3",
   "version": "3.8.10"
  }
 },
 "nbformat": 4,
 "nbformat_minor": 2
}
