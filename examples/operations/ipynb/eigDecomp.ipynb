{
 "cells": [
  {
   "cell_type": "code",
   "execution_count": 1,
   "metadata": {
    "execution": {
     "iopub.execute_input": "2023-02-11T16:00:51.564100Z",
     "iopub.status.busy": "2023-02-11T16:00:51.563690Z",
     "iopub.status.idle": "2023-02-11T16:00:51.569402Z",
     "shell.execute_reply": "2023-02-11T16:00:51.568318Z"
    }
   },
   "outputs": [],
   "source": [
    "#!/usr/bin/env python"
   ]
  },
  {
   "cell_type": "code",
   "execution_count": 2,
   "metadata": {
    "execution": {
     "iopub.execute_input": "2023-02-11T16:00:51.573250Z",
     "iopub.status.busy": "2023-02-11T16:00:51.573011Z",
     "iopub.status.idle": "2023-02-11T16:00:53.264095Z",
     "shell.execute_reply": "2023-02-11T16:00:53.263227Z"
    }
   },
   "outputs": [],
   "source": [
    "import wuml \n",
    "import numpy as np"
   ]
  },
  {
   "cell_type": "code",
   "execution_count": 3,
   "metadata": {
    "execution": {
     "iopub.execute_input": "2023-02-11T16:00:53.270346Z",
     "iopub.status.busy": "2023-02-11T16:00:53.270176Z",
     "iopub.status.idle": "2023-02-11T16:00:53.289949Z",
     "shell.execute_reply": "2023-02-11T16:00:53.289097Z"
    }
   },
   "outputs": [],
   "source": [
    "M = wuml.gen_squared_symmetric_matrix(4, distribution='Uniform')\n",
    "data = wuml.wData(X_npArray=M)"
   ]
  },
  {
   "cell_type": "code",
   "execution_count": 4,
   "metadata": {
    "execution": {
     "iopub.execute_input": "2023-02-11T16:00:53.296237Z",
     "iopub.status.busy": "2023-02-11T16:00:53.296066Z",
     "iopub.status.idle": "2023-02-11T16:00:53.310651Z",
     "shell.execute_reply": "2023-02-11T16:00:53.310063Z"
    }
   },
   "outputs": [
    {
     "data": {
      "text/html": [
       "<html><body><h3>Eigenvalues and Eigenvectors</h3></body></html>"
      ],
      "text/plain": [
       "<IPython.core.display.HTML object>"
      ]
     },
     "metadata": {},
     "output_type": "display_data"
    },
    {
     "name": "stdout",
     "output_type": "stream",
     "text": [
      "\n"
     ]
    },
    {
     "data": {
      "text/html": [
       "<html><body><h3>          Eigenvalues          \t            Eigenvectors           <br>[[5.403  0.     0.     0.    ] \t[[-0.5184  0.0133  0.1067 -0.8483]<br> [0.     0.514  0.     0.    ] \t [-0.5106 -0.1341  0.7471  0.4039]<br> [0.     0.     0.2894 0.    ] \t [-0.5699 -0.4746 -0.617   0.2632]<br> [0.     0.     0.     0.0242]]\t [-0.3818  0.8698 -0.2231  0.2189]]<br></h3></body></html>"
      ],
      "text/plain": [
       "<IPython.core.display.HTML object>"
      ]
     },
     "metadata": {},
     "output_type": "display_data"
    },
    {
     "name": "stdout",
     "output_type": "stream",
     "text": [
      "\n"
     ]
    }
   ],
   "source": [
    "E = wuml.eig(data, num_eigs_to_keep=2, return_contribution_of_each_vector=True)\n",
    "[Λ, V, Λₐ, Vₐ]= [E.eigen_values, E.eigen_vectors, E.all_eigen_values, E.all_eigen_vectors]\n",
    "M_back = Vₐ.dot(Λₐ).dot(Vₐ.T)\n",
    "wuml.jupyter_print('Eigenvalues and Eigenvectors')\n",
    "wuml.block_two_string_concatenate(Λₐ, Vₐ, spacing='\\t', add_titles=['Eigenvalues', 'Eigenvectors'], auto_print=True)"
   ]
  },
  {
   "cell_type": "code",
   "execution_count": 5,
   "metadata": {
    "execution": {
     "iopub.execute_input": "2023-02-11T16:00:53.361437Z",
     "iopub.status.busy": "2023-02-11T16:00:53.361083Z",
     "iopub.status.idle": "2023-02-11T16:00:53.374156Z",
     "shell.execute_reply": "2023-02-11T16:00:53.373243Z"
    }
   },
   "outputs": [
    {
     "data": {
      "text/html": [
       "<html><body><h3>Making sure the eigenvectors and values can returns the same matrix.<br>\t(M and M_back should be identical)</h3></body></html>"
      ],
      "text/plain": [
       "<IPython.core.display.HTML object>"
      ]
     },
     "metadata": {},
     "output_type": "display_data"
    },
    {
     "name": "stdout",
     "output_type": "stream",
     "text": [
      "\n"
     ]
    },
    {
     "data": {
      "text/html": [
       "<html><body><h3>               M               \t          M from Eigs          <br>[[1.4729 1.4441 1.5685 1.064 ] \t[[1.4729 1.4441 1.5685 1.064 ]<br> [1.4441 1.5834 1.474  0.9473] \t [1.4441 1.5834 1.474  0.9473]<br> [1.5685 1.474  1.9822 1.0046] \t [1.5685 1.474  1.9822 1.0046]<br> [1.064  0.9473 1.0046 1.192 ]]\t [1.064  0.9473 1.0046 1.192 ]]<br></h3></body></html>"
      ],
      "text/plain": [
       "<IPython.core.display.HTML object>"
      ]
     },
     "metadata": {},
     "output_type": "display_data"
    },
    {
     "name": "stdout",
     "output_type": "stream",
     "text": [
      "\n"
     ]
    }
   ],
   "source": [
    "wuml.jupyter_print('Making sure the eigenvectors and values can returns the same matrix.\\n\\t(M and M_back should be identical)')\n",
    "wuml.block_two_string_concatenate(M, M_back, spacing='\\t', add_titles=['M', 'M from Eigs'], auto_print=True)"
   ]
  },
  {
   "cell_type": "code",
   "execution_count": 6,
   "metadata": {
    "execution": {
     "iopub.execute_input": "2023-02-11T16:00:53.377233Z",
     "iopub.status.busy": "2023-02-11T16:00:53.377035Z",
     "iopub.status.idle": "2023-02-11T16:00:53.382495Z",
     "shell.execute_reply": "2023-02-11T16:00:53.381823Z"
    }
   },
   "outputs": [
    {
     "data": {
      "text/html": [
       "<html><body><h3>    Project X onto V : VᵀX   <br>[-2.801 -2.759 -3.079 -2.063]<br>[ 0.007 -0.069 -0.244  0.447]<br>[ 0.031  0.216 -0.179 -0.065]<br>[-0.021  0.01   0.006  0.005]<br></h3></body></html>"
      ],
      "text/plain": [
       "<IPython.core.display.HTML object>"
      ]
     },
     "metadata": {},
     "output_type": "display_data"
    },
    {
     "name": "stdout",
     "output_type": "stream",
     "text": [
      "\n"
     ]
    }
   ],
   "source": [
    "wuml.pretty_np_array(E.data_projected_onto_eigvectors, title='Project X onto V : VᵀX', auto_print=True)"
   ]
  },
  {
   "cell_type": "code",
   "execution_count": 7,
   "metadata": {
    "execution": {
     "iopub.execute_input": "2023-02-11T16:00:53.385547Z",
     "iopub.status.busy": "2023-02-11T16:00:53.385346Z",
     "iopub.status.idle": "2023-02-11T16:00:53.393733Z",
     "shell.execute_reply": "2023-02-11T16:00:53.392913Z"
    }
   },
   "outputs": [
    {
     "data": {
      "text/html": [
       "<html><body><h3>Study how quickly the eigenvalues grow</h3></body></html>"
      ],
      "text/plain": [
       "<IPython.core.display.HTML object>"
      ]
     },
     "metadata": {},
     "output_type": "display_data"
    },
    {
     "name": "stdout",
     "output_type": "stream",
     "text": [
      "\n"
     ]
    },
    {
     "data": {
      "text/html": [
       "<html><body><h3>cumsum eigenvalues<br>[0.867]<br>[0.95 ]<br>[0.996]<br>[1.   ]<br></h3></body></html>"
      ],
      "text/plain": [
       "<IPython.core.display.HTML object>"
      ]
     },
     "metadata": {},
     "output_type": "display_data"
    },
    {
     "name": "stdout",
     "output_type": "stream",
     "text": [
      "\n"
     ]
    }
   ],
   "source": [
    "wuml.jupyter_print('Study how quickly the eigenvalues grow')\n",
    "wuml.pretty_np_array(E.cumsum_eigen_values, title='cumsum eigenvalues', auto_print=True)"
   ]
  },
  {
   "cell_type": "code",
   "execution_count": 8,
   "metadata": {
    "execution": {
     "iopub.execute_input": "2023-02-11T16:00:53.396880Z",
     "iopub.status.busy": "2023-02-11T16:00:53.396665Z",
     "iopub.status.idle": "2023-02-11T16:00:53.405727Z",
     "shell.execute_reply": "2023-02-11T16:00:53.404841Z"
    }
   },
   "outputs": [
    {
     "data": {
      "text/html": [
       "<html><body><h3>Study the weights of the eigenvalues</h3></body></html>"
      ],
      "text/plain": [
       "<IPython.core.display.HTML object>"
      ]
     },
     "metadata": {},
     "output_type": "display_data"
    },
    {
     "name": "stdout",
     "output_type": "stream",
     "text": [
      "\n"
     ]
    },
    {
     "data": {
      "text/html": [
       "<html><body><h3>Normalized eigenvalues<br>[0.867]<br>[0.082]<br>[0.046]<br>[0.004]<br></h3></body></html>"
      ],
      "text/plain": [
       "<IPython.core.display.HTML object>"
      ]
     },
     "metadata": {},
     "output_type": "display_data"
    },
    {
     "name": "stdout",
     "output_type": "stream",
     "text": [
      "\n"
     ]
    }
   ],
   "source": [
    "wuml.jupyter_print('Study the weights of the eigenvalues')\n",
    "wuml.pretty_np_array(E.normalized_eigen_values, title='Normalized eigenvalues', auto_print=True)"
   ]
  }
 ],
 "metadata": {
  "kernelspec": {
   "display_name": "Python 3",
   "language": "python",
   "name": "python3"
  },
  "language_info": {
   "codemirror_mode": {
    "name": "ipython",
    "version": 3
   },
   "file_extension": ".py",
   "mimetype": "text/x-python",
   "name": "python",
   "nbconvert_exporter": "python",
   "pygments_lexer": "ipython3",
   "version": "3.8.10"
  }
 },
 "nbformat": 4,
 "nbformat_minor": 2
}
