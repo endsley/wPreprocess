{
 "cells": [
  {
   "cell_type": "code",
   "execution_count": 1,
   "metadata": {},
   "outputs": [
    {
     "name": "stderr",
     "output_type": "stream",
     "text": [
      "2021-10-12 13:33:51.544816: I tensorflow/stream_executor/platform/default/dso_loader.cc:49] Successfully opened dynamic library libcudart.so.11.0\n"
     ]
    },
    {
     "name": "stdout",
     "output_type": "stream",
     "text": [
      "          0         1         2         3\n",
      "0  1.472913  1.444118  1.568513  1.064021\n",
      "1  1.444118  1.583404  1.474026  0.947276\n",
      "2  1.568513  1.474026  1.982232  1.004639\n",
      "3  1.064021  0.947276  1.004639  1.192041\n"
     ]
    }
   ],
   "source": [
    "#!/usr/bin/env python\n",
    "import wuml \n",
    "import numpy as np\n",
    "\n",
    "M = wuml.gen_squared_symmetric_matrix(4, distribution='Uniform')\n",
    "data = wuml.wData(X_npArray=M)\n",
    "print(data)"
   ]
  },
  {
   "cell_type": "code",
   "execution_count": 2,
   "metadata": {},
   "outputs": [
    {
     "name": "stdout",
     "output_type": "stream",
     "text": [
      "Eigenvalues and Eigenvectors\n",
      "          Eigenvalues          \t            Eigenvectors           \n",
      "[[5.403  0.     0.     0.    ] \t[[-0.5184  0.0133  0.1067 -0.8483]\n",
      " [0.     0.514  0.     0.    ] \t [-0.5106 -0.1341  0.7471  0.4039]\n",
      " [0.     0.     0.2894 0.    ] \t [-0.5699 -0.4746 -0.617   0.2632]\n",
      " [0.     0.     0.     0.0242]]\t [-0.3818  0.8698 -0.2231  0.2189]]\n",
      "\n"
     ]
    }
   ],
   "source": [
    "E = wuml.eig(data, num_eigs_to_keep=2, return_contribution_of_each_vector=True)\n",
    "[Λ, V, Λₐ, Vₐ]= [E.eigen_values, E.eigen_vectors, E.all_eigen_values, E.all_eigen_vectors]\n",
    "M_back = Vₐ.dot(Λₐ).dot(Vₐ.T)\n",
    "print('Eigenvalues and Eigenvectors')\n",
    "wuml.block_two_string_concatenate(Λₐ, Vₐ, spacing='\\t', add_titles=['Eigenvalues', 'Eigenvectors'], auto_print=True)"
   ]
  },
  {
   "cell_type": "code",
   "execution_count": 3,
   "metadata": {},
   "outputs": [
    {
     "name": "stdout",
     "output_type": "stream",
     "text": [
      "Making sure the eigenvectors and values can returns the same matrix.\n",
      "\t(M and M_back should be identical)\n",
      "               M               \t          M from Eigs          \n",
      "[[1.4729 1.4441 1.5685 1.064 ] \t[[1.4729 1.4441 1.5685 1.064 ]\n",
      " [1.4441 1.5834 1.474  0.9473] \t [1.4441 1.5834 1.474  0.9473]\n",
      " [1.5685 1.474  1.9822 1.0046] \t [1.5685 1.474  1.9822 1.0046]\n",
      " [1.064  0.9473 1.0046 1.192 ]]\t [1.064  0.9473 1.0046 1.192 ]]\n",
      "\n"
     ]
    }
   ],
   "source": [
    "print('Making sure the eigenvectors and values can returns the same matrix.\\n\\t(M and M_back should be identical)')\n",
    "wuml.block_two_string_concatenate(M, M_back, spacing='\\t', add_titles=['M', 'M from Eigs'], auto_print=True)"
   ]
  },
  {
   "cell_type": "code",
   "execution_count": 4,
   "metadata": {},
   "outputs": [
    {
     "name": "stdout",
     "output_type": "stream",
     "text": [
      "      Project X onto V : VᵀX     \n",
      "[-2.8011 -2.7588 -3.079  -2.0629]\n",
      "[ 0.0068 -0.0689 -0.2439  0.447 ]\n",
      "[ 0.0309  0.2162 -0.1786 -0.0646]\n",
      "[-0.0205  0.0098  0.0064  0.0053]\n",
      "\n"
     ]
    }
   ],
   "source": [
    "wuml.pretty_np_array(E.data_projected_onto_eigvectors, title='Project X onto V : VᵀX', auto_print=True)"
   ]
  },
  {
   "cell_type": "code",
   "execution_count": 5,
   "metadata": {},
   "outputs": [
    {
     "name": "stdout",
     "output_type": "stream",
     "text": [
      "Study how quickly the eigenvalues grow\n",
      "      cumsum eigenvalues     \n",
      "[0.8672 0.9497 0.9961 1.    ]\n",
      "\n"
     ]
    }
   ],
   "source": [
    "print('Study how quickly the eigenvalues grow')\n",
    "wuml.pretty_np_array(E.cumsum_eigen_values, title='cumsum eigenvalues', auto_print=True)"
   ]
  },
  {
   "cell_type": "code",
   "execution_count": 6,
   "metadata": {},
   "outputs": [
    {
     "name": "stdout",
     "output_type": "stream",
     "text": [
      "Study the weights of the eigenvalues\n",
      "    Normalized eigenvalues   \n",
      "[0.8672 0.0825 0.0465 0.0039]\n",
      "\n"
     ]
    }
   ],
   "source": [
    "print('Study the weights of the eigenvalues')\n",
    "wuml.pretty_np_array(E.normalized_eigen_values, title='Normalized eigenvalues', auto_print=True)"
   ]
  }
 ],
 "metadata": {
  "kernelspec": {
   "display_name": "Python 3 (ipykernel)",
   "language": "python",
   "name": "python3"
  },
  "language_info": {
   "codemirror_mode": {
    "name": "ipython",
    "version": 3
   },
   "file_extension": ".py",
   "mimetype": "text/x-python",
   "name": "python",
   "nbconvert_exporter": "python",
   "pygments_lexer": "ipython3",
   "version": "3.7.10"
  }
 },
 "nbformat": 4,
 "nbformat_minor": 2
}
