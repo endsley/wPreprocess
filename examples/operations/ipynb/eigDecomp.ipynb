{
 "cells": [
  {
   "cell_type": "code",
   "execution_count": 1,
   "metadata": {},
   "outputs": [
    {
     "name": "stderr",
     "output_type": "stream",
     "text": [
      "2021-10-12 12:52:25.365220: I tensorflow/stream_executor/platform/default/dso_loader.cc:49] Successfully opened dynamic library libcudart.so.11.0\n"
     ]
    },
    {
     "ename": "RuntimeError",
     "evalue": "module compiled against API version 0xe but this version of numpy is 0xd",
     "output_type": "error",
     "traceback": [
      "\u001b[0;31m---------------------------------------------------------------------------\u001b[0m",
      "\u001b[0;31mRuntimeError\u001b[0m                              Traceback (most recent call last)",
      "\u001b[0;31mRuntimeError\u001b[0m: module compiled against API version 0xe but this version of numpy is 0xd"
     ]
    },
    {
     "name": "stdout",
     "output_type": "stream",
     "text": [
      "          0         1         2         3\n",
      "0  1.472913  1.444118  1.568513  1.064021\n",
      "1  1.444118  1.583404  1.474026  0.947276\n",
      "2  1.568513  1.474026  1.982232  1.004639\n",
      "3  1.064021  0.947276  1.004639  1.192041\n"
     ]
    }
   ],
   "source": [
    "#!/usr/bin/env python\n",
    "import wuml \n",
    "import numpy as np\n",
    "\n",
    "M = wuml.gen_squared_symmetric_matrix(4, distribution='Uniform')\n",
    "data = wuml.wData(X_npArray=M)\n",
    "print(data)"
   ]
  },
  {
   "cell_type": "code",
   "execution_count": null,
   "metadata": {},
   "outputs": [],
   "source": []
  },
  {
   "cell_type": "code",
   "execution_count": null,
   "metadata": {},
   "outputs": [],
   "source": []
  },
  {
   "cell_type": "code",
   "execution_count": null,
   "metadata": {},
   "outputs": [],
   "source": [
    "E = wuml.eig(data, num_eigs_to_keep=2, return_contribution_of_each_vector=True)\n",
    "[Λ, V, Λₐ, Vₐ]= [E.eigen_values, E.eigen_vectors, E.all_eigen_values, E.all_eigen_vectors]\n",
    "M_back = Vₐ.dot(Λₐ).dot(Vₐ.T)\n",
    "print('Eigenvalues and Eigenvectors')\n",
    "wuml.block_two_string_concatenate(Λₐ, Vₐ, spacing='\\t', add_titles=['Eigenvalues', 'Eigenvectors'], auto_print=True)"
   ]
  },
  {
   "cell_type": "code",
   "execution_count": null,
   "metadata": {},
   "outputs": [],
   "source": [
    "print('Making sure the eigenvectors and values can returns the same matrix.\\n\\t(M and M_back should be identical)')\n",
    "wuml.block_two_string_concatenate(M, M_back, spacing='\\t', add_titles=['M', 'M from Eigs'], auto_print=True)"
   ]
  },
  {
   "cell_type": "code",
   "execution_count": null,
   "metadata": {},
   "outputs": [],
   "source": [
    "wuml.pretty_np_array(E.data_projected_onto_eigvectors, title='Project X onto V : VᵀX', auto_print=True)"
   ]
  },
  {
   "cell_type": "code",
   "execution_count": null,
   "metadata": {},
   "outputs": [],
   "source": [
    "print('Study how quickly the eigenvalues grow')\n",
    "wuml.pretty_np_array(E.cumsum_eigen_values, title='cumsum eigenvalues', auto_print=True)"
   ]
  },
  {
   "cell_type": "code",
   "execution_count": null,
   "metadata": {},
   "outputs": [],
   "source": [
    "print('Study the weights of the eigenvalues')\n",
    "wuml.pretty_np_array(E.normalized_eigen_values, title='Normalized eigenvalues', auto_print=True)"
   ]
  },
  {
   "cell_type": "code",
   "execution_count": null,
   "metadata": {},
   "outputs": [],
   "source": [
    "import pdb; pdb.set_trace()"
   ]
  }
 ],
 "metadata": {
  "kernelspec": {
   "display_name": "Python 3 (ipykernel)",
   "language": "python",
   "name": "python3"
  },
  "language_info": {
   "codemirror_mode": {
    "name": "ipython",
    "version": 3
   },
   "file_extension": ".py",
   "mimetype": "text/x-python",
   "name": "python",
   "nbconvert_exporter": "python",
   "pygments_lexer": "ipython3",
   "version": "3.7.10"
  }
 },
 "nbformat": 4,
 "nbformat_minor": 2
}
