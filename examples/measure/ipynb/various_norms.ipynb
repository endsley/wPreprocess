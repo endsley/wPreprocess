{
 "cells": [
  {
   "cell_type": "code",
   "execution_count": 1,
   "metadata": {
    "execution": {
     "iopub.execute_input": "2023-04-01T16:47:11.617232Z",
     "iopub.status.busy": "2023-04-01T16:47:11.616788Z",
     "iopub.status.idle": "2023-04-01T16:47:11.623136Z",
     "shell.execute_reply": "2023-04-01T16:47:11.621723Z"
    }
   },
   "outputs": [],
   "source": [
    "#!/usr/bin/env python"
   ]
  },
  {
   "cell_type": "code",
   "execution_count": 2,
   "metadata": {
    "execution": {
     "iopub.execute_input": "2023-04-01T16:47:11.627610Z",
     "iopub.status.busy": "2023-04-01T16:47:11.627252Z",
     "iopub.status.idle": "2023-04-01T16:47:11.632405Z",
     "shell.execute_reply": "2023-04-01T16:47:11.631491Z"
    }
   },
   "outputs": [],
   "source": [
    "import os\n",
    "import sys\n",
    "if os.path.exists('/home/chieh/code/wPlotLib'):\n",
    "\tsys.path.insert(0,'/home/chieh/code/wPlotLib')\n",
    "if os.path.exists('/home/chieh/code/wuML'):\n",
    "\tsys.path.insert(0,'/home/chieh/code/wuML')"
   ]
  },
  {
   "cell_type": "code",
   "execution_count": 3,
   "metadata": {
    "execution": {
     "iopub.execute_input": "2023-04-01T16:47:11.636195Z",
     "iopub.status.busy": "2023-04-01T16:47:11.635969Z",
     "iopub.status.idle": "2023-04-01T16:47:13.454549Z",
     "shell.execute_reply": "2023-04-01T16:47:13.453532Z"
    }
   },
   "outputs": [],
   "source": [
    "import wuml\n",
    "import numpy as np\n",
    "from wuml import norm\n",
    "from wuml import jupyter_print"
   ]
  },
  {
   "cell_type": "markdown",
   "metadata": {},
   "source": [
    "default norm is 'l2'"
   ]
  },
  {
   "cell_type": "code",
   "execution_count": 4,
   "metadata": {
    "execution": {
     "iopub.execute_input": "2023-04-01T16:47:13.460141Z",
     "iopub.status.busy": "2023-04-01T16:47:13.459945Z",
     "iopub.status.idle": "2023-04-01T16:47:13.494533Z",
     "shell.execute_reply": "2023-04-01T16:47:13.493869Z"
    }
   },
   "outputs": [
    {
     "name": "stdout",
     "output_type": "stream",
     "text": [
      "Original Matrix\n",
      "   0  1\n",
      "0  1  2\n",
      "1  3  1\n",
      "L2 Norm for each row\n",
      "       0\n",
      "0  2.236\n",
      "1  3.162\n",
      "L1 Norm for each row\n",
      "     0\n",
      "0  3.0\n",
      "1  4.0\n",
      "Frobenius Norm\n",
      "       0\n",
      "0  3.873\n",
      "nuclear Norm\n",
      "     0\n",
      "0  5.0\n",
      "\n",
      "\n"
     ]
    }
   ],
   "source": [
    "X = np.array([[1,2],[3,1]])\n",
    "jupyter_print(wuml.pretty_np_array(X, front_tab='\\t', title='Original Matrix'))\n",
    "jupyter_print(wuml.pretty_np_array(norm(X), front_tab='\\t', title='L2 Norm for each row'))\n",
    "jupyter_print(wuml.pretty_np_array(norm(X, 'l1'), front_tab='\\t', title='L1 Norm for each row'))\n",
    "jupyter_print(wuml.pretty_np_array(norm(X, 'fro'), front_tab='\\t', title='Frobenius Norm'))\n",
    "jupyter_print(wuml.pretty_np_array(norm(X, 'nuclear'), front_tab='\\t', title='nuclear Norm'))\n",
    "print('\\n')"
   ]
  },
  {
   "cell_type": "code",
   "execution_count": 5,
   "metadata": {
    "execution": {
     "iopub.execute_input": "2023-04-01T16:47:13.542565Z",
     "iopub.status.busy": "2023-04-01T16:47:13.542155Z",
     "iopub.status.idle": "2023-04-01T16:47:13.556076Z",
     "shell.execute_reply": "2023-04-01T16:47:13.555149Z"
    }
   },
   "outputs": [
    {
     "name": "stdout",
     "output_type": "stream",
     "text": [
      "Original Vector\n",
      "   0\n",
      "0  1\n",
      "1  2\n",
      "l1 Norm\n",
      "     0\n",
      "0  3.0\n"
     ]
    }
   ],
   "source": [
    "X = np.array([1,2])\n",
    "jupyter_print(wuml.pretty_np_array(X, front_tab='\\t', title='Original Vector'))\n",
    "jupyter_print(wuml.pretty_np_array(norm(X, 'l1'), front_tab='\\t', title='l1 Norm'))"
   ]
  }
 ],
 "metadata": {
  "kernelspec": {
   "display_name": "Python 3",
   "language": "python",
   "name": "python3"
  },
  "language_info": {
   "codemirror_mode": {
    "name": "ipython",
    "version": 3
   },
   "file_extension": ".py",
   "mimetype": "text/x-python",
   "name": "python",
   "nbconvert_exporter": "python",
   "pygments_lexer": "ipython3",
   "version": "3.8.10"
  }
 },
 "nbformat": 4,
 "nbformat_minor": 2
}
