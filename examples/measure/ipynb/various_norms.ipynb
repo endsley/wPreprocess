{
 "cells": [
  {
   "cell_type": "code",
   "execution_count": 1,
   "metadata": {
    "execution": {
     "iopub.execute_input": "2023-02-24T21:48:22.388660Z",
     "iopub.status.busy": "2023-02-24T21:48:22.388411Z",
     "iopub.status.idle": "2023-02-24T21:48:22.392228Z",
     "shell.execute_reply": "2023-02-24T21:48:22.391301Z"
    }
   },
   "outputs": [],
   "source": [
    "#!/usr/bin/env python"
   ]
  },
  {
   "cell_type": "code",
   "execution_count": 2,
   "metadata": {
    "execution": {
     "iopub.execute_input": "2023-02-24T21:48:22.397111Z",
     "iopub.status.busy": "2023-02-24T21:48:22.396842Z",
     "iopub.status.idle": "2023-02-24T21:48:22.401720Z",
     "shell.execute_reply": "2023-02-24T21:48:22.400895Z"
    }
   },
   "outputs": [],
   "source": [
    "import os\n",
    "import sys\n",
    "if os.path.exists('/home/chieh/code/wPlotLib'):\n",
    "\tsys.path.insert(0,'/home/chieh/code/wPlotLib')\n",
    "if os.path.exists('/home/chieh/code/wuML'):\n",
    "\tsys.path.insert(0,'/home/chieh/code/wuML')"
   ]
  },
  {
   "cell_type": "code",
   "execution_count": 3,
   "metadata": {
    "execution": {
     "iopub.execute_input": "2023-02-24T21:48:22.405474Z",
     "iopub.status.busy": "2023-02-24T21:48:22.405216Z",
     "iopub.status.idle": "2023-02-24T21:48:24.261988Z",
     "shell.execute_reply": "2023-02-24T21:48:24.261164Z"
    }
   },
   "outputs": [],
   "source": [
    "import wuml\n",
    "import numpy as np\n",
    "from wuml import norm\n",
    "from wuml import jupyter_print"
   ]
  },
  {
   "cell_type": "markdown",
   "metadata": {},
   "source": [
    "default norm is 'l2'"
   ]
  },
  {
   "cell_type": "code",
   "execution_count": 4,
   "metadata": {
    "execution": {
     "iopub.execute_input": "2023-02-24T21:48:24.267097Z",
     "iopub.status.busy": "2023-02-24T21:48:24.266819Z",
     "iopub.status.idle": "2023-02-24T21:48:24.294079Z",
     "shell.execute_reply": "2023-02-24T21:48:24.291640Z"
    }
   },
   "outputs": [
    {
     "data": {
      "text/html": [
       "<html><body><h5>Original Matrix<br>&nbsp &nbsp[1 2]<br>&nbsp &nbsp[3 1]<br></h5></body></html>"
      ],
      "text/plain": [
       "<IPython.core.display.HTML object>"
      ]
     },
     "metadata": {},
     "output_type": "display_data"
    },
    {
     "data": {
      "text/html": [
       "<html><body><h5>L2 Norm for each row<br>&nbsp &nbsp[2.236]<br>&nbsp &nbsp[3.162]<br></h5></body></html>"
      ],
      "text/plain": [
       "<IPython.core.display.HTML object>"
      ]
     },
     "metadata": {},
     "output_type": "display_data"
    },
    {
     "data": {
      "text/html": [
       "<html><body><h5>L1 Norm for each row<br>&nbsp &nbsp[3]<br>&nbsp &nbsp[4]<br></h5></body></html>"
      ],
      "text/plain": [
       "<IPython.core.display.HTML object>"
      ]
     },
     "metadata": {},
     "output_type": "display_data"
    },
    {
     "data": {
      "text/html": [
       "<html><body><h5>Frobenius Norm<br>&nbsp &nbsp[3.873]<br></h5></body></html>"
      ],
      "text/plain": [
       "<IPython.core.display.HTML object>"
      ]
     },
     "metadata": {},
     "output_type": "display_data"
    },
    {
     "data": {
      "text/html": [
       "<html><body><h5>nuclear Norm<br>&nbsp &nbsp[5]<br></h5></body></html>"
      ],
      "text/plain": [
       "<IPython.core.display.HTML object>"
      ]
     },
     "metadata": {},
     "output_type": "display_data"
    },
    {
     "name": "stdout",
     "output_type": "stream",
     "text": [
      "\n",
      "\n"
     ]
    }
   ],
   "source": [
    "X = np.array([[1,2],[3,1]])\n",
    "jupyter_print(wuml.pretty_np_array(X, front_tab='\\t', title='Original Matrix'))\n",
    "jupyter_print(wuml.pretty_np_array(norm(X), front_tab='\\t', title='L2 Norm for each row'))\n",
    "jupyter_print(wuml.pretty_np_array(norm(X, 'l1'), front_tab='\\t', title='L1 Norm for each row'))\n",
    "jupyter_print(wuml.pretty_np_array(norm(X, 'fro'), front_tab='\\t', title='Frobenius Norm'))\n",
    "jupyter_print(wuml.pretty_np_array(norm(X, 'nuclear'), front_tab='\\t', title='nuclear Norm'))\n",
    "print('\\n')"
   ]
  },
  {
   "cell_type": "code",
   "execution_count": 5,
   "metadata": {
    "execution": {
     "iopub.execute_input": "2023-02-24T21:48:24.339599Z",
     "iopub.status.busy": "2023-02-24T21:48:24.339241Z",
     "iopub.status.idle": "2023-02-24T21:48:24.352210Z",
     "shell.execute_reply": "2023-02-24T21:48:24.350810Z"
    }
   },
   "outputs": [
    {
     "data": {
      "text/html": [
       "<html><body><h5>Original Vector<br>&nbsp &nbsp[1]<br>&nbsp &nbsp[2]<br></h5></body></html>"
      ],
      "text/plain": [
       "<IPython.core.display.HTML object>"
      ]
     },
     "metadata": {},
     "output_type": "display_data"
    },
    {
     "data": {
      "text/html": [
       "<html><body><h5>l1 Norm<br>&nbsp &nbsp[3]<br></h5></body></html>"
      ],
      "text/plain": [
       "<IPython.core.display.HTML object>"
      ]
     },
     "metadata": {},
     "output_type": "display_data"
    }
   ],
   "source": [
    "X = np.array([1,2])\n",
    "jupyter_print(wuml.pretty_np_array(X, front_tab='\\t', title='Original Vector'))\n",
    "jupyter_print(wuml.pretty_np_array(norm(X, 'l1'), front_tab='\\t', title='l1 Norm'))"
   ]
  }
 ],
 "metadata": {
  "kernelspec": {
   "display_name": "Python 3",
   "language": "python",
   "name": "python3"
  },
  "language_info": {
   "codemirror_mode": {
    "name": "ipython",
    "version": 3
   },
   "file_extension": ".py",
   "mimetype": "text/x-python",
   "name": "python",
   "nbconvert_exporter": "python",
   "pygments_lexer": "ipython3",
   "version": "3.8.10"
  }
 },
 "nbformat": 4,
 "nbformat_minor": 2
}
