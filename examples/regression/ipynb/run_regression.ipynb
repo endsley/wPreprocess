{
 "cells": [
  {
   "cell_type": "code",
   "execution_count": 1,
   "metadata": {},
   "outputs": [],
   "source": [
    "#!/usr/bin/env python\n",
    "import os\n",
    "import sys\n",
    "if os.path.exists('/home/chieh/code/wuML'):\n",
    "\tsys.path.insert(0,'/home/chieh/code/wuML')"
   ]
  },
  {
   "cell_type": "code",
   "execution_count": 2,
   "metadata": {},
   "outputs": [],
   "source": [
    "import wuml "
   ]
  },
  {
   "cell_type": "code",
   "execution_count": 3,
   "metadata": {},
   "outputs": [],
   "source": [
    "data = wuml.wData('../../data/shap_regress_example_uniform.csv', label_column_name='label', label_type='continuous', first_row_is_label=True)"
   ]
  },
  {
   "cell_type": "code",
   "execution_count": 6,
   "metadata": {},
   "outputs": [
    {
     "data": {
      "text/html": [
       "<html><body><h3>Running a single regressor</h3></body></html>"
      ],
      "text/plain": [
       "<IPython.core.display.HTML object>"
      ]
     },
     "metadata": {},
     "output_type": "display_data"
    },
    {
     "data": {
      "text/html": [
       "<div>\n",
       "<style scoped>\n",
       "    .dataframe tbody tr th:only-of-type {\n",
       "        vertical-align: middle;\n",
       "    }\n",
       "\n",
       "    .dataframe tbody tr th {\n",
       "        vertical-align: top;\n",
       "    }\n",
       "\n",
       "    .dataframe thead th {\n",
       "        text-align: right;\n",
       "    }\n",
       "</style>\n",
       "<table border=\"1\" class=\"dataframe\">\n",
       "  <thead>\n",
       "    <tr style=\"text-align: right;\">\n",
       "      <th></th>\n",
       "      <th>Train mse</th>\n",
       "      <th>Test mse</th>\n",
       "      <th>Train r2 Score</th>\n",
       "      <th>Test r2 Score</th>\n",
       "      <th>Train avg abs error</th>\n",
       "      <th>Test avg abs error</th>\n",
       "      <th>Train max error</th>\n",
       "      <th>Test max error</th>\n",
       "    </tr>\n",
       "  </thead>\n",
       "  <tbody>\n",
       "    <tr>\n",
       "      <th>Elastic net</th>\n",
       "      <td>1.4202</td>\n",
       "      <td>0.7141</td>\n",
       "      <td>0.8842</td>\n",
       "      <td>0.9038</td>\n",
       "      <td>0.9236</td>\n",
       "      <td>0.675</td>\n",
       "      <td>2.5051</td>\n",
       "      <td>1.3528</td>\n",
       "    </tr>\n",
       "  </tbody>\n",
       "</table>\n",
       "</div>"
      ],
      "text/plain": [
       "             Train mse  Test mse  Train r2 Score  Test r2 Score  \\\n",
       "Elastic net     1.4202    0.7141          0.8842         0.9038   \n",
       "\n",
       "             Train avg abs error  Test avg abs error  Train max error  \\\n",
       "Elastic net               0.9236               0.675           2.5051   \n",
       "\n",
       "             Test max error  \n",
       "Elastic net          1.3528  "
      ]
     },
     "metadata": {},
     "output_type": "display_data"
    }
   ],
   "source": [
    "reg = wuml.regression(data, regressor='Elastic net', alpha=0.05, gamma=0.05, l1_ratio=0.05)\n",
    "wuml.jupyter_print('Running a single regressor, Elastic Net')\n",
    "wuml.jupyter_print(reg.result_summary(print_out=False))"
   ]
  },
  {
   "cell_type": "code",
   "execution_count": 7,
   "metadata": {},
   "outputs": [
    {
     "data": {
      "text/html": [
       "<html><body><h3><br><br>Run all regressors sorted by least test error</h3></body></html>"
      ],
      "text/plain": [
       "<IPython.core.display.HTML object>"
      ]
     },
     "metadata": {},
     "output_type": "display_data"
    },
    {
     "data": {
      "text/html": [
       "<div>\n",
       "<style scoped>\n",
       "    .dataframe tbody tr th:only-of-type {\n",
       "        vertical-align: middle;\n",
       "    }\n",
       "\n",
       "    .dataframe tbody tr th {\n",
       "        vertical-align: top;\n",
       "    }\n",
       "\n",
       "    .dataframe thead th {\n",
       "        text-align: right;\n",
       "    }\n",
       "</style>\n",
       "<table border=\"1\" class=\"dataframe\">\n",
       "  <thead>\n",
       "    <tr style=\"text-align: right;\">\n",
       "      <th></th>\n",
       "      <th>Train mse</th>\n",
       "      <th>Test mse</th>\n",
       "      <th>Train r2 Score</th>\n",
       "      <th>Test r2 Score</th>\n",
       "      <th>Train avg abs error</th>\n",
       "      <th>Test avg abs error</th>\n",
       "      <th>Train max error</th>\n",
       "      <th>Test max error</th>\n",
       "    </tr>\n",
       "  </thead>\n",
       "  <tbody>\n",
       "    <tr>\n",
       "      <th>Predef_NeuralNet</th>\n",
       "      <td>0.0007</td>\n",
       "      <td>0.0037</td>\n",
       "      <td>0.9999</td>\n",
       "      <td>0.9995</td>\n",
       "      <td>0.0220</td>\n",
       "      <td>0.0512</td>\n",
       "      <td>0.0641</td>\n",
       "      <td>0.0976</td>\n",
       "    </tr>\n",
       "    <tr>\n",
       "      <th>linear</th>\n",
       "      <td>0.0262</td>\n",
       "      <td>0.0302</td>\n",
       "      <td>0.9979</td>\n",
       "      <td>0.9959</td>\n",
       "      <td>0.1413</td>\n",
       "      <td>0.1429</td>\n",
       "      <td>0.3320</td>\n",
       "      <td>0.2181</td>\n",
       "    </tr>\n",
       "    <tr>\n",
       "      <th>NeuralNet</th>\n",
       "      <td>0.0268</td>\n",
       "      <td>0.0391</td>\n",
       "      <td>0.9978</td>\n",
       "      <td>0.9947</td>\n",
       "      <td>0.1210</td>\n",
       "      <td>0.1846</td>\n",
       "      <td>0.5027</td>\n",
       "      <td>0.2814</td>\n",
       "    </tr>\n",
       "    <tr>\n",
       "      <th>Ridge</th>\n",
       "      <td>0.0474</td>\n",
       "      <td>0.0396</td>\n",
       "      <td>0.9961</td>\n",
       "      <td>0.9947</td>\n",
       "      <td>0.1646</td>\n",
       "      <td>0.1778</td>\n",
       "      <td>0.5794</td>\n",
       "      <td>0.3000</td>\n",
       "    </tr>\n",
       "    <tr>\n",
       "      <th>GP</th>\n",
       "      <td>0.0000</td>\n",
       "      <td>0.0726</td>\n",
       "      <td>1.0000</td>\n",
       "      <td>0.9902</td>\n",
       "      <td>0.0000</td>\n",
       "      <td>0.2267</td>\n",
       "      <td>0.0000</td>\n",
       "      <td>0.4176</td>\n",
       "    </tr>\n",
       "    <tr>\n",
       "      <th>Lasso</th>\n",
       "      <td>0.3735</td>\n",
       "      <td>0.1445</td>\n",
       "      <td>0.9696</td>\n",
       "      <td>0.9805</td>\n",
       "      <td>0.4847</td>\n",
       "      <td>0.3559</td>\n",
       "      <td>1.2618</td>\n",
       "      <td>0.4858</td>\n",
       "    </tr>\n",
       "    <tr>\n",
       "      <th>kernel ridge</th>\n",
       "      <td>1.0822</td>\n",
       "      <td>0.5347</td>\n",
       "      <td>0.9118</td>\n",
       "      <td>0.9279</td>\n",
       "      <td>0.7969</td>\n",
       "      <td>0.5987</td>\n",
       "      <td>2.2281</td>\n",
       "      <td>1.1554</td>\n",
       "    </tr>\n",
       "    <tr>\n",
       "      <th>AdaBoost</th>\n",
       "      <td>0.1231</td>\n",
       "      <td>0.7686</td>\n",
       "      <td>0.9900</td>\n",
       "      <td>0.8964</td>\n",
       "      <td>0.2570</td>\n",
       "      <td>0.7626</td>\n",
       "      <td>0.8311</td>\n",
       "      <td>1.2543</td>\n",
       "    </tr>\n",
       "    <tr>\n",
       "      <th>Elastic net</th>\n",
       "      <td>3.0305</td>\n",
       "      <td>1.6645</td>\n",
       "      <td>0.7530</td>\n",
       "      <td>0.7757</td>\n",
       "      <td>1.3607</td>\n",
       "      <td>0.9655</td>\n",
       "      <td>3.6089</td>\n",
       "      <td>2.1284</td>\n",
       "    </tr>\n",
       "    <tr>\n",
       "      <th>RandomForest</th>\n",
       "      <td>0.4698</td>\n",
       "      <td>2.2157</td>\n",
       "      <td>0.9617</td>\n",
       "      <td>0.7014</td>\n",
       "      <td>0.5729</td>\n",
       "      <td>1.2931</td>\n",
       "      <td>1.4607</td>\n",
       "      <td>2.0636</td>\n",
       "    </tr>\n",
       "  </tbody>\n",
       "</table>\n",
       "</div>"
      ],
      "text/plain": [
       "                  Train mse  Test mse  Train r2 Score  Test r2 Score  \\\n",
       "Predef_NeuralNet     0.0007    0.0037          0.9999         0.9995   \n",
       "linear               0.0262    0.0302          0.9979         0.9959   \n",
       "NeuralNet            0.0268    0.0391          0.9978         0.9947   \n",
       "Ridge                0.0474    0.0396          0.9961         0.9947   \n",
       "GP                   0.0000    0.0726          1.0000         0.9902   \n",
       "Lasso                0.3735    0.1445          0.9696         0.9805   \n",
       "kernel ridge         1.0822    0.5347          0.9118         0.9279   \n",
       "AdaBoost             0.1231    0.7686          0.9900         0.8964   \n",
       "Elastic net          3.0305    1.6645          0.7530         0.7757   \n",
       "RandomForest         0.4698    2.2157          0.9617         0.7014   \n",
       "\n",
       "                  Train avg abs error  Test avg abs error  Train max error  \\\n",
       "Predef_NeuralNet               0.0220              0.0512           0.0641   \n",
       "linear                         0.1413              0.1429           0.3320   \n",
       "NeuralNet                      0.1210              0.1846           0.5027   \n",
       "Ridge                          0.1646              0.1778           0.5794   \n",
       "GP                             0.0000              0.2267           0.0000   \n",
       "Lasso                          0.4847              0.3559           1.2618   \n",
       "kernel ridge                   0.7969              0.5987           2.2281   \n",
       "AdaBoost                       0.2570              0.7626           0.8311   \n",
       "Elastic net                    1.3607              0.9655           3.6089   \n",
       "RandomForest                   0.5729              1.2931           1.4607   \n",
       "\n",
       "                  Test max error  \n",
       "Predef_NeuralNet          0.0976  \n",
       "linear                    0.2181  \n",
       "NeuralNet                 0.2814  \n",
       "Ridge                     0.3000  \n",
       "GP                        0.4176  \n",
       "Lasso                     0.4858  \n",
       "kernel ridge              1.1554  \n",
       "AdaBoost                  1.2543  \n",
       "Elastic net               2.1284  \n",
       "RandomForest              2.0636  "
      ]
     },
     "metadata": {},
     "output_type": "display_data"
    }
   ],
   "source": [
    "wuml.jupyter_print('\\n\\nRun all regressors sorted by least test error')\n",
    "result = wuml.run_every_regressor(data, alpha=0.1, gamma=0.05, l1_ratio=0.05)\n",
    "wuml.jupyter_print(result['Train/Test Summary'])"
   ]
  },
  {
   "cell_type": "code",
   "execution_count": 9,
   "metadata": {},
   "outputs": [],
   "source": [
    "model = result['Ridge']          # you can get a particular model from the result"
   ]
  }
 ],
 "metadata": {
  "kernelspec": {
   "display_name": "Python 3",
   "language": "python",
   "name": "python3"
  },
  "language_info": {
   "codemirror_mode": {
    "name": "ipython",
    "version": 3
   },
   "file_extension": ".py",
   "mimetype": "text/x-python",
   "name": "python",
   "nbconvert_exporter": "python",
   "pygments_lexer": "ipython3",
   "version": "3.8.10"
  }
 },
 "nbformat": 4,
 "nbformat_minor": 2
}
