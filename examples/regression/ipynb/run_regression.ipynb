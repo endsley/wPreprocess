{
 "cells": [
  {
   "cell_type": "code",
   "execution_count": 1,
   "metadata": {},
   "outputs": [],
   "source": [
    "#!/usr/bin/env python"
   ]
  },
  {
   "cell_type": "code",
   "execution_count": 2,
   "metadata": {},
   "outputs": [
    {
     "name": "stderr",
     "output_type": "stream",
     "text": [
      "2021-10-28 11:33:31.612354: I tensorflow/stream_executor/platform/default/dso_loader.cc:49] Successfully opened dynamic library libcudart.so.11.0\n"
     ]
    }
   ],
   "source": [
    "import wuml "
   ]
  },
  {
   "cell_type": "code",
   "execution_count": 3,
   "metadata": {},
   "outputs": [],
   "source": [
    "data = wuml.wData('../../data/shap_regress_example_uniform.csv', label_column_name='label', label_type='continuous', first_row_is_label=True)"
   ]
  },
  {
   "cell_type": "code",
   "execution_count": 7,
   "metadata": {},
   "outputs": [
    {
     "name": "stdout",
     "output_type": "stream",
     "text": [
      "Running a single regressor\n"
     ]
    },
    {
     "data": {
      "text/html": [
       "<style type=\"text/css\">\n",
       "</style>\n",
       "<table id=\"T_3e1c2_\">\n",
       "  <thead>\n",
       "    <tr>\n",
       "      <th class=\"blank level0\" >&nbsp;</th>\n",
       "      <th class=\"col_heading level0 col0\" >regressor</th>\n",
       "      <th class=\"col_heading level0 col1\" >Train mse</th>\n",
       "      <th class=\"col_heading level0 col2\" >Test mse</th>\n",
       "      <th class=\"col_heading level0 col3\" >Train r2 Score</th>\n",
       "      <th class=\"col_heading level0 col4\" >Test r2 Score</th>\n",
       "      <th class=\"col_heading level0 col5\" >Train avg abs error</th>\n",
       "      <th class=\"col_heading level0 col6\" >Test avg abs error</th>\n",
       "      <th class=\"col_heading level0 col7\" >Train max error</th>\n",
       "      <th class=\"col_heading level0 col8\" >Test max error</th>\n",
       "    </tr>\n",
       "  </thead>\n",
       "  <tbody>\n",
       "    <tr>\n",
       "      <th id=\"T_3e1c2_level0_row0\" class=\"row_heading level0 row0\" ></th>\n",
       "      <td id=\"T_3e1c2_row0_col0\" class=\"data row0 col0\" >Predef_NeuralNet</td>\n",
       "      <td id=\"T_3e1c2_row0_col1\" class=\"data row0 col1\" >0.0206</td>\n",
       "      <td id=\"T_3e1c2_row0_col2\" class=\"data row0 col2\" >0.0181</td>\n",
       "      <td id=\"T_3e1c2_row0_col3\" class=\"data row0 col3\" >0.9983</td>\n",
       "      <td id=\"T_3e1c2_row0_col4\" class=\"data row0 col4\" >0.9976</td>\n",
       "      <td id=\"T_3e1c2_row0_col5\" class=\"data row0 col5\" >0.1151</td>\n",
       "      <td id=\"T_3e1c2_row0_col6\" class=\"data row0 col6\" >0.1175</td>\n",
       "      <td id=\"T_3e1c2_row0_col7\" class=\"data row0 col7\" >0.3198</td>\n",
       "      <td id=\"T_3e1c2_row0_col8\" class=\"data row0 col8\" >0.1948</td>\n",
       "    </tr>\n",
       "  </tbody>\n",
       "</table>\n"
      ],
      "text/plain": [
       "<pandas.io.formats.style.Styler at 0x7ff998e0a710>"
      ]
     },
     "execution_count": 7,
     "metadata": {},
     "output_type": "execute_result"
    }
   ],
   "source": [
    "reg = wuml.regression(data, regressor='Predef_NeuralNet', max_epoch=150)\n",
    "summary = reg.result_summary(print_out=False)\n",
    "print('Running a single regressor')\n",
    "summary.style"
   ]
  },
  {
   "cell_type": "code",
   "execution_count": 5,
   "metadata": {},
   "outputs": [
    {
     "name": "stdout",
     "output_type": "stream",
     "text": [
      "\n",
      "\n",
      "Run all regressors sorted by least test error\n"
     ]
    },
    {
     "data": {
      "text/html": [
       "<style type=\"text/css\">\n",
       "</style>\n",
       "<table id=\"T_9ddad_\">\n",
       "  <thead>\n",
       "    <tr>\n",
       "      <th class=\"blank level0\" >&nbsp;</th>\n",
       "      <th class=\"col_heading level0 col0\" >regressor</th>\n",
       "      <th class=\"col_heading level0 col1\" >Train mse</th>\n",
       "      <th class=\"col_heading level0 col2\" >Test mse</th>\n",
       "      <th class=\"col_heading level0 col3\" >Train r2 Score</th>\n",
       "      <th class=\"col_heading level0 col4\" >Test r2 Score</th>\n",
       "      <th class=\"col_heading level0 col5\" >Train avg abs error</th>\n",
       "      <th class=\"col_heading level0 col6\" >Test avg abs error</th>\n",
       "      <th class=\"col_heading level0 col7\" >Train max error</th>\n",
       "      <th class=\"col_heading level0 col8\" >Test max error</th>\n",
       "    </tr>\n",
       "  </thead>\n",
       "  <tbody>\n",
       "    <tr>\n",
       "      <th id=\"T_9ddad_level0_row0\" class=\"row_heading level0 row0\" ></th>\n",
       "      <td id=\"T_9ddad_row0_col0\" class=\"data row0 col0\" >Predef_NeuralNet</td>\n",
       "      <td id=\"T_9ddad_row0_col1\" class=\"data row0 col1\" >0.0006</td>\n",
       "      <td id=\"T_9ddad_row0_col2\" class=\"data row0 col2\" >0.0275</td>\n",
       "      <td id=\"T_9ddad_row0_col3\" class=\"data row0 col3\" >1.0</td>\n",
       "      <td id=\"T_9ddad_row0_col4\" class=\"data row0 col4\" >0.9963</td>\n",
       "      <td id=\"T_9ddad_row0_col5\" class=\"data row0 col5\" >0.0195</td>\n",
       "      <td id=\"T_9ddad_row0_col6\" class=\"data row0 col6\" >0.1649</td>\n",
       "      <td id=\"T_9ddad_row0_col7\" class=\"data row0 col7\" >0.059</td>\n",
       "      <td id=\"T_9ddad_row0_col8\" class=\"data row0 col8\" >0.1834</td>\n",
       "    </tr>\n",
       "    <tr>\n",
       "      <th id=\"T_9ddad_level0_row1\" class=\"row_heading level0 row1\" ></th>\n",
       "      <td id=\"T_9ddad_row1_col0\" class=\"data row1 col0\" >linear</td>\n",
       "      <td id=\"T_9ddad_row1_col1\" class=\"data row1 col1\" >0.0262</td>\n",
       "      <td id=\"T_9ddad_row1_col2\" class=\"data row1 col2\" >0.0302</td>\n",
       "      <td id=\"T_9ddad_row1_col3\" class=\"data row1 col3\" >0.9979</td>\n",
       "      <td id=\"T_9ddad_row1_col4\" class=\"data row1 col4\" >0.9959</td>\n",
       "      <td id=\"T_9ddad_row1_col5\" class=\"data row1 col5\" >0.1413</td>\n",
       "      <td id=\"T_9ddad_row1_col6\" class=\"data row1 col6\" >0.1429</td>\n",
       "      <td id=\"T_9ddad_row1_col7\" class=\"data row1 col7\" >0.332</td>\n",
       "      <td id=\"T_9ddad_row1_col8\" class=\"data row1 col8\" >0.2181</td>\n",
       "    </tr>\n",
       "    <tr>\n",
       "      <th id=\"T_9ddad_level0_row2\" class=\"row_heading level0 row2\" ></th>\n",
       "      <td id=\"T_9ddad_row2_col0\" class=\"data row2 col0\" >NeuralNet</td>\n",
       "      <td id=\"T_9ddad_row2_col1\" class=\"data row2 col1\" >0.0268</td>\n",
       "      <td id=\"T_9ddad_row2_col2\" class=\"data row2 col2\" >0.0391</td>\n",
       "      <td id=\"T_9ddad_row2_col3\" class=\"data row2 col3\" >0.9978</td>\n",
       "      <td id=\"T_9ddad_row2_col4\" class=\"data row2 col4\" >0.9947</td>\n",
       "      <td id=\"T_9ddad_row2_col5\" class=\"data row2 col5\" >0.121</td>\n",
       "      <td id=\"T_9ddad_row2_col6\" class=\"data row2 col6\" >0.1846</td>\n",
       "      <td id=\"T_9ddad_row2_col7\" class=\"data row2 col7\" >0.5027</td>\n",
       "      <td id=\"T_9ddad_row2_col8\" class=\"data row2 col8\" >0.2814</td>\n",
       "    </tr>\n",
       "    <tr>\n",
       "      <th id=\"T_9ddad_level0_row3\" class=\"row_heading level0 row3\" ></th>\n",
       "      <td id=\"T_9ddad_row3_col0\" class=\"data row3 col0\" >GP</td>\n",
       "      <td id=\"T_9ddad_row3_col1\" class=\"data row3 col1\" >0.0</td>\n",
       "      <td id=\"T_9ddad_row3_col2\" class=\"data row3 col2\" >0.0726</td>\n",
       "      <td id=\"T_9ddad_row3_col3\" class=\"data row3 col3\" >1.0</td>\n",
       "      <td id=\"T_9ddad_row3_col4\" class=\"data row3 col4\" >0.9902</td>\n",
       "      <td id=\"T_9ddad_row3_col5\" class=\"data row3 col5\" >0.0</td>\n",
       "      <td id=\"T_9ddad_row3_col6\" class=\"data row3 col6\" >0.2267</td>\n",
       "      <td id=\"T_9ddad_row3_col7\" class=\"data row3 col7\" >0.0</td>\n",
       "      <td id=\"T_9ddad_row3_col8\" class=\"data row3 col8\" >0.4176</td>\n",
       "    </tr>\n",
       "    <tr>\n",
       "      <th id=\"T_9ddad_level0_row4\" class=\"row_heading level0 row4\" ></th>\n",
       "      <td id=\"T_9ddad_row4_col0\" class=\"data row4 col0\" >kernel ridge</td>\n",
       "      <td id=\"T_9ddad_row4_col1\" class=\"data row4 col1\" >1.0277</td>\n",
       "      <td id=\"T_9ddad_row4_col2\" class=\"data row4 col2\" >0.5311</td>\n",
       "      <td id=\"T_9ddad_row4_col3\" class=\"data row4 col3\" >0.9162</td>\n",
       "      <td id=\"T_9ddad_row4_col4\" class=\"data row4 col4\" >0.9284</td>\n",
       "      <td id=\"T_9ddad_row4_col5\" class=\"data row4 col5\" >0.7833</td>\n",
       "      <td id=\"T_9ddad_row4_col6\" class=\"data row4 col6\" >0.5704</td>\n",
       "      <td id=\"T_9ddad_row4_col7\" class=\"data row4 col7\" >2.0883</td>\n",
       "      <td id=\"T_9ddad_row4_col8\" class=\"data row4 col8\" >1.1255</td>\n",
       "    </tr>\n",
       "    <tr>\n",
       "      <th id=\"T_9ddad_level0_row5\" class=\"row_heading level0 row5\" ></th>\n",
       "      <td id=\"T_9ddad_row5_col0\" class=\"data row5 col0\" >AdaBoost</td>\n",
       "      <td id=\"T_9ddad_row5_col1\" class=\"data row5 col1\" >0.1231</td>\n",
       "      <td id=\"T_9ddad_row5_col2\" class=\"data row5 col2\" >0.7686</td>\n",
       "      <td id=\"T_9ddad_row5_col3\" class=\"data row5 col3\" >0.99</td>\n",
       "      <td id=\"T_9ddad_row5_col4\" class=\"data row5 col4\" >0.8964</td>\n",
       "      <td id=\"T_9ddad_row5_col5\" class=\"data row5 col5\" >0.257</td>\n",
       "      <td id=\"T_9ddad_row5_col6\" class=\"data row5 col6\" >0.7626</td>\n",
       "      <td id=\"T_9ddad_row5_col7\" class=\"data row5 col7\" >0.8311</td>\n",
       "      <td id=\"T_9ddad_row5_col8\" class=\"data row5 col8\" >1.2543</td>\n",
       "    </tr>\n",
       "    <tr>\n",
       "      <th id=\"T_9ddad_level0_row6\" class=\"row_heading level0 row6\" ></th>\n",
       "      <td id=\"T_9ddad_row6_col0\" class=\"data row6 col0\" >RandomForest</td>\n",
       "      <td id=\"T_9ddad_row6_col1\" class=\"data row6 col1\" >0.4698</td>\n",
       "      <td id=\"T_9ddad_row6_col2\" class=\"data row6 col2\" >2.2157</td>\n",
       "      <td id=\"T_9ddad_row6_col3\" class=\"data row6 col3\" >0.9617</td>\n",
       "      <td id=\"T_9ddad_row6_col4\" class=\"data row6 col4\" >0.7014</td>\n",
       "      <td id=\"T_9ddad_row6_col5\" class=\"data row6 col5\" >0.5729</td>\n",
       "      <td id=\"T_9ddad_row6_col6\" class=\"data row6 col6\" >1.2931</td>\n",
       "      <td id=\"T_9ddad_row6_col7\" class=\"data row6 col7\" >1.4607</td>\n",
       "      <td id=\"T_9ddad_row6_col8\" class=\"data row6 col8\" >2.0636</td>\n",
       "    </tr>\n",
       "    <tr>\n",
       "      <th id=\"T_9ddad_level0_row7\" class=\"row_heading level0 row7\" ></th>\n",
       "      <td id=\"T_9ddad_row7_col0\" class=\"data row7 col0\" >Elastic net</td>\n",
       "      <td id=\"T_9ddad_row7_col1\" class=\"data row7 col1\" >10.7205</td>\n",
       "      <td id=\"T_9ddad_row7_col2\" class=\"data row7 col2\" >7.7329</td>\n",
       "      <td id=\"T_9ddad_row7_col3\" class=\"data row7 col3\" >0.1261</td>\n",
       "      <td id=\"T_9ddad_row7_col4\" class=\"data row7 col4\" >-0.042</td>\n",
       "      <td id=\"T_9ddad_row7_col5\" class=\"data row7 col5\" >2.6676</td>\n",
       "      <td id=\"T_9ddad_row7_col6\" class=\"data row7 col6\" >1.8912</td>\n",
       "      <td id=\"T_9ddad_row7_col7\" class=\"data row7 col7\" >6.8286</td>\n",
       "      <td id=\"T_9ddad_row7_col8\" class=\"data row7 col8\" >4.7721</td>\n",
       "    </tr>\n",
       "  </tbody>\n",
       "</table>\n"
      ],
      "text/plain": [
       "<pandas.io.formats.style.Styler at 0x7ff9fb14dcd0>"
      ]
     },
     "execution_count": 5,
     "metadata": {},
     "output_type": "execute_result"
    }
   ],
   "source": [
    "print('\\n\\nRun all regressors sorted by least test error')\n",
    "result = wuml.run_every_regressor(data, order_by='Test mse')\n",
    "result.style"
   ]
  },
  {
   "cell_type": "code",
   "execution_count": null,
   "metadata": {},
   "outputs": [],
   "source": []
  }
 ],
 "metadata": {
  "kernelspec": {
   "display_name": "Python 3 (ipykernel)",
   "language": "python",
   "name": "python3"
  },
  "language_info": {
   "codemirror_mode": {
    "name": "ipython",
    "version": 3
   },
   "file_extension": ".py",
   "mimetype": "text/x-python",
   "name": "python",
   "nbconvert_exporter": "python",
   "pygments_lexer": "ipython3",
   "version": "3.7.10"
  }
 },
 "nbformat": 4,
 "nbformat_minor": 2
}
