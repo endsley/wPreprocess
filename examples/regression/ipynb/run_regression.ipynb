{
 "cells": [
  {
   "cell_type": "code",
   "execution_count": 11,
   "metadata": {},
   "outputs": [],
   "source": [
    "#!/usr/bin/env python"
   ]
  },
  {
   "cell_type": "code",
   "execution_count": 12,
   "metadata": {},
   "outputs": [],
   "source": [
    "import wuml "
   ]
  },
  {
   "cell_type": "code",
   "execution_count": 13,
   "metadata": {},
   "outputs": [],
   "source": [
    "data = wuml.wData('../../data/shap_regress_example_uniform.csv', label_column_name='label', \n",
    "                  label_type='continuous', first_row_is_label=True, preprocess_data='center and scale')"
   ]
  },
  {
   "cell_type": "code",
   "execution_count": 14,
   "metadata": {},
   "outputs": [
    {
     "name": "stdout",
     "output_type": "stream",
     "text": [
      "Running a single regressor\n"
     ]
    },
    {
     "data": {
      "text/html": [
       "<style type=\"text/css\">\n",
       "</style>\n",
       "<table id=\"T_1786d_\">\n",
       "  <thead>\n",
       "    <tr>\n",
       "      <th class=\"blank level0\" >&nbsp;</th>\n",
       "      <th class=\"col_heading level0 col0\" >regressor</th>\n",
       "      <th class=\"col_heading level0 col1\" >Train mse</th>\n",
       "      <th class=\"col_heading level0 col2\" >Test mse</th>\n",
       "      <th class=\"col_heading level0 col3\" >Train r2 Score</th>\n",
       "      <th class=\"col_heading level0 col4\" >Test r2 Score</th>\n",
       "      <th class=\"col_heading level0 col5\" >Train avg abs error</th>\n",
       "      <th class=\"col_heading level0 col6\" >Test avg abs error</th>\n",
       "      <th class=\"col_heading level0 col7\" >Train max error</th>\n",
       "      <th class=\"col_heading level0 col8\" >Test max error</th>\n",
       "    </tr>\n",
       "  </thead>\n",
       "  <tbody>\n",
       "    <tr>\n",
       "      <th id=\"T_1786d_level0_row0\" class=\"row_heading level0 row0\" ></th>\n",
       "      <td id=\"T_1786d_row0_col0\" class=\"data row0 col0\" >kernel ridge</td>\n",
       "      <td id=\"T_1786d_row0_col1\" class=\"data row0 col1\" >0.9012</td>\n",
       "      <td id=\"T_1786d_row0_col2\" class=\"data row0 col2\" >1.3761</td>\n",
       "      <td id=\"T_1786d_row0_col3\" class=\"data row0 col3\" >0.9265</td>\n",
       "      <td id=\"T_1786d_row0_col4\" class=\"data row0 col4\" >0.8146</td>\n",
       "      <td id=\"T_1786d_row0_col5\" class=\"data row0 col5\" >0.9236</td>\n",
       "      <td id=\"T_1786d_row0_col6\" class=\"data row0 col6\" >1.1601</td>\n",
       "      <td id=\"T_1786d_row0_col7\" class=\"data row0 col7\" >1.4535</td>\n",
       "      <td id=\"T_1786d_row0_col8\" class=\"data row0 col8\" >1.3239</td>\n",
       "    </tr>\n",
       "  </tbody>\n",
       "</table>\n"
      ],
      "text/plain": [
       "<pandas.io.formats.style.Styler at 0x7f8b5051bb90>"
      ]
     },
     "execution_count": 14,
     "metadata": {},
     "output_type": "execute_result"
    }
   ],
   "source": [
    "reg = wuml.regression(data, regressor='kernel ridge', alpha=0.05, gamma=0.05, l1_ratio=0.05)\n",
    "print('Running a single regressor')\n",
    "summary = reg.result_summary(print_out=False)\n",
    "summary.style"
   ]
  },
  {
   "cell_type": "code",
   "execution_count": 15,
   "metadata": {},
   "outputs": [
    {
     "name": "stdout",
     "output_type": "stream",
     "text": [
      "\n",
      "\n",
      "Run all regressors sorted by least test error\n"
     ]
    },
    {
     "data": {
      "text/html": [
       "<style type=\"text/css\">\n",
       "</style>\n",
       "<table id=\"T_3eb3f_\">\n",
       "  <thead>\n",
       "    <tr>\n",
       "      <th class=\"blank level0\" >&nbsp;</th>\n",
       "      <th class=\"col_heading level0 col0\" >regressor</th>\n",
       "      <th class=\"col_heading level0 col1\" >Train mse</th>\n",
       "      <th class=\"col_heading level0 col2\" >Test mse</th>\n",
       "      <th class=\"col_heading level0 col3\" >Train r2 Score</th>\n",
       "      <th class=\"col_heading level0 col4\" >Test r2 Score</th>\n",
       "      <th class=\"col_heading level0 col5\" >Train avg abs error</th>\n",
       "      <th class=\"col_heading level0 col6\" >Test avg abs error</th>\n",
       "      <th class=\"col_heading level0 col7\" >Train max error</th>\n",
       "      <th class=\"col_heading level0 col8\" >Test max error</th>\n",
       "    </tr>\n",
       "  </thead>\n",
       "  <tbody>\n",
       "    <tr>\n",
       "      <th id=\"T_3eb3f_level0_row0\" class=\"row_heading level0 row0\" ></th>\n",
       "      <td id=\"T_3eb3f_row0_col0\" class=\"data row0 col0\" >Predef_NeuralNet</td>\n",
       "      <td id=\"T_3eb3f_row0_col1\" class=\"data row0 col1\" >0.0</td>\n",
       "      <td id=\"T_3eb3f_row0_col2\" class=\"data row0 col2\" >0.0246</td>\n",
       "      <td id=\"T_3eb3f_row0_col3\" class=\"data row0 col3\" >1.0</td>\n",
       "      <td id=\"T_3eb3f_row0_col4\" class=\"data row0 col4\" >0.9967</td>\n",
       "      <td id=\"T_3eb3f_row0_col5\" class=\"data row0 col5\" >0.0006</td>\n",
       "      <td id=\"T_3eb3f_row0_col6\" class=\"data row0 col6\" >0.1472</td>\n",
       "      <td id=\"T_3eb3f_row0_col7\" class=\"data row0 col7\" >0.0022</td>\n",
       "      <td id=\"T_3eb3f_row0_col8\" class=\"data row0 col8\" >0.2236</td>\n",
       "    </tr>\n",
       "    <tr>\n",
       "      <th id=\"T_3eb3f_level0_row1\" class=\"row_heading level0 row1\" ></th>\n",
       "      <td id=\"T_3eb3f_row1_col0\" class=\"data row1 col0\" >NeuralNet</td>\n",
       "      <td id=\"T_3eb3f_row1_col1\" class=\"data row1 col1\" >0.0211</td>\n",
       "      <td id=\"T_3eb3f_row1_col2\" class=\"data row1 col2\" >0.0265</td>\n",
       "      <td id=\"T_3eb3f_row1_col3\" class=\"data row1 col3\" >0.9983</td>\n",
       "      <td id=\"T_3eb3f_row1_col4\" class=\"data row1 col4\" >0.9964</td>\n",
       "      <td id=\"T_3eb3f_row1_col5\" class=\"data row1 col5\" >0.1119</td>\n",
       "      <td id=\"T_3eb3f_row1_col6\" class=\"data row1 col6\" >0.1453</td>\n",
       "      <td id=\"T_3eb3f_row1_col7\" class=\"data row1 col7\" >0.3606</td>\n",
       "      <td id=\"T_3eb3f_row1_col8\" class=\"data row1 col8\" >0.2229</td>\n",
       "    </tr>\n",
       "    <tr>\n",
       "      <th id=\"T_3eb3f_level0_row2\" class=\"row_heading level0 row2\" ></th>\n",
       "      <td id=\"T_3eb3f_row2_col0\" class=\"data row2 col0\" >linear</td>\n",
       "      <td id=\"T_3eb3f_row2_col1\" class=\"data row2 col1\" >0.0262</td>\n",
       "      <td id=\"T_3eb3f_row2_col2\" class=\"data row2 col2\" >0.0302</td>\n",
       "      <td id=\"T_3eb3f_row2_col3\" class=\"data row2 col3\" >0.9979</td>\n",
       "      <td id=\"T_3eb3f_row2_col4\" class=\"data row2 col4\" >0.9959</td>\n",
       "      <td id=\"T_3eb3f_row2_col5\" class=\"data row2 col5\" >0.1413</td>\n",
       "      <td id=\"T_3eb3f_row2_col6\" class=\"data row2 col6\" >0.1429</td>\n",
       "      <td id=\"T_3eb3f_row2_col7\" class=\"data row2 col7\" >0.332</td>\n",
       "      <td id=\"T_3eb3f_row2_col8\" class=\"data row2 col8\" >0.2181</td>\n",
       "    </tr>\n",
       "    <tr>\n",
       "      <th id=\"T_3eb3f_level0_row3\" class=\"row_heading level0 row3\" ></th>\n",
       "      <td id=\"T_3eb3f_row3_col0\" class=\"data row3 col0\" >Elastic net</td>\n",
       "      <td id=\"T_3eb3f_row3_col1\" class=\"data row3 col1\" >0.134</td>\n",
       "      <td id=\"T_3eb3f_row3_col2\" class=\"data row3 col2\" >0.0859</td>\n",
       "      <td id=\"T_3eb3f_row3_col3\" class=\"data row3 col3\" >0.9891</td>\n",
       "      <td id=\"T_3eb3f_row3_col4\" class=\"data row3 col4\" >0.9884</td>\n",
       "      <td id=\"T_3eb3f_row3_col5\" class=\"data row3 col5\" >0.2667</td>\n",
       "      <td id=\"T_3eb3f_row3_col6\" class=\"data row3 col6\" >0.2655</td>\n",
       "      <td id=\"T_3eb3f_row3_col7\" class=\"data row3 col7\" >0.9196</td>\n",
       "      <td id=\"T_3eb3f_row3_col8\" class=\"data row3 col8\" >0.4249</td>\n",
       "    </tr>\n",
       "    <tr>\n",
       "      <th id=\"T_3eb3f_level0_row4\" class=\"row_heading level0 row4\" ></th>\n",
       "      <td id=\"T_3eb3f_row4_col0\" class=\"data row4 col0\" >GP</td>\n",
       "      <td id=\"T_3eb3f_row4_col1\" class=\"data row4 col1\" >0.0</td>\n",
       "      <td id=\"T_3eb3f_row4_col2\" class=\"data row4 col2\" >0.6215</td>\n",
       "      <td id=\"T_3eb3f_row4_col3\" class=\"data row4 col3\" >1.0</td>\n",
       "      <td id=\"T_3eb3f_row4_col4\" class=\"data row4 col4\" >0.9163</td>\n",
       "      <td id=\"T_3eb3f_row4_col5\" class=\"data row4 col5\" >0.0</td>\n",
       "      <td id=\"T_3eb3f_row4_col6\" class=\"data row4 col6\" >0.719</td>\n",
       "      <td id=\"T_3eb3f_row4_col7\" class=\"data row4 col7\" >0.0</td>\n",
       "      <td id=\"T_3eb3f_row4_col8\" class=\"data row4 col8\" >1.1362</td>\n",
       "    </tr>\n",
       "    <tr>\n",
       "      <th id=\"T_3eb3f_level0_row5\" class=\"row_heading level0 row5\" ></th>\n",
       "      <td id=\"T_3eb3f_row5_col0\" class=\"data row5 col0\" >AdaBoost</td>\n",
       "      <td id=\"T_3eb3f_row5_col1\" class=\"data row5 col1\" >0.1231</td>\n",
       "      <td id=\"T_3eb3f_row5_col2\" class=\"data row5 col2\" >0.7686</td>\n",
       "      <td id=\"T_3eb3f_row5_col3\" class=\"data row5 col3\" >0.99</td>\n",
       "      <td id=\"T_3eb3f_row5_col4\" class=\"data row5 col4\" >0.8964</td>\n",
       "      <td id=\"T_3eb3f_row5_col5\" class=\"data row5 col5\" >0.257</td>\n",
       "      <td id=\"T_3eb3f_row5_col6\" class=\"data row5 col6\" >0.7626</td>\n",
       "      <td id=\"T_3eb3f_row5_col7\" class=\"data row5 col7\" >0.8311</td>\n",
       "      <td id=\"T_3eb3f_row5_col8\" class=\"data row5 col8\" >1.2543</td>\n",
       "    </tr>\n",
       "    <tr>\n",
       "      <th id=\"T_3eb3f_level0_row6\" class=\"row_heading level0 row6\" ></th>\n",
       "      <td id=\"T_3eb3f_row6_col0\" class=\"data row6 col0\" >kernel ridge</td>\n",
       "      <td id=\"T_3eb3f_row6_col1\" class=\"data row6 col1\" >0.9014</td>\n",
       "      <td id=\"T_3eb3f_row6_col2\" class=\"data row6 col2\" >1.375</td>\n",
       "      <td id=\"T_3eb3f_row6_col3\" class=\"data row6 col3\" >0.9265</td>\n",
       "      <td id=\"T_3eb3f_row6_col4\" class=\"data row6 col4\" >0.8147</td>\n",
       "      <td id=\"T_3eb3f_row6_col5\" class=\"data row6 col5\" >0.9236</td>\n",
       "      <td id=\"T_3eb3f_row6_col6\" class=\"data row6 col6\" >1.1597</td>\n",
       "      <td id=\"T_3eb3f_row6_col7\" class=\"data row6 col7\" >1.461</td>\n",
       "      <td id=\"T_3eb3f_row6_col8\" class=\"data row6 col8\" >1.3277</td>\n",
       "    </tr>\n",
       "    <tr>\n",
       "      <th id=\"T_3eb3f_level0_row7\" class=\"row_heading level0 row7\" ></th>\n",
       "      <td id=\"T_3eb3f_row7_col0\" class=\"data row7 col0\" >RandomForest</td>\n",
       "      <td id=\"T_3eb3f_row7_col1\" class=\"data row7 col1\" >0.4698</td>\n",
       "      <td id=\"T_3eb3f_row7_col2\" class=\"data row7 col2\" >2.2157</td>\n",
       "      <td id=\"T_3eb3f_row7_col3\" class=\"data row7 col3\" >0.9617</td>\n",
       "      <td id=\"T_3eb3f_row7_col4\" class=\"data row7 col4\" >0.7014</td>\n",
       "      <td id=\"T_3eb3f_row7_col5\" class=\"data row7 col5\" >0.5729</td>\n",
       "      <td id=\"T_3eb3f_row7_col6\" class=\"data row7 col6\" >1.2931</td>\n",
       "      <td id=\"T_3eb3f_row7_col7\" class=\"data row7 col7\" >1.4607</td>\n",
       "      <td id=\"T_3eb3f_row7_col8\" class=\"data row7 col8\" >2.0636</td>\n",
       "    </tr>\n",
       "  </tbody>\n",
       "</table>\n"
      ],
      "text/plain": [
       "<pandas.io.formats.style.Styler at 0x7f8a381fa490>"
      ]
     },
     "execution_count": 15,
     "metadata": {},
     "output_type": "execute_result"
    }
   ],
   "source": [
    "print('\\n\\nRun all regressors sorted by least test error')\n",
    "result = wuml.run_every_regressor(data, alpha=0.1, gamma=0.05, l1_ratio=0.05)\n",
    "result.style"
   ]
  }
 ],
 "metadata": {
  "kernelspec": {
   "display_name": "Python 3 (ipykernel)",
   "language": "python",
   "name": "python3"
  },
  "language_info": {
   "codemirror_mode": {
    "name": "ipython",
    "version": 3
   },
   "file_extension": ".py",
   "mimetype": "text/x-python",
   "name": "python",
   "nbconvert_exporter": "python",
   "pygments_lexer": "ipython3",
   "version": "3.7.10"
  }
 },
 "nbformat": 4,
 "nbformat_minor": 2
}
