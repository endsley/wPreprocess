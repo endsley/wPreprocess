{
 "cells": [
  {
   "cell_type": "code",
   "execution_count": 1,
   "metadata": {},
   "outputs": [],
   "source": [
    "#!/usr/bin/env python"
   ]
  },
  {
   "cell_type": "code",
   "execution_count": 2,
   "metadata": {},
   "outputs": [
    {
     "name": "stderr",
     "output_type": "stream",
     "text": [
      "2021-10-19 13:51:28.747637: I tensorflow/stream_executor/platform/default/dso_loader.cc:49] Successfully opened dynamic library libcudart.so.11.0\n"
     ]
    }
   ],
   "source": [
    "import wuml "
   ]
  },
  {
   "cell_type": "code",
   "execution_count": 3,
   "metadata": {},
   "outputs": [],
   "source": [
    "data = wuml.wData('../../data/shap_regress_example_uniform.csv', label_column_name='label', label_type='continuous', first_row_is_label=True)"
   ]
  },
  {
   "cell_type": "code",
   "execution_count": 4,
   "metadata": {},
   "outputs": [
    {
     "name": "stdout",
     "output_type": "stream",
     "text": [
      "Running a single regressor\n",
      "         regressor Train mse Test mse\n",
      "  Predef_NeuralNet    0.0141   0.0114\n"
     ]
    }
   ],
   "source": [
    "reg = wuml.regression(data, regressor='Predef_NeuralNet', max_epoch=150)\n",
    "print('Running a single regressor')\n",
    "print(reg)"
   ]
  },
  {
   "cell_type": "code",
   "execution_count": 5,
   "metadata": {},
   "outputs": [
    {
     "name": "stdout",
     "output_type": "stream",
     "text": [
      "\n",
      "\n",
      "Run all regressors sorted by least test error\n"
     ]
    },
    {
     "data": {
      "text/html": [
       "<style type=\"text/css\">\n",
       "</style>\n",
       "<table id=\"T_fc343_\">\n",
       "  <thead>\n",
       "    <tr>\n",
       "      <th class=\"blank level0\" >&nbsp;</th>\n",
       "      <th class=\"col_heading level0 col0\" >regressor</th>\n",
       "      <th class=\"col_heading level0 col1\" >Train mse</th>\n",
       "      <th class=\"col_heading level0 col2\" >Test mse</th>\n",
       "    </tr>\n",
       "  </thead>\n",
       "  <tbody>\n",
       "    <tr>\n",
       "      <th id=\"T_fc343_level0_row0\" class=\"row_heading level0 row0\" ></th>\n",
       "      <td id=\"T_fc343_row0_col0\" class=\"data row0 col0\" >Predef_NeuralNet</td>\n",
       "      <td id=\"T_fc343_row0_col1\" class=\"data row0 col1\" >0.0006</td>\n",
       "      <td id=\"T_fc343_row0_col2\" class=\"data row0 col2\" >0.0069</td>\n",
       "    </tr>\n",
       "    <tr>\n",
       "      <th id=\"T_fc343_level0_row1\" class=\"row_heading level0 row1\" ></th>\n",
       "      <td id=\"T_fc343_row1_col0\" class=\"data row1 col0\" >linear</td>\n",
       "      <td id=\"T_fc343_row1_col1\" class=\"data row1 col1\" >0.0262</td>\n",
       "      <td id=\"T_fc343_row1_col2\" class=\"data row1 col2\" >0.0302</td>\n",
       "    </tr>\n",
       "    <tr>\n",
       "      <th id=\"T_fc343_level0_row2\" class=\"row_heading level0 row2\" ></th>\n",
       "      <td id=\"T_fc343_row2_col0\" class=\"data row2 col0\" >NeuralNet</td>\n",
       "      <td id=\"T_fc343_row2_col1\" class=\"data row2 col1\" >0.0268</td>\n",
       "      <td id=\"T_fc343_row2_col2\" class=\"data row2 col2\" >0.0391</td>\n",
       "    </tr>\n",
       "    <tr>\n",
       "      <th id=\"T_fc343_level0_row3\" class=\"row_heading level0 row3\" ></th>\n",
       "      <td id=\"T_fc343_row3_col0\" class=\"data row3 col0\" >GP</td>\n",
       "      <td id=\"T_fc343_row3_col1\" class=\"data row3 col1\" >0.0</td>\n",
       "      <td id=\"T_fc343_row3_col2\" class=\"data row3 col2\" >0.0726</td>\n",
       "    </tr>\n",
       "    <tr>\n",
       "      <th id=\"T_fc343_level0_row4\" class=\"row_heading level0 row4\" ></th>\n",
       "      <td id=\"T_fc343_row4_col0\" class=\"data row4 col0\" >kernel ridge</td>\n",
       "      <td id=\"T_fc343_row4_col1\" class=\"data row4 col1\" >1.0277</td>\n",
       "      <td id=\"T_fc343_row4_col2\" class=\"data row4 col2\" >0.5311</td>\n",
       "    </tr>\n",
       "    <tr>\n",
       "      <th id=\"T_fc343_level0_row5\" class=\"row_heading level0 row5\" ></th>\n",
       "      <td id=\"T_fc343_row5_col0\" class=\"data row5 col0\" >AdaBoost</td>\n",
       "      <td id=\"T_fc343_row5_col1\" class=\"data row5 col1\" >0.1231</td>\n",
       "      <td id=\"T_fc343_row5_col2\" class=\"data row5 col2\" >0.7686</td>\n",
       "    </tr>\n",
       "    <tr>\n",
       "      <th id=\"T_fc343_level0_row6\" class=\"row_heading level0 row6\" ></th>\n",
       "      <td id=\"T_fc343_row6_col0\" class=\"data row6 col0\" >RandomForest</td>\n",
       "      <td id=\"T_fc343_row6_col1\" class=\"data row6 col1\" >0.4698</td>\n",
       "      <td id=\"T_fc343_row6_col2\" class=\"data row6 col2\" >2.2157</td>\n",
       "    </tr>\n",
       "    <tr>\n",
       "      <th id=\"T_fc343_level0_row7\" class=\"row_heading level0 row7\" ></th>\n",
       "      <td id=\"T_fc343_row7_col0\" class=\"data row7 col0\" >Elastic net</td>\n",
       "      <td id=\"T_fc343_row7_col1\" class=\"data row7 col1\" >10.7205</td>\n",
       "      <td id=\"T_fc343_row7_col2\" class=\"data row7 col2\" >7.7329</td>\n",
       "    </tr>\n",
       "  </tbody>\n",
       "</table>\n"
      ],
      "text/plain": [
       "<pandas.io.formats.style.Styler at 0x7f52fe58b610>"
      ]
     },
     "execution_count": 5,
     "metadata": {},
     "output_type": "execute_result"
    }
   ],
   "source": [
    "print('\\n\\nRun all regressors sorted by least test error')\n",
    "result = wuml.run_every_regressor(data, order_by='Test mse')\n",
    "result.style"
   ]
  },
  {
   "cell_type": "code",
   "execution_count": 6,
   "metadata": {},
   "outputs": [
    {
     "data": {
      "text/html": [
       "<style type=\"text/css\">\n",
       "</style>\n",
       "<table id=\"T_8c9ec_\">\n",
       "  <thead>\n",
       "    <tr>\n",
       "      <th class=\"blank level0\" >&nbsp;</th>\n",
       "      <th class=\"col_heading level0 col0\" >regressor</th>\n",
       "      <th class=\"col_heading level0 col1\" >Train mse</th>\n",
       "      <th class=\"col_heading level0 col2\" >Test mse</th>\n",
       "    </tr>\n",
       "  </thead>\n",
       "  <tbody>\n",
       "    <tr>\n",
       "      <th id=\"T_8c9ec_level0_row0\" class=\"row_heading level0 row0\" ></th>\n",
       "      <td id=\"T_8c9ec_row0_col0\" class=\"data row0 col0\" >GP</td>\n",
       "      <td id=\"T_8c9ec_row0_col1\" class=\"data row0 col1\" >0.0</td>\n",
       "      <td id=\"T_8c9ec_row0_col2\" class=\"data row0 col2\" >0.0726</td>\n",
       "    </tr>\n",
       "    <tr>\n",
       "      <th id=\"T_8c9ec_level0_row1\" class=\"row_heading level0 row1\" ></th>\n",
       "      <td id=\"T_8c9ec_row1_col0\" class=\"data row1 col0\" >Predef_NeuralNet</td>\n",
       "      <td id=\"T_8c9ec_row1_col1\" class=\"data row1 col1\" >0.0003</td>\n",
       "      <td id=\"T_8c9ec_row1_col2\" class=\"data row1 col2\" >0.0039</td>\n",
       "    </tr>\n",
       "    <tr>\n",
       "      <th id=\"T_8c9ec_level0_row2\" class=\"row_heading level0 row2\" ></th>\n",
       "      <td id=\"T_8c9ec_row2_col0\" class=\"data row2 col0\" >linear</td>\n",
       "      <td id=\"T_8c9ec_row2_col1\" class=\"data row2 col1\" >0.0262</td>\n",
       "      <td id=\"T_8c9ec_row2_col2\" class=\"data row2 col2\" >0.0302</td>\n",
       "    </tr>\n",
       "    <tr>\n",
       "      <th id=\"T_8c9ec_level0_row3\" class=\"row_heading level0 row3\" ></th>\n",
       "      <td id=\"T_8c9ec_row3_col0\" class=\"data row3 col0\" >NeuralNet</td>\n",
       "      <td id=\"T_8c9ec_row3_col1\" class=\"data row3 col1\" >0.0268</td>\n",
       "      <td id=\"T_8c9ec_row3_col2\" class=\"data row3 col2\" >0.0391</td>\n",
       "    </tr>\n",
       "    <tr>\n",
       "      <th id=\"T_8c9ec_level0_row4\" class=\"row_heading level0 row4\" ></th>\n",
       "      <td id=\"T_8c9ec_row4_col0\" class=\"data row4 col0\" >AdaBoost</td>\n",
       "      <td id=\"T_8c9ec_row4_col1\" class=\"data row4 col1\" >0.1231</td>\n",
       "      <td id=\"T_8c9ec_row4_col2\" class=\"data row4 col2\" >0.7686</td>\n",
       "    </tr>\n",
       "    <tr>\n",
       "      <th id=\"T_8c9ec_level0_row5\" class=\"row_heading level0 row5\" ></th>\n",
       "      <td id=\"T_8c9ec_row5_col0\" class=\"data row5 col0\" >RandomForest</td>\n",
       "      <td id=\"T_8c9ec_row5_col1\" class=\"data row5 col1\" >0.4698</td>\n",
       "      <td id=\"T_8c9ec_row5_col2\" class=\"data row5 col2\" >2.2157</td>\n",
       "    </tr>\n",
       "    <tr>\n",
       "      <th id=\"T_8c9ec_level0_row6\" class=\"row_heading level0 row6\" ></th>\n",
       "      <td id=\"T_8c9ec_row6_col0\" class=\"data row6 col0\" >kernel ridge</td>\n",
       "      <td id=\"T_8c9ec_row6_col1\" class=\"data row6 col1\" >1.0277</td>\n",
       "      <td id=\"T_8c9ec_row6_col2\" class=\"data row6 col2\" >0.5311</td>\n",
       "    </tr>\n",
       "    <tr>\n",
       "      <th id=\"T_8c9ec_level0_row7\" class=\"row_heading level0 row7\" ></th>\n",
       "      <td id=\"T_8c9ec_row7_col0\" class=\"data row7 col0\" >Elastic net</td>\n",
       "      <td id=\"T_8c9ec_row7_col1\" class=\"data row7 col1\" >10.7205</td>\n",
       "      <td id=\"T_8c9ec_row7_col2\" class=\"data row7 col2\" >7.7329</td>\n",
       "    </tr>\n",
       "  </tbody>\n",
       "</table>\n"
      ],
      "text/plain": [
       "<pandas.io.formats.style.Styler at 0x7f53e83c54d0>"
      ]
     },
     "execution_count": 6,
     "metadata": {},
     "output_type": "execute_result"
    }
   ],
   "source": [
    "result = wuml.run_every_regressor(data, order_by='Train mse')\n",
    "result.style"
   ]
  },
  {
   "cell_type": "code",
   "execution_count": null,
   "metadata": {},
   "outputs": [],
   "source": []
  }
 ],
 "metadata": {
  "kernelspec": {
   "display_name": "Python 3 (ipykernel)",
   "language": "python",
   "name": "python3"
  },
  "language_info": {
   "codemirror_mode": {
    "name": "ipython",
    "version": 3
   },
   "file_extension": ".py",
   "mimetype": "text/x-python",
   "name": "python",
   "nbconvert_exporter": "python",
   "pygments_lexer": "ipython3",
   "version": "3.7.10"
  }
 },
 "nbformat": 4,
 "nbformat_minor": 2
}
