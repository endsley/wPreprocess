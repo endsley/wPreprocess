{
 "cells": [
  {
   "cell_type": "code",
   "execution_count": 11,
   "metadata": {},
   "outputs": [],
   "source": [
    "#!/usr/bin/env python"
   ]
  },
  {
   "cell_type": "code",
   "execution_count": 12,
   "metadata": {},
   "outputs": [],
   "source": [
    "import wuml "
   ]
  },
  {
   "cell_type": "code",
   "execution_count": 13,
   "metadata": {},
   "outputs": [],
   "source": [
    "data = wuml.wData('../../data/shap_regress_example_uniform.csv', label_column_name='label', label_type='continuous', first_row_is_label=True)"
   ]
  },
  {
   "cell_type": "code",
   "execution_count": 14,
   "metadata": {},
   "outputs": [
    {
     "name": "stdout",
     "output_type": "stream",
     "text": [
      "Running a single regressor\n"
     ]
    },
    {
     "data": {
      "text/html": [
       "<div>\n",
       "<style scoped>\n",
       "    .dataframe tbody tr th:only-of-type {\n",
       "        vertical-align: middle;\n",
       "    }\n",
       "\n",
       "    .dataframe tbody tr th {\n",
       "        vertical-align: top;\n",
       "    }\n",
       "\n",
       "    .dataframe thead th {\n",
       "        text-align: right;\n",
       "    }\n",
       "</style>\n",
       "<table border=\"1\" class=\"dataframe\">\n",
       "  <thead>\n",
       "    <tr style=\"text-align: right;\">\n",
       "      <th></th>\n",
       "      <th>regressor</th>\n",
       "      <th>Train mse</th>\n",
       "      <th>Test mse</th>\n",
       "    </tr>\n",
       "  </thead>\n",
       "  <tbody>\n",
       "    <tr>\n",
       "      <th></th>\n",
       "      <td>AdaBoost</td>\n",
       "      <td>0.1231</td>\n",
       "      <td>0.7686</td>\n",
       "    </tr>\n",
       "  </tbody>\n",
       "</table>\n",
       "</div>"
      ],
      "text/plain": [
       " regressor Train mse Test mse\n",
       "  AdaBoost    0.1231   0.7686"
      ]
     },
     "execution_count": 14,
     "metadata": {},
     "output_type": "execute_result"
    }
   ],
   "source": [
    "reg = wuml.regression(data, regressor='AdaBoost')\n",
    "print('Running a single regressor')\n",
    "reg.result_summary(print_out=False)"
   ]
  },
  {
   "cell_type": "code",
   "execution_count": 16,
   "metadata": {},
   "outputs": [
    {
     "name": "stdout",
     "output_type": "stream",
     "text": [
      "\n",
      "\n",
      "Run all regressors sorted by least test error\n"
     ]
    },
    {
     "data": {
      "text/html": [
       "<style type=\"text/css\">\n",
       "</style>\n",
       "<table id=\"T_3337d_\">\n",
       "  <thead>\n",
       "    <tr>\n",
       "      <th class=\"blank level0\" >&nbsp;</th>\n",
       "      <th class=\"col_heading level0 col0\" >regressor</th>\n",
       "      <th class=\"col_heading level0 col1\" >Train mse</th>\n",
       "      <th class=\"col_heading level0 col2\" >Test mse</th>\n",
       "    </tr>\n",
       "  </thead>\n",
       "  <tbody>\n",
       "    <tr>\n",
       "      <th id=\"T_3337d_level0_row0\" class=\"row_heading level0 row0\" ></th>\n",
       "      <td id=\"T_3337d_row0_col0\" class=\"data row0 col0\" >linear</td>\n",
       "      <td id=\"T_3337d_row0_col1\" class=\"data row0 col1\" >0.0262</td>\n",
       "      <td id=\"T_3337d_row0_col2\" class=\"data row0 col2\" >0.0302</td>\n",
       "    </tr>\n",
       "    <tr>\n",
       "      <th id=\"T_3337d_level0_row1\" class=\"row_heading level0 row1\" ></th>\n",
       "      <td id=\"T_3337d_row1_col0\" class=\"data row1 col0\" >NeuralNet</td>\n",
       "      <td id=\"T_3337d_row1_col1\" class=\"data row1 col1\" >0.0268</td>\n",
       "      <td id=\"T_3337d_row1_col2\" class=\"data row1 col2\" >0.0391</td>\n",
       "    </tr>\n",
       "    <tr>\n",
       "      <th id=\"T_3337d_level0_row2\" class=\"row_heading level0 row2\" ></th>\n",
       "      <td id=\"T_3337d_row2_col0\" class=\"data row2 col0\" >GP</td>\n",
       "      <td id=\"T_3337d_row2_col1\" class=\"data row2 col1\" >0.0</td>\n",
       "      <td id=\"T_3337d_row2_col2\" class=\"data row2 col2\" >0.0726</td>\n",
       "    </tr>\n",
       "    <tr>\n",
       "      <th id=\"T_3337d_level0_row3\" class=\"row_heading level0 row3\" ></th>\n",
       "      <td id=\"T_3337d_row3_col0\" class=\"data row3 col0\" >kernel ridge</td>\n",
       "      <td id=\"T_3337d_row3_col1\" class=\"data row3 col1\" >1.0277</td>\n",
       "      <td id=\"T_3337d_row3_col2\" class=\"data row3 col2\" >0.5311</td>\n",
       "    </tr>\n",
       "    <tr>\n",
       "      <th id=\"T_3337d_level0_row4\" class=\"row_heading level0 row4\" ></th>\n",
       "      <td id=\"T_3337d_row4_col0\" class=\"data row4 col0\" >AdaBoost</td>\n",
       "      <td id=\"T_3337d_row4_col1\" class=\"data row4 col1\" >0.1231</td>\n",
       "      <td id=\"T_3337d_row4_col2\" class=\"data row4 col2\" >0.7686</td>\n",
       "    </tr>\n",
       "    <tr>\n",
       "      <th id=\"T_3337d_level0_row5\" class=\"row_heading level0 row5\" ></th>\n",
       "      <td id=\"T_3337d_row5_col0\" class=\"data row5 col0\" >RandomForest</td>\n",
       "      <td id=\"T_3337d_row5_col1\" class=\"data row5 col1\" >0.4698</td>\n",
       "      <td id=\"T_3337d_row5_col2\" class=\"data row5 col2\" >2.2157</td>\n",
       "    </tr>\n",
       "    <tr>\n",
       "      <th id=\"T_3337d_level0_row6\" class=\"row_heading level0 row6\" ></th>\n",
       "      <td id=\"T_3337d_row6_col0\" class=\"data row6 col0\" >Elastic net</td>\n",
       "      <td id=\"T_3337d_row6_col1\" class=\"data row6 col1\" >10.7205</td>\n",
       "      <td id=\"T_3337d_row6_col2\" class=\"data row6 col2\" >7.7329</td>\n",
       "    </tr>\n",
       "  </tbody>\n",
       "</table>\n"
      ],
      "text/plain": [
       "<pandas.io.formats.style.Styler at 0x7f35ee09b710>"
      ]
     },
     "execution_count": 16,
     "metadata": {},
     "output_type": "execute_result"
    }
   ],
   "source": [
    "print('\\n\\nRun all regressors sorted by least test error')\n",
    "result = wuml.run_every_regressor(data)\n",
    "result.style"
   ]
  },
  {
   "cell_type": "code",
   "execution_count": null,
   "metadata": {},
   "outputs": [],
   "source": []
  }
 ],
 "metadata": {
  "kernelspec": {
   "display_name": "Python 3 (ipykernel)",
   "language": "python",
   "name": "python3"
  },
  "language_info": {
   "codemirror_mode": {
    "name": "ipython",
    "version": 3
   },
   "file_extension": ".py",
   "mimetype": "text/x-python",
   "name": "python",
   "nbconvert_exporter": "python",
   "pygments_lexer": "ipython3",
   "version": "3.7.10"
  }
 },
 "nbformat": 4,
 "nbformat_minor": 2
}
