{
 "cells": [
  {
   "cell_type": "code",
   "execution_count": 1,
   "metadata": {
    "execution": {
     "iopub.execute_input": "2023-04-01T16:46:04.531822Z",
     "iopub.status.busy": "2023-04-01T16:46:04.531346Z",
     "iopub.status.idle": "2023-04-01T16:46:04.539699Z",
     "shell.execute_reply": "2023-04-01T16:46:04.538247Z"
    }
   },
   "outputs": [],
   "source": [
    "#!/usr/bin/env python\n",
    "import os\n",
    "import sys\n",
    "if os.path.exists('/home/chieh/code/wuML'):\n",
    "\tsys.path.insert(0,'/home/chieh/code/wuML')"
   ]
  },
  {
   "cell_type": "code",
   "execution_count": 2,
   "metadata": {
    "execution": {
     "iopub.execute_input": "2023-04-01T16:46:04.544225Z",
     "iopub.status.busy": "2023-04-01T16:46:04.543954Z",
     "iopub.status.idle": "2023-04-01T16:46:06.428781Z",
     "shell.execute_reply": "2023-04-01T16:46:06.427806Z"
    }
   },
   "outputs": [],
   "source": [
    "import wuml\n",
    "import pandas as pd\n",
    "import numpy as np\n",
    "import matplotlib as mpl\n",
    "from IPython.display import display, Math, Latex, HTML\n",
    "#from IPython.display import clear_output, HTML"
   ]
  },
  {
   "cell_type": "markdown",
   "metadata": {},
   "source": [
    "print string"
   ]
  },
  {
   "cell_type": "code",
   "execution_count": 3,
   "metadata": {
    "execution": {
     "iopub.execute_input": "2023-04-01T16:46:06.434459Z",
     "iopub.status.busy": "2023-04-01T16:46:06.434257Z",
     "iopub.status.idle": "2023-04-01T16:46:06.438742Z",
     "shell.execute_reply": "2023-04-01T16:46:06.438056Z"
    }
   },
   "outputs": [
    {
     "name": "stdout",
     "output_type": "stream",
     "text": [
      "Hello String\n"
     ]
    }
   ],
   "source": [
    "wuml.jupyter_print('Hello String')"
   ]
  },
  {
   "cell_type": "markdown",
   "metadata": {},
   "source": [
    "print data frame"
   ]
  },
  {
   "cell_type": "code",
   "execution_count": 4,
   "metadata": {
    "execution": {
     "iopub.execute_input": "2023-04-01T16:46:06.485037Z",
     "iopub.status.busy": "2023-04-01T16:46:06.484631Z",
     "iopub.status.idle": "2023-04-01T16:46:06.496263Z",
     "shell.execute_reply": "2023-04-01T16:46:06.495584Z"
    }
   },
   "outputs": [],
   "source": [
    "df = pd.DataFrame([[38.0, 2.0, 18.0, 22.0, 21, np.nan],[19, 439, 6, 452, 226,232]],\n",
    "                  index=pd.Index(['Tumour (Positive)', 'Non-Tumour (Negative)'], name='Actual Label:'),\n",
    "                  columns=pd.MultiIndex.from_product([['Decision Tree', 'Regression', 'Random'],['Tumour', 'Non-Tumour']], names=['Model:', 'Predicted:']))"
   ]
  },
  {
   "cell_type": "code",
   "execution_count": 5,
   "metadata": {
    "execution": {
     "iopub.execute_input": "2023-04-01T16:46:06.499532Z",
     "iopub.status.busy": "2023-04-01T16:46:06.499308Z",
     "iopub.status.idle": "2023-04-01T16:46:06.560532Z",
     "shell.execute_reply": "2023-04-01T16:46:06.559773Z"
    }
   },
   "outputs": [
    {
     "data": {
      "text/html": [
       "<style type=\"text/css\">\n",
       "#T_87b1d th {\n",
       "  text-align: center;\n",
       "}\n",
       "#T_87b1d td {\n",
       "  text-align: center;\n",
       "}\n",
       "</style>\n",
       "<table id=\"T_87b1d\">\n",
       "  <thead>\n",
       "    <tr>\n",
       "      <th class=\"index_name level0\" >Model:</th>\n",
       "      <th id=\"T_87b1d_level0_col0\" class=\"col_heading level0 col0\" colspan=\"2\">Decision Tree</th>\n",
       "      <th id=\"T_87b1d_level0_col2\" class=\"col_heading level0 col2\" colspan=\"2\">Regression</th>\n",
       "      <th id=\"T_87b1d_level0_col4\" class=\"col_heading level0 col4\" colspan=\"2\">Random</th>\n",
       "    </tr>\n",
       "    <tr>\n",
       "      <th class=\"index_name level1\" >Predicted:</th>\n",
       "      <th id=\"T_87b1d_level1_col0\" class=\"col_heading level1 col0\" >Tumour</th>\n",
       "      <th id=\"T_87b1d_level1_col1\" class=\"col_heading level1 col1\" >Non-Tumour</th>\n",
       "      <th id=\"T_87b1d_level1_col2\" class=\"col_heading level1 col2\" >Tumour</th>\n",
       "      <th id=\"T_87b1d_level1_col3\" class=\"col_heading level1 col3\" >Non-Tumour</th>\n",
       "      <th id=\"T_87b1d_level1_col4\" class=\"col_heading level1 col4\" >Tumour</th>\n",
       "      <th id=\"T_87b1d_level1_col5\" class=\"col_heading level1 col5\" >Non-Tumour</th>\n",
       "    </tr>\n",
       "    <tr>\n",
       "      <th class=\"index_name level0\" >Actual Label:</th>\n",
       "      <th class=\"blank col0\" >&nbsp;</th>\n",
       "      <th class=\"blank col1\" >&nbsp;</th>\n",
       "      <th class=\"blank col2\" >&nbsp;</th>\n",
       "      <th class=\"blank col3\" >&nbsp;</th>\n",
       "      <th class=\"blank col4\" >&nbsp;</th>\n",
       "      <th class=\"blank col5\" >&nbsp;</th>\n",
       "    </tr>\n",
       "  </thead>\n",
       "  <tbody>\n",
       "    <tr>\n",
       "      <th id=\"T_87b1d_level0_row0\" class=\"row_heading level0 row0\" >Tumour (Positive)</th>\n",
       "      <td id=\"T_87b1d_row0_col0\" class=\"data row0 col0\" >38.000000</td>\n",
       "      <td id=\"T_87b1d_row0_col1\" class=\"data row0 col1\" >2.000000</td>\n",
       "      <td id=\"T_87b1d_row0_col2\" class=\"data row0 col2\" >18.000000</td>\n",
       "      <td id=\"T_87b1d_row0_col3\" class=\"data row0 col3\" >22.000000</td>\n",
       "      <td id=\"T_87b1d_row0_col4\" class=\"data row0 col4\" >21</td>\n",
       "      <td id=\"T_87b1d_row0_col5\" class=\"data row0 col5\" >nan</td>\n",
       "    </tr>\n",
       "    <tr>\n",
       "      <th id=\"T_87b1d_level0_row1\" class=\"row_heading level0 row1\" >Non-Tumour (Negative)</th>\n",
       "      <td id=\"T_87b1d_row1_col0\" class=\"data row1 col0\" >19.000000</td>\n",
       "      <td id=\"T_87b1d_row1_col1\" class=\"data row1 col1\" >439.000000</td>\n",
       "      <td id=\"T_87b1d_row1_col2\" class=\"data row1 col2\" >6.000000</td>\n",
       "      <td id=\"T_87b1d_row1_col3\" class=\"data row1 col3\" >452.000000</td>\n",
       "      <td id=\"T_87b1d_row1_col4\" class=\"data row1 col4\" >226</td>\n",
       "      <td id=\"T_87b1d_row1_col5\" class=\"data row1 col5\" >232.000000</td>\n",
       "    </tr>\n",
       "  </tbody>\n",
       "</table>\n"
      ],
      "text/plain": [
       "<pandas.io.formats.style.Styler at 0x7f17a833a0d0>"
      ]
     },
     "metadata": {},
     "output_type": "display_data"
    }
   ],
   "source": [
    "wuml.jupyter_print(df)"
   ]
  },
  {
   "cell_type": "markdown",
   "metadata": {},
   "source": [
    "print latex"
   ]
  },
  {
   "cell_type": "code",
   "execution_count": 6,
   "metadata": {
    "execution": {
     "iopub.execute_input": "2023-04-01T16:46:06.565923Z",
     "iopub.status.busy": "2023-04-01T16:46:06.565739Z",
     "iopub.status.idle": "2023-04-01T16:46:06.571082Z",
     "shell.execute_reply": "2023-04-01T16:46:06.570400Z"
    }
   },
   "outputs": [
    {
     "data": {
      "text/latex": [
       "$\\displaystyle \\int x\\, dx$"
      ],
      "text/plain": [
       "<IPython.core.display.Math object>"
      ]
     },
     "metadata": {},
     "output_type": "display_data"
    },
    {
     "name": "stdout",
     "output_type": "stream",
     "text": [
      "\\int x\\, dx\n"
     ]
    }
   ],
   "source": [
    "wuml.jupyter_print('\\int x\\, dx', latex=True)\n",
    "wuml.jupyter_print('\\int x\\, dx')"
   ]
  }
 ],
 "metadata": {
  "kernelspec": {
   "display_name": "Python 3",
   "language": "python",
   "name": "python3"
  },
  "language_info": {
   "codemirror_mode": {
    "name": "ipython",
    "version": 3
   },
   "file_extension": ".py",
   "mimetype": "text/x-python",
   "name": "python",
   "nbconvert_exporter": "python",
   "pygments_lexer": "ipython3",
   "version": "3.8.10"
  }
 },
 "nbformat": 4,
 "nbformat_minor": 2
}
