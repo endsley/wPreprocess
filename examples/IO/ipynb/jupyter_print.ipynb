{
 "cells": [
  {
   "cell_type": "code",
   "execution_count": 1,
   "metadata": {
    "execution": {
     "iopub.execute_input": "2023-03-15T18:00:38.785275Z",
     "iopub.status.busy": "2023-03-15T18:00:38.784688Z",
     "iopub.status.idle": "2023-03-15T18:00:38.791502Z",
     "shell.execute_reply": "2023-03-15T18:00:38.790648Z"
    }
   },
   "outputs": [],
   "source": [
    "#!/usr/bin/env python\n",
    "import os\n",
    "import sys\n",
    "if os.path.exists('/home/chieh/code/wuML'):\n",
    "\tsys.path.insert(0,'/home/chieh/code/wuML')"
   ]
  },
  {
   "cell_type": "code",
   "execution_count": 2,
   "metadata": {
    "execution": {
     "iopub.execute_input": "2023-03-15T18:00:38.794771Z",
     "iopub.status.busy": "2023-03-15T18:00:38.794570Z",
     "iopub.status.idle": "2023-03-15T18:00:40.651875Z",
     "shell.execute_reply": "2023-03-15T18:00:40.651185Z"
    }
   },
   "outputs": [],
   "source": [
    "import wuml\n",
    "import pandas as pd\n",
    "import numpy as np\n",
    "import matplotlib as mpl\n",
    "from IPython.display import display, Math, Latex, HTML\n",
    "#from IPython.display import clear_output, HTML"
   ]
  },
  {
   "cell_type": "markdown",
   "metadata": {},
   "source": [
    "print string"
   ]
  },
  {
   "cell_type": "code",
   "execution_count": 3,
   "metadata": {
    "execution": {
     "iopub.execute_input": "2023-03-15T18:00:40.655338Z",
     "iopub.status.busy": "2023-03-15T18:00:40.655151Z",
     "iopub.status.idle": "2023-03-15T18:00:40.659483Z",
     "shell.execute_reply": "2023-03-15T18:00:40.658747Z"
    }
   },
   "outputs": [
    {
     "name": "stdout",
     "output_type": "stream",
     "text": [
      "Hello String\n"
     ]
    }
   ],
   "source": [
    "wuml.jupyter_print('Hello String')"
   ]
  },
  {
   "cell_type": "markdown",
   "metadata": {},
   "source": [
    "print data frame"
   ]
  },
  {
   "cell_type": "code",
   "execution_count": 4,
   "metadata": {
    "execution": {
     "iopub.execute_input": "2023-03-15T18:00:40.705123Z",
     "iopub.status.busy": "2023-03-15T18:00:40.704732Z",
     "iopub.status.idle": "2023-03-15T18:00:40.713797Z",
     "shell.execute_reply": "2023-03-15T18:00:40.712996Z"
    }
   },
   "outputs": [],
   "source": [
    "df = pd.DataFrame([[38.0, 2.0, 18.0, 22.0, 21, np.nan],[19, 439, 6, 452, 226,232]],\n",
    "                  index=pd.Index(['Tumour (Positive)', 'Non-Tumour (Negative)'], name='Actual Label:'),\n",
    "                  columns=pd.MultiIndex.from_product([['Decision Tree', 'Regression', 'Random'],['Tumour', 'Non-Tumour']], names=['Model:', 'Predicted:']))"
   ]
  },
  {
   "cell_type": "code",
   "execution_count": 5,
   "metadata": {
    "execution": {
     "iopub.execute_input": "2023-03-15T18:00:40.717565Z",
     "iopub.status.busy": "2023-03-15T18:00:40.717363Z",
     "iopub.status.idle": "2023-03-15T18:00:40.737387Z",
     "shell.execute_reply": "2023-03-15T18:00:40.736464Z"
    }
   },
   "outputs": [
    {
     "data": {
      "text/html": [
       "<div>\n",
       "<style scoped>\n",
       "    .dataframe tbody tr th:only-of-type {\n",
       "        vertical-align: middle;\n",
       "    }\n",
       "\n",
       "    .dataframe tbody tr th {\n",
       "        vertical-align: top;\n",
       "    }\n",
       "\n",
       "    .dataframe thead tr th {\n",
       "        text-align: left;\n",
       "    }\n",
       "\n",
       "    .dataframe thead tr:last-of-type th {\n",
       "        text-align: right;\n",
       "    }\n",
       "</style>\n",
       "<table border=\"1\" class=\"dataframe\">\n",
       "  <thead>\n",
       "    <tr>\n",
       "      <th>Model:</th>\n",
       "      <th colspan=\"2\" halign=\"left\">Decision Tree</th>\n",
       "      <th colspan=\"2\" halign=\"left\">Regression</th>\n",
       "      <th colspan=\"2\" halign=\"left\">Random</th>\n",
       "    </tr>\n",
       "    <tr>\n",
       "      <th>Predicted:</th>\n",
       "      <th>Tumour</th>\n",
       "      <th>Non-Tumour</th>\n",
       "      <th>Tumour</th>\n",
       "      <th>Non-Tumour</th>\n",
       "      <th>Tumour</th>\n",
       "      <th>Non-Tumour</th>\n",
       "    </tr>\n",
       "    <tr>\n",
       "      <th>Actual Label:</th>\n",
       "      <th></th>\n",
       "      <th></th>\n",
       "      <th></th>\n",
       "      <th></th>\n",
       "      <th></th>\n",
       "      <th></th>\n",
       "    </tr>\n",
       "  </thead>\n",
       "  <tbody>\n",
       "    <tr>\n",
       "      <th>Tumour (Positive)</th>\n",
       "      <td>38.0</td>\n",
       "      <td>2.0</td>\n",
       "      <td>18.0</td>\n",
       "      <td>22.0</td>\n",
       "      <td>21</td>\n",
       "      <td>NaN</td>\n",
       "    </tr>\n",
       "    <tr>\n",
       "      <th>Non-Tumour (Negative)</th>\n",
       "      <td>19.0</td>\n",
       "      <td>439.0</td>\n",
       "      <td>6.0</td>\n",
       "      <td>452.0</td>\n",
       "      <td>226</td>\n",
       "      <td>232.0</td>\n",
       "    </tr>\n",
       "  </tbody>\n",
       "</table>\n",
       "</div>"
      ],
      "text/plain": [
       "Model:                Decision Tree            Regression            Random  \\\n",
       "Predicted:                   Tumour Non-Tumour     Tumour Non-Tumour Tumour   \n",
       "Actual Label:                                                                 \n",
       "Tumour (Positive)              38.0        2.0       18.0       22.0     21   \n",
       "Non-Tumour (Negative)          19.0      439.0        6.0      452.0    226   \n",
       "\n",
       "Model:                            \n",
       "Predicted:            Non-Tumour  \n",
       "Actual Label:                     \n",
       "Tumour (Positive)            NaN  \n",
       "Non-Tumour (Negative)      232.0  "
      ]
     },
     "metadata": {},
     "output_type": "display_data"
    }
   ],
   "source": [
    "wuml.jupyter_print(df)"
   ]
  },
  {
   "cell_type": "markdown",
   "metadata": {},
   "source": [
    "print latex"
   ]
  },
  {
   "cell_type": "code",
   "execution_count": 6,
   "metadata": {
    "execution": {
     "iopub.execute_input": "2023-03-15T18:00:40.742121Z",
     "iopub.status.busy": "2023-03-15T18:00:40.741811Z",
     "iopub.status.idle": "2023-03-15T18:00:40.747200Z",
     "shell.execute_reply": "2023-03-15T18:00:40.746515Z"
    }
   },
   "outputs": [
    {
     "data": {
      "text/latex": [
       "$\\displaystyle \\int x\\, dx$"
      ],
      "text/plain": [
       "<IPython.core.display.Math object>"
      ]
     },
     "metadata": {},
     "output_type": "display_data"
    },
    {
     "name": "stdout",
     "output_type": "stream",
     "text": [
      "\\int x\\, dx\n"
     ]
    }
   ],
   "source": [
    "wuml.jupyter_print('\\int x\\, dx', latex=True)\n",
    "wuml.jupyter_print('\\int x\\, dx')"
   ]
  }
 ],
 "metadata": {
  "kernelspec": {
   "display_name": "Python 3",
   "language": "python",
   "name": "python3"
  },
  "language_info": {
   "codemirror_mode": {
    "name": "ipython",
    "version": 3
   },
   "file_extension": ".py",
   "mimetype": "text/x-python",
   "name": "python",
   "nbconvert_exporter": "python",
   "pygments_lexer": "ipython3",
   "version": "3.8.10"
  }
 },
 "nbformat": 4,
 "nbformat_minor": 2
}
