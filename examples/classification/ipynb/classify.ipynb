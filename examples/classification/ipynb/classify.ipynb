{
 "cells": [
  {
   "cell_type": "code",
   "execution_count": 1,
   "metadata": {},
   "outputs": [],
   "source": [
    "#!/usr/bin/env python"
   ]
  },
  {
   "cell_type": "code",
   "execution_count": 2,
   "metadata": {},
   "outputs": [
    {
     "name": "stderr",
     "output_type": "stream",
     "text": [
      "2021-10-20 13:33:21.829920: I tensorflow/stream_executor/platform/default/dso_loader.cc:49] Successfully opened dynamic library libcudart.so.11.0\n"
     ]
    }
   ],
   "source": [
    "import wuml "
   ]
  },
  {
   "cell_type": "code",
   "execution_count": 3,
   "metadata": {},
   "outputs": [],
   "source": [
    "data = wuml.wData('../../data/shap_classifier_example_uniform.csv', label_column_name='label', label_type='continuous', first_row_is_label=True)"
   ]
  },
  {
   "cell_type": "code",
   "execution_count": 11,
   "metadata": {},
   "outputs": [
    {
     "name": "stdout",
     "output_type": "stream",
     "text": [
      "Running a single classifier\n"
     ]
    },
    {
     "name": "stderr",
     "output_type": "stream",
     "text": [
      "Stochastic Optimizer: Maximum iterations (400) reached and the optimization hasn't converged yet.\n"
     ]
    },
    {
     "data": {
      "text/html": [
       "<style type=\"text/css\">\n",
       "</style>\n",
       "<table id=\"T_a6414_\">\n",
       "  <thead>\n",
       "    <tr>\n",
       "      <th class=\"blank level0\" >&nbsp;</th>\n",
       "      <th class=\"col_heading level0 col0\" >classifier</th>\n",
       "      <th class=\"col_heading level0 col1\" >Train</th>\n",
       "      <th class=\"col_heading level0 col2\" >Test</th>\n",
       "    </tr>\n",
       "  </thead>\n",
       "  <tbody>\n",
       "    <tr>\n",
       "      <th id=\"T_a6414_level0_row0\" class=\"row_heading level0 row0\" ></th>\n",
       "      <td id=\"T_a6414_row0_col0\" class=\"data row0 col0\" >NeuralNet</td>\n",
       "      <td id=\"T_a6414_row0_col1\" class=\"data row0 col1\" >1.0</td>\n",
       "      <td id=\"T_a6414_row0_col2\" class=\"data row0 col2\" >0.6667</td>\n",
       "    </tr>\n",
       "  </tbody>\n",
       "</table>\n"
      ],
      "text/plain": [
       "<pandas.io.formats.style.Styler at 0x7f481db19910>"
      ]
     },
     "execution_count": 11,
     "metadata": {},
     "output_type": "execute_result"
    }
   ],
   "source": [
    "cf = wuml.classification(data, classifier='NeuralNet')\n",
    "print('Running a single classifier')\n",
    "result = cf.result_summary(print_out=False)\n",
    "result.style"
   ]
  },
  {
   "cell_type": "code",
   "execution_count": 7,
   "metadata": {},
   "outputs": [
    {
     "name": "stdout",
     "output_type": "stream",
     "text": [
      "\n",
      "\n",
      "Run all regressors sorted by Accuracy\n"
     ]
    },
    {
     "name": "stderr",
     "output_type": "stream",
     "text": [
      "Stochastic Optimizer: Maximum iterations (400) reached and the optimization hasn't converged yet.\n"
     ]
    },
    {
     "data": {
      "text/html": [
       "<style type=\"text/css\">\n",
       "</style>\n",
       "<table id=\"T_8ca5b_\">\n",
       "  <thead>\n",
       "    <tr>\n",
       "      <th class=\"blank level0\" >&nbsp;</th>\n",
       "      <th class=\"col_heading level0 col0\" >classifier</th>\n",
       "      <th class=\"col_heading level0 col1\" >Train</th>\n",
       "      <th class=\"col_heading level0 col2\" >Test</th>\n",
       "    </tr>\n",
       "  </thead>\n",
       "  <tbody>\n",
       "    <tr>\n",
       "      <th id=\"T_8ca5b_level0_row0\" class=\"row_heading level0 row0\" ></th>\n",
       "      <td id=\"T_8ca5b_row0_col0\" class=\"data row0 col0\" >SVM</td>\n",
       "      <td id=\"T_8ca5b_row0_col1\" class=\"data row0 col1\" >1.0</td>\n",
       "      <td id=\"T_8ca5b_row0_col2\" class=\"data row0 col2\" >1.0</td>\n",
       "    </tr>\n",
       "    <tr>\n",
       "      <th id=\"T_8ca5b_level0_row1\" class=\"row_heading level0 row1\" ></th>\n",
       "      <td id=\"T_8ca5b_row1_col0\" class=\"data row1 col0\" >RandomForest</td>\n",
       "      <td id=\"T_8ca5b_row1_col1\" class=\"data row1 col1\" >1.0</td>\n",
       "      <td id=\"T_8ca5b_row1_col2\" class=\"data row1 col2\" >1.0</td>\n",
       "    </tr>\n",
       "    <tr>\n",
       "      <th id=\"T_8ca5b_level0_row2\" class=\"row_heading level0 row2\" ></th>\n",
       "      <td id=\"T_8ca5b_row2_col0\" class=\"data row2 col0\" >GP</td>\n",
       "      <td id=\"T_8ca5b_row2_col1\" class=\"data row2 col1\" >1.0</td>\n",
       "      <td id=\"T_8ca5b_row2_col2\" class=\"data row2 col2\" >0.6667</td>\n",
       "    </tr>\n",
       "    <tr>\n",
       "      <th id=\"T_8ca5b_level0_row3\" class=\"row_heading level0 row3\" ></th>\n",
       "      <td id=\"T_8ca5b_row3_col0\" class=\"data row3 col0\" >KNN</td>\n",
       "      <td id=\"T_8ca5b_row3_col1\" class=\"data row3 col1\" >0.963</td>\n",
       "      <td id=\"T_8ca5b_row3_col2\" class=\"data row3 col2\" >0.6667</td>\n",
       "    </tr>\n",
       "    <tr>\n",
       "      <th id=\"T_8ca5b_level0_row4\" class=\"row_heading level0 row4\" ></th>\n",
       "      <td id=\"T_8ca5b_row4_col0\" class=\"data row4 col0\" >NeuralNet</td>\n",
       "      <td id=\"T_8ca5b_row4_col1\" class=\"data row4 col1\" >1.0</td>\n",
       "      <td id=\"T_8ca5b_row4_col2\" class=\"data row4 col2\" >0.6667</td>\n",
       "    </tr>\n",
       "  </tbody>\n",
       "</table>\n"
      ],
      "text/plain": [
       "<pandas.io.formats.style.Styler at 0x7f4844d29890>"
      ]
     },
     "execution_count": 7,
     "metadata": {},
     "output_type": "execute_result"
    }
   ],
   "source": [
    "print('\\n\\nRun all regressors sorted by Accuracy')\n",
    "result = wuml.run_every_classifier(data, y=data.Y, order_by='Test')\n",
    "result.style"
   ]
  }
 ],
 "metadata": {
  "kernelspec": {
   "display_name": "Python 3 (ipykernel)",
   "language": "python",
   "name": "python3"
  },
  "language_info": {
   "codemirror_mode": {
    "name": "ipython",
    "version": 3
   },
   "file_extension": ".py",
   "mimetype": "text/x-python",
   "name": "python",
   "nbconvert_exporter": "python",
   "pygments_lexer": "ipython3",
   "version": "3.7.10"
  }
 },
 "nbformat": 4,
 "nbformat_minor": 2
}
