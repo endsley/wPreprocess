{
 "cells": [
  {
   "cell_type": "code",
   "execution_count": 13,
   "metadata": {},
   "outputs": [],
   "source": [
    "#!/usr/bin/env python"
   ]
  },
  {
   "cell_type": "code",
   "execution_count": 14,
   "metadata": {},
   "outputs": [],
   "source": [
    "import wuml "
   ]
  },
  {
   "cell_type": "code",
   "execution_count": 15,
   "metadata": {},
   "outputs": [],
   "source": [
    "data = wuml.wData(xpath='../../data/wine.csv', ypath='../../data/wine_label.csv', label_type='discrete', first_row_is_label=False)"
   ]
  },
  {
   "cell_type": "code",
   "execution_count": 16,
   "metadata": {},
   "outputs": [
    {
     "name": "stdout",
     "output_type": "stream",
     "text": [
      "Running a single classifier\n",
      "  classifier   Train\n",
      "  NaiveBayes  0.9888\n"
     ]
    }
   ],
   "source": [
    "cf = wuml.classification(data, classifier='NaiveBayes')\n",
    "print('Running a single classifier')\n",
    "print(cf)"
   ]
  },
  {
   "cell_type": "code",
   "execution_count": 17,
   "metadata": {},
   "outputs": [
    {
     "name": "stdout",
     "output_type": "stream",
     "text": [
      "\n",
      "\n",
      "Run all regressors sorted by Accuracy\n"
     ]
    },
    {
     "name": "stderr",
     "output_type": "stream",
     "text": [
      "The optimal value found for dimension 0 of parameter k1__constant_value is close to the specified upper bound 100000.0. Increasing the bound and calling fit again may find a better value.\n",
      "Stochastic Optimizer: Maximum iterations (400) reached and the optimization hasn't converged yet.\n"
     ]
    },
    {
     "name": "stdout",
     "output_type": "stream",
     "text": [
      "     0\n",
      "0    0\n",
      "1    0\n",
      "2    0\n",
      "3    0\n",
      "4    0\n",
      "..  ..\n",
      "173  2\n",
      "174  2\n",
      "175  2\n",
      "176  2\n",
      "177  2\n",
      "\n",
      "[178 rows x 1 columns]\n"
     ]
    },
    {
     "data": {
      "text/plain": [
       "pandas.core.frame.DataFrame"
      ]
     },
     "execution_count": 17,
     "metadata": {},
     "output_type": "execute_result"
    }
   ],
   "source": [
    "print('\\n\\nRun all regressors sorted by Accuracy')\n",
    "results = wuml.run_every_classifier(data, y=data.Y, order_by='Test')\n",
    "Y = results['GP'](data)\n",
    "print(Y)"
   ]
  },
  {
   "cell_type": "code",
   "execution_count": 18,
   "metadata": {},
   "outputs": [
    {
     "data": {
      "text/html": [
       "<style type=\"text/css\">\n",
       "</style>\n",
       "<table id=\"T_f3220_\">\n",
       "  <thead>\n",
       "    <tr>\n",
       "      <th class=\"blank level0\" >&nbsp;</th>\n",
       "      <th class=\"col_heading level0 col0\" >classifier</th>\n",
       "      <th class=\"col_heading level0 col1\" >Train</th>\n",
       "      <th class=\"col_heading level0 col2\" >Test</th>\n",
       "    </tr>\n",
       "  </thead>\n",
       "  <tbody>\n",
       "    <tr>\n",
       "      <th id=\"T_f3220_level0_row0\" class=\"row_heading level0 row0\" ></th>\n",
       "      <td id=\"T_f3220_row0_col0\" class=\"data row0 col0\" >SVM</td>\n",
       "      <td id=\"T_f3220_row0_col1\" class=\"data row0 col1\" >1.0</td>\n",
       "      <td id=\"T_f3220_row0_col2\" class=\"data row0 col2\" >1.0</td>\n",
       "    </tr>\n",
       "    <tr>\n",
       "      <th id=\"T_f3220_level0_row1\" class=\"row_heading level0 row1\" ></th>\n",
       "      <td id=\"T_f3220_row1_col0\" class=\"data row1 col0\" >RandomForest</td>\n",
       "      <td id=\"T_f3220_row1_col1\" class=\"data row1 col1\" >1.0</td>\n",
       "      <td id=\"T_f3220_row1_col2\" class=\"data row1 col2\" >1.0</td>\n",
       "    </tr>\n",
       "    <tr>\n",
       "      <th id=\"T_f3220_level0_row2\" class=\"row_heading level0 row2\" ></th>\n",
       "      <td id=\"T_f3220_row2_col0\" class=\"data row2 col0\" >LDA</td>\n",
       "      <td id=\"T_f3220_row2_col1\" class=\"data row2 col1\" >1.0</td>\n",
       "      <td id=\"T_f3220_row2_col2\" class=\"data row2 col2\" >1.0</td>\n",
       "    </tr>\n",
       "    <tr>\n",
       "      <th id=\"T_f3220_level0_row3\" class=\"row_heading level0 row3\" ></th>\n",
       "      <td id=\"T_f3220_row3_col0\" class=\"data row3 col0\" >GP</td>\n",
       "      <td id=\"T_f3220_row3_col1\" class=\"data row3 col1\" >0.9938</td>\n",
       "      <td id=\"T_f3220_row3_col2\" class=\"data row3 col2\" >1.0</td>\n",
       "    </tr>\n",
       "    <tr>\n",
       "      <th id=\"T_f3220_level0_row4\" class=\"row_heading level0 row4\" ></th>\n",
       "      <td id=\"T_f3220_row4_col0\" class=\"data row4 col0\" >NaiveBayes</td>\n",
       "      <td id=\"T_f3220_row4_col1\" class=\"data row4 col1\" >0.9812</td>\n",
       "      <td id=\"T_f3220_row4_col2\" class=\"data row4 col2\" >1.0</td>\n",
       "    </tr>\n",
       "    <tr>\n",
       "      <th id=\"T_f3220_level0_row5\" class=\"row_heading level0 row5\" ></th>\n",
       "      <td id=\"T_f3220_row5_col0\" class=\"data row5 col0\" >IKDR</td>\n",
       "      <td id=\"T_f3220_row5_col1\" class=\"data row5 col1\" >0.9812</td>\n",
       "      <td id=\"T_f3220_row5_col2\" class=\"data row5 col2\" >1.0</td>\n",
       "    </tr>\n",
       "    <tr>\n",
       "      <th id=\"T_f3220_level0_row6\" class=\"row_heading level0 row6\" ></th>\n",
       "      <td id=\"T_f3220_row6_col0\" class=\"data row6 col0\" >NeuralNet</td>\n",
       "      <td id=\"T_f3220_row6_col1\" class=\"data row6 col1\" >0.95</td>\n",
       "      <td id=\"T_f3220_row6_col2\" class=\"data row6 col2\" >0.9444</td>\n",
       "    </tr>\n",
       "    <tr>\n",
       "      <th id=\"T_f3220_level0_row7\" class=\"row_heading level0 row7\" ></th>\n",
       "      <td id=\"T_f3220_row7_col0\" class=\"data row7 col0\" >KNN</td>\n",
       "      <td id=\"T_f3220_row7_col1\" class=\"data row7 col1\" >0.8312</td>\n",
       "      <td id=\"T_f3220_row7_col2\" class=\"data row7 col2\" >0.8333</td>\n",
       "    </tr>\n",
       "  </tbody>\n",
       "</table>\n"
      ],
      "text/plain": [
       "<pandas.io.formats.style.Styler at 0x7fc08c0d0f50>"
      ]
     },
     "execution_count": 18,
     "metadata": {},
     "output_type": "execute_result"
    }
   ],
   "source": [
    "results['Train/Test Summary'].style"
   ]
  }
 ],
 "metadata": {
  "kernelspec": {
   "display_name": "Python 3 (ipykernel)",
   "language": "python",
   "name": "python3"
  },
  "language_info": {
   "codemirror_mode": {
    "name": "ipython",
    "version": 3
   },
   "file_extension": ".py",
   "mimetype": "text/x-python",
   "name": "python",
   "nbconvert_exporter": "python",
   "pygments_lexer": "ipython3",
   "version": "3.7.10"
  }
 },
 "nbformat": 4,
 "nbformat_minor": 2
}
