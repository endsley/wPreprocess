{
 "cells": [
  {
   "cell_type": "code",
   "execution_count": 1,
   "metadata": {
    "execution": {
     "iopub.execute_input": "2023-04-01T16:19:48.168481Z",
     "iopub.status.busy": "2023-04-01T16:19:48.167930Z",
     "iopub.status.idle": "2023-04-01T16:19:48.173567Z",
     "shell.execute_reply": "2023-04-01T16:19:48.172689Z"
    }
   },
   "outputs": [],
   "source": [
    "#!/usr/bin/env python\n",
    "import os \n",
    "import sys"
   ]
  },
  {
   "cell_type": "code",
   "execution_count": 2,
   "metadata": {
    "execution": {
     "iopub.execute_input": "2023-04-01T16:19:48.177414Z",
     "iopub.status.busy": "2023-04-01T16:19:48.177188Z",
     "iopub.status.idle": "2023-04-01T16:19:48.181815Z",
     "shell.execute_reply": "2023-04-01T16:19:48.180831Z"
    }
   },
   "outputs": [],
   "source": [
    "if os.path.exists('/home/chieh/code/wPlotLib'):\n",
    "\tsys.path.insert(0,'/home/chieh/code/wPlotLib')\n",
    "if os.path.exists('/home/chieh/code/wuML'):\n",
    "\tsys.path.insert(0,'/home/chieh/code/wuML')"
   ]
  },
  {
   "cell_type": "code",
   "execution_count": 3,
   "metadata": {
    "execution": {
     "iopub.execute_input": "2023-04-01T16:19:48.185599Z",
     "iopub.status.busy": "2023-04-01T16:19:48.185349Z",
     "iopub.status.idle": "2023-04-01T16:19:49.956583Z",
     "shell.execute_reply": "2023-04-01T16:19:49.955741Z"
    }
   },
   "outputs": [],
   "source": [
    "from wuml.IO import jupyter_print\n",
    "from wuml.distance_between_distributions import mmd\n",
    "import numpy as np"
   ]
  },
  {
   "cell_type": "code",
   "execution_count": 4,
   "metadata": {
    "execution": {
     "iopub.execute_input": "2023-04-01T16:19:49.961818Z",
     "iopub.status.busy": "2023-04-01T16:19:49.961628Z",
     "iopub.status.idle": "2023-04-01T16:19:49.965445Z",
     "shell.execute_reply": "2023-04-01T16:19:49.964709Z"
    }
   },
   "outputs": [],
   "source": [
    "X = np.random.randn(50,2)\t\t\t# X and Y have samples from the same distribution\n",
    "Y = np.random.randn(50,2)\n",
    "Z = np.random.rand(50,2) + 2\t\t# X and Z are different"
   ]
  },
  {
   "cell_type": "markdown",
   "metadata": {},
   "source": [
    "X, Y, and Z are just matrices of data"
   ]
  },
  {
   "cell_type": "code",
   "execution_count": 5,
   "metadata": {
    "execution": {
     "iopub.execute_input": "2023-04-01T16:19:49.969674Z",
     "iopub.status.busy": "2023-04-01T16:19:49.969494Z",
     "iopub.status.idle": "2023-04-01T16:19:49.974998Z",
     "shell.execute_reply": "2023-04-01T16:19:49.974365Z"
    }
   },
   "outputs": [],
   "source": [
    "Dxy = mmd(X,Y)\n",
    "Dxz = mmd(X,Z)"
   ]
  },
  {
   "cell_type": "code",
   "execution_count": 6,
   "metadata": {
    "execution": {
     "iopub.execute_input": "2023-04-01T16:19:49.979593Z",
     "iopub.status.busy": "2023-04-01T16:19:49.979385Z",
     "iopub.status.idle": "2023-04-01T16:19:49.983623Z",
     "shell.execute_reply": "2023-04-01T16:19:49.982962Z"
    }
   },
   "outputs": [
    {
     "name": "stdout",
     "output_type": "stream",
     "text": [
      "D(X,Y) = 0.0158\n",
      "D(X,Z) = 1.1025\n"
     ]
    }
   ],
   "source": [
    "jupyter_print('D(X,Y) = %.4f'%Dxy)\n",
    "jupyter_print('D(X,Z) = %.4f'%Dxz)"
   ]
  }
 ],
 "metadata": {
  "kernelspec": {
   "display_name": "Python 3",
   "language": "python",
   "name": "python3"
  },
  "language_info": {
   "codemirror_mode": {
    "name": "ipython",
    "version": 3
   },
   "file_extension": ".py",
   "mimetype": "text/x-python",
   "name": "python",
   "nbconvert_exporter": "python",
   "pygments_lexer": "ipython3",
   "version": "3.8.10"
  }
 },
 "nbformat": 4,
 "nbformat_minor": 2
}
