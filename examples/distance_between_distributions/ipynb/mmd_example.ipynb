{
 "cells": [
  {
   "cell_type": "code",
   "execution_count": 1,
   "metadata": {
    "execution": {
     "iopub.execute_input": "2023-04-18T20:01:54.480181Z",
     "iopub.status.busy": "2023-04-18T20:01:54.479708Z",
     "iopub.status.idle": "2023-04-18T20:01:54.484715Z",
     "shell.execute_reply": "2023-04-18T20:01:54.483847Z"
    }
   },
   "outputs": [],
   "source": [
    "#!/usr/bin/env python\n",
    "import os \n",
    "import sys"
   ]
  },
  {
   "cell_type": "code",
   "execution_count": 2,
   "metadata": {
    "execution": {
     "iopub.execute_input": "2023-04-18T20:01:54.490613Z",
     "iopub.status.busy": "2023-04-18T20:01:54.490335Z",
     "iopub.status.idle": "2023-04-18T20:01:54.495413Z",
     "shell.execute_reply": "2023-04-18T20:01:54.494331Z"
    }
   },
   "outputs": [],
   "source": [
    "if os.path.exists('/home/chieh/code/wPlotLib'):\n",
    "\tsys.path.insert(0,'/home/chieh/code/wPlotLib')\n",
    "if os.path.exists('/home/chieh/code/wuML'):\n",
    "\tsys.path.insert(0,'/home/chieh/code/wuML')"
   ]
  },
  {
   "cell_type": "code",
   "execution_count": 3,
   "metadata": {
    "execution": {
     "iopub.execute_input": "2023-04-18T20:01:54.499218Z",
     "iopub.status.busy": "2023-04-18T20:01:54.498956Z",
     "iopub.status.idle": "2023-04-18T20:01:56.286694Z",
     "shell.execute_reply": "2023-04-18T20:01:56.285891Z"
    }
   },
   "outputs": [],
   "source": [
    "from wuml.IO import jupyter_print\n",
    "from wuml.distance_between_distributions import mmd\n",
    "import numpy as np"
   ]
  },
  {
   "cell_type": "code",
   "execution_count": 4,
   "metadata": {
    "execution": {
     "iopub.execute_input": "2023-04-18T20:01:56.291975Z",
     "iopub.status.busy": "2023-04-18T20:01:56.291766Z",
     "iopub.status.idle": "2023-04-18T20:01:56.295455Z",
     "shell.execute_reply": "2023-04-18T20:01:56.294760Z"
    }
   },
   "outputs": [],
   "source": [
    "X = np.random.randn(50,2)\t\t\t# X and Y have samples from the same distribution\n",
    "Y = np.random.randn(50,2)\n",
    "Z = np.random.rand(50,2) + 2\t\t# X and Z are different"
   ]
  },
  {
   "cell_type": "markdown",
   "metadata": {},
   "source": [
    "X, Y, and Z are just matrices of data"
   ]
  },
  {
   "cell_type": "code",
   "execution_count": 5,
   "metadata": {
    "execution": {
     "iopub.execute_input": "2023-04-18T20:01:56.299501Z",
     "iopub.status.busy": "2023-04-18T20:01:56.299273Z",
     "iopub.status.idle": "2023-04-18T20:01:56.305208Z",
     "shell.execute_reply": "2023-04-18T20:01:56.304281Z"
    }
   },
   "outputs": [],
   "source": [
    "Dxy = mmd(X,Y)\n",
    "Dxz = mmd(X,Z)"
   ]
  },
  {
   "cell_type": "code",
   "execution_count": 6,
   "metadata": {
    "execution": {
     "iopub.execute_input": "2023-04-18T20:01:56.308253Z",
     "iopub.status.busy": "2023-04-18T20:01:56.308054Z",
     "iopub.status.idle": "2023-04-18T20:01:56.312199Z",
     "shell.execute_reply": "2023-04-18T20:01:56.311441Z"
    }
   },
   "outputs": [
    {
     "name": "stdout",
     "output_type": "stream",
     "text": [
      "D(X,Y) = 0.0158\n",
      "D(X,Z) = 1.1025\n"
     ]
    }
   ],
   "source": [
    "jupyter_print('D(X,Y) = %.4f'%Dxy)\n",
    "jupyter_print('D(X,Z) = %.4f'%Dxz)"
   ]
  }
 ],
 "metadata": {
  "kernelspec": {
   "display_name": "Python 3",
   "language": "python",
   "name": "python3"
  },
  "language_info": {
   "codemirror_mode": {
    "name": "ipython",
    "version": 3
   },
   "file_extension": ".py",
   "mimetype": "text/x-python",
   "name": "python",
   "nbconvert_exporter": "python",
   "pygments_lexer": "ipython3",
   "version": "3.8.10"
  }
 },
 "nbformat": 4,
 "nbformat_minor": 2
}
