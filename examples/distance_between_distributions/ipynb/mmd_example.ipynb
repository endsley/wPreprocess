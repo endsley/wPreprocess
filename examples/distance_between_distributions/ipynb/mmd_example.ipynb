{
 "cells": [
  {
   "cell_type": "code",
   "execution_count": 1,
   "metadata": {
    "execution": {
     "iopub.execute_input": "2023-03-19T13:22:19.973822Z",
     "iopub.status.busy": "2023-03-19T13:22:19.973358Z",
     "iopub.status.idle": "2023-03-19T13:22:19.979562Z",
     "shell.execute_reply": "2023-03-19T13:22:19.978329Z"
    }
   },
   "outputs": [],
   "source": [
    "#!/usr/bin/env python\n",
    "import os \n",
    "import sys"
   ]
  },
  {
   "cell_type": "code",
   "execution_count": 2,
   "metadata": {
    "execution": {
     "iopub.execute_input": "2023-03-19T13:22:19.983317Z",
     "iopub.status.busy": "2023-03-19T13:22:19.983072Z",
     "iopub.status.idle": "2023-03-19T13:22:19.988007Z",
     "shell.execute_reply": "2023-03-19T13:22:19.986929Z"
    }
   },
   "outputs": [],
   "source": [
    "if os.path.exists('/home/chieh/code/wPlotLib'):\n",
    "\tsys.path.insert(0,'/home/chieh/code/wPlotLib')\n",
    "if os.path.exists('/home/chieh/code/wuML'):\n",
    "\tsys.path.insert(0,'/home/chieh/code/wuML')"
   ]
  },
  {
   "cell_type": "code",
   "execution_count": 3,
   "metadata": {
    "execution": {
     "iopub.execute_input": "2023-03-19T13:22:19.991929Z",
     "iopub.status.busy": "2023-03-19T13:22:19.991639Z",
     "iopub.status.idle": "2023-03-19T13:22:21.496192Z",
     "shell.execute_reply": "2023-03-19T13:22:21.495401Z"
    }
   },
   "outputs": [],
   "source": [
    "from wuml.IO import jupyter_print\n",
    "from wuml.distance_between_distributions import mmd\n",
    "import numpy as np"
   ]
  },
  {
   "cell_type": "code",
   "execution_count": 4,
   "metadata": {
    "execution": {
     "iopub.execute_input": "2023-03-19T13:22:21.500627Z",
     "iopub.status.busy": "2023-03-19T13:22:21.500457Z",
     "iopub.status.idle": "2023-03-19T13:22:21.504048Z",
     "shell.execute_reply": "2023-03-19T13:22:21.503289Z"
    }
   },
   "outputs": [],
   "source": [
    "X = np.random.randn(50,2)\t\t\t# X and Y have samples from the same distribution\n",
    "Y = np.random.randn(50,2)\n",
    "Z = np.random.rand(50,2) + 2\t\t# X and Z are different"
   ]
  },
  {
   "cell_type": "markdown",
   "metadata": {},
   "source": [
    "X, Y, and Z are just matrices of data"
   ]
  },
  {
   "cell_type": "code",
   "execution_count": 5,
   "metadata": {
    "execution": {
     "iopub.execute_input": "2023-03-19T13:22:21.508785Z",
     "iopub.status.busy": "2023-03-19T13:22:21.508558Z",
     "iopub.status.idle": "2023-03-19T13:22:21.514228Z",
     "shell.execute_reply": "2023-03-19T13:22:21.513540Z"
    }
   },
   "outputs": [],
   "source": [
    "Dxy = mmd(X,Y)\n",
    "Dxz = mmd(X,Z)"
   ]
  },
  {
   "cell_type": "code",
   "execution_count": 6,
   "metadata": {
    "execution": {
     "iopub.execute_input": "2023-03-19T13:22:21.517569Z",
     "iopub.status.busy": "2023-03-19T13:22:21.517339Z",
     "iopub.status.idle": "2023-03-19T13:22:21.521771Z",
     "shell.execute_reply": "2023-03-19T13:22:21.521007Z"
    }
   },
   "outputs": [
    {
     "name": "stdout",
     "output_type": "stream",
     "text": [
      "D(X,Y) = 0.0158\n",
      "D(X,Z) = 1.1025\n",
      "\n"
     ]
    }
   ],
   "source": [
    "jupyter_print('D(X,Y) = %.4f'%Dxy)\n",
    "jupyter_print('D(X,Z) = %.4f\\n'%Dxz)"
   ]
  }
 ],
 "metadata": {
  "kernelspec": {
   "display_name": "Python 3",
   "language": "python",
   "name": "python3"
  },
  "language_info": {
   "codemirror_mode": {
    "name": "ipython",
    "version": 3
   },
   "file_extension": ".py",
   "mimetype": "text/x-python",
   "name": "python",
   "nbconvert_exporter": "python",
   "pygments_lexer": "ipython3",
   "version": "3.8.10"
  }
 },
 "nbformat": 4,
 "nbformat_minor": 2
}
